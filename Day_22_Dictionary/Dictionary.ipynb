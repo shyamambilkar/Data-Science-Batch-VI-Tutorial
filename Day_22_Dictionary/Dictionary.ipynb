{
 "cells": [
  {
   "cell_type": "markdown",
   "id": "73373499",
   "metadata": {},
   "source": [
    "# Dictionary - Copy"
   ]
  },
  {
   "cell_type": "code",
   "execution_count": 1,
   "id": "2af4f27a",
   "metadata": {},
   "outputs": [],
   "source": [
    "my_dict = {'name':'Shyam',\n",
    "          'post':'Data Engineer',\n",
    "          'salary':150000,\n",
    "          'location':'Pune',\n",
    "          'branch':'Nagpur'}"
   ]
  },
  {
   "cell_type": "code",
   "execution_count": 3,
   "id": "cd9690f6",
   "metadata": {},
   "outputs": [
    {
     "name": "stdout",
     "output_type": "stream",
     "text": [
      "{'name': 'Shyam', 'post': 'Data Engineer', 'salary': 150000, 'location': 'Pune', 'branch': 'Nagpur'}\n"
     ]
    },
    {
     "data": {
      "text/plain": [
       "{'name': 'Shyam',\n",
       " 'post': 'Data Engineer',\n",
       " 'salary': 150000,\n",
       " 'location': 'Pune',\n",
       " 'branch': 'Nagpur'}"
      ]
     },
     "execution_count": 3,
     "metadata": {},
     "output_type": "execute_result"
    }
   ],
   "source": [
    "new_dict = my_dict.copy()\n",
    "print(new_dict)\n",
    "new_dict"
   ]
  },
  {
   "cell_type": "code",
   "execution_count": 4,
   "id": "8c52ff17",
   "metadata": {},
   "outputs": [],
   "source": [
    "my_dict = {'name':'Shyam',\n",
    "          'post':'Data Engineer',\n",
    "          'salary':150000,\n",
    "          'location':'Pune',\n",
    "          'branch':'Nagpur'}"
   ]
  },
  {
   "cell_type": "code",
   "execution_count": 5,
   "id": "30b86fc0",
   "metadata": {},
   "outputs": [
    {
     "name": "stdout",
     "output_type": "stream",
     "text": [
      "{'name': 'Shyam', 'post': 'Data Engineer', 'salary': 150000, 'location': 'Pune', 'branch': 'Nagpur'}\n"
     ]
    }
   ],
   "source": [
    "new_dict = dict(my_dict)\n",
    "print(new_dict)"
   ]
  },
  {
   "cell_type": "code",
   "execution_count": 6,
   "id": "74de7b85",
   "metadata": {},
   "outputs": [
    {
     "data": {
      "text/plain": [
       "{'name': 'Shyam',\n",
       " 'post': 'Data Engineer',\n",
       " 'salary': 150000,\n",
       " 'location': 'Pune',\n",
       " 'branch': 'Nagpur'}"
      ]
     },
     "execution_count": 6,
     "metadata": {},
     "output_type": "execute_result"
    }
   ],
   "source": [
    "new_dict"
   ]
  },
  {
   "cell_type": "markdown",
   "id": "3f4c9577",
   "metadata": {},
   "source": [
    "# Nested Dictionary"
   ]
  },
  {
   "cell_type": "code",
   "execution_count": 7,
   "id": "b9013b0c",
   "metadata": {},
   "outputs": [],
   "source": [
    "my_company = {\n",
    "    'employee1':{\n",
    "          'name':'Shyam',\n",
    "          'post':'Data Engineer',\n",
    "          'salary':150000,\n",
    "          'location':'Pune',\n",
    "          'branch':'Nagpur'\n",
    "    },\n",
    "    'employee2':{\n",
    "          'name':'Sachin',\n",
    "          'post':'Data Scientist',\n",
    "          'salary':50000,\n",
    "          'location':'Pune',\n",
    "          'branch':'Mumbai'\n",
    "    },\n",
    "    'employee3':{\n",
    "          'name':'Sakshi',\n",
    "          'post':'Pyhon Developer',\n",
    "          'salary':65000,\n",
    "          'location':'Banglore',\n",
    "          'branch':'Pune'\n",
    "    }\n",
    "}"
   ]
  },
  {
   "cell_type": "code",
   "execution_count": 8,
   "id": "1d5caa8a",
   "metadata": {},
   "outputs": [
    {
     "name": "stdout",
     "output_type": "stream",
     "text": [
      "{'employee1': {'name': 'Shyam', 'post': 'Data Engineer', 'salary': 150000, 'location': 'Pune', 'branch': 'Nagpur'}, 'employee2': {'name': 'Sachin', 'post': 'Data Scientist', 'salary': 50000, 'location': 'Pune', 'branch': 'Mumbai'}, 'employee3': {'name': 'Sakshi', 'post': 'Pyhon Developer', 'salary': 65000, 'location': 'Banglore', 'branch': 'Pune'}}\n"
     ]
    }
   ],
   "source": [
    "print(my_company)"
   ]
  },
  {
   "cell_type": "code",
   "execution_count": 9,
   "id": "18057231",
   "metadata": {},
   "outputs": [
    {
     "data": {
      "text/plain": [
       "{'employee1': {'name': 'Shyam',\n",
       "  'post': 'Data Engineer',\n",
       "  'salary': 150000,\n",
       "  'location': 'Pune',\n",
       "  'branch': 'Nagpur'},\n",
       " 'employee2': {'name': 'Sachin',\n",
       "  'post': 'Data Scientist',\n",
       "  'salary': 50000,\n",
       "  'location': 'Pune',\n",
       "  'branch': 'Mumbai'},\n",
       " 'employee3': {'name': 'Sakshi',\n",
       "  'post': 'Pyhon Developer',\n",
       "  'salary': 65000,\n",
       "  'location': 'Banglore',\n",
       "  'branch': 'Pune'}}"
      ]
     },
     "execution_count": 9,
     "metadata": {},
     "output_type": "execute_result"
    }
   ],
   "source": [
    "my_company"
   ]
  },
  {
   "cell_type": "code",
   "execution_count": 11,
   "id": "b428bd38",
   "metadata": {},
   "outputs": [],
   "source": [
    "student1 ={\n",
    "    'name':'Garima',\n",
    "    'class': 'BE',\n",
    "    'branch': 'Computer',\n",
    "    'year': 2021\n",
    "},\n",
    "student2 ={\n",
    "    'name':'Sayali',\n",
    "    'class': 'BSC',\n",
    "    'branch': 'Computer',\n",
    "    'year': 2020\n",
    "},\n",
    "student3 ={\n",
    "    'name':'Tejas',\n",
    "    'class': 'BE',\n",
    "    'branch': 'Computer',\n",
    "    'year': 2024\n",
    "}"
   ]
  },
  {
   "cell_type": "code",
   "execution_count": 12,
   "id": "4171c28b",
   "metadata": {},
   "outputs": [],
   "source": [
    "my_class = {\n",
    "    'Stud1':student1,\n",
    "    'Stud2':student2,\n",
    "    'Stud3':student3\n",
    "}"
   ]
  },
  {
   "cell_type": "code",
   "execution_count": 13,
   "id": "6766c19c",
   "metadata": {},
   "outputs": [
    {
     "data": {
      "text/plain": [
       "{'Stud1': ({'name': 'Garima',\n",
       "   'class': 'BE',\n",
       "   'branch': 'Computer',\n",
       "   'year': 2021},),\n",
       " 'Stud2': ({'name': 'Sayali',\n",
       "   'class': 'BSC',\n",
       "   'branch': 'Computer',\n",
       "   'year': 2020},),\n",
       " 'Stud3': {'name': 'Tejas', 'class': 'BE', 'branch': 'Computer', 'year': 2024}}"
      ]
     },
     "execution_count": 13,
     "metadata": {},
     "output_type": "execute_result"
    }
   ],
   "source": [
    "my_class"
   ]
  },
  {
   "cell_type": "code",
   "execution_count": 21,
   "id": "f4dde36a",
   "metadata": {},
   "outputs": [
    {
     "data": {
      "text/plain": [
       "({'name': 'Garima', 'class': 'BE', 'branch': 'Computer', 'year': 2021},)"
      ]
     },
     "execution_count": 21,
     "metadata": {},
     "output_type": "execute_result"
    }
   ],
   "source": [
    "my_class['Stud1']"
   ]
  },
  {
   "cell_type": "code",
   "execution_count": 29,
   "id": "d5d89188",
   "metadata": {},
   "outputs": [
    {
     "ename": "TypeError",
     "evalue": "'tuple' object is not callable",
     "output_type": "error",
     "traceback": [
      "\u001b[1;31m---------------------------------------------------------------------------\u001b[0m",
      "\u001b[1;31mTypeError\u001b[0m                                 Traceback (most recent call last)",
      "\u001b[1;32m<ipython-input-29-2b21248aa889>\u001b[0m in \u001b[0;36m<module>\u001b[1;34m\u001b[0m\n\u001b[1;32m----> 1\u001b[1;33m \u001b[0mmy_class\u001b[0m\u001b[1;33m[\u001b[0m\u001b[1;34m'Stud1'\u001b[0m\u001b[1;33m]\u001b[0m\u001b[1;33m(\u001b[0m\u001b[1;33m[\u001b[0m\u001b[1;34m'name'\u001b[0m\u001b[1;33m]\u001b[0m\u001b[1;33m)\u001b[0m\u001b[1;33m\u001b[0m\u001b[1;33m\u001b[0m\u001b[0m\n\u001b[0m",
      "\u001b[1;31mTypeError\u001b[0m: 'tuple' object is not callable"
     ]
    }
   ],
   "source": [
    "my_class['Stud1'](['name'])"
   ]
  },
  {
   "cell_type": "code",
   "execution_count": 30,
   "id": "24e54861",
   "metadata": {},
   "outputs": [],
   "source": [
    "my_company = {\n",
    "    'employee1':{\n",
    "          'name':'Shyam',\n",
    "          'post':'Data Engineer',\n",
    "          'salary':150000,\n",
    "          'location':'Pune',\n",
    "          'branch':'Nagpur'\n",
    "    },\n",
    "    'employee2':{\n",
    "          'name':'Sachin',\n",
    "          'post':'Data Scientist',\n",
    "          'salary':50000,\n",
    "          'location':'Pune',\n",
    "          'branch':'Mumbai'\n",
    "    },\n",
    "    'employee3':{\n",
    "          'name':'Sakshi',\n",
    "          'post':'Pyhon Developer',\n",
    "          'salary':65000,\n",
    "          'location':'Banglore',\n",
    "          'branch':'Pune'\n",
    "    }\n",
    "}"
   ]
  },
  {
   "cell_type": "code",
   "execution_count": 31,
   "id": "2be5fa0b",
   "metadata": {},
   "outputs": [
    {
     "data": {
      "text/plain": [
       "'Data Engineer'"
      ]
     },
     "execution_count": 31,
     "metadata": {},
     "output_type": "execute_result"
    }
   ],
   "source": [
    "my_company['employee1']['post']"
   ]
  },
  {
   "cell_type": "code",
   "execution_count": 34,
   "id": "8da11433",
   "metadata": {},
   "outputs": [
    {
     "name": "stdout",
     "output_type": "stream",
     "text": [
      "Shyam\n",
      "Sachin\n",
      "Sakshi\n"
     ]
    }
   ],
   "source": [
    "print(my_company['employee1']['name'])\n",
    "print(my_company['employee2']['name'])\n",
    "print(my_company['employee3']['name'])"
   ]
  },
  {
   "cell_type": "code",
   "execution_count": 36,
   "id": "c393f61d",
   "metadata": {},
   "outputs": [],
   "source": [
    "employee3= {\n",
    "          'name':'Sakshi',\n",
    "          'post':'Pyhon Developer',\n",
    "          'salary':65000,\n",
    "          'location':'Banglore',\n",
    "          'branch':'Pune'\n",
    "    }"
   ]
  },
  {
   "cell_type": "code",
   "execution_count": 37,
   "id": "4be10d22",
   "metadata": {},
   "outputs": [
    {
     "name": "stdout",
     "output_type": "stream",
     "text": [
      "Pyhon Developer\n"
     ]
    }
   ],
   "source": [
    "x = employee3.setdefault('post','Data Scientist')\n",
    "print(x)"
   ]
  },
  {
   "cell_type": "code",
   "execution_count": 40,
   "id": "1c76baaf",
   "metadata": {},
   "outputs": [
    {
     "name": "stdout",
     "output_type": "stream",
     "text": [
      "65000\n"
     ]
    }
   ],
   "source": [
    "x = employee3.setdefault('salary','100000')\n",
    "print(x)"
   ]
  },
  {
   "cell_type": "code",
   "execution_count": 42,
   "id": "eb83cbae",
   "metadata": {},
   "outputs": [
    {
     "name": "stdout",
     "output_type": "stream",
     "text": [
      "{'Stud3': 'Shyam', 'Stud2': 'Shyam', 'Stud1': 'Shyam'}\n"
     ]
    }
   ],
   "source": [
    "my_dict1 = {'Stud1','Stud2','Stud3'}\n",
    "my_dict2 = 'Shyam'\n",
    "\n",
    "new_dict = dict.fromkeys(my_dict1,my_dict2)\n",
    "print(new_dict)"
   ]
  },
  {
   "cell_type": "code",
   "execution_count": 43,
   "id": "73ee24c1",
   "metadata": {},
   "outputs": [
    {
     "name": "stdout",
     "output_type": "stream",
     "text": [
      "{'Stud1': 'Shyam'}\n"
     ]
    }
   ],
   "source": [
    "my_dict1 = {'Stud1','Stud1','Stud1'}\n",
    "my_dict2 = 'Shyam'\n",
    "\n",
    "new_dict = dict.fromkeys(my_dict1,my_dict2)\n",
    "print(new_dict)"
   ]
  },
  {
   "cell_type": "code",
   "execution_count": 44,
   "id": "32e971bf",
   "metadata": {},
   "outputs": [
    {
     "name": "stdout",
     "output_type": "stream",
     "text": [
      "{'Stud3': ['Shyam', 'Rahul'], 'Stud2': ['Shyam', 'Rahul'], 'Stud1': ['Shyam', 'Rahul']}\n"
     ]
    }
   ],
   "source": [
    "my_dict1 = {'Stud1','Stud2','Stud3'}\n",
    "my_dict2 = ['Shyam','Rahul']\n",
    "\n",
    "new_dict = dict.fromkeys(my_dict1,my_dict2)\n",
    "print(new_dict)"
   ]
  },
  {
   "cell_type": "code",
   "execution_count": null,
   "id": "954057ea",
   "metadata": {},
   "outputs": [],
   "source": []
  }
 ],
 "metadata": {
  "kernelspec": {
   "display_name": "Python 3",
   "language": "python",
   "name": "python3"
  },
  "language_info": {
   "codemirror_mode": {
    "name": "ipython",
    "version": 3
   },
   "file_extension": ".py",
   "mimetype": "text/x-python",
   "name": "python",
   "nbconvert_exporter": "python",
   "pygments_lexer": "ipython3",
   "version": "3.8.8"
  }
 },
 "nbformat": 4,
 "nbformat_minor": 5
}
