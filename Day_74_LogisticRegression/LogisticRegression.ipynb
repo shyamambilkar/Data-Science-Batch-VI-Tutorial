{
 "cells": [
  {
   "cell_type": "markdown",
   "id": "382ef4f0",
   "metadata": {},
   "source": [
    "# Logistic Regression"
   ]
  },
  {
   "cell_type": "markdown",
   "id": "001cfd93",
   "metadata": {},
   "source": [
    "### 1. Regression"
   ]
  },
  {
   "cell_type": "markdown",
   "id": "a720dae5",
   "metadata": {},
   "source": [
    "1. Regression analysis is powerful statistical analytical technique.\n",
    "2. A Dependent variable interst to used to predict the value other Independent variable\n",
    "3. Regression are used to findout pattern, trend, prediction, \n",
    "4. Findout the relationship between Dependent and Independent Variable"
   ]
  },
  {
   "cell_type": "markdown",
   "id": "6e953a53",
   "metadata": {},
   "source": [
    "**Note: Logistic Regression analsis is predicts the outcoe in a binary variable which has only two outcomes**"
   ]
  },
  {
   "cell_type": "markdown",
   "id": "d3c94170",
   "metadata": {},
   "source": [
    "### 2.Logistic Regression"
   ]
  },
  {
   "cell_type": "markdown",
   "id": "896832c8",
   "metadata": {},
   "source": [
    "1. Logistic Regression is Supervised Machine Leanring algorithm \n",
    "2. Logistic Regession is a predictive modeling technique\n",
    "3. It always involve in the Prediction.\n",
    "4. It estimate the relationship betweeen a Dependent variable(target) and Independent Variable(Predictor)\n",
    "5. Dependent variable is nothing but the variable which you want to predict\n",
    "6. Independent variable different features or input variable\n",
    "7. Logistic Regression predict results in a binary format which is used to predict the outcomes of a categorical dependent variable.\n",
    "8. Output should be descrete or categorical such as\n",
    "9. Example:\n",
    "    1. 0 or 1\n",
    "    2. Yes or No\n",
    "    3. True or False\n",
    "    4. High or Low\n",
    "10. Use sigmoid function or Curve to predict the categorical value threshold value decides the outcome (Win / Loss)"
   ]
  },
  {
   "cell_type": "markdown",
   "id": "8fe18553",
   "metadata": {},
   "source": [
    "### Formula"
   ]
  },
  {
   "cell_type": "markdown",
   "id": "06ab77bb",
   "metadata": {},
   "source": [
    "**y = B0 + B1X1 + b2X2......+BnXn**"
   ]
  },
  {
   "cell_type": "markdown",
   "id": "30eb1759",
   "metadata": {},
   "source": [
    "1. y - stands for the Dependent variable that need to be predicted\n",
    "2. B0 - is the intercept, which basically point on the line which touches y- axis\n",
    "3. B1  - is the slope of line (slope of line positive or negative)\n",
    "4. x =  Independent Variable"
   ]
  },
  {
   "cell_type": "markdown",
   "id": "e6e2662c",
   "metadata": {},
   "source": [
    "### Sigmoid Function"
   ]
  },
  {
   "cell_type": "markdown",
   "id": "6ed24676",
   "metadata": {},
   "source": [
    "![](https://www.gstatic.com/education/formulas2/397133473/en/sigmoid_function.svg)"
   ]
  },
  {
   "cell_type": "markdown",
   "id": "73d6a947",
   "metadata": {},
   "source": [
    "where\n",
    "1. S(x) - Sigmoid Function\n",
    "2. e - Euler\n",
    " \n",
    "![](https://www.gstatic.com/education/formulas2/397133473/en/e.svg)\n",
    "\n",
    "mathematical constant approximately equal to 2.71828 which can be characterized in many ways"
   ]
  },
  {
   "cell_type": "markdown",
   "id": "f7e27211",
   "metadata": {},
   "source": [
    "**apply sigmoid function Linear Regression equation**"
   ]
  },
  {
   "cell_type": "markdown",
   "id": "5f90f8d2",
   "metadata": {},
   "source": [
    "1. If z goes to Positive infinity, Y(predicted ) will becomes 1\n",
    "2. If z goes to Negative infinity, Y(Predicted ) will becomes 0"
   ]
  },
  {
   "cell_type": "markdown",
   "id": "f6eed7a3",
   "metadata": {},
   "source": [
    "### Why Not Linear Regression?"
   ]
  },
  {
   "cell_type": "markdown",
   "id": "4589f6de",
   "metadata": {},
   "source": [
    "1. Linear Regression value of y is need to predict in a range but in Logistic Regression which has two values (binary) either 0 or 1\n",
    "2. Our values Y will be become 0 and 1, The linear line has to be clipped 0 and 1\n",
    "3. In Logistic Regression, dont need to be value below 0 and we dont have value above 1\n",
    "**4. so our values Y will be between 0 and 1 this is main rule of logistic Regression**"
   ]
  },
  {
   "cell_type": "markdown",
   "id": "4abfc772",
   "metadata": {},
   "source": [
    "### Example - 1. 1000 Students data in our dataset, clipped data betweeen 0 and 1 using Logistic Regression"
   ]
  },
  {
   "cell_type": "raw",
   "id": "c8da0454",
   "metadata": {},
   "source": [
    "0 to 34 - Fail\n",
    "    35 to 45 - Third Class\n",
    "    46 to 60 - Second Class\n",
    "    60 to 75 - First Class\n",
    "    75 to 100 - Distinction\n",
    "35 to 100 - Pass"
   ]
  },
  {
   "cell_type": "markdown",
   "id": "64bc0daf",
   "metadata": {},
   "source": [
    "#### There are three different Types of Logistic Regression:\n",
    "    1. Binary Logistic Regression:\n",
    "        1. It has only two outcomes \n",
    "        2. Example:\n",
    "            1. Yes or No\n",
    "            2. 0 or 1\n",
    "    2. Multinomial Logistic Regession:\n",
    "        1. It has more than three or more nominal categories\n",
    "        2. Example:\n",
    "            1. Animals [cat, dog, elephant, rabit]\n",
    "    3. Ordinal Logistic Regression:\n",
    "        1. It has three or more ordinal categories\n",
    "        2. Example:\n",
    "            1. User Rating"
   ]
  },
  {
   "cell_type": "markdown",
   "id": "eb63340e",
   "metadata": {},
   "source": [
    "1. sigmoid function curve convert any value from **- infinity to infinity** to descrete values which is called logistic Regression"
   ]
  },
  {
   "cell_type": "code",
   "execution_count": null,
   "id": "259a2776",
   "metadata": {},
   "outputs": [],
   "source": []
  }
 ],
 "metadata": {
  "kernelspec": {
   "display_name": "Python 3",
   "language": "python",
   "name": "python3"
  },
  "language_info": {
   "codemirror_mode": {
    "name": "ipython",
    "version": 3
   },
   "file_extension": ".py",
   "mimetype": "text/x-python",
   "name": "python",
   "nbconvert_exporter": "python",
   "pygments_lexer": "ipython3",
   "version": "3.8.8"
  }
 },
 "nbformat": 4,
 "nbformat_minor": 5
}
