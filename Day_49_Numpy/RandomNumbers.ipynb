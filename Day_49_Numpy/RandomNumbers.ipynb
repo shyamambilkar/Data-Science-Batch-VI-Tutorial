{
 "cells": [
  {
   "cell_type": "markdown",
   "id": "a3c4c9c1",
   "metadata": {},
   "source": [
    "# Random Modules"
   ]
  },
  {
   "cell_type": "markdown",
   "id": "976d7b35",
   "metadata": {},
   "source": [
    "1. Random number does not mean a different number everytime\n",
    "2. Random means something that can not be logically predicted"
   ]
  },
  {
   "cell_type": "markdown",
   "id": "b40c2c00",
   "metadata": {},
   "source": [
    "### Pseudo Random and True Random"
   ]
  },
  {
   "cell_type": "markdown",
   "id": "80afb2f0",
   "metadata": {},
   "source": [
    "1. Computers works on Programs, and Programs are definative set of instruction.\n",
    "2. So that means there must be some algorithm to generate random number as well.\n",
    "3. If there is a program to generate random number it can be predicted, so it is called as True Random.\n",
    "4. Random Numbers generated through algorithm are called as Pseudo Random\n",
    "5. we do not need truly random numbers, unless its related to security [Example. Encryption Kyes] or\n",
    "6. Basis of application is the randomness [Example. Digital roulette wheels]"
   ]
  },
  {
   "cell_type": "code",
   "execution_count": 1,
   "id": "bc866b49",
   "metadata": {},
   "outputs": [],
   "source": [
    "from numpy import random"
   ]
  },
  {
   "cell_type": "markdown",
   "id": "a1d4c0a1",
   "metadata": {},
   "source": [
    "### Generate random integer number"
   ]
  },
  {
   "cell_type": "code",
   "execution_count": null,
   "id": "e3868eea",
   "metadata": {},
   "outputs": [],
   "source": [
    "x =  random.randint(10)\n",
    "print(x)"
   ]
  },
  {
   "cell_type": "markdown",
   "id": "e8965b11",
   "metadata": {},
   "source": [
    "### Generate random Float number"
   ]
  },
  {
   "cell_type": "code",
   "execution_count": 7,
   "id": "4fd0866c",
   "metadata": {},
   "outputs": [
    {
     "name": "stdout",
     "output_type": "stream",
     "text": [
      "0.49510378750834916\n"
     ]
    }
   ],
   "source": [
    "# return random numbers betweeen 0 and 1\n",
    "x =  random.rand()\n",
    "print(x)"
   ]
  },
  {
   "cell_type": "code",
   "execution_count": 8,
   "id": "e84ca8ef",
   "metadata": {},
   "outputs": [
    {
     "name": "stdout",
     "output_type": "stream",
     "text": [
      "[0.51662786 0.88560873 0.78401008 0.70868808 0.36510359]\n"
     ]
    }
   ],
   "source": [
    "x =  random.rand(5)\n",
    "print(x)"
   ]
  },
  {
   "cell_type": "markdown",
   "id": "9f0c78c3",
   "metadata": {},
   "source": [
    "## Generate Random Array:\n",
    "    1. 1-D Array\n",
    "    2. 2-D Array\n",
    "    3. 3-D Array\n",
    " "
   ]
  },
  {
   "cell_type": "markdown",
   "id": "8e11dce8",
   "metadata": {},
   "source": [
    "### 1. Integer:\n",
    "    1. randint method takes size parameter where you can specify the shape of Array"
   ]
  },
  {
   "cell_type": "code",
   "execution_count": 19,
   "id": "b10efb75",
   "metadata": {},
   "outputs": [
    {
     "name": "stdout",
     "output_type": "stream",
     "text": [
      "[20 43 39 88  7 84 49  0 47 42]\n"
     ]
    }
   ],
   "source": [
    "x = random.randint(100, size =(10))\n",
    "print(x)"
   ]
  },
  {
   "cell_type": "code",
   "execution_count": 11,
   "id": "7c4cfa7b",
   "metadata": {},
   "outputs": [
    {
     "name": "stdout",
     "output_type": "stream",
     "text": [
      "[7 5 8 4 3 6 6]\n"
     ]
    }
   ],
   "source": [
    "x = random.randint(10, size =(7))\n",
    "print(x)"
   ]
  },
  {
   "cell_type": "code",
   "execution_count": 12,
   "id": "52c325ba",
   "metadata": {},
   "outputs": [
    {
     "name": "stdout",
     "output_type": "stream",
     "text": [
      "[[39 15 56 79 33]\n",
      " [56 66 15 57 29]\n",
      " [59 42 30 98 15]]\n"
     ]
    }
   ],
   "source": [
    "x = random.randint(100, size =(3,5))\n",
    "print(x)"
   ]
  },
  {
   "cell_type": "code",
   "execution_count": 13,
   "id": "4395643a",
   "metadata": {},
   "outputs": [
    {
     "name": "stdout",
     "output_type": "stream",
     "text": [
      "[[[79 77 31  9 60]\n",
      "  [56  2 33 71 58]]\n",
      "\n",
      " [[61 67 42 13 94]\n",
      "  [64 53 96 39 92]]\n",
      "\n",
      " [[30 97 80 10 64]\n",
      "  [66 23 63 87  0]]]\n"
     ]
    }
   ],
   "source": [
    "x = random.randint(100, size =(3,2,5))\n",
    "print(x)"
   ]
  },
  {
   "cell_type": "code",
   "execution_count": 14,
   "id": "de8c534d",
   "metadata": {},
   "outputs": [
    {
     "ename": "TypeError",
     "evalue": "rand() got an unexpected keyword argument 'size'",
     "output_type": "error",
     "traceback": [
      "\u001b[1;31m---------------------------------------------------------------------------\u001b[0m",
      "\u001b[1;31mTypeError\u001b[0m                                 Traceback (most recent call last)",
      "\u001b[1;32m<ipython-input-14-e6cefd12948a>\u001b[0m in \u001b[0;36m<module>\u001b[1;34m\u001b[0m\n\u001b[1;32m----> 1\u001b[1;33m \u001b[0mx\u001b[0m \u001b[1;33m=\u001b[0m \u001b[0mrandom\u001b[0m\u001b[1;33m.\u001b[0m\u001b[0mrand\u001b[0m\u001b[1;33m(\u001b[0m\u001b[1;36m100\u001b[0m\u001b[1;33m,\u001b[0m \u001b[0msize\u001b[0m \u001b[1;33m=\u001b[0m\u001b[1;33m(\u001b[0m\u001b[1;36m3\u001b[0m\u001b[1;33m,\u001b[0m\u001b[1;36m2\u001b[0m\u001b[1;33m,\u001b[0m\u001b[1;36m5\u001b[0m\u001b[1;33m)\u001b[0m\u001b[1;33m)\u001b[0m\u001b[1;33m\u001b[0m\u001b[1;33m\u001b[0m\u001b[0m\n\u001b[0m\u001b[0;32m      2\u001b[0m \u001b[0mprint\u001b[0m\u001b[1;33m(\u001b[0m\u001b[0mx\u001b[0m\u001b[1;33m)\u001b[0m\u001b[1;33m\u001b[0m\u001b[1;33m\u001b[0m\u001b[0m\n",
      "\u001b[1;31mTypeError\u001b[0m: rand() got an unexpected keyword argument 'size'"
     ]
    }
   ],
   "source": [
    "x = random.rand(100, size =(3,2,5))\n",
    "print(x)"
   ]
  },
  {
   "cell_type": "markdown",
   "id": "388cd8d9",
   "metadata": {},
   "source": [
    "### 2. Float:\n",
    "    1. The Rand() method also allows to specify the shape of array"
   ]
  },
  {
   "cell_type": "code",
   "execution_count": 16,
   "id": "a3fad09c",
   "metadata": {},
   "outputs": [
    {
     "name": "stdout",
     "output_type": "stream",
     "text": [
      "[0.70832795 0.3713011  0.1495879  0.23425364 0.70589332]\n"
     ]
    }
   ],
   "source": [
    "x =  random.rand(5)\n",
    "print(x)"
   ]
  },
  {
   "cell_type": "code",
   "execution_count": 17,
   "id": "c4970541",
   "metadata": {},
   "outputs": [
    {
     "name": "stdout",
     "output_type": "stream",
     "text": [
      "[[0.96463883 0.57356713 0.76812445 0.62138846 0.21341236]\n",
      " [0.7406816  0.77485444 0.74994917 0.55061469 0.99260417]\n",
      " [0.27555544 0.99309527 0.57221573 0.54424685 0.23543582]]\n"
     ]
    }
   ],
   "source": [
    "x =  random.rand(3,5)\n",
    "print(x)"
   ]
  },
  {
   "cell_type": "code",
   "execution_count": 18,
   "id": "fa2a577c",
   "metadata": {},
   "outputs": [
    {
     "name": "stdout",
     "output_type": "stream",
     "text": [
      "[[[0.04890062 0.90823191 0.88896129 0.95108019 0.59512902]\n",
      "  [0.7184815  0.15799876 0.47914462 0.43126764 0.80826057]]\n",
      "\n",
      " [[0.20124172 0.71617158 0.63275153 0.35628846 0.13903875]\n",
      "  [0.69665827 0.82833449 0.99051443 0.50592269 0.13825773]]\n",
      "\n",
      " [[0.14506193 0.66897178 0.30385535 0.22849522 0.51658434]\n",
      "  [0.26172018 0.36412994 0.46699351 0.26850454 0.74913645]]]\n"
     ]
    }
   ],
   "source": [
    "x =  random.rand(3,2,5)\n",
    "print(x)"
   ]
  },
  {
   "cell_type": "markdown",
   "id": "a7134ee6",
   "metadata": {},
   "source": [
    "## Generate Random Numbers from Array"
   ]
  },
  {
   "cell_type": "markdown",
   "id": "f4f2f0fe",
   "metadata": {},
   "source": [
    "1. choice() method allows you to generate random numbers based on array of Value\n",
    "2. choice() method takes an array as parameter and randomly returns one of the Values\n",
    "3. Choice() method allows you to reutrn array of values\n",
    "4. choice() method takes size as parameter to specify the shape of array"
   ]
  },
  {
   "cell_type": "code",
   "execution_count": 23,
   "id": "727adfdf",
   "metadata": {},
   "outputs": [
    {
     "name": "stdout",
     "output_type": "stream",
     "text": [
      "47\n"
     ]
    }
   ],
   "source": [
    "x = random.choice([20,43,39,88,7,84,49,47,42])\n",
    "print(x)"
   ]
  },
  {
   "cell_type": "code",
   "execution_count": 24,
   "id": "3ad96755",
   "metadata": {},
   "outputs": [
    {
     "name": "stdout",
     "output_type": "stream",
     "text": [
      "[[88 88  7]\n",
      " [88 84 84]]\n"
     ]
    }
   ],
   "source": [
    "x = random.choice([20,43,39,88,7,84,49,47,42], size = (2,3))\n",
    "print(x)"
   ]
  },
  {
   "cell_type": "code",
   "execution_count": 25,
   "id": "137e5f12",
   "metadata": {},
   "outputs": [
    {
     "name": "stdout",
     "output_type": "stream",
     "text": [
      "[[ 7 39 43 43 20]\n",
      " [49 84 88 88 49]\n",
      " [20  7 43 84 43]]\n"
     ]
    }
   ],
   "source": [
    "x = random.choice([20,43,39,88,7,84,49,47,42], size = (3,5))\n",
    "print(x)"
   ]
  },
  {
   "cell_type": "code",
   "execution_count": 26,
   "id": "f0b88ac7",
   "metadata": {},
   "outputs": [
    {
     "name": "stdout",
     "output_type": "stream",
     "text": [
      "[[[43 49 47  7 20]\n",
      "  [39 20 39  7 39]]\n",
      "\n",
      " [[39 43 49 49 20]\n",
      "  [49 49 84  7 42]]\n",
      "\n",
      " [[88 47 84 39  7]\n",
      "  [49 42 20 49 42]]]\n"
     ]
    }
   ],
   "source": [
    "x = random.choice([20,43,39,88,7,84,49,47,42], size = (3,2,5))\n",
    "print(x)"
   ]
  },
  {
   "cell_type": "markdown",
   "id": "de5c88aa",
   "metadata": {},
   "source": [
    "# Data Distribution"
   ]
  },
  {
   "cell_type": "markdown",
   "id": "236b8c3b",
   "metadata": {},
   "source": [
    "### 1. What is Data Distribution?"
   ]
  },
  {
   "cell_type": "markdown",
   "id": "75bed6bc",
   "metadata": {},
   "source": [
    "1. Data distribution is list of all possible values, and how often each value occurs\n",
    "2. List are important when working with statistics and Data Science\n",
    "3. Random module allows you to return randomly generated data distribution"
   ]
  },
  {
   "cell_type": "markdown",
   "id": "7d2ffe1a",
   "metadata": {},
   "source": [
    "### Random Distribution"
   ]
  },
  {
   "cell_type": "markdown",
   "id": "3bf04d3b",
   "metadata": {},
   "source": [
    "1. Random distribution is set of random number that follows certain probability density function\n",
    "2. **probability density function** A function that describes contineous Probability i.e. Probability of all values in an array\n",
    "3. We can generate random numbers based on defined probabiliy choice() method of the random module\n",
    "4. choice() method allows us to specify the probability for each value\n",
    "5. Probability is set of by a number between 0 and 1, \n",
    "6. where 0 means that the will never occors and 1 means that the value will always occurs"
   ]
  },
  {
   "cell_type": "markdown",
   "id": "efa20b0b",
   "metadata": {},
   "source": [
    "### Example"
   ]
  },
  {
   "cell_type": "markdown",
   "id": "c36a009c",
   "metadata": {},
   "source": [
    "1. Generate 1-D array containing 100 values, where each value has to be 3,5,7,9:\n",
    "    1. The Probability for value [3] is set to be [0.1]\n",
    "    2. The Probability for value [5] is set to be [0.3]\n",
    "    3. The Probability for value [7] is set to be [0.6]\n",
    "    4. The Probability for value [9] is set to be [0.0]"
   ]
  },
  {
   "cell_type": "code",
   "execution_count": 28,
   "id": "f63d047b",
   "metadata": {},
   "outputs": [
    {
     "name": "stdout",
     "output_type": "stream",
     "text": [
      "[[3 7 3]\n",
      " [7 5 5]]\n"
     ]
    }
   ],
   "source": [
    "from numpy import random\n",
    "\n",
    "x = random.choice([3,5,7,9], p =[0.1,0.3,0.6,0.0], size = (2,3))\n",
    "print(x)"
   ]
  },
  {
   "cell_type": "markdown",
   "id": "e96eadf4",
   "metadata": {},
   "source": [
    "**Note : The sum of all Probability should be 1** "
   ]
  },
  {
   "cell_type": "markdown",
   "id": "b807a3cf",
   "metadata": {},
   "source": [
    "### There are Different Data Distrubution types:\n",
    "    1. Random Permutation\n",
    "    2. Seaborn Module\n",
    "    3. Normal Distribution (imp)\n",
    "    4. Binomial Distribution (imp)\n",
    "    5. Poission Distribution (imp)\n",
    "    6. Uniform Distribution\n",
    "    7. Logistic Distribution (imp)\n",
    "    8. Multinomial Distribution (imp)\n",
    "    9. Exmponential Distribution\n",
    "    10. Chi Square Distribution (imp)\n",
    "    11. Rayleigh Distribution\n",
    "    12. Pareto Distribution\n",
    "    13. Zipf Distribution "
   ]
  },
  {
   "cell_type": "code",
   "execution_count": null,
   "id": "ac42ff61",
   "metadata": {},
   "outputs": [],
   "source": []
  }
 ],
 "metadata": {
  "kernelspec": {
   "display_name": "Python 3",
   "language": "python",
   "name": "python3"
  },
  "language_info": {
   "codemirror_mode": {
    "name": "ipython",
    "version": 3
   },
   "file_extension": ".py",
   "mimetype": "text/x-python",
   "name": "python",
   "nbconvert_exporter": "python",
   "pygments_lexer": "ipython3",
   "version": "3.8.8"
  }
 },
 "nbformat": 4,
 "nbformat_minor": 5
}
