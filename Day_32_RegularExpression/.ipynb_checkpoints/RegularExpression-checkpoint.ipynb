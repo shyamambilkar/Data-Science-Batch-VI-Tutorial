{
 "cells": [
  {
   "cell_type": "markdown",
   "id": "76f32496",
   "metadata": {},
   "source": [
    "### 4. [^] -Starts with"
   ]
  },
  {
   "cell_type": "code",
   "execution_count": 1,
   "id": "2c0d0d96",
   "metadata": {},
   "outputs": [],
   "source": [
    "import re"
   ]
  },
  {
   "cell_type": "code",
   "execution_count": 2,
   "id": "a8984b65",
   "metadata": {},
   "outputs": [],
   "source": [
    "my_text = \"My name is Shyam and my email id is shyam@gmail.com and phone no are 9923090436\""
   ]
  },
  {
   "cell_type": "code",
   "execution_count": 5,
   "id": "661aa2ba",
   "metadata": {},
   "outputs": [
    {
     "name": "stdout",
     "output_type": "stream",
     "text": [
      "Yes, the string start with, 'MY' is available\n"
     ]
    }
   ],
   "source": [
    "x = re.findall(\"^My\", my_text)\n",
    "\n",
    "if x:\n",
    "    print(\"Yes, the string start with, 'MY' is available\")\n",
    "else:\n",
    "    print(\"No Match\")"
   ]
  },
  {
   "cell_type": "code",
   "execution_count": 4,
   "id": "b7ae9ffd",
   "metadata": {},
   "outputs": [
    {
     "name": "stdout",
     "output_type": "stream",
     "text": [
      "No Match\n"
     ]
    }
   ],
   "source": [
    "x = re.findall(\"^MY\", my_text)\n",
    "\n",
    "if x:\n",
    "    print(\"Yes, the string start with, 'MY' is available\")\n",
    "else:\n",
    "    print(\"No Match\")"
   ]
  },
  {
   "cell_type": "markdown",
   "id": "faf98ab8",
   "metadata": {},
   "source": [
    "## 5. $.- Ends with"
   ]
  },
  {
   "cell_type": "code",
   "execution_count": 6,
   "id": "90c2cd71",
   "metadata": {},
   "outputs": [],
   "source": [
    "my_text = \"My name is Shyam and my email id is shyam@gmail.com and phone no are 9923090436\""
   ]
  },
  {
   "cell_type": "code",
   "execution_count": 7,
   "id": "ba4727c1",
   "metadata": {},
   "outputs": [
    {
     "name": "stdout",
     "output_type": "stream",
     "text": [
      "Yes, the string start with, '9923090436' is available\n"
     ]
    }
   ],
   "source": [
    "x = re.findall(\"9923090436$\", my_text)\n",
    "\n",
    "if x:\n",
    "    print(\"Yes, the string start with, '9923090436' is available\")\n",
    "else:\n",
    "    print(\"No Match\")"
   ]
  },
  {
   "cell_type": "code",
   "execution_count": 8,
   "id": "dd4414fd",
   "metadata": {},
   "outputs": [
    {
     "name": "stdout",
     "output_type": "stream",
     "text": [
      "Yes, the string start with, '9923090436' is available\n"
     ]
    }
   ],
   "source": [
    "x = re.findall(\"6$\", my_text)\n",
    "\n",
    "if x:\n",
    "    print(\"Yes, the string start with, '9923090436' is available\")\n",
    "else:\n",
    "    print(\"No Match\")"
   ]
  },
  {
   "cell_type": "markdown",
   "id": "46153db7",
   "metadata": {},
   "source": [
    "### 6. * :\n",
    "    1. Zero or More occurances\n",
    "    2. Exmaple"
   ]
  },
  {
   "cell_type": "code",
   "execution_count": 9,
   "id": "d3f00d84",
   "metadata": {},
   "outputs": [],
   "source": [
    "my_text = \"My name is Shyam and my email id is shyam@gmail.com and phone no are 9923090436\""
   ]
  },
  {
   "cell_type": "code",
   "execution_count": 12,
   "id": "aedcc1c5",
   "metadata": {},
   "outputs": [
    {
     "name": "stdout",
     "output_type": "stream",
     "text": [
      "['name is Shyam and my']\n"
     ]
    }
   ],
   "source": [
    "x = re.findall(\"n.*my\", my_text)\n",
    "print(x)"
   ]
  },
  {
   "cell_type": "code",
   "execution_count": 14,
   "id": "85894d05",
   "metadata": {},
   "outputs": [
    {
     "name": "stdout",
     "output_type": "stream",
     "text": [
      "['Hello Data']\n"
     ]
    }
   ],
   "source": [
    "my_text = \"Hello Data Science\"\n",
    "\n",
    "x = re.findall(\"He.*a\", my_text)\n",
    "print(x)"
   ]
  },
  {
   "cell_type": "markdown",
   "id": "e102f9ee",
   "metadata": {},
   "source": [
    "## 7. + :\n",
    "    1. one or More occurances\n",
    "    2. Example"
   ]
  },
  {
   "cell_type": "code",
   "execution_count": 20,
   "id": "db497e8a",
   "metadata": {},
   "outputs": [
    {
     "name": "stdout",
     "output_type": "stream",
     "text": [
      "['Hello']\n"
     ]
    }
   ],
   "source": [
    "my_text = \"Hello Data Science\"\n",
    "\n",
    "x = re.findall(\"He.+o\", my_text)\n",
    "print(x)"
   ]
  },
  {
   "cell_type": "markdown",
   "id": "fc63d18c",
   "metadata": {},
   "source": [
    "### 8. ? :\n",
    "    1. zero or one occurances\n",
    "    2. Example"
   ]
  },
  {
   "cell_type": "code",
   "execution_count": 24,
   "id": "15ba2ace",
   "metadata": {},
   "outputs": [
    {
     "name": "stdout",
     "output_type": "stream",
     "text": [
      "[]\n"
     ]
    }
   ],
   "source": [
    "my_text = \"Hello Data Science\"\n",
    "\n",
    "x = re.findall(\"He.?o\", my_text)\n",
    "print(x)"
   ]
  },
  {
   "cell_type": "code",
   "execution_count": 25,
   "id": "12dfd1bb",
   "metadata": {},
   "outputs": [
    {
     "name": "stdout",
     "output_type": "stream",
     "text": [
      "['Helo']\n"
     ]
    }
   ],
   "source": [
    "# one occurances\n",
    "my_text = \"Helo Data Science\"\n",
    "\n",
    "x = re.findall(\"He.?o\", my_text)\n",
    "print(x)"
   ]
  },
  {
   "cell_type": "code",
   "execution_count": 26,
   "id": "ed3bccc3",
   "metadata": {},
   "outputs": [
    {
     "name": "stdout",
     "output_type": "stream",
     "text": [
      "['Heo']\n"
     ]
    }
   ],
   "source": [
    "# zero occurances\n",
    "my_text = \"Heo Data Science\"\n",
    "\n",
    "x = re.findall(\"He.?o\", my_text)\n",
    "print(x)"
   ]
  },
  {
   "cell_type": "markdown",
   "id": "bbca4b8e",
   "metadata": {},
   "source": [
    "### 9. {} :\n",
    "    1. Exact match in the string\n",
    "    2. Example"
   ]
  },
  {
   "cell_type": "code",
   "execution_count": 27,
   "id": "757aad83",
   "metadata": {},
   "outputs": [
    {
     "name": "stdout",
     "output_type": "stream",
     "text": [
      "['Hello Data']\n"
     ]
    }
   ],
   "source": [
    "# zero occurances\n",
    "my_text = \"Hello Data Science\"\n",
    "\n",
    "x = re.findall(\"He.{7}a\", my_text)\n",
    "print(x)"
   ]
  },
  {
   "cell_type": "code",
   "execution_count": 28,
   "id": "c656f4fa",
   "metadata": {},
   "outputs": [
    {
     "name": "stdout",
     "output_type": "stream",
     "text": [
      "['Hello Da']\n"
     ]
    }
   ],
   "source": [
    "# zero occurances\n",
    "my_text = \"Hello Data Science\"\n",
    "\n",
    "x = re.findall(\"He.{5}a\", my_text)\n",
    "print(x)"
   ]
  },
  {
   "cell_type": "code",
   "execution_count": 30,
   "id": "ce8030e6",
   "metadata": {},
   "outputs": [
    {
     "name": "stdout",
     "output_type": "stream",
     "text": [
      "['Hello ']\n"
     ]
    }
   ],
   "source": [
    "# zero occurances\n",
    "my_text = \"Hello Data Science\"\n",
    "\n",
    "x = re.findall(\"He.{4}\", my_text)\n",
    "print(x)"
   ]
  },
  {
   "cell_type": "code",
   "execution_count": 38,
   "id": "61d4c080",
   "metadata": {},
   "outputs": [
    {
     "name": "stdout",
     "output_type": "stream",
     "text": [
      "['9923090436']\n"
     ]
    }
   ],
   "source": [
    "my_text = \"My name is Shyam and my email id is shyam@gmail.com and phone no are 9923090436\"\n",
    "\n",
    "# zero occurances\n",
    "# my_text = \"Hello Data Science\"\n",
    "\n",
    "x = re.findall(\"\\d{10}\", my_text)\n",
    "print(x)"
   ]
  },
  {
   "cell_type": "markdown",
   "id": "8db61527",
   "metadata": {},
   "source": [
    "### 10. | :\n",
    "    1. Either or\n",
    "    2. Example"
   ]
  },
  {
   "cell_type": "code",
   "execution_count": 40,
   "id": "0aecc488",
   "metadata": {},
   "outputs": [
    {
     "name": "stdout",
     "output_type": "stream",
     "text": [
      "['falls']\n",
      "Yes, atleast onc match available in the string\n"
     ]
    }
   ],
   "source": [
    "my_text = \"The rain in spain falls mainly in the plain..!\"\n",
    "\n",
    "x = re.findall(\"falls|stays\", my_text)\n",
    "print(x)\n",
    "\n",
    "if x:\n",
    "    print(\"Yes, atleast onc match available in the string\")\n",
    "else:\n",
    "    print(\"No match\")"
   ]
  },
  {
   "cell_type": "markdown",
   "id": "181373dc",
   "metadata": {},
   "source": [
    "# Special Sequences"
   ]
  },
  {
   "cell_type": "markdown",
   "id": "2766a437",
   "metadata": {},
   "source": [
    "### 1. \\A :\n",
    "    1. Return match if specified characters are the beginning of string\n",
    "    2. Example"
   ]
  },
  {
   "cell_type": "code",
   "execution_count": 41,
   "id": "304ac0a2",
   "metadata": {},
   "outputs": [
    {
     "name": "stdout",
     "output_type": "stream",
     "text": [
      "['My']\n"
     ]
    }
   ],
   "source": [
    "my_text = \"My name is Shyam and my email id is shyam@gmail.com and phone no are 9923090436\"\n",
    "\n",
    "x = re.findall(\"\\AMy\", my_text)\n",
    "print(x)"
   ]
  },
  {
   "cell_type": "code",
   "execution_count": 44,
   "id": "64b09c63",
   "metadata": {},
   "outputs": [
    {
     "name": "stdout",
     "output_type": "stream",
     "text": [
      "[]\n"
     ]
    }
   ],
   "source": [
    "my_text = \"My name is Shyam and my email id is shyam@gmail.com and phone no are 9923090436\"\n",
    "\n",
    "x = re.findall(\"\\Aname\", my_text)\n",
    "print(x)"
   ]
  },
  {
   "cell_type": "markdown",
   "id": "7c816f1f",
   "metadata": {},
   "source": [
    "### 2. \\b :\n",
    "    1. Return a match where the speidified characters ata the beginning of string or at the end of word\n",
    "    2. \"r\" the beginnig is make sure that the string is being as \"raw string\"\n",
    "    3. Example"
   ]
  },
  {
   "cell_type": "code",
   "execution_count": 53,
   "id": "4c982da8",
   "metadata": {},
   "outputs": [
    {
     "name": "stdout",
     "output_type": "stream",
     "text": [
      "['My', 'My']\n"
     ]
    }
   ],
   "source": [
    "my_text = \"My name is Shyam and My email id is shyam@gmail.com and phone no are 9923090436\"\n",
    "\n",
    "x = re.findall(r\"\\bMy\", my_text)\n",
    "print(x)"
   ]
  },
  {
   "cell_type": "code",
   "execution_count": 52,
   "id": "fe717369",
   "metadata": {},
   "outputs": [
    {
     "name": "stdout",
     "output_type": "stream",
     "text": [
      "['my', 'my']\n"
     ]
    }
   ],
   "source": [
    "my_text = \"my name is Shyam and my email id is shyam@gmail.com and phone no are 9923090436\"\n",
    "\n",
    "x = re.findall(r\"my\\b\", my_text)\n",
    "print(x)"
   ]
  },
  {
   "cell_type": "markdown",
   "id": "8a50988b",
   "metadata": {},
   "source": [
    "### 3. \\B:"
   ]
  },
  {
   "cell_type": "code",
   "execution_count": 58,
   "id": "a36d1cdc",
   "metadata": {},
   "outputs": [
    {
     "name": "stdout",
     "output_type": "stream",
     "text": [
      "['a', 'a', 'a', 'a', 'a']\n"
     ]
    }
   ],
   "source": [
    "my_text = \"a My name is Shyam and My email id is shyam@gmail.com and phone no are 9923090436\"\n",
    "\n",
    "x = re.findall(r\"\\Ba\", my_text)\n",
    "print(x)"
   ]
  },
  {
   "cell_type": "code",
   "execution_count": 59,
   "id": "57beceed",
   "metadata": {},
   "outputs": [
    {
     "name": "stdout",
     "output_type": "stream",
     "text": [
      "[]\n"
     ]
    }
   ],
   "source": [
    "my_text = \"are My name is Shyam and My email id is shyam@gmail.com and phone no are 9923090436\"\n",
    "\n",
    "x = re.findall(r\"\\Bare\", my_text)\n",
    "print(x)"
   ]
  },
  {
   "cell_type": "code",
   "execution_count": 64,
   "id": "3350c481",
   "metadata": {},
   "outputs": [
    {
     "name": "stdout",
     "output_type": "stream",
     "text": [
      "['am', 'am']\n"
     ]
    }
   ],
   "source": [
    "my_text = \"are My name is Shyam and My email id is shyam@gmail.com  amd and phone no are 9923090436\"\n",
    "\n",
    "x = re.findall(r\"am\\B\", my_text)\n",
    "print(x) "
   ]
  },
  {
   "cell_type": "code",
   "execution_count": 78,
   "id": "f87ded30",
   "metadata": {},
   "outputs": [
    {
     "name": "stdout",
     "output_type": "stream",
     "text": [
      "['y', 'y', 'y', 'y']\n"
     ]
    }
   ],
   "source": [
    "my_text = \"My name is Shyam Aand My email id is 9923090436 shyam@gmail.com Aand phone no are 9923090436\"\n",
    "\n",
    "x = re.findall(r\"\\By\", my_text)\n",
    "print(x) "
   ]
  },
  {
   "cell_type": "code",
   "execution_count": 73,
   "id": "c8b5e51f",
   "metadata": {},
   "outputs": [],
   "source": [
    "# help(re.findall(r\"a\\B\", my_text))"
   ]
  },
  {
   "cell_type": "markdown",
   "id": "a7ca039e",
   "metadata": {},
   "source": [
    "### 4. \\d"
   ]
  },
  {
   "cell_type": "code",
   "execution_count": 80,
   "id": "eb2f7204",
   "metadata": {},
   "outputs": [
    {
     "name": "stdout",
     "output_type": "stream",
     "text": [
      "['9923090436']\n"
     ]
    }
   ],
   "source": [
    "my_text = \"are My name is Shyam and My email id is shyam@gmail.com  amd and phone no are 9923090436\"\n",
    "\n",
    "x = re.findall(\"\\d{10}\", my_text)\n",
    "print(x) "
   ]
  },
  {
   "cell_type": "code",
   "execution_count": 83,
   "id": "0149cbe1",
   "metadata": {},
   "outputs": [
    {
     "name": "stdout",
     "output_type": "stream",
     "text": [
      "['9923090436', '9923090436']\n"
     ]
    }
   ],
   "source": [
    "my_text = \"My name is Shyam Aand My 90212 61221 email id is 9923090436 shyam@gmail.com Aand phone no are 9923090436\"\n",
    "\n",
    "x = re.findall(\"\\d{10}\", my_text)\n",
    "print(x) "
   ]
  },
  {
   "cell_type": "markdown",
   "id": "47ebf6fd",
   "metadata": {},
   "source": [
    "### 5. \\D"
   ]
  },
  {
   "cell_type": "code",
   "execution_count": 92,
   "id": "612a485d",
   "metadata": {},
   "outputs": [
    {
     "name": "stdout",
     "output_type": "stream",
     "text": [
      "['are M', 'y nam', 'e is ', 'Shyam', ' and ', 'My em', 'ail i', 'd is ', 'shyam', '@gmai', 'l.com', '  amd', ' and ', 'phone', ' no a']\n"
     ]
    }
   ],
   "source": [
    "my_text = \"are My name is Shyam and My email id is shyam@gmail.com  amd and phone no are 9923090436\"\n",
    "\n",
    "x = re.findall(\"\\D{5}\", my_text)\n",
    "print(x) "
   ]
  },
  {
   "cell_type": "markdown",
   "id": "796178f0",
   "metadata": {},
   "source": [
    "### 6. \\s"
   ]
  },
  {
   "cell_type": "code",
   "execution_count": 93,
   "id": "88fcae7a",
   "metadata": {},
   "outputs": [
    {
     "name": "stdout",
     "output_type": "stream",
     "text": [
      "[' ', ' ', ' ', ' ', ' ', ' ', ' ', ' ', ' ', ' ', ' ', ' ', ' ', ' ', ' ', ' ', ' ']\n"
     ]
    }
   ],
   "source": [
    "my_text = \"are My name is Shyam and My email id is shyam@gmail.com  amd and phone no are 9923090436\"\n",
    "\n",
    "x = re.findall(\"\\s\", my_text)\n",
    "print(x) "
   ]
  },
  {
   "cell_type": "markdown",
   "id": "8ac60f70",
   "metadata": {},
   "source": [
    "### 7. \\S"
   ]
  },
  {
   "cell_type": "code",
   "execution_count": 94,
   "id": "33258d89",
   "metadata": {},
   "outputs": [
    {
     "name": "stdout",
     "output_type": "stream",
     "text": [
      "['a', 'r', 'e', 'M', 'y', 'n', 'a', 'm', 'e', 'i', 's', 'S', 'h', 'y', 'a', 'm', 'a', 'n', 'd', 'M', 'y', 'e', 'm', 'a', 'i', 'l', 'i', 'd', 'i', 's', 's', 'h', 'y', 'a', 'm', '@', 'g', 'm', 'a', 'i', 'l', '.', 'c', 'o', 'm', 'a', 'm', 'd', 'a', 'n', 'd', 'p', 'h', 'o', 'n', 'e', 'n', 'o', 'a', 'r', 'e', '9', '9', '2', '3', '0', '9', '0', '4', '3', '6']\n"
     ]
    }
   ],
   "source": [
    "my_text = \"are My name is Shyam and My email id is shyam@gmail.com  amd and phone no are 9923090436\"\n",
    "\n",
    "x = re.findall(\"\\S\", my_text)\n",
    "print(x) "
   ]
  },
  {
   "cell_type": "markdown",
   "id": "46bcc57f",
   "metadata": {},
   "source": [
    "### 8. \\w [A-Z a-z, 0-9, _ ]"
   ]
  },
  {
   "cell_type": "code",
   "execution_count": 97,
   "id": "465e937a",
   "metadata": {},
   "outputs": [
    {
     "name": "stdout",
     "output_type": "stream",
     "text": [
      "['a', 'r', 'e', 'M', 'y', 'n', 'a', 'm', 'e', 'i', 's', 'S', 'h', 'y', 'a', 'm', 'a', 'n', 'd', '_', 'M', 'y', 'e', 'm', 'a', 'i', 'l', 'i', 'd', 'i', 's', 's', 'h', 'y', 'a', 'm', 'g', 'm', 'a', 'i', 'l', 'c', 'o', 'm', 'a', 'm', 'd', 'a', 'n', 'd', 'p', 'h', 'o', 'n', 'e', 'n', 'o', 'a', 'r', 'e', '9', '9', '2', '3', '0', '9', '0', '4', '3', '6']\n"
     ]
    }
   ],
   "source": [
    "my_text = \"are My name is Shyam and _My-email id is shyam@gmail.com  amd and phone no are 9923090436\"\n",
    "\n",
    "x = re.findall(\"\\w\", my_text)\n",
    "print(x) "
   ]
  },
  {
   "cell_type": "code",
   "execution_count": 98,
   "id": "4bebad29",
   "metadata": {},
   "outputs": [
    {
     "name": "stdout",
     "output_type": "stream",
     "text": [
      "['a', 'r', 'e', 'M', 'y', 'n', 'a', 'm', 'e', 'i', 's', 'S', 'h', 'y', 'a', 'm', 'a', 'n', 'd', '_', 'M', 'y', 'e', 'm', 'a', 'i', 'l', 'i', 'd', 'i', 's', 's', 'h', 'y', 'a', 'm', 'g', 'm', 'a', 'i', 'l', 'c', 'o', 'm', 'a', 'm', 'd', 'a', 'n', 'd', 'p', 'h', 'o', 'n', 'e', 'n', 'o', 'a', 'r', 'e', '9', '9', '2', '3', '0', '9', '0', '4', '3', '6']\n"
     ]
    }
   ],
   "source": [
    "my_text = \"are My name is Shyam and _My-email id is shyam@gmail.com  amd and phone no are 9923090436\"\n",
    "\n",
    "x = re.findall(\"\\w\", my_text)\n",
    "print(x) "
   ]
  },
  {
   "cell_type": "markdown",
   "id": "34a1a19d",
   "metadata": {},
   "source": [
    "### 9. \\W"
   ]
  },
  {
   "cell_type": "code",
   "execution_count": 100,
   "id": "e70ae8dc",
   "metadata": {},
   "outputs": [
    {
     "name": "stdout",
     "output_type": "stream",
     "text": [
      "[' ', ' ', ' ', ' ', ' ', ' ', '-', ' ', ' ', ' ', '@', '.', ' ', ' ', ' ', ' ', ' ', '#', '#', ' ', ' ', ' ']\n"
     ]
    }
   ],
   "source": [
    "my_text = \"are My name is Shyam and _My-email id is shyam@gmail.com  amd and phone ## no are 9923090436\"\n",
    "\n",
    "x = re.findall(\"\\W\", my_text)\n",
    "print(x) "
   ]
  },
  {
   "cell_type": "markdown",
   "id": "6cc334e6",
   "metadata": {},
   "source": [
    "### 10. \\Z"
   ]
  },
  {
   "cell_type": "code",
   "execution_count": 108,
   "id": "89712e0e",
   "metadata": {},
   "outputs": [
    {
     "name": "stdout",
     "output_type": "stream",
     "text": [
      "['com']\n"
     ]
    }
   ],
   "source": [
    "my_text = \"are My name is Shyam and _My-email id is shyam@gmail.com\"\n",
    "\n",
    "x = re.findall(\"com\\Z\", my_text)\n",
    "print(x) "
   ]
  },
  {
   "cell_type": "code",
   "execution_count": 112,
   "id": "ce16ad4b",
   "metadata": {},
   "outputs": [
    {
     "name": "stdout",
     "output_type": "stream",
     "text": [
      "['9923090436']\n"
     ]
    }
   ],
   "source": [
    "my_text = \"are My name is Shyam and _My-email id is shyam@gmail.com  amd and phone ## no are 9923090436\"\n",
    "\n",
    "x = re.findall(\"9923090436\\Z\", my_text)\n",
    "print(x) "
   ]
  },
  {
   "cell_type": "code",
   "execution_count": null,
   "id": "6198cc92",
   "metadata": {},
   "outputs": [],
   "source": []
  }
 ],
 "metadata": {
  "kernelspec": {
   "display_name": "Python 3",
   "language": "python",
   "name": "python3"
  },
  "language_info": {
   "codemirror_mode": {
    "name": "ipython",
    "version": 3
   },
   "file_extension": ".py",
   "mimetype": "text/x-python",
   "name": "python",
   "nbconvert_exporter": "python",
   "pygments_lexer": "ipython3",
   "version": "3.8.8"
  }
 },
 "nbformat": 4,
 "nbformat_minor": 5
}
