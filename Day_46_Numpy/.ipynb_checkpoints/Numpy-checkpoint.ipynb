{
 "cells": [
  {
   "cell_type": "markdown",
   "id": "e6e21bd7",
   "metadata": {},
   "source": [
    "# Joining Numpy Arrays"
   ]
  },
  {
   "cell_type": "markdown",
   "id": "97809785",
   "metadata": {},
   "source": [
    "1. Joining means putting contents of two or more arrays in a single row\n",
    "2. In SQL, we can join table based on key, whereas in Numpy we join using axes\n",
    "3. We pass sequence of arrays we want to join the array concatenate()"
   ]
  },
  {
   "cell_type": "code",
   "execution_count": 1,
   "id": "18cd5994",
   "metadata": {},
   "outputs": [],
   "source": [
    "import numpy as np"
   ]
  },
  {
   "cell_type": "code",
   "execution_count": 3,
   "id": "b4e7a297",
   "metadata": {},
   "outputs": [
    {
     "name": "stdout",
     "output_type": "stream",
     "text": [
      "[ 10  20  30  40  50  60  70  80  90 100]\n"
     ]
    }
   ],
   "source": [
    "my_array1 = np.array([10,20,30,40,50])\n",
    "my_array2 = np.array([60,70,80,90,100])\n",
    "\n",
    "new_array = np.concatenate((my_array1, my_array2))\n",
    "print(new_array)"
   ]
  },
  {
   "cell_type": "code",
   "execution_count": 5,
   "id": "3620e66e",
   "metadata": {},
   "outputs": [
    {
     "name": "stdout",
     "output_type": "stream",
     "text": [
      "[[10 20 30 70 80 90]\n",
      " [40 50 60 91 92 93]]\n"
     ]
    }
   ],
   "source": [
    "my_array1 = np.array([[10,20,30],[40,50,60]])\n",
    "my_array2 = np.array([[70,80,90],[91,92,93]])\n",
    "\n",
    "new_array = np.concatenate((my_array1, my_array2), axis = 1)\n",
    "\n",
    "print(new_array)"
   ]
  },
  {
   "cell_type": "code",
   "execution_count": 6,
   "id": "776dea62",
   "metadata": {},
   "outputs": [
    {
     "name": "stdout",
     "output_type": "stream",
     "text": [
      "[[10 20 30]\n",
      " [40 50 60]\n",
      " [70 80 90]\n",
      " [91 92 93]]\n"
     ]
    }
   ],
   "source": [
    "my_array1 = np.array([[10,20,30],[40,50,60]])\n",
    "my_array2 = np.array([[70,80,90],[91,92,93]])\n",
    "\n",
    "new_array = np.concatenate((my_array1, my_array2), axis = 0)\n",
    "\n",
    "print(new_array)"
   ]
  },
  {
   "cell_type": "markdown",
   "id": "3cb75d6f",
   "metadata": {},
   "source": [
    "# Joining Arrays Using Stack Functions"
   ]
  },
  {
   "cell_type": "markdown",
   "id": "f2740685",
   "metadata": {},
   "source": [
    "1. Stacking is same as concatenation, the only difference is that stacking is done along with axis\n",
    "2. We can concatenate two 1-D arrays along with the second which result in putting them one over the other"
   ]
  },
  {
   "cell_type": "code",
   "execution_count": 7,
   "id": "9896243d",
   "metadata": {},
   "outputs": [
    {
     "name": "stdout",
     "output_type": "stream",
     "text": [
      "[[10 50]\n",
      " [20 60]\n",
      " [30 70]\n",
      " [40 80]]\n"
     ]
    }
   ],
   "source": [
    "my_array1 = np.array([10,20,30,40])\n",
    "my_array2 = np.array([50,60,70,80])\n",
    "\n",
    "new_array = np.stack((my_array1, my_array2), axis=1)\n",
    "print(new_array)"
   ]
  },
  {
   "cell_type": "code",
   "execution_count": 8,
   "id": "d801cba6",
   "metadata": {},
   "outputs": [
    {
     "name": "stdout",
     "output_type": "stream",
     "text": [
      "[[10 20 30 40]\n",
      " [50 60 70 80]]\n"
     ]
    }
   ],
   "source": [
    "my_array1 = np.array([10,20,30,40])\n",
    "my_array2 = np.array([50,60,70,80])\n",
    "\n",
    "new_array = np.stack((my_array1, my_array2), axis=0)\n",
    "print(new_array)"
   ]
  },
  {
   "cell_type": "markdown",
   "id": "7a81cfe6",
   "metadata": {},
   "source": [
    "## Stacking Along Rows"
   ]
  },
  {
   "cell_type": "code",
   "execution_count": 9,
   "id": "406c223a",
   "metadata": {},
   "outputs": [
    {
     "name": "stdout",
     "output_type": "stream",
     "text": [
      "[10 20 30 40 50 60 70 80]\n"
     ]
    }
   ],
   "source": [
    "my_array1 = np.array([10,20,30,40])\n",
    "my_array2 = np.array([50,60,70,80])\n",
    "\n",
    "new_array = np.hstack((my_array1, my_array2))\n",
    "print(new_array)"
   ]
  },
  {
   "cell_type": "markdown",
   "id": "6f6314d1",
   "metadata": {},
   "source": [
    "## Stacking Along Columns"
   ]
  },
  {
   "cell_type": "code",
   "execution_count": 10,
   "id": "91c56fb3",
   "metadata": {},
   "outputs": [
    {
     "name": "stdout",
     "output_type": "stream",
     "text": [
      "[[10 20 30 40]\n",
      " [50 60 70 80]]\n"
     ]
    }
   ],
   "source": [
    "my_array1 = np.array([10,20,30,40])\n",
    "my_array2 = np.array([50,60,70,80])\n",
    "\n",
    "new_array = np.vstack((my_array1, my_array2))\n",
    "print(new_array)"
   ]
  },
  {
   "cell_type": "markdown",
   "id": "eaca1346",
   "metadata": {},
   "source": [
    "## Stacking Along Height (depth)"
   ]
  },
  {
   "cell_type": "code",
   "execution_count": 11,
   "id": "b4a551bd",
   "metadata": {},
   "outputs": [
    {
     "name": "stdout",
     "output_type": "stream",
     "text": [
      "[[[10 50]\n",
      "  [20 60]\n",
      "  [30 70]\n",
      "  [40 80]]]\n"
     ]
    }
   ],
   "source": [
    "my_array1 = np.array([10,20,30,40])\n",
    "my_array2 = np.array([50,60,70,80])\n",
    "\n",
    "new_array = np.dstack((my_array1, my_array2))\n",
    "print(new_array)"
   ]
  },
  {
   "cell_type": "code",
   "execution_count": 12,
   "id": "7b36f9fa",
   "metadata": {},
   "outputs": [
    {
     "name": "stdout",
     "output_type": "stream",
     "text": [
      "[[[10 70]\n",
      "  [20 80]\n",
      "  [30 90]]\n",
      "\n",
      " [[40 91]\n",
      "  [50 92]\n",
      "  [60 93]]]\n"
     ]
    }
   ],
   "source": [
    "my_array1 = np.array([[10,20,30],[40,50,60]])\n",
    "my_array2 = np.array([[70,80,90],[91,92,93]])\n",
    "\n",
    "new_array = np.dstack((my_array1, my_array2))\n",
    "\n",
    "print(new_array)"
   ]
  },
  {
   "cell_type": "code",
   "execution_count": 14,
   "id": "36d7698f",
   "metadata": {},
   "outputs": [],
   "source": [
    "# help(np.dstack)"
   ]
  },
  {
   "cell_type": "code",
   "execution_count": 16,
   "id": "91668142",
   "metadata": {},
   "outputs": [],
   "source": [
    "# help(np.column_stack)"
   ]
  },
  {
   "cell_type": "code",
   "execution_count": 17,
   "id": "eec544fd",
   "metadata": {},
   "outputs": [
    {
     "name": "stdout",
     "output_type": "stream",
     "text": [
      "[[10 50]\n",
      " [20 60]\n",
      " [30 70]\n",
      " [40 80]]\n"
     ]
    }
   ],
   "source": [
    "my_array1 = np.array([10,20,30,40])\n",
    "my_array2 = np.array([50,60,70,80])\n",
    "\n",
    "new_array = np.column_stack((my_array1, my_array2))\n",
    "print(new_array)"
   ]
  },
  {
   "cell_type": "code",
   "execution_count": 19,
   "id": "18ee5c7b",
   "metadata": {},
   "outputs": [
    {
     "name": "stdout",
     "output_type": "stream",
     "text": [
      "[[10 50]\n",
      " [20 60]\n",
      " [30 70]\n",
      " [40 80]]\n"
     ]
    }
   ],
   "source": [
    "my_array1 = np.array([10,20,30,40])\n",
    "my_array2 = np.array([50,60,70,80])\n",
    "\n",
    "new_array = np.column_stack((my_array1, my_array2))\n",
    "print(new_array)"
   ]
  },
  {
   "cell_type": "markdown",
   "id": "3b217bd7",
   "metadata": {},
   "source": [
    "# Splitting the Arrays"
   ]
  },
  {
   "cell_type": "markdown",
   "id": "886b33ba",
   "metadata": {},
   "source": [
    "1. Splitting is reverse operation of Joining\n",
    "2. Joining means multiple arrays into one and Splitting breaks one array into multiple\n",
    "3. using array_split() for splitting arrays, we pass it the array and number of splits"
   ]
  },
  {
   "cell_type": "code",
   "execution_count": 20,
   "id": "84a34f4a",
   "metadata": {},
   "outputs": [
    {
     "name": "stdout",
     "output_type": "stream",
     "text": [
      "[array([10, 20, 30, 40, 50]), array([ 60,  70,  80,  90, 100])]\n"
     ]
    }
   ],
   "source": [
    "my_array1 = np.array([10,20,30,40,50,60,70,80,90,100])\n",
    "\n",
    "new_array = np.array_split(my_array1, 2)\n",
    "print(new_array)"
   ]
  },
  {
   "cell_type": "code",
   "execution_count": 21,
   "id": "0e154f66",
   "metadata": {},
   "outputs": [
    {
     "name": "stdout",
     "output_type": "stream",
     "text": [
      "[array([10, 20, 30, 40]), array([50, 60, 70]), array([ 80,  90, 100])]\n"
     ]
    }
   ],
   "source": [
    "my_array1 = np.array([10,20,30,40,50,60,70,80,90,100])\n",
    "\n",
    "new_array = np.array_split(my_array1, 3)\n",
    "print(new_array)"
   ]
  },
  {
   "cell_type": "code",
   "execution_count": 22,
   "id": "5f567675",
   "metadata": {},
   "outputs": [
    {
     "name": "stdout",
     "output_type": "stream",
     "text": [
      "[array([10, 20, 30]), array([40, 50, 60]), array([70, 80]), array([ 90, 100])]\n"
     ]
    }
   ],
   "source": [
    "my_array1 = np.array([10,20,30,40,50,60,70,80,90,100])\n",
    "\n",
    "new_array = np.array_split(my_array1, 4)\n",
    "print(new_array)"
   ]
  },
  {
   "cell_type": "code",
   "execution_count": 25,
   "id": "8b2065e9",
   "metadata": {},
   "outputs": [],
   "source": [
    "# help(np.split)"
   ]
  },
  {
   "cell_type": "code",
   "execution_count": 27,
   "id": "79cd6e6d",
   "metadata": {},
   "outputs": [
    {
     "name": "stdout",
     "output_type": "stream",
     "text": [
      "[array([10, 20, 30]), array([40, 50]), array([60, 70]), array([80, 90])]\n"
     ]
    }
   ],
   "source": [
    "my_array1 = np.array([10,20,30,40,50,60,70,80,90])\n",
    "\n",
    "new_array = np.array_split(my_array1, 4)\n",
    "print(new_array)"
   ]
  },
  {
   "cell_type": "code",
   "execution_count": 28,
   "id": "70578fb4",
   "metadata": {},
   "outputs": [
    {
     "name": "stdout",
     "output_type": "stream",
     "text": [
      "[array([10, 20]), array([30, 40]), array([50, 60]), array([70, 80]), array([ 90, 100])]\n"
     ]
    }
   ],
   "source": [
    "my_array1 = np.array([10,20,30,40,50,60,70,80,90,100])\n",
    "\n",
    "new_array = np.array_split(my_array1, 5)\n",
    "print(new_array)"
   ]
  },
  {
   "cell_type": "code",
   "execution_count": 29,
   "id": "0574c9c7",
   "metadata": {},
   "outputs": [
    {
     "name": "stdout",
     "output_type": "stream",
     "text": [
      "[array([10, 20]), array([30, 40]), array([50, 60]), array([70, 80]), array([90]), array([100])]\n"
     ]
    }
   ],
   "source": [
    "my_array1 = np.array([10,20,30,40,50,60,70,80,90,100])\n",
    "\n",
    "new_array = np.array_split(my_array1, 6)\n",
    "print(new_array)"
   ]
  },
  {
   "cell_type": "code",
   "execution_count": 31,
   "id": "e0ba400f",
   "metadata": {},
   "outputs": [
    {
     "name": "stdout",
     "output_type": "stream",
     "text": [
      "[10 20]\n",
      "[30 40]\n",
      "[50 60]\n",
      "[70 80]\n",
      "[90]\n",
      "[100]\n"
     ]
    }
   ],
   "source": [
    "print(new_array[0])\n",
    "print(new_array[1])\n",
    "print(new_array[2])\n",
    "print(new_array[3])\n",
    "print(new_array[4])\n",
    "print(new_array[5])"
   ]
  },
  {
   "cell_type": "code",
   "execution_count": 32,
   "id": "c000d5e7",
   "metadata": {},
   "outputs": [
    {
     "name": "stdout",
     "output_type": "stream",
     "text": [
      "40\n"
     ]
    }
   ],
   "source": [
    "print(new_array[1][1])"
   ]
  },
  {
   "cell_type": "code",
   "execution_count": 34,
   "id": "093bc5f1",
   "metadata": {},
   "outputs": [
    {
     "name": "stdout",
     "output_type": "stream",
     "text": [
      "[array([10, 20, 30, 40, 50]), array([ 60,  70,  80,  90, 100])]\n"
     ]
    }
   ],
   "source": [
    "my_array1 = np.array([10,20,30,40,50,60,70,80,90,100])\n",
    "\n",
    "new_array = np.array_split(my_array1, 2)\n",
    "print(new_array)"
   ]
  },
  {
   "cell_type": "code",
   "execution_count": 36,
   "id": "660e6d74",
   "metadata": {},
   "outputs": [
    {
     "name": "stdout",
     "output_type": "stream",
     "text": [
      "[60 70 80]\n"
     ]
    }
   ],
   "source": [
    "print(new_array[1][0:3])"
   ]
  },
  {
   "cell_type": "code",
   "execution_count": null,
   "id": "6b738189",
   "metadata": {},
   "outputs": [],
   "source": []
  }
 ],
 "metadata": {
  "kernelspec": {
   "display_name": "Python 3",
   "language": "python",
   "name": "python3"
  },
  "language_info": {
   "codemirror_mode": {
    "name": "ipython",
    "version": 3
   },
   "file_extension": ".py",
   "mimetype": "text/x-python",
   "name": "python",
   "nbconvert_exporter": "python",
   "pygments_lexer": "ipython3",
   "version": "3.8.8"
  }
 },
 "nbformat": 4,
 "nbformat_minor": 5
}
