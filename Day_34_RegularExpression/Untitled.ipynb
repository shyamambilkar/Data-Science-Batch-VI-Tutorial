{
 "cells": [
  {
   "cell_type": "code",
   "execution_count": 1,
   "id": "13e98790",
   "metadata": {},
   "outputs": [],
   "source": [
    "email = \"\"\"\n",
    "1. shyam.ambilkar@gmail.com\n",
    "2. shyamambilakar2@gmail.com\n",
    "3. shyamambilkar@gmail.com\n",
    "4. shyamambilkar1234@gmai.com\n",
    "5. shyamambilakar2@rediffmail.com\n",
    "6. shyamambilkar@jspm.edu.in\n",
    "7. shyamambilkar@gmail.co.in\n",
    "8. ._shyamambilkar@gmail.org\n",
    "9. shyamambilkar124@gmail.org\n",
    "10. shyam.ambilkar.1234@gmail.co.in\n",
    "11. shyam.ambilkar.123@jspm.edu.in\"\"\""
   ]
  },
  {
   "cell_type": "code",
   "execution_count": 2,
   "id": "4797d53c",
   "metadata": {},
   "outputs": [
    {
     "name": "stdout",
     "output_type": "stream",
     "text": [
      "['kankalmayur@gmail.com,krk@rediffmail.com,samyak123@hotmail.com,shubk@gmail.com', 'shubhamg199630@gmail.com', ',priya@yahoo.com']\n"
     ]
    }
   ],
   "source": [
    "import re \n",
    "s = \"\"\" kankalmayur@gmail.com,krk@rediffmail.com,samyak123@hotmail.com,shubk@gmail.com shubhamg199630@gmail.com\n",
    "        ,priya@yahoo.com about the meeting @2PM\"\"\"\n",
    "lst = re.findall('\\S+@\\S+', s)\n",
    "print(lst) "
   ]
  },
  {
   "cell_type": "code",
   "execution_count": 4,
   "id": "79eab9cf",
   "metadata": {},
   "outputs": [
    {
     "name": "stdout",
     "output_type": "stream",
     "text": [
      "['shyam.ambilkar@gmail.com', 'shyamambilakar2@gmail.com', 'shyamambilkar@gmail.com', 'shyamambilkar1234@gmai.com', 'shyamambilakar2@rediffmail.com', 'shyamambilkar@jspm.edu.in', 'shyamambilkar@gmail.co.in', '._shyamambilkar@gmail.org', 'shyamambilkar124@gmail.org', 'shyam.ambilkar.1234@gmail.co.in', 'shyam.ambilkar.123@jspm.edu.in']\n"
     ]
    }
   ],
   "source": [
    "email = \"\"\"\n",
    "1. shyam.ambilkar@gmail.com\n",
    "2. shyamambilakar2@gmail.com\n",
    "3. shyamambilkar@gmail.com\n",
    "4. shyamambilkar1234@gmai.com\n",
    "5. shyamambilakar2@rediffmail.com\n",
    "6. shyamambilkar@jspm.edu.in\n",
    "7. shyamambilkar@gmail.co.in\n",
    "8. ._shyamambilkar@gmail.org\n",
    "9. shyamambilkar124@gmail.org\n",
    "10. shyam.ambilkar.1234@gmail.co.in\n",
    "11. shyam.ambilkar.123@jspm.edu.in\"\"\"\n",
    "\n",
    "lst = re.findall('\\S+@\\S+', email)\n",
    "print(lst)"
   ]
  },
  {
   "cell_type": "code",
   "execution_count": 9,
   "id": "3d3eb739",
   "metadata": {},
   "outputs": [
    {
     "name": "stdout",
     "output_type": "stream",
     "text": [
      "['ambekar@gmail.com', 'sakshiambekar@gmail.com', 'sakshiambekar@jspm.edu.in', 'sakshiambekar@gmail.com.co.in', 'ambekar@gmail.com.org']\n"
     ]
    }
   ],
   "source": [
    "import re\n",
    "my_text = \"\"\"\n",
    "1. sakshi.ambekar@gmail.com\n",
    "2. sakshiambekar3@gmail.com\n",
    "3. sakshiambekar@gmail.com\n",
    "4. sakshiambekar1234@gmail.com\n",
    "5. sakshiambekar2@rediffmail.com\n",
    "6. sakshiambekar@jspm.edu.in\n",
    "7. sakshiambekar@gmail.com.co.in\n",
    "8. ._sakshi.ambekar@gmail.com.org\n",
    "9. sakshiambekar1234@gmail.org\n",
    "10. sakshi.ambekar.1234@gmail.co.in\n",
    "11. sakshi.ambekar.123@jspm.edu.in\"\"\"\n",
    "\n",
    "x = re.findall(\"[a-z]{2,20}[@]{1}[a-z.]{2,15}\", my_text)\n",
    "print(x)"
   ]
  },
  {
   "cell_type": "code",
   "execution_count": 10,
   "id": "760b256d",
   "metadata": {},
   "outputs": [
    {
     "name": "stdout",
     "output_type": "stream",
     "text": [
      "['. shyamambilakar2@gmail.com', '. shyamambilkar1234@gmai.com', '. shyamambilakar2@rediffmail.com', '. shyamambilkar124@gmail.org', '. shyam.ambilkar.1234@gmail.co.in', '. shyam.ambilkar.123@jspm.edu.in']\n"
     ]
    }
   ],
   "source": [
    "mail = \"golumaster@gmail.com.org\"\n",
    "x = re.findall('[\\Wa-z.]+[0-9]+@[.a-z0-9]+', email)\n",
    "# x = re.findall('([\\w\\.]+@[\\w\\.]+) ', email)\n",
    "print(x)"
   ]
  },
  {
   "cell_type": "code",
   "execution_count": 11,
   "id": "48635418",
   "metadata": {},
   "outputs": [
    {
     "name": "stdout",
     "output_type": "stream",
     "text": [
      "['shyam.ambilkar@gmail.com', 'shyamambilakar2@gmail.com', 'shyamambilkar@gmail.com', 'shyamambilkar1234@gmai.com', 'shyamambilakar2@rediffmail.com', 'shyamambilkar@jspm.edu.in', 'shyamambilkar@gmail.co.in', '._shyamambilkar@gmail.org', 'shyamambilkar124@gmail.org', 'shyam.ambilkar.1234@gmail.co.in', 'shyam.ambilkar.123@jspm.edu.in']\n"
     ]
    }
   ],
   "source": [
    "email = \"\"\"\n",
    "1. shyam.ambilkar@gmail.com\n",
    "2. shyamambilakar2@gmail.com\n",
    "3. shyamambilkar@gmail.com\n",
    "4. shyamambilkar1234@gmai.com\n",
    "5. shyamambilakar2@rediffmail.com\n",
    "6. shyamambilkar@jspm.edu.in\n",
    "7. shyamambilkar@gmail.co.in\n",
    "8. ._shyamambilkar@gmail.org\n",
    "9. shyamambilkar124@gmail.org\n",
    "10. shyam.ambilkar.1234@gmail.co.in\n",
    "11. shyam.ambilkar.123@jspm.edu.in\"\"\"\n",
    "\n",
    "my_exp = re.findall(\"[a-zA-Z_.]{2,20}[0-9]{0,5}[@]{1}[a-z.]{5,15}\",email)\n",
    "print(my_exp)"
   ]
  },
  {
   "cell_type": "code",
   "execution_count": 14,
   "id": "22785e9a",
   "metadata": {},
   "outputs": [
    {
     "name": "stdout",
     "output_type": "stream",
     "text": [
      "['shyam.ambilkar@gmail.com', 'shyamambilakar2@gmail.com', 'shyamambilkar@gmail.com', 'shyamambilkar1234@gmai.com', 'shyamambilakar2@rediffmail.com', 'shyamambilkar@jspm.edu.in', 'shyamambilkar@gmail.co.in', 'shyamambilkar@gmail.org', 'shyamambilkar124@gmail.org', 'ambilkar.1234@gmail.co.in', 'ambilkar.123@jspm.edu.in']\n",
      "11\n"
     ]
    }
   ],
   "source": [
    "my_exp1 = re.findall(\"[a-zA-Z0-9]{1,20}[._]{0,2}[a-zA-Z0-9]{1,20}[@]{1}[a-z.]{5,15}\",email)\n",
    "print(my_exp1)\n",
    "print(len(my_exp1))"
   ]
  },
  {
   "cell_type": "code",
   "execution_count": 19,
   "id": "792e8cfa",
   "metadata": {},
   "outputs": [
    {
     "name": "stdout",
     "output_type": "stream",
     "text": [
      "['shyam.ambilkar@gmail.com', 'shyamambilakar2@gmail.com', 'shyamambilkar@gmail.com', 'shyamambilkar1234@gmai.com', 'shyamambilakar2@rediffmail.com', 'shyamambilkar@jspm.edu.in', 'shyamambilkar@gmail.co.in', 'shyamambilkar@gmail.org', 'shyamambilkar124@gmail.org', 'ambilkar.1234@gmail.co.in', 'ambilkar.123@jspm.edu.in'] 11\n",
      "Valid Email...!\n"
     ]
    },
    {
     "data": {
      "text/plain": [
       "'Valid Email ID...!'"
      ]
     },
     "execution_count": 19,
     "metadata": {},
     "output_type": "execute_result"
    }
   ],
   "source": [
    "email = \"\"\"\n",
    "1. shyam.ambilkar@gmail.com\n",
    "2. shyamambilakar2@gmail.com\n",
    "3. shyamambilkar@gmail.com\n",
    "4. shyamambilkar1234@gmai.com\n",
    "5. shyamambilakar2@rediffmail.com\n",
    "6. shyamambilkar@jspm.edu.in\n",
    "7. shyamambilkar@gmail.co.in\n",
    "8. ._shyamambilkar@gmail.org\n",
    "9. shyamambilkar124@gmail.org\n",
    "10. shyam.ambilkar.1234@gmail.co.in\n",
    "11. shyam.ambilkar.123@jspm.edu.in\"\"\"\n",
    "\n",
    "my_exp = re.findall(\"[a-zA-Z0-9]{1,20}[._]{0,2}[a-zA-Z0-9]{1,20}[@]{1}[a-z.]{5,15}\",email)\n",
    "print(my_exp, len(my_exp))\n",
    "\n",
    "def mail_validation(mail_id):\n",
    "    mail = re.findall(\"[a-zA-Z0-9]{1,20}[._]{0,2}[a-zA-Z0-9]{1,20}[@]{1}[a-z.]{5,15}\",mail_id)\n",
    "    \n",
    "    if mail:\n",
    "        print(\"Valid Email...!\")\n",
    "        msg = 'Valid Email ID...!'\n",
    "    else:\n",
    "        print(\"Ivalid Email...!\")\n",
    "        msg = \"Invalid Email ID...!\"\n",
    "    return msg\n",
    "\n",
    "mail_validation(email)"
   ]
  },
  {
   "cell_type": "markdown",
   "id": "459c888c",
   "metadata": {},
   "source": [
    "### Aadhar Card"
   ]
  },
  {
   "cell_type": "code",
   "execution_count": 20,
   "id": "dce1c2db",
   "metadata": {},
   "outputs": [
    {
     "name": "stdout",
     "output_type": "stream",
     "text": [
      "['1234 5678 9012', '9876 4561 2365', '2585 3696 1474']\n"
     ]
    }
   ],
   "source": [
    "import re\n",
    "\n",
    "my_aadhar = \"\"\"\n",
    "1. 123456789123\n",
    "2. 123 4567 8978\n",
    "3. 1234 5678 9012\n",
    "4. 124@ 2563 4578\n",
    "5. 9876 4561 2365\n",
    "6. 12345 124 4567\n",
    "7. 2585 3696 1474\"\"\"\n",
    "my_exp = re.findall(\"[0-9]{4}[ ]{1}[0-9]{4}[ ]{1}[0-9]{4}\",my_aadhar)\n",
    "\n",
    "print(my_exp)"
   ]
  },
  {
   "cell_type": "code",
   "execution_count": 21,
   "id": "62a4c201",
   "metadata": {},
   "outputs": [
    {
     "name": "stdout",
     "output_type": "stream",
     "text": [
      "['1234 5678 9012', '9876 4561 2365', '2585 3696 1474']\n"
     ]
    }
   ],
   "source": [
    "import re\n",
    "\n",
    "my_aadhar = \"\"\"\n",
    "1. 123456789123\n",
    "2. 123 4567 8978\n",
    "3. 1234 5678 9012\n",
    "4. 124@ 2563 4578\n",
    "5. 9876 4561 2365\n",
    "6. 12345 124 4567\n",
    "7. 2585 3696 1474\"\"\"\n",
    "my_exp1 = re.findall(\"[0-9]{4}\\s[0-9]{4}\\s[0-9]{4}\",my_aadhar)\n",
    "\n",
    "print(my_exp1)"
   ]
  },
  {
   "cell_type": "code",
   "execution_count": 22,
   "id": "4a28644a",
   "metadata": {},
   "outputs": [
    {
     "name": "stdout",
     "output_type": "stream",
     "text": [
      "['1234 5678 9012', '9876 4561 2365', '2585 3696 1474']\n"
     ]
    }
   ],
   "source": [
    "import re\n",
    "\n",
    "my_aadhar = \"\"\"\n",
    "1. 123456789123\n",
    "2. 123 4567 8978\n",
    "3. 1234 5678 9012\n",
    "4. 124@ 2563 4578\n",
    "5. 9876 4561 2365\n",
    "6. 12345 124 4567\n",
    "7. 2585 3696 1474\"\"\"\n",
    "my_exp2 = re.findall(\"\\d{4}\\s\\d{4}\\s\\d{4}\",my_aadhar)\n",
    "\n",
    "print(my_exp2)"
   ]
  },
  {
   "cell_type": "code",
   "execution_count": 23,
   "id": "23980f23",
   "metadata": {},
   "outputs": [
    {
     "name": "stdout",
     "output_type": "stream",
     "text": [
      "The Valid Driving License are:  ['MH12 74142585369']\n"
     ]
    }
   ],
   "source": [
    "my_lic_no = \"\"\"\n",
    "1. MH1298745632178\n",
    "2. 1298745612323\n",
    "3. MH12 12345 369625\n",
    "4. MH12 74142585369\"\"\"\n",
    "\n",
    "my_exp = re.findall(\"[A-Z]{2}\\d{2}\\s\\d{11}\",my_lic_no)\n",
    "print(\"The Valid Driving License are: \",my_exp)"
   ]
  },
  {
   "cell_type": "code",
   "execution_count": null,
   "id": "52c43e71",
   "metadata": {},
   "outputs": [],
   "source": [
    "import datetime\n",
    "import re\n",
    "import time"
   ]
  }
 ],
 "metadata": {
  "kernelspec": {
   "display_name": "Python 3",
   "language": "python",
   "name": "python3"
  },
  "language_info": {
   "codemirror_mode": {
    "name": "ipython",
    "version": 3
   },
   "file_extension": ".py",
   "mimetype": "text/x-python",
   "name": "python",
   "nbconvert_exporter": "python",
   "pygments_lexer": "ipython3",
   "version": "3.8.8"
  }
 },
 "nbformat": 4,
 "nbformat_minor": 5
}
