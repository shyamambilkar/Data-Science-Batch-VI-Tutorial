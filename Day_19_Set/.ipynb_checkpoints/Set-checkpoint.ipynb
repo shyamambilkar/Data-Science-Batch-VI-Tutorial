{
 "cells": [
  {
   "cell_type": "markdown",
   "id": "43d5d0ff",
   "metadata": {},
   "source": [
    "# Set Remove Elements"
   ]
  },
  {
   "cell_type": "markdown",
   "id": "001911f0",
   "metadata": {},
   "source": [
    "### Remove elements using Remove Method"
   ]
  },
  {
   "cell_type": "code",
   "execution_count": 1,
   "id": "6f6190f5",
   "metadata": {},
   "outputs": [
    {
     "name": "stdout",
     "output_type": "stream",
     "text": [
      "{'cherry', 'mango', 'kiwi', 'apple', 'pineapple'}\n"
     ]
    }
   ],
   "source": [
    "my_set = {'apple','mango','cherry','pineapple','banana','kiwi'}\n",
    "\n",
    "my_set.remove('banana')\n",
    "print(my_set)"
   ]
  },
  {
   "cell_type": "markdown",
   "id": "1843d1c6",
   "metadata": {},
   "source": [
    "**Note: If the elements to remove does not exists remove() method will raise the error**"
   ]
  },
  {
   "cell_type": "code",
   "execution_count": 8,
   "id": "77df919b",
   "metadata": {},
   "outputs": [
    {
     "ename": "KeyError",
     "evalue": "'papaya'",
     "output_type": "error",
     "traceback": [
      "\u001b[1;31m---------------------------------------------------------------------------\u001b[0m",
      "\u001b[1;31mKeyError\u001b[0m                                  Traceback (most recent call last)",
      "\u001b[1;32m<ipython-input-8-eef160ac816d>\u001b[0m in \u001b[0;36m<module>\u001b[1;34m\u001b[0m\n\u001b[0;32m      1\u001b[0m \u001b[0mmy_set\u001b[0m \u001b[1;33m=\u001b[0m \u001b[1;33m{\u001b[0m\u001b[1;34m'apple'\u001b[0m\u001b[1;33m,\u001b[0m\u001b[1;34m'mango'\u001b[0m\u001b[1;33m,\u001b[0m\u001b[1;34m'cherry'\u001b[0m\u001b[1;33m,\u001b[0m\u001b[1;34m'pineapple'\u001b[0m\u001b[1;33m,\u001b[0m\u001b[1;34m'banana'\u001b[0m\u001b[1;33m,\u001b[0m\u001b[1;34m'kiwi'\u001b[0m\u001b[1;33m}\u001b[0m\u001b[1;33m\u001b[0m\u001b[1;33m\u001b[0m\u001b[0m\n\u001b[0;32m      2\u001b[0m \u001b[1;33m\u001b[0m\u001b[0m\n\u001b[1;32m----> 3\u001b[1;33m \u001b[0mmy_set\u001b[0m\u001b[1;33m.\u001b[0m\u001b[0mremove\u001b[0m\u001b[1;33m(\u001b[0m\u001b[1;34m'papaya'\u001b[0m\u001b[1;33m)\u001b[0m\u001b[1;33m\u001b[0m\u001b[1;33m\u001b[0m\u001b[0m\n\u001b[0m\u001b[0;32m      4\u001b[0m \u001b[0mprint\u001b[0m\u001b[1;33m(\u001b[0m\u001b[0mmy_set\u001b[0m\u001b[1;33m)\u001b[0m\u001b[1;33m\u001b[0m\u001b[1;33m\u001b[0m\u001b[0m\n",
      "\u001b[1;31mKeyError\u001b[0m: 'papaya'"
     ]
    }
   ],
   "source": [
    "my_set = {'apple','mango','cherry','pineapple','banana','kiwi'}\n",
    "\n",
    "my_set.remove('papaya')\n",
    "print(my_set)"
   ]
  },
  {
   "cell_type": "markdown",
   "id": "ddeb92b5",
   "metadata": {},
   "source": [
    "### Remove elements using Pop Method [last elements]"
   ]
  },
  {
   "cell_type": "code",
   "execution_count": 2,
   "id": "1b61f0f1",
   "metadata": {},
   "outputs": [
    {
     "name": "stdout",
     "output_type": "stream",
     "text": [
      "{'mango', 'kiwi', 'banana', 'apple', 'pineapple'}\n"
     ]
    }
   ],
   "source": [
    "my_set = {'apple','mango','cherry','pineapple','banana','kiwi'}\n",
    "\n",
    "my_set.pop()\n",
    "print(my_set)"
   ]
  },
  {
   "cell_type": "code",
   "execution_count": 4,
   "id": "15379e84",
   "metadata": {},
   "outputs": [
    {
     "name": "stdout",
     "output_type": "stream",
     "text": [
      "{'mango', 'kiwi', 'banana', 'apple', 'pineapple'}\n"
     ]
    }
   ],
   "source": [
    "my_set = {'apple','mango','cherry','pineapple','banana','kiwi'}\n",
    "\n",
    "my_set.pop()\n",
    "print(my_set)"
   ]
  },
  {
   "cell_type": "markdown",
   "id": "18ec57c6",
   "metadata": {},
   "source": [
    "### Remove elements using Dicard Method"
   ]
  },
  {
   "cell_type": "markdown",
   "id": "db71c4cc",
   "metadata": {},
   "source": [
    "**Note: If the elements to remove does not exists discard() method will not raise the error**"
   ]
  },
  {
   "cell_type": "code",
   "execution_count": 5,
   "id": "f58fcd17",
   "metadata": {},
   "outputs": [
    {
     "name": "stdout",
     "output_type": "stream",
     "text": [
      "{'cherry', 'mango', 'kiwi', 'apple', 'pineapple'}\n"
     ]
    }
   ],
   "source": [
    "my_set = {'apple','mango','cherry','pineapple','banana','kiwi'}\n",
    "\n",
    "my_set.discard('banana')\n",
    "print(my_set)"
   ]
  },
  {
   "cell_type": "code",
   "execution_count": 9,
   "id": "8e926afb",
   "metadata": {},
   "outputs": [
    {
     "name": "stdout",
     "output_type": "stream",
     "text": [
      "{'cherry', 'mango', 'kiwi', 'banana', 'apple', 'pineapple'}\n"
     ]
    }
   ],
   "source": [
    "my_set = {'apple','mango','cherry','pineapple','banana','kiwi'}\n",
    "\n",
    "my_set.discard('papaya')\n",
    "print(my_set)"
   ]
  },
  {
   "cell_type": "markdown",
   "id": "a6ef0d64",
   "metadata": {},
   "source": [
    "### Clear Set"
   ]
  },
  {
   "cell_type": "code",
   "execution_count": 10,
   "id": "59061de2",
   "metadata": {},
   "outputs": [
    {
     "name": "stdout",
     "output_type": "stream",
     "text": [
      "set()\n"
     ]
    }
   ],
   "source": [
    "my_set = {'apple','mango','cherry','pineapple','banana','kiwi'}\n",
    "\n",
    "my_set.clear()\n",
    "print(my_set)"
   ]
  },
  {
   "cell_type": "markdown",
   "id": "a23cd89f",
   "metadata": {},
   "source": [
    "### Delete Set"
   ]
  },
  {
   "cell_type": "code",
   "execution_count": 11,
   "id": "258adf08",
   "metadata": {},
   "outputs": [
    {
     "ename": "NameError",
     "evalue": "name 'my_set' is not defined",
     "output_type": "error",
     "traceback": [
      "\u001b[1;31m---------------------------------------------------------------------------\u001b[0m",
      "\u001b[1;31mNameError\u001b[0m                                 Traceback (most recent call last)",
      "\u001b[1;32m<ipython-input-11-a5522a0596cb>\u001b[0m in \u001b[0;36m<module>\u001b[1;34m\u001b[0m\n\u001b[0;32m      2\u001b[0m \u001b[1;33m\u001b[0m\u001b[0m\n\u001b[0;32m      3\u001b[0m \u001b[1;32mdel\u001b[0m \u001b[0mmy_set\u001b[0m\u001b[1;33m\u001b[0m\u001b[1;33m\u001b[0m\u001b[0m\n\u001b[1;32m----> 4\u001b[1;33m \u001b[0mprint\u001b[0m\u001b[1;33m(\u001b[0m\u001b[0mmy_set\u001b[0m\u001b[1;33m)\u001b[0m\u001b[1;33m\u001b[0m\u001b[1;33m\u001b[0m\u001b[0m\n\u001b[0m",
      "\u001b[1;31mNameError\u001b[0m: name 'my_set' is not defined"
     ]
    }
   ],
   "source": [
    "my_set = {'apple','mango','cherry','pineapple','banana','kiwi'}\n",
    "\n",
    "del my_set\n",
    "print(my_set)"
   ]
  },
  {
   "cell_type": "markdown",
   "id": "8e4e3d89",
   "metadata": {},
   "source": [
    "# Join Two Sets in Python "
   ]
  },
  {
   "cell_type": "markdown",
   "id": "6af90a48",
   "metadata": {},
   "source": [
    "1. There are different ways to join two sets:\n",
    "    1. union():\n",
    "        1. Union method will return a new containing all item from both set\n",
    "    2. update():\n",
    "        2. Update method will insert all elements from one set to another set"
   ]
  },
  {
   "cell_type": "markdown",
   "id": "bca10a2b",
   "metadata": {},
   "source": [
    "### 1. UNION [union()]"
   ]
  },
  {
   "cell_type": "code",
   "execution_count": 14,
   "id": "ef7be0e4",
   "metadata": {},
   "outputs": [
    {
     "name": "stdout",
     "output_type": "stream",
     "text": [
      "{'papya', 'cherry', 40, 10, 'mango', 60, 50, 'kiwi', 20, 'banana', 'apple', 30}\n"
     ]
    }
   ],
   "source": [
    "my_set1 = {\"apple\",\"mango\",'cherry','papya','kiwi','banana'}\n",
    "my_set2 = {10,20,30,40,50,60}\n",
    "\n",
    "my_set3 = my_set1.union(my_set2)\n",
    "print(my_set3)"
   ]
  },
  {
   "cell_type": "code",
   "execution_count": 19,
   "id": "07e6f9a1",
   "metadata": {},
   "outputs": [
    {
     "name": "stdout",
     "output_type": "stream",
     "text": [
      "{'papya', 'cherry', 40, 10, 'mango', 60, 50, 'kiwi', 20, 'banana', 'apple', 30}\n"
     ]
    }
   ],
   "source": [
    "my_set1 = {\"apple\",\"mango\",'cherry','papya','kiwi','banana','apple','mango'}\n",
    "my_set2 = {10,20,30,40,50,60,10,20,50}\n",
    "\n",
    "my_set3 = my_set1.union(my_set2)\n",
    "print(my_set3)"
   ]
  },
  {
   "cell_type": "markdown",
   "id": "d6e23ca9",
   "metadata": {},
   "source": [
    "### 2. UPDATE [update()]"
   ]
  },
  {
   "cell_type": "code",
   "execution_count": 16,
   "id": "376bfc95",
   "metadata": {},
   "outputs": [
    {
     "name": "stdout",
     "output_type": "stream",
     "text": [
      "None\n"
     ]
    }
   ],
   "source": [
    "my_set1 = {\"apple\",\"mango\",'cherry','papya','kiwi','banana'}\n",
    "my_set2 = {10,20,30,40,50,60}\n",
    "\n",
    "my_set3 = my_set1.update(my_set2)\n",
    "print(my_set3)"
   ]
  },
  {
   "cell_type": "code",
   "execution_count": 17,
   "id": "8df27ef8",
   "metadata": {},
   "outputs": [
    {
     "name": "stdout",
     "output_type": "stream",
     "text": [
      "{'papya', 'cherry', 40, 10, 'mango', 60, 50, 'kiwi', 20, 'banana', 'apple', 30}\n"
     ]
    }
   ],
   "source": [
    "my_set1 = {\"apple\",\"mango\",'cherry','papya','kiwi','banana'}\n",
    "my_set2 = {10,20,30,40,50,60}\n",
    "\n",
    "\n",
    "my_set1.update(my_set2)\n",
    "print(my_set1)"
   ]
  },
  {
   "cell_type": "code",
   "execution_count": 18,
   "id": "6c88a016",
   "metadata": {},
   "outputs": [
    {
     "name": "stdout",
     "output_type": "stream",
     "text": [
      "{'papya', 'cherry', 40, 10, 'mango', 'apple', 50, 20, 'kiwi', 'banana', 60, 30}\n"
     ]
    }
   ],
   "source": [
    "my_set1 = {\"apple\",\"mango\",'cherry','papya','kiwi','banana'}\n",
    "my_set2 = {10,20,30,40,50,60}\n",
    "\n",
    "\n",
    "my_set2.update(my_set1)\n",
    "print(my_set2)"
   ]
  },
  {
   "cell_type": "code",
   "execution_count": 20,
   "id": "ba113a0d",
   "metadata": {},
   "outputs": [
    {
     "name": "stdout",
     "output_type": "stream",
     "text": [
      "{'papya', 'cherry', 40, 10, 'mango', 'apple', 50, 20, 'kiwi', 'banana', 60, 30}\n"
     ]
    }
   ],
   "source": [
    "my_set1 = {\"apple\",\"mango\",'cherry','papya','kiwi','banana','banana'}\n",
    "my_set2 = {10,20,30,40,50,60,10,20}\n",
    "\n",
    "\n",
    "my_set2.update(my_set1)\n",
    "print(my_set2)"
   ]
  },
  {
   "cell_type": "markdown",
   "id": "af9aaaa9",
   "metadata": {},
   "source": [
    "**Note: union() and update() method will exclude the duplicate elements**"
   ]
  },
  {
   "cell_type": "markdown",
   "id": "02739c1d",
   "metadata": {},
   "source": [
    "### Keep only Duplicate Elements"
   ]
  },
  {
   "cell_type": "markdown",
   "id": "289c0d61",
   "metadata": {},
   "source": [
    "#### 1. Intersection Update -intersection_update()"
   ]
  },
  {
   "cell_type": "code",
   "execution_count": 22,
   "id": "1957485b",
   "metadata": {},
   "outputs": [
    {
     "name": "stdout",
     "output_type": "stream",
     "text": [
      "{'papaya', 'apple', 'banana'}\n"
     ]
    }
   ],
   "source": [
    "my_set1 = {\"apple\",\"mango\",'cherry','papaya','kiwi','banana'}\n",
    "my_set2 = {'apple','banana','papaya','watermelon','orange'}\n",
    "\n",
    "my_set1.intersection_update(my_set2)\n",
    "print(my_set1)"
   ]
  },
  {
   "cell_type": "code",
   "execution_count": 23,
   "id": "ce8ee7d0",
   "metadata": {},
   "outputs": [
    {
     "name": "stdout",
     "output_type": "stream",
     "text": [
      "None\n"
     ]
    }
   ],
   "source": [
    "my_set1 = {\"apple\",\"mango\",'cherry','papaya','kiwi','banana'}\n",
    "my_set2 = {'apple','banana','papaya','watermelon','orange'}\n",
    "\n",
    "my_set3 = my_set1.intersection_update(my_set2)\n",
    "print(my_set3)"
   ]
  },
  {
   "cell_type": "markdown",
   "id": "374c3cec",
   "metadata": {},
   "source": [
    "#### 2.Intesection method - intersection"
   ]
  },
  {
   "cell_type": "code",
   "execution_count": 25,
   "id": "9ff53520",
   "metadata": {},
   "outputs": [
    {
     "name": "stdout",
     "output_type": "stream",
     "text": [
      "{'papaya', 'apple', 'banana'}\n"
     ]
    }
   ],
   "source": [
    "my_set1 = {\"apple\",\"mango\",'cherry','papaya','kiwi','banana'}\n",
    "my_set2 = {'apple','banana','papaya','watermelon','orange'}\n",
    "\n",
    "my_set3 = my_set1.intersection(my_set2)\n",
    "print(my_set3)"
   ]
  },
  {
   "cell_type": "markdown",
   "id": "51dbff44",
   "metadata": {},
   "source": [
    "# Keep All, But not the Duplicates:\n",
    "    1. symmetric_difference\n",
    "    2. symmetric_difference_update"
   ]
  },
  {
   "cell_type": "markdown",
   "id": "2a6f2142",
   "metadata": {},
   "source": [
    "### 1. symmetric_difference"
   ]
  },
  {
   "cell_type": "code",
   "execution_count": 26,
   "id": "f4e34115",
   "metadata": {},
   "outputs": [
    {
     "name": "stdout",
     "output_type": "stream",
     "text": [
      "{'cherry', 'kiwi', 'mango', 'orange', 'watermelon'}\n"
     ]
    }
   ],
   "source": [
    "my_set1 = {\"apple\",\"mango\",'cherry','papaya','kiwi','banana'}\n",
    "my_set2 = {'apple','banana','papaya','watermelon','orange'}\n",
    "\n",
    "my_set3 = my_set1.symmetric_difference(my_set2)\n",
    "print(my_set3)"
   ]
  },
  {
   "cell_type": "markdown",
   "id": "0a82b52b",
   "metadata": {},
   "source": [
    "### 1. symmetric_difference_update"
   ]
  },
  {
   "cell_type": "code",
   "execution_count": 27,
   "id": "0db94c52",
   "metadata": {},
   "outputs": [
    {
     "name": "stdout",
     "output_type": "stream",
     "text": [
      "{'cherry', 'mango', 'kiwi', 'orange', 'watermelon'}\n"
     ]
    }
   ],
   "source": [
    "my_set1 = {\"apple\",\"mango\",'cherry','papaya','kiwi','banana'}\n",
    "my_set2 = {'apple','banana','papaya','watermelon','orange'}\n",
    "\n",
    "my_set1.symmetric_difference_update(my_set2)\n",
    "print(my_set1)"
   ]
  },
  {
   "cell_type": "markdown",
   "id": "4d97b65f",
   "metadata": {},
   "source": [
    "# 1. isdisjoin() Method:\n",
    "    1. Return True if no elements in both set are duplicate\n",
    "    2. Return False if elements are duplicate in both set"
   ]
  },
  {
   "cell_type": "code",
   "execution_count": 28,
   "id": "cd830866",
   "metadata": {},
   "outputs": [
    {
     "name": "stdout",
     "output_type": "stream",
     "text": [
      "False\n"
     ]
    }
   ],
   "source": [
    "my_set1 = {\"apple\",\"mango\",'cherry','papaya','kiwi','banana'}\n",
    "my_set2 = {'apple','banana','papaya','watermelon','orange'}\n",
    "\n",
    "my_set3 = my_set1.isdisjoint(my_set2)\n",
    "print(my_set3)"
   ]
  },
  {
   "cell_type": "code",
   "execution_count": 29,
   "id": "9ea63eb3",
   "metadata": {},
   "outputs": [
    {
     "name": "stdout",
     "output_type": "stream",
     "text": [
      "True\n"
     ]
    }
   ],
   "source": [
    "my_set1 = {\"apple\",\"mango\",'cherry','kiwi','banana'}\n",
    "my_set2 = {'papaya','watermelon','orange'}\n",
    "\n",
    "my_set3 = my_set1.isdisjoint(my_set2)\n",
    "print(my_set3)"
   ]
  },
  {
   "cell_type": "markdown",
   "id": "b2af6a36",
   "metadata": {},
   "source": [
    "# 2. issubset() Method:\n",
    "    1. Return True if all the elements in set 1 are present in set 2\n",
    "    2. Return False if all elements are not present in both set"
   ]
  },
  {
   "cell_type": "code",
   "execution_count": 30,
   "id": "cb464bbb",
   "metadata": {},
   "outputs": [
    {
     "name": "stdout",
     "output_type": "stream",
     "text": [
      "True\n"
     ]
    }
   ],
   "source": [
    "my_set1 = {'apple','banana','cherry'}\n",
    "my_set2 = {'orange','kiwi','apple','watermelon','banana','cherry','papaya'}\n",
    "\n",
    "my_set3 = my_set1.issubset(my_set2)\n",
    "print(my_set3)"
   ]
  },
  {
   "cell_type": "code",
   "execution_count": 31,
   "id": "496ea2a6",
   "metadata": {},
   "outputs": [
    {
     "name": "stdout",
     "output_type": "stream",
     "text": [
      "False\n"
     ]
    }
   ],
   "source": [
    "my_set1 = {'apple','banana','cherry'}\n",
    "my_set2 = {'orange','kiwi','apple','watermelon','banana','papaya'}\n",
    "\n",
    "my_set3 = my_set1.issubset(my_set2)\n",
    "print(my_set3)"
   ]
  },
  {
   "cell_type": "code",
   "execution_count": 34,
   "id": "e6efe98b",
   "metadata": {},
   "outputs": [
    {
     "name": "stdout",
     "output_type": "stream",
     "text": [
      "False\n"
     ]
    }
   ],
   "source": [
    "my_set1 = {'orange','kiwi','apple','watermelon','cherry','banana','papaya'}\n",
    "my_set2 = {'apple','banana','cherry'}\n",
    "\n",
    "my_set3 = my_set1.issubset(my_set2)\n",
    "print(my_set3)"
   ]
  },
  {
   "cell_type": "markdown",
   "id": "073a0be8",
   "metadata": {},
   "source": [
    "# 3. issuperset() Method"
   ]
  },
  {
   "cell_type": "code",
   "execution_count": 32,
   "id": "918dd378",
   "metadata": {},
   "outputs": [
    {
     "name": "stdout",
     "output_type": "stream",
     "text": [
      "False\n"
     ]
    }
   ],
   "source": [
    "my_set1 = {'orange','kiwi','apple','watermelon','banana','papaya'}\n",
    "my_set2 = {'apple','banana','cherry'}\n",
    "\n",
    "my_set3 = my_set1.issuperset(my_set2)\n",
    "print(my_set3)"
   ]
  },
  {
   "cell_type": "code",
   "execution_count": 33,
   "id": "eab0aa16",
   "metadata": {},
   "outputs": [
    {
     "name": "stdout",
     "output_type": "stream",
     "text": [
      "True\n"
     ]
    }
   ],
   "source": [
    "my_set1 = {'orange','kiwi','apple','watermelon','cherry','banana','papaya'}\n",
    "my_set2 = {'apple','banana','cherry'}\n",
    "\n",
    "my_set3 = my_set1.issuperset(my_set2)\n",
    "print(my_set3)"
   ]
  },
  {
   "cell_type": "code",
   "execution_count": 36,
   "id": "36569148",
   "metadata": {},
   "outputs": [
    {
     "name": "stdout",
     "output_type": "stream",
     "text": [
      "False\n"
     ]
    }
   ],
   "source": [
    "my_set1 = {'apple','banana','cherry'}\n",
    "my_set2 = {'orange','kiwi','apple','watermelon','cherry','banana','papaya'}\n",
    "\n",
    "my_set3 = my_set1.issuperset(my_set2)\n",
    "print(my_set3)"
   ]
  },
  {
   "cell_type": "markdown",
   "id": "6c97a64d",
   "metadata": {},
   "source": [
    "# Questions"
   ]
  },
  {
   "cell_type": "code",
   "execution_count": 40,
   "id": "94513b2b",
   "metadata": {},
   "outputs": [
    {
     "name": "stdout",
     "output_type": "stream",
     "text": [
      "{'cherry', 'a', 'i', 'e', 'papaya', 'p', 'l', 'kiwi', 'banana', 'n', 'orange', 'apple', 'watermelon'}\n"
     ]
    }
   ],
   "source": [
    "my_set1 = {'orange','kiwi','apple','watermelon','cherry','banana','papaya'}\n",
    "\n",
    "my_set1.update('pineapple')\n",
    "print(my_set1)"
   ]
  },
  {
   "cell_type": "code",
   "execution_count": null,
   "id": "7a9a92bf",
   "metadata": {},
   "outputs": [],
   "source": []
  }
 ],
 "metadata": {
  "kernelspec": {
   "display_name": "Python 3",
   "language": "python",
   "name": "python3"
  },
  "language_info": {
   "codemirror_mode": {
    "name": "ipython",
    "version": 3
   },
   "file_extension": ".py",
   "mimetype": "text/x-python",
   "name": "python",
   "nbconvert_exporter": "python",
   "pygments_lexer": "ipython3",
   "version": "3.8.8"
  }
 },
 "nbformat": 4,
 "nbformat_minor": 5
}
