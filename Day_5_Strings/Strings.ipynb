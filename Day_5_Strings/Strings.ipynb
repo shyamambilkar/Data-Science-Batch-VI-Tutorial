{
 "cells": [
  {
   "cell_type": "markdown",
   "id": "2f3b38ff",
   "metadata": {},
   "source": [
    "# Manipulation of String"
   ]
  },
  {
   "cell_type": "code",
   "execution_count": 3,
   "id": "5e84437f",
   "metadata": {},
   "outputs": [
    {
     "name": "stdout",
     "output_type": "stream",
     "text": [
      "welcome to Data Science\n"
     ]
    }
   ],
   "source": [
    "x = \"welcome to Data Science\"\n",
    "print(x)"
   ]
  },
  {
   "cell_type": "code",
   "execution_count": 4,
   "id": "be4384c6",
   "metadata": {},
   "outputs": [
    {
     "name": "stdout",
     "output_type": "stream",
     "text": [
      "WELCOME TO DATA SCIENCE\n"
     ]
    }
   ],
   "source": [
    "print(x.upper())"
   ]
  },
  {
   "cell_type": "markdown",
   "id": "8a65e022",
   "metadata": {},
   "source": [
    "### Lower case"
   ]
  },
  {
   "cell_type": "code",
   "execution_count": 5,
   "id": "ca3747ac",
   "metadata": {},
   "outputs": [],
   "source": [
    "x = \" WELCOME TO DATA SCIENCE \""
   ]
  },
  {
   "cell_type": "code",
   "execution_count": 6,
   "id": "5758adc6",
   "metadata": {},
   "outputs": [
    {
     "name": "stdout",
     "output_type": "stream",
     "text": [
      "welcome to data science\n"
     ]
    }
   ],
   "source": [
    "print(x.lower())"
   ]
  },
  {
   "cell_type": "code",
   "execution_count": 9,
   "id": "787a2f85",
   "metadata": {},
   "outputs": [],
   "source": [
    "x = \"\"\" WELCOME TO DATA SCIENCE BATCH,\n",
    "MY LOCATION IS PUNE,\n",
    "MY POST IS DATA SCIENTIST \"\"\""
   ]
  },
  {
   "cell_type": "code",
   "execution_count": 10,
   "id": "05f5ce33",
   "metadata": {},
   "outputs": [
    {
     "name": "stdout",
     "output_type": "stream",
     "text": [
      " welcome to data science batch,\n",
      "my location is pune,\n",
      "my post is data scientist \n"
     ]
    }
   ],
   "source": [
    "print(x.lower())"
   ]
  },
  {
   "cell_type": "markdown",
   "id": "8fc21f9e",
   "metadata": {},
   "source": [
    "### Remove Whitespace"
   ]
  },
  {
   "cell_type": "code",
   "execution_count": 11,
   "id": "bffd3381",
   "metadata": {},
   "outputs": [],
   "source": [
    "x = \"\"\"   WELCOME TO DATA SCIENCE BATCH,\n",
    "MY LOCATION IS PUNE,\n",
    "MY POST IS DATA SCIENTIST    \"\"\""
   ]
  },
  {
   "cell_type": "code",
   "execution_count": 12,
   "id": "75095f15",
   "metadata": {},
   "outputs": [
    {
     "name": "stdout",
     "output_type": "stream",
     "text": [
      "   WELCOME TO DATA SCIENCE BATCH,\n",
      "MY LOCATION IS PUNE,\n",
      "MY POST IS DATA SCIENTIST    \n"
     ]
    }
   ],
   "source": [
    "print(x)"
   ]
  },
  {
   "cell_type": "code",
   "execution_count": 13,
   "id": "1e8ff4c0",
   "metadata": {},
   "outputs": [
    {
     "name": "stdout",
     "output_type": "stream",
     "text": [
      "WELCOME TO DATA SCIENCE BATCH,\n",
      "MY LOCATION IS PUNE,\n",
      "MY POST IS DATA SCIENTIST\n"
     ]
    }
   ],
   "source": [
    "print(x.strip())"
   ]
  },
  {
   "cell_type": "markdown",
   "id": "683d1bab",
   "metadata": {},
   "source": [
    "### Replace String"
   ]
  },
  {
   "cell_type": "code",
   "execution_count": 14,
   "id": "16552bf8",
   "metadata": {},
   "outputs": [],
   "source": [
    "x = \"WELCOME TO DATA SCIENCE\""
   ]
  },
  {
   "cell_type": "code",
   "execution_count": 15,
   "id": "0c0537c1",
   "metadata": {},
   "outputs": [
    {
     "name": "stdout",
     "output_type": "stream",
     "text": [
      " WELCOME TO DATA SCIENCE \n"
     ]
    }
   ],
   "source": [
    "print(x)"
   ]
  },
  {
   "cell_type": "code",
   "execution_count": 17,
   "id": "959867db",
   "metadata": {},
   "outputs": [
    {
     "name": "stdout",
     "output_type": "stream",
     "text": [
      " WELCOME TO PYTHON DATA SCIENCE \n"
     ]
    }
   ],
   "source": [
    "print(x.replace(\"TO\", \"TO PYTHON\"))"
   ]
  },
  {
   "cell_type": "code",
   "execution_count": 19,
   "id": "701c57c7",
   "metadata": {},
   "outputs": [],
   "source": [
    "x= \"Velcome to Data Science\""
   ]
  },
  {
   "cell_type": "code",
   "execution_count": 20,
   "id": "243ec76d",
   "metadata": {},
   "outputs": [
    {
     "name": "stdout",
     "output_type": "stream",
     "text": [
      "Welcome to Data Science\n"
     ]
    }
   ],
   "source": [
    "print(x.replace(\"V\", \"W\"))"
   ]
  },
  {
   "cell_type": "code",
   "execution_count": 21,
   "id": "eb7e5eda",
   "metadata": {},
   "outputs": [
    {
     "name": "stdout",
     "output_type": "stream",
     "text": [
      "Welcome to Data Science\n"
     ]
    }
   ],
   "source": [
    "y = x.replace(\"V\", \"W\")\n",
    "print(y)"
   ]
  },
  {
   "cell_type": "markdown",
   "id": "c1140456",
   "metadata": {},
   "source": [
    "### Split String"
   ]
  },
  {
   "cell_type": "code",
   "execution_count": 29,
   "id": "67f9dc2a",
   "metadata": {},
   "outputs": [],
   "source": [
    "x = \"Welcome to Data Science\""
   ]
  },
  {
   "cell_type": "code",
   "execution_count": 30,
   "id": "4986e99e",
   "metadata": {},
   "outputs": [
    {
     "name": "stdout",
     "output_type": "stream",
     "text": [
      "Welcome to Data Science\n"
     ]
    }
   ],
   "source": [
    "print(x)"
   ]
  },
  {
   "cell_type": "code",
   "execution_count": 31,
   "id": "2d18aa17",
   "metadata": {},
   "outputs": [
    {
     "name": "stdout",
     "output_type": "stream",
     "text": [
      "['Welcome', 'to', 'Data', 'Science']\n"
     ]
    }
   ],
   "source": [
    "y = x.split(\" \")\n",
    "print(y)"
   ]
  },
  {
   "cell_type": "markdown",
   "id": "37ff9bae",
   "metadata": {},
   "source": [
    "### Concatenation of String"
   ]
  },
  {
   "cell_type": "code",
   "execution_count": 37,
   "id": "80dadf2a",
   "metadata": {},
   "outputs": [
    {
     "name": "stdout",
     "output_type": "stream",
     "text": [
      "Python isAwesome\n"
     ]
    }
   ],
   "source": [
    "x = \"Python is\"\n",
    "y = \"Awesome\"\n",
    "\n",
    "z = x + y\n",
    "print(z)"
   ]
  },
  {
   "cell_type": "code",
   "execution_count": 38,
   "id": "69cfc673",
   "metadata": {},
   "outputs": [],
   "source": [
    "# x = 10\n",
    "# y = 20\n",
    "# z = x + y\n",
    "# print(z)"
   ]
  },
  {
   "cell_type": "code",
   "execution_count": 40,
   "id": "f630f32e",
   "metadata": {},
   "outputs": [
    {
     "name": "stdout",
     "output_type": "stream",
     "text": [
      "Python is Awesome\n"
     ]
    }
   ],
   "source": [
    "x = \"Python is\"\n",
    "y = \"Awesome\"\n",
    "\n",
    "z = x + \" \" + y\n",
    "print(z)"
   ]
  },
  {
   "cell_type": "markdown",
   "id": "e64b5b96",
   "metadata": {},
   "source": [
    "# Format of String"
   ]
  },
  {
   "cell_type": "code",
   "execution_count": 41,
   "id": "715d9cfc",
   "metadata": {},
   "outputs": [
    {
     "ename": "TypeError",
     "evalue": "can only concatenate str (not \"int\") to str",
     "output_type": "error",
     "traceback": [
      "\u001b[1;31m---------------------------------------------------------------------------\u001b[0m",
      "\u001b[1;31mTypeError\u001b[0m                                 Traceback (most recent call last)",
      "\u001b[1;32m<ipython-input-41-9d11b4c4af31>\u001b[0m in \u001b[0;36m<module>\u001b[1;34m\u001b[0m\n\u001b[0;32m      1\u001b[0m \u001b[0mage\u001b[0m \u001b[1;33m=\u001b[0m \u001b[1;36m25\u001b[0m\u001b[1;33m\u001b[0m\u001b[1;33m\u001b[0m\u001b[0m\n\u001b[1;32m----> 2\u001b[1;33m \u001b[0mmy_text\u001b[0m \u001b[1;33m=\u001b[0m \u001b[1;34m\"My name is Shyam, I am\"\u001b[0m \u001b[1;33m+\u001b[0m \u001b[0mage\u001b[0m\u001b[1;33m\u001b[0m\u001b[1;33m\u001b[0m\u001b[0m\n\u001b[0m\u001b[0;32m      3\u001b[0m \u001b[0mprint\u001b[0m\u001b[1;33m(\u001b[0m\u001b[0mmy_text\u001b[0m\u001b[1;33m)\u001b[0m\u001b[1;33m\u001b[0m\u001b[1;33m\u001b[0m\u001b[0m\n",
      "\u001b[1;31mTypeError\u001b[0m: can only concatenate str (not \"int\") to str"
     ]
    }
   ],
   "source": [
    "age = 25\n",
    "my_text = \"My name is Shyam, I am\" + age\n",
    "print(my_text)"
   ]
  },
  {
   "cell_type": "code",
   "execution_count": 42,
   "id": "371e2e56",
   "metadata": {},
   "outputs": [
    {
     "name": "stdout",
     "output_type": "stream",
     "text": [
      "My name is Shyam, I am 25 years old\n"
     ]
    }
   ],
   "source": [
    "age = 25\n",
    "my_text = \"My name is Shyam, I am {} years old\" \n",
    "print(my_text.format(age))"
   ]
  },
  {
   "cell_type": "code",
   "execution_count": 43,
   "id": "20428ab5",
   "metadata": {},
   "outputs": [
    {
     "name": "stdout",
     "output_type": "stream",
     "text": [
      "I want 3 qantity of item no 4 for 100.0 Rupees\n"
     ]
    }
   ],
   "source": [
    "quantity = 3\n",
    "item_no = 4\n",
    "price = 100.00\n",
    "my_order = \"I want {} qantity of item no {} for {} Rupees\"\n",
    "print(my_order.format(quantity,item_no,price))"
   ]
  },
  {
   "cell_type": "code",
   "execution_count": 46,
   "id": "ce1ba026",
   "metadata": {},
   "outputs": [
    {
     "name": "stdout",
     "output_type": "stream",
     "text": [
      "                                                               WELCOME TO DATA SCIENCE                                                                \n"
     ]
    }
   ],
   "source": [
    "x = \"WELCOME TO DATA SCIENCE\"\n",
    "\n",
    "y = x.center(150)\n",
    "print(y)"
   ]
  },
  {
   "cell_type": "code",
   "execution_count": null,
   "id": "fa7a4262",
   "metadata": {},
   "outputs": [],
   "source": []
  }
 ],
 "metadata": {
  "kernelspec": {
   "display_name": "Python 3",
   "language": "python",
   "name": "python3"
  },
  "language_info": {
   "codemirror_mode": {
    "name": "ipython",
    "version": 3
   },
   "file_extension": ".py",
   "mimetype": "text/x-python",
   "name": "python",
   "nbconvert_exporter": "python",
   "pygments_lexer": "ipython3",
   "version": "3.8.8"
  }
 },
 "nbformat": 4,
 "nbformat_minor": 5
}
