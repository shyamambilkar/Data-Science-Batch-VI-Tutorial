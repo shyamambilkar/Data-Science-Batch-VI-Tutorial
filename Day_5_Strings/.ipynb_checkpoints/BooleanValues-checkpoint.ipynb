{
 "cells": [
  {
   "cell_type": "markdown",
   "id": "4338b3ca",
   "metadata": {},
   "source": [
    "# Booleans Values"
   ]
  },
  {
   "cell_type": "code",
   "execution_count": 13,
   "id": "b2f59f89",
   "metadata": {},
   "outputs": [
    {
     "name": "stdout",
     "output_type": "stream",
     "text": [
      "a is not greater than b (False)\n"
     ]
    }
   ],
   "source": [
    "a = 10\n",
    "b = 20\n",
    "\n",
    "if a > b:\n",
    "    print(\" a is greater than b (True)\")\n",
    "else:\n",
    "    print(\"a is not greater than b (False)\")\n",
    "    "
   ]
  },
  {
   "cell_type": "code",
   "execution_count": 14,
   "id": "bd1dab45",
   "metadata": {},
   "outputs": [
    {
     "name": "stdout",
     "output_type": "stream",
     "text": [
      "True\n"
     ]
    }
   ],
   "source": [
    "print(bool(\"Welcome\"))"
   ]
  },
  {
   "cell_type": "code",
   "execution_count": 16,
   "id": "60b330b9",
   "metadata": {},
   "outputs": [
    {
     "name": "stdout",
     "output_type": "stream",
     "text": [
      "False\n"
     ]
    }
   ],
   "source": [
    "print(bool())"
   ]
  },
  {
   "cell_type": "code",
   "execution_count": 17,
   "id": "a1d72deb",
   "metadata": {},
   "outputs": [
    {
     "data": {
      "text/plain": [
       "False"
      ]
     },
     "execution_count": 17,
     "metadata": {},
     "output_type": "execute_result"
    }
   ],
   "source": [
    "bool(None)"
   ]
  },
  {
   "cell_type": "code",
   "execution_count": 19,
   "id": "78de3387",
   "metadata": {},
   "outputs": [],
   "source": [
    "# help(bool)"
   ]
  },
  {
   "cell_type": "markdown",
   "id": "9283b95d",
   "metadata": {},
   "source": [
    "# Python Operators"
   ]
  },
  {
   "cell_type": "markdown",
   "id": "59cb99e2",
   "metadata": {},
   "source": [
    "1. There are different types of Operators are available in Python:\n",
    "    1. Arithmatic Operators\n",
    "    2. Assignment Operators\n",
    "    3. Comparison Operators\n",
    "    4. Logical operators\n",
    "    5. Identity Operators\n",
    "    6. Membership Operators\n",
    "    7. Bitwise operators"
   ]
  },
  {
   "cell_type": "markdown",
   "id": "9bf7e312",
   "metadata": {},
   "source": [
    "### 1. Arithmatic Operators:\n",
    "    1. Addition [+]\n",
    "    2. Substraction [-]\n",
    "    3. Multiplication [*]\n",
    "    4. Division [/]\n",
    "    5. Modulus [ %]\n",
    "    6. Exponention [**]\n",
    "    7. Flore Division [//]"
   ]
  },
  {
   "cell_type": "code",
   "execution_count": 21,
   "id": "fd8b0bbb",
   "metadata": {},
   "outputs": [
    {
     "name": "stdout",
     "output_type": "stream",
     "text": [
      "150\n"
     ]
    }
   ],
   "source": [
    "a = 100\n",
    "b = 50\n",
    "c = a + b\n",
    "print(c)"
   ]
  },
  {
   "cell_type": "code",
   "execution_count": 22,
   "id": "d48842d2",
   "metadata": {},
   "outputs": [
    {
     "name": "stdout",
     "output_type": "stream",
     "text": [
      "50\n"
     ]
    }
   ],
   "source": [
    "a = 100\n",
    "b = 50\n",
    "c = a - b\n",
    "print(c)"
   ]
  },
  {
   "cell_type": "code",
   "execution_count": 23,
   "id": "011941db",
   "metadata": {},
   "outputs": [
    {
     "name": "stdout",
     "output_type": "stream",
     "text": [
      "5000\n"
     ]
    }
   ],
   "source": [
    "a = 100\n",
    "b = 50\n",
    "c = a * b\n",
    "print(c)"
   ]
  },
  {
   "cell_type": "code",
   "execution_count": 26,
   "id": "1814158c",
   "metadata": {},
   "outputs": [
    {
     "name": "stdout",
     "output_type": "stream",
     "text": [
      "2.0\n"
     ]
    }
   ],
   "source": [
    "a = 100\n",
    "b = 50\n",
    "c = a / b\n",
    "print(c)"
   ]
  },
  {
   "cell_type": "code",
   "execution_count": 27,
   "id": "0ae360e8",
   "metadata": {},
   "outputs": [
    {
     "name": "stdout",
     "output_type": "stream",
     "text": [
      "2\n"
     ]
    }
   ],
   "source": [
    "a = 100\n",
    "b = 50\n",
    "c = a // b\n",
    "print(c)"
   ]
  },
  {
   "cell_type": "code",
   "execution_count": 29,
   "id": "a3803cd1",
   "metadata": {},
   "outputs": [
    {
     "name": "stdout",
     "output_type": "stream",
     "text": [
      "1\n"
     ]
    }
   ],
   "source": [
    "a = 101\n",
    "b = 50\n",
    "c = a % b\n",
    "print(c)"
   ]
  },
  {
   "cell_type": "code",
   "execution_count": 35,
   "id": "03ee3e26",
   "metadata": {},
   "outputs": [
    {
     "name": "stdout",
     "output_type": "stream",
     "text": [
      "16\n"
     ]
    }
   ],
   "source": [
    "a = 2\n",
    "b = 4\n",
    "c = a ** b\n",
    "print(c)\n",
    "\n",
    "# 2 * 2 * 2 * 2 "
   ]
  },
  {
   "cell_type": "markdown",
   "id": "7868a000",
   "metadata": {},
   "source": [
    "# User Input"
   ]
  },
  {
   "cell_type": "code",
   "execution_count": 45,
   "id": "78c783b0",
   "metadata": {},
   "outputs": [
    {
     "name": "stdout",
     "output_type": "stream",
     "text": [
      "Enter First Number: 100\n",
      "Enter Second Number: 100\n",
      "0\n",
      "200\n"
     ]
    }
   ],
   "source": [
    "a = int(input(\"Enter First Number: \"))\n",
    "b = int(input(\"Enter Second Number: \"))\n",
    "\n",
    "\n",
    "c = a + b\n",
    "d = a - b\n",
    "print(d)\n",
    "print(c)"
   ]
  },
  {
   "cell_type": "code",
   "execution_count": 38,
   "id": "27db7f7c",
   "metadata": {},
   "outputs": [
    {
     "name": "stdout",
     "output_type": "stream",
     "text": [
      "100\n"
     ]
    }
   ],
   "source": [
    "print(a)"
   ]
  },
  {
   "cell_type": "code",
   "execution_count": 57,
   "id": "016b4e2f",
   "metadata": {},
   "outputs": [
    {
     "name": "stdout",
     "output_type": "stream",
     "text": [
      "Select Operations.\n",
      "1. add\n",
      "2. sub\n",
      "3. mul\n",
      "4. div\n",
      "Enter your choice(1/2/3/4): 1\n",
      "Enter First Number: 12\n",
      "Enter Second Number: 12.25\n",
      "12.0 + 12.25 = 24.25\n",
      "Lets do next calculation? (yes/no): no\n"
     ]
    }
   ],
   "source": [
    "def add(x, y):\n",
    "    return x + y\n",
    "\n",
    "\n",
    "def sub(x, y):\n",
    "    return x - y\n",
    "\n",
    "def mul(x, y):\n",
    "    return x * y\n",
    "\n",
    "\n",
    "def div(x, y):\n",
    "    return x / y\n",
    "\n",
    "\n",
    "print(\"Select Operations.\")\n",
    "print(\"1. add\")\n",
    "print(\"2. sub\")\n",
    "print(\"3. mul\")\n",
    "print(\"4. div\")\n",
    "\n",
    "while True:\n",
    "    choice = input(\"Enter your choice(1/2/3/4): \")\n",
    "    \n",
    "    \n",
    "    if choice in ('1','2','3','4'):\n",
    "        num1 = float(input(\"Enter First Number: \"))\n",
    "        num2 = float(input(\"Enter Second Number: \"))\n",
    "        \n",
    "        \n",
    "        if choice == '1':\n",
    "            print(num1,\"+\", num2, \"=\", add(num1, num2))\n",
    "            \n",
    "        elif choice == '2':\n",
    "            print(num1,\"-\", num2, \"=\", sub(num1, num2))\n",
    "        \n",
    "        elif choice == '3':\n",
    "            print(num1,\"*\", num2, \"=\", mul(num1, num2))\n",
    "        \n",
    "        elif choice == '4':\n",
    "            print(num1,\"/\", num2, \"=\", div(num1, num2))\n",
    "            \n",
    "            \n",
    "        next_calculation = input(\"Lets do next calculation? (yes/no): \")\n",
    "        if next_calculation == \"no\":\n",
    "            break\n",
    "    else:\n",
    "        print(\"Invalid Operations\")\n",
    "    "
   ]
  },
  {
   "cell_type": "code",
   "execution_count": null,
   "id": "b01c4c0f",
   "metadata": {},
   "outputs": [],
   "source": []
  }
 ],
 "metadata": {
  "kernelspec": {
   "display_name": "Python 3",
   "language": "python",
   "name": "python3"
  },
  "language_info": {
   "codemirror_mode": {
    "name": "ipython",
    "version": 3
   },
   "file_extension": ".py",
   "mimetype": "text/x-python",
   "name": "python",
   "nbconvert_exporter": "python",
   "pygments_lexer": "ipython3",
   "version": "3.8.8"
  }
 },
 "nbformat": 4,
 "nbformat_minor": 5
}
