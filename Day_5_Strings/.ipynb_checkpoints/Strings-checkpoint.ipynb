{
 "cells": [
  {
   "cell_type": "markdown",
   "id": "40a53a14",
   "metadata": {},
   "source": [
    "# Manipulation of String"
   ]
  },
  {
   "cell_type": "code",
   "execution_count": 3,
   "id": "4559f54d",
   "metadata": {},
   "outputs": [
    {
     "name": "stdout",
     "output_type": "stream",
     "text": [
      "welcome to Data Science\n"
     ]
    }
   ],
   "source": [
    "x = \"welcome to Data Science\"\n",
    "print(x)"
   ]
  },
  {
   "cell_type": "code",
   "execution_count": 4,
   "id": "30c8f572",
   "metadata": {},
   "outputs": [
    {
     "name": "stdout",
     "output_type": "stream",
     "text": [
      "WELCOME TO DATA SCIENCE\n"
     ]
    }
   ],
   "source": [
    "print(x.upper())"
   ]
  },
  {
   "cell_type": "markdown",
   "id": "7a8063ce",
   "metadata": {},
   "source": [
    "### Lower case"
   ]
  },
  {
   "cell_type": "code",
   "execution_count": 5,
   "id": "fc1d7764",
   "metadata": {},
   "outputs": [],
   "source": [
    "x = \" WELCOME TO DATA SCIENCE \""
   ]
  },
  {
   "cell_type": "code",
   "execution_count": 6,
   "id": "4af4bef5",
   "metadata": {},
   "outputs": [
    {
     "name": "stdout",
     "output_type": "stream",
     "text": [
      "welcome to data science\n"
     ]
    }
   ],
   "source": [
    "print(x.lower())"
   ]
  },
  {
   "cell_type": "code",
   "execution_count": 9,
   "id": "000a1522",
   "metadata": {},
   "outputs": [],
   "source": [
    "x = \"\"\" WELCOME TO DATA SCIENCE BATCH,\n",
    "MY LOCATION IS PUNE,\n",
    "MY POST IS DATA SCIENTIST \"\"\""
   ]
  },
  {
   "cell_type": "code",
   "execution_count": 10,
   "id": "99befb57",
   "metadata": {},
   "outputs": [
    {
     "name": "stdout",
     "output_type": "stream",
     "text": [
      " welcome to data science batch,\n",
      "my location is pune,\n",
      "my post is data scientist \n"
     ]
    }
   ],
   "source": [
    "print(x.lower())"
   ]
  },
  {
   "cell_type": "markdown",
   "id": "26114bc7",
   "metadata": {},
   "source": [
    "### Remove Whitespace"
   ]
  },
  {
   "cell_type": "code",
   "execution_count": 11,
   "id": "e6b3646e",
   "metadata": {},
   "outputs": [],
   "source": [
    "x = \"\"\"   WELCOME TO DATA SCIENCE BATCH,\n",
    "MY LOCATION IS PUNE,\n",
    "MY POST IS DATA SCIENTIST    \"\"\""
   ]
  },
  {
   "cell_type": "code",
   "execution_count": 12,
   "id": "5ac90496",
   "metadata": {},
   "outputs": [
    {
     "name": "stdout",
     "output_type": "stream",
     "text": [
      "   WELCOME TO DATA SCIENCE BATCH,\n",
      "MY LOCATION IS PUNE,\n",
      "MY POST IS DATA SCIENTIST    \n"
     ]
    }
   ],
   "source": [
    "print(x)"
   ]
  },
  {
   "cell_type": "code",
   "execution_count": 13,
   "id": "ab81af9e",
   "metadata": {},
   "outputs": [
    {
     "name": "stdout",
     "output_type": "stream",
     "text": [
      "WELCOME TO DATA SCIENCE BATCH,\n",
      "MY LOCATION IS PUNE,\n",
      "MY POST IS DATA SCIENTIST\n"
     ]
    }
   ],
   "source": [
    "print(x.strip())"
   ]
  },
  {
   "cell_type": "markdown",
   "id": "582856d7",
   "metadata": {},
   "source": [
    "### Replace String"
   ]
  },
  {
   "cell_type": "code",
   "execution_count": 14,
   "id": "db221f0c",
   "metadata": {},
   "outputs": [],
   "source": [
    "x = \"WELCOME TO DATA SCIENCE\""
   ]
  },
  {
   "cell_type": "code",
   "execution_count": 15,
   "id": "fe66f6d8",
   "metadata": {},
   "outputs": [
    {
     "name": "stdout",
     "output_type": "stream",
     "text": [
      " WELCOME TO DATA SCIENCE \n"
     ]
    }
   ],
   "source": [
    "print(x)"
   ]
  },
  {
   "cell_type": "code",
   "execution_count": 17,
   "id": "3a4668d6",
   "metadata": {},
   "outputs": [
    {
     "name": "stdout",
     "output_type": "stream",
     "text": [
      " WELCOME TO PYTHON DATA SCIENCE \n"
     ]
    }
   ],
   "source": [
    "print(x.replace(\"TO\", \"TO PYTHON\"))"
   ]
  },
  {
   "cell_type": "code",
   "execution_count": 19,
   "id": "93308898",
   "metadata": {},
   "outputs": [],
   "source": [
    "x= \"Velcome to Data Science\""
   ]
  },
  {
   "cell_type": "code",
   "execution_count": 20,
   "id": "cf33781c",
   "metadata": {},
   "outputs": [
    {
     "name": "stdout",
     "output_type": "stream",
     "text": [
      "Welcome to Data Science\n"
     ]
    }
   ],
   "source": [
    "print(x.replace(\"V\", \"W\"))"
   ]
  },
  {
   "cell_type": "code",
   "execution_count": 21,
   "id": "395d8c4b",
   "metadata": {},
   "outputs": [
    {
     "name": "stdout",
     "output_type": "stream",
     "text": [
      "Welcome to Data Science\n"
     ]
    }
   ],
   "source": [
    "y = x.replace(\"V\", \"W\")\n",
    "print(y)"
   ]
  },
  {
   "cell_type": "markdown",
   "id": "e2129842",
   "metadata": {},
   "source": [
    "### Split String"
   ]
  },
  {
   "cell_type": "code",
   "execution_count": 29,
   "id": "b151091c",
   "metadata": {},
   "outputs": [],
   "source": [
    "x = \"Welcome to Data Science\""
   ]
  },
  {
   "cell_type": "code",
   "execution_count": 30,
   "id": "85a553f0",
   "metadata": {},
   "outputs": [
    {
     "name": "stdout",
     "output_type": "stream",
     "text": [
      "Welcome to Data Science\n"
     ]
    }
   ],
   "source": [
    "print(x)"
   ]
  },
  {
   "cell_type": "code",
   "execution_count": 31,
   "id": "3a8eb87e",
   "metadata": {},
   "outputs": [
    {
     "name": "stdout",
     "output_type": "stream",
     "text": [
      "['Welcome', 'to', 'Data', 'Science']\n"
     ]
    }
   ],
   "source": [
    "y = x.split(\" \")\n",
    "print(y)"
   ]
  },
  {
   "cell_type": "markdown",
   "id": "f7cde8cf",
   "metadata": {},
   "source": [
    "### Concatenation of String"
   ]
  },
  {
   "cell_type": "code",
   "execution_count": 37,
   "id": "c05b5ada",
   "metadata": {},
   "outputs": [
    {
     "name": "stdout",
     "output_type": "stream",
     "text": [
      "Python isAwesome\n"
     ]
    }
   ],
   "source": [
    "x = \"Python is\"\n",
    "y = \"Awesome\"\n",
    "\n",
    "z = x + y\n",
    "print(z)"
   ]
  },
  {
   "cell_type": "code",
   "execution_count": 38,
   "id": "a0490292",
   "metadata": {},
   "outputs": [],
   "source": [
    "# x = 10\n",
    "# y = 20\n",
    "# z = x + y\n",
    "# print(z)"
   ]
  },
  {
   "cell_type": "code",
   "execution_count": 40,
   "id": "015d8cbb",
   "metadata": {},
   "outputs": [
    {
     "name": "stdout",
     "output_type": "stream",
     "text": [
      "Python is Awesome\n"
     ]
    }
   ],
   "source": [
    "x = \"Python is\"\n",
    "y = \"Awesome\"\n",
    "\n",
    "z = x + \" \" + y\n",
    "print(z)"
   ]
  },
  {
   "cell_type": "markdown",
   "id": "63c960ca",
   "metadata": {},
   "source": [
    "# Format of String"
   ]
  },
  {
   "cell_type": "code",
   "execution_count": 41,
   "id": "9af29b5b",
   "metadata": {},
   "outputs": [
    {
     "ename": "TypeError",
     "evalue": "can only concatenate str (not \"int\") to str",
     "output_type": "error",
     "traceback": [
      "\u001b[1;31m---------------------------------------------------------------------------\u001b[0m",
      "\u001b[1;31mTypeError\u001b[0m                                 Traceback (most recent call last)",
      "\u001b[1;32m<ipython-input-41-9d11b4c4af31>\u001b[0m in \u001b[0;36m<module>\u001b[1;34m\u001b[0m\n\u001b[0;32m      1\u001b[0m \u001b[0mage\u001b[0m \u001b[1;33m=\u001b[0m \u001b[1;36m25\u001b[0m\u001b[1;33m\u001b[0m\u001b[1;33m\u001b[0m\u001b[0m\n\u001b[1;32m----> 2\u001b[1;33m \u001b[0mmy_text\u001b[0m \u001b[1;33m=\u001b[0m \u001b[1;34m\"My name is Shyam, I am\"\u001b[0m \u001b[1;33m+\u001b[0m \u001b[0mage\u001b[0m\u001b[1;33m\u001b[0m\u001b[1;33m\u001b[0m\u001b[0m\n\u001b[0m\u001b[0;32m      3\u001b[0m \u001b[0mprint\u001b[0m\u001b[1;33m(\u001b[0m\u001b[0mmy_text\u001b[0m\u001b[1;33m)\u001b[0m\u001b[1;33m\u001b[0m\u001b[1;33m\u001b[0m\u001b[0m\n",
      "\u001b[1;31mTypeError\u001b[0m: can only concatenate str (not \"int\") to str"
     ]
    }
   ],
   "source": [
    "age = 25\n",
    "my_text = \"My name is Shyam, I am\" + age\n",
    "print(my_text)"
   ]
  },
  {
   "cell_type": "code",
   "execution_count": 42,
   "id": "886275ed",
   "metadata": {},
   "outputs": [
    {
     "name": "stdout",
     "output_type": "stream",
     "text": [
      "My name is Shyam, I am 25 years old\n"
     ]
    }
   ],
   "source": [
    "age = 25\n",
    "my_text = \"My name is Shyam, I am {} years old\" \n",
    "print(my_text.format(age))"
   ]
  },
  {
   "cell_type": "code",
   "execution_count": 43,
   "id": "746befa2",
   "metadata": {},
   "outputs": [
    {
     "name": "stdout",
     "output_type": "stream",
     "text": [
      "I want 3 qantity of item no 4 for 100.0 Rupees\n"
     ]
    }
   ],
   "source": [
    "quantity = 3\n",
    "item_no = 4\n",
    "price = 100.00\n",
    "my_order = \"I want {} qantity of item no {} for {} Rupees\"\n",
    "print(my_order.format(quantity,item_no,price))"
   ]
  },
  {
   "cell_type": "code",
   "execution_count": 46,
   "id": "3023bda7",
   "metadata": {},
   "outputs": [
    {
     "name": "stdout",
     "output_type": "stream",
     "text": [
      "                                                               WELCOME TO DATA SCIENCE                                                                \n"
     ]
    }
   ],
   "source": [
    "x = \"WELCOME TO DATA SCIENCE\"\n",
    "\n",
    "y = x.center(150)\n",
    "print(y)"
   ]
  },
  {
   "cell_type": "code",
   "execution_count": null,
   "id": "e221a8a9",
   "metadata": {},
   "outputs": [],
   "source": []
  }
 ],
 "metadata": {
  "kernelspec": {
   "display_name": "Python 3",
   "language": "python",
   "name": "python3"
  },
  "language_info": {
   "codemirror_mode": {
    "name": "ipython",
    "version": 3
   },
   "file_extension": ".py",
   "mimetype": "text/x-python",
   "name": "python",
   "nbconvert_exporter": "python",
   "pygments_lexer": "ipython3",
   "version": "3.8.8"
  }
 },
 "nbformat": 4,
 "nbformat_minor": 5
}
