{
 "cells": [
  {
   "cell_type": "markdown",
   "id": "988f294d",
   "metadata": {},
   "source": [
    "# Supervised Machine Learning Algorithm"
   ]
  },
  {
   "cell_type": "markdown",
   "id": "2c1152d9",
   "metadata": {},
   "source": [
    "1. Supervised Machine Learning algorithm is **input variable (x independent) and output variable (y dependent)**\n",
    "2. Using algorithm to learn mapping function from input to output\n",
    "3. Function y = f(x)\n",
    "4. The main goal is to approximate mapping function to well whenever new data (x) good for prediction variable\n",
    "5. There are two different types of Supervised Learning Algorithm:\n",
    "    1. Regression\n",
    "    2. Classification"
   ]
  },
  {
   "cell_type": "markdown",
   "id": "7430a296",
   "metadata": {},
   "source": [
    "![](https://static.javatpoint.com/tutorial/machine-learning/images/supervised-machine-learning.png)"
   ]
  },
  {
   "cell_type": "markdown",
   "id": "8350b827",
   "metadata": {},
   "source": [
    "## 1. Regression"
   ]
  },
  {
   "cell_type": "markdown",
   "id": "61154414",
   "metadata": {},
   "source": [
    "1. It is supervised machine learning algorithm\n",
    "2. It learned from the **labled** dataset and then able to predict contineous data\n",
    "3. Example:\n",
    "    1. Money or Height\n",
    "    2. Weight\n",
    "    \n",
    "4. input variable - [x - independent variable]\n",
    "5. output variable - [y - Dependent variable] or [Target Variable] or [Predicted Variable]\n",
    "6. There are three types of Regression:\n",
    "    1. Linear Regression\n",
    "    2. Lasso Regression\n",
    "    3. Ridge Regression (L1 and L2 or Regularization Technique ]"
   ]
  },
  {
   "cell_type": "markdown",
   "id": "80e3316d",
   "metadata": {},
   "source": [
    "## 2. Classification"
   ]
  },
  {
   "cell_type": "markdown",
   "id": "d7c52917",
   "metadata": {},
   "source": [
    "1. It is supervised machine learning algorithm\n",
    "2. It is used identity of the category of new obervation on the basis Training\n",
    "3. It is used both working for Structured and Non Structured\n",
    "4. Classification can be Three types:\n",
    "    1. Binary Classification\n",
    "    2. Multiclass Classification\n",
    "    3. Multilabeled Classification\n",
    "5. There are different types of Classification Algorithm:\n",
    "    1. Logistic Regression\n",
    "    2. Naive Bayes [NB]\n",
    "    3. Support Vector Machine [SVM]\n",
    "    4. K- Nearest Neighbor [KNN]\n",
    "    5. Decison Tree"
   ]
  },
  {
   "cell_type": "markdown",
   "id": "ca4b2f14",
   "metadata": {},
   "source": [
    "# 2. Unsupervised Machine Learning Algorithm"
   ]
  },
  {
   "cell_type": "markdown",
   "id": "7eedcb43",
   "metadata": {},
   "source": [
    "![](https://static.javatpoint.com/tutorial/machine-learning/images/unsupervised-machine-learning-1.png)"
   ]
  },
  {
   "cell_type": "markdown",
   "id": "4b14581d",
   "metadata": {},
   "source": [
    "![](https://qph.fs.quoracdn.net/main-qimg-dbfc616cdd5263530e8491fc5c2f523d)"
   ]
  },
  {
   "cell_type": "markdown",
   "id": "1b133a59",
   "metadata": {},
   "source": [
    "1. Unsuperised Learning algorithm only have input variable [x - independent variable]\n",
    "2. No Target variable [Dependent Variable]\n",
    "3. There are three diffrent of Unsupervised:\n",
    "    1. Clustering:\n",
    "        1. K- Means\n",
    "        2. K - Medians\n",
    "    2. Association Rules (Analysis):\n",
    "        1. Aprori\n",
    "        2. FP Growth\n",
    "        3. Market Basket Analysis\n",
    "    3. Dimensionality Reduction:\n",
    "        1. PCA - Principle Component Analysis"
   ]
  },
  {
   "cell_type": "markdown",
   "id": "9fe5e2bf",
   "metadata": {},
   "source": [
    "# 3. Reinforcement Learning"
   ]
  },
  {
   "cell_type": "markdown",
   "id": "11821ebf",
   "metadata": {},
   "source": [
    "1. Reiforcement algorithm machine learn automatically determines ideal behaviour, specific context performance\n",
    "2. There are two different types of reinforcement Learning algorithm:\n",
    "    1. Model Based\n",
    "    2. Model Tree"
   ]
  },
  {
   "cell_type": "markdown",
   "id": "10810526",
   "metadata": {},
   "source": [
    "![](https://techvidvan.com/tutorials/wp-content/uploads/sites/2/2020/08/Reinforcement-Learning-in-ML-TV.jpg)"
   ]
  },
  {
   "cell_type": "code",
   "execution_count": null,
   "id": "a87b08be",
   "metadata": {},
   "outputs": [],
   "source": []
  }
 ],
 "metadata": {
  "kernelspec": {
   "display_name": "Python 3",
   "language": "python",
   "name": "python3"
  },
  "language_info": {
   "codemirror_mode": {
    "name": "ipython",
    "version": 3
   },
   "file_extension": ".py",
   "mimetype": "text/x-python",
   "name": "python",
   "nbconvert_exporter": "python",
   "pygments_lexer": "ipython3",
   "version": "3.8.8"
  }
 },
 "nbformat": 4,
 "nbformat_minor": 5
}
