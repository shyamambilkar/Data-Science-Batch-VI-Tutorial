{
 "cells": [
  {
   "cell_type": "markdown",
   "id": "42841d2a",
   "metadata": {},
   "source": [
    "# What is Regression Model?"
   ]
  },
  {
   "cell_type": "markdown",
   "id": "5f943639",
   "metadata": {},
   "source": [
    "1. Regression model is statistical model that estimate the relationship between one depedent variable one or more independent vairable using line.\n",
    "2. (or a plane in the case of two or more independent variable)\n",
    "3. A Regression model can be used when the dependent variable is a quantitive"
   ]
  },
  {
   "cell_type": "markdown",
   "id": "a3a6cb1d",
   "metadata": {},
   "source": [
    "## Multiple Linear Regression"
   ]
  },
  {
   "cell_type": "markdown",
   "id": "19cdf2d3",
   "metadata": {},
   "source": [
    "1. Regression models are used to describe relationship between varible by fitting a line to the observed data.\n",
    "2. Regression allows you to estimate has depndepent variable as indepedent variable changes\n",
    "3. Multiple linear regrssion are used to findout relationship between two or more independent variable and one dependent variable.\n",
    "4. Use multiple linear regression when you want to know:\n",
    "    1. How strong the relationship between two or more independent variable and one dependent variable:\n",
    "        1. Example - How rainfall, temprature, and amount of fertilizers added affect of crop growth\n",
    "    2. The value of dependent variable of a certain value of the independent variable:\n",
    "        1. Example - Expected yield of a crop at certain levals of rainfall, temprature and fertilizers addition."
   ]
  },
  {
   "cell_type": "markdown",
   "id": "88f6b66a",
   "metadata": {},
   "source": [
    "### Assumption of Multiple Linear Regression"
   ]
  },
  {
   "cell_type": "markdown",
   "id": "3331d1b8",
   "metadata": {},
   "source": [
    "1. multiple Linear Regression make all assumption as Multiple Linear Regression:\n",
    "    1. Homogenenity of Variance [Homoscedastisity]:\n",
    "        1. The Size of error in our prediction dosent change significantly across the value indepndent variable\n",
    "    2. Independence of Observation:\n",
    "        1. Observation  in the dataset were collected using statistical method\n",
    "        2. There is no Hidden relationship among variable\n",
    "        3. In multiple linear Regression, It is possible to that some variable (independent variable) highly correaltion with another\n",
    "        4. So it important to check before developing Regression model\n",
    "        5. It two variable are too highly correlated (r2 > 0.6),  then only one of them should be used in regression model\n",
    "    3. Normality:\n",
    "        1. The data follows a **Normal Distribution**\n",
    "    4. Linearity:\n",
    "        1. The line of best fit through the data points is a straght line rather than the a curve or some sort of grouping factor."
   ]
  },
  {
   "cell_type": "markdown",
   "id": "690ecef9",
   "metadata": {},
   "source": [
    "### Perform a Multiple Linear Regression"
   ]
  },
  {
   "cell_type": "markdown",
   "id": "84766863",
   "metadata": {},
   "source": [
    "For a Multiple linear Regression is, **y = B0 + B1X1 + B2X2 + .......+BnXn + epsilon**"
   ]
  },
  {
   "cell_type": "markdown",
   "id": "e6610e37",
   "metadata": {},
   "source": [
    "1. y = Predicted value of Dependent Variable [ Target Variable or Prediction Variable]\n",
    "2. B0 = y- intercept (value of y when all other parameters are set to 0)\n",
    "3. B1X1 = Regression of Coefficient(B1) of the first indepdent variable X1(effect hat increasing the value of independent variable has on the predicted value of Y)\n",
    "4. [.] = same for how ever indpendent variable you testing \n",
    "5. BnXn = Regression coeficient of the last independent variable\n",
    "6. [e] = Model Error [How much variation in our estimate of Y]"
   ]
  },
  {
   "cell_type": "markdown",
   "id": "0d2e7b8f",
   "metadata": {},
   "source": [
    "#### To find **Best-Fit-Line** for each independent variable, Multiple Linear Regression caculate three things:\n",
    "    1. Regression of Coefficient\n",
    "    2. T Statistics of overall model\n",
    "    3. Associate P-Value:\n",
    "        1. How likely it is that T-statistics  method has occoured by chance if the Null Hypothesis of No relationship between independent and depedent variable.\n",
    "        \n",
    "1. If then calculate T- statistics and P -Value for each regression coeffcient in the model"
   ]
  },
  {
   "cell_type": "markdown",
   "id": "f6edfade",
   "metadata": {},
   "source": [
    "### Algorithm:\n",
    "    1. Plotted Number of observation on the Graph:\n",
    "        1. Now our main goal is to finout regression line (Best fit Line)\n",
    "        2. to estimate error between actual and predicted value\n",
    "        3. our main goal is to reduce error that is distance between Actual value and Predicted value \n",
    "    2. Now calculate mean of x and mean of y\n",
    "    3. Now plot a graph using mean\n",
    "    4. Now our goal is find or predict Best Fit line using Least square method:\n",
    "        1. Now we need to findout equation of line, so lets find the Our regrssion line:\n",
    "            1. Y = mx + c\n",
    "            2. Now we have equation of line, so we need to find the line:\n",
    "                1. value of m [m = summation(x - mean_x) (y - mean_y) / summation of (x -mean_x) ** 2]:\n",
    "                    1. Now calculate x - mean_x\n",
    "                    2. Now calculate y - mean_y\n",
    "                    3. Now need calculate product of (x - mean_x) * y - mean_y\n",
    "            3. Now calcualte summation of last two columns\n",
    "    5. Now calculate Regression of line \n",
    "    6. Now calculate Prediction value of y\n",
    "    7. Now calculate distance between Actual value and Predicted \n",
    "    8. Now it will perform n number of iterations for different value of m it will calculate equation of line:\n",
    "        1. Y = mx + c\n",
    "     "
   ]
  },
  {
   "cell_type": "markdown",
   "id": "f039bda4",
   "metadata": {},
   "source": [
    "1. According to line and composed distance between actual and predicted value\n",
    "2. value of m for which is distance between Actual and Predicted value is minimum will be selected as **Best fit Line**"
   ]
  },
  {
   "cell_type": "markdown",
   "id": "b76fec9d",
   "metadata": {},
   "source": [
    "9. Now we have calculate Best fit line\n",
    "10. Goodness of fit or how our model performing good?:\n",
    "    1. R Squared Method\n",
    "    2. Adjusent R squared Method"
   ]
  },
  {
   "cell_type": "code",
   "execution_count": null,
   "id": "7bae595f",
   "metadata": {},
   "outputs": [],
   "source": []
  }
 ],
 "metadata": {
  "kernelspec": {
   "display_name": "Python 3",
   "language": "python",
   "name": "python3"
  },
  "language_info": {
   "codemirror_mode": {
    "name": "ipython",
    "version": 3
   },
   "file_extension": ".py",
   "mimetype": "text/x-python",
   "name": "python",
   "nbconvert_exporter": "python",
   "pygments_lexer": "ipython3",
   "version": "3.8.8"
  }
 },
 "nbformat": 4,
 "nbformat_minor": 5
}
