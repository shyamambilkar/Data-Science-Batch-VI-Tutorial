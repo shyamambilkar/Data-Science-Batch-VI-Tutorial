{
 "cells": [
  {
   "cell_type": "markdown",
   "id": "ce00bcd5",
   "metadata": {},
   "source": [
    "# DataTypes"
   ]
  },
  {
   "cell_type": "markdown",
   "id": "ab51e36d",
   "metadata": {},
   "source": [
    "# There are different data types:\n",
    "    1. Text Type:\n",
    "        1. string [str]:\n",
    "            1. Example \"Python Data Science\"\n",
    "        \n",
    "    2. Numeric Type:\n",
    "        1. integer [int]\n",
    "        2. float [float]\n",
    "        3. complex [complex]\n",
    "        \n",
    "    3. Sequence Type:\n",
    "        1. List [list]\n",
    "        2. Tuple [tuple]\n",
    "        3. range [range]\n",
    "        \n",
    "    4. Mapping Type:\n",
    "        1. Dictinary [dict]\n",
    "        \n",
    "    5. Set Types:\n",
    "        1. Set [set]\n",
    "        2. frozenset [frozenset]\n",
    "        \n",
    "    6. Boolean Types:\n",
    "        1. Boolean [bool]\n",
    "        \n",
    "    7. Binary Types:\n",
    "        1. bytes\n",
    "        2. bytearray\n",
    "        3. memoryview"
   ]
  },
  {
   "cell_type": "markdown",
   "id": "0e0f849f",
   "metadata": {},
   "source": [
    "### 1. Text Type:\n",
    "    1. String [str]"
   ]
  },
  {
   "cell_type": "code",
   "execution_count": 1,
   "id": "0deb9a06",
   "metadata": {},
   "outputs": [
    {
     "name": "stdout",
     "output_type": "stream",
     "text": [
      "Welcome to Python Data Science Placement class\n"
     ]
    }
   ],
   "source": [
    "my_var = 'Welcome to Python Data Science Placement class'\n",
    "print(my_var_var)"
   ]
  },
  {
   "cell_type": "code",
   "execution_count": 2,
   "id": "63d3c3a2",
   "metadata": {},
   "outputs": [],
   "source": [
    "my_var = \"Welcome to Python Data Science Placement class\""
   ]
  },
  {
   "cell_type": "code",
   "execution_count": 3,
   "id": "33956dd8",
   "metadata": {},
   "outputs": [
    {
     "name": "stdout",
     "output_type": "stream",
     "text": [
      "Welcome to Python Data Science Placement class\n"
     ]
    }
   ],
   "source": [
    "print(my_var)"
   ]
  },
  {
   "cell_type": "code",
   "execution_count": 6,
   "id": "049fffbc",
   "metadata": {},
   "outputs": [
    {
     "name": "stdout",
     "output_type": "stream",
     "text": [
      "Welcome to Python Data Science 112 Placement class\n"
     ]
    }
   ],
   "source": [
    "my_var = str(\"Welcome to Python Data Science 112 Placement class\")\n",
    "print(my_var)"
   ]
  },
  {
   "cell_type": "code",
   "execution_count": 7,
   "id": "390bb39e",
   "metadata": {},
   "outputs": [
    {
     "name": "stdout",
     "output_type": "stream",
     "text": [
      "<class 'str'>\n"
     ]
    }
   ],
   "source": [
    "print(type(my_var))"
   ]
  },
  {
   "cell_type": "markdown",
   "id": "04d4cad6",
   "metadata": {},
   "source": [
    "### 2. Numeric Types:\n",
    "    1. integer [int]\n",
    "    2. float [float]\n",
    "    3. complex [complex]"
   ]
  },
  {
   "cell_type": "code",
   "execution_count": 8,
   "id": "ca1a884e",
   "metadata": {},
   "outputs": [
    {
     "name": "stdout",
     "output_type": "stream",
     "text": [
      "10\n"
     ]
    }
   ],
   "source": [
    "x = 10\n",
    "print(x)"
   ]
  },
  {
   "cell_type": "code",
   "execution_count": 9,
   "id": "44ec24c0",
   "metadata": {},
   "outputs": [
    {
     "name": "stdout",
     "output_type": "stream",
     "text": [
      "25.15\n"
     ]
    }
   ],
   "source": [
    "y = 25.15\n",
    "print(y)"
   ]
  },
  {
   "cell_type": "code",
   "execution_count": 10,
   "id": "5b3af7bb",
   "metadata": {},
   "outputs": [
    {
     "name": "stdout",
     "output_type": "stream",
     "text": [
      "4j\n"
     ]
    }
   ],
   "source": [
    "z = 4j\n",
    "print(z)"
   ]
  },
  {
   "cell_type": "code",
   "execution_count": 11,
   "id": "98188b72",
   "metadata": {},
   "outputs": [],
   "source": [
    "x = int(23.12)\n",
    "y = float(12)\n",
    "z = complex(12)"
   ]
  },
  {
   "cell_type": "code",
   "execution_count": 12,
   "id": "aa11ae65",
   "metadata": {},
   "outputs": [
    {
     "name": "stdout",
     "output_type": "stream",
     "text": [
      "23\n",
      "12.0\n",
      "(12+0j)\n"
     ]
    }
   ],
   "source": [
    "print(x)\n",
    "print(y)\n",
    "print(z)"
   ]
  },
  {
   "cell_type": "code",
   "execution_count": 13,
   "id": "b7e34130",
   "metadata": {},
   "outputs": [
    {
     "name": "stdout",
     "output_type": "stream",
     "text": [
      "<class 'int'>\n",
      "<class 'float'>\n",
      "<class 'complex'>\n"
     ]
    }
   ],
   "source": [
    "print(type(x))\n",
    "print(type(y))\n",
    "print(type(z))"
   ]
  },
  {
   "cell_type": "markdown",
   "id": "72cfc991",
   "metadata": {},
   "source": [
    "### 3. Sequence Type:\n",
    "    1. List [list]\n",
    "    2. Tuple [tuple]\n",
    "    3. range [range]"
   ]
  },
  {
   "cell_type": "markdown",
   "id": "4d2b4a18",
   "metadata": {},
   "source": [
    "#### 1. List"
   ]
  },
  {
   "cell_type": "code",
   "execution_count": 15,
   "id": "0f6ac272",
   "metadata": {},
   "outputs": [
    {
     "name": "stdout",
     "output_type": "stream",
     "text": [
      "['apple', 'mango', 'banana', 'watermelon', 'cherry', 'pineapple', 'apple']\n"
     ]
    }
   ],
   "source": [
    "fruit_list = ['apple','mango','banana',\"watermelon\",'cherry',\"pineapple\", 'apple']\n",
    "print(fruit_list)"
   ]
  },
  {
   "cell_type": "code",
   "execution_count": 16,
   "id": "adeef528",
   "metadata": {},
   "outputs": [
    {
     "name": "stdout",
     "output_type": "stream",
     "text": [
      "<class 'list'>\n"
     ]
    }
   ],
   "source": [
    "print(type(fruit_list))"
   ]
  },
  {
   "cell_type": "markdown",
   "id": "0f2dafe4",
   "metadata": {},
   "source": [
    "#### 2. Tuple"
   ]
  },
  {
   "cell_type": "code",
   "execution_count": 17,
   "id": "0ae80284",
   "metadata": {},
   "outputs": [],
   "source": [
    "fruit_list = ('apple','mango','banana',\"watermelon\",'cherry',\"pineapple\", 'apple')"
   ]
  },
  {
   "cell_type": "code",
   "execution_count": 18,
   "id": "1915844e",
   "metadata": {},
   "outputs": [
    {
     "name": "stdout",
     "output_type": "stream",
     "text": [
      "('apple', 'mango', 'banana', 'watermelon', 'cherry', 'pineapple', 'apple')\n"
     ]
    }
   ],
   "source": [
    "print(fruit_list)"
   ]
  },
  {
   "cell_type": "code",
   "execution_count": 19,
   "id": "7a80654f",
   "metadata": {},
   "outputs": [
    {
     "name": "stdout",
     "output_type": "stream",
     "text": [
      "<class 'tuple'>\n"
     ]
    }
   ],
   "source": [
    "print(type(fruit_list))"
   ]
  },
  {
   "cell_type": "markdown",
   "id": "08de59ea",
   "metadata": {},
   "source": [
    "#### 3. range"
   ]
  },
  {
   "cell_type": "code",
   "execution_count": 20,
   "id": "89dd28bb",
   "metadata": {},
   "outputs": [],
   "source": [
    "x = range(1,6) "
   ]
  },
  {
   "cell_type": "code",
   "execution_count": 21,
   "id": "8be01f76",
   "metadata": {},
   "outputs": [
    {
     "name": "stdout",
     "output_type": "stream",
     "text": [
      "range(1, 6)\n"
     ]
    }
   ],
   "source": [
    "print(x)"
   ]
  },
  {
   "cell_type": "code",
   "execution_count": 23,
   "id": "8eda4171",
   "metadata": {},
   "outputs": [
    {
     "name": "stdout",
     "output_type": "stream",
     "text": [
      "<class 'range'>\n"
     ]
    }
   ],
   "source": [
    "print(type(x))"
   ]
  },
  {
   "cell_type": "markdown",
   "id": "e970976b",
   "metadata": {},
   "source": [
    "#### 4. Mapping Type:\n",
    "    1. Dictinary [dict]"
   ]
  },
  {
   "cell_type": "code",
   "execution_count": 24,
   "id": "f41bb104",
   "metadata": {},
   "outputs": [],
   "source": [
    "my_var = {'name':'Shyam', 'age':'28', 'salary':'85000', 'name':'Rahul'}"
   ]
  },
  {
   "cell_type": "code",
   "execution_count": 25,
   "id": "facbfdfa",
   "metadata": {},
   "outputs": [
    {
     "name": "stdout",
     "output_type": "stream",
     "text": [
      "{'name': 'Rahul', 'age': '28', 'salary': '85000'}\n"
     ]
    }
   ],
   "source": [
    "print(my_var)"
   ]
  },
  {
   "cell_type": "code",
   "execution_count": 26,
   "id": "438db6dd",
   "metadata": {},
   "outputs": [],
   "source": [
    "my_var = {'name':'Shyam', 'age':'28', 'salary':'85000', 'name1':'Rahul'}"
   ]
  },
  {
   "cell_type": "code",
   "execution_count": 27,
   "id": "446dde53",
   "metadata": {},
   "outputs": [
    {
     "name": "stdout",
     "output_type": "stream",
     "text": [
      "{'name': 'Shyam', 'age': '28', 'salary': '85000', 'name1': 'Rahul'}\n"
     ]
    }
   ],
   "source": [
    "print(my_var)"
   ]
  },
  {
   "cell_type": "code",
   "execution_count": 28,
   "id": "f706a86e",
   "metadata": {},
   "outputs": [
    {
     "name": "stdout",
     "output_type": "stream",
     "text": [
      "<class 'dict'>\n"
     ]
    }
   ],
   "source": [
    "print(type(my_var))"
   ]
  },
  {
   "cell_type": "markdown",
   "id": "0cb7ba69",
   "metadata": {},
   "source": [
    "#### 5. Set Types:\n",
    "    1. Set [set]\n",
    "    2. frozenset [frozenset]"
   ]
  },
  {
   "cell_type": "markdown",
   "id": "ef82d483",
   "metadata": {},
   "source": [
    "#### 1. set"
   ]
  },
  {
   "cell_type": "code",
   "execution_count": 31,
   "id": "a1710bed",
   "metadata": {},
   "outputs": [],
   "source": [
    "my_var = {'apple','mango','banana',\"watermelon\",'cherry',\"pineapple\", 'apple'}"
   ]
  },
  {
   "cell_type": "code",
   "execution_count": 32,
   "id": "cb8de00f",
   "metadata": {},
   "outputs": [
    {
     "name": "stdout",
     "output_type": "stream",
     "text": [
      "{'watermelon', 'pineapple', 'banana', 'cherry', 'mango', 'apple'}\n"
     ]
    }
   ],
   "source": [
    "print(my_var)"
   ]
  },
  {
   "cell_type": "code",
   "execution_count": 33,
   "id": "e9a204f7",
   "metadata": {},
   "outputs": [
    {
     "name": "stdout",
     "output_type": "stream",
     "text": [
      "<class 'set'>\n"
     ]
    }
   ],
   "source": [
    "print(type(my_var))"
   ]
  },
  {
   "cell_type": "markdown",
   "id": "f444455e",
   "metadata": {},
   "source": [
    "#### 2. frozenset"
   ]
  },
  {
   "cell_type": "code",
   "execution_count": 35,
   "id": "49207286",
   "metadata": {},
   "outputs": [],
   "source": [
    "my_var = frozenset({'apple','mango','banana',\"watermelon\",'cherry',\"pineapple\", 'apple'})"
   ]
  },
  {
   "cell_type": "code",
   "execution_count": 36,
   "id": "500c9f1f",
   "metadata": {},
   "outputs": [
    {
     "name": "stdout",
     "output_type": "stream",
     "text": [
      "<class 'frozenset'>\n"
     ]
    }
   ],
   "source": [
    "print(type(my_var))"
   ]
  },
  {
   "cell_type": "markdown",
   "id": "52a9f84a",
   "metadata": {},
   "source": [
    "### 6. Boolean Types:\n",
    "    1. Boolean [bool]"
   ]
  },
  {
   "cell_type": "code",
   "execution_count": 37,
   "id": "2b4e4cc8",
   "metadata": {},
   "outputs": [],
   "source": [
    "x = True"
   ]
  },
  {
   "cell_type": "code",
   "execution_count": 38,
   "id": "aa05989e",
   "metadata": {},
   "outputs": [
    {
     "name": "stdout",
     "output_type": "stream",
     "text": [
      "True\n"
     ]
    }
   ],
   "source": [
    "print(x)"
   ]
  },
  {
   "cell_type": "code",
   "execution_count": 39,
   "id": "dac51c26",
   "metadata": {},
   "outputs": [
    {
     "name": "stdout",
     "output_type": "stream",
     "text": [
      "<class 'bool'>\n"
     ]
    }
   ],
   "source": [
    "print(type(x))"
   ]
  },
  {
   "cell_type": "code",
   "execution_count": 40,
   "id": "c0566ccb",
   "metadata": {},
   "outputs": [
    {
     "name": "stdout",
     "output_type": "stream",
     "text": [
      "False\n",
      "<class 'bool'>\n"
     ]
    }
   ],
   "source": [
    "x = False\n",
    "print(x)\n",
    "print(type(x))"
   ]
  },
  {
   "cell_type": "markdown",
   "id": "0c25d5bf",
   "metadata": {},
   "source": [
    "### 7. Binary Types:\n",
    "    1. bytes\n",
    "    2. bytearray\n",
    "    3. memoryview"
   ]
  },
  {
   "cell_type": "markdown",
   "id": "07b5fd37",
   "metadata": {},
   "source": [
    "#### 1. bytes"
   ]
  },
  {
   "cell_type": "code",
   "execution_count": 41,
   "id": "ed0fab1e",
   "metadata": {},
   "outputs": [],
   "source": [
    "x = b\"Welcome to Data Science\""
   ]
  },
  {
   "cell_type": "code",
   "execution_count": 42,
   "id": "baf033b1",
   "metadata": {},
   "outputs": [
    {
     "name": "stdout",
     "output_type": "stream",
     "text": [
      "b'Welcome to Data Science'\n"
     ]
    }
   ],
   "source": [
    "print(x)"
   ]
  },
  {
   "cell_type": "code",
   "execution_count": 43,
   "id": "7378edb2",
   "metadata": {},
   "outputs": [
    {
     "name": "stdout",
     "output_type": "stream",
     "text": [
      "<class 'bytes'>\n"
     ]
    }
   ],
   "source": [
    "print(type(x))"
   ]
  },
  {
   "cell_type": "markdown",
   "id": "8b928b95",
   "metadata": {},
   "source": [
    "#### 2. bytearray"
   ]
  },
  {
   "cell_type": "code",
   "execution_count": 44,
   "id": "776c3a9a",
   "metadata": {},
   "outputs": [],
   "source": [
    "x = bytearray(5)"
   ]
  },
  {
   "cell_type": "code",
   "execution_count": 45,
   "id": "c2acd01a",
   "metadata": {},
   "outputs": [
    {
     "name": "stdout",
     "output_type": "stream",
     "text": [
      "bytearray(b'\\x00\\x00\\x00\\x00\\x00')\n"
     ]
    }
   ],
   "source": [
    "print(x)"
   ]
  },
  {
   "cell_type": "code",
   "execution_count": 46,
   "id": "c05d7cda",
   "metadata": {},
   "outputs": [
    {
     "name": "stdout",
     "output_type": "stream",
     "text": [
      "<class 'bytearray'>\n"
     ]
    }
   ],
   "source": [
    "print(type(x))"
   ]
  },
  {
   "cell_type": "markdown",
   "id": "bd3be1f0",
   "metadata": {},
   "source": [
    "#### 3. Memoryview"
   ]
  },
  {
   "cell_type": "code",
   "execution_count": 47,
   "id": "07bbb76e",
   "metadata": {},
   "outputs": [],
   "source": [
    "x = memoryview(bytes(4))"
   ]
  },
  {
   "cell_type": "code",
   "execution_count": 48,
   "id": "fba3c663",
   "metadata": {},
   "outputs": [
    {
     "name": "stdout",
     "output_type": "stream",
     "text": [
      "<memory at 0x0000018A3E5E2580>\n"
     ]
    }
   ],
   "source": [
    "print(x)"
   ]
  },
  {
   "cell_type": "code",
   "execution_count": 49,
   "id": "342987ee",
   "metadata": {},
   "outputs": [
    {
     "name": "stdout",
     "output_type": "stream",
     "text": [
      "<class 'memoryview'>\n"
     ]
    }
   ],
   "source": [
    "print(type(x))"
   ]
  },
  {
   "cell_type": "markdown",
   "id": "21bd1701",
   "metadata": {},
   "source": [
    "# 1. Numeric Types:\n",
    "    1. integer [int]\n",
    "    2. float [float]\n",
    "    3. complex [complex]"
   ]
  },
  {
   "cell_type": "code",
   "execution_count": 50,
   "id": "935881c6",
   "metadata": {},
   "outputs": [],
   "source": [
    "x = 45 #int\n",
    "y = 45.45 #float\n",
    "z = 1j # complex"
   ]
  },
  {
   "cell_type": "code",
   "execution_count": 51,
   "id": "197e2ef0",
   "metadata": {},
   "outputs": [
    {
     "name": "stdout",
     "output_type": "stream",
     "text": [
      "<class 'int'>\n",
      "<class 'float'>\n",
      "<class 'complex'>\n"
     ]
    }
   ],
   "source": [
    "print(type(x))\n",
    "print(type(y))\n",
    "print(type(z))"
   ]
  },
  {
   "cell_type": "markdown",
   "id": "c76e76c3",
   "metadata": {},
   "source": [
    "## 1. Integer:\n",
    "    1. Int, or integer, is whole number, positive or negative without decimals and unlimited length "
   ]
  },
  {
   "cell_type": "code",
   "execution_count": 52,
   "id": "cfb34d97",
   "metadata": {},
   "outputs": [],
   "source": [
    "x = 45\n",
    "y = 1234567890321\n",
    "z = -3214569"
   ]
  },
  {
   "cell_type": "code",
   "execution_count": 53,
   "id": "b6d4d37d",
   "metadata": {},
   "outputs": [
    {
     "name": "stdout",
     "output_type": "stream",
     "text": [
      "45\n",
      "1234567890321\n",
      "-3214569\n"
     ]
    }
   ],
   "source": [
    "print(x)\n",
    "print(y)\n",
    "print(z)"
   ]
  },
  {
   "cell_type": "code",
   "execution_count": 54,
   "id": "ce19d6e9",
   "metadata": {},
   "outputs": [
    {
     "name": "stdout",
     "output_type": "stream",
     "text": [
      "<class 'int'>\n",
      "<class 'int'>\n",
      "<class 'int'>\n"
     ]
    }
   ],
   "source": [
    "print(type(x))\n",
    "print(type(y))\n",
    "print(type(z))"
   ]
  },
  {
   "cell_type": "markdown",
   "id": "2af8a083",
   "metadata": {},
   "source": [
    "## 2. Float:\n",
    "    1. float or Floting point number is a positive , negative, containing one or more decimals"
   ]
  },
  {
   "cell_type": "code",
   "execution_count": 55,
   "id": "62c93ddd",
   "metadata": {},
   "outputs": [],
   "source": [
    "x = 45.45\n",
    "y = 1.0\n",
    "z = -12.2356"
   ]
  },
  {
   "cell_type": "code",
   "execution_count": 56,
   "id": "86ad54ad",
   "metadata": {},
   "outputs": [
    {
     "name": "stdout",
     "output_type": "stream",
     "text": [
      "45.45\n",
      "1.0\n",
      "-12.2356\n"
     ]
    }
   ],
   "source": [
    "print(x)\n",
    "print(y)\n",
    "print(z)"
   ]
  },
  {
   "cell_type": "code",
   "execution_count": 57,
   "id": "7c58996e",
   "metadata": {},
   "outputs": [
    {
     "name": "stdout",
     "output_type": "stream",
     "text": [
      "<class 'float'>\n",
      "<class 'float'>\n",
      "<class 'float'>\n"
     ]
    }
   ],
   "source": [
    "print(type(x))\n",
    "print(type(y))\n",
    "print(type(z))"
   ]
  },
  {
   "cell_type": "markdown",
   "id": "36c71e99",
   "metadata": {},
   "source": [
    "### 3. Complex"
   ]
  },
  {
   "cell_type": "code",
   "execution_count": 58,
   "id": "03b432a8",
   "metadata": {},
   "outputs": [],
   "source": [
    "x = 3 + 5j\n",
    "y = 4j\n",
    "z = -5j"
   ]
  },
  {
   "cell_type": "code",
   "execution_count": 59,
   "id": "928af366",
   "metadata": {},
   "outputs": [
    {
     "name": "stdout",
     "output_type": "stream",
     "text": [
      "(3+5j)\n",
      "4j\n",
      "(-0-5j)\n"
     ]
    }
   ],
   "source": [
    "print(x)\n",
    "print(y)\n",
    "print(z)"
   ]
  },
  {
   "cell_type": "code",
   "execution_count": 60,
   "id": "d266a52f",
   "metadata": {},
   "outputs": [
    {
     "name": "stdout",
     "output_type": "stream",
     "text": [
      "<class 'complex'>\n",
      "<class 'complex'>\n",
      "<class 'complex'>\n"
     ]
    }
   ],
   "source": [
    "print(type(x))\n",
    "print(type(y))\n",
    "print(type(z))"
   ]
  },
  {
   "cell_type": "markdown",
   "id": "a077dc69",
   "metadata": {},
   "source": [
    "# Type Conversion"
   ]
  },
  {
   "cell_type": "code",
   "execution_count": 61,
   "id": "38f2a6a5",
   "metadata": {},
   "outputs": [],
   "source": [
    "x = 10\n",
    "y = 25.26\n",
    "z = 1j"
   ]
  },
  {
   "cell_type": "code",
   "execution_count": 64,
   "id": "8269eb77",
   "metadata": {},
   "outputs": [
    {
     "name": "stdout",
     "output_type": "stream",
     "text": [
      "10\n",
      "25.26\n",
      "1j\n"
     ]
    }
   ],
   "source": [
    "print(x)\n",
    "print(y)\n",
    "print(z)"
   ]
  },
  {
   "cell_type": "code",
   "execution_count": 62,
   "id": "2274e18b",
   "metadata": {},
   "outputs": [
    {
     "name": "stdout",
     "output_type": "stream",
     "text": [
      "<class 'int'>\n",
      "<class 'float'>\n",
      "<class 'complex'>\n"
     ]
    }
   ],
   "source": [
    "print(type(x))\n",
    "print(type(y))\n",
    "print(type(z))"
   ]
  },
  {
   "cell_type": "markdown",
   "id": "eb7bdc5a",
   "metadata": {},
   "source": [
    "**1. Integer to Float conversion**"
   ]
  },
  {
   "cell_type": "code",
   "execution_count": 63,
   "id": "4500a76b",
   "metadata": {},
   "outputs": [
    {
     "name": "stdout",
     "output_type": "stream",
     "text": [
      "10.0\n"
     ]
    }
   ],
   "source": [
    "a = float(x)\n",
    "print(a)"
   ]
  },
  {
   "cell_type": "code",
   "execution_count": 66,
   "id": "266b323b",
   "metadata": {},
   "outputs": [
    {
     "name": "stdout",
     "output_type": "stream",
     "text": [
      "<class 'float'>\n"
     ]
    }
   ],
   "source": [
    "print(type(a))"
   ]
  },
  {
   "cell_type": "markdown",
   "id": "1341ffcf",
   "metadata": {},
   "source": [
    "**2. Float to Integer Conversion**"
   ]
  },
  {
   "cell_type": "code",
   "execution_count": 65,
   "id": "b05d73c7",
   "metadata": {},
   "outputs": [
    {
     "name": "stdout",
     "output_type": "stream",
     "text": [
      "25\n"
     ]
    }
   ],
   "source": [
    "b = int(y)\n",
    "print(b)"
   ]
  },
  {
   "cell_type": "code",
   "execution_count": 67,
   "id": "d52c2647",
   "metadata": {},
   "outputs": [
    {
     "name": "stdout",
     "output_type": "stream",
     "text": [
      "<class 'int'>\n"
     ]
    }
   ],
   "source": [
    "print(type(b))"
   ]
  },
  {
   "cell_type": "markdown",
   "id": "72b114f2",
   "metadata": {},
   "source": [
    "**3. Integer to complex conversion**"
   ]
  },
  {
   "cell_type": "code",
   "execution_count": 68,
   "id": "ce6ed93d",
   "metadata": {},
   "outputs": [],
   "source": [
    "c = complex(b)"
   ]
  },
  {
   "cell_type": "code",
   "execution_count": 69,
   "id": "44e325ab",
   "metadata": {},
   "outputs": [
    {
     "name": "stdout",
     "output_type": "stream",
     "text": [
      "(25+0j)\n"
     ]
    }
   ],
   "source": [
    "print(c)"
   ]
  },
  {
   "cell_type": "code",
   "execution_count": 70,
   "id": "946db5c1",
   "metadata": {},
   "outputs": [
    {
     "name": "stdout",
     "output_type": "stream",
     "text": [
      "<class 'complex'>\n"
     ]
    }
   ],
   "source": [
    "print(type(c))"
   ]
  }
 ],
 "metadata": {
  "kernelspec": {
   "display_name": "Python 3",
   "language": "python",
   "name": "python3"
  },
  "language_info": {
   "codemirror_mode": {
    "name": "ipython",
    "version": 3
   },
   "file_extension": ".py",
   "mimetype": "text/x-python",
   "name": "python",
   "nbconvert_exporter": "python",
   "pygments_lexer": "ipython3",
   "version": "3.8.8"
  }
 },
 "nbformat": 4,
 "nbformat_minor": 5
}
