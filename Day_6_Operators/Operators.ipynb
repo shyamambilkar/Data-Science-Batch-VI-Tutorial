{
 "cells": [
  {
   "cell_type": "markdown",
   "id": "9b80c21e",
   "metadata": {},
   "source": [
    "# Python Operators\n",
    "1. There are different types of Operators are available in Python:\n",
    "    1. Arithmatic Operators\n",
    "    2. Assignment Operators\n",
    "    3. Comparison Operators\n",
    "    4. Logical operators\n",
    "    5. Identity Operators\n",
    "    6. Membership Operators\n",
    "    7. Bitwise operators"
   ]
  },
  {
   "cell_type": "markdown",
   "id": "92a37273",
   "metadata": {},
   "source": [
    "## 2. Assignment Operaotors"
   ]
  },
  {
   "cell_type": "markdown",
   "id": "00c2bcad",
   "metadata": {},
   "source": [
    "1. [=]:\n",
    "    1.Synatx [x = 12 ]\n",
    "2. [+=]:\n",
    "    1. Synatx [x += 12] simlilar as [x = x + 12]\n",
    "3. [-=]:\n",
    "    1. 1. Synatx [x -= 12] simlilar as [x = x - 12]\n",
    "4. [*=]:\n",
    "    1. Synatx [x *= 12] simlilar as [x = x * 12]\n",
    "5. [/=]:\n",
    "    1. 1. Synatx [x /= 12] simlilar as [x = x / 12]\n",
    "6. [%=]:\n",
    "    1. Synatx [x %= 12] simlilar as [x = x % 12]\n",
    "7. [//=]:\n",
    "    1. Synatx [x //= 12] simlilar as [x = x // 12]\n",
    "8. [**=]:\n",
    "    1. Synatx [x **= 12] simlilar as [x = x ** 12]\n",
    "9. [&=]:\n",
    "    1. Synatx [x &= 12] simlilar as [x = x & 12]\n",
    "10. [|=]:\n",
    "    1. Synatx [x |= 12] simlilar as [x = x | 12]\n",
    "11. [^]:\n",
    "    1. Synatx [x ^= 12] simlilar as [x = x ^ 12]\n",
    "12. [>>=]:\n",
    "    1. Synatx [x >>= 12] simlilar as [x = x >> 12]\n",
    "13. [<<=]:\n",
    "    1. Synatx [x <<= 12] simlilar as [x = x << 12]"
   ]
  },
  {
   "cell_type": "code",
   "execution_count": 2,
   "id": "2b49b893",
   "metadata": {},
   "outputs": [
    {
     "name": "stdout",
     "output_type": "stream",
     "text": [
      "5\n"
     ]
    }
   ],
   "source": [
    "x = 5\n",
    "print(x)"
   ]
  },
  {
   "cell_type": "code",
   "execution_count": 3,
   "id": "f896fb0d",
   "metadata": {},
   "outputs": [
    {
     "name": "stdout",
     "output_type": "stream",
     "text": [
      "15\n"
     ]
    }
   ],
   "source": [
    "x += 10\n",
    "print(x)"
   ]
  },
  {
   "cell_type": "code",
   "execution_count": 4,
   "id": "9f241819",
   "metadata": {},
   "outputs": [
    {
     "name": "stdout",
     "output_type": "stream",
     "text": [
      "25\n"
     ]
    }
   ],
   "source": [
    "x = x + 10\n",
    "print(x)"
   ]
  },
  {
   "cell_type": "code",
   "execution_count": 5,
   "id": "6b59f7c0",
   "metadata": {},
   "outputs": [
    {
     "name": "stdout",
     "output_type": "stream",
     "text": [
      "15\n"
     ]
    }
   ],
   "source": [
    "y = 5\n",
    "y = y + 10\n",
    "print(y)"
   ]
  },
  {
   "cell_type": "code",
   "execution_count": 6,
   "id": "58478aea",
   "metadata": {},
   "outputs": [
    {
     "name": "stdout",
     "output_type": "stream",
     "text": [
      "15\n"
     ]
    }
   ],
   "source": [
    "y = 25\n",
    "y = y - 10\n",
    "print(y)"
   ]
  },
  {
   "cell_type": "code",
   "execution_count": 7,
   "id": "1404796d",
   "metadata": {},
   "outputs": [
    {
     "name": "stdout",
     "output_type": "stream",
     "text": [
      "15\n"
     ]
    }
   ],
   "source": [
    "y = 25\n",
    "y -= 10\n",
    "print(y)"
   ]
  },
  {
   "cell_type": "code",
   "execution_count": 8,
   "id": "03980486",
   "metadata": {},
   "outputs": [
    {
     "name": "stdout",
     "output_type": "stream",
     "text": [
      "27\n"
     ]
    }
   ],
   "source": [
    "x = 3\n",
    "x **= 3\n",
    "print(x)"
   ]
  },
  {
   "cell_type": "code",
   "execution_count": 9,
   "id": "0b121386",
   "metadata": {},
   "outputs": [
    {
     "name": "stdout",
     "output_type": "stream",
     "text": [
      "27\n"
     ]
    }
   ],
   "source": [
    "x = 3\n",
    "x = x ** 3\n",
    "print(x)"
   ]
  },
  {
   "cell_type": "markdown",
   "id": "beca3314",
   "metadata": {},
   "source": [
    "## 3. Comparison Operators"
   ]
  },
  {
   "cell_type": "markdown",
   "id": "10687a02",
   "metadata": {},
   "source": [
    "1. equal [==]:\n",
    "    1. Example: [x == y]\n",
    "        \n",
    "2. Not eqaul [!=]:\n",
    "    1. Example: [x != y]\n",
    "        \n",
    "3. Greater than [>]:\n",
    "    1. Example: [x > y]\n",
    "        \n",
    "4. Less than [<]:\n",
    "    1. Example: [x < y]\n",
    "        \n",
    "5. Greater than or equal to [>=]:\n",
    "    1. Example: [x >= y]\n",
    "\n",
    "6. Less than or equal to [<=]:\n",
    "    1. Example: [x <= y]"
   ]
  },
  {
   "cell_type": "markdown",
   "id": "90daaebc",
   "metadata": {},
   "source": [
    "**1. Equal**"
   ]
  },
  {
   "cell_type": "code",
   "execution_count": 10,
   "id": "bdcee5e4",
   "metadata": {},
   "outputs": [
    {
     "name": "stdout",
     "output_type": "stream",
     "text": [
      "True\n"
     ]
    }
   ],
   "source": [
    "x = 10\n",
    "y = 10\n",
    "\n",
    "print(x == y)"
   ]
  },
  {
   "cell_type": "code",
   "execution_count": 11,
   "id": "af074b17",
   "metadata": {},
   "outputs": [
    {
     "name": "stdout",
     "output_type": "stream",
     "text": [
      "False\n"
     ]
    }
   ],
   "source": [
    "x = 10\n",
    "y = 20\n",
    "\n",
    "print(x == y)"
   ]
  },
  {
   "cell_type": "markdown",
   "id": "f49773d4",
   "metadata": {},
   "source": [
    "**2. Not equal [!=]**"
   ]
  },
  {
   "cell_type": "code",
   "execution_count": 15,
   "id": "1637a7c8",
   "metadata": {},
   "outputs": [
    {
     "name": "stdout",
     "output_type": "stream",
     "text": [
      "True\n"
     ]
    }
   ],
   "source": [
    "x = 10\n",
    "y = 20\n",
    "\n",
    "print(x != y)"
   ]
  },
  {
   "cell_type": "code",
   "execution_count": 16,
   "id": "2457bee6",
   "metadata": {},
   "outputs": [
    {
     "name": "stdout",
     "output_type": "stream",
     "text": [
      "False\n"
     ]
    }
   ],
   "source": [
    "x = 10\n",
    "y = 10\n",
    "\n",
    "print(x != y)"
   ]
  },
  {
   "cell_type": "markdown",
   "id": "147df970",
   "metadata": {},
   "source": [
    "**3. Greater than [ >]**"
   ]
  },
  {
   "cell_type": "code",
   "execution_count": 18,
   "id": "2a5f0fa9",
   "metadata": {},
   "outputs": [
    {
     "name": "stdout",
     "output_type": "stream",
     "text": [
      "True\n"
     ]
    }
   ],
   "source": [
    "x = 15\n",
    "y = 10\n",
    "\n",
    "print(x > y)"
   ]
  },
  {
   "cell_type": "code",
   "execution_count": 19,
   "id": "9e2a9a4d",
   "metadata": {},
   "outputs": [
    {
     "name": "stdout",
     "output_type": "stream",
     "text": [
      "False\n"
     ]
    }
   ],
   "source": [
    "x = 15\n",
    "y = 25\n",
    "\n",
    "print(x > y)"
   ]
  },
  {
   "cell_type": "markdown",
   "id": "4f99aa5a",
   "metadata": {},
   "source": [
    "**4. Less than [<]**"
   ]
  },
  {
   "cell_type": "code",
   "execution_count": 21,
   "id": "01e21855",
   "metadata": {},
   "outputs": [
    {
     "name": "stdout",
     "output_type": "stream",
     "text": [
      "True\n"
     ]
    }
   ],
   "source": [
    "x = 15\n",
    "y = 100\n",
    "\n",
    "print(x < y)"
   ]
  },
  {
   "cell_type": "code",
   "execution_count": 22,
   "id": "c6dc2382",
   "metadata": {},
   "outputs": [
    {
     "name": "stdout",
     "output_type": "stream",
     "text": [
      "False\n"
     ]
    }
   ],
   "source": [
    "x = 15\n",
    "y = 15\n",
    "\n",
    "print(x < y)"
   ]
  },
  {
   "cell_type": "code",
   "execution_count": 25,
   "id": "c36264f9",
   "metadata": {},
   "outputs": [
    {
     "name": "stdout",
     "output_type": "stream",
     "text": [
      "False\n"
     ]
    }
   ],
   "source": [
    "x = 15\n",
    "y = 10\n",
    "\n",
    "print(x < y)"
   ]
  },
  {
   "cell_type": "markdown",
   "id": "f7552415",
   "metadata": {},
   "source": [
    "**5. Greater than or equal [>=]**"
   ]
  },
  {
   "cell_type": "code",
   "execution_count": 26,
   "id": "55dc52dc",
   "metadata": {},
   "outputs": [
    {
     "name": "stdout",
     "output_type": "stream",
     "text": [
      "True\n"
     ]
    }
   ],
   "source": [
    "x = 15\n",
    "y = 15\n",
    "\n",
    "print(x >= y)"
   ]
  },
  {
   "cell_type": "code",
   "execution_count": 27,
   "id": "e92465c2",
   "metadata": {},
   "outputs": [
    {
     "name": "stdout",
     "output_type": "stream",
     "text": [
      "True\n"
     ]
    }
   ],
   "source": [
    "x = 45\n",
    "y = 15\n",
    "\n",
    "print(x >= y)"
   ]
  },
  {
   "cell_type": "code",
   "execution_count": 28,
   "id": "e73ba09c",
   "metadata": {},
   "outputs": [
    {
     "name": "stdout",
     "output_type": "stream",
     "text": [
      "False\n"
     ]
    }
   ],
   "source": [
    "x = 5\n",
    "y = 15\n",
    "\n",
    "print(x >= y)"
   ]
  },
  {
   "cell_type": "markdown",
   "id": "de19c87c",
   "metadata": {},
   "source": [
    "**6. Less than or equal [ <=]**"
   ]
  },
  {
   "cell_type": "code",
   "execution_count": 29,
   "id": "55a3fb52",
   "metadata": {},
   "outputs": [
    {
     "name": "stdout",
     "output_type": "stream",
     "text": [
      "True\n"
     ]
    }
   ],
   "source": [
    "x = 15\n",
    "y = 15\n",
    "\n",
    "print(x <= y)"
   ]
  },
  {
   "cell_type": "code",
   "execution_count": 31,
   "id": "25c17af6",
   "metadata": {},
   "outputs": [
    {
     "name": "stdout",
     "output_type": "stream",
     "text": [
      "True\n"
     ]
    }
   ],
   "source": [
    "x = 5\n",
    "y = 15\n",
    "\n",
    "print(x <= y)"
   ]
  },
  {
   "cell_type": "code",
   "execution_count": 33,
   "id": "54fa6173",
   "metadata": {},
   "outputs": [
    {
     "name": "stdout",
     "output_type": "stream",
     "text": [
      "False\n"
     ]
    }
   ],
   "source": [
    "x = 16\n",
    "y = 15\n",
    "\n",
    "print(x <= y)"
   ]
  },
  {
   "cell_type": "markdown",
   "id": "6c6f35b4",
   "metadata": {},
   "source": [
    "## 4. Logical Operators "
   ]
  },
  {
   "cell_type": "markdown",
   "id": "984db29a",
   "metadata": {},
   "source": [
    "1. Logical operator is a symbol or words used to connect two or more expression\n",
    "2. value of the compound expression\n",
    "3. common logical operators are:\n",
    "    1. and \n",
    "    2. or \n",
    "    3. not \n",
    "4. to combine conditional statement"
   ]
  },
  {
   "cell_type": "markdown",
   "id": "529fb13a",
   "metadata": {},
   "source": [
    "1. AND [and]:\n",
    "    1. Return TRUE if both condition statement are TRUE\n",
    "    2. Return False if any of the condition statement are False\n",
    "\n",
    "2. OR [or]:\n",
    "    1. Return TRUE if any of the condition statement are TRUE\n",
    "    2. Return False if both condition statement are FALSE\n",
    "\n",
    "3. NOT [not]:\n",
    "    1. Reverse the result return FALSE if the result are TRUE"
   ]
  },
  {
   "cell_type": "markdown",
   "id": "eb4a41e7",
   "metadata": {},
   "source": [
    "**1. AND [and]**"
   ]
  },
  {
   "cell_type": "code",
   "execution_count": 35,
   "id": "cb63e9b4",
   "metadata": {},
   "outputs": [
    {
     "name": "stdout",
     "output_type": "stream",
     "text": [
      "True\n"
     ]
    }
   ],
   "source": [
    "x = 10\n",
    "y = 15\n",
    "\n",
    "print(x < y and  y > x)"
   ]
  },
  {
   "cell_type": "code",
   "execution_count": 37,
   "id": "2088aeac",
   "metadata": {},
   "outputs": [
    {
     "name": "stdout",
     "output_type": "stream",
     "text": [
      "False\n"
     ]
    }
   ],
   "source": [
    "x = 10\n",
    "y = 15\n",
    "\n",
    "print(x < y and x > y)"
   ]
  },
  {
   "cell_type": "markdown",
   "id": "0432b335",
   "metadata": {},
   "source": [
    "**2. OR [or]**"
   ]
  },
  {
   "cell_type": "code",
   "execution_count": 39,
   "id": "233a7b88",
   "metadata": {},
   "outputs": [
    {
     "name": "stdout",
     "output_type": "stream",
     "text": [
      "True\n"
     ]
    }
   ],
   "source": [
    "x = 10\n",
    "y = 15\n",
    "\n",
    "print(x < y or x > y)"
   ]
  },
  {
   "cell_type": "code",
   "execution_count": 40,
   "id": "5ddd7bd0",
   "metadata": {},
   "outputs": [
    {
     "name": "stdout",
     "output_type": "stream",
     "text": [
      "False\n"
     ]
    }
   ],
   "source": [
    "x = 15\n",
    "y = 15\n",
    "\n",
    "print(x > y or x < y)"
   ]
  },
  {
   "cell_type": "code",
   "execution_count": 41,
   "id": "6a57a7e2",
   "metadata": {},
   "outputs": [
    {
     "name": "stdout",
     "output_type": "stream",
     "text": [
      "True\n"
     ]
    }
   ],
   "source": [
    "x = 15\n",
    "y = 15\n",
    "\n",
    "print(x > y or x == y)"
   ]
  },
  {
   "cell_type": "markdown",
   "id": "e1ad6200",
   "metadata": {},
   "source": [
    "**3. NOT [not]**"
   ]
  },
  {
   "cell_type": "code",
   "execution_count": 42,
   "id": "2bc334f0",
   "metadata": {},
   "outputs": [
    {
     "name": "stdout",
     "output_type": "stream",
     "text": [
      "True\n"
     ]
    }
   ],
   "source": [
    "x = 15\n",
    "y = 15\n",
    "\n",
    "print(not(x > y and x < y) )"
   ]
  },
  {
   "cell_type": "code",
   "execution_count": 45,
   "id": "85d2b8fc",
   "metadata": {},
   "outputs": [
    {
     "name": "stdout",
     "output_type": "stream",
     "text": [
      "False\n"
     ]
    }
   ],
   "source": [
    "x = 10\n",
    "y = 15\n",
    "\n",
    "print(not(x < y or x > y))"
   ]
  },
  {
   "cell_type": "markdown",
   "id": "abb2798f",
   "metadata": {},
   "source": [
    "## 5. Identity Operators"
   ]
  },
  {
   "cell_type": "markdown",
   "id": "e769ec1e",
   "metadata": {},
   "source": [
    "1. Identity operator are used to compare the object with same memory location\n",
    "2. There are two identity operators in python:\n",
    "    1. IS [is]\n",
    "    2. IS NOT [is not]"
   ]
  },
  {
   "cell_type": "markdown",
   "id": "01a41176",
   "metadata": {},
   "source": [
    "**1. IS OPERATOR [is]**"
   ]
  },
  {
   "cell_type": "code",
   "execution_count": 49,
   "id": "8be15e5a",
   "metadata": {},
   "outputs": [
    {
     "name": "stdout",
     "output_type": "stream",
     "text": [
      "True\n",
      "False\n",
      "True\n",
      "True\n"
     ]
    }
   ],
   "source": [
    "x = ['apple','mango','cherry','watermelon']\n",
    "y = ['apple','mango','cherry','watermelon']\n",
    "z = x\n",
    "\n",
    "print(x is z)\n",
    "print(x is y)\n",
    "print(x == y)\n",
    "print(x == z )"
   ]
  },
  {
   "cell_type": "markdown",
   "id": "e30476ac",
   "metadata": {},
   "source": [
    "**2. IS NOT [is not]**"
   ]
  },
  {
   "cell_type": "code",
   "execution_count": 52,
   "id": "4f8ddfd9",
   "metadata": {},
   "outputs": [
    {
     "name": "stdout",
     "output_type": "stream",
     "text": [
      "False\n",
      "True\n",
      "True\n"
     ]
    }
   ],
   "source": [
    "x = ['apple','mango','cherry','watermelon']\n",
    "y = ['apple','mango','cherry','watermelon']\n",
    "z = x\n",
    "\n",
    "a = ['apple','mango','cherry']\n",
    "print(x is not z)\n",
    "print(x is not y)\n",
    "print(x is not a)\n"
   ]
  },
  {
   "cell_type": "markdown",
   "id": "f06f4605",
   "metadata": {},
   "source": [
    "## 6. Membership Operators"
   ]
  },
  {
   "cell_type": "markdown",
   "id": "b590770b",
   "metadata": {},
   "source": [
    "1. Membership operator are used to test if sequence is presented as object\n",
    "2. There are two membership operators:\n",
    "    1. IN [in]\n",
    "    2. NOT IN [not in]"
   ]
  },
  {
   "cell_type": "markdown",
   "id": "4d6570df",
   "metadata": {},
   "source": [
    "1. IN [in]:\n",
    "    1. Return TRUE if sequnece with specific object value is presented in object\n",
    "    \n",
    "2. NOT IN [not in]:\n",
    "    2. Returns TRUE if sequnce with specific value is not presented in object"
   ]
  },
  {
   "cell_type": "markdown",
   "id": "fcd51335",
   "metadata": {},
   "source": [
    "**1. IN [in]**"
   ]
  },
  {
   "cell_type": "code",
   "execution_count": 53,
   "id": "24360d79",
   "metadata": {},
   "outputs": [
    {
     "name": "stdout",
     "output_type": "stream",
     "text": [
      "False\n"
     ]
    }
   ],
   "source": [
    "x = ['apple','mango','cherry','watermelon']\n",
    "print(\"banana\" in x)"
   ]
  },
  {
   "cell_type": "code",
   "execution_count": 54,
   "id": "760a1309",
   "metadata": {},
   "outputs": [
    {
     "name": "stdout",
     "output_type": "stream",
     "text": [
      "True\n"
     ]
    }
   ],
   "source": [
    "x = ['apple','mango','cherry','watermelon']\n",
    "\n",
    "print('apple' in x)"
   ]
  },
  {
   "cell_type": "code",
   "execution_count": 55,
   "id": "cadb503d",
   "metadata": {},
   "outputs": [
    {
     "name": "stdout",
     "output_type": "stream",
     "text": [
      "True\n"
     ]
    }
   ],
   "source": [
    "x = ['apple','mango','cherry','watermelon']\n",
    "\n",
    "print('watermelon' in x)"
   ]
  },
  {
   "cell_type": "markdown",
   "id": "43d30d7c",
   "metadata": {},
   "source": [
    "**2. NOT IN [not in]**"
   ]
  },
  {
   "cell_type": "code",
   "execution_count": 57,
   "id": "207edf29",
   "metadata": {},
   "outputs": [
    {
     "name": "stdout",
     "output_type": "stream",
     "text": [
      "True\n"
     ]
    }
   ],
   "source": [
    "x = ['apple','mango','cherry','watermelon']\n",
    "print(\"banana\" not in x)"
   ]
  },
  {
   "cell_type": "code",
   "execution_count": 58,
   "id": "248cf3e2",
   "metadata": {},
   "outputs": [
    {
     "name": "stdout",
     "output_type": "stream",
     "text": [
      "False\n"
     ]
    }
   ],
   "source": [
    "x = ['apple','mango','cherry','watermelon']\n",
    "print(\"apple\" not in x)"
   ]
  },
  {
   "cell_type": "markdown",
   "id": "26470c8e",
   "metadata": {},
   "source": [
    "## 7. Bitwise Operators"
   ]
  },
  {
   "cell_type": "markdown",
   "id": "36145248",
   "metadata": {},
   "source": [
    "1. AND [&]\n",
    "2. OR [|]\n",
    "3. XOR [^]\n",
    "4. NOT [~]\n",
    "5. ZERO FILL LEFT SHIFT [<<]\n",
    "6. SIGNED RIGHT SHIFT [>>]"
   ]
  },
  {
   "cell_type": "code",
   "execution_count": null,
   "id": "14893a96",
   "metadata": {},
   "outputs": [],
   "source": []
  }
 ],
 "metadata": {
  "kernelspec": {
   "display_name": "Python 3",
   "language": "python",
   "name": "python3"
  },
  "language_info": {
   "codemirror_mode": {
    "name": "ipython",
    "version": 3
   },
   "file_extension": ".py",
   "mimetype": "text/x-python",
   "name": "python",
   "nbconvert_exporter": "python",
   "pygments_lexer": "ipython3",
   "version": "3.8.8"
  }
 },
 "nbformat": 4,
 "nbformat_minor": 5
}
