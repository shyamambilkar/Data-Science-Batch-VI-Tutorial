{
 "cells": [
  {
   "cell_type": "markdown",
   "id": "f80d0aa2",
   "metadata": {},
   "source": [
    "# Naive Bayes Algorithm"
   ]
  },
  {
   "cell_type": "markdown",
   "id": "3a0fc0e2",
   "metadata": {},
   "source": [
    "1. It is supervised Machine Learning algorithm \n",
    "2. It is simple but powerful algorithm to predictive analysis\n",
    "3. It is classification technique based on **Bayes Therom**, with an assumption at independence of prediction\n",
    "4. Naive Bayes clasifier assumes that the presense of feature class is unrelated to any other feature.\n",
    "5. Even if these features depends on each other or upon the existance of the other features\n",
    "6. In Naive Bayes algorithm comprimised with two terms called:\n",
    "    1. Naive\n",
    "    2. Bayes"
   ]
  },
  {
   "cell_type": "markdown",
   "id": "75241807",
   "metadata": {},
   "source": [
    "### 1. Naive "
   ]
  },
  {
   "cell_type": "markdown",
   "id": "8413f82a",
   "metadata": {},
   "source": [
    "1. Naive Bayes algorithm assumes the that the occurances of certain features is independent of the occurance of other feature\n",
    "2. Such as Fruit id identified on the basis of color, shape, and taste"
   ]
  },
  {
   "cell_type": "markdown",
   "id": "ae122b77",
   "metadata": {},
   "source": [
    "### Bayes"
   ]
  },
  {
   "cell_type": "markdown",
   "id": "2dd801b0",
   "metadata": {},
   "source": [
    "1. It is called as Bayes because it depends on the Principle of Bayes Theorem"
   ]
  },
  {
   "cell_type": "markdown",
   "id": "efe81f71",
   "metadata": {},
   "source": [
    "## Bayes Theorem"
   ]
  },
  {
   "cell_type": "markdown",
   "id": "ffdb88ea",
   "metadata": {},
   "source": [
    "1. Bayes Theorem also called as Bayes Rule or Bayes Law, which is used to determine the probability of hypothesis with Prior Knowledge\n",
    "2. It depends on Conditional Probability"
   ]
  },
  {
   "cell_type": "markdown",
   "id": "12c127f4",
   "metadata": {},
   "source": [
    "### Formula"
   ]
  },
  {
   "cell_type": "markdown",
   "id": "f2a0573b",
   "metadata": {},
   "source": [
    "![](https://miro.medium.com/max/600/1*aFhOj7TdBIZir4keHMgHOw.png)"
   ]
  },
  {
   "cell_type": "markdown",
   "id": "df2f9b75",
   "metadata": {},
   "source": [
    "1. Posterior Probability:\n",
    "    1. Posterior Probability [P(H | E) probability of hypothesis A on the observed event B]\n",
    "2. Likelihood:\n",
    "    1. Probability of evidence given that the probability of hypothesis is true [P(E | H)]\n",
    "3. Prior Probability:\n",
    "    1. Prior Probability  of hypothesis before observing the evidance\n",
    "4. Marginal Probability:\n",
    "    1. Probability of Evidance"
   ]
  },
  {
   "cell_type": "markdown",
   "id": "e28c47ea",
   "metadata": {},
   "source": [
    "1. Here we Have Probability of, P(A | B) = P(A intersection B) / P(B)\n",
    "                           P(B|A) = P (B intersection A) / P(A)"
   ]
  },
  {
   "cell_type": "markdown",
   "id": "33b70fc1",
   "metadata": {},
   "source": [
    "2. Join Probability distribution set A and B the probability of,\n",
    "        P(A intersection B) = P(A | B) . P(B)\n",
    "                            = P(B | A) . P(B)\n",
    "                            = P(A | B)\n",
    "        P(B intersection A) = p(B | A). P(A)\n",
    "                            = P(A | B). P(A)\n",
    "                            = P(B | A)"
   ]
  },
  {
   "cell_type": "markdown",
   "id": "d992ca0a",
   "metadata": {},
   "source": [
    "3. Final P(H | E) = P(E | H).P(H) / P(E)"
   ]
  },
  {
   "cell_type": "markdown",
   "id": "511690dd",
   "metadata": {},
   "source": [
    "### 4. Example of Naive Bayes"
   ]
  },
  {
   "cell_type": "markdown",
   "id": "3e7b27cc",
   "metadata": {},
   "source": [
    "**Find out the Probability of the card we picked at random to be a king given that is Face Card**"
   ]
  },
  {
   "cell_type": "markdown",
   "id": "2dffff4e",
   "metadata": {},
   "source": [
    "1. total_card = 52\n",
    "2. face_card = 12:\n",
    "    1. King = 4\n",
    "    2. Queen = 4\n",
    "    3. Jack = 4\n",
    "3. P(H | E) = P(E | H).P(H) / P(E)"
   ]
  },
  {
   "cell_type": "markdown",
   "id": "24bc9e4b",
   "metadata": {},
   "source": [
    "**P(KING | FACE) = P(FACE | KING). P(KING) / P(FACE)**"
   ]
  },
  {
   "cell_type": "markdown",
   "id": "a4e18a0c",
   "metadata": {},
   "source": [
    "1. P(KING) which is 4 / 52 as there are 4 kings in Deck of Cards\n",
    "                    = 4 / 52 = 1 / 13 = 0.076"
   ]
  },
  {
   "cell_type": "markdown",
   "id": "226265a4",
   "metadata": {},
   "source": [
    "2. P(FACE | KING) = P(12 | 4) is equal to 1 as the Kings are face Card\n",
    "                    P(12 | 4) = 1 / 3 = 0.33"
   ]
  },
  {
   "cell_type": "markdown",
   "id": "c7103b9e",
   "metadata": {},
   "source": [
    "3. P(FACE) = 12 / 52 = 3 / 13 = 0.23"
   ]
  },
  {
   "cell_type": "markdown",
   "id": "cd17a84c",
   "metadata": {},
   "source": [
    "1. P(KING) = 4/52 = 1/13\n",
    "2. P(FACE | KING) = 1\n",
    "3. P(FACE) = 12 /52 = 3/13"
   ]
  },
  {
   "cell_type": "code",
   "execution_count": 3,
   "id": "80d67cc5",
   "metadata": {},
   "outputs": [
    {
     "data": {
      "text/plain": [
       "0.3333333333333333"
      ]
     },
     "execution_count": 3,
     "metadata": {},
     "output_type": "execute_result"
    }
   ],
   "source": [
    "1 * (1/13) / (3 / 13)"
   ]
  },
  {
   "cell_type": "code",
   "execution_count": 4,
   "id": "c5335a36",
   "metadata": {},
   "outputs": [
    {
     "data": {
      "text/plain": [
       "0.33043478260869563"
      ]
     },
     "execution_count": 4,
     "metadata": {},
     "output_type": "execute_result"
    }
   ],
   "source": [
    "1 * (0.076) / (0.23)"
   ]
  },
  {
   "cell_type": "markdown",
   "id": "4e8a6478",
   "metadata": {},
   "source": [
    "### 1. There are three different types of Naive Bayes Algorithm:\n",
    "    1. Gaussion Naive Bayes\n",
    "    2. Multinomial Naive Bayes\n",
    "    3. Burnoulli Navie Bayes "
   ]
  },
  {
   "cell_type": "code",
   "execution_count": null,
   "id": "7531b174",
   "metadata": {},
   "outputs": [],
   "source": []
  }
 ],
 "metadata": {
  "kernelspec": {
   "display_name": "Python 3",
   "language": "python",
   "name": "python3"
  },
  "language_info": {
   "codemirror_mode": {
    "name": "ipython",
    "version": 3
   },
   "file_extension": ".py",
   "mimetype": "text/x-python",
   "name": "python",
   "nbconvert_exporter": "python",
   "pygments_lexer": "ipython3",
   "version": "3.8.8"
  }
 },
 "nbformat": 4,
 "nbformat_minor": 5
}
