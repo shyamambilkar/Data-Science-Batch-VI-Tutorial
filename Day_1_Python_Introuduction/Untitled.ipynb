{
 "cells": [
  {
   "cell_type": "markdown",
   "id": "63424b90",
   "metadata": {},
   "source": [
    "# 1. Variables"
   ]
  },
  {
   "cell_type": "markdown",
   "id": "8f480e50",
   "metadata": {},
   "source": [
    "1. Variables something contains value"
   ]
  },
  {
   "cell_type": "code",
   "execution_count": 3,
   "id": "a1bb7342",
   "metadata": {},
   "outputs": [
    {
     "name": "stdout",
     "output_type": "stream",
     "text": [
      "30\n"
     ]
    }
   ],
   "source": [
    "x = 10 # Integer \n",
    "y = 20 # Integer\n",
    "\n",
    "z = x + y\n",
    "print(z)"
   ]
  },
  {
   "cell_type": "code",
   "execution_count": 7,
   "id": "f5bcc407",
   "metadata": {},
   "outputs": [
    {
     "name": "stdout",
     "output_type": "stream",
     "text": [
      "Shyam Ambilkar\n"
     ]
    }
   ],
   "source": [
    "x = 'Shyam' #String\n",
    "y = \"Ambilkar\" #String\n",
    "\n",
    "z = x + y\n",
    "print(z)"
   ]
  },
  {
   "cell_type": "code",
   "execution_count": 8,
   "id": "e8e2ac84",
   "metadata": {},
   "outputs": [],
   "source": [
    "x = 5"
   ]
  },
  {
   "cell_type": "markdown",
   "id": "aa6e0022",
   "metadata": {},
   "source": [
    "1. integer - 10\n",
    "2. float - 10.20\n",
    "3. complex - 41j"
   ]
  },
  {
   "cell_type": "code",
   "execution_count": 12,
   "id": "97f14f5b",
   "metadata": {},
   "outputs": [],
   "source": [
    "x = 10 #int\n",
    "y = \"Shyam Ambilkar\" # String\n",
    "z = 25.30 # float\n",
    "a = 41j #complex"
   ]
  },
  {
   "cell_type": "code",
   "execution_count": 16,
   "id": "bc535c93",
   "metadata": {},
   "outputs": [
    {
     "name": "stdout",
     "output_type": "stream",
     "text": [
      "10\n",
      "25.3\n",
      "Shyam Ambilkar\n",
      "41j\n"
     ]
    }
   ],
   "source": [
    "print(x)\n",
    "print(z)\n",
    "print(y)\n",
    "print(a)"
   ]
  },
  {
   "cell_type": "code",
   "execution_count": 17,
   "id": "faef8cb9",
   "metadata": {},
   "outputs": [
    {
     "name": "stdout",
     "output_type": "stream",
     "text": [
      "<class 'int'>\n"
     ]
    }
   ],
   "source": [
    "print(type(x))"
   ]
  },
  {
   "cell_type": "code",
   "execution_count": 18,
   "id": "94d86461",
   "metadata": {},
   "outputs": [
    {
     "name": "stdout",
     "output_type": "stream",
     "text": [
      "<class 'str'>\n"
     ]
    }
   ],
   "source": [
    "print(type(y))"
   ]
  },
  {
   "cell_type": "code",
   "execution_count": 19,
   "id": "79cace6d",
   "metadata": {},
   "outputs": [
    {
     "name": "stdout",
     "output_type": "stream",
     "text": [
      "<class 'float'>\n"
     ]
    }
   ],
   "source": [
    "print(type(z))"
   ]
  },
  {
   "cell_type": "code",
   "execution_count": 20,
   "id": "5c1959e9",
   "metadata": {},
   "outputs": [
    {
     "name": "stdout",
     "output_type": "stream",
     "text": [
      "<class 'complex'>\n"
     ]
    }
   ],
   "source": [
    "print(type(a))"
   ]
  },
  {
   "cell_type": "code",
   "execution_count": 21,
   "id": "c6283df4",
   "metadata": {},
   "outputs": [],
   "source": [
    "x = str(\"RSA\")\n",
    "y = int(10)\n",
    "z = float(20)\n",
    "a = complex(41j)"
   ]
  },
  {
   "cell_type": "code",
   "execution_count": 22,
   "id": "9d0a87a8",
   "metadata": {},
   "outputs": [
    {
     "name": "stdout",
     "output_type": "stream",
     "text": [
      "<class 'str'>\n",
      "<class 'int'>\n",
      "<class 'float'>\n",
      "<class 'complex'>\n"
     ]
    }
   ],
   "source": [
    "print(type(x))\n",
    "print(type(y))\n",
    "print(type(z))\n",
    "print(type(a))"
   ]
  },
  {
   "cell_type": "markdown",
   "id": "dab6da25",
   "metadata": {},
   "source": [
    "# Single or Double Quotes"
   ]
  },
  {
   "cell_type": "code",
   "execution_count": 36,
   "id": "cbc15c75",
   "metadata": {},
   "outputs": [
    {
     "name": "stdout",
     "output_type": "stream",
     "text": [
      "Shyam\n",
      "Khushal\n"
     ]
    }
   ],
   "source": [
    "x = \"Shyam\"\n",
    "y = 'Khushal'\n",
    "print(x)\n",
    "print(y)"
   ]
  },
  {
   "cell_type": "markdown",
   "id": "e5f5c5fe",
   "metadata": {},
   "source": [
    "1. Do:\n",
    "    1. Variable name must be start with letters or underscore character\n",
    "    2. A variable name should be alpha numeric character and underscore [A-Za-z, 0-9, _]\n",
    "    3. Variable name case sensitive \n",
    "\n",
    "2. Dont:\n",
    "    1. Variable name cannot start with Number\n"
   ]
  },
  {
   "cell_type": "code",
   "execution_count": 37,
   "id": "9dffdaad",
   "metadata": {},
   "outputs": [],
   "source": [
    "Age = 50\n",
    "age = 42\n",
    "AGE = 30"
   ]
  },
  {
   "cell_type": "code",
   "execution_count": 38,
   "id": "00527850",
   "metadata": {},
   "outputs": [
    {
     "name": "stdout",
     "output_type": "stream",
     "text": [
      "50\n",
      "42\n",
      "30\n"
     ]
    }
   ],
   "source": [
    "print(Age)\n",
    "print(age)\n",
    "print(AGE)"
   ]
  },
  {
   "cell_type": "code",
   "execution_count": 39,
   "id": "02b54195",
   "metadata": {},
   "outputs": [],
   "source": [
    "_age = 50\n",
    "age = 50\n",
    "_age_1 = 45"
   ]
  },
  {
   "cell_type": "code",
   "execution_count": 40,
   "id": "dd23860e",
   "metadata": {},
   "outputs": [
    {
     "name": "stdout",
     "output_type": "stream",
     "text": [
      "50\n",
      "50\n",
      "45\n"
     ]
    }
   ],
   "source": [
    "print(_age)\n",
    "print(age)\n",
    "print(_age_1)"
   ]
  },
  {
   "cell_type": "code",
   "execution_count": 41,
   "id": "ea6721aa",
   "metadata": {},
   "outputs": [],
   "source": [
    "myvar = 10\n",
    "my_var = 20\n",
    "_my_var = 30\n",
    "myVar = 'Shyam'\n",
    "MYVAR = 53\n",
    "myvar2 = 52\n",
    "my_var_2 = 30"
   ]
  },
  {
   "cell_type": "code",
   "execution_count": 44,
   "id": "b485c92b",
   "metadata": {},
   "outputs": [
    {
     "name": "stdout",
     "output_type": "stream",
     "text": [
      "10\n",
      "20\n",
      "30\n",
      "Shyam\n"
     ]
    }
   ],
   "source": [
    "print(myvar)\n",
    "print(my_var)\n",
    "print(_my_var)\n",
    "print(myVar)"
   ]
  },
  {
   "cell_type": "code",
   "execution_count": 42,
   "id": "72ece2fa",
   "metadata": {},
   "outputs": [
    {
     "ename": "SyntaxError",
     "evalue": "invalid syntax (<ipython-input-42-b3396f06542f>, line 1)",
     "output_type": "error",
     "traceback": [
      "\u001b[1;36m  File \u001b[1;32m\"<ipython-input-42-b3396f06542f>\"\u001b[1;36m, line \u001b[1;32m1\u001b[0m\n\u001b[1;33m    2myvar = 20\u001b[0m\n\u001b[1;37m     ^\u001b[0m\n\u001b[1;31mSyntaxError\u001b[0m\u001b[1;31m:\u001b[0m invalid syntax\n"
     ]
    }
   ],
   "source": [
    "2myvar = 20"
   ]
  },
  {
   "cell_type": "code",
   "execution_count": 45,
   "id": "a5836d54",
   "metadata": {},
   "outputs": [
    {
     "ename": "SyntaxError",
     "evalue": "cannot assign to operator (<ipython-input-45-d0a974618578>, line 1)",
     "output_type": "error",
     "traceback": [
      "\u001b[1;36m  File \u001b[1;32m\"<ipython-input-45-d0a974618578>\"\u001b[1;36m, line \u001b[1;32m1\u001b[0m\n\u001b[1;33m    my-var = 10\u001b[0m\n\u001b[1;37m    ^\u001b[0m\n\u001b[1;31mSyntaxError\u001b[0m\u001b[1;31m:\u001b[0m cannot assign to operator\n"
     ]
    }
   ],
   "source": [
    "my-var = 10"
   ]
  },
  {
   "cell_type": "code",
   "execution_count": 46,
   "id": "2049c268",
   "metadata": {},
   "outputs": [
    {
     "ename": "SyntaxError",
     "evalue": "invalid syntax (<ipython-input-46-f7b5ddbe6fd1>, line 1)",
     "output_type": "error",
     "traceback": [
      "\u001b[1;36m  File \u001b[1;32m\"<ipython-input-46-f7b5ddbe6fd1>\"\u001b[1;36m, line \u001b[1;32m1\u001b[0m\n\u001b[1;33m    my var = 20\u001b[0m\n\u001b[1;37m       ^\u001b[0m\n\u001b[1;31mSyntaxError\u001b[0m\u001b[1;31m:\u001b[0m invalid syntax\n"
     ]
    }
   ],
   "source": [
    "my var = 20"
   ]
  },
  {
   "cell_type": "code",
   "execution_count": null,
   "id": "1a32ffb9",
   "metadata": {},
   "outputs": [],
   "source": []
  }
 ],
 "metadata": {
  "kernelspec": {
   "display_name": "Python 3",
   "language": "python",
   "name": "python3"
  },
  "language_info": {
   "codemirror_mode": {
    "name": "ipython",
    "version": 3
   },
   "file_extension": ".py",
   "mimetype": "text/x-python",
   "name": "python",
   "nbconvert_exporter": "python",
   "pygments_lexer": "ipython3",
   "version": "3.8.8"
  }
 },
 "nbformat": 4,
 "nbformat_minor": 5
}
