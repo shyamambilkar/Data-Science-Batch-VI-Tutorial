{
 "cells": [
  {
   "cell_type": "markdown",
   "id": "8631697e",
   "metadata": {},
   "source": [
    "# What is Python"
   ]
  },
  {
   "cell_type": "markdown",
   "id": "3ce93391",
   "metadata": {},
   "source": [
    "1. Python is general purpose high level Programming\n",
    "2. Python is Intepreted, Interactive, Object Oriented Programming language\n",
    "3. Easy to Understand\n",
    "4. Open Source (Free to use anyone)\n",
    "5. Portability\n",
    "6. Embedded and Extesion\n",
    "7. Huge Library Support\n",
    "8. Object Oriented Programming"
   ]
  },
  {
   "cell_type": "markdown",
   "id": "6663ecaa",
   "metadata": {},
   "source": [
    "## 1. Examples:\n",
    "    1. Google:\n",
    "        1. Better search result are probided based on ranking of the website and much more\n",
    "    2. DropBox:\n",
    "        1. All architecture of Dropbox in Python\n",
    "        2. Server and Client application are coded in Python\n",
    "    3. Netflix:\n",
    "        1. Machine Learning is used to cluster used based on there interest on shows and reaturn them for language\n",
    "    4. NCS: \n",
    "        1. Cyber security analysis and other encryption and decryption work is done using python\n",
    "    5. Bittorent:\n",
    "        1. Transfer of files between peer-to-peer which started as Python\n",
    "    6. NASA:\n",
    "        1. Scintific calculation to Reduce time\n",
    "    7. ISRO:\n",
    "        1. Scintific calculation to Reduce time"
   ]
  },
  {
   "cell_type": "markdown",
   "id": "f5bf1af7",
   "metadata": {},
   "source": [
    "# Why Python:\n",
    "    1. Easy to use Programming language\n",
    "    2. Lot of application:\n",
    "        1. apps\n",
    "        2. Game \n",
    "        3. Web-based\n",
    "        4. IoT (Internet of Things)\n",
    "    3. Multiple frameworks are supported to Python:\n",
    "        1. Django -  Web Based with Database\n",
    "        2. Flask - Machine Learning\n",
    "        3. Pyramid etc.\n",
    "    4. Data Science\n",
    "    5. Most used in Artificial Intelligence AI and Machine Learning\n",
    "    6. Work on different platforms\n",
    "    7. simple syntax similar to english like statement"
   ]
  },
  {
   "cell_type": "markdown",
   "id": "3bc1d0cf",
   "metadata": {},
   "source": [
    "# What can Python Do:\n",
    "    1. Server to create Web application\n",
    "    2. Python can be used alongside software to create workflows\n",
    "    3. Connect to Database system, also read and modify files\n",
    "    4. Handle Big Data \n",
    "    5. Perform Complex Mathematical Operations\n",
    "    6. Use for Rapid- Prototyping\n",
    "    7. For production - ready software developement "
   ]
  },
  {
   "cell_type": "code",
   "execution_count": 6,
   "id": "178da225",
   "metadata": {},
   "outputs": [
    {
     "name": "stdout",
     "output_type": "stream",
     "text": [
      "Welcome to Python Programming Language\n"
     ]
    }
   ],
   "source": [
    "print(\"Welcome to Python Programming Language\")"
   ]
  },
  {
   "cell_type": "code",
   "execution_count": 7,
   "id": "668afa9b",
   "metadata": {},
   "outputs": [
    {
     "name": "stdout",
     "output_type": "stream",
     "text": [
      "Welcome to Python Programming Language\n"
     ]
    }
   ],
   "source": [
    "# My First Program\n",
    "print(\"Welcome to Python Programming Language\")"
   ]
  },
  {
   "cell_type": "markdown",
   "id": "41051447",
   "metadata": {},
   "source": [
    "# Basic Concepts"
   ]
  },
  {
   "cell_type": "markdown",
   "id": "ac6abde3",
   "metadata": {},
   "source": [
    "## 1. Variables:\n",
    "    1. Variables contain something a value"
   ]
  },
  {
   "cell_type": "code",
   "execution_count": 11,
   "id": "bc38523d",
   "metadata": {},
   "outputs": [
    {
     "name": "stdout",
     "output_type": "stream",
     "text": [
      "30\n"
     ]
    }
   ],
   "source": [
    "x = 10 # Integer\n",
    "y = 20 # Integer\n",
    "\n",
    "a = x + y\n",
    "print(a)"
   ]
  },
  {
   "cell_type": "code",
   "execution_count": 12,
   "id": "03ecf456",
   "metadata": {},
   "outputs": [
    {
     "name": "stdout",
     "output_type": "stream",
     "text": [
      "Hello world\n"
     ]
    }
   ],
   "source": [
    "print(\"Hello world\")"
   ]
  },
  {
   "cell_type": "code",
   "execution_count": 2,
   "id": "e085ed98",
   "metadata": {},
   "outputs": [
    {
     "name": "stdout",
     "output_type": "stream",
     "text": [
      "Hello World..!\n"
     ]
    }
   ],
   "source": [
    "print(\"Hello World..!\")"
   ]
  },
  {
   "cell_type": "code",
   "execution_count": 4,
   "id": "05182a94",
   "metadata": {},
   "outputs": [
    {
     "name": "stdout",
     "output_type": "stream",
     "text": [
      "Welcome to Data Science...!\n",
      "Welcome\n"
     ]
    }
   ],
   "source": [
    "print(\"Welcome to Data Science...!\")\n",
    "print(\"Welcome\")"
   ]
  },
  {
   "cell_type": "code",
   "execution_count": null,
   "id": "dd533b0b",
   "metadata": {},
   "outputs": [],
   "source": []
  }
 ],
 "metadata": {
  "kernelspec": {
   "display_name": "Python 3",
   "language": "python",
   "name": "python3"
  },
  "language_info": {
   "codemirror_mode": {
    "name": "ipython",
    "version": 3
   },
   "file_extension": ".py",
   "mimetype": "text/x-python",
   "name": "python",
   "nbconvert_exporter": "python",
   "pygments_lexer": "ipython3",
   "version": "3.8.8"
  }
 },
 "nbformat": 4,
 "nbformat_minor": 5
}
