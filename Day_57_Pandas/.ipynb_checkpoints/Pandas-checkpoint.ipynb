{
 "cells": [
  {
   "cell_type": "markdown",
   "id": "a8f51d09",
   "metadata": {},
   "source": [
    "# Pandas"
   ]
  },
  {
   "cell_type": "code",
   "execution_count": 1,
   "id": "aef651e9",
   "metadata": {},
   "outputs": [],
   "source": [
    "import pandas as pd"
   ]
  },
  {
   "cell_type": "code",
   "execution_count": 3,
   "id": "2d5ab714",
   "metadata": {},
   "outputs": [
    {
     "data": {
      "text/plain": [
       "{'my_team': ['INDIA',\n",
       "  'AUS',\n",
       "  'PAK',\n",
       "  'NZ',\n",
       "  'SHRILANKA',\n",
       "  'ENGLAND',\n",
       "  'SOUTHAFRIKA',\n",
       "  'NAMEBIYA'],\n",
       " 'ranking': [1, 2, 3, 4, 5, 6, 7, 8],\n",
       " 'score': {842, 846, 847, 848, 849, 850, 851, 853}}"
      ]
     },
     "execution_count": 3,
     "metadata": {},
     "output_type": "execute_result"
    }
   ],
   "source": [
    "my_dict = {\n",
    "    'my_team':['INDIA','AUS','PAK','NZ','SHRILANKA','ENGLAND','SOUTHAFRIKA','NAMEBIYA'],\n",
    "    'ranking':[1,2,3,4,5,6,7,8],\n",
    "    'score': {853,842,851,850,849,848,847,846}\n",
    "}\n",
    "\n",
    "my_dict"
   ]
  },
  {
   "cell_type": "code",
   "execution_count": 5,
   "id": "409fc4e4",
   "metadata": {},
   "outputs": [],
   "source": [
    "my_dict = {\n",
    "    'my_team':['INDIA','AUS','PAK','NZ','SHRILANKA','ENGLAND','SOUTHAFRIKA','NAMEBIYA'],\n",
    "    'ranking':[1,2,3,4,5,6,7,8],\n",
    "    'score': [853,842,851,850,849,848,847,846]\n",
    "}\n",
    "\n",
    "my_df = pd.DataFrame(my_dict)\n",
    "my_var = my_df.to_csv('cricket_info.csv')"
   ]
  },
  {
   "cell_type": "markdown",
   "id": "994b8a53",
   "metadata": {},
   "source": [
    "## version"
   ]
  },
  {
   "cell_type": "code",
   "execution_count": 6,
   "id": "d301e936",
   "metadata": {},
   "outputs": [
    {
     "name": "stdout",
     "output_type": "stream",
     "text": [
      "1.2.4\n"
     ]
    }
   ],
   "source": [
    "print(pd.__version__)"
   ]
  },
  {
   "cell_type": "markdown",
   "id": "5dbe5a22",
   "metadata": {},
   "source": [
    "# Pandas Series"
   ]
  },
  {
   "cell_type": "markdown",
   "id": "f6eb3d14",
   "metadata": {},
   "source": [
    "1. A Pandas series is a same like columns in table\n",
    "2. It is one-dimensional array holding data of any type"
   ]
  },
  {
   "cell_type": "code",
   "execution_count": 7,
   "id": "f0f36b72",
   "metadata": {},
   "outputs": [
    {
     "name": "stdout",
     "output_type": "stream",
     "text": [
      "0    10\n",
      "1    20\n",
      "2    30\n",
      "3    40\n",
      "4    50\n",
      "5    60\n",
      "6    70\n",
      "dtype: int64\n"
     ]
    }
   ],
   "source": [
    "import pandas as pd\n",
    "\n",
    "x = [10,20,30,40,50,60,70]\n",
    "\n",
    "my_var = pd.Series(x)\n",
    "print(my_var)"
   ]
  },
  {
   "cell_type": "code",
   "execution_count": 8,
   "id": "ffdad8bd",
   "metadata": {},
   "outputs": [
    {
     "data": {
      "text/plain": [
       "50"
      ]
     },
     "execution_count": 8,
     "metadata": {},
     "output_type": "execute_result"
    }
   ],
   "source": [
    "my_var[4]"
   ]
  },
  {
   "cell_type": "code",
   "execution_count": 9,
   "id": "6ccefbba",
   "metadata": {},
   "outputs": [
    {
     "data": {
      "text/plain": [
       "2    30\n",
       "3    40\n",
       "4    50\n",
       "dtype: int64"
      ]
     },
     "execution_count": 9,
     "metadata": {},
     "output_type": "execute_result"
    }
   ],
   "source": [
    "my_var[2:5]"
   ]
  },
  {
   "cell_type": "markdown",
   "id": "af0cf2cb",
   "metadata": {},
   "source": [
    "## Labels"
   ]
  },
  {
   "cell_type": "markdown",
   "id": "6fdf5048",
   "metadata": {},
   "source": [
    "1. If nothing else are specified, the value are labled with their index number\n",
    "2. First value has index 0, Second value has index 1 etc.\n",
    "3. This labled can be used to access a specified value"
   ]
  },
  {
   "cell_type": "code",
   "execution_count": 10,
   "id": "ace78de8",
   "metadata": {},
   "outputs": [
    {
     "data": {
      "text/plain": [
       "50"
      ]
     },
     "execution_count": 10,
     "metadata": {},
     "output_type": "execute_result"
    }
   ],
   "source": [
    "my_var[4]"
   ]
  },
  {
   "cell_type": "code",
   "execution_count": 11,
   "id": "99cc52f7",
   "metadata": {},
   "outputs": [
    {
     "name": "stdout",
     "output_type": "stream",
     "text": [
      "a    10\n",
      "b    20\n",
      "c    30\n",
      "d    40\n",
      "e    50\n",
      "f    60\n",
      "g    70\n",
      "dtype: int64\n"
     ]
    }
   ],
   "source": [
    "x = [10,20,30,40,50,60,70]\n",
    "\n",
    "my_var = pd.Series(x, index=['a','b','c','d','e','f','g'])\n",
    "\n",
    "print(my_var)"
   ]
  },
  {
   "cell_type": "markdown",
   "id": "41fea513",
   "metadata": {},
   "source": [
    "## Key - Value pair using Series"
   ]
  },
  {
   "cell_type": "code",
   "execution_count": 12,
   "id": "65e85958",
   "metadata": {},
   "outputs": [
    {
     "name": "stdout",
     "output_type": "stream",
     "text": [
      "name      Mayur\n",
      "name1     Tejas\n",
      "name2    Sakshi\n",
      "dtype: object\n"
     ]
    }
   ],
   "source": [
    "x = {'name':'Mayur','name1':'Tejas','name2':'Sakshi'}\n",
    "\n",
    "my_var =pd.Series(x)\n",
    "\n",
    "print(my_var)"
   ]
  },
  {
   "cell_type": "markdown",
   "id": "5d3a9f5e",
   "metadata": {},
   "source": [
    "# DataFrame:\n",
    "    1. A Pandas Dataframe is 2-dimensional data structure like 2-dimenisonal arrry\n",
    "    2. Table with rows and columns"
   ]
  },
  {
   "cell_type": "code",
   "execution_count": 14,
   "id": "726356e7",
   "metadata": {},
   "outputs": [
    {
     "name": "stdout",
     "output_type": "stream",
     "text": [
      "       my_team  ranking  score\n",
      "0        INDIA        1    853\n",
      "1          AUS        2    842\n",
      "2          PAK        3    851\n",
      "3           NZ        4    850\n",
      "4    SHRILANKA        5    849\n",
      "5      ENGLAND        6    848\n",
      "6  SOUTHAFRIKA        7    847\n",
      "7     NAMEBIYA        8    846\n"
     ]
    }
   ],
   "source": [
    "my_dict = {\n",
    "    'my_team':['INDIA','AUS','PAK','NZ','SHRILANKA','ENGLAND','SOUTHAFRIKA','NAMEBIYA'],\n",
    "    'ranking':[1,2,3,4,5,6,7,8],\n",
    "    'score': [853,842,851,850,849,848,847,846]\n",
    "}\n",
    "\n",
    "my_var = pd.DataFrame(my_dict)\n",
    "print(my_var)"
   ]
  },
  {
   "cell_type": "code",
   "execution_count": 15,
   "id": "6bd9f739",
   "metadata": {},
   "outputs": [
    {
     "name": "stdout",
     "output_type": "stream",
     "text": [
      "       my_team  ranking  score\n",
      "0        INDIA        1    853\n",
      "1          AUS        2    842\n",
      "2          PAK        3    851\n",
      "3           NZ        4    850\n",
      "4    SHRILANKA        5    849\n",
      "5      ENGLAND        6    848\n",
      "6  SOUTHAFRIKA        7    847\n",
      "7     NAMEBIYA        8    846\n"
     ]
    }
   ],
   "source": [
    "my_dict = {\n",
    "    'my_team':['INDIA','AUS','PAK','NZ','SHRILANKA','ENGLAND','SOUTHAFRIKA','NAMEBIYA'],\n",
    "    'ranking':[1,2,3,4,5,6,7,8],\n",
    "    'score': [853,842,851,850,849,848,847,846]\n",
    "}\n",
    "\n",
    "df = pd.DataFrame(my_dict)\n",
    "print(df)"
   ]
  },
  {
   "cell_type": "markdown",
   "id": "ea7f33b8",
   "metadata": {},
   "source": [
    "## Return Rows:\n",
    "    1. Pandas is used [loc()] method to return one or more specified row(s)\n",
    "    2. Return a Pandas Series\n",
    "    3. When using, [] the result is a Pandas DataFrame"
   ]
  },
  {
   "cell_type": "code",
   "execution_count": 16,
   "id": "2f3e3e12",
   "metadata": {},
   "outputs": [
    {
     "name": "stdout",
     "output_type": "stream",
     "text": [
      "my_team    INDIA\n",
      "ranking        1\n",
      "score        853\n",
      "Name: 0, dtype: object\n"
     ]
    }
   ],
   "source": [
    "print(df.loc[0])"
   ]
  },
  {
   "cell_type": "code",
   "execution_count": 18,
   "id": "44f1a390",
   "metadata": {},
   "outputs": [
    {
     "name": "stdout",
     "output_type": "stream",
     "text": [
      "  my_team  ranking  score\n",
      "0   INDIA        1    853\n",
      "1     AUS        2    842\n"
     ]
    }
   ],
   "source": [
    "print(df.loc[[0,1]])"
   ]
  },
  {
   "cell_type": "code",
   "execution_count": 20,
   "id": "5185c6fe",
   "metadata": {},
   "outputs": [
    {
     "name": "stdout",
     "output_type": "stream",
     "text": [
      "0          INDIA\n",
      "1            AUS\n",
      "2            PAK\n",
      "3             NZ\n",
      "4      SHRILANKA\n",
      "5        ENGLAND\n",
      "6    SOUTHAFRIKA\n",
      "7       NAMEBIYA\n",
      "Name: my_team, dtype: object\n"
     ]
    }
   ],
   "source": [
    "print(df['my_team'])"
   ]
  },
  {
   "cell_type": "markdown",
   "id": "f6e8aff5",
   "metadata": {},
   "source": [
    "## Name Indexed"
   ]
  },
  {
   "cell_type": "code",
   "execution_count": 23,
   "id": "64d9a0b6",
   "metadata": {},
   "outputs": [
    {
     "name": "stdout",
     "output_type": "stream",
     "text": [
      "       my_team  ranking  score\n",
      "a        INDIA        1    853\n",
      "b          AUS        2    842\n",
      "c          PAK        3    851\n",
      "d           NZ        4    850\n",
      "e    SHRILANKA        5    849\n",
      "f      ENGLAND        6    848\n",
      "g  SOUTHAFRIKA        7    847\n",
      "h     NAMEBIYA        8    846\n"
     ]
    }
   ],
   "source": [
    "my_dict = {\n",
    "    'my_team':['INDIA','AUS','PAK','NZ','SHRILANKA','ENGLAND','SOUTHAFRIKA','NAMEBIYA'],\n",
    "    'ranking':[1,2,3,4,5,6,7,8],\n",
    "    'score': [853,842,851,850,849,848,847,846]\n",
    "}\n",
    "\n",
    "df = pd.DataFrame(my_dict, index=['a','b','c','d','e','f','g','h'])\n",
    "\n",
    "print(df)"
   ]
  },
  {
   "cell_type": "code",
   "execution_count": 24,
   "id": "29e1d6d3",
   "metadata": {},
   "outputs": [
    {
     "name": "stdout",
     "output_type": "stream",
     "text": [
      "my_team    PAK\n",
      "ranking      3\n",
      "score      851\n",
      "Name: c, dtype: object\n"
     ]
    }
   ],
   "source": [
    "print(df.loc['c'])"
   ]
  },
  {
   "cell_type": "code",
   "execution_count": 25,
   "id": "cd4bd42d",
   "metadata": {},
   "outputs": [
    {
     "name": "stdout",
     "output_type": "stream",
     "text": [
      "a    1\n",
      "b    2\n",
      "c    3\n",
      "d    4\n",
      "e    5\n",
      "f    6\n",
      "g    7\n",
      "h    8\n",
      "Name: ranking, dtype: int64\n"
     ]
    }
   ],
   "source": [
    "print(df['ranking'])"
   ]
  },
  {
   "cell_type": "code",
   "execution_count": 26,
   "id": "1d962fda",
   "metadata": {},
   "outputs": [],
   "source": [
    "my_dict = {\n",
    "    'my_team':['INDIA','AUS','PAK','NZ','SHRILANKA','ENGLAND','SOUTHAFRIKA','NAMEBIYA'],\n",
    "    'ranking':[1,2,3,4,5,6,7,8],\n",
    "    'score': [853,842,851,850,849,848,847,846]\n",
    "}\n",
    "\n",
    "my_var = pd.DataFrame(my_dict, index=['a','b','c','d','e','f','g','h'])\n",
    "\n",
    "df = my_var.to_csv('data.csv')"
   ]
  },
  {
   "cell_type": "markdown",
   "id": "3bc3a492",
   "metadata": {},
   "source": [
    "# Pandas Read CSV"
   ]
  },
  {
   "cell_type": "markdown",
   "id": "81c6bab1",
   "metadata": {},
   "source": [
    "1. CSV stands for Comma Separated Value\n",
    "2. A simple way to store big data sets is to use CSV\n",
    "3. CSV files contains plain text and is well knows format that can be read by everyone"
   ]
  },
  {
   "cell_type": "code",
   "execution_count": 27,
   "id": "af8d146a",
   "metadata": {},
   "outputs": [],
   "source": [
    "import pandas as pd\n",
    "\n",
    "df = pd.read_csv('data.csv')"
   ]
  },
  {
   "cell_type": "code",
   "execution_count": 30,
   "id": "25c11a40",
   "metadata": {},
   "outputs": [
    {
     "name": "stdout",
     "output_type": "stream",
     "text": [
      "  Unnamed: 0      my_team  ranking  score\n",
      "0          a        INDIA        1    853\n",
      "1          b          AUS        2    842\n",
      "2          c          PAK        3    851\n",
      "3          d           NZ        4    850\n",
      "4          e    SHRILANKA        5    849\n",
      "5          f      ENGLAND        6    848\n",
      "6          g  SOUTHAFRIKA        7    847\n",
      "7          h     NAMEBIYA        8    846\n"
     ]
    }
   ],
   "source": [
    "print(df.to_string())"
   ]
  },
  {
   "cell_type": "code",
   "execution_count": 34,
   "id": "34499619",
   "metadata": {},
   "outputs": [
    {
     "name": "stdout",
     "output_type": "stream",
     "text": [
      "10\n"
     ]
    }
   ],
   "source": [
    "print(pd.options.display.min_rows)"
   ]
  },
  {
   "cell_type": "code",
   "execution_count": 36,
   "id": "422f7574",
   "metadata": {},
   "outputs": [
    {
     "name": "stdout",
     "output_type": "stream",
     "text": [
      "  Unnamed: 0      my_team  ranking  score\n",
      "0          a        INDIA        1    853\n",
      "1          b          AUS        2    842\n",
      "2          c          PAK        3    851\n",
      "3          d           NZ        4    850\n",
      "4          e    SHRILANKA        5    849\n",
      "5          f      ENGLAND        6    848\n",
      "6          g  SOUTHAFRIKA        7    847\n",
      "7          h     NAMEBIYA        8    846\n"
     ]
    }
   ],
   "source": [
    "import pandas as pd\n",
    "\n",
    "pd.options.display.max_rows = 9999\n",
    "\n",
    "df = pd.read_csv('data.csv')\n",
    "print(df)"
   ]
  },
  {
   "cell_type": "markdown",
   "id": "dd2836b9",
   "metadata": {},
   "source": [
    "## Read JSON"
   ]
  },
  {
   "cell_type": "markdown",
   "id": "90a55e47",
   "metadata": {},
   "source": [
    "1. JavaScript Object Notation\n",
    "2. Big data sets are oftern stored, or extracted data\n",
    "2. JSON is plain text , but has file format of an object\n",
    "4. use to_string() method to print entire DataFrame\n",
    "5. JSON = Python Dictionary\n",
    "6. JSON objects have the same format as Python Dictionary"
   ]
  },
  {
   "cell_type": "code",
   "execution_count": 37,
   "id": "8bd88145",
   "metadata": {},
   "outputs": [],
   "source": [
    "my_dict = {\n",
    "    'my_team':['INDIA','AUS','PAK','NZ','SHRILANKA','ENGLAND','SOUTHAFRIKA','NAMEBIYA'],\n",
    "    'ranking':[1,2,3,4,5,6,7,8],\n",
    "    'score': [853,842,851,850,849,848,847,846]\n",
    "}\n",
    "\n",
    "\n",
    "my_var = pd.DataFrame(my_dict)\n",
    "\n",
    "df = my_var.to_json('data.json')"
   ]
  },
  {
   "cell_type": "markdown",
   "id": "38a1678b",
   "metadata": {},
   "source": [
    "### Read JSON"
   ]
  },
  {
   "cell_type": "code",
   "execution_count": 38,
   "id": "8cb9b7c7",
   "metadata": {},
   "outputs": [],
   "source": [
    "df = pd.read_json('data.json')"
   ]
  },
  {
   "cell_type": "code",
   "execution_count": 41,
   "id": "f345ad48",
   "metadata": {},
   "outputs": [
    {
     "name": "stdout",
     "output_type": "stream",
     "text": [
      "       my_team  ranking  score\n",
      "0        INDIA        1    853\n",
      "1          AUS        2    842\n",
      "2          PAK        3    851\n",
      "3           NZ        4    850\n",
      "4    SHRILANKA        5    849\n",
      "5      ENGLAND        6    848\n",
      "6  SOUTHAFRIKA        7    847\n",
      "7     NAMEBIYA        8    846\n"
     ]
    }
   ],
   "source": [
    "print(df.to_string())"
   ]
  },
  {
   "cell_type": "markdown",
   "id": "7658c9cc",
   "metadata": {},
   "source": [
    "## Pandas - Read Dataset from Different Location"
   ]
  },
  {
   "cell_type": "code",
   "execution_count": 42,
   "id": "2e9f38cc",
   "metadata": {},
   "outputs": [],
   "source": [
    "import pandas as pd\n",
    "\n",
    "df =pd.read_csv('C:/Users/shyam.DESKTOP-3EM50G2/Desktop/Data_Scince_Batch_VI/Datasets/1_Regression/2_Multivariate_Linear_Regression/autos_dataset.csv')"
   ]
  },
  {
   "cell_type": "code",
   "execution_count": 44,
   "id": "cc629c62",
   "metadata": {},
   "outputs": [
    {
     "data": {
      "text/html": [
       "<div>\n",
       "<style scoped>\n",
       "    .dataframe tbody tr th:only-of-type {\n",
       "        vertical-align: middle;\n",
       "    }\n",
       "\n",
       "    .dataframe tbody tr th {\n",
       "        vertical-align: top;\n",
       "    }\n",
       "\n",
       "    .dataframe thead th {\n",
       "        text-align: right;\n",
       "    }\n",
       "</style>\n",
       "<table border=\"1\" class=\"dataframe\">\n",
       "  <thead>\n",
       "    <tr style=\"text-align: right;\">\n",
       "      <th></th>\n",
       "      <th>symboling</th>\n",
       "      <th>normalized-losses</th>\n",
       "      <th>make</th>\n",
       "      <th>fuel-type</th>\n",
       "      <th>aspiration</th>\n",
       "      <th>num-of-doors</th>\n",
       "      <th>body-style</th>\n",
       "      <th>drive-wheels</th>\n",
       "      <th>engine-location</th>\n",
       "      <th>wheel-base</th>\n",
       "      <th>...</th>\n",
       "      <th>engine-size</th>\n",
       "      <th>fuel-system</th>\n",
       "      <th>bore</th>\n",
       "      <th>stroke</th>\n",
       "      <th>compression-ratio</th>\n",
       "      <th>horsepower</th>\n",
       "      <th>peak-rpm</th>\n",
       "      <th>city-mpg</th>\n",
       "      <th>highway-mpg</th>\n",
       "      <th>price</th>\n",
       "    </tr>\n",
       "  </thead>\n",
       "  <tbody>\n",
       "    <tr>\n",
       "      <th>0</th>\n",
       "      <td>3</td>\n",
       "      <td>?</td>\n",
       "      <td>alfa-romero</td>\n",
       "      <td>gas</td>\n",
       "      <td>std</td>\n",
       "      <td>two</td>\n",
       "      <td>convertible</td>\n",
       "      <td>rwd</td>\n",
       "      <td>front</td>\n",
       "      <td>88.6</td>\n",
       "      <td>...</td>\n",
       "      <td>130</td>\n",
       "      <td>mpfi</td>\n",
       "      <td>3.47</td>\n",
       "      <td>2.68</td>\n",
       "      <td>9.0</td>\n",
       "      <td>111</td>\n",
       "      <td>5000</td>\n",
       "      <td>21</td>\n",
       "      <td>27</td>\n",
       "      <td>13495</td>\n",
       "    </tr>\n",
       "    <tr>\n",
       "      <th>1</th>\n",
       "      <td>3</td>\n",
       "      <td>?</td>\n",
       "      <td>alfa-romero</td>\n",
       "      <td>gas</td>\n",
       "      <td>std</td>\n",
       "      <td>two</td>\n",
       "      <td>convertible</td>\n",
       "      <td>rwd</td>\n",
       "      <td>front</td>\n",
       "      <td>88.6</td>\n",
       "      <td>...</td>\n",
       "      <td>130</td>\n",
       "      <td>mpfi</td>\n",
       "      <td>3.47</td>\n",
       "      <td>2.68</td>\n",
       "      <td>9.0</td>\n",
       "      <td>111</td>\n",
       "      <td>5000</td>\n",
       "      <td>21</td>\n",
       "      <td>27</td>\n",
       "      <td>16500</td>\n",
       "    </tr>\n",
       "    <tr>\n",
       "      <th>2</th>\n",
       "      <td>1</td>\n",
       "      <td>?</td>\n",
       "      <td>alfa-romero</td>\n",
       "      <td>gas</td>\n",
       "      <td>std</td>\n",
       "      <td>two</td>\n",
       "      <td>hatchback</td>\n",
       "      <td>rwd</td>\n",
       "      <td>front</td>\n",
       "      <td>94.5</td>\n",
       "      <td>...</td>\n",
       "      <td>152</td>\n",
       "      <td>mpfi</td>\n",
       "      <td>2.68</td>\n",
       "      <td>3.47</td>\n",
       "      <td>9.0</td>\n",
       "      <td>154</td>\n",
       "      <td>5000</td>\n",
       "      <td>19</td>\n",
       "      <td>26</td>\n",
       "      <td>16500</td>\n",
       "    </tr>\n",
       "    <tr>\n",
       "      <th>3</th>\n",
       "      <td>2</td>\n",
       "      <td>164</td>\n",
       "      <td>audi</td>\n",
       "      <td>gas</td>\n",
       "      <td>std</td>\n",
       "      <td>four</td>\n",
       "      <td>sedan</td>\n",
       "      <td>fwd</td>\n",
       "      <td>front</td>\n",
       "      <td>99.8</td>\n",
       "      <td>...</td>\n",
       "      <td>109</td>\n",
       "      <td>mpfi</td>\n",
       "      <td>3.19</td>\n",
       "      <td>3.4</td>\n",
       "      <td>10.0</td>\n",
       "      <td>102</td>\n",
       "      <td>5500</td>\n",
       "      <td>24</td>\n",
       "      <td>30</td>\n",
       "      <td>13950</td>\n",
       "    </tr>\n",
       "    <tr>\n",
       "      <th>4</th>\n",
       "      <td>2</td>\n",
       "      <td>164</td>\n",
       "      <td>audi</td>\n",
       "      <td>gas</td>\n",
       "      <td>std</td>\n",
       "      <td>four</td>\n",
       "      <td>sedan</td>\n",
       "      <td>4wd</td>\n",
       "      <td>front</td>\n",
       "      <td>99.4</td>\n",
       "      <td>...</td>\n",
       "      <td>136</td>\n",
       "      <td>mpfi</td>\n",
       "      <td>3.19</td>\n",
       "      <td>3.4</td>\n",
       "      <td>8.0</td>\n",
       "      <td>115</td>\n",
       "      <td>5500</td>\n",
       "      <td>18</td>\n",
       "      <td>22</td>\n",
       "      <td>17450</td>\n",
       "    </tr>\n",
       "  </tbody>\n",
       "</table>\n",
       "<p>5 rows × 26 columns</p>\n",
       "</div>"
      ],
      "text/plain": [
       "   symboling normalized-losses         make fuel-type aspiration num-of-doors  \\\n",
       "0          3                 ?  alfa-romero       gas        std          two   \n",
       "1          3                 ?  alfa-romero       gas        std          two   \n",
       "2          1                 ?  alfa-romero       gas        std          two   \n",
       "3          2               164         audi       gas        std         four   \n",
       "4          2               164         audi       gas        std         four   \n",
       "\n",
       "    body-style drive-wheels engine-location  wheel-base  ...  engine-size  \\\n",
       "0  convertible          rwd           front        88.6  ...          130   \n",
       "1  convertible          rwd           front        88.6  ...          130   \n",
       "2    hatchback          rwd           front        94.5  ...          152   \n",
       "3        sedan          fwd           front        99.8  ...          109   \n",
       "4        sedan          4wd           front        99.4  ...          136   \n",
       "\n",
       "   fuel-system  bore  stroke compression-ratio horsepower  peak-rpm city-mpg  \\\n",
       "0         mpfi  3.47    2.68               9.0        111      5000       21   \n",
       "1         mpfi  3.47    2.68               9.0        111      5000       21   \n",
       "2         mpfi  2.68    3.47               9.0        154      5000       19   \n",
       "3         mpfi  3.19     3.4              10.0        102      5500       24   \n",
       "4         mpfi  3.19     3.4               8.0        115      5500       18   \n",
       "\n",
       "  highway-mpg  price  \n",
       "0          27  13495  \n",
       "1          27  16500  \n",
       "2          26  16500  \n",
       "3          30  13950  \n",
       "4          22  17450  \n",
       "\n",
       "[5 rows x 26 columns]"
      ]
     },
     "execution_count": 44,
     "metadata": {},
     "output_type": "execute_result"
    }
   ],
   "source": [
    "df.head()"
   ]
  },
  {
   "cell_type": "code",
   "execution_count": null,
   "id": "c859a68a",
   "metadata": {},
   "outputs": [],
   "source": []
  }
 ],
 "metadata": {
  "kernelspec": {
   "display_name": "Python 3",
   "language": "python",
   "name": "python3"
  },
  "language_info": {
   "codemirror_mode": {
    "name": "ipython",
    "version": 3
   },
   "file_extension": ".py",
   "mimetype": "text/x-python",
   "name": "python",
   "nbconvert_exporter": "python",
   "pygments_lexer": "ipython3",
   "version": "3.8.8"
  }
 },
 "nbformat": 4,
 "nbformat_minor": 5
}
