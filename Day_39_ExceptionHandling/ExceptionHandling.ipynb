{
 "cells": [
  {
   "cell_type": "code",
   "execution_count": 9,
   "id": "7b0c00c2",
   "metadata": {},
   "outputs": [
    {
     "name": "stdout",
     "output_type": "stream",
     "text": [
      "Enter the Age: 18\n",
      "Age is Less than 18\n"
     ]
    }
   ],
   "source": [
    "my_age = int(input(\"Enter the Age: \"))\n",
    "\n",
    "if (my_age < 21):\n",
    "    print(\"Age is Less than 18\")\n",
    "else:\n",
    "    print(\"The age is Valid\")"
   ]
  },
  {
   "cell_type": "code",
   "execution_count": 10,
   "id": "a95d1cf1",
   "metadata": {},
   "outputs": [
    {
     "name": "stdout",
     "output_type": "stream",
     "text": [
      "Enter the Age: 18\n",
      "The Age is not Valid\n"
     ]
    }
   ],
   "source": [
    "try:\n",
    "    my_age = int(input(\"Enter the Age: \"))\n",
    "    if (my_age < 21):\n",
    "        raise ValueError\n",
    "    else:\n",
    "        print(\"Valid Age\")\n",
    "except:\n",
    "    print(\"The Age is not Valid\")"
   ]
  },
  {
   "cell_type": "code",
   "execution_count": 15,
   "id": "604ec84a",
   "metadata": {},
   "outputs": [
    {
     "name": "stdout",
     "output_type": "stream",
     "text": [
      "Enter a Positive Number: -4\n",
      "This is Negative Number\n"
     ]
    }
   ],
   "source": [
    "try:\n",
    "    my_num = int(input(\"Enter a Positive Number: \"))\n",
    "    if (my_num <=0):\n",
    "        raise ValueError(\"This is Negative Number\")\n",
    "    else:\n",
    "        print(\"The {} number is Positive \".format(my_num))\n",
    "        \n",
    "except ValueError as e:\n",
    "    print(e)"
   ]
  },
  {
   "cell_type": "code",
   "execution_count": 19,
   "id": "82e5fed5",
   "metadata": {},
   "outputs": [
    {
     "name": "stdout",
     "output_type": "stream",
     "text": [
      "Received Error:  404\n"
     ]
    }
   ],
   "source": [
    "class ErrorInCode(Exception):\n",
    "    def __init__(self, my_num):\n",
    "        self.my_num = my_num\n",
    "        \n",
    "    def __str__(self):\n",
    "        return repr(self.my_num)\n",
    "    \n",
    "try:\n",
    "    raise ErrorInCode(404)\n",
    "except ErrorInCode as ae:\n",
    "    print(\"Received Error: \",ae.my_num)"
   ]
  },
  {
   "cell_type": "code",
   "execution_count": 26,
   "id": "4cd118f5",
   "metadata": {},
   "outputs": [],
   "source": [
    "try:\n",
    "    f = open(\"my_file.txt\",\"w\")\n",
    "    try:\n",
    "        f.write(\"Welcome to Python Data Science Placement Batch...!\")\n",
    "    except:\n",
    "        print(\"Something went wrong , when Writting to the file\")\n",
    "    finally:\n",
    "        f.close()\n",
    "except:\n",
    "    print(\"Something went wrong, when opening the file\")"
   ]
  },
  {
   "cell_type": "code",
   "execution_count": 27,
   "id": "65ebd29a",
   "metadata": {},
   "outputs": [
    {
     "name": "stdout",
     "output_type": "stream",
     "text": [
      "['Welcome to Python Data Science Placement Batch...!']\n"
     ]
    }
   ],
   "source": [
    "f = open(\"my_file.txt\")\n",
    "print(f.readlines())"
   ]
  },
  {
   "cell_type": "code",
   "execution_count": 28,
   "id": "3ac2d1fc",
   "metadata": {},
   "outputs": [],
   "source": [
    "import datetime"
   ]
  },
  {
   "cell_type": "code",
   "execution_count": 32,
   "id": "a18e770e",
   "metadata": {},
   "outputs": [
    {
     "name": "stdout",
     "output_type": "stream",
     "text": [
      "2022\n",
      "Friday\n"
     ]
    }
   ],
   "source": [
    "x = datetime.datetime.now()\n",
    "print(x.year)\n",
    "print(x.strftime(\"%A\"))"
   ]
  },
  {
   "cell_type": "code",
   "execution_count": null,
   "id": "52d6f501",
   "metadata": {},
   "outputs": [],
   "source": []
  }
 ],
 "metadata": {
  "kernelspec": {
   "display_name": "Python 3",
   "language": "python",
   "name": "python3"
  },
  "language_info": {
   "codemirror_mode": {
    "name": "ipython",
    "version": 3
   },
   "file_extension": ".py",
   "mimetype": "text/x-python",
   "name": "python",
   "nbconvert_exporter": "python",
   "pygments_lexer": "ipython3",
   "version": "3.8.8"
  }
 },
 "nbformat": 4,
 "nbformat_minor": 5
}
