{
 "cells": [
  {
   "cell_type": "code",
   "execution_count": 1,
   "id": "532dc140",
   "metadata": {},
   "outputs": [],
   "source": [
    "import numpy"
   ]
  },
  {
   "cell_type": "code",
   "execution_count": 3,
   "id": "e817e38d",
   "metadata": {},
   "outputs": [
    {
     "name": "stdout",
     "output_type": "stream",
     "text": [
      "[1 2 3 4 5]\n"
     ]
    }
   ],
   "source": [
    "my_array = numpy.array([1,2,3,4,5])\n",
    "print(my_array)"
   ]
  },
  {
   "cell_type": "code",
   "execution_count": 4,
   "id": "411a7f67",
   "metadata": {},
   "outputs": [],
   "source": [
    "import numpy as np"
   ]
  },
  {
   "cell_type": "code",
   "execution_count": 5,
   "id": "bf6262de",
   "metadata": {},
   "outputs": [
    {
     "name": "stdout",
     "output_type": "stream",
     "text": [
      "[10 20 30 40 50]\n"
     ]
    }
   ],
   "source": [
    "my_array = np.array([10,20,30,40,50])\n",
    "print(my_array)"
   ]
  },
  {
   "cell_type": "markdown",
   "id": "6ba82afc",
   "metadata": {},
   "source": [
    "### Version"
   ]
  },
  {
   "cell_type": "code",
   "execution_count": 6,
   "id": "29b275c0",
   "metadata": {},
   "outputs": [
    {
     "name": "stdout",
     "output_type": "stream",
     "text": [
      "1.20.1\n"
     ]
    }
   ],
   "source": [
    "print(np.__version__)"
   ]
  },
  {
   "cell_type": "markdown",
   "id": "26584c90",
   "metadata": {},
   "source": [
    "# Creating Array [n-dimensional - ndarray]"
   ]
  },
  {
   "cell_type": "markdown",
   "id": "e8c6c7dc",
   "metadata": {},
   "source": [
    "1. Numpy is used to work with array. The array object is Numpy called as ndarray\n",
    "2. We can create a Numpy ndarray object by using the array()"
   ]
  },
  {
   "cell_type": "code",
   "execution_count": 8,
   "id": "59108992",
   "metadata": {},
   "outputs": [
    {
     "name": "stdout",
     "output_type": "stream",
     "text": [
      "[10 20 30 40 50]\n",
      "<class 'numpy.ndarray'>\n"
     ]
    }
   ],
   "source": [
    "import numpy as np\n",
    "\n",
    "my_array = np.array([10,20,30,40,50])\n",
    "print(my_array)\n",
    "\n",
    "print(type(my_array))"
   ]
  },
  {
   "cell_type": "markdown",
   "id": "4b5f54a6",
   "metadata": {},
   "source": [
    "## There are different types of ndarray:\n",
    "    1. 0-D array\n",
    "    2. 1-D array\n",
    "    3. 2-D array\n",
    "    4. 3-D array"
   ]
  },
  {
   "cell_type": "markdown",
   "id": "86e2ed54",
   "metadata": {},
   "source": [
    "### 1. 0-D arrays"
   ]
  },
  {
   "cell_type": "code",
   "execution_count": 9,
   "id": "53f108d9",
   "metadata": {},
   "outputs": [
    {
     "name": "stdout",
     "output_type": "stream",
     "text": [
      "40\n"
     ]
    }
   ],
   "source": [
    "import numpy as np\n",
    "\n",
    "my_array = np.array(40)\n",
    "print(my_array)"
   ]
  },
  {
   "cell_type": "markdown",
   "id": "8aa824fd",
   "metadata": {},
   "source": [
    "### 2. 1-D arrays:\n",
    "    1. Array has 0-D arrays as its elements is called as 1-D array or Uni-Dimensional array\n",
    "    2. The most common array"
   ]
  },
  {
   "cell_type": "code",
   "execution_count": 10,
   "id": "19388c8c",
   "metadata": {},
   "outputs": [
    {
     "name": "stdout",
     "output_type": "stream",
     "text": [
      "[10 20 30 40 50]\n"
     ]
    }
   ],
   "source": [
    "import numpy as np\n",
    "\n",
    "my_array = np.array([10,20,30,40,50])\n",
    "print(my_array)"
   ]
  },
  {
   "cell_type": "markdown",
   "id": "94aac94d",
   "metadata": {},
   "source": [
    "### 3. 2-D arrays\n",
    "    1. An array that has 1-D arrays as its elements is called as 2-D array\n",
    "    2. used to represent matrix or 2nd order tensors"
   ]
  },
  {
   "cell_type": "code",
   "execution_count": 12,
   "id": "f4ee52c8",
   "metadata": {},
   "outputs": [
    {
     "name": "stdout",
     "output_type": "stream",
     "text": [
      "[[10 20 30 40]\n",
      " [50 60 70 80]]\n"
     ]
    }
   ],
   "source": [
    "import numpy as np\n",
    "\n",
    "my_array = np.array([[10,20,30,40],[50,60,70,80]])\n",
    "print(my_array)"
   ]
  },
  {
   "cell_type": "markdown",
   "id": "3875acf4",
   "metadata": {},
   "source": [
    "### 4. 3-D arrays\n",
    "    1. An array that has 2-D array (matrices) as its elements is called as 3-D array\n",
    "    2. used to represent a 3rd order tensor"
   ]
  },
  {
   "cell_type": "code",
   "execution_count": 13,
   "id": "a9c1de68",
   "metadata": {},
   "outputs": [
    {
     "name": "stdout",
     "output_type": "stream",
     "text": [
      "[[[ 10  20  30]\n",
      "  [ 40  50  60]]\n",
      "\n",
      " [[ 70  80  90]\n",
      "  [100 110 120]]]\n"
     ]
    }
   ],
   "source": [
    "import numpy as np\n",
    "\n",
    "my_array = np.array([[[10,20,30],[40,50,60]],[[70,80,90],[100,110,120]]])\n",
    "print(my_array)"
   ]
  },
  {
   "cell_type": "markdown",
   "id": "43d2db91",
   "metadata": {},
   "source": [
    "# Number of Dimensions"
   ]
  },
  {
   "cell_type": "code",
   "execution_count": 14,
   "id": "6f963cea",
   "metadata": {},
   "outputs": [
    {
     "name": "stdout",
     "output_type": "stream",
     "text": [
      "0\n",
      "1\n",
      "2\n",
      "3\n"
     ]
    }
   ],
   "source": [
    "import numpy as np\n",
    "\n",
    "my_array = np.array(48)\n",
    "my_array1 = np.array([10,20,30,40,50])\n",
    "my_array2 = np.array([[10,20,30,40],[50,0,70,80]])\n",
    "my_array3 = np.array([[[10,20,30],[40,50,60]],[[70,80,90],[100,110,120]]])\n",
    "\n",
    "print(my_array.ndim)\n",
    "print(my_array1.ndim)\n",
    "print(my_array2.ndim)\n",
    "print(my_array3.ndim)"
   ]
  },
  {
   "cell_type": "markdown",
   "id": "6f18a05e",
   "metadata": {},
   "source": [
    "## Higher Dimensional Arrays"
   ]
  },
  {
   "cell_type": "code",
   "execution_count": 21,
   "id": "55e8a2b3",
   "metadata": {},
   "outputs": [
    {
     "name": "stdout",
     "output_type": "stream",
     "text": [
      "[[[[[[[10 20 30 40 50 60 70 80 90]]]]]]]\n",
      "Number of Dimension:  7\n"
     ]
    }
   ],
   "source": [
    "my_array = np.array([10,20,30,40,50,60,70,80,90],ndmin = 7)\n",
    "print(my_array)\n",
    "print(\"Number of Dimension: \", my_array.ndim)"
   ]
  },
  {
   "cell_type": "markdown",
   "id": "640f1133",
   "metadata": {},
   "source": [
    "# 2. Access Arrays Elements"
   ]
  },
  {
   "cell_type": "markdown",
   "id": "549bed70",
   "metadata": {},
   "source": [
    "1. Numpy Array indexing is the same as accessing an array elements\n",
    "2. you can access an array elements by reffering index number\n",
    "3. Numpy Array indexing start with 0, that means first elements has index 0, second elements is ...\n",
    "4. There are differnt types of Dimension of Array accssing using indexing:\n",
    "    1. 0-D array\n",
    "    2. 1-D array\n",
    "    3. 2-D array\n",
    "    4. 3-D array\n",
    "5. There are two types indexing to accessing arrays elements:\n",
    "    1. Positive Indexing\n",
    "    2. Negative Indexing"
   ]
  },
  {
   "cell_type": "markdown",
   "id": "4e53a38c",
   "metadata": {},
   "source": [
    "## 1. Positive Indexing"
   ]
  },
  {
   "cell_type": "markdown",
   "id": "bae8fcc8",
   "metadata": {},
   "source": [
    "### 1. 0-D arrays"
   ]
  },
  {
   "cell_type": "code",
   "execution_count": 24,
   "id": "00f38ae2",
   "metadata": {},
   "outputs": [
    {
     "name": "stdout",
     "output_type": "stream",
     "text": [
      "48\n"
     ]
    }
   ],
   "source": [
    "my_array = np.array(48)\n",
    "\n",
    "print(my_array)"
   ]
  },
  {
   "cell_type": "markdown",
   "id": "98bf7bcb",
   "metadata": {},
   "source": [
    "### 2. 1-D Arrays"
   ]
  },
  {
   "cell_type": "code",
   "execution_count": 27,
   "id": "b53b8068",
   "metadata": {},
   "outputs": [
    {
     "data": {
      "text/plain": [
       "50"
      ]
     },
     "execution_count": 27,
     "metadata": {},
     "output_type": "execute_result"
    }
   ],
   "source": [
    "my_array1 = np.array([10,20,30,40,50])\n",
    "\n",
    "my_array1[4]"
   ]
  },
  {
   "cell_type": "code",
   "execution_count": 29,
   "id": "8c6c4b0f",
   "metadata": {},
   "outputs": [
    {
     "data": {
      "text/plain": [
       "60"
      ]
     },
     "execution_count": 29,
     "metadata": {},
     "output_type": "execute_result"
    }
   ],
   "source": [
    "my_array1[0] + my_array1[4]"
   ]
  },
  {
   "cell_type": "markdown",
   "id": "31225d30",
   "metadata": {},
   "source": [
    "### 3. 2-D arrays"
   ]
  },
  {
   "cell_type": "code",
   "execution_count": 30,
   "id": "b1581e7c",
   "metadata": {},
   "outputs": [
    {
     "name": "stdout",
     "output_type": "stream",
     "text": [
      "40\n"
     ]
    }
   ],
   "source": [
    "my_array2 = np.array([[10,20,30,40],[50,60,70,80]])\n",
    "\n",
    "print(my_array2[0,3])"
   ]
  },
  {
   "cell_type": "code",
   "execution_count": 31,
   "id": "25d4e1b0",
   "metadata": {},
   "outputs": [
    {
     "name": "stdout",
     "output_type": "stream",
     "text": [
      "80\n"
     ]
    }
   ],
   "source": [
    "my_array2 = np.array([[10,20,30,40],[50,60,70,80]])\n",
    "\n",
    "print(my_array2[1,3])"
   ]
  },
  {
   "cell_type": "code",
   "execution_count": 33,
   "id": "dfa4be24",
   "metadata": {},
   "outputs": [
    {
     "name": "stdout",
     "output_type": "stream",
     "text": [
      "[10 20 30 40]\n"
     ]
    }
   ],
   "source": [
    "print(my_array2[0,])"
   ]
  },
  {
   "cell_type": "code",
   "execution_count": 34,
   "id": "45f11d76",
   "metadata": {},
   "outputs": [
    {
     "name": "stdout",
     "output_type": "stream",
     "text": [
      "[50 60 70 80]\n"
     ]
    }
   ],
   "source": [
    "print(my_array2[1,])"
   ]
  },
  {
   "cell_type": "code",
   "execution_count": 36,
   "id": "32139f28",
   "metadata": {},
   "outputs": [
    {
     "name": "stdout",
     "output_type": "stream",
     "text": [
      "[10 20 30 40 50 60]\n"
     ]
    }
   ],
   "source": [
    "my_array2 = np.array([[10,20,30,40,50,60]])\n",
    "\n",
    "print(my_array2[0,])"
   ]
  },
  {
   "cell_type": "code",
   "execution_count": 40,
   "id": "0b79d859",
   "metadata": {},
   "outputs": [
    {
     "name": "stdout",
     "output_type": "stream",
     "text": [
      "[ 70  80  90 100 110 120]\n"
     ]
    }
   ],
   "source": [
    "my_array2 = np.array([[10,20,30,40,50,60],[70,80,90,100,110,120]])\n",
    "\n",
    "print(my_array2[1,])"
   ]
  },
  {
   "cell_type": "markdown",
   "id": "11a37d51",
   "metadata": {},
   "source": [
    "### 4. Access 3-D Arrays"
   ]
  },
  {
   "cell_type": "code",
   "execution_count": 41,
   "id": "6701ea2f",
   "metadata": {},
   "outputs": [
    {
     "name": "stdout",
     "output_type": "stream",
     "text": [
      "60\n"
     ]
    }
   ],
   "source": [
    "my_array3 = np.array([[[10,20,30],[40,50,60]],[[70,80,90],[100,110,120]]])\n",
    "\n",
    "print(my_array3[0,1,2])"
   ]
  },
  {
   "cell_type": "code",
   "execution_count": 42,
   "id": "40b2d3b0",
   "metadata": {},
   "outputs": [
    {
     "name": "stdout",
     "output_type": "stream",
     "text": [
      "90\n"
     ]
    }
   ],
   "source": [
    "my_array3 = np.array([[[10,20,30],[40,50,60]],[[70,80,90],[100,110,120]]])\n",
    "\n",
    "print(my_array3[1,0,2])"
   ]
  },
  {
   "cell_type": "code",
   "execution_count": 43,
   "id": "c8f45f67",
   "metadata": {},
   "outputs": [
    {
     "name": "stdout",
     "output_type": "stream",
     "text": [
      "100\n"
     ]
    }
   ],
   "source": [
    "my_array3 = np.array([[[10,20,30],[40,50,60]],[[70,80,90],[100,110,120]]])\n",
    "\n",
    "print(my_array3[1,1,0])"
   ]
  },
  {
   "cell_type": "code",
   "execution_count": null,
   "id": "128a96f5",
   "metadata": {},
   "outputs": [],
   "source": []
  }
 ],
 "metadata": {
  "kernelspec": {
   "display_name": "Python 3",
   "language": "python",
   "name": "python3"
  },
  "language_info": {
   "codemirror_mode": {
    "name": "ipython",
    "version": 3
   },
   "file_extension": ".py",
   "mimetype": "text/x-python",
   "name": "python",
   "nbconvert_exporter": "python",
   "pygments_lexer": "ipython3",
   "version": "3.8.8"
  }
 },
 "nbformat": 4,
 "nbformat_minor": 5
}
