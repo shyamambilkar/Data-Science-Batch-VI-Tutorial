{
 "cells": [
  {
   "cell_type": "markdown",
   "id": "e92ca0a6",
   "metadata": {},
   "source": [
    "# Class and Objects"
   ]
  },
  {
   "cell_type": "code",
   "execution_count": 2,
   "id": "1de51333",
   "metadata": {},
   "outputs": [
    {
     "name": "stdout",
     "output_type": "stream",
     "text": [
      "Shyam\n",
      "Data Scientist\n",
      "shyam@gmail.com\n",
      "123456789\n",
      "Radhika\n",
      "Data Engineer\n",
      "radhika@gmail.com\n",
      "123456789\n"
     ]
    }
   ],
   "source": [
    "class Person:\n",
    "    def __init__(self,name, post, email, mobile):\n",
    "        self.name = name\n",
    "        self.post = post\n",
    "        self.email = email\n",
    "        self.mobile = mobile\n",
    "        \n",
    "p1 = Person(\"Shyam\",\"Data Scientist\",'shyam@gmail.com',123456789)\n",
    "p2 = Person(\"Radhika\",\"Data Engineer\",'radhika@gmail.com',123456789)\n",
    "p3 = Person(\"Mayur\",\"Data Analyst\",'mayur@gmail.com',123456789)\n",
    "\n",
    "print(p1.name)\n",
    "print(p1.post)\n",
    "print(p1.email)\n",
    "print(p1.mobile)\n",
    "\n",
    "print(p2.name)\n",
    "print(p2.post)\n",
    "print(p2.email)\n",
    "print(p2.mobile)"
   ]
  },
  {
   "cell_type": "code",
   "execution_count": 3,
   "id": "164f9360",
   "metadata": {},
   "outputs": [
    {
     "name": "stdout",
     "output_type": "stream",
     "text": [
      "Shyam\n",
      "Radhika\n",
      "Mayur\n"
     ]
    }
   ],
   "source": [
    "class Person:\n",
    "    def __init__(self,name, post, email, mobile):\n",
    "        self.name = name\n",
    "        self.post = post\n",
    "        self.email = email\n",
    "        self.mobile = mobile\n",
    "        \n",
    "p1 = Person(\"Shyam\",\"Data Scientist\",'shyam@gmail.com',123456789)\n",
    "p2 = Person(\"Radhika\",\"Data Engineer\",'radhika@gmail.com',123456789)\n",
    "p3 = Person(\"Mayur\",\"Data Analyst\",'mayur@gmail.com',123456789)\n",
    "\n",
    "print(p1.name)\n",
    "print(p2.name)\n",
    "print(p3.name)\n"
   ]
  },
  {
   "cell_type": "code",
   "execution_count": 5,
   "id": "a60e2b18",
   "metadata": {},
   "outputs": [
    {
     "name": "stdout",
     "output_type": "stream",
     "text": [
      "Hello My name isShyam\n",
      "None\n"
     ]
    }
   ],
   "source": [
    "class Person:\n",
    "    def __init__(self,name, post, email, mobile):\n",
    "        self.name = name\n",
    "        self.post = post\n",
    "        self.email = email\n",
    "        self.mobile = mobile\n",
    "        \n",
    "    def my_function(abc):\n",
    "        print(\"Hello My name is\"+abc.name)\n",
    "        \n",
    "    \n",
    "p1 = Person(\"Shyam\",\"Data Scientist\",'shyam@gmail.com',123456789)\n",
    "\n",
    "print(p1.my_function())"
   ]
  },
  {
   "cell_type": "code",
   "execution_count": 6,
   "id": "3ea648be",
   "metadata": {},
   "outputs": [
    {
     "name": "stdout",
     "output_type": "stream",
     "text": [
      "Hello My name isShyam\n",
      "None\n"
     ]
    }
   ],
   "source": [
    "class Person:\n",
    "    def __init__(radhika,name, post, email, mobile):\n",
    "        radhika.name = name\n",
    "        radhika.post = post\n",
    "        radhika.email = email\n",
    "        radhika.mobile = mobile\n",
    "        \n",
    "    def my_function(abc):\n",
    "        print(\"Hello My name is \"+abc.name)\n",
    "        \n",
    "    \n",
    "p1 = Person(\"Shyam\",\"Data Scientist\",'shyam@gmail.com',123456789)\n",
    "\n",
    "print(p1.my_function())"
   ]
  },
  {
   "cell_type": "markdown",
   "id": "1df5964d",
   "metadata": {},
   "source": [
    "### Modify Objects"
   ]
  },
  {
   "cell_type": "code",
   "execution_count": 11,
   "id": "0365e72a",
   "metadata": {},
   "outputs": [
    {
     "name": "stdout",
     "output_type": "stream",
     "text": [
      "9923090436\n",
      "Hello My name is Shyam\n",
      "Hello my contact no are: 9923090436\n",
      "None\n"
     ]
    }
   ],
   "source": [
    "class Person:\n",
    "    def __init__(radhika,name, post, email, mobile):\n",
    "        radhika.name = name\n",
    "        radhika.post = post\n",
    "        radhika.email = email\n",
    "        radhika.mobile = mobile\n",
    "        \n",
    "    def my_function(abc):\n",
    "        print(\"Hello My name is \"+abc.name)\n",
    "        print(\"Hello my contact no are: \" +abc.mobile)\n",
    "        \n",
    "    \n",
    "p1 = Person(\"Shyam\",\"Data Scientist\",'shyam@gmail.com',\"123456789\")\n",
    "\n",
    "p1.mobile = \"9923090436\"\n",
    "print(p1.mobile)\n",
    "print(p1.my_function())"
   ]
  },
  {
   "cell_type": "code",
   "execution_count": 13,
   "id": "6841f68d",
   "metadata": {},
   "outputs": [
    {
     "name": "stdout",
     "output_type": "stream",
     "text": [
      "Hello My name is Shyam\n",
      "Hello my post are: Data Engineer\n",
      "None\n"
     ]
    }
   ],
   "source": [
    "class Person:\n",
    "    def __init__(radhika,name, post, email, mobile):\n",
    "        radhika.name = name\n",
    "        radhika.post = post\n",
    "        radhika.email = email\n",
    "        radhika.mobile = mobile\n",
    "        \n",
    "    def my_function(abc):\n",
    "        print(\"Hello My name is \"+abc.name)\n",
    "        print(\"Hello my post are: \" +abc.post)\n",
    "        \n",
    "# creating instance or object of class\n",
    "p1 = Person(\"Shyam\",\"Data Scientist\",'shyam@gmail.com',\"123456789\")\n",
    "\n",
    "# modify objects\n",
    "p1.post = \"Data Engineer\"\n",
    "\n",
    "# calling function using objects\n",
    "print(p1.my_function())\n"
   ]
  },
  {
   "cell_type": "markdown",
   "id": "b1ea4d6c",
   "metadata": {},
   "source": [
    "### Delete Objects"
   ]
  },
  {
   "cell_type": "code",
   "execution_count": 14,
   "id": "90543c02",
   "metadata": {},
   "outputs": [
    {
     "ename": "NameError",
     "evalue": "name 'p1' is not defined",
     "output_type": "error",
     "traceback": [
      "\u001b[1;31m---------------------------------------------------------------------------\u001b[0m",
      "\u001b[1;31mNameError\u001b[0m                                 Traceback (most recent call last)",
      "\u001b[1;32m<ipython-input-14-8e2a100b1781>\u001b[0m in \u001b[0;36m<module>\u001b[1;34m\u001b[0m\n\u001b[0;32m     17\u001b[0m \u001b[1;33m\u001b[0m\u001b[0m\n\u001b[0;32m     18\u001b[0m \u001b[1;31m#calling objects\u001b[0m\u001b[1;33m\u001b[0m\u001b[1;33m\u001b[0m\u001b[1;33m\u001b[0m\u001b[0m\n\u001b[1;32m---> 19\u001b[1;33m \u001b[0mprint\u001b[0m\u001b[1;33m(\u001b[0m\u001b[0mp1\u001b[0m\u001b[1;33m.\u001b[0m\u001b[0mmy_function\u001b[0m\u001b[1;33m(\u001b[0m\u001b[1;33m)\u001b[0m\u001b[1;33m)\u001b[0m\u001b[1;33m\u001b[0m\u001b[1;33m\u001b[0m\u001b[0m\n\u001b[0m",
      "\u001b[1;31mNameError\u001b[0m: name 'p1' is not defined"
     ]
    }
   ],
   "source": [
    "class Person:\n",
    "    def __init__(radhika,name, post, email, mobile):\n",
    "        radhika.name = name\n",
    "        radhika.post = post\n",
    "        radhika.email = email\n",
    "        radhika.mobile = mobile\n",
    "        \n",
    "    def my_function(abc):\n",
    "        print(\"Hello My name is \"+abc.name)\n",
    "        print(\"Hello my post are: \" +abc.post)\n",
    "        \n",
    "# creating instance or object of class\n",
    "p1 = Person(\"Shyam\",\"Data Scientist\",'shyam@gmail.com',\"123456789\")\n",
    "\n",
    "# delete objects\n",
    "del p1\n",
    "\n",
    "#calling objects\n",
    "print(p1.my_function())\n"
   ]
  },
  {
   "cell_type": "code",
   "execution_count": 22,
   "id": "e66570a8",
   "metadata": {},
   "outputs": [
    {
     "name": "stdout",
     "output_type": "stream",
     "text": [
      "Hello My name is Radhika\n",
      "None\n",
      "Radhika\n"
     ]
    }
   ],
   "source": [
    "class Person:\n",
    "    def __init__(python, name, post):\n",
    "        python.name = name\n",
    "        python.post = post\n",
    "        \n",
    "    def my_function(data):\n",
    "        print(\"Hello My name is \"+data.name)\n",
    "        \n",
    "p1 = Person(\"Radhika\",\"Data Engineer\")\n",
    "\n",
    "print(p1.my_function())\n",
    "print(p1.name)"
   ]
  },
  {
   "cell_type": "code",
   "execution_count": 24,
   "id": "8574bfbe",
   "metadata": {},
   "outputs": [
    {
     "name": "stdout",
     "output_type": "stream",
     "text": [
      "Hello My name is Radhika\n",
      "None\n",
      "Hello My name is Data Engineer\n",
      "None\n"
     ]
    }
   ],
   "source": [
    "class Person:\n",
    "    def __init__(python, name, post):\n",
    "        python.name = name\n",
    "        python.post = post\n",
    "        \n",
    "    def my_function(data):\n",
    "        print(\"Hello My name is \"+data.name)\n",
    "        \n",
    "    def my_function1(science):\n",
    "         print(\"Hello My name is \"+science.post)\n",
    "        \n",
    "p1 = Person(\"Radhika\",\"Data Engineer\")\n",
    "\n",
    "print(p1.my_function())\n",
    "print(p1.my_function1())"
   ]
  },
  {
   "cell_type": "code",
   "execution_count": 26,
   "id": "858f4912",
   "metadata": {},
   "outputs": [
    {
     "name": "stdout",
     "output_type": "stream",
     "text": [
      "Hello My name is Radhika\n",
      "Hello My post is Data Engineer\n"
     ]
    }
   ],
   "source": [
    "class Person:\n",
    "    def __init__(python, name, post):\n",
    "        python.name = name\n",
    "        python.post = post\n",
    "        \n",
    "    def my_function(data):\n",
    "        print(\"Hello My name is \"+data.name)\n",
    "        \n",
    "    def my_function1(science):\n",
    "         print(\"Hello My post is \"+science.post)\n",
    "        \n",
    "p1 = Person(\"Radhika\",\"Data Engineer\")\n",
    "\n",
    "p1.my_function()\n",
    "p1.my_function1()"
   ]
  },
  {
   "cell_type": "code",
   "execution_count": 31,
   "id": "42fe52d7",
   "metadata": {},
   "outputs": [
    {
     "name": "stdout",
     "output_type": "stream",
     "text": [
      "Enter a Number: 5\n",
      "5 X 1 = 5\n",
      "5 X 2 = 10\n",
      "5 X 3 = 15\n",
      "5 X 4 = 20\n",
      "5 X 5 = 25\n",
      "5 X 6 = 30\n",
      "5 X 7 = 35\n",
      "5 X 8 = 40\n",
      "5 X 9 = 45\n",
      "5 X 10 = 50\n"
     ]
    }
   ],
   "source": [
    "my_num = int(input(\"Enter a Number: \"))\n",
    "\n",
    "for i in range(1, 11):\n",
    "    print(my_num, \"X\", i, \"=\", my_num * i)"
   ]
  },
  {
   "cell_type": "code",
   "execution_count": 29,
   "id": "7b1ea87e",
   "metadata": {},
   "outputs": [
    {
     "name": "stdout",
     "output_type": "stream",
     "text": [
      "13 X 1 = 13\n",
      "13 X 2 = 26\n",
      "13 X 3 = 39\n",
      "13 X 4 = 52\n",
      "13 X 5 = 65\n",
      "13 X 6 = 78\n",
      "13 X 7 = 91\n",
      "13 X 8 = 104\n",
      "13 X 9 = 117\n",
      "13 X 10 = 130\n"
     ]
    }
   ],
   "source": [
    "my_num = 13\n",
    "\n",
    "for i in range(1, 11):\n",
    "    print(my_num, \"X\", i, \"=\", my_num * i)"
   ]
  },
  {
   "cell_type": "code",
   "execution_count": 36,
   "id": "00059c1f",
   "metadata": {},
   "outputs": [
    {
     "name": "stdout",
     "output_type": "stream",
     "text": [
      "Student ID are:  1\n",
      "Student Name are:  Radhika\n",
      "Student Collage Name are:  JSPM Pune\n",
      "Location are:  Pune\n"
     ]
    }
   ],
   "source": [
    "class Student:\n",
    "    def __init__(stud, roll_no, name,clg_name, location):\n",
    "        stud.roll = roll_no\n",
    "        stud.name = name\n",
    "        stud.clg_nm = clg_name\n",
    "        stud.loc = location\n",
    "        \n",
    "    def stud_id(self):\n",
    "        print(\"Student ID are: \", self.roll)\n",
    "        \n",
    "    def stud_name(self):\n",
    "        print(\"Student Name are: \", self.name)\n",
    "        \n",
    "    def stud_clg_name(self):\n",
    "        print(\"Student Collage Name are: \", self.clg_nm)\n",
    "        \n",
    "    def stud_loc(self):\n",
    "        print(\"Location are: \", self.loc)\n",
    "        \n",
    "        \n",
    "s1 = Student(1,\"Radhika\", \"JSPM Pune\", \"Pune\")\n",
    "\n",
    "\n",
    "s1.stud_id()\n",
    "s1.stud_name()\n",
    "s1.stud_clg_name()\n",
    "s1.stud_loc()"
   ]
  },
  {
   "cell_type": "code",
   "execution_count": null,
   "id": "3701a025",
   "metadata": {},
   "outputs": [],
   "source": [
    "# Plot\n",
    "# length = 20, width=40 unit_price = 1500\n",
    "\n",
    "# Area\n",
    "# Perimeter\n",
    "# Price"
   ]
  }
 ],
 "metadata": {
  "kernelspec": {
   "display_name": "Python 3",
   "language": "python",
   "name": "python3"
  },
  "language_info": {
   "codemirror_mode": {
    "name": "ipython",
    "version": 3
   },
   "file_extension": ".py",
   "mimetype": "text/x-python",
   "name": "python",
   "nbconvert_exporter": "python",
   "pygments_lexer": "ipython3",
   "version": "3.8.8"
  }
 },
 "nbformat": 4,
 "nbformat_minor": 5
}
