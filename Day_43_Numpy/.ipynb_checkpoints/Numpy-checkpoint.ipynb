{
 "cells": [
  {
   "cell_type": "markdown",
   "id": "3571d922",
   "metadata": {},
   "source": [
    "## 2. Negative Indexing"
   ]
  },
  {
   "cell_type": "markdown",
   "id": "4326fc0b",
   "metadata": {},
   "source": [
    "### 1. 1-D Arrays"
   ]
  },
  {
   "cell_type": "code",
   "execution_count": 2,
   "id": "d6e85001",
   "metadata": {},
   "outputs": [
    {
     "name": "stdout",
     "output_type": "stream",
     "text": [
      "60\n"
     ]
    }
   ],
   "source": [
    "import numpy as np\n",
    "my_array = np.array([10,20,30,40,50,60])\n",
    "print(my_array[-1])\n"
   ]
  },
  {
   "cell_type": "markdown",
   "id": "bba34300",
   "metadata": {},
   "source": [
    "### 2. 2-D Arrays"
   ]
  },
  {
   "cell_type": "code",
   "execution_count": 3,
   "id": "3ac20104",
   "metadata": {},
   "outputs": [
    {
     "name": "stdout",
     "output_type": "stream",
     "text": [
      "20\n"
     ]
    }
   ],
   "source": [
    "my_array = np.array([[10,20,30],[40,50,60]])\n",
    "print(my_array[-2,1])"
   ]
  },
  {
   "cell_type": "markdown",
   "id": "a835882a",
   "metadata": {},
   "source": [
    "### 3. 3-D Arrays"
   ]
  },
  {
   "cell_type": "code",
   "execution_count": 5,
   "id": "13855ced",
   "metadata": {},
   "outputs": [],
   "source": [
    "my_array =  np.array([[[10,20,30],[40,50,60]],[[70,80,90],[100,110,120]]])"
   ]
  },
  {
   "cell_type": "code",
   "execution_count": 6,
   "id": "fc6bbb5f",
   "metadata": {},
   "outputs": [
    {
     "name": "stdout",
     "output_type": "stream",
     "text": [
      "80\n"
     ]
    }
   ],
   "source": [
    "print(my_array[-1,0,1])"
   ]
  },
  {
   "cell_type": "code",
   "execution_count": 7,
   "id": "140b5b3b",
   "metadata": {},
   "outputs": [
    {
     "name": "stdout",
     "output_type": "stream",
     "text": [
      "110\n"
     ]
    }
   ],
   "source": [
    "print(my_array[-1,-1,-2])"
   ]
  },
  {
   "cell_type": "code",
   "execution_count": 9,
   "id": "5f196718",
   "metadata": {},
   "outputs": [
    {
     "name": "stdout",
     "output_type": "stream",
     "text": [
      "80\n"
     ]
    }
   ],
   "source": [
    "print(my_array[-1,-2,-2])"
   ]
  },
  {
   "cell_type": "code",
   "execution_count": 12,
   "id": "f264b65c",
   "metadata": {},
   "outputs": [
    {
     "name": "stdout",
     "output_type": "stream",
     "text": [
      "[[[ 10  20  30]\n",
      "  [ 40  50  60]]\n",
      "\n",
      " [[ 70  80  90]\n",
      "  [100 110 120]]]\n"
     ]
    }
   ],
   "source": [
    "print(my_array)"
   ]
  },
  {
   "cell_type": "code",
   "execution_count": 13,
   "id": "96016bc8",
   "metadata": {},
   "outputs": [],
   "source": [
    "my_array =  np.array([[[10,20,30],[40,50,60]],[[70,80,90],[100,110,120]],[[130,140,150],[160,170,180]]])"
   ]
  },
  {
   "cell_type": "code",
   "execution_count": 14,
   "id": "e7d87774",
   "metadata": {},
   "outputs": [
    {
     "name": "stdout",
     "output_type": "stream",
     "text": [
      "[[[ 10  20  30]\n",
      "  [ 40  50  60]]\n",
      "\n",
      " [[ 70  80  90]\n",
      "  [100 110 120]]\n",
      "\n",
      " [[130 140 150]\n",
      "  [160 170 180]]]\n"
     ]
    }
   ],
   "source": [
    "print(my_array)"
   ]
  },
  {
   "cell_type": "code",
   "execution_count": 20,
   "id": "42ded18e",
   "metadata": {},
   "outputs": [
    {
     "name": "stdout",
     "output_type": "stream",
     "text": [
      "160\n",
      "100\n",
      "40\n"
     ]
    }
   ],
   "source": [
    "print(my_array[-1,-1,-3])\n",
    "print(my_array[-2,-1,-3])\n",
    "print(my_array[-3,-1,-3])"
   ]
  },
  {
   "cell_type": "markdown",
   "id": "78c320a1",
   "metadata": {},
   "source": [
    "## 3. Slicing Element access using Slicing"
   ]
  },
  {
   "cell_type": "markdown",
   "id": "dca2fa94",
   "metadata": {},
   "source": [
    "### 1. 1-D Arrays"
   ]
  },
  {
   "cell_type": "code",
   "execution_count": 23,
   "id": "c12c68bd",
   "metadata": {},
   "outputs": [
    {
     "name": "stdout",
     "output_type": "stream",
     "text": [
      "[20 30 40 50 60]\n"
     ]
    }
   ],
   "source": [
    "my_array = np.array([10,20,30,40,50,60,70,80,90])\n",
    "print(my_array[1:6])"
   ]
  },
  {
   "cell_type": "code",
   "execution_count": 24,
   "id": "a5267667",
   "metadata": {},
   "outputs": [
    {
     "name": "stdout",
     "output_type": "stream",
     "text": [
      "[20 30 40 50 60 70 80 90]\n"
     ]
    }
   ],
   "source": [
    "my_array = np.array([10,20,30,40,50,60,70,80,90])\n",
    "print(my_array[1:])"
   ]
  },
  {
   "cell_type": "code",
   "execution_count": 25,
   "id": "84731763",
   "metadata": {},
   "outputs": [
    {
     "name": "stdout",
     "output_type": "stream",
     "text": [
      "[10 20 30 40 50 60 70 80]\n"
     ]
    }
   ],
   "source": [
    "my_array = np.array([10,20,30,40,50,60,70,80,90])\n",
    "print(my_array[:8])"
   ]
  },
  {
   "cell_type": "code",
   "execution_count": 26,
   "id": "74d66716",
   "metadata": {},
   "outputs": [
    {
     "name": "stdout",
     "output_type": "stream",
     "text": [
      "[10 20 30 40 50 60 70 80 90]\n"
     ]
    }
   ],
   "source": [
    "my_array = np.array([10,20,30,40,50,60,70,80,90])\n",
    "print(my_array[:])"
   ]
  },
  {
   "cell_type": "markdown",
   "id": "99f129f7",
   "metadata": {},
   "source": [
    "### 2. 2-D Arrays"
   ]
  },
  {
   "cell_type": "code",
   "execution_count": 27,
   "id": "ab877aca",
   "metadata": {},
   "outputs": [
    {
     "name": "stdout",
     "output_type": "stream",
     "text": [
      "[10 20 30 40 50]\n"
     ]
    }
   ],
   "source": [
    "my_array = np.array([[10,20,30,40,50],[60,70,80,90,100]])\n",
    "\n",
    "print(my_array[0,:])"
   ]
  },
  {
   "cell_type": "code",
   "execution_count": 29,
   "id": "abee983f",
   "metadata": {},
   "outputs": [
    {
     "name": "stdout",
     "output_type": "stream",
     "text": [
      "[ 60  70  80  90 100]\n"
     ]
    }
   ],
   "source": [
    "my_array = np.array([[10,20,30,40,50],[60,70,80,90,100]])\n",
    "\n",
    "print(my_array[1,:])"
   ]
  },
  {
   "cell_type": "code",
   "execution_count": 30,
   "id": "70502d86",
   "metadata": {},
   "outputs": [
    {
     "name": "stdout",
     "output_type": "stream",
     "text": [
      "[20 30 40 50]\n"
     ]
    }
   ],
   "source": [
    "my_array = np.array([[10,20,30,40,50],[60,70,80,90,100]])\n",
    "\n",
    "print(my_array[0,1:])"
   ]
  },
  {
   "cell_type": "code",
   "execution_count": 31,
   "id": "d347aa01",
   "metadata": {},
   "outputs": [
    {
     "name": "stdout",
     "output_type": "stream",
     "text": [
      "[60 70 80 90]\n"
     ]
    }
   ],
   "source": [
    "my_array = np.array([[10,20,30,40,50],[60,70,80,90,100]])\n",
    "\n",
    "print(my_array[1,:4])"
   ]
  },
  {
   "cell_type": "markdown",
   "id": "3bab17a9",
   "metadata": {},
   "source": [
    "### 3. 3-D Arrays"
   ]
  },
  {
   "cell_type": "code",
   "execution_count": 34,
   "id": "727de0c5",
   "metadata": {},
   "outputs": [
    {
     "name": "stdout",
     "output_type": "stream",
     "text": [
      "[[ 70  80  90  71  81  91]\n",
      " [100 110 120 101 111 112]]\n"
     ]
    }
   ],
   "source": [
    "my_array =  np.array([[[10,20,30,11,12,13],[40,50,60,14,15,16]],\n",
    "                      [[70,80,90,71,81,91],[100,110,120,101,111,112]],\n",
    "                      [[130,140,150,141,151,161],[160,170,180,171,181,191]]])\n",
    "\n",
    "print(my_array[1,])"
   ]
  },
  {
   "cell_type": "code",
   "execution_count": 37,
   "id": "8ca48964",
   "metadata": {},
   "outputs": [
    {
     "name": "stdout",
     "output_type": "stream",
     "text": [
      "[[ 70  80  90  71  81  91]\n",
      " [100 110 120 101 111 112]]\n"
     ]
    }
   ],
   "source": [
    "my_array =  np.array([[[10,20,30,11,12,13],[40,50,60,14,15,16]],\n",
    "                      [[70,80,90,71,81,91],[100,110,120,101,111,112]],\n",
    "                      [[130,140,150,141,151,161],[160,170,180,171,181,191]]])\n",
    "\n",
    "print(my_array[1,:])"
   ]
  },
  {
   "cell_type": "code",
   "execution_count": 38,
   "id": "818bbea6",
   "metadata": {},
   "outputs": [
    {
     "name": "stdout",
     "output_type": "stream",
     "text": [
      "[100 110 120 101 111 112]\n"
     ]
    }
   ],
   "source": [
    "my_array =  np.array([[[10,20,30,11,12,13],[40,50,60,14,15,16]],\n",
    "                      [[70,80,90,71,81,91],[100,110,120,101,111,112]],\n",
    "                      [[130,140,150,141,151,161],[160,170,180,171,181,191]]])\n",
    "\n",
    "print(my_array[1,1,:])"
   ]
  },
  {
   "cell_type": "code",
   "execution_count": 39,
   "id": "08ed3358",
   "metadata": {},
   "outputs": [
    {
     "name": "stdout",
     "output_type": "stream",
     "text": [
      "[110 120 101]\n"
     ]
    }
   ],
   "source": [
    "my_array =  np.array([[[10,20,30,11,12,13],[40,50,60,14,15,16]],\n",
    "                      [[70,80,90,71,81,91],[100,110,120,101,111,112]],\n",
    "                      [[130,140,150,141,151,161],[160,170,180,171,181,191]]])\n",
    "\n",
    "print(my_array[1,1,1:4])"
   ]
  },
  {
   "cell_type": "markdown",
   "id": "fbfaae62",
   "metadata": {},
   "source": [
    "# 4. Steps [Slicing]"
   ]
  },
  {
   "cell_type": "markdown",
   "id": "da29a803",
   "metadata": {},
   "source": [
    "### 1. 1-D Arrays"
   ]
  },
  {
   "cell_type": "code",
   "execution_count": 41,
   "id": "663c84f1",
   "metadata": {},
   "outputs": [
    {
     "name": "stdout",
     "output_type": "stream",
     "text": [
      "[10 30 50 70 90]\n"
     ]
    }
   ],
   "source": [
    "my_array = np.array([10,20,30,40,50,60,70,80,90])\n",
    "print(my_array[0::2])"
   ]
  },
  {
   "cell_type": "code",
   "execution_count": 42,
   "id": "f0b2d6fa",
   "metadata": {},
   "outputs": [
    {
     "name": "stdout",
     "output_type": "stream",
     "text": [
      "[10 40 70]\n"
     ]
    }
   ],
   "source": [
    "my_array = np.array([10,20,30,40,50,60,70,80,90])\n",
    "print(my_array[0::3])"
   ]
  },
  {
   "cell_type": "markdown",
   "id": "f6a6a18a",
   "metadata": {},
   "source": [
    "### 2. 2-D Arrays"
   ]
  },
  {
   "cell_type": "code",
   "execution_count": 43,
   "id": "033f9576",
   "metadata": {},
   "outputs": [
    {
     "name": "stdout",
     "output_type": "stream",
     "text": [
      "[10 30 50]\n"
     ]
    }
   ],
   "source": [
    "my_array = np.array([[10,20,30,40,50],[60,70,80,90,100]])\n",
    "\n",
    "print(my_array[0,0::2])"
   ]
  },
  {
   "cell_type": "code",
   "execution_count": 44,
   "id": "dae93b27",
   "metadata": {},
   "outputs": [
    {
     "name": "stdout",
     "output_type": "stream",
     "text": [
      "[10 20 30 40 50]\n"
     ]
    }
   ],
   "source": [
    "my_array = np.array([[10,20,30,40,50],[60,70,80,90,100]])\n",
    "\n",
    "print(my_array[0,0::1])"
   ]
  },
  {
   "cell_type": "code",
   "execution_count": 45,
   "id": "e0a60f82",
   "metadata": {},
   "outputs": [
    {
     "name": "stdout",
     "output_type": "stream",
     "text": [
      "[60 90]\n"
     ]
    }
   ],
   "source": [
    "my_array = np.array([[10,20,30,40,50],[60,70,80,90,100]])\n",
    "\n",
    "print(my_array[1,0::3])"
   ]
  },
  {
   "cell_type": "markdown",
   "id": "175fa082",
   "metadata": {},
   "source": [
    "### 3. 3-D Arrays"
   ]
  },
  {
   "cell_type": "code",
   "execution_count": 47,
   "id": "aa47e772",
   "metadata": {},
   "outputs": [
    {
     "name": "stdout",
     "output_type": "stream",
     "text": [
      "[160 180 181]\n"
     ]
    }
   ],
   "source": [
    "my_array =  np.array([[[10,20,30,11,12,13],[40,50,60,14,15,16]],\n",
    "                      [[70,80,90,71,81,91],[100,110,120,101,111,112]],\n",
    "                      [[130,140,150,141,151,161],[160,170,180,171,181,191]]])\n",
    "\n",
    "print(my_array[2,1,0::2])"
   ]
  },
  {
   "cell_type": "code",
   "execution_count": 48,
   "id": "71ac8a16",
   "metadata": {},
   "outputs": [
    {
     "name": "stdout",
     "output_type": "stream",
     "text": [
      "[160 180]\n"
     ]
    }
   ],
   "source": [
    "my_array =  np.array([[[10,20,30,11,12,13],[40,50,60,14,15,16]],\n",
    "                      [[70,80,90,71,81,91],[100,110,120,101,111,112]],\n",
    "                      [[130,140,150,141,151,161],[160,170,180,171,181,191]]])\n",
    "\n",
    "print(my_array[2,1,0:4:2])"
   ]
  },
  {
   "cell_type": "markdown",
   "id": "62b62d24",
   "metadata": {},
   "source": [
    "# Data Types of Python"
   ]
  },
  {
   "cell_type": "markdown",
   "id": "e6ebd1ba",
   "metadata": {},
   "source": [
    "1. Strings - It is used to represent text data, text represent in quatation marks Example: \"Hello World..!\"\n",
    "2. Integer - It is used to represent integer number Example: 10,20,30,40 etc.\n",
    "3. Float - It is used to represent real Number Example: 10.10,20.20 etc.\n",
    "4. Complex - It is used to represent complex number Example: 1.0+j etc.\n",
    "5. Boolean - It is used to represent True or False"
   ]
  },
  {
   "cell_type": "markdown",
   "id": "8636dac4",
   "metadata": {},
   "source": [
    "# Data Types in Numpy:\n",
    "    1. Numpy has some extra data types, and refers to the only single character like, i for integer"
   ]
  },
  {
   "cell_type": "markdown",
   "id": "5930680c",
   "metadata": {},
   "source": [
    "1. i - integer\n",
    "2. b - boolean\n",
    "3. u - unsigned integer\n",
    "4. f - float\n",
    "5. c - complex float\n",
    "6. M - timedelta\n",
    "7. O - object\n",
    "8. S - String\n",
    "9. U - Unicode String\n",
    "10. V - Fixed chunks of memory for other types (void)"
   ]
  },
  {
   "cell_type": "code",
   "execution_count": null,
   "id": "5ba3d22a",
   "metadata": {},
   "outputs": [],
   "source": []
  }
 ],
 "metadata": {
  "kernelspec": {
   "display_name": "Python 3",
   "language": "python",
   "name": "python3"
  },
  "language_info": {
   "codemirror_mode": {
    "name": "ipython",
    "version": 3
   },
   "file_extension": ".py",
   "mimetype": "text/x-python",
   "name": "python",
   "nbconvert_exporter": "python",
   "pygments_lexer": "ipython3",
   "version": "3.8.8"
  }
 },
 "nbformat": 4,
 "nbformat_minor": 5
}
