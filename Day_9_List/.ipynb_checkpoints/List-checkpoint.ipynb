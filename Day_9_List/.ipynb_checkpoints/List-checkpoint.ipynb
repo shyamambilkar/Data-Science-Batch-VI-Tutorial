{
 "cells": [
  {
   "cell_type": "markdown",
   "id": "20ae2c5d",
   "metadata": {},
   "source": [
    "# List"
   ]
  },
  {
   "cell_type": "markdown",
   "id": "479c9757",
   "metadata": {},
   "source": [
    "1. list are used to store collection of data\n",
    "2. list are used to store multiple item in single variable  Example: my_list = [\"apple\",'mango','cherry']\n",
    "3. list are like dynamic size array\n",
    "4. list are used to store hetrogeneous of data such as integer, float, string, tuples, lists,dictinary\n",
    "5. list are used commonly homogeneous of data or list are used to store collection of homogeneous of object\n",
    "6. list are mutable (can be change after creation)\n",
    "7. list should always used when we want to store items in some kind of order\n",
    "8. Elements in list are indexed according to define sequence\n",
    "9. list indexing start from [0] being first indexed\n",
    "10. list are allowed store duplicate elements in list\n",
    "11. Each elements in list are definite place in a list\n",
    "\n",
    "There are different parameters used in List\n",
    "1. List Items:\n",
    "    1. list item or elements are changeble, and that allowed duplicates\n",
    "    2. list item or elements are indexed first item has indexed [0], second elements [1]...\n",
    "2. Ordered:\n",
    "    1. List item are define order and that order will not change\n",
    "    2. In a list new item or elements added a list, new item are stored in end of list \n",
    "3. Changeble:\n",
    "    1. list are changeble that means we can change, add, remove, elements in list after its creation\n",
    "4. Allows Duplicate:\n",
    "    1. Allowed duplicates elements\n",
    "5. List Item - Data Types:\n",
    "    1. list items or elemets are any data type (int, float, string)\n",
    "6. Type - type()\n",
    "7. List Constructor()\n",
    "8. List length:\n",
    "    1. How many number of elements in list "
   ]
  },
  {
   "cell_type": "code",
   "execution_count": 3,
   "id": "0a5c2a23",
   "metadata": {},
   "outputs": [],
   "source": [
    "my_var = [10,20,30,40,50]"
   ]
  },
  {
   "cell_type": "code",
   "execution_count": 4,
   "id": "572c342c",
   "metadata": {},
   "outputs": [
    {
     "name": "stdout",
     "output_type": "stream",
     "text": [
      "<class 'list'>\n"
     ]
    }
   ],
   "source": [
    "print(type(my_var))"
   ]
  },
  {
   "cell_type": "code",
   "execution_count": 9,
   "id": "06e01d09",
   "metadata": {},
   "outputs": [],
   "source": [
    "my_list = [10,'shyam','python',10.12, True,False, 1j, 20,20,10,20,20,20]"
   ]
  },
  {
   "cell_type": "code",
   "execution_count": 10,
   "id": "8cb6bffe",
   "metadata": {},
   "outputs": [
    {
     "name": "stdout",
     "output_type": "stream",
     "text": [
      "[10, 'shyam', 'python', 10.12, True, False, 1j, 20, 20, 10, 20, 20, 20]\n"
     ]
    }
   ],
   "source": [
    "print(my_list)"
   ]
  },
  {
   "cell_type": "code",
   "execution_count": 13,
   "id": "f54a5755",
   "metadata": {},
   "outputs": [
    {
     "data": {
      "text/plain": [
       "10.12"
      ]
     },
     "execution_count": 13,
     "metadata": {},
     "output_type": "execute_result"
    }
   ],
   "source": [
    "my_list[3]"
   ]
  },
  {
   "cell_type": "markdown",
   "id": "6e37e6cf",
   "metadata": {},
   "source": [
    "## Duplicates are allowed"
   ]
  },
  {
   "cell_type": "code",
   "execution_count": 14,
   "id": "2ecf6073",
   "metadata": {},
   "outputs": [],
   "source": [
    "my_list = ['Python','Data','DataScience',\"Rahul\",'Python']"
   ]
  },
  {
   "cell_type": "code",
   "execution_count": 15,
   "id": "ca818a7e",
   "metadata": {},
   "outputs": [
    {
     "data": {
      "text/plain": [
       "['Python', 'Data', 'DataScience', 'Rahul', 'Python']"
      ]
     },
     "execution_count": 15,
     "metadata": {},
     "output_type": "execute_result"
    }
   ],
   "source": [
    "my_list"
   ]
  },
  {
   "cell_type": "markdown",
   "id": "2ca5ec61",
   "metadata": {},
   "source": [
    "## Length of List "
   ]
  },
  {
   "cell_type": "code",
   "execution_count": 16,
   "id": "34d85cfe",
   "metadata": {},
   "outputs": [
    {
     "data": {
      "text/plain": [
       "5"
      ]
     },
     "execution_count": 16,
     "metadata": {},
     "output_type": "execute_result"
    }
   ],
   "source": [
    "my_list = ['Python','Data','DataScience',\"Rahul\",'Python']\n",
    "len(my_list)"
   ]
  },
  {
   "cell_type": "markdown",
   "id": "d732aa1c",
   "metadata": {},
   "source": [
    "## List Item:\n",
    "    1. Homogeneous\n",
    "    2. Hetrogeneous"
   ]
  },
  {
   "cell_type": "code",
   "execution_count": 17,
   "id": "89b800cc",
   "metadata": {},
   "outputs": [],
   "source": [
    "my_list1 = ['Python','Data','DataScience',\"Rahul\",'Python']\n",
    "my_list2 = [10,20,30,40,50]\n",
    "my_list3 = [True, False]\n",
    "my_list4 = [10.12,13.14,52.20]"
   ]
  },
  {
   "cell_type": "code",
   "execution_count": 20,
   "id": "b1b8047e",
   "metadata": {},
   "outputs": [
    {
     "name": "stdout",
     "output_type": "stream",
     "text": [
      "['Python', 'Data', 'DataScience', 'Rahul', 'Python']\n",
      "[10, 20, 30, 40, 50]\n",
      "[True, False]\n",
      "[10.12, 13.14, 52.2]\n"
     ]
    }
   ],
   "source": [
    "print(my_list1)\n",
    "print(my_list2)\n",
    "print(my_list3)\n",
    "print(my_list4)"
   ]
  },
  {
   "cell_type": "markdown",
   "id": "b31029f0",
   "metadata": {},
   "source": [
    "#### 2. Hetrogeous of Data"
   ]
  },
  {
   "cell_type": "code",
   "execution_count": 21,
   "id": "b19b23ed",
   "metadata": {},
   "outputs": [],
   "source": [
    "my_list1 = ['Python','Data',10,20,30,40,50,'DataScience',True, False,\"Rahul\",'Python',10.12,13.14,52.20]"
   ]
  },
  {
   "cell_type": "code",
   "execution_count": 22,
   "id": "c13ea33f",
   "metadata": {},
   "outputs": [
    {
     "name": "stdout",
     "output_type": "stream",
     "text": [
      "['Python', 'Data', 10, 20, 30, 40, 50, 'DataScience', True, False, 'Rahul', 'Python', 10.12, 13.14, 52.2]\n"
     ]
    }
   ],
   "source": [
    "print(my_list1)"
   ]
  },
  {
   "cell_type": "code",
   "execution_count": 23,
   "id": "25e6a636",
   "metadata": {},
   "outputs": [
    {
     "name": "stdout",
     "output_type": "stream",
     "text": [
      "<class 'list'>\n"
     ]
    }
   ],
   "source": [
    "print(type(my_list1))"
   ]
  },
  {
   "cell_type": "markdown",
   "id": "70865bd2",
   "metadata": {},
   "source": [
    "# 1. Access Elements in List:\n",
    "    1. Positive Indexing\n",
    "    2. Negative Indexing"
   ]
  },
  {
   "cell_type": "code",
   "execution_count": 24,
   "id": "e9e296df",
   "metadata": {},
   "outputs": [],
   "source": [
    "my_list = ['apple','mango','cherry','watermelon','banana']"
   ]
  },
  {
   "cell_type": "code",
   "execution_count": 25,
   "id": "3e035642",
   "metadata": {},
   "outputs": [
    {
     "name": "stdout",
     "output_type": "stream",
     "text": [
      "cherry\n"
     ]
    }
   ],
   "source": [
    "print(my_list[2])"
   ]
  },
  {
   "cell_type": "code",
   "execution_count": 27,
   "id": "2c1636ce",
   "metadata": {},
   "outputs": [
    {
     "name": "stdout",
     "output_type": "stream",
     "text": [
      "apple\n"
     ]
    }
   ],
   "source": [
    "print(my_list[-5])"
   ]
  },
  {
   "cell_type": "markdown",
   "id": "0f0a8b84",
   "metadata": {},
   "source": [
    "### Range of Index:\n",
    "    1. Positive \n",
    "    2. Negative "
   ]
  },
  {
   "cell_type": "markdown",
   "id": "da316fda",
   "metadata": {},
   "source": [
    "### 1. Positive Indexing"
   ]
  },
  {
   "cell_type": "code",
   "execution_count": 28,
   "id": "368f1a22",
   "metadata": {},
   "outputs": [],
   "source": [
    "my_list = ['apple','mango','cherry','watermelon','banana']"
   ]
  },
  {
   "cell_type": "code",
   "execution_count": 29,
   "id": "6aaca4a8",
   "metadata": {},
   "outputs": [
    {
     "name": "stdout",
     "output_type": "stream",
     "text": [
      "['apple', 'mango', 'cherry']\n"
     ]
    }
   ],
   "source": [
    "print(my_list[0:3])"
   ]
  },
  {
   "cell_type": "code",
   "execution_count": 30,
   "id": "650e7dbe",
   "metadata": {},
   "outputs": [
    {
     "name": "stdout",
     "output_type": "stream",
     "text": [
      "['mango', 'cherry']\n"
     ]
    }
   ],
   "source": [
    "print(my_list[1:3])"
   ]
  },
  {
   "cell_type": "code",
   "execution_count": 31,
   "id": "d60d3251",
   "metadata": {},
   "outputs": [
    {
     "name": "stdout",
     "output_type": "stream",
     "text": [
      "['mango', 'cherry', 'watermelon', 'banana']\n"
     ]
    }
   ],
   "source": [
    "print(my_list[1:])"
   ]
  },
  {
   "cell_type": "code",
   "execution_count": 32,
   "id": "fc4f4cb2",
   "metadata": {},
   "outputs": [
    {
     "name": "stdout",
     "output_type": "stream",
     "text": [
      "['apple', 'mango', 'cherry']\n"
     ]
    }
   ],
   "source": [
    "print(my_list[:3])"
   ]
  },
  {
   "cell_type": "code",
   "execution_count": 33,
   "id": "a4cf36d9",
   "metadata": {},
   "outputs": [
    {
     "name": "stdout",
     "output_type": "stream",
     "text": [
      "['apple', 'mango', 'cherry', 'watermelon', 'banana']\n"
     ]
    }
   ],
   "source": [
    "print(my_list[:])"
   ]
  },
  {
   "cell_type": "code",
   "execution_count": 34,
   "id": "ada6b7b4",
   "metadata": {},
   "outputs": [
    {
     "name": "stdout",
     "output_type": "stream",
     "text": [
      "['apple', 'mango', 'cherry', 'watermelon', 'banana']\n"
     ]
    }
   ],
   "source": [
    "print(my_list)"
   ]
  },
  {
   "cell_type": "markdown",
   "id": "2af6ccd2",
   "metadata": {},
   "source": [
    "### 2. Negative Indexing"
   ]
  },
  {
   "cell_type": "code",
   "execution_count": 35,
   "id": "ac01dafe",
   "metadata": {},
   "outputs": [],
   "source": [
    "my_list = ['apple', 'mango', 'cherry', 'watermelon', 'banana']"
   ]
  },
  {
   "cell_type": "code",
   "execution_count": 36,
   "id": "6cc057fe",
   "metadata": {},
   "outputs": [
    {
     "data": {
      "text/plain": [
       "['mango', 'cherry', 'watermelon']"
      ]
     },
     "execution_count": 36,
     "metadata": {},
     "output_type": "execute_result"
    }
   ],
   "source": [
    "my_list[-4:-1]"
   ]
  },
  {
   "cell_type": "code",
   "execution_count": 37,
   "id": "94df7c1b",
   "metadata": {},
   "outputs": [
    {
     "data": {
      "text/plain": [
       "['mango', 'cherry', 'watermelon', 'banana']"
      ]
     },
     "execution_count": 37,
     "metadata": {},
     "output_type": "execute_result"
    }
   ],
   "source": [
    "my_list[-4:]"
   ]
  },
  {
   "cell_type": "code",
   "execution_count": 38,
   "id": "c90125d1",
   "metadata": {},
   "outputs": [
    {
     "data": {
      "text/plain": [
       "['apple', 'mango', 'cherry']"
      ]
     },
     "execution_count": 38,
     "metadata": {},
     "output_type": "execute_result"
    }
   ],
   "source": [
    "my_list[:-2]"
   ]
  },
  {
   "cell_type": "code",
   "execution_count": 39,
   "id": "39b40e29",
   "metadata": {},
   "outputs": [],
   "source": [
    "my_list = ['apple', 'mango', 'cherry', 'watermelon', 'banana']"
   ]
  },
  {
   "cell_type": "code",
   "execution_count": 45,
   "id": "58b7d664",
   "metadata": {},
   "outputs": [
    {
     "name": "stdout",
     "output_type": "stream",
     "text": [
      "Yes, apple is avaialable in list\n"
     ]
    }
   ],
   "source": [
    "if 'cherry' in my_list:\n",
    "    print(\"Yes, apple is avaialable in list\")\n",
    "else:\n",
    "    print(\"No apple is not present in list\")"
   ]
  },
  {
   "cell_type": "code",
   "execution_count": null,
   "id": "ac39be72",
   "metadata": {},
   "outputs": [],
   "source": []
  }
 ],
 "metadata": {
  "kernelspec": {
   "display_name": "Python 3",
   "language": "python",
   "name": "python3"
  },
  "language_info": {
   "codemirror_mode": {
    "name": "ipython",
    "version": 3
   },
   "file_extension": ".py",
   "mimetype": "text/x-python",
   "name": "python",
   "nbconvert_exporter": "python",
   "pygments_lexer": "ipython3",
   "version": "3.8.8"
  }
 },
 "nbformat": 4,
 "nbformat_minor": 5
}
