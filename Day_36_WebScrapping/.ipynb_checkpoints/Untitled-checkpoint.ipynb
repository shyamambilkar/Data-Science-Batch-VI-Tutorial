{
 "cells": [
  {
   "cell_type": "markdown",
   "id": "180010fd",
   "metadata": {},
   "source": [
    "# Web Scrapping"
   ]
  },
  {
   "cell_type": "markdown",
   "id": "fbaad8bd",
   "metadata": {},
   "source": [
    "1. https://www.pune.ws/in/?list=hotels\n",
    "2. https://www.mapsofindia.com/hotels-india/maharashtra/pune.html"
   ]
  },
  {
   "cell_type": "code",
   "execution_count": 3,
   "id": "10cbcaf0",
   "metadata": {},
   "outputs": [],
   "source": [
    "import re\n",
    "import urllib\n",
    "import requests\n",
    "import pandas as pd\n",
    "from bs4 import BeautifulSoup"
   ]
  },
  {
   "cell_type": "code",
   "execution_count": 8,
   "id": "394d6921",
   "metadata": {},
   "outputs": [],
   "source": [
    "url = \"https://www.pune.ws/in/?list=hotels\""
   ]
  },
  {
   "cell_type": "code",
   "execution_count": 9,
   "id": "16e7dbab",
   "metadata": {},
   "outputs": [],
   "source": [
    "data = requests.get(url)"
   ]
  },
  {
   "cell_type": "code",
   "execution_count": 10,
   "id": "3e99794a",
   "metadata": {},
   "outputs": [
    {
     "data": {
      "text/plain": [
       "\n",
       "<html>\n",
       "<head>\n",
       "<!-- Global site tag (gtag.js) - Google Analytics -->\n",
       "<script async=\"\" src=\"https://www.googletagmanager.com/gtag/js?id=UA-253517-3\"></script>\n",
       "<script>\n",
       "  window.dataLayer = window.dataLayer || [];\n",
       "  function gtag(){dataLayer.push(arguments);}\n",
       "  gtag('js', new Date());\n",
       "\n",
       "  gtag('config', 'UA-253517-3');\n",
       "</script>\n",
       "<title>Pune Hotels in Pune List</title>\n",
       "<meta content=\"List of Pune Hotels in Pune India. Courtyard by Marriott, Hinjewadi, Pune, Hotel Tamanna Executive, Hinjewadi, Pune, Hotel Tamanna Residency, Hinjewadi, Pune, St Laurn, Pune.\" name=\"description\"/>\n",
       "<meta content=\"Pune Hotels in Pune List, Courtyard by Marriott, Hinjewadi, Pune, Hotel Tamanna Executive, Hinjewadi, Pune, Hotel Tamanna Residency, Hinjewadi, Pune, St Laurn, Pune, Lemon Tree Hotel, Hinjawadi, Pune, Sorrento Service Apartments, Pune India\" name=\"keywords\"/>\n",
       "<link href=\"/css/in.css\" rel=\"stylesheet\" type=\"text/css\"/>\n",
       "<link href=\"/css/d.css\" rel=\"stylesheet\" type=\"text/css\"/>\n",
       "<script async=\"\" src=\"//pagead2.googlesyndication.com/pagead/js/adsbygoogle.js\"></script>\n",
       "<script>\n",
       "     (adsbygoogle = window.adsbygoogle || []).push({\n",
       "          google_ad_client: \"ca-pub-2122854079939866\",\n",
       "          enable_page_level_ads: true\n",
       "     });\n",
       "</script>\n",
       "</head>\n",
       "<body leftmargin=\"0\" marginheight=\"0\" marginwidth=\"0\" topmargin=\"0\">\n",
       "<table bgcolor=\"#ffffff\" border=\"0\" height=\"100%\" width=\"100%\">\n",
       "<tr valign=\"top\">\n",
       "<td style=\"padding-left:27px;padding-right:27px\">\n",
       "<table align=\"center\" border=\"0\" cellpadding=\"0\" cellspacing=\"0\" height=\"100%\" width=\"100%\">\n",
       "<!--<tr valign=top height=40><td align=left>\n",
       "\t\t\t\t\t\t<a href=\"/\"><img src=\"/images/pune.gif\" alt=\"Pune Website\" border=0 style=\"margin-top:13px;margin-bottom:10px\"></a>\n",
       "\t\t\t\t\t</td></tr>\n",
       "\t\t\t\t\t<tr valign=top height=2 bgcolor=#cccccc><td></td></tr>-->\n",
       "<tr valign=\"top\"><td>\n",
       "<table border=\"0\" cellpadding=\"0\" cellspacing=\"0\" height=\"100%\" style=\"margin-top:17px;margin-bottom:10px\" width=\"100%\">\n",
       "<tr valign=\"top\">\n",
       "<td style=\"padding-right:30px\" width=\"30%\">\n",
       "<a href=\"/\"><img alt=\"Pune Website\" border=\"0\" src=\"/images/pune.gif\" style=\"margin-top:0px;margin-bottom:10px\"/></a>\n",
       "<div class=\"pn\"><a href=\"/in/\">Pune Directory</a><br/><a href=\"/in/?list=hotels\">Hotels in Pune</a><br/></div>\n",
       "<h3 style=\"margin-top:10px;padding-left:6px\">Refine Search</h3>\n",
       "<div class=\"ph\">Area</div><div class=\"pn\"><a href=\"/in/?list=camp-hotels\">Camp</a><br/><a href=\"/in/?list=hinjewadi-hotels\">Hinjewadi</a><br/><a href=\"/in/?list=hotels-viman_nagar\">Viman Nagar</a><br/></div><div class=\"ph\">Category</div><div class=\"pn\"><a href=\"/in/\">Any</a><br/><a href=\"/in/?list=hotels\" style=\"color:#555555;background:beige;padding:1px;border-bottom:solid 1px #dedede;padding-right:3px;padding-left:0px\">Hotels</a> <a href=\"/directory/?c=category\" style=\"color:#CC9999\">[Change]</a><br/></div>\n",
       "</td>\n",
       "<td>\n",
       "<!-- Auto -->\n",
       "<ins class=\"adsbygoogle\" data-ad-client=\"ca-pub-2122854079939866\" data-ad-format=\"auto\" data-ad-slot=\"2135824310\" style=\"display:block\"></ins>\n",
       "<script>\n",
       "\t\t\t\t\t\t\t(adsbygoogle = window.adsbygoogle || []).push({});\n",
       "\t\t\t\t\t\t\t</script>\n",
       "<h1>Pune Hotels in Pune List</h1>\n",
       "<p align=\"right\" style=\"border-bottom:1px solid #efefef;padding-bottom:6px\">[ 11 results ]   List Page 1 of 1</p>\n",
       "<div class=\"ebl\"><a href=\"/know/?about=courtyard-marriott\"><h2 class=\"etl\">Courtyard by Marriott, Hinjewadi, Pune</h2></a><div>Luxury Hotel with 153 rooms, including 6 luxury suites.<a href=\"/know/?about=courtyard-marriott\"> .. more details</a></div><div style=\"margin-top:5px\">Address : S. No 19 &amp; 20, P4 Rajiv Gandhi Infotech Park Phase , Hinjewadi, Pune, India - 411057</div><div style=\"margin-top:5px\"><a href=\"http://www.marriott.com/hotels/travel/pnqph-courtyard-pune-hinjewadi/\" target=\"_blank\">Visit Website</a>  |  Phone : 91 20 42122222, Toll-free: 0 001 17 + 8004326626  |  </div></div><div class=\"ebl\"><a href=\"/know/?about=tamanna-executive\"><h2 class=\"etl\">Hotel Tamanna Executive, Hinjewadi, Pune</h2></a><div><a href=\"/know/?about=tamanna-executive\"> .. more details</a></div><div style=\"margin-top:5px\">Address : Plot No. P-10, Rajiv Gandhi Infotech Park, MIDC, Phase-1 Hinjewadi, Pune - 411057</div><div style=\"margin-top:5px\"><a href=\"http://www.tamannahotels.com/tamanna_exicutive.htm\" target=\"_blank\">Visit Website</a>  |  <a href=\"eml.asp?e=tamanna-executive\" onclick=\"Javascript:open('eml.asp?e=tamanna-executive','eml','toolbar=0,location=0,menubar=0;scrollbars=1,status=0,resizable=1,width=620,height=320');return false;\">Email</a>  |  Phone : 020 22933164/22934278/66751900  |  </div></div><div class=\"ebl\"><a href=\"/know/?about=tamanna-residency\"><h2 class=\"etl\">Hotel Tamanna Residency, Hinjewadi, Pune</h2></a><div><a href=\"/know/?about=tamanna-residency\"> .. more details</a></div><div style=\"margin-top:5px\">Address : Plot No. P-10, Rajiv Gandhi Infotech Park, MIDC, Phase-1 Hinjewadi, Pune - 411057</div><div style=\"margin-top:5px\"><a href=\"http://www.tamannahotels.com/tamanna_residency.htm\" target=\"_blank\">Visit Website</a>  |  <a href=\"eml.asp?e=tamanna-residency\" onclick=\"Javascript:open('eml.asp?e=tamanna-residency','eml','toolbar=0,location=0,menubar=0;scrollbars=1,status=0,resizable=1,width=620,height=320');return false;\">Email</a>  |  Phone : 020 22933164/22934278/66751900  |  </div></div><div class=\"ebl\"><a href=\"/know/?about=st-laurn\"><h2 class=\"etl\">St Laurn, Pune</h2></a><div>Business Hotel.<a href=\"/know/?about=st-laurn\"> .. more details</a></div><div style=\"margin-top:5px\">Address : 15 A, Koregaon Road, Pune, India. - 411001</div><div style=\"margin-top:5px\"><a href=\"http://www.stlaurnhotels.com\" target=\"_blank\">Visit Website</a>  |  <a href=\"eml.asp?e=st-laurn\" onclick=\"Javascript:open('eml.asp?e=st-laurn','eml','toolbar=0,location=0,menubar=0;scrollbars=1,status=0,resizable=1,width=620,height=320');return false;\">Email</a>  |  Phone : +91-20-40008000  |  </div></div><div class=\"ebl\"><a href=\"/know/?about=lemon-tree-hotel-hinjawadi\"><h2 class=\"etl\">Lemon Tree Hotel, Hinjawadi, Pune</h2></a><div>Business / leisure hotel in hinjewadi, Pune.<a href=\"/know/?about=lemon-tree-hotel-hinjawadi\"> .. more details</a></div><div style=\"margin-top:5px\">Address : P4, Rajiv Gandhi Infotech Park Phase I, Hinjawadi Pune Maharashtra - 411057</div><div style=\"margin-top:5px\"><a href=\"http://www.lemontreehotels.com/lemon-tree-hotel-hinjawadi-pune-56/home-page-pune.aspx\" target=\"_blank\">Visit Website</a>  |  <a href=\"eml.asp?e=lemon-tree-hotel-hinjawadi\" onclick=\"Javascript:open('eml.asp?e=lemon-tree-hotel-hinjawadi','eml','toolbar=0,location=0,menubar=0;scrollbars=1,status=0,resizable=1,width=620,height=320');return false;\">Email</a>  |  Phone : +91 20 44232323  |  </div></div><div class=\"ebl\"><a href=\"/know/?about=sorrento-service-apartments\"><h2 class=\"etl\">Sorrento Service Apartments, Pune India</h2></a><div><a href=\"/know/?about=sorrento-service-apartments\"> .. more details</a></div><div style=\"margin-top:5px\">Address : Vasant Utsav, Near Rajiv Gandhi Infotech Park, Phase 1, Hinjewadi-Wakad Road, Hinjewadi, Pune. Maharashtra India - 411057</div><div style=\"margin-top:5px\"><a href=\"http://sorrento-hotels.in\" target=\"_blank\">Visit Website</a>  |  <a href=\"eml.asp?e=sorrento-service-apartments\" onclick=\"Javascript:open('eml.asp?e=sorrento-service-apartments','eml','toolbar=0,location=0,menubar=0;scrollbars=1,status=0,resizable=1,width=620,height=320');return false;\">Email</a>  |  Phone : +91-9657713078/9657713079/ 9604100999  |  </div></div><div class=\"ebl\"><a href=\"/know/?about=hotel-studio-estique\"><h2 class=\"etl\">Hotel Studio Estique, Pune, India</h2></a><div>A concept Hotel by Eurobuild India Pvt. Ltd.<a href=\"/know/?about=hotel-studio-estique\"> .. more details</a></div><div style=\"margin-top:5px\">Address : Next to Inox Multiplex Near Council Hall, Bund Garden Road, Pune. ( Maharashtra ) India - 411001</div><div style=\"margin-top:5px\"><a href=\"http://www.studioestique.com\" target=\"_blank\">Visit Website</a>  |  <a href=\"eml.asp?e=hotel-studio-estique\" onclick=\"Javascript:open('eml.asp?e=hotel-studio-estique','eml','toolbar=0,location=0,menubar=0;scrollbars=1,status=0,resizable=1,width=620,height=320');return false;\">Email</a>  |  Phone : +91-20-40188444   |  </div></div><div class=\"ebl\"><a href=\"/know/?about=quality-hotel-regency\"><h2 class=\"etl\">Quality Hotel Regency Pune</h2></a><div><a href=\"/know/?about=quality-hotel-regency\"> .. more details</a></div><div style=\"margin-top:5px\">Address : 192, Dhole Patil Road, Pune. Maharashtra, India. - 411001</div><div style=\"margin-top:5px\"><a href=\"http://www.qualityhotelregency.com\" target=\"_blank\">Visit Website</a>  |  <a href=\"eml.asp?e=quality-hotel-regency\" onclick=\"Javascript:open('eml.asp?e=quality-hotel-regency','eml','toolbar=0,location=0,menubar=0;scrollbars=1,status=0,resizable=1,width=620,height=320');return false;\">Email</a>  |  Phone : +91 20 41040300-10  |  </div></div><div class=\"ebl\"><a href=\"/know/?about=park-view-service-apartments\"><h2 class=\"etl\">PARK VIEW SERVICE APARTMENTS</h2></a><div><a href=\"/know/?about=park-view-service-apartments\"> .. more details</a></div><div style=\"margin-top:5px\">Address : Sector No.18, Plot No. 710, Shahunagar, Shivtejnagar, Behind Chinchwad RTO, Pune - 411077</div><div style=\"margin-top:5px\"><a href=\"http://www.parkview.in\" target=\"_blank\">Visit Website</a>  |  <a href=\"eml.asp?e=park-view-service-apartments\" onclick=\"Javascript:open('eml.asp?e=park-view-service-apartments','eml','toolbar=0,location=0,menubar=0;scrollbars=1,status=0,resizable=1,width=620,height=320');return false;\">Email</a>  |  Phone : 020 65100298  |  </div></div><div class=\"ebl\"><a href=\"/know/?about=fortune-inn-exotica\"><h2 class=\"etl\">Hotel Fortune Inn Exotica, Hinjewadi, Pune</h2></a><div>Business Hotel.<a href=\"/know/?about=fortune-inn-exotica\"> .. more details</a></div><div style=\"margin-top:5px\">Address : S. No. 21, Plot No. 3/2, Rajiv Gandhi Infotech Park, Phase I, Hinjewadi, Pune - 411057</div><div style=\"margin-top:5px\"><a href=\"http://www.fortunehotels.in/hotel/Pune-Fortune_Inn_Exotica,_Hinjewadi.aspx\" target=\"_blank\">Visit Website</a>  |  Phone : 020-39848484  |  </div></div><div class=\"ebl\"><a href=\"/know/?about=fortune-inn-jukaso\"><h2 class=\"etl\">Fortune Inn Jukaso in Pune India - A business hotel</h2></a><div>Business Hotel.<a href=\"/know/?about=fortune-inn-jukaso\"> .. more details</a></div><div style=\"margin-top:5px\">Address : Plot 6, Viman Nagar, Pune Nagar Road, Pune - 411014</div><div style=\"margin-top:5px\"><a href=\"http://www.fortunehotels.in/hotel/Pune-Fortune_Inn_Jukaso.aspx\" target=\"_blank\">Visit Website</a>  |  <a href=\"eml.asp?e=fortune-inn-jukaso\" onclick=\"Javascript:open('eml.asp?e=fortune-inn-jukaso','eml','toolbar=0,location=0,menubar=0;scrollbars=1,status=0,resizable=1,width=620,height=320');return false;\">Email</a>  |  Phone : 020-39848484  |  </div></div>\n",
       "<p align=\"right\">[ 11 results ]    Page 1 of 1 | </p>\n",
       "<!-- Auto -->\n",
       "<ins class=\"adsbygoogle\" data-ad-client=\"ca-pub-2122854079939866\" data-ad-format=\"auto\" data-ad-slot=\"2135824310\" style=\"display:block\"></ins>\n",
       "<script>\n",
       "(adsbygoogle = window.adsbygoogle || []).push({});\n",
       "</script>\n",
       "</td>\n",
       "</tr></table>\n",
       "</td>\n",
       "</tr>\n",
       "<!--Footer-->\n",
       "<tr bgcolor=\"#cccccc\" height=\"3\" valign=\"bottom\"><td></td></tr>\n",
       "<tr height=\"24\" valign=\"bottom\">\n",
       "<td align=\"center\">\n",
       "<div style=\"margin-bottom:4px\">\n",
       "\t\t\t\t\t\t\tï¿½ <a href=\"/\">pune.ws</a> - Pune Website  | \n",
       "\t\t\t\t\t\t\t<a href=\"/support/contact.aspx\">Contact</a>  | \n",
       "\t\t\t\t\t\t\t<a href=\"/about/\">About Pune.ws</a>  | \n",
       "\t\t\t\t\t\t\t<a href=\"/privacy/\">Privacy</a>  | \n",
       "\t\t\t\t\t\t\t<a href=\"/terms/\">Terms of Use</a>  | \n",
       "\t\t\t\t\t\t\t<a href=\"/sitemap/\">Site Map</a>\n",
       "</div>\n",
       "</td>\n",
       "</tr>\n",
       "<!--End Footer-->\n",
       "</table>\n",
       "</td></tr></table>\n",
       "</body>\n",
       "</html>"
      ]
     },
     "execution_count": 10,
     "metadata": {},
     "output_type": "execute_result"
    }
   ],
   "source": [
    "extracted_data = BeautifulSoup(data.content,'html.parser')\n",
    "extracted_data"
   ]
  },
  {
   "cell_type": "code",
   "execution_count": 14,
   "id": "f035b764",
   "metadata": {},
   "outputs": [],
   "source": [
    "text = re.sub(\"<.*?>\",\" \",str(extracted_data))"
   ]
  },
  {
   "cell_type": "code",
   "execution_count": 16,
   "id": "18462ad3",
   "metadata": {},
   "outputs": [
    {
     "name": "stdout",
     "output_type": "stream",
     "text": [
      "\n",
      " \n",
      " \n",
      " \n",
      "  \n",
      " \r\n",
      "  window.dataLayer = window.dataLayer || [];\r\n",
      "  function gtag(){dataLayer.push(arguments);}\r\n",
      "  gtag('js', new Date());\r\n",
      "\r\n",
      "  gtag('config', 'UA-253517-3');\r\n",
      " \n",
      " Pune Hotels in Pune List \n",
      " \n",
      " \n",
      " \n",
      " \n",
      "  \n",
      " \r\n",
      "     (adsbygoogle = window.adsbygoogle || []).push({\r\n",
      "          google_ad_client: \"ca-pub-2122854079939866\",\r\n",
      "          enable_page_level_ads: true\r\n",
      "     });\r\n",
      " \n",
      " \n",
      " \n",
      " \n",
      " \n",
      " \n",
      " \n",
      "  \r\n",
      "\t\t\t\t\t\t   \r\n",
      "\t\t\t\t\t  \r\n",
      "\t\t\t\t\t    -->\n",
      "  \n",
      " \n",
      " \n",
      " \n",
      "   \n",
      "  Pune Directory   Hotels in Pune   \n",
      " Refine Search \n",
      " Area   Camp   Hinjewadi   Viman Nagar    Category   Any   Hotels   [Change]   \n",
      " \n",
      " \n",
      " \n",
      "  \n",
      " \r\n",
      "\t\t\t\t\t\t\t(adsbygoogle = window.adsbygoogle || []).push({});\r\n",
      "\t\t\t\t\t\t\t \n",
      " Pune Hotels in Pune List \n",
      " [ 11 results ]   List Page 1 of 1 \n",
      "   Courtyard by Marriott, Hinjewadi, Pune   Luxury Hotel with 153 rooms, including 6 luxury suites.  .. more details   Address : S. No 19 &amp; 20, P4 Rajiv Gandhi Infotech Park Phase , Hinjewadi, Pune, India - 411057   Visit Website   |  Phone : 91 20 42122222, Toll-free: 0 001 17 + 8004326626  |       Hotel Tamanna Executive, Hinjewadi, Pune     .. more details   Address : Plot No. P-10, Rajiv Gandhi Infotech Park, MIDC, Phase-1 Hinjewadi, Pune - 411057   Visit Website   |   Email   |  Phone : 020 22933164/22934278/66751900  |       Hotel Tamanna Residency, Hinjewadi, Pune     .. more details   Address : Plot No. P-10, Rajiv Gandhi Infotech Park, MIDC, Phase-1 Hinjewadi, Pune - 411057   Visit Website   |   Email   |  Phone : 020 22933164/22934278/66751900  |       St Laurn, Pune   Business Hotel.  .. more details   Address : 15 A, Koregaon Road, Pune, India. - 411001   Visit Website   |   Email   |  Phone : +91-20-40008000  |       Lemon Tree Hotel, Hinjawadi, Pune   Business / leisure hotel in hinjewadi, Pune.  .. more details   Address : P4, Rajiv Gandhi Infotech Park Phase I, Hinjawadi Pune Maharashtra - 411057   Visit Website   |   Email   |  Phone : +91 20 44232323  |       Sorrento Service Apartments, Pune India     .. more details   Address : Vasant Utsav, Near Rajiv Gandhi Infotech Park, Phase 1, Hinjewadi-Wakad Road, Hinjewadi, Pune. Maharashtra India - 411057   Visit Website   |   Email   |  Phone : +91-9657713078/9657713079/ 9604100999  |       Hotel Studio Estique, Pune, India   A concept Hotel by Eurobuild India Pvt. Ltd.  .. more details   Address : Next to Inox Multiplex Near Council Hall, Bund Garden Road, Pune. ( Maharashtra ) India - 411001   Visit Website   |   Email   |  Phone : +91-20-40188444   |       Quality Hotel Regency Pune     .. more details   Address : 192, Dhole Patil Road, Pune. Maharashtra, India. - 411001   Visit Website   |   Email   |  Phone : +91 20 41040300-10  |       PARK VIEW SERVICE APARTMENTS     .. more details   Address : Sector No.18, Plot No. 710, Shahunagar, Shivtejnagar, Behind Chinchwad RTO, Pune - 411077   Visit Website   |   Email   |  Phone : 020 65100298  |       Hotel Fortune Inn Exotica, Hinjewadi, Pune   Business Hotel.  .. more details   Address : S. No. 21, Plot No. 3/2, Rajiv Gandhi Infotech Park, Phase I, Hinjewadi, Pune - 411057   Visit Website   |  Phone : 020-39848484  |       Fortune Inn Jukaso in Pune India - A business hotel   Business Hotel.  .. more details   Address : Plot 6, Viman Nagar, Pune Nagar Road, Pune - 411014   Visit Website   |   Email   |  Phone : 020-39848484  |    \n",
      " [ 11 results ]    Page 1 of 1 |  \n",
      " \n",
      "  \n",
      " \r\n",
      "(adsbygoogle = window.adsbygoogle || []).push({});\r\n",
      " \n",
      " \n",
      "  \n",
      " \n",
      " \n",
      " \n",
      "    \n",
      " \n",
      " \n",
      " \r\n",
      "\t\t\t\t\t\t\tï¿½  pune.ws  - Pune Website  | \r\n",
      "\t\t\t\t\t\t\t Contact   | \r\n",
      "\t\t\t\t\t\t\t About Pune.ws   | \r\n",
      "\t\t\t\t\t\t\t Privacy   | \r\n",
      "\t\t\t\t\t\t\t Terms of Use   | \r\n",
      "\t\t\t\t\t\t\t Site Map \n",
      " \n",
      " \n",
      " \n",
      " \n",
      " \n",
      "   \n",
      " \n",
      " \n"
     ]
    }
   ],
   "source": [
    "print(text)"
   ]
  },
  {
   "cell_type": "code",
   "execution_count": 19,
   "id": "53b7b379",
   "metadata": {},
   "outputs": [
    {
     "name": "stdout",
     "output_type": "stream",
     "text": [
      "['2122854079', '8004326626', '9657713078', '9657713079', '9604100999']\n"
     ]
    }
   ],
   "source": [
    "pincode = re.findall(\"[0-9]{10}\", text)\n",
    "print(pincode)"
   ]
  },
  {
   "cell_type": "code",
   "execution_count": 20,
   "id": "86575f5f",
   "metadata": {},
   "outputs": [
    {
     "name": "stdout",
     "output_type": "stream",
     "text": [
      "[]\n"
     ]
    }
   ],
   "source": [
    "my_number =re.findall(\"[+]{1}[0-9]{2}[\\s]{1}[0-9]{10}\",text)\n",
    "print(my_number)"
   ]
  },
  {
   "cell_type": "code",
   "execution_count": 22,
   "id": "e948f61a",
   "metadata": {},
   "outputs": [
    {
     "name": "stdout",
     "output_type": "stream",
     "text": [
      "[]\n"
     ]
    }
   ],
   "source": [
    "my_number=re.findall(\"[(\\d)]{5}\\s[\\d]{3}[-]\\d{4}\",text)\n",
    "print(my_number)"
   ]
  },
  {
   "cell_type": "code",
   "execution_count": 37,
   "id": "74d65ffe",
   "metadata": {},
   "outputs": [
    {
     "name": "stdout",
     "output_type": "stream",
     "text": [
      "['+91-9657713078']\n"
     ]
    }
   ],
   "source": [
    "my_number=re.findall(\"[+91]{3}[- ]{1}\\d{10}\",text)\n",
    "print(my_number)"
   ]
  },
  {
   "cell_type": "code",
   "execution_count": 50,
   "id": "d24a4e1e",
   "metadata": {},
   "outputs": [
    {
     "name": "stdout",
     "output_type": "stream",
     "text": [
      "['+91 20 44232323 ', '999 ', '+91 20 41040300']\n"
     ]
    }
   ],
   "source": [
    "number = re.findall(\"[+91]{3}[0-9 ]{1,20}\", text)\n",
    "print(number)"
   ]
  },
  {
   "cell_type": "markdown",
   "id": "d0fec9b2",
   "metadata": {},
   "source": [
    "1. Numpy\n",
    "2. Pandas\n",
    "3. Matplotlib\n",
    "4. Seaborn\n",
    "5. Prerequsites"
   ]
  },
  {
   "cell_type": "code",
   "execution_count": null,
   "id": "48f1fb39",
   "metadata": {},
   "outputs": [],
   "source": []
  }
 ],
 "metadata": {
  "kernelspec": {
   "display_name": "Python 3",
   "language": "python",
   "name": "python3"
  },
  "language_info": {
   "codemirror_mode": {
    "name": "ipython",
    "version": 3
   },
   "file_extension": ".py",
   "mimetype": "text/x-python",
   "name": "python",
   "nbconvert_exporter": "python",
   "pygments_lexer": "ipython3",
   "version": "3.8.8"
  }
 },
 "nbformat": 4,
 "nbformat_minor": 5
}
