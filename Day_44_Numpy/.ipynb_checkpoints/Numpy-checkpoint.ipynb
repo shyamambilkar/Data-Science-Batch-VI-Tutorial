{
 "cells": [
  {
   "cell_type": "markdown",
   "id": "06ab6c77",
   "metadata": {},
   "source": [
    "# Checking the data type of Array"
   ]
  },
  {
   "cell_type": "markdown",
   "id": "7dc87e9c",
   "metadata": {},
   "source": [
    "## Data Types in Numpy:\n",
    "1. Numpy has some extra data types, and refers to the only single character like, i for integer\n",
    "2. i - integer\n",
    "3. b - boolean\n",
    "4. u - unsigned integer\n",
    "5. f - float\n",
    "6. c - complex float\n",
    "7. M - timedelta\n",
    "8. O - object\n",
    "9. S - String\n",
    "10. U - Unicode String\n",
    "11. V - Fixed chunks of memory for other types (void)"
   ]
  },
  {
   "cell_type": "code",
   "execution_count": 1,
   "id": "2fe8c075",
   "metadata": {},
   "outputs": [],
   "source": [
    "import numpy as np"
   ]
  },
  {
   "cell_type": "code",
   "execution_count": 3,
   "id": "ca47ba94",
   "metadata": {},
   "outputs": [
    {
     "name": "stdout",
     "output_type": "stream",
     "text": [
      "int32\n",
      "<class 'numpy.ndarray'>\n"
     ]
    }
   ],
   "source": [
    "my_array = np.array([10,20,30,40])\n",
    "print(my_array.dtype)\n",
    "print(type(my_array))"
   ]
  },
  {
   "cell_type": "code",
   "execution_count": 4,
   "id": "6f54eded",
   "metadata": {},
   "outputs": [
    {
     "name": "stdout",
     "output_type": "stream",
     "text": [
      "<U6\n"
     ]
    }
   ],
   "source": [
    "my_array = np.array([\"apple\",\"mango\",\"cherry\",\"banana\"])\n",
    "print(my_array.dtype)"
   ]
  },
  {
   "cell_type": "markdown",
   "id": "41f630d2",
   "metadata": {},
   "source": [
    "## Creating array with Defined Data Types"
   ]
  },
  {
   "cell_type": "code",
   "execution_count": 5,
   "id": "f7cd5998",
   "metadata": {},
   "outputs": [
    {
     "name": "stdout",
     "output_type": "stream",
     "text": [
      "[b'10' b'20' b'30' b'40']\n",
      "|S2\n"
     ]
    }
   ],
   "source": [
    "import numpy as np\n",
    "my_array = np.array([10,20,30,40],dtype='S')\n",
    "print(my_array)\n",
    "print(my_array.dtype)"
   ]
  },
  {
   "cell_type": "code",
   "execution_count": 6,
   "id": "b4b616b0",
   "metadata": {},
   "outputs": [
    {
     "name": "stdout",
     "output_type": "stream",
     "text": [
      "[10 20 30 40]\n",
      "int32\n"
     ]
    }
   ],
   "source": [
    "import numpy as np\n",
    "my_array = np.array([10,20,30,40],dtype='i')\n",
    "print(my_array)\n",
    "print(my_array.dtype)"
   ]
  },
  {
   "cell_type": "code",
   "execution_count": 11,
   "id": "2f37438c",
   "metadata": {},
   "outputs": [
    {
     "name": "stdout",
     "output_type": "stream",
     "text": [
      "[10 20 30 40]\n",
      "int64\n"
     ]
    }
   ],
   "source": [
    "import numpy as np\n",
    "my_array = np.array([10,20,30,40],dtype='i8')\n",
    "print(my_array)\n",
    "print(my_array.dtype)"
   ]
  },
  {
   "cell_type": "markdown",
   "id": "e008eaf8",
   "metadata": {},
   "source": [
    "## What if A Value can not be Converted?"
   ]
  },
  {
   "cell_type": "code",
   "execution_count": 13,
   "id": "937f57b0",
   "metadata": {},
   "outputs": [
    {
     "ename": "ValueError",
     "evalue": "invalid literal for int() with base 10: '12.12'",
     "output_type": "error",
     "traceback": [
      "\u001b[1;31m---------------------------------------------------------------------------\u001b[0m",
      "\u001b[1;31mValueError\u001b[0m                                Traceback (most recent call last)",
      "\u001b[1;32m<ipython-input-13-8747e8a52e2c>\u001b[0m in \u001b[0;36m<module>\u001b[1;34m\u001b[0m\n\u001b[0;32m      1\u001b[0m \u001b[1;32mimport\u001b[0m \u001b[0mnumpy\u001b[0m \u001b[1;32mas\u001b[0m \u001b[0mnp\u001b[0m\u001b[1;33m\u001b[0m\u001b[1;33m\u001b[0m\u001b[0m\n\u001b[1;32m----> 2\u001b[1;33m \u001b[0mmy_array\u001b[0m \u001b[1;33m=\u001b[0m \u001b[0mnp\u001b[0m\u001b[1;33m.\u001b[0m\u001b[0marray\u001b[0m\u001b[1;33m(\u001b[0m\u001b[1;33m[\u001b[0m\u001b[1;34m'12.12'\u001b[0m\u001b[1;33m,\u001b[0m\u001b[1;34m'10.23'\u001b[0m\u001b[1;33m,\u001b[0m\u001b[1;34m'10'\u001b[0m\u001b[1;33m,\u001b[0m\u001b[1;34m'20'\u001b[0m\u001b[1;33m,\u001b[0m\u001b[1;34m'30'\u001b[0m\u001b[1;33m,\u001b[0m\u001b[1;34m'40'\u001b[0m\u001b[1;33m]\u001b[0m\u001b[1;33m,\u001b[0m\u001b[0mdtype\u001b[0m\u001b[1;33m=\u001b[0m\u001b[1;34m'i'\u001b[0m\u001b[1;33m)\u001b[0m\u001b[1;33m\u001b[0m\u001b[1;33m\u001b[0m\u001b[0m\n\u001b[0m\u001b[0;32m      3\u001b[0m \u001b[0mprint\u001b[0m\u001b[1;33m(\u001b[0m\u001b[0mmy_array\u001b[0m\u001b[1;33m)\u001b[0m\u001b[1;33m\u001b[0m\u001b[1;33m\u001b[0m\u001b[0m\n\u001b[0;32m      4\u001b[0m \u001b[0mprint\u001b[0m\u001b[1;33m(\u001b[0m\u001b[0mmy_array\u001b[0m\u001b[1;33m.\u001b[0m\u001b[0mdtype\u001b[0m\u001b[1;33m)\u001b[0m\u001b[1;33m\u001b[0m\u001b[1;33m\u001b[0m\u001b[0m\n",
      "\u001b[1;31mValueError\u001b[0m: invalid literal for int() with base 10: '12.12'"
     ]
    }
   ],
   "source": [
    "import numpy as np\n",
    "my_array = np.array(['a','12.12','10.23','10','20','30','40'],dtype='i')\n",
    "print(my_array)\n",
    "print(my_array.dtype)"
   ]
  },
  {
   "cell_type": "markdown",
   "id": "68468d6b",
   "metadata": {},
   "source": [
    "## Converting Data Type of Existing Arrays"
   ]
  },
  {
   "cell_type": "markdown",
   "id": "3c63d082",
   "metadata": {},
   "source": [
    "1. The Best way to change the data type of an existing array, is to make a copy of array with the astype() method.\n",
    "2. The astype() function creates a copy of array, and it allows you to spefify the data type as parameter\n",
    "3. Data type can be specified using string like 'f' for float, 'i' for integer etc.\n",
    "4. Data type directly pass like float for decimal type of data,int for integer type of data"
   ]
  },
  {
   "cell_type": "code",
   "execution_count": 15,
   "id": "df6fc44e",
   "metadata": {},
   "outputs": [
    {
     "name": "stdout",
     "output_type": "stream",
     "text": [
      "[10.1  20.2  30.3  24.21]\n",
      "float64\n",
      "[10 20 30 24]\n",
      "int32\n"
     ]
    }
   ],
   "source": [
    "import numpy as np\n",
    "\n",
    "my_array =np.array([10.10,20.20,30.30,24.21])\n",
    "print(my_array)\n",
    "print(my_array.dtype)\n",
    "\n",
    "new_array = my_array.astype('i')\n",
    "print(new_array)\n",
    "print(new_array.dtype)"
   ]
  },
  {
   "cell_type": "code",
   "execution_count": 16,
   "id": "810ce63d",
   "metadata": {},
   "outputs": [
    {
     "name": "stdout",
     "output_type": "stream",
     "text": [
      "[10.1  20.2  30.3  24.21]\n",
      "float64\n",
      "[10 20 30 24]\n",
      "int32\n"
     ]
    }
   ],
   "source": [
    "import numpy as np\n",
    "\n",
    "my_array =np.array([10.10,20.20,30.30,24.21])\n",
    "print(my_array)\n",
    "print(my_array.dtype)\n",
    "\n",
    "new_array = my_array.astype('int')\n",
    "print(new_array)\n",
    "print(new_array.dtype)"
   ]
  },
  {
   "cell_type": "code",
   "execution_count": 20,
   "id": "351e38b1",
   "metadata": {},
   "outputs": [
    {
     "name": "stdout",
     "output_type": "stream",
     "text": [
      "[10.1 20.2 30.3  0. ]\n",
      "float64\n",
      "[ True  True  True False]\n",
      "bool\n"
     ]
    }
   ],
   "source": [
    "import numpy as np\n",
    "\n",
    "my_array =np.array([10.10,20.20,30.30,0.0])\n",
    "print(my_array)\n",
    "print(my_array.dtype)\n",
    "\n",
    "new_array = my_array.astype(bool)\n",
    "print(new_array)\n",
    "print(new_array.dtype)"
   ]
  },
  {
   "cell_type": "code",
   "execution_count": 24,
   "id": "ac0db921",
   "metadata": {},
   "outputs": [
    {
     "name": "stdout",
     "output_type": "stream",
     "text": [
      "[10.1  20.2  30.3  24.21]\n",
      "float64\n",
      "['10.1' '20.2' '30.3' '24.21']\n",
      "<U32\n"
     ]
    }
   ],
   "source": [
    "import numpy as np\n",
    "\n",
    "my_array =np.array([10.10,20.20,30.30,24.21])\n",
    "print(my_array)\n",
    "print(my_array.dtype)\n",
    "\n",
    "new_array = my_array.astype('U')\n",
    "print(new_array)\n",
    "print(new_array.dtype)"
   ]
  },
  {
   "cell_type": "code",
   "execution_count": 25,
   "id": "d101da3e",
   "metadata": {},
   "outputs": [
    {
     "name": "stdout",
     "output_type": "stream",
     "text": [
      "[10.1  20.2  30.3  24.21]\n",
      "float64\n",
      "[b'\\x33\\x33\\x33\\x33\\x33\\x33\\x24\\x40' b'\\x33\\x33\\x33\\x33\\x33\\x33\\x34\\x40'\n",
      " b'\\xCD\\xCC\\xCC\\xCC\\xCC\\x4C\\x3E\\x40' b'\\xF6\\x28\\x5C\\x8F\\xC2\\x35\\x38\\x40']\n",
      "|V8\n"
     ]
    }
   ],
   "source": [
    "import numpy as np\n",
    "\n",
    "my_array =np.array([10.10,20.20,30.30,24.21])\n",
    "print(my_array)\n",
    "print(my_array.dtype)\n",
    "\n",
    "new_array = my_array.astype('V')\n",
    "print(new_array)\n",
    "print(new_array.dtype)"
   ]
  },
  {
   "cell_type": "code",
   "execution_count": 28,
   "id": "980c3233",
   "metadata": {},
   "outputs": [
    {
     "name": "stdout",
     "output_type": "stream",
     "text": [
      "[10.1 20.2 30.3 24.4]\n",
      "float64\n",
      "[b'1' b'2' b'3' b'2']\n",
      "|S1\n"
     ]
    }
   ],
   "source": [
    "import numpy as np\n",
    "\n",
    "my_array =np.array([10.10,20.20,30.30,24.4])\n",
    "print(my_array)\n",
    "print(my_array.dtype)\n",
    "\n",
    "new_array = my_array.astype('c')\n",
    "print(new_array)\n",
    "print(new_array.dtype)"
   ]
  },
  {
   "cell_type": "code",
   "execution_count": 30,
   "id": "c1f8e575",
   "metadata": {},
   "outputs": [
    {
     "name": "stdout",
     "output_type": "stream",
     "text": [
      "[10.1  20.2  30.3  24.21]\n",
      "float64\n",
      "[10 20 30 24]\n",
      "timedelta64\n"
     ]
    }
   ],
   "source": [
    "import numpy as np\n",
    "\n",
    "my_array =np.array([10.10,20.20,30.30,24.21])\n",
    "print(my_array)\n",
    "print(my_array.dtype)\n",
    "\n",
    "new_array = my_array.astype('m')\n",
    "print(new_array)\n",
    "print(new_array.dtype)"
   ]
  },
  {
   "cell_type": "markdown",
   "id": "cc8f19dc",
   "metadata": {},
   "source": [
    "# The Difference Between Copy and View"
   ]
  },
  {
   "cell_type": "markdown",
   "id": "79649eaa",
   "metadata": {},
   "source": [
    "1. The main differnce between a copy and a view of an array is that the copy is a new array\n",
    "2. View is just a view of the original array"
   ]
  },
  {
   "cell_type": "markdown",
   "id": "945c8da5",
   "metadata": {},
   "source": [
    "### 1. Copy"
   ]
  },
  {
   "cell_type": "markdown",
   "id": "d3336096",
   "metadata": {},
   "source": [
    "1. The copy owns the data and any changes made to the copy will not affect original array\n",
    "2. any changes made to the original array that does not affect to the copy array"
   ]
  },
  {
   "cell_type": "code",
   "execution_count": 32,
   "id": "af6f2ae9",
   "metadata": {},
   "outputs": [
    {
     "name": "stdout",
     "output_type": "stream",
     "text": [
      "[100  20  30  40  50  60  70  80  90]\n",
      "[10 20 30 40 50 60 70 80 90]\n"
     ]
    }
   ],
   "source": [
    "import numpy as np\n",
    "\n",
    "my_array = np.array([10,20,30,40,50,60,70,80,90])\n",
    "\n",
    "# To copy original array\n",
    "x = my_array.copy()\n",
    "\n",
    "# To add new elements in orignal array\n",
    "my_array[0] = 100 \n",
    "\n",
    "\n",
    "print(my_array)\n",
    "print(x)"
   ]
  },
  {
   "cell_type": "code",
   "execution_count": 33,
   "id": "905f0dd9",
   "metadata": {},
   "outputs": [
    {
     "name": "stdout",
     "output_type": "stream",
     "text": [
      "[10 20 30 40 50 60 70 80 90]\n",
      "[100  20  30  40  50  60  70  80  90]\n"
     ]
    }
   ],
   "source": [
    "import numpy as np\n",
    "\n",
    "my_array = np.array([10,20,30,40,50,60,70,80,90])\n",
    "\n",
    "# To copy original array\n",
    "x = my_array.copy()\n",
    "\n",
    "# To add new elements in copy array\n",
    "x[0] = 100 \n",
    "\n",
    "\n",
    "print(my_array)\n",
    "print(x)"
   ]
  },
  {
   "cell_type": "markdown",
   "id": "07d6f0b9",
   "metadata": {},
   "source": [
    "### 2. View:\n",
    "    1. The View does not owns the data and any changes made to the view will affected to the original array\n",
    "    2. any changes made in the original array will affect the view"
   ]
  },
  {
   "cell_type": "code",
   "execution_count": 34,
   "id": "f3e5cf7e",
   "metadata": {},
   "outputs": [
    {
     "name": "stdout",
     "output_type": "stream",
     "text": [
      "Original Array:  [10 20 30 40 50 60 70 80 90]\n",
      "After changes made in original array (Original):  [100  20  30  40  50  60  70  80  90]\n",
      "Afer changes made in original array (View):  [100  20  30  40  50  60  70  80  90]\n"
     ]
    }
   ],
   "source": [
    "import numpy as np\n",
    "\n",
    "my_array = np.array([10,20,30,40,50,60,70,80,90])\n",
    "print(\"Original Array: \", my_array)\n",
    "\n",
    "# To copy original array\n",
    "x = my_array.view()\n",
    "\n",
    "# To add new elements in orignal array\n",
    "my_array[0] = 100 \n",
    "\n",
    "\n",
    "print(\"After changes made in original array (Original): \",my_array)\n",
    "print(\"Afer changes made in original array (View): \",x)"
   ]
  },
  {
   "cell_type": "code",
   "execution_count": 36,
   "id": "6241f7b9",
   "metadata": {},
   "outputs": [
    {
     "name": "stdout",
     "output_type": "stream",
     "text": [
      "Original Array:  [10 20 30 40 50 60 70 80 90]\n",
      "After changes made in View array (Original):  [100  20  30  40  50  60  70  80  90]\n",
      "Afer changes made in View array (View):  [100  20  30  40  50  60  70  80  90]\n"
     ]
    }
   ],
   "source": [
    "import numpy as np\n",
    "\n",
    "my_array = np.array([10,20,30,40,50,60,70,80,90])\n",
    "print(\"Original Array: \", my_array)\n",
    "\n",
    "# To copy original array\n",
    "x = my_array.view()\n",
    "\n",
    "# To add new elements in orignal array\n",
    "x[0] = 100 \n",
    "\n",
    "\n",
    "print(\"After changes made in View array (Original): \",my_array)\n",
    "print(\"Afer changes made in View array (View): \",x)"
   ]
  },
  {
   "cell_type": "markdown",
   "id": "02097dd7",
   "metadata": {},
   "source": [
    "### Check if array owns the data or not?"
   ]
  },
  {
   "cell_type": "code",
   "execution_count": 37,
   "id": "09ed7bf8",
   "metadata": {},
   "outputs": [
    {
     "name": "stdout",
     "output_type": "stream",
     "text": [
      "None\n",
      "[10 20 30 40 50 60 70 80 90]\n"
     ]
    }
   ],
   "source": [
    "import numpy as np\n",
    "\n",
    "my_array = np.array([10,20,30,40,50,60,70,80,90])\n",
    "\n",
    "\n",
    "x = my_array.copy()\n",
    "y = my_array.view()\n",
    "\n",
    "print(x.base)\n",
    "print(y.base)"
   ]
  },
  {
   "cell_type": "code",
   "execution_count": null,
   "id": "0ee9f9a0",
   "metadata": {},
   "outputs": [],
   "source": []
  }
 ],
 "metadata": {
  "kernelspec": {
   "display_name": "Python 3",
   "language": "python",
   "name": "python3"
  },
  "language_info": {
   "codemirror_mode": {
    "name": "ipython",
    "version": 3
   },
   "file_extension": ".py",
   "mimetype": "text/x-python",
   "name": "python",
   "nbconvert_exporter": "python",
   "pygments_lexer": "ipython3",
   "version": "3.8.8"
  }
 },
 "nbformat": 4,
 "nbformat_minor": 5
}
