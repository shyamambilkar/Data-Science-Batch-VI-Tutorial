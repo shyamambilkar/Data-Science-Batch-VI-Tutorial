{
 "cells": [
  {
   "cell_type": "markdown",
   "id": "f0f97a4d",
   "metadata": {},
   "source": [
    "# Exception Handling?"
   ]
  },
  {
   "cell_type": "markdown",
   "id": "ed02e760",
   "metadata": {},
   "source": [
    "1. Exception is an event , which occors during the execution of a program that disrupt the normal flow of program Instruction.\n",
    "2. If the exception will occors some block using we defend exception\n",
    "3. Different blocks are used to handle exceptions:\n",
    "    1. Try:\n",
    "        1. The [try] block let you test a block of code for error\n",
    "    2. Except:\n",
    "        1. The [except] block handles you the errror or Exception\n",
    "    3. else:\n",
    "        1. The [else] blocks let you execute code or program when there is no error\n",
    "    5. Finally:\n",
    "        1. The [Finally] block let you execute the codem regardless of the result of the try and except block"
   ]
  },
  {
   "cell_type": "markdown",
   "id": "efaf5cc9",
   "metadata": {},
   "source": [
    "1. When error or exception will call it, Python normally stop and generate message\n",
    "2. Exception can be handled using the try block"
   ]
  },
  {
   "cell_type": "code",
   "execution_count": 3,
   "id": "659845e4",
   "metadata": {},
   "outputs": [
    {
     "ename": "NameError",
     "evalue": "name 'x' is not defined",
     "output_type": "error",
     "traceback": [
      "\u001b[1;31m---------------------------------------------------------------------------\u001b[0m",
      "\u001b[1;31mNameError\u001b[0m                                 Traceback (most recent call last)",
      "\u001b[1;32m<ipython-input-3-fc17d851ef81>\u001b[0m in \u001b[0;36m<module>\u001b[1;34m\u001b[0m\n\u001b[1;32m----> 1\u001b[1;33m \u001b[0mprint\u001b[0m\u001b[1;33m(\u001b[0m\u001b[0mx\u001b[0m\u001b[1;33m)\u001b[0m\u001b[1;33m\u001b[0m\u001b[1;33m\u001b[0m\u001b[0m\n\u001b[0m",
      "\u001b[1;31mNameError\u001b[0m: name 'x' is not defined"
     ]
    }
   ],
   "source": [
    "print(x)"
   ]
  },
  {
   "cell_type": "code",
   "execution_count": 6,
   "id": "7dbf8bbb",
   "metadata": {},
   "outputs": [
    {
     "ename": "SyntaxError",
     "evalue": "unexpected EOF while parsing (<ipython-input-6-8c05c44a8a53>, line 2)",
     "output_type": "error",
     "traceback": [
      "\u001b[1;36m  File \u001b[1;32m\"<ipython-input-6-8c05c44a8a53>\"\u001b[1;36m, line \u001b[1;32m2\u001b[0m\n\u001b[1;33m    print(x)\u001b[0m\n\u001b[1;37m            ^\u001b[0m\n\u001b[1;31mSyntaxError\u001b[0m\u001b[1;31m:\u001b[0m unexpected EOF while parsing\n"
     ]
    }
   ],
   "source": [
    "try:\n",
    "    print(x)"
   ]
  },
  {
   "cell_type": "code",
   "execution_count": 5,
   "id": "ca2e4a79",
   "metadata": {},
   "outputs": [
    {
     "name": "stdout",
     "output_type": "stream",
     "text": [
      "Exception Handled...!\n"
     ]
    }
   ],
   "source": [
    "try:\n",
    "    print(x)\n",
    "except:\n",
    "    print(\"Exception Handled...!\")"
   ]
  },
  {
   "cell_type": "markdown",
   "id": "02091abe",
   "metadata": {},
   "source": [
    "### A common exception that can be thrown from standard Python Program"
   ]
  },
  {
   "cell_type": "markdown",
   "id": "142ddd63",
   "metadata": {},
   "source": [
    "1. ZeroDivisionError:\n",
    "    1. Zero Division erro will occors when number is devide by zero\n",
    "2. NameError:\n",
    "    2. It occurs when name is not found. It may be local or global\n",
    "3. Identation Error:\n",
    "    1. If incorrect indentation is given \n",
    "4. IOError:\n",
    "    1. It occors when Input Output Operation\n",
    "5. EOFError:\n",
    "    2. It occors when the end of the file is reached, and yet operation being performed"
   ]
  },
  {
   "cell_type": "code",
   "execution_count": 7,
   "id": "9831a139",
   "metadata": {},
   "outputs": [
    {
     "name": "stdout",
     "output_type": "stream",
     "text": [
      "Enter First Number: 20\n",
      "Enter Second Number: 0\n"
     ]
    },
    {
     "ename": "ZeroDivisionError",
     "evalue": "division by zero",
     "output_type": "error",
     "traceback": [
      "\u001b[1;31m---------------------------------------------------------------------------\u001b[0m",
      "\u001b[1;31mZeroDivisionError\u001b[0m                         Traceback (most recent call last)",
      "\u001b[1;32m<ipython-input-7-207c9aa23c04>\u001b[0m in \u001b[0;36m<module>\u001b[1;34m\u001b[0m\n\u001b[0;32m      2\u001b[0m \u001b[0my\u001b[0m \u001b[1;33m=\u001b[0m \u001b[0mint\u001b[0m\u001b[1;33m(\u001b[0m\u001b[0minput\u001b[0m\u001b[1;33m(\u001b[0m\u001b[1;34m\"Enter Second Number: \"\u001b[0m\u001b[1;33m)\u001b[0m\u001b[1;33m)\u001b[0m\u001b[1;33m\u001b[0m\u001b[1;33m\u001b[0m\u001b[0m\n\u001b[0;32m      3\u001b[0m \u001b[1;33m\u001b[0m\u001b[0m\n\u001b[1;32m----> 4\u001b[1;33m \u001b[0mz\u001b[0m \u001b[1;33m=\u001b[0m \u001b[0mx\u001b[0m \u001b[1;33m/\u001b[0m \u001b[0my\u001b[0m\u001b[1;33m\u001b[0m\u001b[1;33m\u001b[0m\u001b[0m\n\u001b[0m\u001b[0;32m      5\u001b[0m \u001b[1;33m\u001b[0m\u001b[0m\n\u001b[0;32m      6\u001b[0m \u001b[0mprint\u001b[0m\u001b[1;33m(\u001b[0m\u001b[1;34m\"Two no division are: \"\u001b[0m\u001b[1;33m,\u001b[0m \u001b[0mz\u001b[0m\u001b[1;33m)\u001b[0m\u001b[1;33m\u001b[0m\u001b[1;33m\u001b[0m\u001b[0m\n",
      "\u001b[1;31mZeroDivisionError\u001b[0m: division by zero"
     ]
    }
   ],
   "source": [
    "x = int(input(\"Enter First Number: \"))\n",
    "y = int(input(\"Enter Second Number: \"))\n",
    "\n",
    "z = x / y\n",
    "\n",
    "print(\"Two no division are: \", z)\n",
    "\n",
    "# other code\n",
    "print(\"Hello User, I am different part of the Code....!\")"
   ]
  },
  {
   "cell_type": "markdown",
   "id": "2ac6251b",
   "metadata": {},
   "source": [
    "### Try-Except Statement"
   ]
  },
  {
   "cell_type": "raw",
   "id": "ccf900a6",
   "metadata": {},
   "source": [
    "try:\n",
    "    # block of code\n",
    "except Exception1:\n",
    "    # block of code\n",
    "except Exception2:\n",
    "    # block of code\n",
    "    \n",
    "#other code"
   ]
  },
  {
   "cell_type": "code",
   "execution_count": 11,
   "id": "f1337dc8",
   "metadata": {},
   "outputs": [
    {
     "name": "stdout",
     "output_type": "stream",
     "text": [
      "Enter First Number: 20\n",
      "Enter Second Number: 4\n",
      "Two no division are:  5.0\n",
      "Exception Handeled in Except Block....!\n"
     ]
    }
   ],
   "source": [
    "try:\n",
    "    x = int(input(\"Enter First Number: \"))\n",
    "    y = int(input(\"Enter Second Number: \"))\n",
    "\n",
    "    z = x / y\n",
    "    print(\"Two no division are: \", z)\n",
    "except:\n",
    "    print(\"Can't Divide value with Zero...!\")\n",
    "    \n",
    "print(\"Exception Handeled in Except Block....!\")"
   ]
  },
  {
   "cell_type": "code",
   "execution_count": 13,
   "id": "caace85d",
   "metadata": {},
   "outputs": [
    {
     "name": "stdout",
     "output_type": "stream",
     "text": [
      "Enter First Number: 20\n",
      "Enter Second Number: 5\n",
      "Two no division are:  4.0\n",
      "Hello, I am else Part...!\n"
     ]
    }
   ],
   "source": [
    "try:\n",
    "    x = int(input(\"Enter First Number: \"))\n",
    "    y = int(input(\"Enter Second Number: \"))\n",
    "\n",
    "    z = x / y\n",
    "    print(\"Two no division are: \", z)\n",
    "except:\n",
    "    print(\"Can't Divide value with Zero...!\")\n",
    "    print(\"Exception...!\")\n",
    "else:\n",
    "    print(\"Hello, I am else Part...!\")"
   ]
  },
  {
   "cell_type": "markdown",
   "id": "4a2b92e0",
   "metadata": {},
   "source": [
    "### Example 3"
   ]
  },
  {
   "cell_type": "code",
   "execution_count": 14,
   "id": "8a6b955c",
   "metadata": {},
   "outputs": [
    {
     "ename": "FileNotFoundError",
     "evalue": "[Errno 2] No such file or directory: 'my_file.txt'",
     "output_type": "error",
     "traceback": [
      "\u001b[1;31m---------------------------------------------------------------------------\u001b[0m",
      "\u001b[1;31mFileNotFoundError\u001b[0m                         Traceback (most recent call last)",
      "\u001b[1;32m<ipython-input-14-4e9673565c83>\u001b[0m in \u001b[0;36m<module>\u001b[1;34m\u001b[0m\n\u001b[1;32m----> 1\u001b[1;33m \u001b[0mf\u001b[0m \u001b[1;33m=\u001b[0m \u001b[0mopen\u001b[0m\u001b[1;33m(\u001b[0m\u001b[1;34m'my_file.txt'\u001b[0m\u001b[1;33m)\u001b[0m\u001b[1;33m\u001b[0m\u001b[1;33m\u001b[0m\u001b[0m\n\u001b[0m",
      "\u001b[1;31mFileNotFoundError\u001b[0m: [Errno 2] No such file or directory: 'my_file.txt'"
     ]
    }
   ],
   "source": [
    "f = open('my_file.txt')"
   ]
  },
  {
   "cell_type": "code",
   "execution_count": 15,
   "id": "a9ddf655",
   "metadata": {},
   "outputs": [
    {
     "name": "stdout",
     "output_type": "stream",
     "text": [
      "File not Found specified Location....!\n"
     ]
    }
   ],
   "source": [
    "try:\n",
    "    f = open('my_file.txt')\n",
    "except:\n",
    "    print(\"File not Found specified Location....!\")\n",
    "else:\n",
    "    print(\"The file Opened in Specified location...!\")\n",
    "    f.close()"
   ]
  },
  {
   "cell_type": "code",
   "execution_count": 28,
   "id": "290234b4",
   "metadata": {},
   "outputs": [
    {
     "name": "stdout",
     "output_type": "stream",
     "text": [
      "Welcome User...!\n",
      "Welcome to All in Exception Handling concepts...!\n",
      "The file Opened in Specified location...!\n"
     ]
    }
   ],
   "source": [
    "try:\n",
    "    f = open('my_file.txt')\n",
    "    print(f.read())\n",
    "except:\n",
    "    print(\"File not Found specified Location....!\")\n",
    "else:\n",
    "    print(\"The file Opened in Specified location...!\")\n",
    "    f.close()"
   ]
  },
  {
   "cell_type": "code",
   "execution_count": null,
   "id": "fc4e9039",
   "metadata": {},
   "outputs": [],
   "source": []
  }
 ],
 "metadata": {
  "kernelspec": {
   "display_name": "Python 3",
   "language": "python",
   "name": "python3"
  },
  "language_info": {
   "codemirror_mode": {
    "name": "ipython",
    "version": 3
   },
   "file_extension": ".py",
   "mimetype": "text/x-python",
   "name": "python",
   "nbconvert_exporter": "python",
   "pygments_lexer": "ipython3",
   "version": "3.8.8"
  }
 },
 "nbformat": 4,
 "nbformat_minor": 5
}
