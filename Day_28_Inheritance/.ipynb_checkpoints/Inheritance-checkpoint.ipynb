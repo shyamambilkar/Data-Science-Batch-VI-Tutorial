{
 "cells": [
  {
   "cell_type": "markdown",
   "id": "f4c516aa",
   "metadata": {},
   "source": [
    "# Multilevel Inhritance"
   ]
  },
  {
   "cell_type": "markdown",
   "id": "c0db9d54",
   "metadata": {},
   "source": [
    "1. When a Base class is derived by a Derived class which is derived by another class, then it is called as Multilevel Inhitance"
   ]
  },
  {
   "cell_type": "markdown",
   "id": "2e26c394",
   "metadata": {},
   "source": [
    "1. Class Classes and Method:\n",
    "    1. class Student :[ Base Class or Parent Class ]\n",
    "        1. Method - getStudentInfo()   Take input from user like Roll_no, Name etc.\n",
    "        2. Method - printStudentInfo()   Print all Information that you taken from user\n",
    "        \n",
    "    2. class BE  : [Derived or Child Class]\n",
    "        1. Method - getBEMarks() - Gets students from user\n",
    "        2. Mehtod - printMarks() - Print Marks\n",
    "        3. Method - calTotalMarks() - Return sum of Marks\n",
    "        \n",
    "    3. class Result:\n",
    "        1. Method - getResult() - Gets Student information and sum of Total Marks\n",
    "        2. Method - printResult() - Print Student Information"
   ]
  },
  {
   "cell_type": "code",
   "execution_count": 10,
   "id": "1053d15d",
   "metadata": {},
   "outputs": [
    {
     "name": "stdout",
     "output_type": "stream",
     "text": [
      "Enter Hindi Marks: 45\n",
      "Enter Marathi Marks: 45\n",
      "Enter English Marks: 45\n",
      "Total Marks out of 300:  135\n"
     ]
    }
   ],
   "source": [
    "class Student:\n",
    "    def getStudentInfo(self):\n",
    "        self.__roll_no = int(input(\"Enter Student Roll Number: \"))\n",
    "        self.__name = str(input(\"Enter Name: \"))\n",
    "        \n",
    "    def printStudentInfo(self):\n",
    "        print(\"Roll Number: \", self.__roll_no, \"Student Name are: \", self.__name)\n",
    "        \n",
    "class BE(Student):\n",
    "    \n",
    "    def studentInfo(self):\n",
    "        self.printStudentInfo()\n",
    "        \n",
    "    def getBEMarks(self):\n",
    "        self.__hin = int(input(\"Enter Hindi Marks: \"))\n",
    "        self.__mar = int(input(\"Enter Marathi Marks: \"))\n",
    "        self.__eng = int(input(\"Enter English Marks: \"))\n",
    "        \n",
    "    def printBEMarks(self):\n",
    "        self.printStudentInfo()\n",
    "        print(\"Marks in different subjects: \", self.__hin, self.__mar, self.__eng)\n",
    "        \n",
    "    def calTotalMarks(self):\n",
    "        return (self.__hin + self.__mar + self.__eng)\n",
    "    \n",
    "class Result(BE):\n",
    "    def getResult(self):\n",
    "        self.getBEMarks()\n",
    "        self.__total = self.calTotalMarks()\n",
    "        \n",
    "        \n",
    "    def printResult(self):\n",
    "        self.printBEMarks\n",
    "        print(\"Total Marks out of 300: \",self.__total)\n",
    "        \n",
    "        \n",
    "s1 = Result()\n",
    "s1.getResult()\n",
    "s1.printResult()"
   ]
  },
  {
   "cell_type": "code",
   "execution_count": null,
   "id": "92873fe1",
   "metadata": {},
   "outputs": [],
   "source": []
  }
 ],
 "metadata": {
  "kernelspec": {
   "display_name": "Python 3",
   "language": "python",
   "name": "python3"
  },
  "language_info": {
   "codemirror_mode": {
    "name": "ipython",
    "version": 3
   },
   "file_extension": ".py",
   "mimetype": "text/x-python",
   "name": "python",
   "nbconvert_exporter": "python",
   "pygments_lexer": "ipython3",
   "version": "3.8.8"
  }
 },
 "nbformat": 4,
 "nbformat_minor": 5
}
