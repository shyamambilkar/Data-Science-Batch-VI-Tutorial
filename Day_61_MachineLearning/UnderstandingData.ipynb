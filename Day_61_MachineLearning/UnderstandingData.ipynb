{
 "cells": [
  {
   "cell_type": "markdown",
   "id": "7604c357",
   "metadata": {},
   "source": [
    "# Machine Learning"
   ]
  },
  {
   "cell_type": "markdown",
   "id": "2af089e6",
   "metadata": {},
   "source": [
    "1. Machine Learning is making the computer learn form data and statistics\n",
    "2. Machine Learning is a step to go into the direction of Artificial Intelligence (AI)\n",
    "3. Machine Learning is program that anlysis data and learn from data to predict the outcome. "
   ]
  },
  {
   "cell_type": "markdown",
   "id": "c45f3f85",
   "metadata": {},
   "source": [
    "## Dataset"
   ]
  },
  {
   "cell_type": "markdown",
   "id": "d99acbc3",
   "metadata": {},
   "source": [
    "1. Dataset is any collection of data (information)\n",
    "2. Machine Learning use Big Data for prediction \n",
    "3. To analyze data, it is important to know that what types of data we are dealing with.\n",
    "4. There are different types of Data:\n",
    "    1. Numerical\n",
    "    2. Categorical\n",
    "    3. Ordinal"
   ]
  },
  {
   "cell_type": "markdown",
   "id": "fd11cf41",
   "metadata": {},
   "source": [
    "### 1. Numerical Data:\n",
    "    1. Numerical data are numbers\n",
    "    2. There are two differnt types of numerical data:\n",
    "        1. Discrete:\n",
    "            1. Numbers that are limited to integers Example Number of cars passing by\n",
    "        2. Contineous:\n",
    "            2. Numbers that are infinite value Example Price of an item, (Petrol), size of an item"
   ]
  },
  {
   "cell_type": "markdown",
   "id": "35afd77f",
   "metadata": {},
   "source": [
    "### 2. Categorical Data:\n",
    "    1. Data are values that can be measured up against each other Example colors or yes or No , True or False, spam or not spam"
   ]
  },
  {
   "cell_type": "markdown",
   "id": "39aa5ec2",
   "metadata": {},
   "source": [
    "3. Ordinal:\n",
    "    1. Ordinal data are like categorical data, but can be measured up against\n",
    "    2. Example:\n",
    "        1. School grades where A is better than B and so on."
   ]
  },
  {
   "cell_type": "markdown",
   "id": "27fcf811",
   "metadata": {},
   "source": [
    "## 1. Mean, Median, Mode Values"
   ]
  },
  {
   "cell_type": "markdown",
   "id": "36faad6b",
   "metadata": {},
   "source": [
    "**1. What can we learn from group of Numburs?**"
   ]
  },
  {
   "cell_type": "markdown",
   "id": "189e6e51",
   "metadata": {},
   "source": [
    "1. There are three types of values in Machine Learning use:\n",
    "    1. Mean - Average Value\n",
    "    2. Median - The mid point value\n",
    "    3. Mode - most common value"
   ]
  },
  {
   "cell_type": "markdown",
   "id": "113dcdf0",
   "metadata": {},
   "source": [
    "**Example - We have registered speed of cars [13], What is the average value, middle, most common speed?**  "
   ]
  },
  {
   "cell_type": "code",
   "execution_count": 1,
   "id": "f54713cd",
   "metadata": {},
   "outputs": [],
   "source": [
    "speed = [99,86,87,88,111,86,103,87,94,78,77,85,86]"
   ]
  },
  {
   "cell_type": "markdown",
   "id": "aed08a61",
   "metadata": {},
   "source": [
    "#### 1. Mean:\n",
    "    1. The mean value is the average value\n",
    "    2. Calculate mean, find the sum of all values, and divide sum by the numbers of values"
   ]
  },
  {
   "cell_type": "code",
   "execution_count": 3,
   "id": "5513b72f",
   "metadata": {},
   "outputs": [
    {
     "data": {
      "text/plain": [
       "89.76923076923077"
      ]
     },
     "execution_count": 3,
     "metadata": {},
     "output_type": "execute_result"
    }
   ],
   "source": [
    "(99 + 86 + 87 + 88 + 111 + 86 + 103 + 87 + 94 + 78 + 77 + 85 + 86) / 13"
   ]
  },
  {
   "cell_type": "code",
   "execution_count": 5,
   "id": "e7626409",
   "metadata": {},
   "outputs": [
    {
     "name": "stdout",
     "output_type": "stream",
     "text": [
      "89.76923076923077\n"
     ]
    }
   ],
   "source": [
    "speed = (99 + 86 + 87 + 88 + 111 + 86 + 103 + 87 + 94 + 78 + 77 + 85 + 86)\n",
    "\n",
    "average_value = speed /13\n",
    "print(average_value)"
   ]
  },
  {
   "cell_type": "code",
   "execution_count": 7,
   "id": "0a9a9780",
   "metadata": {},
   "outputs": [
    {
     "name": "stdout",
     "output_type": "stream",
     "text": [
      "89.76923076923077\n"
     ]
    }
   ],
   "source": [
    "import numpy as np\n",
    "\n",
    "speed = [99,86,87,88,111,86,103,87,94,78,77,85,86]\n",
    "\n",
    "x = np.mean(speed)\n",
    "print(x)"
   ]
  },
  {
   "cell_type": "markdown",
   "id": "7a97f832",
   "metadata": {},
   "source": [
    "### 2. Median"
   ]
  },
  {
   "cell_type": "code",
   "execution_count": 8,
   "id": "c30a5620",
   "metadata": {},
   "outputs": [
    {
     "name": "stdout",
     "output_type": "stream",
     "text": [
      "[ 77  78  85  86  86  86  87  87  88  94  99 103 111]\n"
     ]
    }
   ],
   "source": [
    "import numpy as np\n",
    "speed = [99,86,87,88,111,86,103,87,94,78,77,85,86]\n",
    "\n",
    "my_result = np.sort(speed)\n",
    "print(my_result)"
   ]
  },
  {
   "cell_type": "code",
   "execution_count": 11,
   "id": "46abdf41",
   "metadata": {},
   "outputs": [
    {
     "name": "stdout",
     "output_type": "stream",
     "text": [
      "87.0\n"
     ]
    }
   ],
   "source": [
    "x = np.median(my_result)\n",
    "print(x)"
   ]
  },
  {
   "cell_type": "code",
   "execution_count": 14,
   "id": "7b197e16",
   "metadata": {},
   "outputs": [
    {
     "name": "stdout",
     "output_type": "stream",
     "text": [
      "[ 75  78  85  86  86  86  87  87  88  94  99 111]\n"
     ]
    }
   ],
   "source": [
    "import numpy as np\n",
    "speed = [99,86,87,88,111,86,87,94,75, 78,85,86]\n",
    "\n",
    "my_result = np.sort(speed)\n",
    "print(my_result)"
   ]
  },
  {
   "cell_type": "markdown",
   "id": "d4854040",
   "metadata": {},
   "source": [
    "**If there are two numbers in the middle, divide the sum of numbers by two**"
   ]
  },
  {
   "cell_type": "code",
   "execution_count": 15,
   "id": "084d8856",
   "metadata": {},
   "outputs": [
    {
     "data": {
      "text/plain": [
       "86.5"
      ]
     },
     "execution_count": 15,
     "metadata": {},
     "output_type": "execute_result"
    }
   ],
   "source": [
    "(86 + 87) /2"
   ]
  },
  {
   "cell_type": "code",
   "execution_count": 16,
   "id": "0063c025",
   "metadata": {},
   "outputs": [
    {
     "name": "stdout",
     "output_type": "stream",
     "text": [
      "86.5\n"
     ]
    }
   ],
   "source": [
    "x = np.median(my_result)\n",
    "print(x)"
   ]
  },
  {
   "cell_type": "markdown",
   "id": "38573ddc",
   "metadata": {},
   "source": [
    "## 3. Mode"
   ]
  },
  {
   "cell_type": "markdown",
   "id": "54fadd36",
   "metadata": {},
   "source": [
    "1. The mode value is the value that appears the most number of times"
   ]
  },
  {
   "cell_type": "code",
   "execution_count": 19,
   "id": "ec03f01d",
   "metadata": {},
   "outputs": [
    {
     "name": "stdout",
     "output_type": "stream",
     "text": [
      "[ 75  78  85  86  86  86  87  87  88  94  99 111]\n"
     ]
    }
   ],
   "source": [
    "import numpy as np\n",
    "from scipy import stats\n",
    "speed = [99,86,87,88,111,86,87,94,75,78,85,86]\n",
    "\n",
    "my_result = np.sort(speed)\n",
    "print(my_result)"
   ]
  },
  {
   "cell_type": "code",
   "execution_count": 20,
   "id": "d1712331",
   "metadata": {},
   "outputs": [
    {
     "name": "stdout",
     "output_type": "stream",
     "text": [
      "ModeResult(mode=array([86]), count=array([3]))\n"
     ]
    }
   ],
   "source": [
    "x = stats.mode(speed)\n",
    "print(x)"
   ]
  },
  {
   "cell_type": "code",
   "execution_count": null,
   "id": "bd46f16c",
   "metadata": {},
   "outputs": [],
   "source": []
  }
 ],
 "metadata": {
  "kernelspec": {
   "display_name": "Python 3",
   "language": "python",
   "name": "python3"
  },
  "language_info": {
   "codemirror_mode": {
    "name": "ipython",
    "version": 3
   },
   "file_extension": ".py",
   "mimetype": "text/x-python",
   "name": "python",
   "nbconvert_exporter": "python",
   "pygments_lexer": "ipython3",
   "version": "3.8.8"
  }
 },
 "nbformat": 4,
 "nbformat_minor": 5
}
