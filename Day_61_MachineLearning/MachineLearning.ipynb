{
 "cells": [
  {
   "cell_type": "markdown",
   "id": "1366662f",
   "metadata": {},
   "source": [
    "# Pandas Plotting"
   ]
  },
  {
   "cell_type": "markdown",
   "id": "3f906678",
   "metadata": {},
   "source": [
    "1. Pandas uses the plot() method to create figure\n",
    "2. we can use pyplot, it is submodule library to visulize the diagram on the screen."
   ]
  },
  {
   "cell_type": "code",
   "execution_count": 1,
   "id": "254f247e",
   "metadata": {},
   "outputs": [],
   "source": [
    "import pandas as pd \n",
    "import numpy as np\n",
    "import matplotlib.pyplot as plt\n",
    "import seaborn as sns"
   ]
  },
  {
   "cell_type": "code",
   "execution_count": 2,
   "id": "b9cb6b75",
   "metadata": {},
   "outputs": [],
   "source": [
    "df = pd.read_csv('car_sales_data.csv')"
   ]
  },
  {
   "cell_type": "code",
   "execution_count": 3,
   "id": "92093f64",
   "metadata": {},
   "outputs": [
    {
     "data": {
      "text/html": [
       "<div>\n",
       "<style scoped>\n",
       "    .dataframe tbody tr th:only-of-type {\n",
       "        vertical-align: middle;\n",
       "    }\n",
       "\n",
       "    .dataframe tbody tr th {\n",
       "        vertical-align: top;\n",
       "    }\n",
       "\n",
       "    .dataframe thead th {\n",
       "        text-align: right;\n",
       "    }\n",
       "</style>\n",
       "<table border=\"1\" class=\"dataframe\">\n",
       "  <thead>\n",
       "    <tr style=\"text-align: right;\">\n",
       "      <th></th>\n",
       "      <th>Unnamed: 0</th>\n",
       "      <th>Name_of_company</th>\n",
       "      <th>Unit Cars</th>\n",
       "      <th>car_sales</th>\n",
       "      <th>prod_cost</th>\n",
       "      <th>price</th>\n",
       "      <th>profit</th>\n",
       "      <th>percent</th>\n",
       "    </tr>\n",
       "  </thead>\n",
       "  <tbody>\n",
       "    <tr>\n",
       "      <th>0</th>\n",
       "      <td>0</td>\n",
       "      <td>Tata</td>\n",
       "      <td>10000</td>\n",
       "      <td>6000</td>\n",
       "      <td>600000</td>\n",
       "      <td>NaN</td>\n",
       "      <td>200000</td>\n",
       "      <td>33.333333</td>\n",
       "    </tr>\n",
       "    <tr>\n",
       "      <th>1</th>\n",
       "      <td>1</td>\n",
       "      <td>Mahindra</td>\n",
       "      <td>15000</td>\n",
       "      <td>9000</td>\n",
       "      <td>600000</td>\n",
       "      <td>NaN</td>\n",
       "      <td>400000</td>\n",
       "      <td>66.666667</td>\n",
       "    </tr>\n",
       "    <tr>\n",
       "      <th>2</th>\n",
       "      <td>2</td>\n",
       "      <td>Tesla</td>\n",
       "      <td>20000</td>\n",
       "      <td>12000</td>\n",
       "      <td>600000</td>\n",
       "      <td>NaN</td>\n",
       "      <td>600000</td>\n",
       "      <td>100.000000</td>\n",
       "    </tr>\n",
       "    <tr>\n",
       "      <th>3</th>\n",
       "      <td>3</td>\n",
       "      <td>Hero</td>\n",
       "      <td>7500</td>\n",
       "      <td>3500</td>\n",
       "      <td>600000</td>\n",
       "      <td>700000.0</td>\n",
       "      <td>100000</td>\n",
       "      <td>16.666667</td>\n",
       "    </tr>\n",
       "    <tr>\n",
       "      <th>4</th>\n",
       "      <td>4</td>\n",
       "      <td>Bajaj</td>\n",
       "      <td>10000</td>\n",
       "      <td>5000</td>\n",
       "      <td>600000</td>\n",
       "      <td>900000.0</td>\n",
       "      <td>300000</td>\n",
       "      <td>50.000000</td>\n",
       "    </tr>\n",
       "    <tr>\n",
       "      <th>5</th>\n",
       "      <td>5</td>\n",
       "      <td>Toyato</td>\n",
       "      <td>12000</td>\n",
       "      <td>6000</td>\n",
       "      <td>600000</td>\n",
       "      <td>1000000.0</td>\n",
       "      <td>400000</td>\n",
       "      <td>66.666667</td>\n",
       "    </tr>\n",
       "    <tr>\n",
       "      <th>6</th>\n",
       "      <td>6</td>\n",
       "      <td>BMW</td>\n",
       "      <td>8000</td>\n",
       "      <td>4000</td>\n",
       "      <td>600000</td>\n",
       "      <td>800000.0</td>\n",
       "      <td>500000</td>\n",
       "      <td>83.333333</td>\n",
       "    </tr>\n",
       "    <tr>\n",
       "      <th>7</th>\n",
       "      <td>7</td>\n",
       "      <td>Toyato</td>\n",
       "      <td>12000</td>\n",
       "      <td>6000</td>\n",
       "      <td>600000</td>\n",
       "      <td>NaN</td>\n",
       "      <td>400000</td>\n",
       "      <td>66.666667</td>\n",
       "    </tr>\n",
       "  </tbody>\n",
       "</table>\n",
       "</div>"
      ],
      "text/plain": [
       "   Unnamed: 0 Name_of_company  Unit Cars  car_sales  prod_cost      price  \\\n",
       "0           0            Tata      10000       6000     600000        NaN   \n",
       "1           1        Mahindra      15000       9000     600000        NaN   \n",
       "2           2           Tesla      20000      12000     600000        NaN   \n",
       "3           3            Hero       7500       3500     600000   700000.0   \n",
       "4           4           Bajaj      10000       5000     600000   900000.0   \n",
       "5           5          Toyato      12000       6000     600000  1000000.0   \n",
       "6           6             BMW       8000       4000     600000   800000.0   \n",
       "7           7          Toyato      12000       6000     600000        NaN   \n",
       "\n",
       "   profit     percent  \n",
       "0  200000   33.333333  \n",
       "1  400000   66.666667  \n",
       "2  600000  100.000000  \n",
       "3  100000   16.666667  \n",
       "4  300000   50.000000  \n",
       "5  400000   66.666667  \n",
       "6  500000   83.333333  \n",
       "7  400000   66.666667  "
      ]
     },
     "execution_count": 3,
     "metadata": {},
     "output_type": "execute_result"
    }
   ],
   "source": [
    "df.head(10)"
   ]
  },
  {
   "cell_type": "code",
   "execution_count": 4,
   "id": "1154c0d4",
   "metadata": {},
   "outputs": [],
   "source": [
    "x = df['price'].mean()\n",
    "df1 = df.fillna(x, axis=1)"
   ]
  },
  {
   "cell_type": "code",
   "execution_count": 8,
   "id": "9cd6fef4",
   "metadata": {},
   "outputs": [
    {
     "data": {
      "text/html": [
       "<div>\n",
       "<style scoped>\n",
       "    .dataframe tbody tr th:only-of-type {\n",
       "        vertical-align: middle;\n",
       "    }\n",
       "\n",
       "    .dataframe tbody tr th {\n",
       "        vertical-align: top;\n",
       "    }\n",
       "\n",
       "    .dataframe thead th {\n",
       "        text-align: right;\n",
       "    }\n",
       "</style>\n",
       "<table border=\"1\" class=\"dataframe\">\n",
       "  <thead>\n",
       "    <tr style=\"text-align: right;\">\n",
       "      <th></th>\n",
       "      <th>Name_of_company</th>\n",
       "      <th>Unit Cars</th>\n",
       "      <th>car_sales</th>\n",
       "      <th>prod_cost</th>\n",
       "      <th>price</th>\n",
       "      <th>profit</th>\n",
       "      <th>percent</th>\n",
       "    </tr>\n",
       "  </thead>\n",
       "  <tbody>\n",
       "    <tr>\n",
       "      <th>0</th>\n",
       "      <td>Tata</td>\n",
       "      <td>10000</td>\n",
       "      <td>6000</td>\n",
       "      <td>600000</td>\n",
       "      <td>850000.0</td>\n",
       "      <td>200000</td>\n",
       "      <td>33.333333</td>\n",
       "    </tr>\n",
       "    <tr>\n",
       "      <th>1</th>\n",
       "      <td>Mahindra</td>\n",
       "      <td>15000</td>\n",
       "      <td>9000</td>\n",
       "      <td>600000</td>\n",
       "      <td>850000.0</td>\n",
       "      <td>400000</td>\n",
       "      <td>66.666667</td>\n",
       "    </tr>\n",
       "    <tr>\n",
       "      <th>2</th>\n",
       "      <td>Tesla</td>\n",
       "      <td>20000</td>\n",
       "      <td>12000</td>\n",
       "      <td>600000</td>\n",
       "      <td>850000.0</td>\n",
       "      <td>600000</td>\n",
       "      <td>100.000000</td>\n",
       "    </tr>\n",
       "    <tr>\n",
       "      <th>3</th>\n",
       "      <td>Hero</td>\n",
       "      <td>7500</td>\n",
       "      <td>3500</td>\n",
       "      <td>600000</td>\n",
       "      <td>700000.0</td>\n",
       "      <td>100000</td>\n",
       "      <td>16.666667</td>\n",
       "    </tr>\n",
       "    <tr>\n",
       "      <th>4</th>\n",
       "      <td>Bajaj</td>\n",
       "      <td>10000</td>\n",
       "      <td>5000</td>\n",
       "      <td>600000</td>\n",
       "      <td>900000.0</td>\n",
       "      <td>300000</td>\n",
       "      <td>50.000000</td>\n",
       "    </tr>\n",
       "    <tr>\n",
       "      <th>5</th>\n",
       "      <td>Toyato</td>\n",
       "      <td>12000</td>\n",
       "      <td>6000</td>\n",
       "      <td>600000</td>\n",
       "      <td>1000000.0</td>\n",
       "      <td>400000</td>\n",
       "      <td>66.666667</td>\n",
       "    </tr>\n",
       "    <tr>\n",
       "      <th>6</th>\n",
       "      <td>BMW</td>\n",
       "      <td>8000</td>\n",
       "      <td>4000</td>\n",
       "      <td>600000</td>\n",
       "      <td>800000.0</td>\n",
       "      <td>500000</td>\n",
       "      <td>83.333333</td>\n",
       "    </tr>\n",
       "    <tr>\n",
       "      <th>7</th>\n",
       "      <td>Toyato</td>\n",
       "      <td>12000</td>\n",
       "      <td>6000</td>\n",
       "      <td>600000</td>\n",
       "      <td>850000.0</td>\n",
       "      <td>400000</td>\n",
       "      <td>66.666667</td>\n",
       "    </tr>\n",
       "  </tbody>\n",
       "</table>\n",
       "</div>"
      ],
      "text/plain": [
       "  Name_of_company  Unit Cars  car_sales  prod_cost      price  profit  \\\n",
       "0            Tata      10000       6000     600000   850000.0  200000   \n",
       "1        Mahindra      15000       9000     600000   850000.0  400000   \n",
       "2           Tesla      20000      12000     600000   850000.0  600000   \n",
       "3            Hero       7500       3500     600000   700000.0  100000   \n",
       "4           Bajaj      10000       5000     600000   900000.0  300000   \n",
       "5          Toyato      12000       6000     600000  1000000.0  400000   \n",
       "6             BMW       8000       4000     600000   800000.0  500000   \n",
       "7          Toyato      12000       6000     600000   850000.0  400000   \n",
       "\n",
       "      percent  \n",
       "0   33.333333  \n",
       "1   66.666667  \n",
       "2  100.000000  \n",
       "3   16.666667  \n",
       "4   50.000000  \n",
       "5   66.666667  \n",
       "6   83.333333  \n",
       "7   66.666667  "
      ]
     },
     "execution_count": 8,
     "metadata": {},
     "output_type": "execute_result"
    }
   ],
   "source": [
    "df1.drop(['Unnamed: 0'],axis=1)"
   ]
  },
  {
   "cell_type": "code",
   "execution_count": 16,
   "id": "cf9bad50",
   "metadata": {},
   "outputs": [
    {
     "data": {
      "image/png": "[encoded data removed]",
      "text/plain": [
       "<Figure size 432x288 with 1 Axes>"
      ]
     },
     "metadata": {
      "needs_background": "light"
     },
     "output_type": "display_data"
    }
   ],
   "source": [
    "df1.plot(kind ='bar', x ='Name_of_company',y ='car_sales')\n",
    "plt.show()"
   ]
  },
  {
   "cell_type": "code",
   "execution_count": 17,
   "id": "541c5d8c",
   "metadata": {},
   "outputs": [
    {
     "data": {
      "image/png": "[encoded data removed]",
      "text/plain": [
       "<Figure size 432x288 with 1 Axes>"
      ]
     },
     "metadata": {
      "needs_background": "light"
     },
     "output_type": "display_data"
    }
   ],
   "source": [
    "df1.plot(kind ='bar', x ='Name_of_company',y ='Unit Cars')\n",
    "plt.show()"
   ]
  },
  {
   "cell_type": "markdown",
   "id": "dbba683c",
   "metadata": {},
   "source": [
    "## Scatter Plot"
   ]
  },
  {
   "cell_type": "markdown",
   "id": "10a230f5",
   "metadata": {},
   "source": [
    "1. specify that you want to plot with the name as kind parameter\n",
    "2. Example [ kind= 'scatter']\n",
    "3. A scatter plot takes a two values [axis] x and y"
   ]
  },
  {
   "cell_type": "code",
   "execution_count": 18,
   "id": "1bede769",
   "metadata": {},
   "outputs": [
    {
     "data": {
      "image/png": "[encoded data removed]",
      "text/plain": [
       "<Figure size 432x288 with 1 Axes>"
      ]
     },
     "metadata": {
      "needs_background": "light"
     },
     "output_type": "display_data"
    }
   ],
   "source": [
    "df1.plot(kind ='scatter', x ='Unit Cars',y ='car_sales')\n",
    "plt.show()"
   ]
  },
  {
   "cell_type": "code",
   "execution_count": 20,
   "id": "742cee48",
   "metadata": {},
   "outputs": [
    {
     "name": "stdout",
     "output_type": "stream",
     "text": [
      "<class 'pandas.core.frame.DataFrame'>\n",
      "RangeIndex: 8 entries, 0 to 7\n",
      "Data columns (total 8 columns):\n",
      " #   Column           Non-Null Count  Dtype  \n",
      "---  ------           --------------  -----  \n",
      " 0   Unnamed: 0       8 non-null      int64  \n",
      " 1   Name_of_company  8 non-null      object \n",
      " 2   Unit Cars        8 non-null      int64  \n",
      " 3   car_sales        8 non-null      int64  \n",
      " 4   prod_cost        8 non-null      int64  \n",
      " 5   price            8 non-null      float64\n",
      " 6   profit           8 non-null      int64  \n",
      " 7   percent          8 non-null      float64\n",
      "dtypes: float64(2), int64(5), object(1)\n",
      "memory usage: 640.0+ bytes\n"
     ]
    }
   ],
   "source": [
    "df1.info()"
   ]
  },
  {
   "cell_type": "code",
   "execution_count": 21,
   "id": "ac22b2bb",
   "metadata": {},
   "outputs": [],
   "source": [
    "df2 = df1.drop(['Unnamed: 0','prod_cost'], axis=True)"
   ]
  },
  {
   "cell_type": "code",
   "execution_count": 22,
   "id": "c89f2b1b",
   "metadata": {},
   "outputs": [
    {
     "data": {
      "text/html": [
       "<div>\n",
       "<style scoped>\n",
       "    .dataframe tbody tr th:only-of-type {\n",
       "        vertical-align: middle;\n",
       "    }\n",
       "\n",
       "    .dataframe tbody tr th {\n",
       "        vertical-align: top;\n",
       "    }\n",
       "\n",
       "    .dataframe thead th {\n",
       "        text-align: right;\n",
       "    }\n",
       "</style>\n",
       "<table border=\"1\" class=\"dataframe\">\n",
       "  <thead>\n",
       "    <tr style=\"text-align: right;\">\n",
       "      <th></th>\n",
       "      <th>Name_of_company</th>\n",
       "      <th>Unit Cars</th>\n",
       "      <th>car_sales</th>\n",
       "      <th>price</th>\n",
       "      <th>profit</th>\n",
       "      <th>percent</th>\n",
       "    </tr>\n",
       "  </thead>\n",
       "  <tbody>\n",
       "    <tr>\n",
       "      <th>0</th>\n",
       "      <td>Tata</td>\n",
       "      <td>10000</td>\n",
       "      <td>6000</td>\n",
       "      <td>850000.0</td>\n",
       "      <td>200000</td>\n",
       "      <td>33.333333</td>\n",
       "    </tr>\n",
       "    <tr>\n",
       "      <th>1</th>\n",
       "      <td>Mahindra</td>\n",
       "      <td>15000</td>\n",
       "      <td>9000</td>\n",
       "      <td>850000.0</td>\n",
       "      <td>400000</td>\n",
       "      <td>66.666667</td>\n",
       "    </tr>\n",
       "    <tr>\n",
       "      <th>2</th>\n",
       "      <td>Tesla</td>\n",
       "      <td>20000</td>\n",
       "      <td>12000</td>\n",
       "      <td>850000.0</td>\n",
       "      <td>600000</td>\n",
       "      <td>100.000000</td>\n",
       "    </tr>\n",
       "    <tr>\n",
       "      <th>3</th>\n",
       "      <td>Hero</td>\n",
       "      <td>7500</td>\n",
       "      <td>3500</td>\n",
       "      <td>700000.0</td>\n",
       "      <td>100000</td>\n",
       "      <td>16.666667</td>\n",
       "    </tr>\n",
       "    <tr>\n",
       "      <th>4</th>\n",
       "      <td>Bajaj</td>\n",
       "      <td>10000</td>\n",
       "      <td>5000</td>\n",
       "      <td>900000.0</td>\n",
       "      <td>300000</td>\n",
       "      <td>50.000000</td>\n",
       "    </tr>\n",
       "    <tr>\n",
       "      <th>5</th>\n",
       "      <td>Toyato</td>\n",
       "      <td>12000</td>\n",
       "      <td>6000</td>\n",
       "      <td>1000000.0</td>\n",
       "      <td>400000</td>\n",
       "      <td>66.666667</td>\n",
       "    </tr>\n",
       "    <tr>\n",
       "      <th>6</th>\n",
       "      <td>BMW</td>\n",
       "      <td>8000</td>\n",
       "      <td>4000</td>\n",
       "      <td>800000.0</td>\n",
       "      <td>500000</td>\n",
       "      <td>83.333333</td>\n",
       "    </tr>\n",
       "    <tr>\n",
       "      <th>7</th>\n",
       "      <td>Toyato</td>\n",
       "      <td>12000</td>\n",
       "      <td>6000</td>\n",
       "      <td>850000.0</td>\n",
       "      <td>400000</td>\n",
       "      <td>66.666667</td>\n",
       "    </tr>\n",
       "  </tbody>\n",
       "</table>\n",
       "</div>"
      ],
      "text/plain": [
       "  Name_of_company  Unit Cars  car_sales      price  profit     percent\n",
       "0            Tata      10000       6000   850000.0  200000   33.333333\n",
       "1        Mahindra      15000       9000   850000.0  400000   66.666667\n",
       "2           Tesla      20000      12000   850000.0  600000  100.000000\n",
       "3            Hero       7500       3500   700000.0  100000   16.666667\n",
       "4           Bajaj      10000       5000   900000.0  300000   50.000000\n",
       "5          Toyato      12000       6000  1000000.0  400000   66.666667\n",
       "6             BMW       8000       4000   800000.0  500000   83.333333\n",
       "7          Toyato      12000       6000   850000.0  400000   66.666667"
      ]
     },
     "execution_count": 22,
     "metadata": {},
     "output_type": "execute_result"
    }
   ],
   "source": [
    "df2"
   ]
  },
  {
   "cell_type": "code",
   "execution_count": 23,
   "id": "73cdf879",
   "metadata": {},
   "outputs": [
    {
     "data": {
      "text/html": [
       "<div>\n",
       "<style scoped>\n",
       "    .dataframe tbody tr th:only-of-type {\n",
       "        vertical-align: middle;\n",
       "    }\n",
       "\n",
       "    .dataframe tbody tr th {\n",
       "        vertical-align: top;\n",
       "    }\n",
       "\n",
       "    .dataframe thead th {\n",
       "        text-align: right;\n",
       "    }\n",
       "</style>\n",
       "<table border=\"1\" class=\"dataframe\">\n",
       "  <thead>\n",
       "    <tr style=\"text-align: right;\">\n",
       "      <th></th>\n",
       "      <th>Unit Cars</th>\n",
       "      <th>car_sales</th>\n",
       "      <th>price</th>\n",
       "      <th>profit</th>\n",
       "      <th>percent</th>\n",
       "    </tr>\n",
       "  </thead>\n",
       "  <tbody>\n",
       "    <tr>\n",
       "      <th>Unit Cars</th>\n",
       "      <td>1.000000</td>\n",
       "      <td>0.986299</td>\n",
       "      <td>0.320466</td>\n",
       "      <td>0.676593</td>\n",
       "      <td>0.676593</td>\n",
       "    </tr>\n",
       "    <tr>\n",
       "      <th>car_sales</th>\n",
       "      <td>0.986299</td>\n",
       "      <td>1.000000</td>\n",
       "      <td>0.256942</td>\n",
       "      <td>0.633502</td>\n",
       "      <td>0.633502</td>\n",
       "    </tr>\n",
       "    <tr>\n",
       "      <th>price</th>\n",
       "      <td>0.320466</td>\n",
       "      <td>0.256942</td>\n",
       "      <td>1.000000</td>\n",
       "      <td>0.370220</td>\n",
       "      <td>0.370220</td>\n",
       "    </tr>\n",
       "    <tr>\n",
       "      <th>profit</th>\n",
       "      <td>0.676593</td>\n",
       "      <td>0.633502</td>\n",
       "      <td>0.370220</td>\n",
       "      <td>1.000000</td>\n",
       "      <td>1.000000</td>\n",
       "    </tr>\n",
       "    <tr>\n",
       "      <th>percent</th>\n",
       "      <td>0.676593</td>\n",
       "      <td>0.633502</td>\n",
       "      <td>0.370220</td>\n",
       "      <td>1.000000</td>\n",
       "      <td>1.000000</td>\n",
       "    </tr>\n",
       "  </tbody>\n",
       "</table>\n",
       "</div>"
      ],
      "text/plain": [
       "           Unit Cars  car_sales     price    profit   percent\n",
       "Unit Cars   1.000000   0.986299  0.320466  0.676593  0.676593\n",
       "car_sales   0.986299   1.000000  0.256942  0.633502  0.633502\n",
       "price       0.320466   0.256942  1.000000  0.370220  0.370220\n",
       "profit      0.676593   0.633502  0.370220  1.000000  1.000000\n",
       "percent     0.676593   0.633502  0.370220  1.000000  1.000000"
      ]
     },
     "execution_count": 23,
     "metadata": {},
     "output_type": "execute_result"
    }
   ],
   "source": [
    "df2.corr()"
   ]
  },
  {
   "cell_type": "code",
   "execution_count": 30,
   "id": "7a016791",
   "metadata": {},
   "outputs": [
    {
     "data": {
      "text/plain": [
       "<AxesSubplot:>"
      ]
     },
     "execution_count": 30,
     "metadata": {},
     "output_type": "execute_result"
    },
    {
     "data": {
      "image/png": "[encoded data removed]",
      "text/plain": [
       "<Figure size 432x288 with 2 Axes>"
      ]
     },
     "metadata": {
      "needs_background": "light"
     },
     "output_type": "display_data"
    }
   ],
   "source": [
    "sns.heatmap(df2.corr(), cmap='RdBu_r')"
   ]
  },
  {
   "cell_type": "code",
   "execution_count": 34,
   "id": "dfa44ef3",
   "metadata": {},
   "outputs": [
    {
     "data": {
      "image/png": "[encoded data removed]",
      "text/plain": [
       "<Figure size 432x288 with 2 Axes>"
      ]
     },
     "metadata": {
      "needs_background": "light"
     },
     "output_type": "display_data"
    }
   ],
   "source": [
    "cg = sns.heatmap(df2.corr(), cmap='RdBu_r', linewidths= 0.2)"
   ]
  },
  {
   "cell_type": "code",
   "execution_count": null,
   "id": "f887ecdf",
   "metadata": {},
   "outputs": [],
   "source": []
  }
 ],
 "metadata": {
  "kernelspec": {
   "display_name": "Python 3",
   "language": "python",
   "name": "python3"
  },
  "language_info": {
   "codemirror_mode": {
    "name": "ipython",
    "version": 3
   },
   "file_extension": ".py",
   "mimetype": "text/x-python",
   "name": "python",
   "nbconvert_exporter": "python",
   "pygments_lexer": "ipython3",
   "version": "3.8.8"
  }
 },
 "nbformat": 4,
 "nbformat_minor": 5
}
