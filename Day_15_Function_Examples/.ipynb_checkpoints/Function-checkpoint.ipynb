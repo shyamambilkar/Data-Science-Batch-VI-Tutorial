{
 "cells": [
  {
   "cell_type": "code",
   "execution_count": 6,
   "id": "2b8886c7",
   "metadata": {},
   "outputs": [
    {
     "name": "stdout",
     "output_type": "stream",
     "text": [
      "data has occured 3 times\n"
     ]
    }
   ],
   "source": [
    "def my_function(my_list, x):\n",
    "    count = 0\n",
    "    for my_str in my_list:\n",
    "        if(my_str == x):\n",
    "            count = count + 1\n",
    "    return count\n",
    "\n",
    "\n",
    "my_list = ['data','Python','datascience','data','python','data']\n",
    "x = 'data'\n",
    "print(\"{} has occured {} times\".format(x, my_function(my_list, x)))"
   ]
  },
  {
   "cell_type": "code",
   "execution_count": 7,
   "id": "a438f30f",
   "metadata": {},
   "outputs": [
    {
     "name": "stdout",
     "output_type": "stream",
     "text": [
      "data has occured 3 times\n"
     ]
    }
   ],
   "source": [
    "def my_function(my_list, x):\n",
    "    count = 0\n",
    "    for i in my_list:\n",
    "        if(i == x):\n",
    "            count = count + 1\n",
    "    return count\n",
    "\n",
    "\n",
    "my_list = ['data','Python','datascience','data','python','data']\n",
    "x = 'data'\n",
    "print(\"{} has occured {} times\".format(x, my_function(my_list, x)))"
   ]
  },
  {
   "cell_type": "code",
   "execution_count": 8,
   "id": "3d2133f5",
   "metadata": {},
   "outputs": [],
   "source": [
    "#Write a simple Program to check whether x is even or odd"
   ]
  },
  {
   "cell_type": "code",
   "execution_count": 10,
   "id": "1353ea0c",
   "metadata": {},
   "outputs": [
    {
     "name": "stdout",
     "output_type": "stream",
     "text": [
      "Odd Number \n"
     ]
    }
   ],
   "source": [
    "def evenOdd(x):\n",
    "    if (x % 2 == 0):\n",
    "        print(\"Even Number \")\n",
    "    else:\n",
    "        print(\"Odd Number \")\n",
    "        \n",
    "evenOdd(21)"
   ]
  },
  {
   "cell_type": "code",
   "execution_count": 11,
   "id": "434fdadd",
   "metadata": {},
   "outputs": [],
   "source": [
    "# Default Arguments"
   ]
  },
  {
   "cell_type": "code",
   "execution_count": 15,
   "id": "c7b444c5",
   "metadata": {},
   "outputs": [
    {
     "name": "stdout",
     "output_type": "stream",
     "text": [
      "x:  10\n",
      "y:  50\n"
     ]
    }
   ],
   "source": [
    "def my_function(x, y=50):\n",
    "    print('x: ',x)\n",
    "    print('y: ',y)\n",
    "    \n",
    "my_function(10)"
   ]
  },
  {
   "cell_type": "code",
   "execution_count": 16,
   "id": "f41080a6",
   "metadata": {},
   "outputs": [
    {
     "name": "stdout",
     "output_type": "stream",
     "text": [
      "I am From:  Maharashtra\n",
      "I am From:  India\n"
     ]
    }
   ],
   "source": [
    "def myFunct(x,state = 'India'):\n",
    "    print(\"I am From: \", x)\n",
    "    print(\"I am From: \", state)\n",
    "    \n",
    "myFunct('Maharashtra')"
   ]
  },
  {
   "cell_type": "code",
   "execution_count": 18,
   "id": "604ad04a",
   "metadata": {},
   "outputs": [
    {
     "name": "stdout",
     "output_type": "stream",
     "text": [
      "Welcome Shyam Ambilkar Data Science Class\n"
     ]
    }
   ],
   "source": [
    "def student(fname, lname):\n",
    "    print(\"Welcome\",fname, lname, \"Data Science Class\")\n",
    "    \n",
    "student(fname= 'Shyam', lname= 'Ambilkar')"
   ]
  },
  {
   "cell_type": "code",
   "execution_count": 19,
   "id": "4264f88c",
   "metadata": {},
   "outputs": [
    {
     "name": "stdout",
     "output_type": "stream",
     "text": [
      "Welcome Shyam Ambilkar Data Science Class\n"
     ]
    }
   ],
   "source": [
    "def student(fname, lname):\n",
    "    print(\"Welcome\",fname, lname, \"Data Science Class\")\n",
    "    \n",
    "student('Shyam','Ambilkar')"
   ]
  },
  {
   "cell_type": "code",
   "execution_count": 21,
   "id": "d95b5161",
   "metadata": {},
   "outputs": [
    {
     "name": "stdout",
     "output_type": "stream",
     "text": [
      "Mayur\n",
      "Sakshi\n",
      "Sonal\n",
      "Arati\n",
      "Rahul\n",
      "Garima\n"
     ]
    }
   ],
   "source": [
    "def myFunct(*students):\n",
    "    for i in students:\n",
    "        print(i)\n",
    "        \n",
    "myFunct('Mayur','Sakshi','Sonal','Arati','Rahul','Garima')"
   ]
  },
  {
   "cell_type": "code",
   "execution_count": 25,
   "id": "6529edbe",
   "metadata": {},
   "outputs": [
    {
     "name": "stdout",
     "output_type": "stream",
     "text": [
      "First ==  Mayur\n",
      "Second ==  Sakshi\n"
     ]
    }
   ],
   "source": [
    "def myFunct(**students):\n",
    "    for key, value in students.items():\n",
    "        print(\"%s ==  %s\" % (key, value))\n",
    "        \n",
    "myFunct( First='Mayur',Second ='Sakshi')"
   ]
  },
  {
   "cell_type": "code",
   "execution_count": 31,
   "id": "791dbdb3",
   "metadata": {},
   "outputs": [
    {
     "name": "stdout",
     "output_type": "stream",
     "text": [
      "8\n",
      "27\n",
      "64\n"
     ]
    }
   ],
   "source": [
    "def square(num):\n",
    "    return num ** 3\n",
    "print(square(2))\n",
    "print(square(3))\n",
    "print(square(4))"
   ]
  },
  {
   "cell_type": "code",
   "execution_count": 48,
   "id": "80848b04",
   "metadata": {},
   "outputs": [
    {
     "name": "stdout",
     "output_type": "stream",
     "text": [
      "After swapping Number:  30 20\n"
     ]
    }
   ],
   "source": [
    "def swap(x, y):\n",
    "    temp = x\n",
    "    x = y \n",
    "    y = temp\n",
    "    print(\"After swapping Number: \", x,y)\n",
    "\n",
    "x = 20\n",
    "y = 30\n",
    "swap(x, y)"
   ]
  },
  {
   "cell_type": "code",
   "execution_count": 49,
   "id": "1d8ad3d3",
   "metadata": {},
   "outputs": [
    {
     "name": "stdout",
     "output_type": "stream",
     "text": [
      "Enter First Number: 45\n",
      "Enter Second Number: 25\n",
      "Before Swapping Number:  (45, 25)\n",
      "After Swapping Number:  (25, 45)\n"
     ]
    }
   ],
   "source": [
    "def swap_number(x, y):\n",
    "    temp = x\n",
    "    x = y\n",
    "    y = temp\n",
    "    print(\"After Swapping Number: \",(x,y))\n",
    "    \n",
    "#Driver Code\n",
    "num1 = int(input(\"Enter First Number: \"))\n",
    "num2 = int(input(\"Enter Second Number: \"))\n",
    "\n",
    "print(\"Before Swapping Number: \", (num1, num2))\n",
    "swap_number(num1,num2)"
   ]
  },
  {
   "cell_type": "code",
   "execution_count": null,
   "id": "0b519a02",
   "metadata": {},
   "outputs": [],
   "source": []
  }
 ],
 "metadata": {
  "kernelspec": {
   "display_name": "Python 3",
   "language": "python",
   "name": "python3"
  },
  "language_info": {
   "codemirror_mode": {
    "name": "ipython",
    "version": 3
   },
   "file_extension": ".py",
   "mimetype": "text/x-python",
   "name": "python",
   "nbconvert_exporter": "python",
   "pygments_lexer": "ipython3",
   "version": "3.8.8"
  }
 },
 "nbformat": 4,
 "nbformat_minor": 5
}
