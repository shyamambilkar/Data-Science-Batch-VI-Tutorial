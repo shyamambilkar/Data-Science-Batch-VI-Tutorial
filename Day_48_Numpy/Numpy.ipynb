{
 "cells": [
  {
   "cell_type": "markdown",
   "id": "2ad89c07",
   "metadata": {},
   "source": [
    "# Numpy"
   ]
  },
  {
   "cell_type": "code",
   "execution_count": 1,
   "id": "fde23053",
   "metadata": {},
   "outputs": [],
   "source": [
    "import numpy as np"
   ]
  },
  {
   "cell_type": "code",
   "execution_count": 5,
   "id": "84a616f4",
   "metadata": {},
   "outputs": [
    {
     "name": "stdout",
     "output_type": "stream",
     "text": [
      "2\n"
     ]
    }
   ],
   "source": [
    "my_array = np.array([10,20,30,40,50,60,70])\n",
    "\n",
    "x = np.searchsorted(my_array, 30, side='left')\n",
    "print(x)"
   ]
  },
  {
   "cell_type": "code",
   "execution_count": 6,
   "id": "d0eb438b",
   "metadata": {},
   "outputs": [
    {
     "name": "stdout",
     "output_type": "stream",
     "text": [
      "[3 4 5]\n"
     ]
    }
   ],
   "source": [
    "my_array = np.array([10,20,30,40,50,60,70])\n",
    "\n",
    "x = np.searchsorted(my_array, [40,50,60])\n",
    "print(x)"
   ]
  },
  {
   "cell_type": "markdown",
   "id": "5e97f161",
   "metadata": {},
   "source": [
    "# Sorting Arrays"
   ]
  },
  {
   "cell_type": "markdown",
   "id": "b7fd501d",
   "metadata": {},
   "source": [
    "1. Sorting means putting elements in ordered sequence\n",
    "2. Ordered sequence is any sequence that has order corresponding elements\n",
    "3. Like numeric or alphabetical,ascending or descending\n",
    "4. Numpy having function called [sort()] that will sort in specified array"
   ]
  },
  {
   "cell_type": "code",
   "execution_count": 7,
   "id": "01e0cff5",
   "metadata": {},
   "outputs": [
    {
     "name": "stdout",
     "output_type": "stream",
     "text": [
      "[  2   5   8  20  23  34  41  42  46  50  87 100]\n"
     ]
    }
   ],
   "source": [
    "import numpy as np\n",
    "\n",
    "my_array = np.array([2,87,42,5,8,23,46,41,100,50,20,34])\n",
    "\n",
    "x = np.sort(my_array)\n",
    "print(x)"
   ]
  },
  {
   "cell_type": "code",
   "execution_count": 9,
   "id": "0e2afd26",
   "metadata": {},
   "outputs": [
    {
     "name": "stdout",
     "output_type": "stream",
     "text": [
      "[  2   5   8  20  23  34  41  42  46  50  87 100]\n",
      "[  2  87  42   5   8  23  46  41 100  50  20  34]\n"
     ]
    }
   ],
   "source": [
    "import numpy as np\n",
    "\n",
    "my_array = np.array([2,87,42,5,8,23,46,41,100,50,20,34])\n",
    "\n",
    "print(np.sort(my_array))\n",
    "print(my_array)"
   ]
  },
  {
   "cell_type": "code",
   "execution_count": 10,
   "id": "deecee68",
   "metadata": {},
   "outputs": [
    {
     "name": "stdout",
     "output_type": "stream",
     "text": [
      "['apple' 'banana' 'blackcurrent' 'cherry' 'papaya' 'pineapple'\n",
      " 'watermelon']\n"
     ]
    }
   ],
   "source": [
    "my_fruits = np.array(['banana','apple','cherry','watermelon','pineapple', 'blackcurrent','papaya'])\n",
    "\n",
    "sorted_fruits_list = np.sort(my_fruits)\n",
    "print(sorted_fruits_list)"
   ]
  },
  {
   "cell_type": "code",
   "execution_count": 13,
   "id": "94f237eb",
   "metadata": {},
   "outputs": [],
   "source": [
    "# help(np.sort(my_array))"
   ]
  },
  {
   "cell_type": "code",
   "execution_count": 15,
   "id": "273f48c3",
   "metadata": {},
   "outputs": [
    {
     "name": "stdout",
     "output_type": "stream",
     "text": [
      "[False False  True  True  True  True]\n"
     ]
    }
   ],
   "source": [
    "my_array = np.array([True, False, True, True, True, False])\n",
    "\n",
    "x = np.sort(my_array)\n",
    "print(x)"
   ]
  },
  {
   "cell_type": "markdown",
   "id": "6aff4ff5",
   "metadata": {},
   "source": [
    "## Sorting a 2-D Array"
   ]
  },
  {
   "cell_type": "code",
   "execution_count": 17,
   "id": "e7450018",
   "metadata": {},
   "outputs": [
    {
     "name": "stdout",
     "output_type": "stream",
     "text": [
      "[[ 4  6 42 80]\n",
      " [12 24 46 81]]\n"
     ]
    }
   ],
   "source": [
    "my_array = np.array([[80,4,6,42],[12,81,24,46]])\n",
    "\n",
    "x = np.sort(my_array)\n",
    "print(x)"
   ]
  },
  {
   "cell_type": "markdown",
   "id": "dbbf14ee",
   "metadata": {},
   "source": [
    "# Filter Array"
   ]
  },
  {
   "cell_type": "markdown",
   "id": "06dc81e5",
   "metadata": {},
   "source": [
    "1. Getting some elements out of an existing array and Creating new array out of them is called Filtering\n",
    "2. Filter array using boolean index list\n",
    "3. Boolean index list is list of Boolean corrsponding to indexes in the array"
   ]
  },
  {
   "cell_type": "code",
   "execution_count": 18,
   "id": "e60fd383",
   "metadata": {},
   "outputs": [],
   "source": [
    "import numpy as np"
   ]
  },
  {
   "cell_type": "code",
   "execution_count": 20,
   "id": "e4b6297a",
   "metadata": {},
   "outputs": [
    {
     "name": "stdout",
     "output_type": "stream",
     "text": [
      "[41 43]\n"
     ]
    }
   ],
   "source": [
    "my_array = np.array([41,42,43,44])\n",
    "\n",
    "x = [True, False, True, False]\n",
    "\n",
    "new_array = my_array[x]\n",
    "print(new_array)"
   ]
  },
  {
   "cell_type": "code",
   "execution_count": 21,
   "id": "3de75a6c",
   "metadata": {},
   "outputs": [
    {
     "name": "stdout",
     "output_type": "stream",
     "text": [
      "[41 43 78 45]\n"
     ]
    }
   ],
   "source": [
    "my_array = np.array([41,42,43,44,78,45])\n",
    "\n",
    "x = [True, False, True, False, True, True]\n",
    "\n",
    "new_array = my_array[x]\n",
    "print(new_array)"
   ]
  },
  {
   "cell_type": "markdown",
   "id": "d4ba97e9",
   "metadata": {},
   "source": [
    "**Problem Statement: Create a Filter that will return only values higher than 34**"
   ]
  },
  {
   "cell_type": "code",
   "execution_count": 28,
   "id": "4be8ea9a",
   "metadata": {},
   "outputs": [
    {
     "name": "stdout",
     "output_type": "stream",
     "text": [
      "[ 87  42  46  41 100  50  34  45  77  60]\n"
     ]
    }
   ],
   "source": [
    "my_array = np.array([2,87,42,5,8,23,46,41,100,50,20,34,45,77,60])\n",
    "\n",
    "# Create Empty list\n",
    "filter_array = []\n",
    "\n",
    "# go throgh each elements in array\n",
    "for elements in my_array:\n",
    "    # if the elements is higher than 34, set the values to True, otherwise False\n",
    "    if elements >= 34:\n",
    "        filter_array.append(True)\n",
    "    else:\n",
    "        filter_array.append(False)\n",
    "        \n",
    "new_array = my_array[filter_array]\n",
    "\n",
    "# print(filter_array)\n",
    "print(new_array)"
   ]
  },
  {
   "cell_type": "code",
   "execution_count": 30,
   "id": "01c060c9",
   "metadata": {},
   "outputs": [
    {
     "name": "stdout",
     "output_type": "stream",
     "text": [
      "[  2   8  20  34  42  46  50  60 100]\n"
     ]
    }
   ],
   "source": [
    "my_array = np.array([2,87,42,5,8,23,46,41,100,50,20,34,45,77,60])\n",
    "\n",
    "# Create Empty list\n",
    "filter_array = []\n",
    "\n",
    "# go throgh each elements in array\n",
    "for elements in my_array:\n",
    "    # if the elements is higher than 34, set the values to True, otherwise False\n",
    "    if elements % 2 == 0:\n",
    "        filter_array.append(True)\n",
    "    else:\n",
    "        filter_array.append(False)\n",
    "        \n",
    "new_array = my_array[filter_array]\n",
    "\n",
    "# print(filter_array)\n",
    "x = np.sort(new_array)\n",
    "print(x)"
   ]
  },
  {
   "cell_type": "code",
   "execution_count": 33,
   "id": "58405298",
   "metadata": {},
   "outputs": [
    {
     "name": "stdout",
     "output_type": "stream",
     "text": [
      "[87  5 23 41 45 77]\n"
     ]
    }
   ],
   "source": [
    "import numpy as np\n",
    "my_array = np.array([2,87,42,5,8,23,46,41,100,50,20,34,45,77,60])\n",
    "\n",
    "# Create Empty list\n",
    "filter_array = []\n",
    "\n",
    "# go throgh each elements in array\n",
    "for elements in my_array:\n",
    "    # if the elements is higher than 34, set the values to True, otherwise False\n",
    "    if elements % 2 == 1:\n",
    "        filter_array.append(True)\n",
    "    else:\n",
    "        filter_array.append(False)\n",
    "        \n",
    "new_array = my_array[filter_array]\n",
    "\n",
    "# print(filter_array)\n",
    "print(new_array)\n",
    "# x = np.sort(new_array)\n",
    "# print(x)"
   ]
  },
  {
   "cell_type": "markdown",
   "id": "571be246",
   "metadata": {},
   "source": [
    "# Random Numbers in Numpy"
   ]
  },
  {
   "cell_type": "code",
   "execution_count": 34,
   "id": "4df82caf",
   "metadata": {},
   "outputs": [],
   "source": [
    "from numpy import random"
   ]
  },
  {
   "cell_type": "markdown",
   "id": "90012e46",
   "metadata": {},
   "source": [
    "## Integer Numbers"
   ]
  },
  {
   "cell_type": "code",
   "execution_count": 38,
   "id": "4774bc7b",
   "metadata": {},
   "outputs": [
    {
     "name": "stdout",
     "output_type": "stream",
     "text": [
      "54\n"
     ]
    }
   ],
   "source": [
    "x = random.randint(100)\n",
    "print(x)"
   ]
  },
  {
   "cell_type": "markdown",
   "id": "d5d93d40",
   "metadata": {},
   "source": [
    "## Float Numbers"
   ]
  },
  {
   "cell_type": "code",
   "execution_count": 41,
   "id": "b8f59e8a",
   "metadata": {},
   "outputs": [
    {
     "name": "stdout",
     "output_type": "stream",
     "text": [
      "0.6472672117569812\n"
     ]
    }
   ],
   "source": [
    "x = random.rand()\n",
    "print(x)"
   ]
  },
  {
   "cell_type": "markdown",
   "id": "86ccfa66",
   "metadata": {},
   "source": [
    "## Generate Random Array"
   ]
  },
  {
   "cell_type": "code",
   "execution_count": 45,
   "id": "a7cac893",
   "metadata": {},
   "outputs": [
    {
     "name": "stdout",
     "output_type": "stream",
     "text": [
      "[27 74 87  2 70 40 33  6 29 50  8 74 76 20 48 58 44 12 78 57 84 47 91 87\n",
      " 17 89 44  5 26 67 50 11 33 89 85 21 79 86 33 56 86 50 34 76 72 81  4 63\n",
      " 62 28 49 97 72 96 29 44 90 87 98 36 54 65 39 17 77 77 84 83  1  9 23 29\n",
      " 20 14 24 97 65 33 14 44 25  6 43 59 70  1 69 51 88  0 12  5 45  9 80  1\n",
      " 56  4 61 85]\n"
     ]
    }
   ],
   "source": [
    "x = random.randint(100, size =(100))\n",
    "print(x)"
   ]
  },
  {
   "cell_type": "markdown",
   "id": "8d92c059",
   "metadata": {},
   "source": [
    "## Generate 2-D Arrays"
   ]
  },
  {
   "cell_type": "code",
   "execution_count": 48,
   "id": "c7ce6364",
   "metadata": {},
   "outputs": [
    {
     "name": "stdout",
     "output_type": "stream",
     "text": [
      "[[39 81 81  3 89]\n",
      " [48 42 25 86 54]\n",
      " [77 56 11 45 49]\n",
      " [69 41 26 97 81]]\n"
     ]
    }
   ],
   "source": [
    "x = random.randint(100, size =(4,5))\n",
    "print(x)"
   ]
  },
  {
   "cell_type": "markdown",
   "id": "548afe38",
   "metadata": {},
   "source": [
    "## Generate 3-D Arrays"
   ]
  },
  {
   "cell_type": "code",
   "execution_count": 51,
   "id": "74de8b03",
   "metadata": {},
   "outputs": [
    {
     "name": "stdout",
     "output_type": "stream",
     "text": [
      "[[[ 2 14 43 98]\n",
      "  [16 30 35 56]]\n",
      "\n",
      " [[ 7 10 22 26]\n",
      "  [21 47 60 67]]]\n"
     ]
    }
   ],
   "source": [
    "x = random.randint(100, size =(2,2,4))\n",
    "y = np.sort(x)\n",
    "print(y)"
   ]
  },
  {
   "cell_type": "markdown",
   "id": "1a422972",
   "metadata": {},
   "source": [
    "# Generate Floating Arrays:\n",
    "    1. 1-D \n",
    "    2. 2-D\n",
    "    3. 3-D"
   ]
  },
  {
   "cell_type": "markdown",
   "id": "43cf81ee",
   "metadata": {},
   "source": [
    "## 1-D arrays"
   ]
  },
  {
   "cell_type": "code",
   "execution_count": 52,
   "id": "1b773dd9",
   "metadata": {},
   "outputs": [
    {
     "name": "stdout",
     "output_type": "stream",
     "text": [
      "[0.01255587 0.96052265 0.05772837 0.29083463 0.93142706]\n"
     ]
    }
   ],
   "source": [
    "x = random.rand(5)\n",
    "print(x)"
   ]
  },
  {
   "cell_type": "markdown",
   "id": "91c84bf4",
   "metadata": {},
   "source": [
    "## 2-D Arrrays"
   ]
  },
  {
   "cell_type": "code",
   "execution_count": 53,
   "id": "10a6523b",
   "metadata": {},
   "outputs": [
    {
     "name": "stdout",
     "output_type": "stream",
     "text": [
      "[[0.69681248 0.07653764 0.8372559  0.3177097  0.9146307 ]\n",
      " [0.75126489 0.78320926 0.06728873 0.46169548 0.80124223]\n",
      " [0.99472664 0.04372833 0.15066116 0.7290632  0.62909672]]\n"
     ]
    }
   ],
   "source": [
    "x = random.rand(3,5)\n",
    "print(x)"
   ]
  },
  {
   "cell_type": "markdown",
   "id": "18d080ef",
   "metadata": {},
   "source": [
    "## 3-D Arrays"
   ]
  },
  {
   "cell_type": "code",
   "execution_count": 54,
   "id": "969057f3",
   "metadata": {},
   "outputs": [
    {
     "name": "stdout",
     "output_type": "stream",
     "text": [
      "[[[0.78568599 0.7289177  0.89003534 0.02824364 0.20018699]\n",
      "  [0.86608297 0.14742882 0.41596034 0.09450877 0.28836312]\n",
      "  [0.04378288 0.58133542 0.62186853 0.32755952 0.02143444]]\n",
      "\n",
      " [[0.67609769 0.91676984 0.07222351 0.72460772 0.23737724]\n",
      "  [0.15925963 0.59146985 0.92233704 0.574563   0.10805327]\n",
      "  [0.96952091 0.35558473 0.19351193 0.33179242 0.21682393]]\n",
      "\n",
      " [[0.18238483 0.75026171 0.31171539 0.20277318 0.79835052]\n",
      "  [0.28684742 0.42828472 0.11742026 0.65458658 0.66058717]\n",
      "  [0.2965204  0.20548374 0.10812186 0.87012664 0.41970581]]]\n"
     ]
    }
   ],
   "source": [
    "x = random.rand(3,3,5)\n",
    "print(x)"
   ]
  },
  {
   "cell_type": "code",
   "execution_count": null,
   "id": "fe153cff",
   "metadata": {},
   "outputs": [],
   "source": []
  }
 ],
 "metadata": {
  "kernelspec": {
   "display_name": "Python 3",
   "language": "python",
   "name": "python3"
  },
  "language_info": {
   "codemirror_mode": {
    "name": "ipython",
    "version": 3
   },
   "file_extension": ".py",
   "mimetype": "text/x-python",
   "name": "python",
   "nbconvert_exporter": "python",
   "pygments_lexer": "ipython3",
   "version": "3.8.8"
  }
 },
 "nbformat": 4,
 "nbformat_minor": 5
}
