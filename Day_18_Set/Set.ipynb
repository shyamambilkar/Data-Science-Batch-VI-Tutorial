{
 "cells": [
  {
   "cell_type": "markdown",
   "id": "00b26477",
   "metadata": {},
   "source": [
    "# Set "
   ]
  },
  {
   "cell_type": "markdown",
   "id": "74229b5b",
   "metadata": {},
   "source": [
    "1. Sets are used to store multiple items in a single variable\n",
    "2. Sets are used to store collection of data\n",
    "3. Sets is a collection which both unordered and ordered\n",
    "4. Sets are mutable type of Data type\n",
    "5. In sets duplicates are not allowed\n",
    "6. Set is unordered collection of data that is itarable\n",
    "7. Major advantage of set is oppposed to list\n",
    "8. Set are used highly optimized methods for checking whether a specific elements is a sets\n",
    "9. Set are creating using built-in function called as **set()**\n",
    "10. Set cannot have mutable elementsn like list, set or dictionary as its elements\n",
    "11. Set are written with curly Brackets\n",
    "12. Exmaple:\n",
    "    1. my_set = {'apple','mango','cherry'}"
   ]
  },
  {
   "cell_type": "markdown",
   "id": "326bca61",
   "metadata": {},
   "source": [
    "## Terminologies"
   ]
  },
  {
   "cell_type": "markdown",
   "id": "14350c2d",
   "metadata": {},
   "source": [
    "1. Create Set:\n",
    "    1. my_set = {'apple','mango','cherry'}\n",
    "2. Set Items:\n",
    "    1. Set  are unordered,\n",
    "    2. set are unchangeble(immutable)\n",
    "    3. Do not allowed duplicate values\n",
    "3. Unordered:\n",
    "    1. Unordered means that the do not have defined orderd\n",
    "    2. cannot be referred to by indexing\n",
    "4. Unchangeble:\n",
    "    1. Set cannot change the item after the set has been created"
   ]
  },
  {
   "cell_type": "markdown",
   "id": "ee90eb2a",
   "metadata": {},
   "source": [
    "**Note: Sets item are immutable(unchangeble), but you can remove or add new elements**"
   ]
  },
  {
   "cell_type": "markdown",
   "id": "1bb70600",
   "metadata": {},
   "source": [
    "**Note: Sets are unordered, so you can not be sure in which order item will appear**"
   ]
  },
  {
   "cell_type": "code",
   "execution_count": 1,
   "id": "65b298a9",
   "metadata": {},
   "outputs": [],
   "source": [
    "my_set = {'apple','mango','cherry','watermelon','pineapple'}"
   ]
  },
  {
   "cell_type": "code",
   "execution_count": 2,
   "id": "e25b5f66",
   "metadata": {},
   "outputs": [
    {
     "name": "stdout",
     "output_type": "stream",
     "text": [
      "{'apple', 'watermelon', 'mango', 'pineapple', 'cherry'}\n"
     ]
    }
   ],
   "source": [
    "print(my_set)"
   ]
  },
  {
   "cell_type": "code",
   "execution_count": 3,
   "id": "6b286cd0",
   "metadata": {},
   "outputs": [
    {
     "name": "stdout",
     "output_type": "stream",
     "text": [
      "<class 'set'>\n"
     ]
    }
   ],
   "source": [
    "print(type(my_set))"
   ]
  },
  {
   "cell_type": "code",
   "execution_count": 4,
   "id": "4212bbdf",
   "metadata": {},
   "outputs": [
    {
     "name": "stdout",
     "output_type": "stream",
     "text": [
      "<class 'dict'>\n"
     ]
    }
   ],
   "source": [
    "my_set = {}\n",
    "print(type(my_set))"
   ]
  },
  {
   "cell_type": "code",
   "execution_count": 7,
   "id": "227a731b",
   "metadata": {},
   "outputs": [
    {
     "name": "stdout",
     "output_type": "stream",
     "text": [
      "{'apple', 'pineapple', 'cherry', 'mango', 'watermelon'}\n"
     ]
    }
   ],
   "source": [
    "my_set = set({'apple','mango','cherry','watermelon','pineapple'})\n",
    "print(my_set)"
   ]
  },
  {
   "cell_type": "code",
   "execution_count": 8,
   "id": "37dae88a",
   "metadata": {},
   "outputs": [
    {
     "name": "stdout",
     "output_type": "stream",
     "text": [
      "<class 'set'>\n"
     ]
    }
   ],
   "source": [
    "print(type(my_set))"
   ]
  },
  {
   "cell_type": "code",
   "execution_count": 9,
   "id": "b42043c3",
   "metadata": {},
   "outputs": [
    {
     "name": "stdout",
     "output_type": "stream",
     "text": [
      "set()\n",
      "<class 'set'>\n"
     ]
    }
   ],
   "source": [
    "my_set = set({})\n",
    "print(my_set)\n",
    "print(type(my_set))"
   ]
  },
  {
   "cell_type": "markdown",
   "id": "09418a1c",
   "metadata": {},
   "source": [
    "### Duplicates are not allowed"
   ]
  },
  {
   "cell_type": "code",
   "execution_count": 10,
   "id": "21152ae2",
   "metadata": {},
   "outputs": [
    {
     "name": "stdout",
     "output_type": "stream",
     "text": [
      "{'apple', 'watermelon', 'mango', 'pineapple', 'cherry'}\n"
     ]
    }
   ],
   "source": [
    "my_set = {'apple','mango','cherry','watermelon','pineapple', 'apple', 'mango'}\n",
    "print(my_set)"
   ]
  },
  {
   "cell_type": "markdown",
   "id": "3ce6496a",
   "metadata": {},
   "source": [
    "### Get a Length of Set"
   ]
  },
  {
   "cell_type": "code",
   "execution_count": 11,
   "id": "7bddd871",
   "metadata": {},
   "outputs": [
    {
     "name": "stdout",
     "output_type": "stream",
     "text": [
      "5\n"
     ]
    }
   ],
   "source": [
    "my_set = {'apple','mango','cherry','watermelon','pineapple', 'apple', 'mango'}\n",
    "print(len(my_set))"
   ]
  },
  {
   "cell_type": "markdown",
   "id": "a02f8661",
   "metadata": {},
   "source": [
    "### Set Items - Data Type"
   ]
  },
  {
   "cell_type": "code",
   "execution_count": 12,
   "id": "5bd9a8a4",
   "metadata": {},
   "outputs": [],
   "source": [
    "my_set1 = {'apple','mango','cherry','pineapple','banana'}\n",
    "my_set2 = {10,20,30,40,50,60}\n",
    "my_set3 = {10.10,20.20,30.30}\n",
    "my_set4 = {True, False, True, True}"
   ]
  },
  {
   "cell_type": "code",
   "execution_count": 13,
   "id": "7e3f0044",
   "metadata": {},
   "outputs": [
    {
     "name": "stdout",
     "output_type": "stream",
     "text": [
      "{'apple', 'mango', 'pineapple', 'banana', 'cherry'}\n",
      "{40, 10, 50, 20, 60, 30}\n",
      "{10.1, 20.2, 30.3}\n",
      "{False, True}\n"
     ]
    }
   ],
   "source": [
    "print(my_set1)\n",
    "print(my_set2)\n",
    "print(my_set3)\n",
    "print(my_set4)"
   ]
  },
  {
   "cell_type": "code",
   "execution_count": 14,
   "id": "114a6f8e",
   "metadata": {},
   "outputs": [
    {
     "name": "stdout",
     "output_type": "stream",
     "text": [
      "<class 'set'>\n",
      "<class 'set'>\n",
      "<class 'set'>\n",
      "<class 'set'>\n"
     ]
    }
   ],
   "source": [
    "print(type(my_set1))\n",
    "print(type(my_set2))\n",
    "print(type(my_set3))\n",
    "print(type(my_set4))"
   ]
  },
  {
   "cell_type": "code",
   "execution_count": 15,
   "id": "938f87aa",
   "metadata": {},
   "outputs": [],
   "source": [
    "my_set = {'apple','mango','cherry',0.10,20.20,30.30,'pineapple',True, False,10,20,30,40}"
   ]
  },
  {
   "cell_type": "code",
   "execution_count": 16,
   "id": "cfd4068a",
   "metadata": {},
   "outputs": [
    {
     "name": "stdout",
     "output_type": "stream",
     "text": [
      "{0.1, True, 'apple', False, 40, 10, 'mango', 'pineapple', 20.2, 20, 30, 'cherry', 30.3}\n"
     ]
    }
   ],
   "source": [
    "print(my_set)"
   ]
  },
  {
   "cell_type": "code",
   "execution_count": 17,
   "id": "1400588a",
   "metadata": {},
   "outputs": [
    {
     "name": "stdout",
     "output_type": "stream",
     "text": [
      "<class 'set'>\n"
     ]
    }
   ],
   "source": [
    "print(type(my_set))"
   ]
  },
  {
   "cell_type": "markdown",
   "id": "15504793",
   "metadata": {},
   "source": [
    "# Access Elements"
   ]
  },
  {
   "cell_type": "code",
   "execution_count": 18,
   "id": "45bae531",
   "metadata": {},
   "outputs": [
    {
     "ename": "TypeError",
     "evalue": "'set' object is not subscriptable",
     "output_type": "error",
     "traceback": [
      "\u001b[1;31m---------------------------------------------------------------------------\u001b[0m",
      "\u001b[1;31mTypeError\u001b[0m                                 Traceback (most recent call last)",
      "\u001b[1;32m<ipython-input-18-03eaa49967ea>\u001b[0m in \u001b[0;36m<module>\u001b[1;34m\u001b[0m\n\u001b[0;32m      1\u001b[0m \u001b[0mmy_set1\u001b[0m \u001b[1;33m=\u001b[0m \u001b[1;33m{\u001b[0m\u001b[1;34m'apple'\u001b[0m\u001b[1;33m,\u001b[0m\u001b[1;34m'mango'\u001b[0m\u001b[1;33m,\u001b[0m\u001b[1;34m'cherry'\u001b[0m\u001b[1;33m,\u001b[0m\u001b[1;34m'pineapple'\u001b[0m\u001b[1;33m,\u001b[0m\u001b[1;34m'banana'\u001b[0m\u001b[1;33m}\u001b[0m\u001b[1;33m\u001b[0m\u001b[1;33m\u001b[0m\u001b[0m\n\u001b[0;32m      2\u001b[0m \u001b[1;33m\u001b[0m\u001b[0m\n\u001b[1;32m----> 3\u001b[1;33m \u001b[0mmy_set1\u001b[0m\u001b[1;33m[\u001b[0m\u001b[1;36m1\u001b[0m\u001b[1;33m]\u001b[0m\u001b[1;33m\u001b[0m\u001b[1;33m\u001b[0m\u001b[0m\n\u001b[0m",
      "\u001b[1;31mTypeError\u001b[0m: 'set' object is not subscriptable"
     ]
    }
   ],
   "source": [
    "my_set1 = {'apple','mango','cherry','pineapple','banana'}\n",
    "\n",
    "my_set1[1]"
   ]
  },
  {
   "cell_type": "code",
   "execution_count": 19,
   "id": "36912b14",
   "metadata": {},
   "outputs": [
    {
     "ename": "TypeError",
     "evalue": "'set' object is not subscriptable",
     "output_type": "error",
     "traceback": [
      "\u001b[1;31m---------------------------------------------------------------------------\u001b[0m",
      "\u001b[1;31mTypeError\u001b[0m                                 Traceback (most recent call last)",
      "\u001b[1;32m<ipython-input-19-fa30fd01ce18>\u001b[0m in \u001b[0;36m<module>\u001b[1;34m\u001b[0m\n\u001b[0;32m      1\u001b[0m \u001b[0mmy_set1\u001b[0m \u001b[1;33m=\u001b[0m \u001b[1;33m{\u001b[0m\u001b[1;34m'apple'\u001b[0m\u001b[1;33m,\u001b[0m\u001b[1;34m'mango'\u001b[0m\u001b[1;33m,\u001b[0m\u001b[1;34m'cherry'\u001b[0m\u001b[1;33m,\u001b[0m\u001b[1;34m'pineapple'\u001b[0m\u001b[1;33m,\u001b[0m\u001b[1;34m'banana'\u001b[0m\u001b[1;33m}\u001b[0m\u001b[1;33m\u001b[0m\u001b[1;33m\u001b[0m\u001b[0m\n\u001b[0;32m      2\u001b[0m \u001b[1;33m\u001b[0m\u001b[0m\n\u001b[1;32m----> 3\u001b[1;33m \u001b[0mmy_set1\u001b[0m\u001b[1;33m[\u001b[0m\u001b[1;34m'apple'\u001b[0m\u001b[1;33m]\u001b[0m\u001b[1;33m\u001b[0m\u001b[1;33m\u001b[0m\u001b[0m\n\u001b[0m",
      "\u001b[1;31mTypeError\u001b[0m: 'set' object is not subscriptable"
     ]
    }
   ],
   "source": [
    "my_set1 = {'apple','mango','cherry','pineapple','banana'}\n",
    "\n",
    "my_set1['apple']"
   ]
  },
  {
   "cell_type": "code",
   "execution_count": 20,
   "id": "82931cc8",
   "metadata": {},
   "outputs": [
    {
     "name": "stdout",
     "output_type": "stream",
     "text": [
      "apple\n",
      "mango\n",
      "pineapple\n",
      "banana\n",
      "cherry\n"
     ]
    }
   ],
   "source": [
    "my_set1 = {'apple','mango','cherry','pineapple','banana'}\n",
    "\n",
    "for i in my_set1:\n",
    "    print(i)"
   ]
  },
  {
   "cell_type": "code",
   "execution_count": 21,
   "id": "5f5e56fd",
   "metadata": {},
   "outputs": [
    {
     "name": "stdout",
     "output_type": "stream",
     "text": [
      "True\n"
     ]
    }
   ],
   "source": [
    "my_set1 = {'apple','mango','cherry','pineapple','banana'}\n",
    "\n",
    "print('apple' in my_set1)"
   ]
  },
  {
   "cell_type": "markdown",
   "id": "db879246",
   "metadata": {},
   "source": [
    "**Note: once set is created you cannot change set item, but you can addd new items**"
   ]
  },
  {
   "cell_type": "markdown",
   "id": "979b690d",
   "metadata": {},
   "source": [
    "### 1. Add Elements(add()method)"
   ]
  },
  {
   "cell_type": "code",
   "execution_count": 22,
   "id": "c78ebf84",
   "metadata": {},
   "outputs": [
    {
     "name": "stdout",
     "output_type": "stream",
     "text": [
      "{'apple', 'mango', 'pineapple', 'banana', 'orange', 'cherry'}\n"
     ]
    }
   ],
   "source": [
    "my_set1 = {'apple','mango','cherry','pineapple','banana'}\n",
    "\n",
    "my_set1.add('orange')\n",
    "print(my_set1)"
   ]
  },
  {
   "cell_type": "code",
   "execution_count": 25,
   "id": "9f3afd36",
   "metadata": {},
   "outputs": [
    {
     "name": "stdout",
     "output_type": "stream",
     "text": [
      "{'apple', 'papaya', 'mango', 'pineapple', 'banana', 'orange', 'cherry'}\n"
     ]
    }
   ],
   "source": [
    "\n",
    "my_set1.add('orange')\n",
    "print(my_set1)"
   ]
  },
  {
   "cell_type": "markdown",
   "id": "1d310701",
   "metadata": {},
   "source": [
    "### 2. Add sets (update())"
   ]
  },
  {
   "cell_type": "code",
   "execution_count": 26,
   "id": "d4aef13a",
   "metadata": {},
   "outputs": [
    {
     "name": "stdout",
     "output_type": "stream",
     "text": [
      "{'apple', 'papaya', 'kiwi', 'mango', 'pineapple', 'watermelon', 'banana', 'cherry'}\n"
     ]
    }
   ],
   "source": [
    "my_set1 = {'apple','mango','cherry','pineapple','banana','papaya'}\n",
    "my_set2 = {'apple','mango','pineapple','kiwi','watermelon'}\n",
    "\n",
    "my_set1.update(my_set2)\n",
    "print(my_set1)"
   ]
  },
  {
   "cell_type": "code",
   "execution_count": 27,
   "id": "9589ae14",
   "metadata": {},
   "outputs": [
    {
     "name": "stdout",
     "output_type": "stream",
     "text": [
      "8\n"
     ]
    }
   ],
   "source": [
    "print(len(my_set1))"
   ]
  },
  {
   "cell_type": "markdown",
   "id": "b1bf34f8",
   "metadata": {},
   "source": [
    "### 3. Add Iterable (update() method)"
   ]
  },
  {
   "cell_type": "code",
   "execution_count": 28,
   "id": "0033c0a3",
   "metadata": {},
   "outputs": [
    {
     "name": "stdout",
     "output_type": "stream",
     "text": [
      "{'apple', 'papaya', 'kiwi', 'mango', 'pineapple', 'watermelon', 'banana', 'cherry'}\n"
     ]
    }
   ],
   "source": [
    "my_set1 = {'apple','mango','cherry','pineapple','banana','papaya'}\n",
    "\n",
    "my_list = ['apple','mango','pineapple','kiwi','watermelon']\n",
    "\n",
    "my_set1.update(my_list)\n",
    "print(my_set1)"
   ]
  },
  {
   "cell_type": "code",
   "execution_count": null,
   "id": "14529041",
   "metadata": {},
   "outputs": [],
   "source": []
  }
 ],
 "metadata": {
  "kernelspec": {
   "display_name": "Python 3",
   "language": "python",
   "name": "python3"
  },
  "language_info": {
   "codemirror_mode": {
    "name": "ipython",
    "version": 3
   },
   "file_extension": ".py",
   "mimetype": "text/x-python",
   "name": "python",
   "nbconvert_exporter": "python",
   "pygments_lexer": "ipython3",
   "version": "3.8.8"
  }
 },
 "nbformat": 4,
 "nbformat_minor": 5
}
