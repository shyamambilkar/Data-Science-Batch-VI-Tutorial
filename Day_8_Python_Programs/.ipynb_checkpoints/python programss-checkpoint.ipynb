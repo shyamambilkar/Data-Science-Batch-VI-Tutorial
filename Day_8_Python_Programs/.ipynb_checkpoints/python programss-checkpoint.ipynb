{
 "cells": [
  {
   "cell_type": "raw",
   "id": "32c29009",
   "metadata": {},
   "source": [
    "*****\n",
    "*****\n",
    "*****\n",
    "*****\n",
    "*****"
   ]
  },
  {
   "cell_type": "code",
   "execution_count": 3,
   "id": "c077fa1e",
   "metadata": {},
   "outputs": [
    {
     "name": "stdout",
     "output_type": "stream",
     "text": [
      "* * * * * \n",
      "* * * * * \n",
      "* * * * * \n",
      "* * * * * \n",
      "* * * * * \n"
     ]
    }
   ],
   "source": [
    "for x in range(1, 6):\n",
    "    for y in range(1,6):\n",
    "        print(\"*\", end=\" \")\n",
    "    print()"
   ]
  },
  {
   "cell_type": "code",
   "execution_count": 6,
   "id": "3427e6be",
   "metadata": {},
   "outputs": [],
   "source": [
    "# 11111\n",
    "# 22222\n",
    "# 33333\n",
    "# 44444\n",
    "# 55555"
   ]
  },
  {
   "cell_type": "code",
   "execution_count": 7,
   "id": "db81a859",
   "metadata": {},
   "outputs": [
    {
     "name": "stdout",
     "output_type": "stream",
     "text": [
      "1 1 1 1 1 \n",
      "2 2 2 2 2 \n",
      "3 3 3 3 3 \n",
      "4 4 4 4 4 \n",
      "5 5 5 5 5 \n"
     ]
    }
   ],
   "source": [
    "for x in range(1, 6):\n",
    "    for y in range(1,6):\n",
    "        print(x, end=\" \")\n",
    "    print()"
   ]
  },
  {
   "cell_type": "code",
   "execution_count": 5,
   "id": "c821d9f5",
   "metadata": {},
   "outputs": [
    {
     "name": "stdout",
     "output_type": "stream",
     "text": [
      "1\n",
      "2\n",
      "3\n",
      "4\n",
      "5\n"
     ]
    }
   ],
   "source": []
  },
  {
   "cell_type": "raw",
   "id": "36f0d158",
   "metadata": {},
   "source": [
    "*\n",
    "* * \n",
    "* * *\n",
    "* * * *\n",
    "* * * * *"
   ]
  },
  {
   "cell_type": "code",
   "execution_count": 10,
   "id": "6c12a505",
   "metadata": {},
   "outputs": [
    {
     "name": "stdout",
     "output_type": "stream",
     "text": [
      "# \n",
      "# # \n",
      "# # # \n",
      "# # # # \n",
      "# # # # # \n"
     ]
    }
   ],
   "source": [
    "for x in range(1,6):\n",
    "    for y in range(1, x + 1):\n",
    "        print(\"#\", end=\" \")\n",
    "    print()"
   ]
  },
  {
   "cell_type": "code",
   "execution_count": 11,
   "id": "d3b49e14",
   "metadata": {},
   "outputs": [],
   "source": [
    "# Write a program to swapping two Numbers"
   ]
  },
  {
   "cell_type": "code",
   "execution_count": 13,
   "id": "ce2f10ae",
   "metadata": {},
   "outputs": [
    {
     "name": "stdout",
     "output_type": "stream",
     "text": [
      "Enter First Number: 14\n",
      "Enter Second Number: 26\n",
      "Before swapping Number X = 14 and Y = 26\n",
      "After Swapping Numbers are X =26 and Y= 14\n"
     ]
    }
   ],
   "source": [
    "x = int(input(\"Enter First Number: \"))\n",
    "y = int(input(\"Enter Second Number: \"))\n",
    "\n",
    "print(\"Before swapping Number X = {} and Y = {}\".format(x,y))\n",
    "\n",
    "temp = x\n",
    "x = y\n",
    "y = temp\n",
    "\n",
    "print(\"After Swapping Numbers are X ={} and Y= {}\".format(x,y))"
   ]
  },
  {
   "cell_type": "code",
   "execution_count": 15,
   "id": "80fba19b",
   "metadata": {},
   "outputs": [
    {
     "name": "stdout",
     "output_type": "stream",
     "text": [
      "Enter First Number: 14\n",
      "Enter Second Number: 25\n",
      "Before swapping Number X = 14 and Y = 25\n",
      "After Swapping Numbers are X =25 and Y= 14\n"
     ]
    }
   ],
   "source": [
    "x = int(input(\"Enter First Number: \"))\n",
    "y = int(input(\"Enter Second Number: \"))\n",
    "\n",
    "print(\"Before swapping Number X = {} and Y = {}\".format(x,y))\n",
    "\n",
    "x , y = y, x\n",
    "\n",
    "print(\"After Swapping Numbers are X ={} and Y= {}\".format(x,y))"
   ]
  },
  {
   "cell_type": "code",
   "execution_count": 17,
   "id": "ace31628",
   "metadata": {},
   "outputs": [
    {
     "name": "stdout",
     "output_type": "stream",
     "text": [
      "Enter First Number: 25\n",
      "Enter Second Number: 50\n",
      "Before swapping Number X = 25 and Y = 50\n",
      "After Swapping Numbers are X =50 and Y= 25\n"
     ]
    }
   ],
   "source": [
    "x = int(input(\"Enter First Number: \"))\n",
    "y = int(input(\"Enter Second Number: \"))\n",
    "\n",
    "print(\"Before swapping Number X = {} and Y = {}\".format(x,y))\n",
    "\n",
    "x = x + y\n",
    "y = x - y\n",
    "x = x - y \n",
    "\n",
    "print(\"After Swapping Numbers are X ={} and Y= {}\".format(x,y))"
   ]
  },
  {
   "cell_type": "code",
   "execution_count": 19,
   "id": "c58330fa",
   "metadata": {},
   "outputs": [],
   "source": [
    "# 25 + 50 = 75\n",
    "# y = 75 - 50 = y = 25\n",
    "# x = 75 - 25 = 50"
   ]
  },
  {
   "cell_type": "code",
   "execution_count": 20,
   "id": "17271136",
   "metadata": {},
   "outputs": [],
   "source": [
    "# Area of Circle"
   ]
  },
  {
   "cell_type": "code",
   "execution_count": 21,
   "id": "b4a368d2",
   "metadata": {},
   "outputs": [],
   "source": [
    "# 3.14 * r ** 2"
   ]
  },
  {
   "cell_type": "code",
   "execution_count": 35,
   "id": "30c65bea",
   "metadata": {},
   "outputs": [
    {
     "name": "stdout",
     "output_type": "stream",
     "text": [
      "Enter thr radius of Circle: 5\n",
      "Area of Circle of 5 are: 78.5\n"
     ]
    }
   ],
   "source": [
    "my_radius = int(input(\"Enter thr radius of Circle: \"))\n",
    "\n",
    "my_area = 3.14 * my_radius ** 2\n",
    "\n",
    "print(\"Area of Circle of {} are: {}\".format(my_radius,my_area))"
   ]
  },
  {
   "cell_type": "code",
   "execution_count": null,
   "id": "9264230b",
   "metadata": {},
   "outputs": [],
   "source": [
    "# BASE * HIGHT / 2"
   ]
  }
 ],
 "metadata": {
  "kernelspec": {
   "display_name": "Python 3",
   "language": "python",
   "name": "python3"
  },
  "language_info": {
   "codemirror_mode": {
    "name": "ipython",
    "version": 3
   },
   "file_extension": ".py",
   "mimetype": "text/x-python",
   "name": "python",
   "nbconvert_exporter": "python",
   "pygments_lexer": "ipython3",
   "version": "3.8.8"
  }
 },
 "nbformat": 4,
 "nbformat_minor": 5
}
