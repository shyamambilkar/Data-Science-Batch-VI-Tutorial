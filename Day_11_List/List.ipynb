{
 "cells": [
  {
   "cell_type": "code",
   "execution_count": 1,
   "id": "d38cdae2",
   "metadata": {},
   "outputs": [],
   "source": [
    "9my_list = ['apple','mango','cherry','watermelon','banana']"
   ]
  },
  {
   "cell_type": "code",
   "execution_count": 2,
   "id": "e2eb2610",
   "metadata": {},
   "outputs": [],
   "source": [
    "my_list.append('blackcurrent')"
   ]
  },
  {
   "cell_type": "code",
   "execution_count": 3,
   "id": "83fe1718",
   "metadata": {},
   "outputs": [
    {
     "data": {
      "text/plain": [
       "['apple', 'mango', 'cherry', 'watermelon', 'banana', 'blackcurrent']"
      ]
     },
     "execution_count": 3,
     "metadata": {},
     "output_type": "execute_result"
    }
   ],
   "source": [
    "my_list"
   ]
  },
  {
   "cell_type": "code",
   "execution_count": 4,
   "id": "974c4483",
   "metadata": {},
   "outputs": [],
   "source": [
    "my_list1 = [10,20,30,40,50,60]"
   ]
  },
  {
   "cell_type": "code",
   "execution_count": 5,
   "id": "36e88576",
   "metadata": {},
   "outputs": [],
   "source": [
    "my_list1.append(70)"
   ]
  },
  {
   "cell_type": "code",
   "execution_count": 6,
   "id": "22f956ce",
   "metadata": {},
   "outputs": [
    {
     "data": {
      "text/plain": [
       "[10, 20, 30, 40, 50, 60, 70]"
      ]
     },
     "execution_count": 6,
     "metadata": {},
     "output_type": "execute_result"
    }
   ],
   "source": [
    "my_list1"
   ]
  },
  {
   "cell_type": "code",
   "execution_count": 7,
   "id": "de68f97a",
   "metadata": {},
   "outputs": [],
   "source": [
    "my_list2 = ['apple','mango','cherry','watermelon','banana']"
   ]
  },
  {
   "cell_type": "code",
   "execution_count": 8,
   "id": "ddf2a0ff",
   "metadata": {},
   "outputs": [],
   "source": [
    "my_list2.append(45.12)"
   ]
  },
  {
   "cell_type": "code",
   "execution_count": 9,
   "id": "46cdafbb",
   "metadata": {},
   "outputs": [
    {
     "data": {
      "text/plain": [
       "['apple', 'mango', 'cherry', 'watermelon', 'banana', 45.12]"
      ]
     },
     "execution_count": 9,
     "metadata": {},
     "output_type": "execute_result"
    }
   ],
   "source": [
    "my_list2"
   ]
  },
  {
   "cell_type": "code",
   "execution_count": 10,
   "id": "6958ff64",
   "metadata": {},
   "outputs": [],
   "source": [
    "my_list2.append(True)"
   ]
  },
  {
   "cell_type": "code",
   "execution_count": 11,
   "id": "54143c21",
   "metadata": {},
   "outputs": [
    {
     "data": {
      "text/plain": [
       "['apple', 'mango', 'cherry', 'watermelon', 'banana', 45.12, True]"
      ]
     },
     "execution_count": 11,
     "metadata": {},
     "output_type": "execute_result"
    }
   ],
   "source": [
    "my_list2"
   ]
  },
  {
   "cell_type": "code",
   "execution_count": 12,
   "id": "9a048e11",
   "metadata": {},
   "outputs": [
    {
     "name": "stdout",
     "output_type": "stream",
     "text": [
      "<class 'list'>\n"
     ]
    }
   ],
   "source": [
    "print(type(my_list2))"
   ]
  },
  {
   "cell_type": "markdown",
   "id": "076bf145",
   "metadata": {},
   "source": [
    "## Insert Method"
   ]
  },
  {
   "cell_type": "code",
   "execution_count": 16,
   "id": "51b68683",
   "metadata": {},
   "outputs": [
    {
     "name": "stdout",
     "output_type": "stream",
     "text": [
      "['apple', 'mango', 'cherry', 'watermelon', 'banana']\n"
     ]
    }
   ],
   "source": [
    "my_list = ['apple','mango','cherry','watermelon','banana']\n",
    "print(my_list)\n",
    "my_list.insert(2,95.25)"
   ]
  },
  {
   "cell_type": "code",
   "execution_count": 14,
   "id": "54dd5412",
   "metadata": {},
   "outputs": [
    {
     "data": {
      "text/plain": [
       "['apple', 'mango', 95.25, 'cherry', 'watermelon', 'banana']"
      ]
     },
     "execution_count": 14,
     "metadata": {},
     "output_type": "execute_result"
    }
   ],
   "source": [
    "my_list"
   ]
  },
  {
   "cell_type": "markdown",
   "id": "ec701173",
   "metadata": {},
   "source": [
    "### Extend List"
   ]
  },
  {
   "cell_type": "code",
   "execution_count": 17,
   "id": "56551fd0",
   "metadata": {},
   "outputs": [
    {
     "name": "stdout",
     "output_type": "stream",
     "text": [
      "['apple', 'mango', 'cherry', 'watermelon', 'banana']\n",
      "[45.1, 22, True, 'Apple']\n",
      "['apple', 'mango', 'cherry', 'watermelon', 'banana', 45.1, 22, True, 'Apple']\n"
     ]
    }
   ],
   "source": [
    "my_list1 = ['apple','mango','cherry','watermelon','banana']\n",
    "my_list2 = [45.1,22, True, \"Apple\"]\n",
    "\n",
    "print(my_list1)\n",
    "print(my_list2)\n",
    "\n",
    "my_list1.extend(my_list2)\n",
    "print(my_list1)"
   ]
  },
  {
   "cell_type": "markdown",
   "id": "c1aa7277",
   "metadata": {},
   "source": [
    "## Remove List of Elements:\n",
    "    1. Remove:\n",
    "        1. Remove method is used for removes a specific elements in list\n",
    "    2. Pop\n",
    "    3. Delete"
   ]
  },
  {
   "cell_type": "code",
   "execution_count": 18,
   "id": "df3461eb",
   "metadata": {},
   "outputs": [
    {
     "name": "stdout",
     "output_type": "stream",
     "text": [
      "['apple', 'mango', 'cherry', 'watermelon', 'banana', 45.1, 22, True, 'Apple']\n",
      "['apple', 'mango', 'cherry', 'watermelon', 'banana', 45.1, 22, 'Apple']\n"
     ]
    }
   ],
   "source": [
    "my_list = ['apple', 'mango', 'cherry', 'watermelon', 'banana', 45.1, 22, True, 'Apple']\n",
    "\n",
    "print(my_list)\n",
    "my_list.remove(True)\n",
    "print(my_list)"
   ]
  },
  {
   "cell_type": "code",
   "execution_count": 19,
   "id": "6fbbf2a1",
   "metadata": {},
   "outputs": [
    {
     "name": "stdout",
     "output_type": "stream",
     "text": [
      "['apple', 'mango', 'cherry', 'watermelon', 'banana', 22, 'Apple']\n"
     ]
    }
   ],
   "source": [
    "my_list = ['apple', 'mango', 'cherry', 'watermelon', 'banana', 45.1, 22, 'Apple']\n",
    "\n",
    "my_list.remove(45.1)\n",
    "print(my_list)"
   ]
  },
  {
   "cell_type": "code",
   "execution_count": 21,
   "id": "9cd8d945",
   "metadata": {},
   "outputs": [
    {
     "name": "stdout",
     "output_type": "stream",
     "text": [
      "['mango', 'cherry', 'watermelon', 'banana', 45.1, 22, 'Apple']\n"
     ]
    }
   ],
   "source": [
    "my_list = ['apple', 'mango', 'cherry', 'watermelon', 'banana', 45.1, 22, 'Apple']\n",
    "\n",
    "my_list.remove(\"apple\")\n",
    "print(my_list)"
   ]
  },
  {
   "cell_type": "markdown",
   "id": "26a55a8b",
   "metadata": {},
   "source": [
    "#### 1. Pop Method:\n",
    "    1. Using Pop method removes specific elements\n",
    "    2. If you do not pass the indexing to pop method it removes last elements of list"
   ]
  },
  {
   "cell_type": "code",
   "execution_count": 22,
   "id": "d3fba1b4",
   "metadata": {},
   "outputs": [
    {
     "name": "stdout",
     "output_type": "stream",
     "text": [
      "['apple', 'mango', 'cherry', 'watermelon', 'banana', 45.1, 22]\n"
     ]
    }
   ],
   "source": [
    "my_list = ['apple', 'mango', 'cherry', 'watermelon', 'banana', 45.1, 22, 'Apple']\n",
    "\n",
    "my_list.pop()\n",
    "print(my_list)"
   ]
  },
  {
   "cell_type": "code",
   "execution_count": 23,
   "id": "7c958b5e",
   "metadata": {},
   "outputs": [
    {
     "name": "stdout",
     "output_type": "stream",
     "text": [
      "['apple', 'mango', 'cherry', 'watermelon', 'banana', 22, 'Apple']\n"
     ]
    }
   ],
   "source": [
    "my_list = ['apple', 'mango', 'cherry', 'watermelon', 'banana', 45.1, 22, 'Apple']\n",
    "\n",
    "my_list.pop(5)\n",
    "print(my_list)"
   ]
  },
  {
   "cell_type": "markdown",
   "id": "bd184b83",
   "metadata": {},
   "source": [
    "#### 3. Delete [del]"
   ]
  },
  {
   "cell_type": "code",
   "execution_count": 24,
   "id": "af389ac2",
   "metadata": {},
   "outputs": [
    {
     "name": "stdout",
     "output_type": "stream",
     "text": [
      "['apple', 'cherry', 'watermelon', 'banana', 45.1, 22, 'Apple']\n"
     ]
    }
   ],
   "source": [
    "my_list = ['apple', 'mango', 'cherry', 'watermelon', 'banana', 45.1, 22, 'Apple']\n",
    "\n",
    "del my_list[1]\n",
    "print(my_list)"
   ]
  },
  {
   "cell_type": "code",
   "execution_count": 25,
   "id": "d5756546",
   "metadata": {},
   "outputs": [],
   "source": [
    "my_list = ['apple', 'mango', 'cherry', 'watermelon', 'banana', 45.1, 22, 'Apple']\n",
    "\n",
    "del my_list"
   ]
  },
  {
   "cell_type": "code",
   "execution_count": 26,
   "id": "ffc537a7",
   "metadata": {},
   "outputs": [
    {
     "ename": "NameError",
     "evalue": "name 'my_list' is not defined",
     "output_type": "error",
     "traceback": [
      "\u001b[1;31m---------------------------------------------------------------------------\u001b[0m",
      "\u001b[1;31mNameError\u001b[0m                                 Traceback (most recent call last)",
      "\u001b[1;32m<ipython-input-26-9af163499740>\u001b[0m in \u001b[0;36m<module>\u001b[1;34m\u001b[0m\n\u001b[1;32m----> 1\u001b[1;33m \u001b[0mmy_list\u001b[0m\u001b[1;33m\u001b[0m\u001b[1;33m\u001b[0m\u001b[0m\n\u001b[0m",
      "\u001b[1;31mNameError\u001b[0m: name 'my_list' is not defined"
     ]
    }
   ],
   "source": [
    "my_list"
   ]
  },
  {
   "cell_type": "markdown",
   "id": "171b08af",
   "metadata": {},
   "source": [
    "### Clear Method"
   ]
  },
  {
   "cell_type": "code",
   "execution_count": 27,
   "id": "f9a924b8",
   "metadata": {},
   "outputs": [
    {
     "name": "stdout",
     "output_type": "stream",
     "text": [
      "[]\n"
     ]
    }
   ],
   "source": [
    "my_list = ['apple', 'mango', 'cherry', 'watermelon', 'banana', 45.1, 22, 'Apple']\n",
    "\n",
    "my_list.clear()\n",
    "print(my_list)"
   ]
  },
  {
   "cell_type": "markdown",
   "id": "394b68d0",
   "metadata": {},
   "source": [
    "# Loop List"
   ]
  },
  {
   "cell_type": "code",
   "execution_count": 29,
   "id": "52e8e153",
   "metadata": {},
   "outputs": [
    {
     "name": "stdout",
     "output_type": "stream",
     "text": [
      "['apple', 'mango', 'cherry', 'watermelon', 'banana']\n",
      "apple\n",
      "mango\n",
      "cherry\n",
      "watermelon\n",
      "banana\n"
     ]
    }
   ],
   "source": [
    "my_list = ['apple', 'mango', 'cherry', 'watermelon', 'banana']\n",
    "\n",
    "print(my_list)\n",
    "\n",
    "for i in my_list:\n",
    "    print(i)"
   ]
  },
  {
   "cell_type": "code",
   "execution_count": 33,
   "id": "26c651e6",
   "metadata": {},
   "outputs": [
    {
     "name": "stdout",
     "output_type": "stream",
     "text": [
      "0\n",
      "1\n",
      "2\n",
      "3\n",
      "4\n"
     ]
    }
   ],
   "source": [
    "my_list = ['apple', 'mango', 'cherry', 'watermelon', 'banana']\n",
    "\n",
    "for i in range(len(my_list)):\n",
    "    print(i)"
   ]
  },
  {
   "cell_type": "code",
   "execution_count": 31,
   "id": "a29e16b7",
   "metadata": {},
   "outputs": [
    {
     "data": {
      "text/plain": [
       "5"
      ]
     },
     "execution_count": 31,
     "metadata": {},
     "output_type": "execute_result"
    }
   ],
   "source": [
    "my_list = ['apple', 'mango', 'cherry', 'watermelon', 'banana']\n",
    "\n",
    "len(my_list)"
   ]
  },
  {
   "cell_type": "code",
   "execution_count": 39,
   "id": "f252f6df",
   "metadata": {},
   "outputs": [
    {
     "name": "stdout",
     "output_type": "stream",
     "text": [
      "apple\n",
      "mango\n",
      "cherry\n",
      "watermelon\n",
      "banana\n"
     ]
    }
   ],
   "source": [
    "print(my_list[0])\n",
    "print(my_list[1])\n",
    "print(my_list[2])\n",
    "print(my_list[3])\n",
    "print(my_list[4])"
   ]
  },
  {
   "cell_type": "markdown",
   "id": "5458fa9b",
   "metadata": {},
   "source": [
    "# 1. Sort List in Python"
   ]
  },
  {
   "cell_type": "code",
   "execution_count": 41,
   "id": "8c3cb38e",
   "metadata": {},
   "outputs": [
    {
     "name": "stdout",
     "output_type": "stream",
     "text": [
      "['apple', 'banana', 'blackcurrent', 'cherry', 'mango', 'papaya', 'watermelon']\n"
     ]
    }
   ],
   "source": [
    "my_list = ['apple', 'mango', 'cherry', 'watermelon', 'banana','blackcurrent','papaya']\n",
    "\n",
    "my_list.sort()\n",
    "print(my_list)"
   ]
  },
  {
   "cell_type": "code",
   "execution_count": 43,
   "id": "e9f0eb7e",
   "metadata": {},
   "outputs": [
    {
     "name": "stdout",
     "output_type": "stream",
     "text": [
      "['APPLE', 'MANGO', 'apple', 'banana', 'blackcurrent', 'cherry', 'mango', 'papaya', 'watermelon']\n"
     ]
    }
   ],
   "source": [
    "my_list = ['apple','MANGO', 'mango', 'cherry', 'watermelon', 'banana','blackcurrent','papaya','APPLE']\n",
    "\n",
    "my_list.sort()\n",
    "print(my_list)"
   ]
  },
  {
   "cell_type": "code",
   "execution_count": 44,
   "id": "bc92321c",
   "metadata": {},
   "outputs": [
    {
     "name": "stdout",
     "output_type": "stream",
     "text": [
      "[5, 7, 10, 20, 26, 36, 42, 45]\n"
     ]
    }
   ],
   "source": [
    "my_list = [45,26,42,36,10,20,5,7]\n",
    "\n",
    "my_list.sort()\n",
    "print(my_list)"
   ]
  },
  {
   "cell_type": "code",
   "execution_count": 47,
   "id": "d41c29af",
   "metadata": {},
   "outputs": [
    {
     "name": "stdout",
     "output_type": "stream",
     "text": [
      "[45, 42, 36, 26, 20, 10, 7, 5]\n"
     ]
    }
   ],
   "source": [
    "my_list = [45,26,42,36,10,20,5,7]\n",
    "\n",
    "my_list.sort(reverse=True)\n",
    "print(my_list)"
   ]
  },
  {
   "cell_type": "code",
   "execution_count": 48,
   "id": "ce681339",
   "metadata": {},
   "outputs": [
    {
     "name": "stdout",
     "output_type": "stream",
     "text": [
      "['watermelon', 'papaya', 'mango', 'cherry', 'blackcurrent', 'banana', 'apple']\n"
     ]
    }
   ],
   "source": [
    "my_list = ['apple', 'mango', 'cherry', 'watermelon', 'banana','blackcurrent','papaya']\n",
    "\n",
    "my_list.sort(reverse=True)\n",
    "print(my_list)"
   ]
  },
  {
   "cell_type": "code",
   "execution_count": 49,
   "id": "86c1d265",
   "metadata": {},
   "outputs": [
    {
     "name": "stdout",
     "output_type": "stream",
     "text": [
      "[20, 10, 7, 5, 26, 36, 42, 45]\n"
     ]
    }
   ],
   "source": [
    "def my_funct(n):\n",
    "    return abs(n - 15)\n",
    "\n",
    "# Driver Code\n",
    "my_list = [45, 42, 36, 26, 20, 10, 7, 5]\n",
    "my_list.sort(key= my_funct)\n",
    "print(my_list)\n",
    "\n"
   ]
  },
  {
   "cell_type": "code",
   "execution_count": 52,
   "id": "73d4edbc",
   "metadata": {},
   "outputs": [
    {
     "name": "stdout",
     "output_type": "stream",
     "text": [
      "[50, 40, 60, 70, 30, 20, 80, 90, 10, 100]\n"
     ]
    }
   ],
   "source": [
    "def my_funct(n):\n",
    "    return abs(n - 50)\n",
    "\n",
    "# Driver Code\n",
    "my_list = [40,60,70,90,10,30,20,50,100,80]\n",
    "my_list.sort(key= my_funct)\n",
    "print(my_list)\n",
    "\n"
   ]
  },
  {
   "cell_type": "code",
   "execution_count": 53,
   "id": "8c4c06f0",
   "metadata": {},
   "outputs": [
    {
     "data": {
      "text/plain": [
       "0"
      ]
     },
     "execution_count": 53,
     "metadata": {},
     "output_type": "execute_result"
    }
   ],
   "source": [
    "my_list.index(50)"
   ]
  },
  {
   "cell_type": "code",
   "execution_count": 55,
   "id": "d4ed523a",
   "metadata": {},
   "outputs": [
    {
     "data": {
      "text/plain": [
       "2"
      ]
     },
     "execution_count": 55,
     "metadata": {},
     "output_type": "execute_result"
    }
   ],
   "source": [
    "my_list = ['apple','mango','cherry','watermelon','banana']\n",
    "\n",
    "my_list.index('cherry')"
   ]
  },
  {
   "cell_type": "code",
   "execution_count": 56,
   "id": "1b78922b",
   "metadata": {},
   "outputs": [
    {
     "data": {
      "text/plain": [
       "'cherry'"
      ]
     },
     "execution_count": 56,
     "metadata": {},
     "output_type": "execute_result"
    }
   ],
   "source": [
    "my_list[2]"
   ]
  },
  {
   "cell_type": "code",
   "execution_count": null,
   "id": "7b9a0497",
   "metadata": {},
   "outputs": [],
   "source": []
  }
 ],
 "metadata": {
  "kernelspec": {
   "display_name": "Python 3",
   "language": "python",
   "name": "python3"
  },
  "language_info": {
   "codemirror_mode": {
    "name": "ipython",
    "version": 3
   },
   "file_extension": ".py",
   "mimetype": "text/x-python",
   "name": "python",
   "nbconvert_exporter": "python",
   "pygments_lexer": "ipython3",
   "version": "3.8.8"
  }
 },
 "nbformat": 4,
 "nbformat_minor": 5
}
