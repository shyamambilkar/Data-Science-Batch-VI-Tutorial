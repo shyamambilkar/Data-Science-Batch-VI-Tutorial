{
 "cells": [
  {
   "cell_type": "markdown",
   "id": "7529ad84",
   "metadata": {},
   "source": [
    "# accessing Elements in Dictionary"
   ]
  },
  {
   "cell_type": "code",
   "execution_count": 1,
   "id": "055f6930",
   "metadata": {},
   "outputs": [],
   "source": [
    "my_dict = {'name':'Shyam',\n",
    "          'post':'Data Scientist',\n",
    "          'salary':45000,\n",
    "          'location':'Pune',\n",
    "          'company_name':'Amdocs'}"
   ]
  },
  {
   "cell_type": "code",
   "execution_count": 2,
   "id": "5af38a37",
   "metadata": {},
   "outputs": [
    {
     "name": "stdout",
     "output_type": "stream",
     "text": [
      "{'name': 'Shyam', 'post': 'Data Scientist', 'salary': 45000, 'location': 'Pune', 'company_name': 'Amdocs'}\n"
     ]
    }
   ],
   "source": [
    "print(my_dict)"
   ]
  },
  {
   "cell_type": "code",
   "execution_count": 3,
   "id": "eae072f3",
   "metadata": {},
   "outputs": [
    {
     "data": {
      "text/plain": [
       "{'name': 'Shyam',\n",
       " 'post': 'Data Scientist',\n",
       " 'salary': 45000,\n",
       " 'location': 'Pune',\n",
       " 'company_name': 'Amdocs'}"
      ]
     },
     "execution_count": 3,
     "metadata": {},
     "output_type": "execute_result"
    }
   ],
   "source": [
    "my_dict"
   ]
  },
  {
   "cell_type": "code",
   "execution_count": 4,
   "id": "481d0c84",
   "metadata": {},
   "outputs": [
    {
     "name": "stdout",
     "output_type": "stream",
     "text": [
      "45000\n"
     ]
    }
   ],
   "source": [
    "x  = my_dict['salary']\n",
    "print(x)"
   ]
  },
  {
   "cell_type": "code",
   "execution_count": 5,
   "id": "d0de5a4c",
   "metadata": {},
   "outputs": [
    {
     "name": "stdout",
     "output_type": "stream",
     "text": [
      "Pune\n"
     ]
    }
   ],
   "source": [
    "x = my_dict.get('location')\n",
    "print(x)"
   ]
  },
  {
   "cell_type": "markdown",
   "id": "f149b8a1",
   "metadata": {},
   "source": [
    "# Access only keys"
   ]
  },
  {
   "cell_type": "code",
   "execution_count": 6,
   "id": "798dc533",
   "metadata": {},
   "outputs": [
    {
     "name": "stdout",
     "output_type": "stream",
     "text": [
      "dict_keys(['name', 'post', 'salary', 'location', 'company_name'])\n"
     ]
    }
   ],
   "source": [
    "x = my_dict.keys()\n",
    "print(x)"
   ]
  },
  {
   "cell_type": "code",
   "execution_count": 7,
   "id": "432f533e",
   "metadata": {},
   "outputs": [
    {
     "name": "stdout",
     "output_type": "stream",
     "text": [
      "dict_keys(['name', 'post', 'salary', 'location', 'company_name'])\n",
      "dict_keys(['name', 'post', 'salary', 'location', 'company_name', 'HO'])\n"
     ]
    }
   ],
   "source": [
    "my_dict = {'name':'Shyam',\n",
    "          'post':'Data Scientist',\n",
    "          'salary':45000,\n",
    "          'location':'Pune',\n",
    "          'company_name':'Amdocs'}\n",
    "\n",
    "\n",
    "x = my_dict.keys()\n",
    "print(x)\n",
    "\n",
    "my_dict['HO'] = 'Nagpur'\n",
    "\n",
    "print(x)"
   ]
  },
  {
   "cell_type": "markdown",
   "id": "9b1db28e",
   "metadata": {},
   "source": [
    "# Return only values of Keys"
   ]
  },
  {
   "cell_type": "code",
   "execution_count": 8,
   "id": "158f9d0b",
   "metadata": {},
   "outputs": [],
   "source": [
    "my_dict = {'name':'Shyam',\n",
    "          'post':'Data Scientist',\n",
    "          'salary':45000,\n",
    "          'location':'Pune',\n",
    "          'company_name':'Amdocs'}"
   ]
  },
  {
   "cell_type": "code",
   "execution_count": 9,
   "id": "d9d9aea1",
   "metadata": {},
   "outputs": [
    {
     "name": "stdout",
     "output_type": "stream",
     "text": [
      "dict_values(['Shyam', 'Data Scientist', 45000, 'Pune', 'Amdocs'])\n"
     ]
    }
   ],
   "source": [
    "x = my_dict.values()\n",
    "print(x)"
   ]
  },
  {
   "cell_type": "code",
   "execution_count": 10,
   "id": "0dace881",
   "metadata": {},
   "outputs": [
    {
     "name": "stdout",
     "output_type": "stream",
     "text": [
      "dict_values(['Shyam', 'Data Scientist', 45000, 'Pune', 'Amdocs'])\n",
      "dict_values(['Shyam', 'Data Scientist', 45000, 'Pune', 'Amdocs', 2022])\n"
     ]
    }
   ],
   "source": [
    "my_dict = {'name':'Shyam',\n",
    "          'post':'Data Scientist',\n",
    "          'salary':45000,\n",
    "          'location':'Pune',\n",
    "          'company_name':'Amdocs'}\n",
    "\n",
    "x = my_dict.values()\n",
    "print(x)\n",
    "\n",
    "my_dict['year'] = 2022\n",
    "print(x)"
   ]
  },
  {
   "cell_type": "markdown",
   "id": "2d6c1355",
   "metadata": {},
   "source": [
    "## Get Values in Dictionary using - items() method"
   ]
  },
  {
   "cell_type": "code",
   "execution_count": 11,
   "id": "c91d7371",
   "metadata": {},
   "outputs": [
    {
     "name": "stdout",
     "output_type": "stream",
     "text": [
      "dict_items([('name', 'Shyam'), ('post', 'Data Scientist'), ('salary', 45000), ('location', 'Pune'), ('company_name', 'Amdocs'), ('year', 2022)])\n"
     ]
    }
   ],
   "source": [
    "x = my_dict.items()\n",
    "print(x)"
   ]
  },
  {
   "cell_type": "code",
   "execution_count": 12,
   "id": "e5ef5bd8",
   "metadata": {},
   "outputs": [
    {
     "name": "stdout",
     "output_type": "stream",
     "text": [
      "dict_items([('name', 'Shyam'), ('post', 'Data Scientist'), ('salary', 45000), ('location', 'Pune'), ('company_name', 'Amdocs')])\n",
      "dict_items([('name', 'Shyam'), ('post', 'Data Scientist'), ('salary', 45000), ('location', 'Pune'), ('company_name', 'Amdocs'), ('year', 2022)])\n"
     ]
    }
   ],
   "source": [
    "my_dict = {'name':'Shyam',\n",
    "          'post':'Data Scientist',\n",
    "          'salary':45000,\n",
    "          'location':'Pune',\n",
    "          'company_name':'Amdocs'}\n",
    "\n",
    "x = my_dict.items()\n",
    "print(x)\n",
    "\n",
    "my_dict['year'] = 2022\n",
    "print(x)"
   ]
  },
  {
   "cell_type": "code",
   "execution_count": 15,
   "id": "97034dad",
   "metadata": {},
   "outputs": [
    {
     "name": "stdout",
     "output_type": "stream",
     "text": [
      "Not Present\n"
     ]
    }
   ],
   "source": [
    "my_dict = {'name':'Shyam',\n",
    "          'post':'Data Scientist',\n",
    "          'salary':45000,\n",
    "          'location':'Pune',\n",
    "          'company_name':'Amdocs'}\n",
    "\n",
    "if 'HO' in my_dict:\n",
    "    print(\"Yes Keys are Present\")\n",
    "else:\n",
    "    print(\"Not Present\")"
   ]
  },
  {
   "cell_type": "markdown",
   "id": "113fd826",
   "metadata": {},
   "source": [
    "# Change Dictionary Elements"
   ]
  },
  {
   "cell_type": "code",
   "execution_count": 16,
   "id": "82772c3c",
   "metadata": {},
   "outputs": [],
   "source": [
    "my_dict = {'name':'Shyam',\n",
    "          'post':'Data Scientist',\n",
    "          'salary':45000,\n",
    "          'location':'Pune',\n",
    "          'company_name':'Amdocs'}\n",
    "\n",
    "my_dict['company_name'] = 'Cognizant'"
   ]
  },
  {
   "cell_type": "code",
   "execution_count": 17,
   "id": "c9ab6d86",
   "metadata": {},
   "outputs": [
    {
     "name": "stdout",
     "output_type": "stream",
     "text": [
      "{'name': 'Shyam', 'post': 'Data Scientist', 'salary': 45000, 'location': 'Pune', 'company_name': 'Cognizant'}\n"
     ]
    }
   ],
   "source": [
    "print(my_dict)"
   ]
  },
  {
   "cell_type": "code",
   "execution_count": 18,
   "id": "0f65795b",
   "metadata": {},
   "outputs": [
    {
     "name": "stdout",
     "output_type": "stream",
     "text": [
      "{'name': 'Shyam', 'post': 'Data Scientist', 'salary': 45000, 'location': 'Benglore', 'company_name': 'Amdocs'}\n"
     ]
    }
   ],
   "source": [
    "my_dict = {'name':'Shyam',\n",
    "          'post':'Data Scientist',\n",
    "          'salary':45000,\n",
    "          'location':'Pune',\n",
    "          'company_name':'Amdocs'}\n",
    "\n",
    "my_dict.update({'location':'Benglore'})\n",
    "print(my_dict)"
   ]
  },
  {
   "cell_type": "markdown",
   "id": "9630fbb4",
   "metadata": {},
   "source": [
    "# Add elements in Dictionary"
   ]
  },
  {
   "cell_type": "code",
   "execution_count": 19,
   "id": "a467599c",
   "metadata": {},
   "outputs": [
    {
     "name": "stdout",
     "output_type": "stream",
     "text": [
      "{'name': 'Rahul', 'post': 'Data Scientist', 'salary': 45000, 'location': 'Pune', 'company_name': 'Amdocs'}\n"
     ]
    }
   ],
   "source": [
    "my_dict = {'name':'Shyam',\n",
    "          'post':'Data Scientist',\n",
    "          'salary':45000,\n",
    "          'location':'Pune',\n",
    "          'company_name':'Amdocs',\n",
    "          'name':'Rahul'}\n",
    "\n",
    "print(my_dict)"
   ]
  },
  {
   "cell_type": "code",
   "execution_count": 20,
   "id": "cedfc0ba",
   "metadata": {},
   "outputs": [
    {
     "name": "stdout",
     "output_type": "stream",
     "text": [
      "{'name': 'Shyam', 'post': 'Data Scientist', 'salary': 45000, 'location': 'Pune', 'company_name': 'Amdocs', 'HO': 'Mumbai'}\n"
     ]
    }
   ],
   "source": [
    "my_dict = {'name':'Shyam',\n",
    "          'post':'Data Scientist',\n",
    "          'salary':45000,\n",
    "          'location':'Pune',\n",
    "          'company_name':'Amdocs'}\n",
    "\n",
    "my_dict['HO'] = 'Mumbai'\n",
    "print(my_dict)"
   ]
  },
  {
   "cell_type": "code",
   "execution_count": 21,
   "id": "7c36cc3e",
   "metadata": {},
   "outputs": [
    {
     "ename": "SyntaxError",
     "evalue": "invalid syntax (<ipython-input-21-afa15e3b9890>, line 7)",
     "output_type": "error",
     "traceback": [
      "\u001b[1;36m  File \u001b[1;32m\"<ipython-input-21-afa15e3b9890>\"\u001b[1;36m, line \u001b[1;32m7\u001b[0m\n\u001b[1;33m    my_dict.update('Head_Office':'Nagpur')\u001b[0m\n\u001b[1;37m                                ^\u001b[0m\n\u001b[1;31mSyntaxError\u001b[0m\u001b[1;31m:\u001b[0m invalid syntax\n"
     ]
    }
   ],
   "source": [
    "my_dict = {'name':'Shyam',\n",
    "          'post':'Data Scientist',\n",
    "          'salary':45000,\n",
    "          'location':'Pune',\n",
    "          'company_name':'Amdocs'}\n",
    "\n",
    "my_dict.update('Head_Office':'Nagpur')"
   ]
  },
  {
   "cell_type": "code",
   "execution_count": 22,
   "id": "28e542bb",
   "metadata": {},
   "outputs": [],
   "source": [
    "my_dict = {'name':'Shyam',\n",
    "          'post':'Data Scientist',\n",
    "          'salary':45000,\n",
    "          'location':'Pune',\n",
    "          'company_name':'Amdocs'}\n",
    "\n",
    "my_dict.update({'Head_Office':'Nagpur'})"
   ]
  },
  {
   "cell_type": "code",
   "execution_count": 23,
   "id": "4ef06a0d",
   "metadata": {},
   "outputs": [
    {
     "name": "stdout",
     "output_type": "stream",
     "text": [
      "{'name': 'Shyam', 'post': 'Data Scientist', 'salary': 45000, 'location': 'Pune', 'company_name': 'Amdocs', 'Head_Office': 'Nagpur'}\n"
     ]
    }
   ],
   "source": [
    "print(my_dict)"
   ]
  },
  {
   "cell_type": "markdown",
   "id": "5cf01d92",
   "metadata": {},
   "source": [
    "# Remove elements in Dictionary"
   ]
  },
  {
   "cell_type": "code",
   "execution_count": 24,
   "id": "5fbce6f0",
   "metadata": {},
   "outputs": [
    {
     "data": {
      "text/plain": [
       "{'name': 'Shyam',\n",
       " 'post': 'Data Scientist',\n",
       " 'salary': 45000,\n",
       " 'location': 'Pune',\n",
       " 'company_name': 'Amdocs',\n",
       " 'Head_Office': 'Nagpur'}"
      ]
     },
     "execution_count": 24,
     "metadata": {},
     "output_type": "execute_result"
    }
   ],
   "source": [
    "my_dict"
   ]
  },
  {
   "cell_type": "code",
   "execution_count": 26,
   "id": "7615a6c1",
   "metadata": {},
   "outputs": [
    {
     "name": "stdout",
     "output_type": "stream",
     "text": [
      "{'name': 'Shyam', 'post': 'Data Scientist', 'salary': 45000, 'location': 'Pune', 'company_name': 'Amdocs'}\n"
     ]
    }
   ],
   "source": [
    "my_dict = {'name': 'Shyam',\n",
    "     'post': 'Data Scientist',\n",
    "     'salary': 45000,\n",
    "     'location': 'Pune',\n",
    "     'company_name': 'Amdocs',\n",
    "     'Head_Office': 'Nagpur'}\n",
    "\n",
    "\n",
    "my_dict.pop('Head_Office')\n",
    "print(my_dict)"
   ]
  },
  {
   "cell_type": "code",
   "execution_count": 30,
   "id": "0174b790",
   "metadata": {},
   "outputs": [
    {
     "ename": "KeyError",
     "evalue": "'Amdocs'",
     "output_type": "error",
     "traceback": [
      "\u001b[1;31m---------------------------------------------------------------------------\u001b[0m",
      "\u001b[1;31mKeyError\u001b[0m                                  Traceback (most recent call last)",
      "\u001b[1;32m<ipython-input-30-e313c2c5cfe1>\u001b[0m in \u001b[0;36m<module>\u001b[1;34m\u001b[0m\n\u001b[0;32m      6\u001b[0m      'Head_Office': 'Nagpur'}\n\u001b[0;32m      7\u001b[0m \u001b[1;33m\u001b[0m\u001b[0m\n\u001b[1;32m----> 8\u001b[1;33m \u001b[0mmy_dict\u001b[0m\u001b[1;33m.\u001b[0m\u001b[0mpop\u001b[0m\u001b[1;33m(\u001b[0m\u001b[1;34m'Amdocs'\u001b[0m\u001b[1;33m)\u001b[0m\u001b[1;33m\u001b[0m\u001b[1;33m\u001b[0m\u001b[0m\n\u001b[0m\u001b[0;32m      9\u001b[0m \u001b[0mprint\u001b[0m\u001b[1;33m(\u001b[0m\u001b[0mmy_dict\u001b[0m\u001b[1;33m)\u001b[0m\u001b[1;33m\u001b[0m\u001b[1;33m\u001b[0m\u001b[0m\n",
      "\u001b[1;31mKeyError\u001b[0m: 'Amdocs'"
     ]
    }
   ],
   "source": [
    "my_dict = {'name': 'Shyam',\n",
    "     'post': 'Data Scientist',\n",
    "     'salary': 45000,\n",
    "     'location': 'Pune',\n",
    "     'company_name': 'Amdocs',\n",
    "     'Head_Office': 'Nagpur'}\n",
    "\n",
    "my_dict.pop('Amdocs')\n",
    "print(my_dict)"
   ]
  },
  {
   "cell_type": "code",
   "execution_count": 31,
   "id": "20e8372f",
   "metadata": {},
   "outputs": [
    {
     "name": "stdout",
     "output_type": "stream",
     "text": [
      "{'name': 'Shyam', 'post': 'Data Scientist', 'salary': 45000, 'location': 'Pune', 'company_name': 'Amdocs'}\n"
     ]
    }
   ],
   "source": [
    "my_dict = {'name': 'Shyam',\n",
    "     'post': 'Data Scientist',\n",
    "     'salary': 45000,\n",
    "     'location': 'Pune',\n",
    "     'company_name': 'Amdocs',\n",
    "     'Head_Office': 'Nagpur'}\n",
    "\n",
    "my_dict.popitem()\n",
    "print(my_dict)"
   ]
  },
  {
   "cell_type": "code",
   "execution_count": 33,
   "id": "3f8b825f",
   "metadata": {},
   "outputs": [
    {
     "name": "stdout",
     "output_type": "stream",
     "text": [
      "{'name': 'Shyam', 'post': 'Data Scientist', 'salary': 45000, 'location': 'Pune', 'company_name': 'Amdocs', 'Head_Office': 'Nagpur'}\n",
      "{'name': 'Shyam', 'post': 'Data Scientist', 'salary': 45000, 'location': 'Pune', 'company_name': 'Amdocs'}\n"
     ]
    }
   ],
   "source": [
    "my_dict = {'name': 'Shyam',\n",
    "     'post': 'Data Scientist',\n",
    "     'salary': 45000,\n",
    "     'location': 'Pune',\n",
    "     'company_name': 'Amdocs',\n",
    "     'Head_Office': 'Nagpur'}\n",
    "\n",
    "print(my_dict)\n",
    "\n",
    "# after the deleting\n",
    "del my_dict['Head_Office']\n",
    "print(my_dict)"
   ]
  },
  {
   "cell_type": "code",
   "execution_count": 34,
   "id": "af24e8ed",
   "metadata": {},
   "outputs": [
    {
     "name": "stdout",
     "output_type": "stream",
     "text": [
      "{}\n"
     ]
    }
   ],
   "source": [
    "my_dict = {'name': 'Shyam',\n",
    "     'post': 'Data Scientist',\n",
    "     'salary': 45000,\n",
    "     'location': 'Pune',\n",
    "     'company_name': 'Amdocs',\n",
    "     'Head_Office': 'Nagpur'}\n",
    "\n",
    "my_dict.clear()\n",
    "print(my_dict)"
   ]
  },
  {
   "cell_type": "code",
   "execution_count": 36,
   "id": "23564d08",
   "metadata": {},
   "outputs": [
    {
     "name": "stdout",
     "output_type": "stream",
     "text": [
      "<class 'dict'>\n"
     ]
    }
   ],
   "source": [
    "print(type(my_dict))"
   ]
  },
  {
   "cell_type": "code",
   "execution_count": 37,
   "id": "4f09c21e",
   "metadata": {},
   "outputs": [
    {
     "ename": "NameError",
     "evalue": "name 'my_dict' is not defined",
     "output_type": "error",
     "traceback": [
      "\u001b[1;31m---------------------------------------------------------------------------\u001b[0m",
      "\u001b[1;31mNameError\u001b[0m                                 Traceback (most recent call last)",
      "\u001b[1;32m<ipython-input-37-b4665c7c9513>\u001b[0m in \u001b[0;36m<module>\u001b[1;34m\u001b[0m\n\u001b[0;32m      7\u001b[0m \u001b[1;33m\u001b[0m\u001b[0m\n\u001b[0;32m      8\u001b[0m \u001b[1;32mdel\u001b[0m \u001b[0mmy_dict\u001b[0m\u001b[1;33m\u001b[0m\u001b[1;33m\u001b[0m\u001b[0m\n\u001b[1;32m----> 9\u001b[1;33m \u001b[0mprint\u001b[0m\u001b[1;33m(\u001b[0m\u001b[0mmy_dict\u001b[0m\u001b[1;33m)\u001b[0m\u001b[1;33m\u001b[0m\u001b[1;33m\u001b[0m\u001b[0m\n\u001b[0m",
      "\u001b[1;31mNameError\u001b[0m: name 'my_dict' is not defined"
     ]
    }
   ],
   "source": [
    "my_dict = {'name': 'Shyam',\n",
    "     'post': 'Data Scientist',\n",
    "     'salary': 45000,\n",
    "     'location': 'Pune',\n",
    "     'company_name': 'Amdocs',\n",
    "     'Head_Office': 'Nagpur'}\n",
    "\n",
    "del my_dict\n",
    "print(my_dict)"
   ]
  },
  {
   "cell_type": "markdown",
   "id": "1d089338",
   "metadata": {},
   "source": [
    "# Loop through dictionary"
   ]
  },
  {
   "cell_type": "code",
   "execution_count": 38,
   "id": "d4905b16",
   "metadata": {},
   "outputs": [],
   "source": [
    "my_dict = {'name': 'Shyam',\n",
    "     'post': 'Data Scientist',\n",
    "     'salary': 45000,\n",
    "     'location': 'Pune',\n",
    "     'company_name': 'Amdocs',\n",
    "     'Head_Office': 'Nagpur'}"
   ]
  },
  {
   "cell_type": "markdown",
   "id": "13ee0859",
   "metadata": {},
   "source": [
    "**Print all Keys in dictionary one by one**"
   ]
  },
  {
   "cell_type": "code",
   "execution_count": 39,
   "id": "fbc49465",
   "metadata": {},
   "outputs": [
    {
     "name": "stdout",
     "output_type": "stream",
     "text": [
      "name\n",
      "post\n",
      "salary\n",
      "location\n",
      "company_name\n",
      "Head_Office\n"
     ]
    }
   ],
   "source": [
    "for x in my_dict:\n",
    "    print(x)"
   ]
  },
  {
   "cell_type": "code",
   "execution_count": 43,
   "id": "366cceff",
   "metadata": {},
   "outputs": [
    {
     "name": "stdout",
     "output_type": "stream",
     "text": [
      "name\n",
      "post\n",
      "salary\n",
      "location\n",
      "company_name\n",
      "Head_Office\n"
     ]
    }
   ],
   "source": [
    "for x in my_dict.keys():\n",
    "    print(x)"
   ]
  },
  {
   "cell_type": "markdown",
   "id": "3fdbe520",
   "metadata": {},
   "source": [
    "**Print all values in dictionary one by one**"
   ]
  },
  {
   "cell_type": "code",
   "execution_count": 41,
   "id": "5ad1b9fe",
   "metadata": {},
   "outputs": [
    {
     "name": "stdout",
     "output_type": "stream",
     "text": [
      "Shyam\n",
      "Data Scientist\n",
      "45000\n",
      "Pune\n",
      "Amdocs\n",
      "Nagpur\n"
     ]
    }
   ],
   "source": [
    "for x in my_dict:\n",
    "    print(my_dict[x])"
   ]
  },
  {
   "cell_type": "code",
   "execution_count": 42,
   "id": "4a7bd996",
   "metadata": {},
   "outputs": [
    {
     "name": "stdout",
     "output_type": "stream",
     "text": [
      "Shyam\n",
      "Data Scientist\n",
      "45000\n",
      "Pune\n",
      "Amdocs\n",
      "Nagpur\n"
     ]
    }
   ],
   "source": [
    "for x in my_dict.values():\n",
    "    print(x)"
   ]
  },
  {
   "cell_type": "markdown",
   "id": "71888a09",
   "metadata": {},
   "source": [
    "**Print all Keys and values in dictionary one by one using items() method**"
   ]
  },
  {
   "cell_type": "code",
   "execution_count": 44,
   "id": "44e4d650",
   "metadata": {},
   "outputs": [
    {
     "name": "stdout",
     "output_type": "stream",
     "text": [
      "name Shyam\n",
      "post Data Scientist\n",
      "salary 45000\n",
      "location Pune\n",
      "company_name Amdocs\n",
      "Head_Office Nagpur\n"
     ]
    }
   ],
   "source": [
    "for x, y in my_dict.items():\n",
    "    print(x,y)"
   ]
  },
  {
   "cell_type": "code",
   "execution_count": 45,
   "id": "1d76f25e",
   "metadata": {},
   "outputs": [
    {
     "ename": "ValueError",
     "evalue": "too many values to unpack (expected 2)",
     "output_type": "error",
     "traceback": [
      "\u001b[1;31m---------------------------------------------------------------------------\u001b[0m",
      "\u001b[1;31mValueError\u001b[0m                                Traceback (most recent call last)",
      "\u001b[1;32m<ipython-input-45-2cb3aa922a2d>\u001b[0m in \u001b[0;36m<module>\u001b[1;34m\u001b[0m\n\u001b[1;32m----> 1\u001b[1;33m \u001b[1;32mfor\u001b[0m \u001b[0mx\u001b[0m\u001b[1;33m,\u001b[0m \u001b[0my\u001b[0m \u001b[1;32min\u001b[0m \u001b[0mmy_dict\u001b[0m\u001b[1;33m:\u001b[0m\u001b[1;33m\u001b[0m\u001b[1;33m\u001b[0m\u001b[0m\n\u001b[0m\u001b[0;32m      2\u001b[0m     \u001b[0mprint\u001b[0m\u001b[1;33m(\u001b[0m\u001b[0mx\u001b[0m\u001b[1;33m,\u001b[0m\u001b[0my\u001b[0m\u001b[1;33m)\u001b[0m\u001b[1;33m\u001b[0m\u001b[1;33m\u001b[0m\u001b[0m\n",
      "\u001b[1;31mValueError\u001b[0m: too many values to unpack (expected 2)"
     ]
    }
   ],
   "source": [
    "for x, y in my_dict:\n",
    "    print(x,y)"
   ]
  },
  {
   "cell_type": "code",
   "execution_count": null,
   "id": "573d89ca",
   "metadata": {},
   "outputs": [],
   "source": []
  }
 ],
 "metadata": {
  "kernelspec": {
   "display_name": "Python 3",
   "language": "python",
   "name": "python3"
  },
  "language_info": {
   "codemirror_mode": {
    "name": "ipython",
    "version": 3
   },
   "file_extension": ".py",
   "mimetype": "text/x-python",
   "name": "python",
   "nbconvert_exporter": "python",
   "pygments_lexer": "ipython3",
   "version": "3.8.8"
  }
 },
 "nbformat": 4,
 "nbformat_minor": 5
}
