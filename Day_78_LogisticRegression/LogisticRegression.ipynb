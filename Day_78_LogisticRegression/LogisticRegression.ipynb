{
 "cells": [
  {
   "cell_type": "markdown",
   "id": "6d36ad05",
   "metadata": {},
   "source": [
    "## Log Loss Function"
   ]
  },
  {
   "cell_type": "markdown",
   "id": "20ab35b1",
   "metadata": {},
   "source": [
    "1. Estimate against independent variable are generated which minimized the error / log Function\n",
    "2. log loss Function is employed (opposed to least square method) in Linear Regression\n",
    "3. Log loss -"
   ]
  },
  {
   "cell_type": "markdown",
   "id": "f6001b19",
   "metadata": {},
   "source": [
    "**Log_loss = - 1/ N (Y_i log(P_i)) + (1 - Y_i log(1 - P_i))**"
   ]
  },
  {
   "cell_type": "markdown",
   "id": "843bbe86",
   "metadata": {},
   "source": [
    "for each row i in dataset\n",
    "1. Y is outcome (dependent variable) which can be either o or 1\n",
    "2. P is predicted probability outcome by applying Logistic Regression"
   ]
  },
  {
   "cell_type": "markdown",
   "id": "f4320ab6",
   "metadata": {},
   "source": [
    " **P = e(x) / 1 + e(x) = Z = B0 + B1X1 + B2X2 + ........ +BnXn**"
   ]
  },
  {
   "cell_type": "markdown",
   "id": "f6f39d9d",
   "metadata": {},
   "source": [
    "1. Objective:\n",
    "    1. Adjust the estimate in the Logistic Regression equation such that the total log loss function over whole dataset is minimized\n",
    "    2. If Y is 1 then Function is minimized with high value of P. If Y is then function is minimized with low low value of P"
   ]
  },
  {
   "cell_type": "markdown",
   "id": "927349ff",
   "metadata": {},
   "source": [
    "1. Since log(1) is 0 \n",
    "2. If Y = 1 then this become 0 [(1 - Y_i) log(1 - P_i)]\n",
    "\n",
    "1. Log Loss = - 1 / N summation i =1 to n (Y_i log(P_i) + (1 - Y_i) log(1 - P_i)\n",
    "2. If Y is 1 then function is **minimized with high value of P**"
   ]
  },
  {
   "cell_type": "markdown",
   "id": "0336d2dc",
   "metadata": {},
   "source": [
    "1. Y * log(P) = Log(P)\n",
    "2. P -->| where Y = 1 --> 0\n",
    "1. If Y = 0 then [(Y_i log(P_i)] then becomes 0\n",
    "2. If Y is 0 then function is minimized with **low value of Probability[P]**                "
   ]
  },
  {
   "cell_type": "markdown",
   "id": "3946cb68",
   "metadata": {},
   "source": [
    "1. 1 * log(1-P) --> If P = 0 then again where Function is Zero\n",
    "2. If Y = 1 - Probability to be High Possible, If Y = 0 Probability to be low possible"
   ]
  },
  {
   "cell_type": "markdown",
   "id": "35aa2998",
   "metadata": {},
   "source": [
    "## AUC - ROC Curve"
   ]
  },
  {
   "cell_type": "markdown",
   "id": "15e6071f",
   "metadata": {},
   "source": [
    "1. In Machine Learning, Performance measurement in an essential task\n",
    "2. When it come to classification problem, we count an AUC-ROC curve\n",
    "3. When we need to check performance of multiclass classification problem, then will use AUC-ROC curve\n",
    "4. AUC - Area Under Curve\n",
    "5. ROC - Receiver oprator Charactristics Curve\n",
    "6. AUC- ROC curve is a performance measurement for the classfication problem on different threshold value\n",
    "7. ROC is probability curve and AUC represent degree or measure of separability\n",
    "8. AUC (Higher) better model prdictiong as 0 and 1\n",
    "9. ROC curve is plotted with TPR (True Positive Rate) against the FPR (False Positive Rate)\n",
    "10. TPR on Y axis whereas FPR on the X axis"
   ]
  },
  {
   "cell_type": "markdown",
   "id": "e7996827",
   "metadata": {},
   "source": [
    "### 1. TPR - [True Positive Rate] / Recall / Sensitivity"
   ]
  },
  {
   "cell_type": "markdown",
   "id": "9e24b756",
   "metadata": {},
   "source": [
    "**TPR / Recall / Sensitivity = TP / TP + FN**"
   ]
  },
  {
   "cell_type": "code",
   "execution_count": 2,
   "id": "17f13005",
   "metadata": {},
   "outputs": [
    {
     "data": {
      "text/plain": [
       "19.0"
      ]
     },
     "execution_count": 2,
     "metadata": {},
     "output_type": "execute_result"
    }
   ],
   "source": [
    "74 / 74 + 18"
   ]
  },
  {
   "cell_type": "code",
   "execution_count": 4,
   "id": "b5060cd0",
   "metadata": {},
   "outputs": [
    {
     "data": {
      "text/plain": [
       "80.43478260869566"
      ]
     },
     "execution_count": 4,
     "metadata": {},
     "output_type": "execute_result"
    }
   ],
   "source": [
    "74 / 92 * 100"
   ]
  },
  {
   "cell_type": "markdown",
   "id": "9900f18b",
   "metadata": {},
   "source": [
    "### 2. TNR - [ True Negative Rate ] Specificity "
   ]
  },
  {
   "cell_type": "markdown",
   "id": "6ef8fcb1",
   "metadata": {},
   "source": [
    "**TNR / Specificity = TN / TN + FP**"
   ]
  },
  {
   "cell_type": "code",
   "execution_count": 5,
   "id": "daa40305",
   "metadata": {},
   "outputs": [
    {
     "data": {
      "text/plain": [
       "9.0"
      ]
     },
     "execution_count": 5,
     "metadata": {},
     "output_type": "execute_result"
    }
   ],
   "source": [
    "43 / 43 + 8"
   ]
  },
  {
   "cell_type": "code",
   "execution_count": 11,
   "id": "29f50298",
   "metadata": {},
   "outputs": [
    {
     "data": {
      "text/plain": [
       "0.8431372549019608"
      ]
     },
     "execution_count": 11,
     "metadata": {},
     "output_type": "execute_result"
    }
   ],
   "source": [
    "43 / 51 "
   ]
  },
  {
   "cell_type": "markdown",
   "id": "bd9c3a13",
   "metadata": {},
   "source": [
    "### 3. FPR"
   ]
  },
  {
   "cell_type": "markdown",
   "id": "2f0aeb56",
   "metadata": {},
   "source": [
    "**FPR = 1 - Specificity**"
   ]
  },
  {
   "cell_type": "code",
   "execution_count": 12,
   "id": "cc31240f",
   "metadata": {},
   "outputs": [],
   "source": [
    "FPR = 1 - 0.84"
   ]
  },
  {
   "cell_type": "code",
   "execution_count": 13,
   "id": "cb410241",
   "metadata": {},
   "outputs": [
    {
     "name": "stdout",
     "output_type": "stream",
     "text": [
      "0.16000000000000003\n"
     ]
    }
   ],
   "source": [
    "print(FPR)"
   ]
  },
  {
   "cell_type": "markdown",
   "id": "97620824",
   "metadata": {},
   "source": [
    "**FPR = FP / FP + TN**"
   ]
  },
  {
   "cell_type": "code",
   "execution_count": 19,
   "id": "c251de26",
   "metadata": {},
   "outputs": [],
   "source": [
    "FPR = 8 / (8 + 43)"
   ]
  },
  {
   "cell_type": "code",
   "execution_count": 20,
   "id": "2ffa3a6e",
   "metadata": {},
   "outputs": [
    {
     "data": {
      "text/plain": [
       "15.686274509803921"
      ]
     },
     "execution_count": 20,
     "metadata": {},
     "output_type": "execute_result"
    }
   ],
   "source": [
    "8 / 51 * 100"
   ]
  },
  {
   "cell_type": "code",
   "execution_count": 21,
   "id": "a0f9ff39",
   "metadata": {},
   "outputs": [
    {
     "data": {
      "text/plain": [
       "0.1568627450980392"
      ]
     },
     "execution_count": 21,
     "metadata": {},
     "output_type": "execute_result"
    }
   ],
   "source": [
    "FPR"
   ]
  },
  {
   "cell_type": "code",
   "execution_count": 22,
   "id": "23ef2eaf",
   "metadata": {},
   "outputs": [
    {
     "ename": "SyntaxError",
     "evalue": "invalid syntax (<ipython-input-22-139c50d7d65b>, line 1)",
     "output_type": "error",
     "traceback": [
      "\u001b[1;36m  File \u001b[1;32m\"<ipython-input-22-139c50d7d65b>\"\u001b[1;36m, line \u001b[1;32m1\u001b[0m\n\u001b[1;33m    0  0.5  1\u001b[0m\n\u001b[1;37m       ^\u001b[0m\n\u001b[1;31mSyntaxError\u001b[0m\u001b[1;31m:\u001b[0m invalid syntax\n"
     ]
    }
   ],
   "source": [
    "0  0.5  1\n",
    "    <>"
   ]
  },
  {
   "cell_type": "code",
   "execution_count": null,
   "id": "980f4346",
   "metadata": {},
   "outputs": [],
   "source": []
  }
 ],
 "metadata": {
  "kernelspec": {
   "display_name": "Python 3",
   "language": "python",
   "name": "python3"
  },
  "language_info": {
   "codemirror_mode": {
    "name": "ipython",
    "version": 3
   },
   "file_extension": ".py",
   "mimetype": "text/x-python",
   "name": "python",
   "nbconvert_exporter": "python",
   "pygments_lexer": "ipython3",
   "version": "3.8.8"
  }
 },
 "nbformat": 4,
 "nbformat_minor": 5
}
