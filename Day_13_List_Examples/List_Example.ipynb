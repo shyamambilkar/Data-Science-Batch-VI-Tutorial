{
 "cells": [
  {
   "cell_type": "markdown",
   "id": "2c8b2e27",
   "metadata": {},
   "source": [
    "# Python Function"
   ]
  },
  {
   "cell_type": "code",
   "execution_count": 2,
   "id": "ca13a301",
   "metadata": {},
   "outputs": [
    {
     "name": "stdout",
     "output_type": "stream",
     "text": [
      "Enter First Number: 45\n",
      "Enter Second Number: 45\n",
      "Addition of two number is:  90\n",
      "Substractionn of two number is:  0\n"
     ]
    }
   ],
   "source": [
    "num_1 = int(input(\"Enter First Number: \"))\n",
    "num_2 = int(input(\"Enter Second Number: \"))\n",
    "\n",
    "result1 = num_1 + num_2\n",
    "result2 = num_1 - num_2\n",
    "\n",
    "\n",
    "print(\"Addition of two number is: \", result1)\n",
    "print(\"Substractionn of two number is: \", result2)"
   ]
  },
  {
   "cell_type": "markdown",
   "id": "1c210c06",
   "metadata": {},
   "source": [
    "1. Function is a block of code which only runs when it is called\n",
    "2. You can pass data are called as Parameters into a function\n",
    "3. A function can return data as result\n",
    "4. Function is defined using [def] keyword\n",
    "5. Exmple - def Function_Name()\n",
    "6. To call a function use the function name "
   ]
  },
  {
   "cell_type": "raw",
   "id": "27b26084",
   "metadata": {},
   "source": [
    "Syntax:\n",
    "    def function_Name():\n",
    "        block of statement"
   ]
  },
  {
   "cell_type": "code",
   "execution_count": 3,
   "id": "be2799cf",
   "metadata": {},
   "outputs": [],
   "source": [
    "def my_function():\n",
    "    print(\"Hello World, Welcome to the New year 2022 \")"
   ]
  },
  {
   "cell_type": "code",
   "execution_count": 4,
   "id": "2c3481ca",
   "metadata": {},
   "outputs": [
    {
     "name": "stdout",
     "output_type": "stream",
     "text": [
      "Hello World, Welcome to the New year 2022 \n"
     ]
    }
   ],
   "source": [
    "def my_function():\n",
    "    print(\"Hello World, Welcome to the New year 2022 \")\n",
    "    \n",
    "my_function()"
   ]
  },
  {
   "cell_type": "markdown",
   "id": "16ae6bf3",
   "metadata": {},
   "source": [
    "### Arguments in Function"
   ]
  },
  {
   "cell_type": "markdown",
   "id": "4f886d22",
   "metadata": {},
   "source": [
    "1. Information can be passed into function as argument\n",
    "2. Arguments are specified after the function name , inside paranthesis\n",
    "3. You can take number of arguments by passing comma\n",
    "4. "
   ]
  },
  {
   "cell_type": "code",
   "execution_count": 7,
   "id": "48293e7b",
   "metadata": {},
   "outputs": [
    {
     "name": "stdout",
     "output_type": "stream",
     "text": [
      "HelloRahul\n",
      "HelloPooja\n"
     ]
    }
   ],
   "source": [
    "def my_funct(fname):\n",
    "    print(\"Hello\" + fname )\n",
    "    \n",
    "my_funct(\"Rahul\")\n",
    "my_funct(\"Pooja\")"
   ]
  },
  {
   "cell_type": "code",
   "execution_count": 10,
   "id": "b227ef95",
   "metadata": {},
   "outputs": [
    {
     "name": "stdout",
     "output_type": "stream",
     "text": [
      "Welcome Shyam Ambilkar to new year 2022\n"
     ]
    }
   ],
   "source": [
    "def my_funct(fname, lname):\n",
    "    print(\"Welcome \" + fname + \" \" + lname +\" \"+ \"to new year 2022\")\n",
    "    \n",
    "my_funct(\"Shyam\", \"Ambilkar\")"
   ]
  },
  {
   "cell_type": "code",
   "execution_count": 13,
   "id": "8341753c",
   "metadata": {},
   "outputs": [
    {
     "name": "stdout",
     "output_type": "stream",
     "text": [
      "Welcome Shyam Ambilkar to new year 2022\n"
     ]
    }
   ],
   "source": [
    "def my_funct(fname, lname):\n",
    "    print(\"Welcome \" + fname + \" \" + lname +\" \"+ \"to new year 2022\")\n",
    "    \n",
    "my_funct(\"Shyam\",\"Ambilkar\")"
   ]
  },
  {
   "cell_type": "code",
   "execution_count": 19,
   "id": "8e705d6f",
   "metadata": {},
   "outputs": [
    {
     "name": "stdout",
     "output_type": "stream",
     "text": [
      "Select Operation: \n",
      "1. Addition\n",
      "2. Substraction\n",
      "3. Multiplication\n",
      "4. Division\n",
      "5. Invalid Operation\n",
      "Enter Choice(1/2/3/4/5):2\n",
      "Enter First Number: 100\n",
      "Enter Second Number: 50\n",
      "100.0 - 50.0 = 50.0\n",
      "Let's do the next Operation? (yes/ no): yes\n",
      "Enter Choice(1/2/3/4/5):5\n",
      "Enter First Number: 12\n",
      "Enter Second Number: 12\n",
      "Invalid Choice of Operation\n",
      "Let's do the next Operation? (yes/ no): yes\n",
      "Enter Choice(1/2/3/4/5):4\n",
      "Enter First Number: 10\n",
      "Enter Second Number: 100\n",
      "10.0 / 100.0 = 0.1\n",
      "Let's do the next Operation? (yes/ no): no\n"
     ]
    }
   ],
   "source": [
    "def add(x,y):\n",
    "    return x + y\n",
    "\n",
    "def sub(x,y):\n",
    "    return x - y\n",
    "\n",
    "def mul(x,y):\n",
    "    return x * y\n",
    "\n",
    "def div(x,y):\n",
    "    return x / y\n",
    "\n",
    "print(\"Select Operation: \")\n",
    "print(\"1. Addition\")\n",
    "print(\"2. Substraction\")\n",
    "print(\"3. Multiplication\")\n",
    "print(\"4. Division\")\n",
    "print(\"5. Invalid Operation\")\n",
    "\n",
    "while True:\n",
    "    choice = input(\"Enter Choice(1/2/3/4/5):\")\n",
    "    \n",
    "    if choice in ('1','2','3','4','5'):\n",
    "        num_1 = float(input(\"Enter First Number: \"))\n",
    "        num_2 = float(input(\"Enter Second Number: \"))\n",
    "        \n",
    "        if choice == '1':\n",
    "            print(num_1,\"+\",num_2, \"=\", add(num_1, num_2))\n",
    "        elif choice == '2':\n",
    "            print(num_1,\"-\",num_2, \"=\", sub(num_1, num_2))\n",
    "        elif choice == '3':\n",
    "            print(num_1,\"*\",num_2, \"=\", mul(num_1, num_2))\n",
    "        elif choice == '4':\n",
    "            print(num_1,\"/\",num_2, \"=\", div(num_1, num_2))\n",
    "        elif choice == '5':\n",
    "            print(\"Invalid Choice of Operation\")\n",
    "        next_iter = input(\"Let's do the next Operation? (yes/ no): \")\n",
    "        \n",
    "        if next_iter == 'no':\n",
    "            break\n",
    "    else:\n",
    "        print(\"Invalid Input\")"
   ]
  },
  {
   "cell_type": "code",
   "execution_count": null,
   "id": "866bcef2",
   "metadata": {},
   "outputs": [],
   "source": []
  },
  {
   "cell_type": "code",
   "execution_count": null,
   "id": "dc84cb9c",
   "metadata": {},
   "outputs": [],
   "source": []
  }
 ],
 "metadata": {
  "kernelspec": {
   "display_name": "Python 3",
   "language": "python",
   "name": "python3"
  },
  "language_info": {
   "codemirror_mode": {
    "name": "ipython",
    "version": 3
   },
   "file_extension": ".py",
   "mimetype": "text/x-python",
   "name": "python",
   "nbconvert_exporter": "python",
   "pygments_lexer": "ipython3",
   "version": "3.8.8"
  }
 },
 "nbformat": 4,
 "nbformat_minor": 5
}
