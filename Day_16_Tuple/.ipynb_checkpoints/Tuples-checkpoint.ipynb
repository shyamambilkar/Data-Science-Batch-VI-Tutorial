{
 "cells": [
  {
   "cell_type": "markdown",
   "id": "a34f74fc",
   "metadata": {},
   "source": [
    "# Tuple"
   ]
  },
  {
   "cell_type": "markdown",
   "id": "a4aaea49",
   "metadata": {},
   "source": [
    "1. Tuple are used to store multiple items in a single variable\n",
    "2. Tuple are used to store collection of data\n",
    "3. Tuple is a collection which is ordered and unchangeble\n",
    "4. Tuple are written with round paranthesis\n",
    "5. Tuple use parathesis, whereas list used squre bracket\n",
    "6. Sequnce value of Tuple can be any type and Indexing\n",
    "7. Tuple are created by placing sequence of value separated by comma\n",
    "8. Creation of Python without use of the paranthesis is known as Tuple Packing\n",
    "9. Tuple are used to store Heterogeneous of data but commonly use Homogeneous Data"
   ]
  },
  {
   "cell_type": "markdown",
   "id": "a06a1522",
   "metadata": {},
   "source": [
    "1. Create Tuple:\n",
    "    1. my_tuple = (\"apple\",\"mango\")\n",
    "2. Tuple Item:\n",
    "    1. Tuple items are ordered, unchangeble and allow duplicates\n",
    "    2. Tuple item are indexed, first item has indexed[0], second elements[1]\n",
    "3. Ordered:\n",
    "    1. Tuple are ordered, that means item have a defined ordered that order will not change\n",
    "4. Unchangeble (Immutable):\n",
    "    1. Tuples are unchangeble, that means we cannot change, add or remove items aftere its creation \n",
    "5. Allow Duplicates:\n",
    "    1. Tuple are indexed, tuple can have items with same value\n",
    "6. Tuple Length:\n",
    "    1. How many elements(items) in the tuple\n",
    "7. Creating a Tuple with single Item:\n",
    "    1. my_tuple = (\"apple\",)\n",
    "8. Tuple Item with DataTypes\n",
    "9. Tuple Constructor\n",
    "10. Access Tuple Items:\n",
    "    1. Negative Indexing\n",
    "    2. Positive Indexing\n",
    "    3. Range of Indexing"
   ]
  },
  {
   "cell_type": "markdown",
   "id": "e07883c3",
   "metadata": {},
   "source": [
    "### 1. Create Tuple"
   ]
  },
  {
   "cell_type": "code",
   "execution_count": 1,
   "id": "ebdfcaae",
   "metadata": {},
   "outputs": [
    {
     "name": "stdout",
     "output_type": "stream",
     "text": [
      "apple\n",
      "<class 'str'>\n"
     ]
    }
   ],
   "source": [
    "my_tuple = (\"apple\")\n",
    "print(my_tuple)\n",
    "print(type(my_tuple))"
   ]
  },
  {
   "cell_type": "code",
   "execution_count": 2,
   "id": "033d7728",
   "metadata": {},
   "outputs": [
    {
     "name": "stdout",
     "output_type": "stream",
     "text": [
      "('apple',)\n",
      "<class 'tuple'>\n"
     ]
    }
   ],
   "source": [
    "my_tuple = (\"apple\",)\n",
    "print(my_tuple)\n",
    "print(type(my_tuple))"
   ]
  },
  {
   "cell_type": "code",
   "execution_count": 3,
   "id": "eb3c574a",
   "metadata": {},
   "outputs": [
    {
     "name": "stdout",
     "output_type": "stream",
     "text": [
      "('apple', 'mango', 'watermelon', 'cherry', 'banana')\n",
      "<class 'tuple'>\n"
     ]
    }
   ],
   "source": [
    "my_tuple = (\"apple\", 'mango','watermelon','cherry','banana')\n",
    "print(my_tuple)\n",
    "print(type(my_tuple))"
   ]
  },
  {
   "cell_type": "markdown",
   "id": "5179abe4",
   "metadata": {},
   "source": [
    "### 2. Tuple Items"
   ]
  },
  {
   "cell_type": "code",
   "execution_count": 12,
   "id": "c02b7151",
   "metadata": {},
   "outputs": [
    {
     "name": "stdout",
     "output_type": "stream",
     "text": [
      "('apple', 'mango', 'cherry', 'watermelon', 'apple')\n"
     ]
    }
   ],
   "source": [
    "my_tuple = (\"apple\",\"mango\",\"cherry\",\"watermelon\",\"apple\")\n",
    "print(my_tuple)"
   ]
  },
  {
   "cell_type": "code",
   "execution_count": 13,
   "id": "4d86797a",
   "metadata": {},
   "outputs": [
    {
     "data": {
      "text/plain": [
       "'apple'"
      ]
     },
     "execution_count": 13,
     "metadata": {},
     "output_type": "execute_result"
    }
   ],
   "source": [
    "my_tuple[0]"
   ]
  },
  {
   "cell_type": "code",
   "execution_count": 14,
   "id": "04b22517",
   "metadata": {},
   "outputs": [
    {
     "data": {
      "text/plain": [
       "'mango'"
      ]
     },
     "execution_count": 14,
     "metadata": {},
     "output_type": "execute_result"
    }
   ],
   "source": [
    "my_tuple[1]"
   ]
  },
  {
   "cell_type": "code",
   "execution_count": 15,
   "id": "bc48c0f3",
   "metadata": {},
   "outputs": [
    {
     "data": {
      "text/plain": [
       "2"
      ]
     },
     "execution_count": 15,
     "metadata": {},
     "output_type": "execute_result"
    }
   ],
   "source": [
    "my_tuple.count(\"apple\")"
   ]
  },
  {
   "cell_type": "markdown",
   "id": "8b965094",
   "metadata": {},
   "source": [
    "### 3. Tuple Length"
   ]
  },
  {
   "cell_type": "code",
   "execution_count": 16,
   "id": "ffc7567e",
   "metadata": {},
   "outputs": [
    {
     "name": "stdout",
     "output_type": "stream",
     "text": [
      "('apple', 'mango', 'cherry', 'watermelon', 'blackcurrent')\n"
     ]
    }
   ],
   "source": [
    "my_tuple = (\"apple\",\"mango\",\"cherry\",\"watermelon\",\"blackcurrent\")\n",
    "print(my_tuple)"
   ]
  },
  {
   "cell_type": "code",
   "execution_count": 17,
   "id": "7bafbe23",
   "metadata": {},
   "outputs": [
    {
     "name": "stdout",
     "output_type": "stream",
     "text": [
      "5\n"
     ]
    }
   ],
   "source": [
    "print(len(my_tuple))"
   ]
  },
  {
   "cell_type": "markdown",
   "id": "6d0dc80b",
   "metadata": {},
   "source": [
    "### 4. Tuple with Single Elements(items)"
   ]
  },
  {
   "cell_type": "code",
   "execution_count": 18,
   "id": "794d4b95",
   "metadata": {},
   "outputs": [
    {
     "name": "stdout",
     "output_type": "stream",
     "text": [
      "('apple',)\n",
      "<class 'tuple'>\n"
     ]
    }
   ],
   "source": [
    "my_tuple = (\"apple\",)\n",
    "print(my_tuple)\n",
    "print(type(my_tuple))"
   ]
  },
  {
   "cell_type": "code",
   "execution_count": 19,
   "id": "92cd1b5e",
   "metadata": {},
   "outputs": [
    {
     "name": "stdout",
     "output_type": "stream",
     "text": [
      "apple\n",
      "<class 'str'>\n"
     ]
    }
   ],
   "source": [
    "my_tuple = (\"apple\")\n",
    "print(my_tuple)\n",
    "print(type(my_tuple))"
   ]
  },
  {
   "cell_type": "markdown",
   "id": "ae0e689e",
   "metadata": {},
   "source": [
    "### 5. Tuple Items - Data Types"
   ]
  },
  {
   "cell_type": "code",
   "execution_count": 20,
   "id": "3829c712",
   "metadata": {},
   "outputs": [],
   "source": [
    "my_tuple1 = (\"apple\",\"mango\",\"cherry\",\"watermelon\",\"blackcurrent\")\n",
    "my_tuple2 = (10,12,14,5,9,60,20)\n",
    "my_tuple3 = (True,False, True, False, False)\n",
    "my_tuple4 = (10.10,25,23,45,12,2.0)"
   ]
  },
  {
   "cell_type": "code",
   "execution_count": 22,
   "id": "da9fbd5f",
   "metadata": {},
   "outputs": [
    {
     "name": "stdout",
     "output_type": "stream",
     "text": [
      "('apple', 'mango', 'cherry', 'watermelon', 'blackcurrent')\n",
      "(10, 12, 14, 5, 9, 60, 20)\n",
      "(True, False, True, False, False)\n",
      "(10.1, 25, 23, 45, 12, 2.0)\n"
     ]
    }
   ],
   "source": [
    "print(my_tuple1)\n",
    "print(my_tuple2)\n",
    "print(my_tuple3)\n",
    "print(my_tuple4)"
   ]
  },
  {
   "cell_type": "code",
   "execution_count": 24,
   "id": "24401abe",
   "metadata": {},
   "outputs": [
    {
     "name": "stdout",
     "output_type": "stream",
     "text": [
      "<class 'tuple'>\n",
      "<class 'tuple'>\n",
      "<class 'tuple'>\n",
      "<class 'tuple'>\n"
     ]
    }
   ],
   "source": [
    "print(type(my_tuple1))\n",
    "print(type(my_tuple2))\n",
    "print(type(my_tuple3))\n",
    "print(type(my_tuple4))"
   ]
  },
  {
   "cell_type": "code",
   "execution_count": 27,
   "id": "46bf230b",
   "metadata": {},
   "outputs": [],
   "source": [
    "my_tuple = ('apple', 'mango', 10, 12, 14, True, False, False, 20,'cherry', 'watermelon',10.1, 25, 12, 2.0, 'blackcurrent')"
   ]
  },
  {
   "cell_type": "code",
   "execution_count": 28,
   "id": "8efa75d6",
   "metadata": {},
   "outputs": [
    {
     "name": "stdout",
     "output_type": "stream",
     "text": [
      "('apple', 'mango', 10, 12, 14, True, False, False, 20, 'cherry', 'watermelon', 10.1, 25, 12, 2.0, 'blackcurrent')\n",
      "<class 'tuple'>\n"
     ]
    }
   ],
   "source": [
    "print(my_tuple)\n",
    "print(type(my_tuple))"
   ]
  },
  {
   "cell_type": "markdown",
   "id": "cba6a3d5",
   "metadata": {},
   "source": [
    "## 6. Access Elements - Indexing"
   ]
  },
  {
   "cell_type": "markdown",
   "id": "f3c1b0e1",
   "metadata": {},
   "source": [
    "**1. Positive Indexing**"
   ]
  },
  {
   "cell_type": "code",
   "execution_count": 29,
   "id": "b9c3caf0",
   "metadata": {},
   "outputs": [],
   "source": [
    "my_tuple1 = (\"apple\",\"mango\",\"cherry\",\"watermelon\",\"blackcurrent\")"
   ]
  },
  {
   "cell_type": "code",
   "execution_count": 30,
   "id": "64e11268",
   "metadata": {},
   "outputs": [
    {
     "data": {
      "text/plain": [
       "'watermelon'"
      ]
     },
     "execution_count": 30,
     "metadata": {},
     "output_type": "execute_result"
    }
   ],
   "source": [
    "my_tuple1[3]"
   ]
  },
  {
   "cell_type": "code",
   "execution_count": 31,
   "id": "28eda82a",
   "metadata": {},
   "outputs": [
    {
     "data": {
      "text/plain": [
       "'apple'"
      ]
     },
     "execution_count": 31,
     "metadata": {},
     "output_type": "execute_result"
    }
   ],
   "source": [
    "my_tuple1[0]"
   ]
  },
  {
   "cell_type": "markdown",
   "id": "b0e79ce3",
   "metadata": {},
   "source": [
    "**2. Negative Indexing**"
   ]
  },
  {
   "cell_type": "code",
   "execution_count": 32,
   "id": "bd318851",
   "metadata": {},
   "outputs": [],
   "source": [
    "my_tuple1 = (\"apple\",\"mango\",\"cherry\",\"watermelon\",\"blackcurrent\")"
   ]
  },
  {
   "cell_type": "code",
   "execution_count": 33,
   "id": "fdc3fba5",
   "metadata": {},
   "outputs": [
    {
     "data": {
      "text/plain": [
       "'blackcurrent'"
      ]
     },
     "execution_count": 33,
     "metadata": {},
     "output_type": "execute_result"
    }
   ],
   "source": [
    "my_tuple1[-1]"
   ]
  },
  {
   "cell_type": "code",
   "execution_count": 34,
   "id": "b7800cac",
   "metadata": {},
   "outputs": [
    {
     "data": {
      "text/plain": [
       "'apple'"
      ]
     },
     "execution_count": 34,
     "metadata": {},
     "output_type": "execute_result"
    }
   ],
   "source": [
    "my_tuple1[-5]"
   ]
  },
  {
   "cell_type": "markdown",
   "id": "f3e90146",
   "metadata": {},
   "source": [
    "### 3. Range of Indexing"
   ]
  },
  {
   "cell_type": "markdown",
   "id": "f033374f",
   "metadata": {},
   "source": [
    "#### 1. Positive Range of Indexing"
   ]
  },
  {
   "cell_type": "code",
   "execution_count": 35,
   "id": "d5b0831a",
   "metadata": {},
   "outputs": [],
   "source": [
    "my_tuple1 = (\"apple\",\"mango\",\"cherry\",\"watermelon\",\"blackcurrent\")"
   ]
  },
  {
   "cell_type": "code",
   "execution_count": 36,
   "id": "bd437fbc",
   "metadata": {},
   "outputs": [],
   "source": [
    "# syntax [start index : end index]"
   ]
  },
  {
   "cell_type": "code",
   "execution_count": 37,
   "id": "97694098",
   "metadata": {},
   "outputs": [
    {
     "data": {
      "text/plain": [
       "('apple', 'mango', 'cherry', 'watermelon', 'blackcurrent')"
      ]
     },
     "execution_count": 37,
     "metadata": {},
     "output_type": "execute_result"
    }
   ],
   "source": [
    "my_tuple1[:]"
   ]
  },
  {
   "cell_type": "code",
   "execution_count": 38,
   "id": "6eec29d4",
   "metadata": {},
   "outputs": [
    {
     "data": {
      "text/plain": [
       "('cherry', 'watermelon', 'blackcurrent')"
      ]
     },
     "execution_count": 38,
     "metadata": {},
     "output_type": "execute_result"
    }
   ],
   "source": [
    "my_tuple1[2:]"
   ]
  },
  {
   "cell_type": "code",
   "execution_count": 40,
   "id": "734edb65",
   "metadata": {},
   "outputs": [
    {
     "data": {
      "text/plain": [
       "('apple', 'mango', 'cherry')"
      ]
     },
     "execution_count": 40,
     "metadata": {},
     "output_type": "execute_result"
    }
   ],
   "source": [
    "my_tuple1[:3]"
   ]
  },
  {
   "cell_type": "markdown",
   "id": "9ba1de17",
   "metadata": {},
   "source": [
    "**2. Negative Range of Indexing**"
   ]
  },
  {
   "cell_type": "code",
   "execution_count": 41,
   "id": "b1d1f389",
   "metadata": {},
   "outputs": [],
   "source": [
    "my_tuple1 = (\"apple\",\"mango\",\"cherry\",\"watermelon\",\"blackcurrent\")"
   ]
  },
  {
   "cell_type": "code",
   "execution_count": 43,
   "id": "b8c156de",
   "metadata": {},
   "outputs": [
    {
     "data": {
      "text/plain": [
       "('apple', 'mango', 'cherry', 'watermelon', 'blackcurrent')"
      ]
     },
     "execution_count": 43,
     "metadata": {},
     "output_type": "execute_result"
    }
   ],
   "source": [
    "my_tuple1[:]"
   ]
  },
  {
   "cell_type": "code",
   "execution_count": 44,
   "id": "56281a3f",
   "metadata": {},
   "outputs": [
    {
     "data": {
      "text/plain": [
       "('apple', 'mango', 'cherry', 'watermelon')"
      ]
     },
     "execution_count": 44,
     "metadata": {},
     "output_type": "execute_result"
    }
   ],
   "source": [
    "my_tuple1[:-1]"
   ]
  },
  {
   "cell_type": "code",
   "execution_count": 46,
   "id": "e8719402",
   "metadata": {},
   "outputs": [
    {
     "data": {
      "text/plain": [
       "('mango', 'cherry', 'watermelon')"
      ]
     },
     "execution_count": 46,
     "metadata": {},
     "output_type": "execute_result"
    }
   ],
   "source": [
    "my_tuple1[-4:-1]"
   ]
  },
  {
   "cell_type": "code",
   "execution_count": 50,
   "id": "98534afd",
   "metadata": {},
   "outputs": [
    {
     "name": "stdout",
     "output_type": "stream",
     "text": [
      "Yes Available\n"
     ]
    }
   ],
   "source": [
    "my_tuple1 = (\"apple\",\"mango\",\"cherry\",\"watermelon\",\"blackcurrent\")\n",
    "\n",
    "if \"apple\" in my_tuple1:\n",
    "    print(\"Yes Available\")\n",
    "else:\n",
    "    print(\"Not Available\")"
   ]
  },
  {
   "cell_type": "markdown",
   "id": "35c6e344",
   "metadata": {},
   "source": [
    "# Tuple Updates "
   ]
  },
  {
   "cell_type": "code",
   "execution_count": 51,
   "id": "bde49331",
   "metadata": {},
   "outputs": [],
   "source": [
    "my_tuple1 = (\"apple\",\"mango\",\"cherry\",\"watermelon\",\"blackcurrent\")"
   ]
  },
  {
   "cell_type": "code",
   "execution_count": 52,
   "id": "0cfb2ab6",
   "metadata": {},
   "outputs": [
    {
     "ename": "TypeError",
     "evalue": "'tuple' object does not support item assignment",
     "output_type": "error",
     "traceback": [
      "\u001b[1;31m---------------------------------------------------------------------------\u001b[0m",
      "\u001b[1;31mTypeError\u001b[0m                                 Traceback (most recent call last)",
      "\u001b[1;32m<ipython-input-52-89d7ef7e26bd>\u001b[0m in \u001b[0;36m<module>\u001b[1;34m\u001b[0m\n\u001b[1;32m----> 1\u001b[1;33m \u001b[0mmy_tuple1\u001b[0m\u001b[1;33m[\u001b[0m\u001b[1;36m1\u001b[0m\u001b[1;33m]\u001b[0m \u001b[1;33m=\u001b[0m \u001b[1;34m\"papaya\"\u001b[0m\u001b[1;33m\u001b[0m\u001b[1;33m\u001b[0m\u001b[0m\n\u001b[0m",
      "\u001b[1;31mTypeError\u001b[0m: 'tuple' object does not support item assignment"
     ]
    }
   ],
   "source": [
    "my_tuple1[1] = \"papaya\""
   ]
  },
  {
   "cell_type": "code",
   "execution_count": 53,
   "id": "e61c4e19",
   "metadata": {},
   "outputs": [],
   "source": [
    "my_tuple1 = (\"apple\",\"mango\",\"cherry\",\"watermelon\",\"blackcurrent\")\n",
    "\n",
    "my_list = list(my_tuple1)"
   ]
  },
  {
   "cell_type": "code",
   "execution_count": 54,
   "id": "5db9f93f",
   "metadata": {},
   "outputs": [
    {
     "name": "stdout",
     "output_type": "stream",
     "text": [
      "('apple', 'mango', 'cherry', 'watermelon', 'blackcurrent')\n",
      "<class 'tuple'>\n"
     ]
    }
   ],
   "source": [
    "print(my_tuple1)\n",
    "print(type(my_tuple1))"
   ]
  },
  {
   "cell_type": "code",
   "execution_count": 55,
   "id": "1c85318a",
   "metadata": {},
   "outputs": [
    {
     "name": "stdout",
     "output_type": "stream",
     "text": [
      "['apple', 'mango', 'cherry', 'watermelon', 'blackcurrent']\n",
      "<class 'list'>\n"
     ]
    }
   ],
   "source": [
    "print(my_list)\n",
    "print(type(my_list))"
   ]
  },
  {
   "cell_type": "code",
   "execution_count": 56,
   "id": "b62a0228",
   "metadata": {},
   "outputs": [],
   "source": [
    "my_tuple1 = (\"apple\",\"mango\",\"cherry\",\"watermelon\",\"blackcurrent\")\n",
    "\n",
    "my_list = list(my_tuple1)\n",
    "\n",
    "my_list[1] = \"kiwi\"\n",
    "my_tuple1 = tuple(my_list)"
   ]
  },
  {
   "cell_type": "code",
   "execution_count": 57,
   "id": "cdd301b5",
   "metadata": {},
   "outputs": [
    {
     "name": "stdout",
     "output_type": "stream",
     "text": [
      "('apple', 'kiwi', 'cherry', 'watermelon', 'blackcurrent')\n"
     ]
    }
   ],
   "source": [
    "print(my_tuple1)"
   ]
  },
  {
   "cell_type": "markdown",
   "id": "9582edda",
   "metadata": {},
   "source": [
    "#### Convert Tuple into a list "
   ]
  },
  {
   "cell_type": "code",
   "execution_count": 62,
   "id": "7d957ef0",
   "metadata": {},
   "outputs": [
    {
     "name": "stdout",
     "output_type": "stream",
     "text": [
      "<class 'list'>\n",
      "['apple', 'mango', 'cherry', 'watermelon', 'blackcurrent']\n",
      "['apple', 'Papaya', 'cherry', 'watermelon', 'blackcurrent']\n",
      "('apple', 'Papaya', 'cherry', 'watermelon', 'blackcurrent')\n"
     ]
    }
   ],
   "source": [
    "my_tuple1 = (\"apple\",\"mango\",\"cherry\",\"watermelon\",\"blackcurrent\")\n",
    "# print(type(my_tuple1))\n",
    "\n",
    "y = list(my_tuple1)\n",
    "print(type(y))\n",
    "print(y)\n",
    "\n",
    "y[1] = \"Papaya\"\n",
    "print(y)\n",
    "\n",
    "my_tuple1 = tuple(y)\n",
    "print(my_tuple1)"
   ]
  },
  {
   "cell_type": "code",
   "execution_count": 64,
   "id": "8952255e",
   "metadata": {},
   "outputs": [
    {
     "name": "stdout",
     "output_type": "stream",
     "text": [
      "<class 'tuple'>\n"
     ]
    }
   ],
   "source": [
    "x = (\"apple\",\"mango\",\"cherry\",\"watermelon\",\"blackcurrent\")\n",
    "print(type(x))"
   ]
  },
  {
   "cell_type": "code",
   "execution_count": 66,
   "id": "72175f94",
   "metadata": {},
   "outputs": [
    {
     "name": "stdout",
     "output_type": "stream",
     "text": [
      "<class 'list'>\n"
     ]
    }
   ],
   "source": [
    "y = list(x)\n",
    "print(type(y))"
   ]
  },
  {
   "cell_type": "code",
   "execution_count": 67,
   "id": "d14e8436",
   "metadata": {},
   "outputs": [],
   "source": [
    "y[0] = \"orange\""
   ]
  },
  {
   "cell_type": "code",
   "execution_count": 69,
   "id": "e4f3cb9d",
   "metadata": {},
   "outputs": [
    {
     "name": "stdout",
     "output_type": "stream",
     "text": [
      "['orange', 'mango', 'cherry', 'watermelon', 'blackcurrent']\n",
      "('apple', 'mango', 'cherry', 'watermelon', 'blackcurrent')\n"
     ]
    }
   ],
   "source": [
    "print(y)\n",
    "print(x)"
   ]
  },
  {
   "cell_type": "code",
   "execution_count": 70,
   "id": "4dc52fa3",
   "metadata": {},
   "outputs": [],
   "source": [
    "x = tuple(y)"
   ]
  },
  {
   "cell_type": "code",
   "execution_count": 71,
   "id": "4d9833ff",
   "metadata": {},
   "outputs": [
    {
     "name": "stdout",
     "output_type": "stream",
     "text": [
      "('orange', 'mango', 'cherry', 'watermelon', 'blackcurrent')\n"
     ]
    }
   ],
   "source": [
    "print(x)"
   ]
  },
  {
   "cell_type": "code",
   "execution_count": 72,
   "id": "0d3925d2",
   "metadata": {},
   "outputs": [
    {
     "name": "stdout",
     "output_type": "stream",
     "text": [
      "<class 'tuple'>\n"
     ]
    }
   ],
   "source": [
    "print(type(x))"
   ]
  },
  {
   "cell_type": "code",
   "execution_count": null,
   "id": "405d464d",
   "metadata": {},
   "outputs": [],
   "source": []
  }
 ],
 "metadata": {
  "kernelspec": {
   "display_name": "Python 3",
   "language": "python",
   "name": "python3"
  },
  "language_info": {
   "codemirror_mode": {
    "name": "ipython",
    "version": 3
   },
   "file_extension": ".py",
   "mimetype": "text/x-python",
   "name": "python",
   "nbconvert_exporter": "python",
   "pygments_lexer": "ipython3",
   "version": "3.8.8"
  }
 },
 "nbformat": 4,
 "nbformat_minor": 5
}
