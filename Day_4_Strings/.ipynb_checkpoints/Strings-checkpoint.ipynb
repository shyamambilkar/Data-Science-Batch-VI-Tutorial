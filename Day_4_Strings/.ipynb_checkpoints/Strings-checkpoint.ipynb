{
 "cells": [
  {
   "cell_type": "markdown",
   "id": "b0b557a4",
   "metadata": {},
   "source": [
    "# 1. Text Type:\n",
    "    1. string [str]"
   ]
  },
  {
   "cell_type": "markdown",
   "id": "b85aabeb",
   "metadata": {},
   "source": [
    "1. Strings in Python are surrounded by single quotation marks or double quoatation marks\n",
    "2. Example:\n",
    "    1. \"Hello Python\" or 'Hello Python'\n",
    "3. You can display[output] as string literals with the print() function."
   ]
  },
  {
   "cell_type": "code",
   "execution_count": 1,
   "id": "168d6283",
   "metadata": {},
   "outputs": [
    {
     "name": "stdout",
     "output_type": "stream",
     "text": [
      "Welcome to string\n",
      "Welcome to string\n"
     ]
    }
   ],
   "source": [
    "print(\"Welcome to string\")\n",
    "print('Welcome to string')"
   ]
  },
  {
   "cell_type": "markdown",
   "id": "7382c373",
   "metadata": {},
   "source": [
    "### Assign string to Variable"
   ]
  },
  {
   "cell_type": "code",
   "execution_count": 4,
   "id": "121cb0f7",
   "metadata": {},
   "outputs": [
    {
     "name": "stdout",
     "output_type": "stream",
     "text": [
      "Welcome to string\n"
     ]
    }
   ],
   "source": [
    "x = \"Welcome to string\"\n",
    "print(x)"
   ]
  },
  {
   "cell_type": "code",
   "execution_count": 5,
   "id": "68e2a064",
   "metadata": {},
   "outputs": [
    {
     "name": "stdout",
     "output_type": "stream",
     "text": [
      "Welcome to string\n"
     ]
    }
   ],
   "source": [
    "x = 'Welcome to string'\n",
    "print(x)"
   ]
  },
  {
   "cell_type": "markdown",
   "id": "211f4c3e",
   "metadata": {},
   "source": [
    "### Multiple Line String"
   ]
  },
  {
   "cell_type": "code",
   "execution_count": 6,
   "id": "a5710bf1",
   "metadata": {},
   "outputs": [
    {
     "ename": "SyntaxError",
     "evalue": "EOL while scanning string literal (<ipython-input-6-9f9c548546a7>, line 1)",
     "output_type": "error",
     "traceback": [
      "\u001b[1;36m  File \u001b[1;32m\"<ipython-input-6-9f9c548546a7>\"\u001b[1;36m, line \u001b[1;32m1\u001b[0m\n\u001b[1;33m    x = \"Welcome to Python data Science placement Batch,\u001b[0m\n\u001b[1;37m                                                        ^\u001b[0m\n\u001b[1;31mSyntaxError\u001b[0m\u001b[1;31m:\u001b[0m EOL while scanning string literal\n"
     ]
    }
   ],
   "source": [
    "x = \"Welcome to Python data Science placement Batch,\n",
    "My name is Shyam Ambilkar,\n",
    "My salary are 85000,\n",
    "My post is Data Scientist,\n",
    "Location is Pune\""
   ]
  },
  {
   "cell_type": "code",
   "execution_count": 7,
   "id": "0e734d8a",
   "metadata": {},
   "outputs": [],
   "source": [
    "x = \"\"\"Welcome to Python data Science placement Batch,\n",
    "My name is Shyam Ambilkar,\n",
    "My salary are 85000,\n",
    "My post is Data Scientist,\n",
    "Location is Pune \"\"\""
   ]
  },
  {
   "cell_type": "code",
   "execution_count": 8,
   "id": "ac137cd9",
   "metadata": {},
   "outputs": [
    {
     "name": "stdout",
     "output_type": "stream",
     "text": [
      "Welcome to Python data Science placement Batch,\n",
      "My name is Shyam Ambilkar,\n",
      "My salary are 85000,\n",
      "My post is Data Scientist,\n",
      "Location is Pune \n"
     ]
    }
   ],
   "source": [
    "print(x)"
   ]
  },
  {
   "cell_type": "code",
   "execution_count": 9,
   "id": "02299561",
   "metadata": {},
   "outputs": [],
   "source": [
    "y = ''' Welcome to Python data Science placement Batch,\n",
    "My name is Shyam Ambilkar,\n",
    "My salary are 85000,\n",
    "My post is Data Scientist,\n",
    "Location is Pune'''"
   ]
  },
  {
   "cell_type": "code",
   "execution_count": 10,
   "id": "500b179b",
   "metadata": {},
   "outputs": [
    {
     "name": "stdout",
     "output_type": "stream",
     "text": [
      "Welcome to Python data Science placement Batch,\n",
      "My name is Shyam Ambilkar,\n",
      "My salary are 85000,\n",
      "My post is Data Scientist,\n",
      "Location is Pune \n"
     ]
    }
   ],
   "source": [
    "print(x)"
   ]
  },
  {
   "cell_type": "markdown",
   "id": "e484de8b",
   "metadata": {},
   "source": [
    "### Strings are Arrays"
   ]
  },
  {
   "cell_type": "code",
   "execution_count": 11,
   "id": "9c3665f8",
   "metadata": {},
   "outputs": [
    {
     "name": "stdout",
     "output_type": "stream",
     "text": [
      "Welcome to string\n"
     ]
    }
   ],
   "source": [
    "x = 'Welcome to string'\n",
    "print(x)"
   ]
  },
  {
   "cell_type": "code",
   "execution_count": 14,
   "id": "522a74dc",
   "metadata": {},
   "outputs": [
    {
     "name": "stdout",
     "output_type": "stream",
     "text": [
      " \n"
     ]
    }
   ],
   "source": [
    "print(x[7])"
   ]
  },
  {
   "cell_type": "code",
   "execution_count": 15,
   "id": "a16a7f4d",
   "metadata": {},
   "outputs": [
    {
     "name": "stdout",
     "output_type": "stream",
     "text": [
      "Welcome to string\n"
     ]
    }
   ],
   "source": [
    "x = 'Welcome to string'\n",
    "print(x)"
   ]
  },
  {
   "cell_type": "code",
   "execution_count": 17,
   "id": "f29bf4fb",
   "metadata": {},
   "outputs": [
    {
     "name": "stdout",
     "output_type": "stream",
     "text": [
      "e\n"
     ]
    }
   ],
   "source": [
    "print(x[1])"
   ]
  },
  {
   "cell_type": "markdown",
   "id": "566fbfcf",
   "metadata": {},
   "source": [
    "### Looping Throgh a String"
   ]
  },
  {
   "cell_type": "code",
   "execution_count": 18,
   "id": "1c7037fa",
   "metadata": {},
   "outputs": [
    {
     "name": "stdout",
     "output_type": "stream",
     "text": [
      "a\n",
      "p\n",
      "p\n",
      "l\n",
      "e\n"
     ]
    }
   ],
   "source": [
    "x = \"apple\"\n",
    "\n",
    "for i in x:\n",
    "    print(i)"
   ]
  },
  {
   "cell_type": "markdown",
   "id": "d1cc4cac",
   "metadata": {},
   "source": [
    "### String of Length:\n",
    "    1. using [len()] function return the string"
   ]
  },
  {
   "cell_type": "code",
   "execution_count": 19,
   "id": "5d178468",
   "metadata": {},
   "outputs": [],
   "source": [
    "x = 'Welcome to Python'"
   ]
  },
  {
   "cell_type": "code",
   "execution_count": 20,
   "id": "c19d5d7e",
   "metadata": {},
   "outputs": [
    {
     "name": "stdout",
     "output_type": "stream",
     "text": [
      "17\n"
     ]
    }
   ],
   "source": [
    "print(len(x))"
   ]
  },
  {
   "cell_type": "code",
   "execution_count": 21,
   "id": "e04e988d",
   "metadata": {},
   "outputs": [
    {
     "name": "stdout",
     "output_type": "stream",
     "text": [
      "7\n"
     ]
    }
   ],
   "source": [
    "x = \"Welcome\"\n",
    "print(len(x))"
   ]
  },
  {
   "cell_type": "markdown",
   "id": "cf699a69",
   "metadata": {},
   "source": [
    "### Check String"
   ]
  },
  {
   "cell_type": "code",
   "execution_count": 23,
   "id": "48101764",
   "metadata": {},
   "outputs": [
    {
     "name": "stdout",
     "output_type": "stream",
     "text": [
      "True\n"
     ]
    }
   ],
   "source": [
    "x = \"Welcome to Python Data Science class\"\n",
    "print('Data' in x)"
   ]
  },
  {
   "cell_type": "markdown",
   "id": "ac5a55c3",
   "metadata": {},
   "source": [
    "# Slicing String:\n",
    "    1. slicing return a range of character \n",
    "    2. Synatx:\n",
    "        1. variable name [start:End]"
   ]
  },
  {
   "cell_type": "markdown",
   "id": "88f9a1fc",
   "metadata": {},
   "source": [
    "1. There are two types of slicing use in Python:\n",
    "    1. Positive Indexing[slcing]\n",
    "    2. Negative Indexing[slicing]"
   ]
  },
  {
   "cell_type": "markdown",
   "id": "b9feda4e",
   "metadata": {},
   "source": [
    "### 1. Positive Indexing"
   ]
  },
  {
   "cell_type": "code",
   "execution_count": 24,
   "id": "018ba0d0",
   "metadata": {},
   "outputs": [],
   "source": [
    "x = \"Welcome to Python Data Science class\""
   ]
  },
  {
   "cell_type": "code",
   "execution_count": 26,
   "id": "181c717d",
   "metadata": {},
   "outputs": [
    {
     "name": "stdout",
     "output_type": "stream",
     "text": [
      "Data Science \n"
     ]
    }
   ],
   "source": [
    "print(x[18:31])"
   ]
  },
  {
   "cell_type": "code",
   "execution_count": 27,
   "id": "69bc50b7",
   "metadata": {},
   "outputs": [
    {
     "name": "stdout",
     "output_type": "stream",
     "text": [
      "e\n"
     ]
    }
   ],
   "source": [
    "print(x[1])"
   ]
  },
  {
   "cell_type": "code",
   "execution_count": 28,
   "id": "59cffecc",
   "metadata": {},
   "outputs": [
    {
     "name": "stdout",
     "output_type": "stream",
     "text": [
      "Welcome to Python Data Science \n"
     ]
    }
   ],
   "source": [
    "print(x[:31])"
   ]
  },
  {
   "cell_type": "code",
   "execution_count": 30,
   "id": "229933e6",
   "metadata": {},
   "outputs": [
    {
     "name": "stdout",
     "output_type": "stream",
     "text": [
      "Data Science class\n"
     ]
    }
   ],
   "source": [
    "print(x[18:])"
   ]
  },
  {
   "cell_type": "code",
   "execution_count": 32,
   "id": "f45cc1fb",
   "metadata": {},
   "outputs": [],
   "source": [
    "x = \"Welcome to Python Data Science class\""
   ]
  },
  {
   "cell_type": "code",
   "execution_count": 33,
   "id": "b8bb1a42",
   "metadata": {},
   "outputs": [
    {
     "name": "stdout",
     "output_type": "stream",
     "text": [
      "Welcome to Python Data Science class\n"
     ]
    }
   ],
   "source": [
    "print(x)"
   ]
  },
  {
   "cell_type": "code",
   "execution_count": 35,
   "id": "67bff76d",
   "metadata": {},
   "outputs": [
    {
     "name": "stdout",
     "output_type": "stream",
     "text": [
      " Python Data Science \n"
     ]
    }
   ],
   "source": [
    "print(x[10:31])"
   ]
  },
  {
   "cell_type": "markdown",
   "id": "41d677bb",
   "metadata": {},
   "source": [
    "### Negative Indexing:\n",
    "    1. negative indexing start with the end of string"
   ]
  },
  {
   "cell_type": "code",
   "execution_count": 49,
   "id": "30e64c4a",
   "metadata": {},
   "outputs": [],
   "source": [
    "x = \"Welcome to Python Data Science class \""
   ]
  },
  {
   "cell_type": "code",
   "execution_count": 50,
   "id": "231d2560",
   "metadata": {},
   "outputs": [
    {
     "name": "stdout",
     "output_type": "stream",
     "text": [
      "Welcome to Python Data Science class \n"
     ]
    }
   ],
   "source": [
    "print(x)"
   ]
  },
  {
   "cell_type": "code",
   "execution_count": 51,
   "id": "e092a846",
   "metadata": {},
   "outputs": [
    {
     "name": "stdout",
     "output_type": "stream",
     "text": [
      "class\n"
     ]
    }
   ],
   "source": [
    "print(x[-6:-1])"
   ]
  },
  {
   "cell_type": "code",
   "execution_count": null,
   "id": "5abdfcc8",
   "metadata": {},
   "outputs": [],
   "source": []
  }
 ],
 "metadata": {
  "kernelspec": {
   "display_name": "Python 3",
   "language": "python",
   "name": "python3"
  },
  "language_info": {
   "codemirror_mode": {
    "name": "ipython",
    "version": 3
   },
   "file_extension": ".py",
   "mimetype": "text/x-python",
   "name": "python",
   "nbconvert_exporter": "python",
   "pygments_lexer": "ipython3",
   "version": "3.8.8"
  }
 },
 "nbformat": 4,
 "nbformat_minor": 5
}
