{
 "cells": [
  {
   "cell_type": "markdown",
   "id": "31f7a997",
   "metadata": {},
   "source": [
    "# Dictionary"
   ]
  },
  {
   "cell_type": "markdown",
   "id": "b057f1d6",
   "metadata": {},
   "source": [
    "1. Dictionary are stored data values in pair called as [ key: values]\n",
    "2. Dictonary are stored collection of data is unordered, changeble and do not allowed values\n",
    "3. Dictionary are written using curly brackets\n",
    "4. using [Key:Value] Pair dictionary makes more optimized\n",
    "5. Dictionary are store collection of data\n",
    "6. Dictionary are store heterogeneous of data \n",
    "7. In Dictionary commonly we use homogeneous data\n",
    "8. Dictionary does not allowed Polymorphism\n",
    "9. Key can't be duplicate and must be immutable"
   ]
  },
  {
   "cell_type": "markdown",
   "id": "52c026ff",
   "metadata": {},
   "source": [
    "**Note: Dictionary keys are case sensitive same name but different cases of key will be treated diffrently**"
   ]
  },
  {
   "cell_type": "markdown",
   "id": "95668f5a",
   "metadata": {},
   "source": [
    "1. Dictionary Item:\n",
    "    1. Dictionary item [elements] are unordered, \n",
    "    2. Dictionary elements are changeble\n",
    "    3. Dictionary does not allowed duplicated \n",
    "    4. Presented in Key Value Pair\n",
    "2. Unordered:\n",
    "    1. that means ordered has not defiened\n",
    "3. Changeble:\n",
    "    1. Dictionary are changeble, that means we can change, add, or remove elements of dictionary\n",
    "4. Duplicate are not allowed:\n",
    "    1. Dictionary can not have two items with same key"
   ]
  },
  {
   "cell_type": "markdown",
   "id": "cbe1f999",
   "metadata": {},
   "source": [
    "## Creating Dictionary"
   ]
  },
  {
   "cell_type": "code",
   "execution_count": 1,
   "id": "b1ab7aa3",
   "metadata": {},
   "outputs": [],
   "source": [
    "my_dict = {}"
   ]
  },
  {
   "cell_type": "code",
   "execution_count": 2,
   "id": "a5721779",
   "metadata": {},
   "outputs": [
    {
     "name": "stdout",
     "output_type": "stream",
     "text": [
      "{}\n"
     ]
    }
   ],
   "source": [
    "print(my_dict)"
   ]
  },
  {
   "cell_type": "code",
   "execution_count": 3,
   "id": "b259bf58",
   "metadata": {},
   "outputs": [
    {
     "name": "stdout",
     "output_type": "stream",
     "text": [
      "<class 'dict'>\n"
     ]
    }
   ],
   "source": [
    "print(type(my_dict))"
   ]
  },
  {
   "cell_type": "code",
   "execution_count": 5,
   "id": "0f75d635",
   "metadata": {},
   "outputs": [
    {
     "name": "stdout",
     "output_type": "stream",
     "text": [
      "<class 'set'>\n",
      "{'mango', 'apple'}\n"
     ]
    }
   ],
   "source": [
    "# This is set not dictionary\n",
    "my_dict = {'apple','mango'}\n",
    "print(type(my_dict))\n",
    "print(my_dict)"
   ]
  },
  {
   "cell_type": "code",
   "execution_count": 7,
   "id": "bd92bebe",
   "metadata": {},
   "outputs": [],
   "source": [
    "my_dict = {'name':'Shyam',\n",
    "          'post':'Data Scientist',\n",
    "          'salary':80000,\n",
    "          'place':'Pune'}"
   ]
  },
  {
   "cell_type": "code",
   "execution_count": 8,
   "id": "7567a84d",
   "metadata": {},
   "outputs": [
    {
     "name": "stdout",
     "output_type": "stream",
     "text": [
      "{'name': 'Shyam', 'post': 'Data Scientist', 'salary': 80000, 'place': 'Pune'}\n"
     ]
    }
   ],
   "source": [
    "print(my_dict)"
   ]
  },
  {
   "cell_type": "code",
   "execution_count": 9,
   "id": "a66f4dd9",
   "metadata": {},
   "outputs": [
    {
     "name": "stdout",
     "output_type": "stream",
     "text": [
      "<class 'dict'>\n"
     ]
    }
   ],
   "source": [
    "print(type(my_dict))"
   ]
  },
  {
   "cell_type": "markdown",
   "id": "b84943a1",
   "metadata": {},
   "source": [
    "## Key cant Duplicate"
   ]
  },
  {
   "cell_type": "code",
   "execution_count": 12,
   "id": "331c9034",
   "metadata": {},
   "outputs": [
    {
     "name": "stdout",
     "output_type": "stream",
     "text": [
      "{'name': 'Khushal', 'post': 'Data Scientist', 'salary': 80000, 'place': 'Pune'}\n",
      "<class 'type'>\n"
     ]
    }
   ],
   "source": [
    "my_dict = {'name':'Shyam',\n",
    "          'post':'Data Scientist',\n",
    "          'salary':80000,\n",
    "          'place':'Pune',\n",
    "          'name':'Khushal'}\n",
    "\n",
    "print(my_dict)\n",
    "print(type(dict))"
   ]
  },
  {
   "cell_type": "markdown",
   "id": "ae171367",
   "metadata": {},
   "source": [
    "## Accessing Elements"
   ]
  },
  {
   "cell_type": "code",
   "execution_count": 13,
   "id": "96fb3e15",
   "metadata": {},
   "outputs": [
    {
     "name": "stdout",
     "output_type": "stream",
     "text": [
      "Data Scientist\n"
     ]
    }
   ],
   "source": [
    "my_dict = {'name':'Shyam',\n",
    "          'post':'Data Scientist',\n",
    "          'salary':80000,\n",
    "          'place':'Pune',\n",
    "          'name':'Khushal'}\n",
    "\n",
    "print(my_dict[\"post\"])"
   ]
  },
  {
   "cell_type": "code",
   "execution_count": 16,
   "id": "c9791e0a",
   "metadata": {},
   "outputs": [],
   "source": [
    "my_dict = {'name':['shyam','Mayur','Snehal','Garima','Sayali'],\n",
    "          'post':'Data Scientist',\n",
    "          'salary':80000,\n",
    "          'place':'Pune'}\n"
   ]
  },
  {
   "cell_type": "code",
   "execution_count": 19,
   "id": "e1b0bbfd",
   "metadata": {},
   "outputs": [
    {
     "data": {
      "text/plain": [
       "'Garima'"
      ]
     },
     "execution_count": 19,
     "metadata": {},
     "output_type": "execute_result"
    }
   ],
   "source": [
    "my_dict['name'][3]"
   ]
  },
  {
   "cell_type": "code",
   "execution_count": 20,
   "id": "a842221c",
   "metadata": {},
   "outputs": [
    {
     "name": "stdout",
     "output_type": "stream",
     "text": [
      "4\n"
     ]
    }
   ],
   "source": [
    "print(len(my_dict))"
   ]
  },
  {
   "cell_type": "markdown",
   "id": "bafd8941",
   "metadata": {},
   "source": [
    "##  Heterogenous of Data - Data Types"
   ]
  },
  {
   "cell_type": "code",
   "execution_count": 21,
   "id": "68c3a394",
   "metadata": {},
   "outputs": [],
   "source": [
    "my_dict = {'brnad':'Tata',\n",
    "          'electric': True,\n",
    "          'year':2020,\n",
    "          'color':['white','red','blue','green']}"
   ]
  },
  {
   "cell_type": "code",
   "execution_count": 22,
   "id": "e4634509",
   "metadata": {},
   "outputs": [
    {
     "name": "stdout",
     "output_type": "stream",
     "text": [
      "{'brnad': 'Tata', 'electric': True, 'year': 2020, 'color': ['white', 'red', 'blue', 'green']}\n"
     ]
    }
   ],
   "source": [
    "print(my_dict)"
   ]
  },
  {
   "cell_type": "code",
   "execution_count": 24,
   "id": "064add79",
   "metadata": {},
   "outputs": [
    {
     "data": {
      "text/plain": [
       "['white', 'red', 'blue', 'green']"
      ]
     },
     "execution_count": 24,
     "metadata": {},
     "output_type": "execute_result"
    }
   ],
   "source": [
    "my_dict['color']"
   ]
  },
  {
   "cell_type": "code",
   "execution_count": 25,
   "id": "1d33122d",
   "metadata": {},
   "outputs": [
    {
     "data": {
      "text/plain": [
       "'white'"
      ]
     },
     "execution_count": 25,
     "metadata": {},
     "output_type": "execute_result"
    }
   ],
   "source": [
    "my_dict['color'][0]"
   ]
  },
  {
   "cell_type": "code",
   "execution_count": 26,
   "id": "b1339090",
   "metadata": {},
   "outputs": [
    {
     "data": {
      "text/plain": [
       "['white', 'red', 'blue']"
      ]
     },
     "execution_count": 26,
     "metadata": {},
     "output_type": "execute_result"
    }
   ],
   "source": [
    "my_dict['color'][0:3]"
   ]
  },
  {
   "cell_type": "code",
   "execution_count": 28,
   "id": "53f5d1ab",
   "metadata": {},
   "outputs": [
    {
     "data": {
      "text/plain": [
       "['blue']"
      ]
     },
     "execution_count": 28,
     "metadata": {},
     "output_type": "execute_result"
    }
   ],
   "source": [
    "my_dict['color'][2:3]"
   ]
  },
  {
   "cell_type": "code",
   "execution_count": 29,
   "id": "ca0bc5d6",
   "metadata": {},
   "outputs": [],
   "source": [
    "my_dict = {'brnad':'Tata',\n",
    "          'electric': True,\n",
    "          'year':2020,\n",
    "          'color':('white','red','blue','green')}"
   ]
  },
  {
   "cell_type": "code",
   "execution_count": 30,
   "id": "e430fd84",
   "metadata": {},
   "outputs": [
    {
     "data": {
      "text/plain": [
       "{'brnad': 'Tata',\n",
       " 'electric': True,\n",
       " 'year': 2020,\n",
       " 'color': ('white', 'red', 'blue', 'green')}"
      ]
     },
     "execution_count": 30,
     "metadata": {},
     "output_type": "execute_result"
    }
   ],
   "source": [
    "my_dict"
   ]
  },
  {
   "cell_type": "code",
   "execution_count": 31,
   "id": "e0c2e1c1",
   "metadata": {},
   "outputs": [
    {
     "data": {
      "text/plain": [
       "'white'"
      ]
     },
     "execution_count": 31,
     "metadata": {},
     "output_type": "execute_result"
    }
   ],
   "source": [
    "my_dict['color'][0]"
   ]
  },
  {
   "cell_type": "code",
   "execution_count": 34,
   "id": "cc00a913",
   "metadata": {},
   "outputs": [],
   "source": [
    "x = my_dict.keys()"
   ]
  },
  {
   "cell_type": "code",
   "execution_count": 35,
   "id": "c75b2b8a",
   "metadata": {},
   "outputs": [
    {
     "name": "stdout",
     "output_type": "stream",
     "text": [
      "dict_keys(['brnad', 'electric', 'year', 'color'])\n"
     ]
    }
   ],
   "source": [
    "print(x)"
   ]
  },
  {
   "cell_type": "code",
   "execution_count": 36,
   "id": "605f40ce",
   "metadata": {},
   "outputs": [],
   "source": [
    "x = my_dict.values()"
   ]
  },
  {
   "cell_type": "code",
   "execution_count": 37,
   "id": "157eea1b",
   "metadata": {},
   "outputs": [
    {
     "name": "stdout",
     "output_type": "stream",
     "text": [
      "dict_values(['Tata', True, 2020, ('white', 'red', 'blue', 'green')])\n"
     ]
    }
   ],
   "source": [
    "print(x)"
   ]
  },
  {
   "cell_type": "code",
   "execution_count": null,
   "id": "81595756",
   "metadata": {},
   "outputs": [],
   "source": []
  },
  {
   "cell_type": "code",
   "execution_count": null,
   "id": "f618eef9",
   "metadata": {},
   "outputs": [],
   "source": []
  }
 ],
 "metadata": {
  "kernelspec": {
   "display_name": "Python 3",
   "language": "python",
   "name": "python3"
  },
  "language_info": {
   "codemirror_mode": {
    "name": "ipython",
    "version": 3
   },
   "file_extension": ".py",
   "mimetype": "text/x-python",
   "name": "python",
   "nbconvert_exporter": "python",
   "pygments_lexer": "ipython3",
   "version": "3.8.8"
  }
 },
 "nbformat": 4,
 "nbformat_minor": 5
}
