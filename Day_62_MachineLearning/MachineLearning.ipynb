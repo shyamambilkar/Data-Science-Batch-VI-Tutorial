{
 "cells": [
  {
   "cell_type": "markdown",
   "id": "cd0dfd6f",
   "metadata": {},
   "source": [
    "# Standard Deviation"
   ]
  },
  {
   "cell_type": "markdown",
   "id": "eb46fd30",
   "metadata": {},
   "source": [
    "1. Standard deviation is a number that describes how spreads out the values\n",
    "2. A low standard deviation means that most of the numbers are close to the mean(average) value\n",
    "3. A high standard deviation means that most of the numbers are spread out over the wider range"
   ]
  },
  {
   "cell_type": "markdown",
   "id": "3183b78e",
   "metadata": {},
   "source": [
    "**Example - We have some registered cars of speed [7] to calculate standard deviation**"
   ]
  },
  {
   "cell_type": "markdown",
   "id": "e56b76ae",
   "metadata": {},
   "source": [
    "![](https://www.gstatic.com/education/formulas2/397133473/en/population_standard_deviation.svg)"
   ]
  },
  {
   "cell_type": "markdown",
   "id": "ffd7e52e",
   "metadata": {},
   "source": [
    "1. sigma\t=\tpopulation standard deviation\n",
    "2. N\t=\tthe size of the population\n",
    "3. x_i\t=\teach value from the population\n",
    "4. mu\t=\tthe population mean"
   ]
  },
  {
   "cell_type": "code",
   "execution_count": 1,
   "id": "33af4464",
   "metadata": {},
   "outputs": [],
   "source": [
    "speed = [86,87,88,86,87,85,86]"
   ]
  },
  {
   "cell_type": "code",
   "execution_count": 3,
   "id": "fb5f1f27",
   "metadata": {},
   "outputs": [],
   "source": [
    "import numpy as np"
   ]
  },
  {
   "cell_type": "code",
   "execution_count": 4,
   "id": "29f46ec4",
   "metadata": {},
   "outputs": [
    {
     "name": "stdout",
     "output_type": "stream",
     "text": [
      "86.42857142857143\n"
     ]
    }
   ],
   "source": [
    "x = np.mean(speed)\n",
    "print(x)"
   ]
  },
  {
   "cell_type": "markdown",
   "id": "2d376d60",
   "metadata": {},
   "source": [
    "1. X_i =  [86,87,88,86,87,85,86]\n",
    "2. mu(Average) = 86.43\n",
    "3. N = 7"
   ]
  },
  {
   "cell_type": "code",
   "execution_count": 5,
   "id": "8b4c8a0f",
   "metadata": {},
   "outputs": [
    {
     "name": "stdout",
     "output_type": "stream",
     "text": [
      "0.9035079029052513\n"
     ]
    }
   ],
   "source": [
    "import numpy as np\n",
    "speed = [86,87,88,86,87,85,86]\n",
    "\n",
    "x = np.std(speed)\n",
    "print(x) "
   ]
  },
  {
   "cell_type": "code",
   "execution_count": 6,
   "id": "11c69962",
   "metadata": {},
   "outputs": [
    {
     "name": "stdout",
     "output_type": "stream",
     "text": [
      "40.49416967635931\n"
     ]
    }
   ],
   "source": [
    "speed_1 = [30,41,56,122,142,152,89,91,96]\n",
    "\n",
    "x = np.std(speed_1)\n",
    "print(x)"
   ]
  },
  {
   "cell_type": "code",
   "execution_count": 7,
   "id": "65a6ee5b",
   "metadata": {},
   "outputs": [
    {
     "name": "stdout",
     "output_type": "stream",
     "text": [
      "91.0\n"
     ]
    }
   ],
   "source": [
    "speed_1 = [30,41,56,122,142,152,89,91,96]\n",
    "\n",
    "x = np.mean(speed_1)\n",
    "print(x)"
   ]
  },
  {
   "cell_type": "markdown",
   "id": "fe07111e",
   "metadata": {},
   "source": [
    "1. Meaning that most of the values the range of 40.49 form the mean value, which is 91.0\n",
    "2. Higher standard deviation indicates that values are spred out over the wider range"
   ]
  },
  {
   "cell_type": "code",
   "execution_count": 9,
   "id": "1bc675b2",
   "metadata": {},
   "outputs": [],
   "source": [
    "import pandas as pd\n",
    "import numpy as np"
   ]
  },
  {
   "cell_type": "code",
   "execution_count": 10,
   "id": "828a18a9",
   "metadata": {},
   "outputs": [],
   "source": [
    "df = pd.read_csv('car_sales_data.csv')"
   ]
  },
  {
   "cell_type": "code",
   "execution_count": 11,
   "id": "01dd629b",
   "metadata": {},
   "outputs": [
    {
     "data": {
      "text/html": [
       "<div>\n",
       "<style scoped>\n",
       "    .dataframe tbody tr th:only-of-type {\n",
       "        vertical-align: middle;\n",
       "    }\n",
       "\n",
       "    .dataframe tbody tr th {\n",
       "        vertical-align: top;\n",
       "    }\n",
       "\n",
       "    .dataframe thead th {\n",
       "        text-align: right;\n",
       "    }\n",
       "</style>\n",
       "<table border=\"1\" class=\"dataframe\">\n",
       "  <thead>\n",
       "    <tr style=\"text-align: right;\">\n",
       "      <th></th>\n",
       "      <th>Unnamed: 0</th>\n",
       "      <th>Name_of_company</th>\n",
       "      <th>Unit Cars</th>\n",
       "      <th>car_sales</th>\n",
       "      <th>prod_cost</th>\n",
       "      <th>price</th>\n",
       "      <th>profit</th>\n",
       "      <th>percent</th>\n",
       "    </tr>\n",
       "  </thead>\n",
       "  <tbody>\n",
       "    <tr>\n",
       "      <th>0</th>\n",
       "      <td>0</td>\n",
       "      <td>Tata</td>\n",
       "      <td>10000</td>\n",
       "      <td>6000</td>\n",
       "      <td>600000</td>\n",
       "      <td>NaN</td>\n",
       "      <td>200000</td>\n",
       "      <td>33.333333</td>\n",
       "    </tr>\n",
       "    <tr>\n",
       "      <th>1</th>\n",
       "      <td>1</td>\n",
       "      <td>Mahindra</td>\n",
       "      <td>15000</td>\n",
       "      <td>9000</td>\n",
       "      <td>600000</td>\n",
       "      <td>NaN</td>\n",
       "      <td>400000</td>\n",
       "      <td>66.666667</td>\n",
       "    </tr>\n",
       "    <tr>\n",
       "      <th>2</th>\n",
       "      <td>2</td>\n",
       "      <td>Tesla</td>\n",
       "      <td>20000</td>\n",
       "      <td>12000</td>\n",
       "      <td>600000</td>\n",
       "      <td>NaN</td>\n",
       "      <td>600000</td>\n",
       "      <td>100.000000</td>\n",
       "    </tr>\n",
       "    <tr>\n",
       "      <th>3</th>\n",
       "      <td>3</td>\n",
       "      <td>Hero</td>\n",
       "      <td>7500</td>\n",
       "      <td>3500</td>\n",
       "      <td>600000</td>\n",
       "      <td>700000.0</td>\n",
       "      <td>100000</td>\n",
       "      <td>16.666667</td>\n",
       "    </tr>\n",
       "    <tr>\n",
       "      <th>4</th>\n",
       "      <td>4</td>\n",
       "      <td>Bajaj</td>\n",
       "      <td>10000</td>\n",
       "      <td>5000</td>\n",
       "      <td>600000</td>\n",
       "      <td>900000.0</td>\n",
       "      <td>300000</td>\n",
       "      <td>50.000000</td>\n",
       "    </tr>\n",
       "    <tr>\n",
       "      <th>5</th>\n",
       "      <td>5</td>\n",
       "      <td>Toyato</td>\n",
       "      <td>12000</td>\n",
       "      <td>6000</td>\n",
       "      <td>600000</td>\n",
       "      <td>1000000.0</td>\n",
       "      <td>400000</td>\n",
       "      <td>66.666667</td>\n",
       "    </tr>\n",
       "    <tr>\n",
       "      <th>6</th>\n",
       "      <td>6</td>\n",
       "      <td>BMW</td>\n",
       "      <td>8000</td>\n",
       "      <td>4000</td>\n",
       "      <td>600000</td>\n",
       "      <td>800000.0</td>\n",
       "      <td>500000</td>\n",
       "      <td>83.333333</td>\n",
       "    </tr>\n",
       "    <tr>\n",
       "      <th>7</th>\n",
       "      <td>7</td>\n",
       "      <td>Toyato</td>\n",
       "      <td>12000</td>\n",
       "      <td>6000</td>\n",
       "      <td>600000</td>\n",
       "      <td>NaN</td>\n",
       "      <td>400000</td>\n",
       "      <td>66.666667</td>\n",
       "    </tr>\n",
       "  </tbody>\n",
       "</table>\n",
       "</div>"
      ],
      "text/plain": [
       "   Unnamed: 0 Name_of_company  Unit Cars  car_sales  prod_cost      price  \\\n",
       "0           0            Tata      10000       6000     600000        NaN   \n",
       "1           1        Mahindra      15000       9000     600000        NaN   \n",
       "2           2           Tesla      20000      12000     600000        NaN   \n",
       "3           3            Hero       7500       3500     600000   700000.0   \n",
       "4           4           Bajaj      10000       5000     600000   900000.0   \n",
       "5           5          Toyato      12000       6000     600000  1000000.0   \n",
       "6           6             BMW       8000       4000     600000   800000.0   \n",
       "7           7          Toyato      12000       6000     600000        NaN   \n",
       "\n",
       "   profit     percent  \n",
       "0  200000   33.333333  \n",
       "1  400000   66.666667  \n",
       "2  600000  100.000000  \n",
       "3  100000   16.666667  \n",
       "4  300000   50.000000  \n",
       "5  400000   66.666667  \n",
       "6  500000   83.333333  \n",
       "7  400000   66.666667  "
      ]
     },
     "execution_count": 11,
     "metadata": {},
     "output_type": "execute_result"
    }
   ],
   "source": [
    "df.head(10)"
   ]
  },
  {
   "cell_type": "code",
   "execution_count": 12,
   "id": "b05237a1",
   "metadata": {},
   "outputs": [],
   "source": [
    "df1= df.drop(['Unnamed: 0'], axis=True)"
   ]
  },
  {
   "cell_type": "code",
   "execution_count": 13,
   "id": "ba5e5a80",
   "metadata": {},
   "outputs": [
    {
     "data": {
      "text/html": [
       "<div>\n",
       "<style scoped>\n",
       "    .dataframe tbody tr th:only-of-type {\n",
       "        vertical-align: middle;\n",
       "    }\n",
       "\n",
       "    .dataframe tbody tr th {\n",
       "        vertical-align: top;\n",
       "    }\n",
       "\n",
       "    .dataframe thead th {\n",
       "        text-align: right;\n",
       "    }\n",
       "</style>\n",
       "<table border=\"1\" class=\"dataframe\">\n",
       "  <thead>\n",
       "    <tr style=\"text-align: right;\">\n",
       "      <th></th>\n",
       "      <th>Name_of_company</th>\n",
       "      <th>Unit Cars</th>\n",
       "      <th>car_sales</th>\n",
       "      <th>prod_cost</th>\n",
       "      <th>price</th>\n",
       "      <th>profit</th>\n",
       "      <th>percent</th>\n",
       "    </tr>\n",
       "  </thead>\n",
       "  <tbody>\n",
       "    <tr>\n",
       "      <th>0</th>\n",
       "      <td>Tata</td>\n",
       "      <td>10000</td>\n",
       "      <td>6000</td>\n",
       "      <td>600000</td>\n",
       "      <td>NaN</td>\n",
       "      <td>200000</td>\n",
       "      <td>33.333333</td>\n",
       "    </tr>\n",
       "    <tr>\n",
       "      <th>1</th>\n",
       "      <td>Mahindra</td>\n",
       "      <td>15000</td>\n",
       "      <td>9000</td>\n",
       "      <td>600000</td>\n",
       "      <td>NaN</td>\n",
       "      <td>400000</td>\n",
       "      <td>66.666667</td>\n",
       "    </tr>\n",
       "    <tr>\n",
       "      <th>2</th>\n",
       "      <td>Tesla</td>\n",
       "      <td>20000</td>\n",
       "      <td>12000</td>\n",
       "      <td>600000</td>\n",
       "      <td>NaN</td>\n",
       "      <td>600000</td>\n",
       "      <td>100.000000</td>\n",
       "    </tr>\n",
       "    <tr>\n",
       "      <th>3</th>\n",
       "      <td>Hero</td>\n",
       "      <td>7500</td>\n",
       "      <td>3500</td>\n",
       "      <td>600000</td>\n",
       "      <td>700000.0</td>\n",
       "      <td>100000</td>\n",
       "      <td>16.666667</td>\n",
       "    </tr>\n",
       "    <tr>\n",
       "      <th>4</th>\n",
       "      <td>Bajaj</td>\n",
       "      <td>10000</td>\n",
       "      <td>5000</td>\n",
       "      <td>600000</td>\n",
       "      <td>900000.0</td>\n",
       "      <td>300000</td>\n",
       "      <td>50.000000</td>\n",
       "    </tr>\n",
       "    <tr>\n",
       "      <th>5</th>\n",
       "      <td>Toyato</td>\n",
       "      <td>12000</td>\n",
       "      <td>6000</td>\n",
       "      <td>600000</td>\n",
       "      <td>1000000.0</td>\n",
       "      <td>400000</td>\n",
       "      <td>66.666667</td>\n",
       "    </tr>\n",
       "    <tr>\n",
       "      <th>6</th>\n",
       "      <td>BMW</td>\n",
       "      <td>8000</td>\n",
       "      <td>4000</td>\n",
       "      <td>600000</td>\n",
       "      <td>800000.0</td>\n",
       "      <td>500000</td>\n",
       "      <td>83.333333</td>\n",
       "    </tr>\n",
       "    <tr>\n",
       "      <th>7</th>\n",
       "      <td>Toyato</td>\n",
       "      <td>12000</td>\n",
       "      <td>6000</td>\n",
       "      <td>600000</td>\n",
       "      <td>NaN</td>\n",
       "      <td>400000</td>\n",
       "      <td>66.666667</td>\n",
       "    </tr>\n",
       "  </tbody>\n",
       "</table>\n",
       "</div>"
      ],
      "text/plain": [
       "  Name_of_company  Unit Cars  car_sales  prod_cost      price  profit  \\\n",
       "0            Tata      10000       6000     600000        NaN  200000   \n",
       "1        Mahindra      15000       9000     600000        NaN  400000   \n",
       "2           Tesla      20000      12000     600000        NaN  600000   \n",
       "3            Hero       7500       3500     600000   700000.0  100000   \n",
       "4           Bajaj      10000       5000     600000   900000.0  300000   \n",
       "5          Toyato      12000       6000     600000  1000000.0  400000   \n",
       "6             BMW       8000       4000     600000   800000.0  500000   \n",
       "7          Toyato      12000       6000     600000        NaN  400000   \n",
       "\n",
       "      percent  \n",
       "0   33.333333  \n",
       "1   66.666667  \n",
       "2  100.000000  \n",
       "3   16.666667  \n",
       "4   50.000000  \n",
       "5   66.666667  \n",
       "6   83.333333  \n",
       "7   66.666667  "
      ]
     },
     "execution_count": 13,
     "metadata": {},
     "output_type": "execute_result"
    }
   ],
   "source": [
    "df1.head(10)"
   ]
  },
  {
   "cell_type": "code",
   "execution_count": 15,
   "id": "0b767c85",
   "metadata": {},
   "outputs": [],
   "source": [
    "x = np.mean(df1)\n",
    "df2 = df1.fillna(x)"
   ]
  },
  {
   "cell_type": "code",
   "execution_count": 16,
   "id": "a0180b9a",
   "metadata": {},
   "outputs": [
    {
     "data": {
      "text/html": [
       "<div>\n",
       "<style scoped>\n",
       "    .dataframe tbody tr th:only-of-type {\n",
       "        vertical-align: middle;\n",
       "    }\n",
       "\n",
       "    .dataframe tbody tr th {\n",
       "        vertical-align: top;\n",
       "    }\n",
       "\n",
       "    .dataframe thead th {\n",
       "        text-align: right;\n",
       "    }\n",
       "</style>\n",
       "<table border=\"1\" class=\"dataframe\">\n",
       "  <thead>\n",
       "    <tr style=\"text-align: right;\">\n",
       "      <th></th>\n",
       "      <th>Name_of_company</th>\n",
       "      <th>Unit Cars</th>\n",
       "      <th>car_sales</th>\n",
       "      <th>prod_cost</th>\n",
       "      <th>price</th>\n",
       "      <th>profit</th>\n",
       "      <th>percent</th>\n",
       "    </tr>\n",
       "  </thead>\n",
       "  <tbody>\n",
       "    <tr>\n",
       "      <th>0</th>\n",
       "      <td>Tata</td>\n",
       "      <td>10000</td>\n",
       "      <td>6000</td>\n",
       "      <td>600000</td>\n",
       "      <td>850000.0</td>\n",
       "      <td>200000</td>\n",
       "      <td>33.333333</td>\n",
       "    </tr>\n",
       "    <tr>\n",
       "      <th>1</th>\n",
       "      <td>Mahindra</td>\n",
       "      <td>15000</td>\n",
       "      <td>9000</td>\n",
       "      <td>600000</td>\n",
       "      <td>850000.0</td>\n",
       "      <td>400000</td>\n",
       "      <td>66.666667</td>\n",
       "    </tr>\n",
       "    <tr>\n",
       "      <th>2</th>\n",
       "      <td>Tesla</td>\n",
       "      <td>20000</td>\n",
       "      <td>12000</td>\n",
       "      <td>600000</td>\n",
       "      <td>850000.0</td>\n",
       "      <td>600000</td>\n",
       "      <td>100.000000</td>\n",
       "    </tr>\n",
       "    <tr>\n",
       "      <th>3</th>\n",
       "      <td>Hero</td>\n",
       "      <td>7500</td>\n",
       "      <td>3500</td>\n",
       "      <td>600000</td>\n",
       "      <td>700000.0</td>\n",
       "      <td>100000</td>\n",
       "      <td>16.666667</td>\n",
       "    </tr>\n",
       "    <tr>\n",
       "      <th>4</th>\n",
       "      <td>Bajaj</td>\n",
       "      <td>10000</td>\n",
       "      <td>5000</td>\n",
       "      <td>600000</td>\n",
       "      <td>900000.0</td>\n",
       "      <td>300000</td>\n",
       "      <td>50.000000</td>\n",
       "    </tr>\n",
       "    <tr>\n",
       "      <th>5</th>\n",
       "      <td>Toyato</td>\n",
       "      <td>12000</td>\n",
       "      <td>6000</td>\n",
       "      <td>600000</td>\n",
       "      <td>1000000.0</td>\n",
       "      <td>400000</td>\n",
       "      <td>66.666667</td>\n",
       "    </tr>\n",
       "    <tr>\n",
       "      <th>6</th>\n",
       "      <td>BMW</td>\n",
       "      <td>8000</td>\n",
       "      <td>4000</td>\n",
       "      <td>600000</td>\n",
       "      <td>800000.0</td>\n",
       "      <td>500000</td>\n",
       "      <td>83.333333</td>\n",
       "    </tr>\n",
       "    <tr>\n",
       "      <th>7</th>\n",
       "      <td>Toyato</td>\n",
       "      <td>12000</td>\n",
       "      <td>6000</td>\n",
       "      <td>600000</td>\n",
       "      <td>850000.0</td>\n",
       "      <td>400000</td>\n",
       "      <td>66.666667</td>\n",
       "    </tr>\n",
       "  </tbody>\n",
       "</table>\n",
       "</div>"
      ],
      "text/plain": [
       "  Name_of_company  Unit Cars  car_sales  prod_cost      price  profit  \\\n",
       "0            Tata      10000       6000     600000   850000.0  200000   \n",
       "1        Mahindra      15000       9000     600000   850000.0  400000   \n",
       "2           Tesla      20000      12000     600000   850000.0  600000   \n",
       "3            Hero       7500       3500     600000   700000.0  100000   \n",
       "4           Bajaj      10000       5000     600000   900000.0  300000   \n",
       "5          Toyato      12000       6000     600000  1000000.0  400000   \n",
       "6             BMW       8000       4000     600000   800000.0  500000   \n",
       "7          Toyato      12000       6000     600000   850000.0  400000   \n",
       "\n",
       "      percent  \n",
       "0   33.333333  \n",
       "1   66.666667  \n",
       "2  100.000000  \n",
       "3   16.666667  \n",
       "4   50.000000  \n",
       "5   66.666667  \n",
       "6   83.333333  \n",
       "7   66.666667  "
      ]
     },
     "execution_count": 16,
     "metadata": {},
     "output_type": "execute_result"
    }
   ],
   "source": [
    "df2.head(10)"
   ]
  },
  {
   "cell_type": "code",
   "execution_count": 17,
   "id": "54429941",
   "metadata": {},
   "outputs": [
    {
     "data": {
      "text/html": [
       "<div>\n",
       "<style scoped>\n",
       "    .dataframe tbody tr th:only-of-type {\n",
       "        vertical-align: middle;\n",
       "    }\n",
       "\n",
       "    .dataframe tbody tr th {\n",
       "        vertical-align: top;\n",
       "    }\n",
       "\n",
       "    .dataframe thead th {\n",
       "        text-align: right;\n",
       "    }\n",
       "</style>\n",
       "<table border=\"1\" class=\"dataframe\">\n",
       "  <thead>\n",
       "    <tr style=\"text-align: right;\">\n",
       "      <th></th>\n",
       "      <th>Unit Cars</th>\n",
       "      <th>car_sales</th>\n",
       "      <th>prod_cost</th>\n",
       "      <th>price</th>\n",
       "      <th>profit</th>\n",
       "      <th>percent</th>\n",
       "    </tr>\n",
       "  </thead>\n",
       "  <tbody>\n",
       "    <tr>\n",
       "      <th>count</th>\n",
       "      <td>8.000000</td>\n",
       "      <td>8.000000</td>\n",
       "      <td>8.0</td>\n",
       "      <td>8.000000</td>\n",
       "      <td>8.000000</td>\n",
       "      <td>8.000000</td>\n",
       "    </tr>\n",
       "    <tr>\n",
       "      <th>mean</th>\n",
       "      <td>11812.500000</td>\n",
       "      <td>6437.500000</td>\n",
       "      <td>600000.0</td>\n",
       "      <td>850000.000000</td>\n",
       "      <td>362500.000000</td>\n",
       "      <td>60.416667</td>\n",
       "    </tr>\n",
       "    <tr>\n",
       "      <th>std</th>\n",
       "      <td>4087.764845</td>\n",
       "      <td>2795.883454</td>\n",
       "      <td>0.0</td>\n",
       "      <td>84515.425473</td>\n",
       "      <td>159798.980866</td>\n",
       "      <td>26.633163</td>\n",
       "    </tr>\n",
       "    <tr>\n",
       "      <th>min</th>\n",
       "      <td>7500.000000</td>\n",
       "      <td>3500.000000</td>\n",
       "      <td>600000.0</td>\n",
       "      <td>700000.000000</td>\n",
       "      <td>100000.000000</td>\n",
       "      <td>16.666667</td>\n",
       "    </tr>\n",
       "    <tr>\n",
       "      <th>25%</th>\n",
       "      <td>9500.000000</td>\n",
       "      <td>4750.000000</td>\n",
       "      <td>600000.0</td>\n",
       "      <td>837500.000000</td>\n",
       "      <td>275000.000000</td>\n",
       "      <td>45.833333</td>\n",
       "    </tr>\n",
       "    <tr>\n",
       "      <th>50%</th>\n",
       "      <td>11000.000000</td>\n",
       "      <td>6000.000000</td>\n",
       "      <td>600000.0</td>\n",
       "      <td>850000.000000</td>\n",
       "      <td>400000.000000</td>\n",
       "      <td>66.666667</td>\n",
       "    </tr>\n",
       "    <tr>\n",
       "      <th>75%</th>\n",
       "      <td>12750.000000</td>\n",
       "      <td>6750.000000</td>\n",
       "      <td>600000.0</td>\n",
       "      <td>862500.000000</td>\n",
       "      <td>425000.000000</td>\n",
       "      <td>70.833333</td>\n",
       "    </tr>\n",
       "    <tr>\n",
       "      <th>max</th>\n",
       "      <td>20000.000000</td>\n",
       "      <td>12000.000000</td>\n",
       "      <td>600000.0</td>\n",
       "      <td>1000000.000000</td>\n",
       "      <td>600000.000000</td>\n",
       "      <td>100.000000</td>\n",
       "    </tr>\n",
       "  </tbody>\n",
       "</table>\n",
       "</div>"
      ],
      "text/plain": [
       "          Unit Cars     car_sales  prod_cost           price         profit  \\\n",
       "count      8.000000      8.000000        8.0        8.000000       8.000000   \n",
       "mean   11812.500000   6437.500000   600000.0   850000.000000  362500.000000   \n",
       "std     4087.764845   2795.883454        0.0    84515.425473  159798.980866   \n",
       "min     7500.000000   3500.000000   600000.0   700000.000000  100000.000000   \n",
       "25%     9500.000000   4750.000000   600000.0   837500.000000  275000.000000   \n",
       "50%    11000.000000   6000.000000   600000.0   850000.000000  400000.000000   \n",
       "75%    12750.000000   6750.000000   600000.0   862500.000000  425000.000000   \n",
       "max    20000.000000  12000.000000   600000.0  1000000.000000  600000.000000   \n",
       "\n",
       "          percent  \n",
       "count    8.000000  \n",
       "mean    60.416667  \n",
       "std     26.633163  \n",
       "min     16.666667  \n",
       "25%     45.833333  \n",
       "50%     66.666667  \n",
       "75%     70.833333  \n",
       "max    100.000000  "
      ]
     },
     "execution_count": 17,
     "metadata": {},
     "output_type": "execute_result"
    }
   ],
   "source": [
    "df2.describe()"
   ]
  },
  {
   "cell_type": "code",
   "execution_count": 18,
   "id": "1db74951",
   "metadata": {},
   "outputs": [
    {
     "data": {
      "text/html": [
       "<div>\n",
       "<style scoped>\n",
       "    .dataframe tbody tr th:only-of-type {\n",
       "        vertical-align: middle;\n",
       "    }\n",
       "\n",
       "    .dataframe tbody tr th {\n",
       "        vertical-align: top;\n",
       "    }\n",
       "\n",
       "    .dataframe thead th {\n",
       "        text-align: right;\n",
       "    }\n",
       "</style>\n",
       "<table border=\"1\" class=\"dataframe\">\n",
       "  <thead>\n",
       "    <tr style=\"text-align: right;\">\n",
       "      <th></th>\n",
       "      <th>Unit Cars</th>\n",
       "      <th>car_sales</th>\n",
       "      <th>prod_cost</th>\n",
       "      <th>price</th>\n",
       "      <th>profit</th>\n",
       "      <th>percent</th>\n",
       "    </tr>\n",
       "  </thead>\n",
       "  <tbody>\n",
       "    <tr>\n",
       "      <th>Unit Cars</th>\n",
       "      <td>1.000000</td>\n",
       "      <td>0.986299</td>\n",
       "      <td>NaN</td>\n",
       "      <td>0.320466</td>\n",
       "      <td>0.676593</td>\n",
       "      <td>0.676593</td>\n",
       "    </tr>\n",
       "    <tr>\n",
       "      <th>car_sales</th>\n",
       "      <td>0.986299</td>\n",
       "      <td>1.000000</td>\n",
       "      <td>NaN</td>\n",
       "      <td>0.256942</td>\n",
       "      <td>0.633502</td>\n",
       "      <td>0.633502</td>\n",
       "    </tr>\n",
       "    <tr>\n",
       "      <th>prod_cost</th>\n",
       "      <td>NaN</td>\n",
       "      <td>NaN</td>\n",
       "      <td>NaN</td>\n",
       "      <td>NaN</td>\n",
       "      <td>NaN</td>\n",
       "      <td>NaN</td>\n",
       "    </tr>\n",
       "    <tr>\n",
       "      <th>price</th>\n",
       "      <td>0.320466</td>\n",
       "      <td>0.256942</td>\n",
       "      <td>NaN</td>\n",
       "      <td>1.000000</td>\n",
       "      <td>0.370220</td>\n",
       "      <td>0.370220</td>\n",
       "    </tr>\n",
       "    <tr>\n",
       "      <th>profit</th>\n",
       "      <td>0.676593</td>\n",
       "      <td>0.633502</td>\n",
       "      <td>NaN</td>\n",
       "      <td>0.370220</td>\n",
       "      <td>1.000000</td>\n",
       "      <td>1.000000</td>\n",
       "    </tr>\n",
       "    <tr>\n",
       "      <th>percent</th>\n",
       "      <td>0.676593</td>\n",
       "      <td>0.633502</td>\n",
       "      <td>NaN</td>\n",
       "      <td>0.370220</td>\n",
       "      <td>1.000000</td>\n",
       "      <td>1.000000</td>\n",
       "    </tr>\n",
       "  </tbody>\n",
       "</table>\n",
       "</div>"
      ],
      "text/plain": [
       "           Unit Cars  car_sales  prod_cost     price    profit   percent\n",
       "Unit Cars   1.000000   0.986299        NaN  0.320466  0.676593  0.676593\n",
       "car_sales   0.986299   1.000000        NaN  0.256942  0.633502  0.633502\n",
       "prod_cost        NaN        NaN        NaN       NaN       NaN       NaN\n",
       "price       0.320466   0.256942        NaN  1.000000  0.370220  0.370220\n",
       "profit      0.676593   0.633502        NaN  0.370220  1.000000  1.000000\n",
       "percent     0.676593   0.633502        NaN  0.370220  1.000000  1.000000"
      ]
     },
     "execution_count": 18,
     "metadata": {},
     "output_type": "execute_result"
    }
   ],
   "source": [
    "df2.corr()"
   ]
  },
  {
   "cell_type": "markdown",
   "id": "915979a5",
   "metadata": {},
   "source": [
    "# Variance"
   ]
  },
  {
   "cell_type": "markdown",
   "id": "08b3b989",
   "metadata": {},
   "source": [
    "1. Variance is another number that indicates how spread out the values are\n",
    "2. If you take the square root of the variance you get the standard deviation"
   ]
  },
  {
   "cell_type": "markdown",
   "id": "71257741",
   "metadata": {},
   "source": [
    "### To calculate Variance of Dataset using below steps\n",
    "1. Finding the mean(the average).\n",
    "2. Subtracting the mean from each number in the data set and then squaring the result. The results are squared to make the negatives positive. Otherwise negative numbers would cancel out the positives in the next step. It’s the distance from the mean that’s important, not positive or negative numbers.\n",
    "3. Averaging the squared differences."
   ]
  },
  {
   "cell_type": "markdown",
   "id": "44649234",
   "metadata": {},
   "source": [
    "![](https://www.gstatic.com/education/formulas2/397133473/en/sample_variance.svg)"
   ]
  },
  {
   "cell_type": "markdown",
   "id": "d2e982af",
   "metadata": {},
   "source": [
    "1. S^2\t=\tsample variance\n",
    "2. x_i\t=\tthe value of the one observation\n",
    "3. bar{x}\t=\tthe mean value of all observations\n",
    "4. n\t=\tthe number of observations"
   ]
  },
  {
   "cell_type": "markdown",
   "id": "049a1820",
   "metadata": {},
   "source": [
    "### 1. Finding the Mean(Average)"
   ]
  },
  {
   "cell_type": "code",
   "execution_count": 19,
   "id": "9443b016",
   "metadata": {},
   "outputs": [
    {
     "name": "stdout",
     "output_type": "stream",
     "text": [
      "91.0\n"
     ]
    }
   ],
   "source": [
    "speed_1 = [30,41,56,122,142,152,89,91,96]\n",
    "\n",
    "x = np.mean(speed_1)\n",
    "print(x)"
   ]
  },
  {
   "cell_type": "markdown",
   "id": "9f43efa2",
   "metadata": {},
   "source": [
    "### 2.  For each value : The difference from the mean"
   ]
  },
  {
   "cell_type": "code",
   "execution_count": 25,
   "id": "08536323",
   "metadata": {},
   "outputs": [
    {
     "name": "stdout",
     "output_type": "stream",
     "text": [
      "30 - 91.0 = -61.0\n",
      "41 - 91.0 = -50.0\n",
      "56 - 91.0 = -35.0\n",
      "122 - 91.0 = 31.0\n",
      "142 - 91.0 = 51.0\n",
      "152 - 91.0 =  61.0\n",
      "89 - 91.0 = -2.0\n",
      "91 - 91.0 = 0.0\n",
      "96 - 91.0 = 5.0\n"
     ]
    }
   ],
   "source": [
    "print(\"30 - 91.0 =\",30 - 91.0)\n",
    "print(\"41 - 91.0 =\",41 - 91.0)\n",
    "print(\"56 - 91.0 =\",56 - 91.0)\n",
    "print(\"122 - 91.0 =\",122 - 91.0)\n",
    "print(\"142 - 91.0 =\",142 - 91.0)\n",
    "print(\"152 - 91.0 = \",152 - 91.0)\n",
    "print(\"89 - 91.0 =\",89 - 91.0)\n",
    "print(\"91 - 91.0 =\",91 - 91.0)\n",
    "print(\"96 - 91.0 =\",96 - 91.0)"
   ]
  },
  {
   "cell_type": "markdown",
   "id": "67913f09",
   "metadata": {},
   "source": [
    "### step 3 - For each Difference - find squre value"
   ]
  },
  {
   "cell_type": "code",
   "execution_count": 27,
   "id": "0fcaadcc",
   "metadata": {},
   "outputs": [
    {
     "name": "stdout",
     "output_type": "stream",
     "text": [
      "square of -61.0= -3721.0\n",
      "square of -50.0 = -2500.0\n",
      "square of -35.0 = -1225.0\n",
      "square of 31.0 = 961.0\n",
      "square of 51.0 = 2601.0\n",
      "square of 61.0 = 3721.0\n",
      "square of -2.0 = -4.0\n",
      "square of 0.0 = 0.0\n",
      "square of 5.0 = 25.0\n"
     ]
    }
   ],
   "source": [
    "print(\"square of -61.0=\",-61.0 ** 2)\n",
    "print(\"square of -50.0 =\",-50.0 ** 2)\n",
    "print(\"square of -35.0 =\",-35.0 ** 2)\n",
    "print(\"square of 31.0 =\",31.0 ** 2)\n",
    "print(\"square of 51.0 =\",51.0 ** 2)\n",
    "print(\"square of 61.0 =\",61.0 ** 2)\n",
    "print(\"square of -2.0 =\",-2.0 ** 2)\n",
    "print(\"square of 0.0 =\",0.0 ** 2)\n",
    "print(\"square of 5.0 =\",5.0 ** 2)"
   ]
  },
  {
   "cell_type": "markdown",
   "id": "13f8ae4f",
   "metadata": {},
   "source": [
    "### step 4 - The variance is the average number of square differences"
   ]
  },
  {
   "cell_type": "code",
   "execution_count": 34,
   "id": "c1bbf4ab",
   "metadata": {},
   "outputs": [
    {
     "data": {
      "text/plain": [
       "1639.7777777777778"
      ]
     },
     "execution_count": 34,
     "metadata": {},
     "output_type": "execute_result"
    }
   ],
   "source": [
    "(3721.0 + 2500.0 + 1225.0 + 961.0 + 2601.0 + 3721.0 + 4.0 + 0.0 + 25.0) / 9"
   ]
  },
  {
   "cell_type": "code",
   "execution_count": 35,
   "id": "fe7444ad",
   "metadata": {},
   "outputs": [
    {
     "name": "stdout",
     "output_type": "stream",
     "text": [
      "1639.7777777777778\n"
     ]
    }
   ],
   "source": [
    "speed_1 = [30,41,56,122,142,152,89,91,96]\n",
    "\n",
    "x = np.var(speed_1)\n",
    "print(x)"
   ]
  },
  {
   "cell_type": "markdown",
   "id": "aa9100e3",
   "metadata": {},
   "source": [
    "# Standard Deviation"
   ]
  },
  {
   "cell_type": "markdown",
   "id": "ae7c5bc6",
   "metadata": {},
   "source": [
    "#### square root of variance:\n",
    "    1. Under root of 1639.7777777777778"
   ]
  },
  {
   "cell_type": "markdown",
   "id": "29ee1e71",
   "metadata": {},
   "source": [
    "### Symbol \n",
    "1. Standard Deviation = sigma\n",
    "2. Variance =  sigma square"
   ]
  },
  {
   "cell_type": "markdown",
   "id": "c9fdce60",
   "metadata": {},
   "source": [
    "# Percentage"
   ]
  },
  {
   "cell_type": "code",
   "execution_count": 36,
   "id": "a1ac7ca5",
   "metadata": {},
   "outputs": [
    {
     "name": "stdout",
     "output_type": "stream",
     "text": [
      "122.0\n"
     ]
    }
   ],
   "source": [
    "speed_1 = [30,41,56,122,142,152,89,91,96]\n",
    "\n",
    "x = np.percentile(speed_1,75)\n",
    "print(x)"
   ]
  },
  {
   "cell_type": "code",
   "execution_count": 37,
   "id": "34ff617d",
   "metadata": {},
   "outputs": [
    {
     "name": "stdout",
     "output_type": "stream",
     "text": [
      "56.0\n"
     ]
    }
   ],
   "source": [
    "speed_1 = [30,41,56,122,142,152,89,91,96]\n",
    "\n",
    "x = np.percentile(speed_1, 25)\n",
    "print(x)"
   ]
  },
  {
   "cell_type": "code",
   "execution_count": 38,
   "id": "c527ee19",
   "metadata": {},
   "outputs": [
    {
     "name": "stdout",
     "output_type": "stream",
     "text": [
      "91.0\n"
     ]
    }
   ],
   "source": [
    "speed_1 = [30,41,56,122,142,152,89,91,96]\n",
    "\n",
    "x = np.percentile(speed_1,50)\n",
    "print(x)"
   ]
  },
  {
   "cell_type": "code",
   "execution_count": 40,
   "id": "7d851902",
   "metadata": {},
   "outputs": [
    {
     "name": "stdout",
     "output_type": "stream",
     "text": [
      "152\n"
     ]
    }
   ],
   "source": [
    "speed_1 = [30,41,56,122,142,152,89,91,96]\n",
    "\n",
    "x = np.max(speed_1)\n",
    "print(x)"
   ]
  },
  {
   "cell_type": "code",
   "execution_count": 41,
   "id": "1dca9c15",
   "metadata": {},
   "outputs": [
    {
     "name": "stdout",
     "output_type": "stream",
     "text": [
      "30\n"
     ]
    }
   ],
   "source": [
    "speed_1 = [30,41,56,122,142,152,89,91,96]\n",
    "\n",
    "x = np.min(speed_1)\n",
    "print(x)"
   ]
  },
  {
   "cell_type": "code",
   "execution_count": null,
   "id": "65552534",
   "metadata": {},
   "outputs": [],
   "source": []
  },
  {
   "cell_type": "code",
   "execution_count": null,
   "id": "b3104527",
   "metadata": {},
   "outputs": [],
   "source": []
  }
 ],
 "metadata": {
  "kernelspec": {
   "display_name": "Python 3",
   "language": "python",
   "name": "python3"
  },
  "language_info": {
   "codemirror_mode": {
    "name": "ipython",
    "version": 3
   },
   "file_extension": ".py",
   "mimetype": "text/x-python",
   "name": "python",
   "nbconvert_exporter": "python",
   "pygments_lexer": "ipython3",
   "version": "3.8.8"
  }
 },
 "nbformat": 4,
 "nbformat_minor": 5
}
