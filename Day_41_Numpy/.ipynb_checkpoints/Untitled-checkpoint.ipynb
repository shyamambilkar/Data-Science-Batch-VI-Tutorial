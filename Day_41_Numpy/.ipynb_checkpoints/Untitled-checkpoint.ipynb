{
 "cells": [
  {
   "cell_type": "markdown",
   "id": "31da9032",
   "metadata": {},
   "source": [
    "# Numpy"
   ]
  },
  {
   "cell_type": "markdown",
   "id": "b235221d",
   "metadata": {},
   "source": [
    "1. Numpy is a library used for working with Array\n",
    "2. Numpy stands for Numerical Python\n",
    "3. Numpy library consisting of multidimensional array object and collection routine\n",
    "4. Numpy using mathematical and logical operations on array can be performed\n",
    "5. Numpy also has a functions working with diffrent domain:\n",
    "    1. Linear algebra\n",
    "    2. Fourior Transform\n",
    "    3. matrices\n",
    "6. Numpy is an open source core python library for scintific computation\n",
    "7. Python is slower as compared to fortron and other language\n"
   ]
  },
  {
   "cell_type": "markdown",
   "id": "f4610a57",
   "metadata": {},
   "source": [
    "## Features of Numpy:\n",
    "1. High Performance\n",
    "2. Integrated code from C and C++\n",
    "3. Multidimensional Container\n",
    "4. Broadcastcasting Functions\n",
    "5. Work with diffrent databased\n",
    "6. Additional Linear Algebra"
   ]
  },
  {
   "cell_type": "markdown",
   "id": "73b5bf32",
   "metadata": {},
   "source": [
    "#### 1. High Performance (N-dimensional Array object):\n",
    "    1. It is homogeneous Array object\n",
    "    2. Perform operations on Array elements\n",
    "    3. Array in Numpy can be one dimensional or Multidimensional:\n",
    "        1. One Dimensional:\n",
    "            1. one dimensional array can be consisting of single row or column\n",
    "            2. elements are homogeneous in nature\n",
    "            3. my_array = [1,2,3,4]\n",
    "        2. Multidimensional:\n",
    "            1. we have various column and rows\n",
    "            2. each column as dimension, elements are homogeneous"
   ]
  },
  {
   "cell_type": "markdown",
   "id": "7c8ceec3",
   "metadata": {},
   "source": [
    "#### 2. Integrating Code form C and C++:\n",
    "    1. integrate the functionalites in various Programming language this helps to implements inter- platform functions"
   ]
  },
  {
   "cell_type": "markdown",
   "id": "8239ce68",
   "metadata": {},
   "source": [
    "#### 3. Multidimensional Container:\n",
    "    1. Generic data refers to the parameterized data type of Array\n",
    "    2. It can perform function on the generic data type\n",
    "    3. Parameteres help increse the diversity of Array"
   ]
  },
  {
   "cell_type": "markdown",
   "id": "504b85ea",
   "metadata": {},
   "source": [
    "#### 4. Addditional Linear Algebra, Foriour Transform, Random Number Capabilty:\n",
    "    1. capability to perform complex operation of elements like linear algebra, Fourior Transform etc.\n",
    "    2. We have separate module for each of complex Function:\n",
    "        1. linalg - Linear Algebra\n",
    "        2. fft - Fouriour Transform\n",
    "        3. matrics -  matrices\n",
    "        4. matplotlib - Plotting Graph"
   ]
  },
  {
   "cell_type": "markdown",
   "id": "2ad6b360",
   "metadata": {},
   "source": [
    "#### 5. It Consist Broadcasting Function:\n",
    "    1. It is very useful work with Arrray of uneven shape\n",
    "    2. some rules for limitations and its implementation\n",
    "    3. for broadcasting one array need to be one dimensional"
   ]
  },
  {
   "cell_type": "markdown",
   "id": "f6d9b402",
   "metadata": {},
   "source": [
    "#### 6. Work with Varied Databases:\n",
    "    1. work with different data types\n",
    "    2. [dtype] function can be used"
   ]
  },
  {
   "cell_type": "markdown",
   "id": "17557b84",
   "metadata": {},
   "source": [
    "#### 1. How to Install any Library [NumPy]:\n",
    "    1. pip install NumPy\n",
    "    2. import in application using [import] keyword\n",
    "    3. import numpy [use alise np]\n",
    "    4. import numpy as np\n",
    "    "
   ]
  },
  {
   "cell_type": "code",
   "execution_count": 1,
   "id": "09f24e47",
   "metadata": {},
   "outputs": [],
   "source": [
    "import numpy as np"
   ]
  },
  {
   "cell_type": "code",
   "execution_count": null,
   "id": "915414be",
   "metadata": {},
   "outputs": [],
   "source": []
  }
 ],
 "metadata": {
  "kernelspec": {
   "display_name": "Python 3",
   "language": "python",
   "name": "python3"
  },
  "language_info": {
   "codemirror_mode": {
    "name": "ipython",
    "version": 3
   },
   "file_extension": ".py",
   "mimetype": "text/x-python",
   "name": "python",
   "nbconvert_exporter": "python",
   "pygments_lexer": "ipython3",
   "version": "3.8.8"
  }
 },
 "nbformat": 4,
 "nbformat_minor": 5
}
