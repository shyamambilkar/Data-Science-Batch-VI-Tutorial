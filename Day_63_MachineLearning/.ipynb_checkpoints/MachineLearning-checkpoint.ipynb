{
 "cells": [
  {
   "cell_type": "markdown",
   "id": "c04dd8b9",
   "metadata": {},
   "source": [
    "# Machine Learning"
   ]
  },
  {
   "cell_type": "markdown",
   "id": "b9f3bf6b",
   "metadata": {},
   "source": [
    "1. Machine Learning is a branch computer science and Artificial Intelligence\n",
    "2. Machine Learning is the study of making machine more like humans:\n",
    "    1. Behaviour and decision their own program by with explicitly any program\n",
    "3. There are differnt types of Machine Learning:\n",
    "    1. Supervised Machine Learning Algorithm [Label Data]:\n",
    "        1. Regression:\n",
    "            1. Linear Regression\n",
    "            2. Lasso Regression\n",
    "            3. Ridge Regresssion (L1 and L2 Regression)\n",
    "        2. Classification:\n",
    "            1. Logistic Regression\n",
    "            2. Naive Bayes [NB]\n",
    "            3. Support Vector Machine [SVM]\n",
    "            4. K - Nearest Neighbor [KNN]\n",
    "            5. Decision Tree [DT]\n",
    "            6. Random Forest [RF]\n",
    "    2. Unsupervised Machine Learning Algorithm [Unlabel Data]:\n",
    "        1. Clustering:\n",
    "            1. K - Means\n",
    "            2. K - Medians\n",
    "        2. Association Rules (Data Mining):\n",
    "            1. Aprori Algorithm\n",
    "            2. FP Growth Algorithm\n",
    "            3. Market Basket Analysis\n",
    "        3. Dimensionality Reduction:\n",
    "            1. PCA (Principle Component Analysis)\n",
    "    3. Reinforcement Machine Learning Algorithm:\n",
    "        1. Q - Model"
   ]
  },
  {
   "cell_type": "markdown",
   "id": "547b992a",
   "metadata": {},
   "source": [
    "## Ensemble Techniques"
   ]
  },
  {
   "cell_type": "markdown",
   "id": "e16130a5",
   "metadata": {},
   "source": [
    "1. Random Forest\n",
    "2. Bagging and Boosting:\n",
    "    1. Ada Boost\n",
    "    2. XG Boost"
   ]
  },
  {
   "cell_type": "markdown",
   "id": "ca41c88f",
   "metadata": {},
   "source": [
    "#### There are different steps to implement Machine Learning Algorithm"
   ]
  },
  {
   "cell_type": "markdown",
   "id": "fdf39579",
   "metadata": {},
   "source": [
    "1. Data Collection / Gathering Data (For Practice Purpose to with Kaggle)\n",
    "2. Data Preprocessing\n",
    "3. EDA (Exploratory Data Analysis)\n",
    "4. Feature Engineering / Feature Extraction\n",
    "5. Model Selction:\n",
    "    1. Traning [80]\n",
    "    2. Testing [20]\n",
    "6. Evalution\n",
    "7. HyperParamter Optimization (Tuning)\n",
    "8. Prediction"
   ]
  },
  {
   "cell_type": "markdown",
   "id": "ad0ab406",
   "metadata": {},
   "source": [
    "### Machine Learning Process:\n",
    "    1. Training\n",
    "    2. Validation\n",
    "    3. Testing"
   ]
  },
  {
   "cell_type": "markdown",
   "id": "e6ba0677",
   "metadata": {},
   "source": [
    "## What is Machine Learning?"
   ]
  },
  {
   "cell_type": "markdown",
   "id": "b8c191a5",
   "metadata": {},
   "source": [
    "1. Machine Learning is a subset of Artificial Intelligence\n",
    "2. It is mainly focus on the designing System, whose allowing them to learn and make prediction based on the experience which is case of Machine\n",
    "3. Now Machine Learning Model Perform:\n",
    "    1. Training [80%]\n",
    "    2. Testing [20%]"
   ]
  },
  {
   "cell_type": "markdown",
   "id": "f119b1ba",
   "metadata": {},
   "source": [
    "#### There are three different types of Machine Learning algorithm:\n",
    "    1. Supervised\n",
    "    2. Unsupervised\n",
    "    3. Reinforcement"
   ]
  },
  {
   "cell_type": "code",
   "execution_count": null,
   "id": "905fe912",
   "metadata": {},
   "outputs": [],
   "source": []
  }
 ],
 "metadata": {
  "kernelspec": {
   "display_name": "Python 3",
   "language": "python",
   "name": "python3"
  },
  "language_info": {
   "codemirror_mode": {
    "name": "ipython",
    "version": 3
   },
   "file_extension": ".py",
   "mimetype": "text/x-python",
   "name": "python",
   "nbconvert_exporter": "python",
   "pygments_lexer": "ipython3",
   "version": "3.8.8"
  }
 },
 "nbformat": 4,
 "nbformat_minor": 5
}
