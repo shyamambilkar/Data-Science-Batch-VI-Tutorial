{
 "cells": [
  {
   "cell_type": "markdown",
   "id": "73f9d32a",
   "metadata": {},
   "source": [
    "# Pandas\n",
    "1. What is Pandas?\n",
    "2. Why Pandas\n",
    "3. What Pandas can do?\n",
    "4. Pandas Series\n",
    "5. DataFrame"
   ]
  },
  {
   "cell_type": "markdown",
   "id": "e5b7b9b3",
   "metadata": {},
   "source": [
    "1. Basic:\n",
    "    1. Introduction\n",
    "    2. Getting Started\n",
    "    4. Pandas Series\n",
    "    5. DataFrame\n",
    "    6. Read CSV\n",
    "    7. Read Json\n",
    "    8. Analyze Data\n",
    "2. Cleaning Data:\n",
    "    1. Clean Data\n",
    "    2. Clean Empty Data\n",
    "    3. Clean Wrong Format\n",
    "    4. Clean Wrong Data\n",
    "    5. Remove Duplicates\n",
    "3. Advanced:\n",
    "    1. Correlation\n",
    "    2. Plotting"
   ]
  },
  {
   "cell_type": "markdown",
   "id": "7ace002b",
   "metadata": {},
   "source": [
    "## What is Pandas"
   ]
  },
  {
   "cell_type": "markdown",
   "id": "f0b1d505",
   "metadata": {},
   "source": [
    "1. Pandas is a library used for working with Dataset\n",
    "2. It has a Function for analyzing, cleaning, exploring, and manupulation data\n",
    "3. pandas is a Popular Python based data analyzing toolkit which can be imported using(import pandas as pd)\n",
    "4. In Pandas present diverse range of utilizing, ranging from parsing multiple file format to converting enter table into Numpy Matrix"
   ]
  },
  {
   "cell_type": "markdown",
   "id": "ff69a1e1",
   "metadata": {},
   "source": [
    "## Why Pandas"
   ]
  },
  {
   "cell_type": "markdown",
   "id": "2f270d05",
   "metadata": {},
   "source": [
    "1. Pandas allow us to analyze big data and make conclusion bar done statistical the ones\n",
    "2. Pandas can clean messy data sets, and make them readable and relevent\n",
    "3. Relavant data is very important in data science"
   ]
  },
  {
   "cell_type": "markdown",
   "id": "91316132",
   "metadata": {},
   "source": [
    "## What can Pandas Do?"
   ]
  },
  {
   "cell_type": "markdown",
   "id": "a5948398",
   "metadata": {},
   "source": [
    "1. Is there corelation between two or more columns\n",
    "2. What is average value\n",
    "3. Max Value\n",
    "4. Min Value\n",
    "5. Pandas are also able to delete rows that are not relavant, or contains wrong values, like empty or Null Values this is called cleaning Data"
   ]
  },
  {
   "cell_type": "markdown",
   "id": "5ae13bcf",
   "metadata": {},
   "source": [
    "## Features of Pandas"
   ]
  },
  {
   "cell_type": "markdown",
   "id": "ce93985d",
   "metadata": {},
   "source": [
    "1. Easy handling of missing data (represented as NaN, NA, or NaT) in floating point as well as non-floating point data\n",
    "2. Size mutability: columns can be inserted and deleted from DataFrame and higher dimensional objects\n",
    "3. Automatic and explicit data alignment: objects can be explicitly aligned to a set of labels, or the user can simply ignore the labels and let Series, DataFrame, etc. automatically align the data for you in computations\n",
    "4. Powerful, flexible group by functionality to perform split-apply-combine operations on data sets, for both aggregating and transforming data\n",
    "5. Make it easy to convert ragged, differently-indexed data in other Python and NumPy data structures into DataFrame objects\n",
    "6. Intelligent label-based slicing, fancy indexing, and subsetting of large data sets\n",
    "7. Intuitive merging and joining data sets\n",
    "8. Flexible reshaping and pivoting of data sets\n",
    "9. Hierarchical labeling of axes (possible to have multiple labels per tick)\n",
    "10. Robust IO tools for loading data from flat files (CSV and delimited), Excel files, databases, and saving/loading data from the ultrafast HDF5 format\n",
    "11. Time series-specific functionality: date range generation and frequency conversion, moving window statistics, date shifting and lagging"
   ]
  },
  {
   "cell_type": "markdown",
   "id": "1042ef69",
   "metadata": {},
   "source": [
    "### Installation of Pandas"
   ]
  },
  {
   "cell_type": "markdown",
   "id": "865c9a52",
   "metadata": {},
   "source": [
    "1. To install pandas library use\n",
    "**2. pip install pandas**"
   ]
  },
  {
   "cell_type": "markdown",
   "id": "d50dca6d",
   "metadata": {},
   "source": [
    "### Import pandas"
   ]
  },
  {
   "cell_type": "code",
   "execution_count": 1,
   "id": "e4fcba26",
   "metadata": {},
   "outputs": [],
   "source": [
    "import pandas as pd"
   ]
  },
  {
   "cell_type": "code",
   "execution_count": 3,
   "id": "8b8cb893",
   "metadata": {},
   "outputs": [],
   "source": [
    "# help(pd)"
   ]
  },
  {
   "cell_type": "code",
   "execution_count": 4,
   "id": "28eccbca",
   "metadata": {},
   "outputs": [
    {
     "data": {
      "text/plain": [
       "{'car': ['BMW', 'TATA', 'FORD', 'MAHINDRA'], 'Year': [2019, 2018, 2017, 2016]}"
      ]
     },
     "execution_count": 4,
     "metadata": {},
     "output_type": "execute_result"
    }
   ],
   "source": [
    "my_dataset = {\n",
    "'car':[\"BMW\",\"TATA\",'FORD','MAHINDRA'],\n",
    "'Year':[2019,2018,2017,2016]}\n",
    "\n",
    "my_dataset"
   ]
  },
  {
   "cell_type": "code",
   "execution_count": 6,
   "id": "256c6c95",
   "metadata": {},
   "outputs": [],
   "source": [
    "my_dataset = {\n",
    "'car':[\"BMW\",\"TATA\",'FORD','MAHINDRA'],\n",
    "'Year':[2019,2018,2017,2016]}\n",
    "\n",
    "my_var = pd.DataFrame(my_dataset)\n",
    "\n",
    "my_var.to_csv('car_data.csv')\n",
    "# print(my_var)"
   ]
  },
  {
   "cell_type": "code",
   "execution_count": 8,
   "id": "493f8aa2",
   "metadata": {},
   "outputs": [],
   "source": [
    "my_dataset = {\n",
    "'car':[\"BMW\",\"TATA\",'FORD','MAHINDRA'],\n",
    "'Year':[2019,2018,2017,2016]}\n",
    "\n",
    "my_var = pd.DataFrame(my_dataset)\n",
    "\n",
    "my_var.to_html('car_data.html')\n",
    "# print(my_var)"
   ]
  },
  {
   "cell_type": "code",
   "execution_count": null,
   "id": "aecdbbc3",
   "metadata": {},
   "outputs": [],
   "source": []
  }
 ],
 "metadata": {
  "kernelspec": {
   "display_name": "Python 3",
   "language": "python",
   "name": "python3"
  },
  "language_info": {
   "codemirror_mode": {
    "name": "ipython",
    "version": 3
   },
   "file_extension": ".py",
   "mimetype": "text/x-python",
   "name": "python",
   "nbconvert_exporter": "python",
   "pygments_lexer": "ipython3",
   "version": "3.8.8"
  }
 },
 "nbformat": 4,
 "nbformat_minor": 5
}
