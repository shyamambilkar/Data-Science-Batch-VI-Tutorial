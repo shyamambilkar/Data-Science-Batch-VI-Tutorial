{
 "cells": [
  {
   "cell_type": "markdown",
   "id": "750be2cc",
   "metadata": {},
   "source": [
    "# Version Control System"
   ]
  },
  {
   "cell_type": "markdown",
   "id": "5ed977bb",
   "metadata": {},
   "source": [
    "**Version control system are a category of software tools that help in recording changes made to filesby keeping a track of modifications done to the code.**"
   ]
  },
  {
   "cell_type": "code",
   "execution_count": null,
   "id": "e5bd5d88",
   "metadata": {},
   "outputs": [],
   "source": [
    "1. Enhance the speed of project development providing effifcient collaboration\n",
    "2. Reduce posibilities of errors and confilcts meanswhile project development\n",
    "3. "
   ]
  }
 ],
 "metadata": {
  "kernelspec": {
   "display_name": "Python 3",
   "language": "python",
   "name": "python3"
  },
  "language_info": {
   "codemirror_mode": {
    "name": "ipython",
    "version": 3
   },
   "file_extension": ".py",
   "mimetype": "text/x-python",
   "name": "python",
   "nbconvert_exporter": "python",
   "pygments_lexer": "ipython3",
   "version": "3.8.8"
  }
 },
 "nbformat": 4,
 "nbformat_minor": 5
}
