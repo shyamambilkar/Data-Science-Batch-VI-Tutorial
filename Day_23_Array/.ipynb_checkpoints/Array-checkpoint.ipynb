{
 "cells": [
  {
   "cell_type": "markdown",
   "id": "cc94d9b5",
   "metadata": {},
   "source": [
    "# Array"
   ]
  },
  {
   "cell_type": "markdown",
   "id": "38e16da6",
   "metadata": {},
   "source": [
    "1. Array is collection of elements store of contigeous memory location\n",
    "2. Array can handled in Python moduled named as array\n",
    "3. Array can be useful, when we have to manipulation only a specific data type\n",
    "4. A user can treated list as Arrays, However user cannot constraint the type of elements stored in list.\n",
    "5. Array can be used to store multiple values in single variable\n",
    "6. Array can be access by using indexing\n",
    "7. Arraay indexing start from [0] and second element [1] indexing "
   ]
  },
  {
   "cell_type": "code",
   "execution_count": 1,
   "id": "a84c1fc8",
   "metadata": {},
   "outputs": [
    {
     "name": "stdout",
     "output_type": "stream",
     "text": [
      "[10, 20, 30, 40, 50]\n",
      "<class 'list'>\n"
     ]
    }
   ],
   "source": [
    "my_array = [10,20,30,40,50]\n",
    "print(my_array)\n",
    "print(type(my_array))"
   ]
  },
  {
   "cell_type": "code",
   "execution_count": 2,
   "id": "9eeece00",
   "metadata": {},
   "outputs": [
    {
     "data": {
      "text/plain": [
       "20"
      ]
     },
     "execution_count": 2,
     "metadata": {},
     "output_type": "execute_result"
    }
   ],
   "source": [
    "my_array[1]"
   ]
  },
  {
   "cell_type": "code",
   "execution_count": 3,
   "id": "ea99deb0",
   "metadata": {},
   "outputs": [
    {
     "name": "stdout",
     "output_type": "stream",
     "text": [
      "5\n"
     ]
    }
   ],
   "source": [
    "print(len(my_array))"
   ]
  },
  {
   "cell_type": "markdown",
   "id": "a962e72b",
   "metadata": {},
   "source": [
    "## Import array "
   ]
  },
  {
   "cell_type": "code",
   "execution_count": 13,
   "id": "92e3915b",
   "metadata": {},
   "outputs": [],
   "source": [
    "# from array import *"
   ]
  },
  {
   "cell_type": "code",
   "execution_count": 5,
   "id": "f2864469",
   "metadata": {},
   "outputs": [],
   "source": [
    "# import array as arr"
   ]
  },
  {
   "cell_type": "code",
   "execution_count": 7,
   "id": "beabbc7e",
   "metadata": {},
   "outputs": [],
   "source": [
    "# help(array)"
   ]
  },
  {
   "cell_type": "markdown",
   "id": "ed2f7a84",
   "metadata": {},
   "source": [
    "### Type code Minimum size in bytes\n",
    " 1. 'b'         signed integer     1\n",
    " 2. 'B'         unsigned integer   1\n",
    " 3. 'u'         Unicode character  2 (see note)\n",
    " 4. 'h'         signed integer     2\n",
    " 5. 'H'         unsigned integer   2\n",
    " 6. 'i'         signed integer     2\n",
    " 7. 'I'         unsigned integer   2\n",
    " 8. 'l'         signed integer     4\n",
    " 9. 'L'         unsigned integer   4\n",
    " 10. 'q'         signed integer     8 (see note)\n",
    " 11. 'Q'         unsigned integer   8 (see note)\n",
    " 12. 'f'         floating point     4\n",
    " 13. 'd'         floating point     8"
   ]
  },
  {
   "cell_type": "markdown",
   "id": "6f4540d6",
   "metadata": {},
   "source": [
    "1. append() -- append a new item to the end of the array\n",
    "2. buffer_info() -- return information giving the current memory info\n",
    "3. byteswap() -- byteswap all the items of the array\n",
    "4. count() -- return number of occurrences of an object\n",
    "5. extend() -- extend array by appending multiple elements from an iterable\n",
    "6. fromfile() -- read items from a file object\n",
    "7. fromlist() -- append items from the list\n",
    "8. frombytes() -- append items from the string\n",
    "9. index() -- return index of first occurrence of an object\n",
    "10. insert() -- insert a new item into the array at a provided position\n",
    "11. pop() -- remove and return item (default last)\n",
    "12. remove() -- remove first occurrence of an object\n",
    "13. reverse() -- reverse the order of the items in the array\n",
    "14. tofile() -- write all items to a file object\n",
    "15. tolist() -- return the array converted to an ordinary list\n",
    "16. tobytes() -- return the array converted to a string"
   ]
  },
  {
   "cell_type": "code",
   "execution_count": 14,
   "id": "20eb034c",
   "metadata": {},
   "outputs": [],
   "source": [
    "my_array = array('i', [10,20,30,40,50])"
   ]
  },
  {
   "cell_type": "code",
   "execution_count": 15,
   "id": "9528d91d",
   "metadata": {},
   "outputs": [
    {
     "name": "stdout",
     "output_type": "stream",
     "text": [
      "array('i', [10, 20, 30, 40, 50])\n"
     ]
    }
   ],
   "source": [
    "print(my_array)"
   ]
  },
  {
   "cell_type": "code",
   "execution_count": 16,
   "id": "c1fd5146",
   "metadata": {},
   "outputs": [
    {
     "name": "stdout",
     "output_type": "stream",
     "text": [
      "<class 'array.array'>\n"
     ]
    }
   ],
   "source": [
    "print(type(my_array))"
   ]
  },
  {
   "cell_type": "code",
   "execution_count": 20,
   "id": "764d6d64",
   "metadata": {},
   "outputs": [],
   "source": [
    "import array as arr"
   ]
  },
  {
   "cell_type": "code",
   "execution_count": 23,
   "id": "271cbe9d",
   "metadata": {},
   "outputs": [],
   "source": [
    "my_array = array('i',[10, 20, 30, 40, 50])"
   ]
  },
  {
   "cell_type": "code",
   "execution_count": 24,
   "id": "6eb57587",
   "metadata": {},
   "outputs": [
    {
     "name": "stdout",
     "output_type": "stream",
     "text": [
      "array('i', [10, 20, 30, 40, 50])\n"
     ]
    }
   ],
   "source": [
    "print(my_array)"
   ]
  },
  {
   "cell_type": "code",
   "execution_count": 28,
   "id": "5264a6ee",
   "metadata": {},
   "outputs": [],
   "source": [
    "my_array = array('u',['a','b','c','d'])"
   ]
  },
  {
   "cell_type": "code",
   "execution_count": 29,
   "id": "361fec43",
   "metadata": {},
   "outputs": [
    {
     "name": "stdout",
     "output_type": "stream",
     "text": [
      "array('u', 'abcd')\n"
     ]
    }
   ],
   "source": [
    "print(my_array)"
   ]
  },
  {
   "cell_type": "code",
   "execution_count": 30,
   "id": "b12d6bae",
   "metadata": {},
   "outputs": [],
   "source": [
    "my_array = array('u',['P','y','t','h','o','n'])"
   ]
  },
  {
   "cell_type": "code",
   "execution_count": 31,
   "id": "41ab0c0d",
   "metadata": {},
   "outputs": [
    {
     "name": "stdout",
     "output_type": "stream",
     "text": [
      "array('u', 'Python')\n"
     ]
    }
   ],
   "source": [
    "print(my_array)"
   ]
  },
  {
   "cell_type": "markdown",
   "id": "e9cc531d",
   "metadata": {},
   "source": [
    "# Basic Operation"
   ]
  },
  {
   "cell_type": "code",
   "execution_count": 32,
   "id": "41168172",
   "metadata": {},
   "outputs": [],
   "source": [
    "my_array = [10,20,30,40,50]"
   ]
  },
  {
   "cell_type": "code",
   "execution_count": 33,
   "id": "5c6b5bf7",
   "metadata": {},
   "outputs": [
    {
     "name": "stdout",
     "output_type": "stream",
     "text": [
      "<class 'list'>\n"
     ]
    }
   ],
   "source": [
    "print(type(my_array))"
   ]
  },
  {
   "cell_type": "code",
   "execution_count": 37,
   "id": "53c5178c",
   "metadata": {},
   "outputs": [],
   "source": [
    "from array import *"
   ]
  },
  {
   "cell_type": "markdown",
   "id": "63e7125f",
   "metadata": {},
   "source": [
    "**syntax:\n",
    "    array_name = array(typecodes, [intializes])**"
   ]
  },
  {
   "cell_type": "code",
   "execution_count": 38,
   "id": "bd6d861a",
   "metadata": {},
   "outputs": [],
   "source": [
    "my_array =array('f',[10,20,30,40,50])"
   ]
  },
  {
   "cell_type": "code",
   "execution_count": 39,
   "id": "3491be99",
   "metadata": {},
   "outputs": [
    {
     "data": {
      "text/plain": [
       "array('f', [10.0, 20.0, 30.0, 40.0, 50.0])"
      ]
     },
     "execution_count": 39,
     "metadata": {},
     "output_type": "execute_result"
    }
   ],
   "source": [
    "my_array"
   ]
  },
  {
   "cell_type": "code",
   "execution_count": 40,
   "id": "f640cedf",
   "metadata": {},
   "outputs": [
    {
     "name": "stdout",
     "output_type": "stream",
     "text": [
      "<class 'array.array'>\n"
     ]
    }
   ],
   "source": [
    "print(type(my_array))"
   ]
  },
  {
   "cell_type": "code",
   "execution_count": 41,
   "id": "a97d547d",
   "metadata": {},
   "outputs": [],
   "source": [
    "my_array =array('d',[10,20,30,40,50])"
   ]
  },
  {
   "cell_type": "code",
   "execution_count": 42,
   "id": "62e1dcbf",
   "metadata": {},
   "outputs": [
    {
     "data": {
      "text/plain": [
       "array('d', [10.0, 20.0, 30.0, 40.0, 50.0])"
      ]
     },
     "execution_count": 42,
     "metadata": {},
     "output_type": "execute_result"
    }
   ],
   "source": [
    "my_array"
   ]
  },
  {
   "cell_type": "raw",
   "id": "4e1cdb12",
   "metadata": {},
   "source": [
    "1 GB = 1024MB\n",
    "1 MB = 1024KB\n",
    "1 KB = 1024bytes\n",
    "1 bytes = "
   ]
  },
  {
   "cell_type": "code",
   "execution_count": 46,
   "id": "ba8b5d69",
   "metadata": {},
   "outputs": [],
   "source": [
    "my_list = [10,20,30]"
   ]
  },
  {
   "cell_type": "code",
   "execution_count": 48,
   "id": "164eee89",
   "metadata": {},
   "outputs": [],
   "source": [
    "# help(list)"
   ]
  },
  {
   "cell_type": "code",
   "execution_count": null,
   "id": "6a0b352d",
   "metadata": {},
   "outputs": [],
   "source": []
  }
 ],
 "metadata": {
  "kernelspec": {
   "display_name": "Python 3",
   "language": "python",
   "name": "python3"
  },
  "language_info": {
   "codemirror_mode": {
    "name": "ipython",
    "version": 3
   },
   "file_extension": ".py",
   "mimetype": "text/x-python",
   "name": "python",
   "nbconvert_exporter": "python",
   "pygments_lexer": "ipython3",
   "version": "3.8.8"
  }
 },
 "nbformat": 4,
 "nbformat_minor": 5
}
