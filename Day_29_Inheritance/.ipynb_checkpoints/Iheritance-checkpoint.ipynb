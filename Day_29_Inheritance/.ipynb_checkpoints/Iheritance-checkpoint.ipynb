{
 "cells": [
  {
   "cell_type": "code",
   "execution_count": 1,
   "id": "99146f35",
   "metadata": {},
   "outputs": [
    {
     "name": "stdout",
     "output_type": "stream",
     "text": [
      "name: mayur\n",
      "roll no : 1\n",
      "enter mar mark56\n",
      "enter hin mark87\n",
      "enter eng mark90\n",
      "marathi marks: 56\n",
      "hindi marks: 87\n",
      "english marks: 90\n",
      "total marks obtained : 233\n"
     ]
    }
   ],
   "source": [
    "class Student:\n",
    "    def __init__(self,name,rollno):\n",
    "        self.name=name\n",
    "        self.rollno=rollno\n",
    "        \n",
    "    def getinfo(self):\n",
    "        print('name:',self.name)\n",
    "        print('roll no :',self.rollno)\n",
    "        \n",
    "class Marks(Student):\n",
    "    def mark(self):\n",
    "        self.getinfo()\n",
    "        self.m=int(input('enter mar mark'))\n",
    "        self.h=int(input('enter hin mark'))\n",
    "        self.e=int(input('enter eng mark'))\n",
    "        \n",
    "    def printmarks(self):\n",
    "        print('marathi marks:',self.m)\n",
    "        print('hindi marks:',self.h)\n",
    "        print('english marks:',self.e)\n",
    "        \n",
    "class Result(Marks):\n",
    "    def calculatetotal(self):\n",
    "        self.mark()\n",
    "        self.printmarks()\n",
    "        total=self.m+self.h+self.e\n",
    "        print('total marks obtained :',total)\n",
    "        \n",
    "r=Result('mayur',1)\n",
    "r.calculatetotal()"
   ]
  },
  {
   "cell_type": "markdown",
   "id": "ddd450e4",
   "metadata": {},
   "source": [
    "# 3. Multiple Inheritance"
   ]
  },
  {
   "cell_type": "raw",
   "id": "67ba997f",
   "metadata": {},
   "source": [
    "# syntax:\n",
    "    class Base or Parent:\n",
    "        #block of code\n",
    "        \n",
    "    class Base or Parent:\n",
    "        # block of code\n",
    "        .\n",
    "        .\n",
    "        .\n",
    "    class Base or Parent:\n",
    "        # block of code\n",
    "        \n",
    "        \n",
    "    class Derived or Child(Base1, Base2,....BaseN):\n",
    "        # block of code"
   ]
  },
  {
   "cell_type": "raw",
   "id": "d08fd191",
   "metadata": {},
   "source": [
    "class Addition:\n",
    "    1. Method - calAddition() - To calculate addition of any number\n",
    "class Substraction:\n",
    "    1. Method - calSubstraction() - To calculate substraction of any number\n",
    "class Multiplication:\n",
    "    1. Method - calMultiplication() - To calculate Multiplication of any number\n",
    "    \n",
    "class Calculator:\n",
    "     1. Method - calDivision() - To calculate Division of any number"
   ]
  },
  {
   "cell_type": "code",
   "execution_count": 9,
   "id": "e6c1ed8a",
   "metadata": {},
   "outputs": [
    {
     "name": "stdout",
     "output_type": "stream",
     "text": [
      "Addition of two no is: 30\n",
      "None\n",
      "Substraction of two no is: 30\n",
      "None\n",
      "Multiplication of two no is: 30\n",
      "None\n",
      "Division of two no is: 30\n",
      "None\n"
     ]
    }
   ],
   "source": [
    "class Addition:\n",
    "    def calAddition(self, a, b):\n",
    "        print(\"Addition of two no is:\", a + b)\n",
    "\n",
    "class Substraction:\n",
    "    def calSubstraction(self, a, b):\n",
    "        print(\"Substraction of two no is:\", a + b)\n",
    "    \n",
    "class Multiplication:\n",
    "    def calMultiplication(self, a, b):\n",
    "        print(\"Multiplication of two no is:\", a + b)\n",
    "    \n",
    "    \n",
    "class Calculator(Addition, Substraction, Multiplication):\n",
    "    def calDivision(self, a, b):\n",
    "        print(\"Division of two no is:\", a + b)\n",
    "    \n",
    "    \n",
    "my_cal = Calculator()\n",
    "print(my_cal.calAddition(10,20))\n",
    "print(my_cal.calSubstraction(10,20))\n",
    "print(my_cal.calMultiplication(10,20))\n",
    "print(my_cal.calDivision(10,20))"
   ]
  },
  {
   "cell_type": "markdown",
   "id": "0eb3a0be",
   "metadata": {},
   "source": [
    "# Method Overriding"
   ]
  },
  {
   "cell_type": "code",
   "execution_count": 10,
   "id": "535c302b",
   "metadata": {},
   "outputs": [
    {
     "name": "stdout",
     "output_type": "stream",
     "text": [
      "Person are speking...!\n"
     ]
    }
   ],
   "source": [
    "class Human:\n",
    "    def speak(self):\n",
    "        print(\"Human are speking...!\")\n",
    "        \n",
    "class Person(Human):\n",
    "    def speak(self):\n",
    "        print(\"Person are speking...!\")\n",
    "        \n",
    "p1 = Person()\n",
    "p1.speak()"
   ]
  },
  {
   "cell_type": "code",
   "execution_count": 11,
   "id": "5e91e598",
   "metadata": {},
   "outputs": [
    {
     "name": "stdout",
     "output_type": "stream",
     "text": [
      "Bank Rate of Interest:  10\n",
      "SBI Rate of Interest:  5\n",
      "HDFC Rate of Interest:  8\n"
     ]
    }
   ],
   "source": [
    "class Bank:\n",
    "    def my_method(self):\n",
    "        return 10\n",
    "    \n",
    "class SBI(Bank):\n",
    "    def my_method(self):\n",
    "        return 5\n",
    "\n",
    "class HDFC(Bank):\n",
    "    def my_method(self):\n",
    "        return 8\n",
    "    \n",
    "b1 = Bank()\n",
    "b2 = SBI()\n",
    "b3 = HDFC()\n",
    "\n",
    "\n",
    "print(\"Bank Rate of Interest: \", b1.my_method())\n",
    "print(\"SBI Rate of Interest: \", b2.my_method())\n",
    "print(\"HDFC Rate of Interest: \", b3.my_method())"
   ]
  },
  {
   "cell_type": "markdown",
   "id": "fc17f2e9",
   "metadata": {},
   "source": [
    "# Data Abstraction"
   ]
  },
  {
   "cell_type": "code",
   "execution_count": 16,
   "id": "25cafebd",
   "metadata": {},
   "outputs": [
    {
     "name": "stdout",
     "output_type": "stream",
     "text": [
      "The number of Human:  2\n"
     ]
    },
    {
     "ename": "AttributeError",
     "evalue": "'Human' object has no attribute '__count'",
     "output_type": "error",
     "traceback": [
      "\u001b[1;31m---------------------------------------------------------------------------\u001b[0m",
      "\u001b[1;31mAttributeError\u001b[0m                            Traceback (most recent call last)",
      "\u001b[1;32m<ipython-input-16-97eb943a8e69>\u001b[0m in \u001b[0;36m<module>\u001b[1;34m\u001b[0m\n\u001b[0;32m     10\u001b[0m \u001b[0mh2\u001b[0m \u001b[1;33m=\u001b[0m \u001b[0mHuman\u001b[0m\u001b[1;33m(\u001b[0m\u001b[1;33m)\u001b[0m\u001b[1;33m\u001b[0m\u001b[1;33m\u001b[0m\u001b[0m\n\u001b[0;32m     11\u001b[0m \u001b[1;32mtry\u001b[0m\u001b[1;33m:\u001b[0m\u001b[1;33m\u001b[0m\u001b[1;33m\u001b[0m\u001b[0m\n\u001b[1;32m---> 12\u001b[1;33m     \u001b[0mprint\u001b[0m\u001b[1;33m(\u001b[0m\u001b[0mh1\u001b[0m\u001b[1;33m.\u001b[0m\u001b[0m__count\u001b[0m\u001b[1;33m)\u001b[0m\u001b[1;33m\u001b[0m\u001b[1;33m\u001b[0m\u001b[0m\n\u001b[0m\u001b[0;32m     13\u001b[0m \u001b[1;32mfinally\u001b[0m\u001b[1;33m:\u001b[0m\u001b[1;33m\u001b[0m\u001b[1;33m\u001b[0m\u001b[0m\n\u001b[0;32m     14\u001b[0m     \u001b[0mh1\u001b[0m\u001b[1;33m.\u001b[0m\u001b[0mdisplay\u001b[0m\u001b[1;33m(\u001b[0m\u001b[1;33m)\u001b[0m\u001b[1;33m\u001b[0m\u001b[1;33m\u001b[0m\u001b[0m\n",
      "\u001b[1;31mAttributeError\u001b[0m: 'Human' object has no attribute '__count'"
     ]
    }
   ],
   "source": [
    "class Human:\n",
    "    ___count = 0\n",
    "    def __init__(self):\n",
    "        Human.___count = Human.___count + 1\n",
    "        \n",
    "    def display(self):\n",
    "        print(\"The number of Human: \", Human.___count)\n",
    "        \n",
    "h1 = Human()\n",
    "h2 = Human()\n",
    "try:\n",
    "    print(h1.__count)\n",
    "finally:\n",
    "    h1.display()"
   ]
  },
  {
   "cell_type": "code",
   "execution_count": 23,
   "id": "06ec022d",
   "metadata": {},
   "outputs": [
    {
     "name": "stdout",
     "output_type": "stream",
     "text": [
      "The number of Human:  2\n"
     ]
    },
    {
     "ename": "AttributeError",
     "evalue": "'Human' object has no attribute '__count'",
     "output_type": "error",
     "traceback": [
      "\u001b[1;31m---------------------------------------------------------------------------\u001b[0m",
      "\u001b[1;31mAttributeError\u001b[0m                            Traceback (most recent call last)",
      "\u001b[1;32m<ipython-input-23-b056e144fed8>\u001b[0m in \u001b[0;36m<module>\u001b[1;34m\u001b[0m\n\u001b[0;32m     11\u001b[0m \u001b[1;33m\u001b[0m\u001b[0m\n\u001b[0;32m     12\u001b[0m \u001b[1;32mtry\u001b[0m\u001b[1;33m:\u001b[0m\u001b[1;33m\u001b[0m\u001b[1;33m\u001b[0m\u001b[0m\n\u001b[1;32m---> 13\u001b[1;33m     \u001b[0mprint\u001b[0m\u001b[1;33m(\u001b[0m\u001b[0mh1\u001b[0m\u001b[1;33m.\u001b[0m\u001b[0m__count\u001b[0m\u001b[1;33m)\u001b[0m\u001b[1;33m\u001b[0m\u001b[1;33m\u001b[0m\u001b[0m\n\u001b[0m\u001b[0;32m     14\u001b[0m \u001b[1;32mfinally\u001b[0m\u001b[1;33m:\u001b[0m\u001b[1;33m\u001b[0m\u001b[1;33m\u001b[0m\u001b[0m\n\u001b[0;32m     15\u001b[0m     \u001b[0mh1\u001b[0m\u001b[1;33m.\u001b[0m\u001b[0mdisplay\u001b[0m\u001b[1;33m(\u001b[0m\u001b[1;33m)\u001b[0m\u001b[1;33m\u001b[0m\u001b[1;33m\u001b[0m\u001b[0m\n",
      "\u001b[1;31mAttributeError\u001b[0m: 'Human' object has no attribute '__count'"
     ]
    }
   ],
   "source": [
    "class Human:\n",
    "    __count = 0\n",
    "    def __init__(self):\n",
    "        Human.__count = Human.__count + 1\n",
    "        \n",
    "    def display(self):\n",
    "        print(\"The number of Human: \", Human.__count)\n",
    "        \n",
    "h1 = Human()\n",
    "h2 = Human()\n",
    "\n",
    "try:\n",
    "    print(h1.__count)\n",
    "finally:\n",
    "    h1.display()"
   ]
  },
  {
   "cell_type": "code",
   "execution_count": 24,
   "id": "18db9c36",
   "metadata": {},
   "outputs": [
    {
     "name": "stdout",
     "output_type": "stream",
     "text": [
      "Insert value in Celcius: 20\n",
      "68F\n"
     ]
    }
   ],
   "source": [
    "x=int(input(\"Insert value in Celcius: \"))\n",
    "\n",
    "x=round(x* (9/5) + 32)\n",
    "print(str(x) + 'F')"
   ]
  },
  {
   "cell_type": "code",
   "execution_count": null,
   "id": "202b9166",
   "metadata": {},
   "outputs": [],
   "source": []
  }
 ],
 "metadata": {
  "kernelspec": {
   "display_name": "Python 3",
   "language": "python",
   "name": "python3"
  },
  "language_info": {
   "codemirror_mode": {
    "name": "ipython",
    "version": 3
   },
   "file_extension": ".py",
   "mimetype": "text/x-python",
   "name": "python",
   "nbconvert_exporter": "python",
   "pygments_lexer": "ipython3",
   "version": "3.8.8"
  }
 },
 "nbformat": 4,
 "nbformat_minor": 5
}
