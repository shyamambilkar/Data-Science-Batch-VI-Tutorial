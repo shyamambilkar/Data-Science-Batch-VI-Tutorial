{
 "cells": [
  {
   "cell_type": "markdown",
   "id": "f9d508c0",
   "metadata": {},
   "source": [
    "# Array"
   ]
  },
  {
   "cell_type": "code",
   "execution_count": 6,
   "id": "133cb94d",
   "metadata": {},
   "outputs": [],
   "source": [
    "from array import *"
   ]
  },
  {
   "cell_type": "code",
   "execution_count": 12,
   "id": "7156e3c0",
   "metadata": {},
   "outputs": [],
   "source": [
    "# help(array)"
   ]
  },
  {
   "cell_type": "raw",
   "id": "b6ac59b3",
   "metadata": {},
   "source": [
    "# 4bit - 1 nibble\n",
    "8bit - 1 byte\n",
    "1024bytes - 1kb\n",
    "1024kb - 1mb\n",
    "1024mb - 1gb\n",
    "1024gb - 1tb\n",
    "1024tb - 1pb"
   ]
  },
  {
   "cell_type": "code",
   "execution_count": 8,
   "id": "dfba00ea",
   "metadata": {},
   "outputs": [
    {
     "ename": "TypeError",
     "evalue": "array() argument 1 must be a unicode character, not list",
     "output_type": "error",
     "traceback": [
      "\u001b[1;31m---------------------------------------------------------------------------\u001b[0m",
      "\u001b[1;31mTypeError\u001b[0m                                 Traceback (most recent call last)",
      "\u001b[1;32m<ipython-input-8-c84306548f0f>\u001b[0m in \u001b[0;36m<module>\u001b[1;34m\u001b[0m\n\u001b[1;32m----> 1\u001b[1;33m \u001b[0mmy_array\u001b[0m \u001b[1;33m=\u001b[0m \u001b[0marray\u001b[0m\u001b[1;33m(\u001b[0m\u001b[1;33m[\u001b[0m\u001b[1;36m10\u001b[0m\u001b[1;33m,\u001b[0m\u001b[1;36m20\u001b[0m\u001b[1;33m,\u001b[0m\u001b[1;36m30\u001b[0m\u001b[1;33m,\u001b[0m\u001b[1;36m40\u001b[0m\u001b[1;33m,\u001b[0m\u001b[1;36m50\u001b[0m\u001b[1;33m,\u001b[0m\u001b[1;36m60\u001b[0m\u001b[1;33m,\u001b[0m\u001b[1;36m70\u001b[0m\u001b[1;33m]\u001b[0m\u001b[1;33m)\u001b[0m\u001b[1;33m\u001b[0m\u001b[1;33m\u001b[0m\u001b[0m\n\u001b[0m",
      "\u001b[1;31mTypeError\u001b[0m: array() argument 1 must be a unicode character, not list"
     ]
    }
   ],
   "source": [
    "my_array = array([10,20,30,40,50,60,70])"
   ]
  },
  {
   "cell_type": "code",
   "execution_count": 10,
   "id": "f3df456d",
   "metadata": {},
   "outputs": [
    {
     "name": "stdout",
     "output_type": "stream",
     "text": [
      "array('i', [10, 20, 30, 40, 50, 60, 70])\n"
     ]
    }
   ],
   "source": [
    "my_array = array('i',[10,20,30,40,50,60,70] )\n",
    "print(my_array)"
   ]
  },
  {
   "cell_type": "code",
   "execution_count": 13,
   "id": "a00d587e",
   "metadata": {},
   "outputs": [
    {
     "name": "stdout",
     "output_type": "stream",
     "text": [
      "<class 'array.array'>\n"
     ]
    }
   ],
   "source": [
    "print(type(my_array))"
   ]
  },
  {
   "cell_type": "code",
   "execution_count": 15,
   "id": "500a8717",
   "metadata": {},
   "outputs": [
    {
     "name": "stdout",
     "output_type": "stream",
     "text": [
      "array('f', [10.0, 20.0, 30.0, 40.0, 50.0, 60.0, 70.0])\n"
     ]
    }
   ],
   "source": [
    "my_array = array('f',[10,20,30,40,50,60,70] )\n",
    "print(my_array)"
   ]
  },
  {
   "cell_type": "code",
   "execution_count": 16,
   "id": "a86578fc",
   "metadata": {},
   "outputs": [
    {
     "name": "stdout",
     "output_type": "stream",
     "text": [
      "array('b', [10, 20, 30, 40, 50, 60, 70])\n"
     ]
    }
   ],
   "source": [
    "my_array = array('b',[10,20,30,40,50,60,70] )\n",
    "print(my_array)"
   ]
  },
  {
   "cell_type": "code",
   "execution_count": 19,
   "id": "ad36a8b2",
   "metadata": {},
   "outputs": [
    {
     "name": "stdout",
     "output_type": "stream",
     "text": [
      "array('u', 'a')\n"
     ]
    }
   ],
   "source": [
    "my_array = array('u',['a'] )\n",
    "print(my_array)"
   ]
  },
  {
   "cell_type": "code",
   "execution_count": 20,
   "id": "bbe07ba1",
   "metadata": {},
   "outputs": [
    {
     "name": "stdout",
     "output_type": "stream",
     "text": [
      "array('b', [10, 20, 30, 40, 50, 60, 70])\n"
     ]
    }
   ],
   "source": [
    "my_array = array('b',[10,20,30,40,50,60,70] )\n",
    "print(my_array)"
   ]
  },
  {
   "cell_type": "code",
   "execution_count": 21,
   "id": "91c3a710",
   "metadata": {},
   "outputs": [],
   "source": [
    "# -(2^31) = -2147483648 to (2^31) – 1=2147483647"
   ]
  },
  {
   "cell_type": "code",
   "execution_count": 22,
   "id": "87feb0bf",
   "metadata": {},
   "outputs": [],
   "source": [
    "# unsigned integer\n",
    "# [0 to 4294967295]"
   ]
  },
  {
   "cell_type": "code",
   "execution_count": 23,
   "id": "e81b83a0",
   "metadata": {},
   "outputs": [
    {
     "name": "stdout",
     "output_type": "stream",
     "text": [
      "array('B', [10, 20, 30, 40, 50, 60, 70])\n"
     ]
    }
   ],
   "source": [
    "my_array = array('B',[10,20,30,40,50,60,70] )\n",
    "print(my_array)"
   ]
  },
  {
   "cell_type": "code",
   "execution_count": 24,
   "id": "2d502ea5",
   "metadata": {},
   "outputs": [
    {
     "name": "stdout",
     "output_type": "stream",
     "text": [
      "array('f', [10.0, 20.0, 30.0, 40.0, 50.0, 60.0, 70.0])\n"
     ]
    }
   ],
   "source": [
    "my_array = array('f',[10,20,30,40,50,60,70] )\n",
    "print(my_array)"
   ]
  },
  {
   "cell_type": "code",
   "execution_count": 25,
   "id": "4459f16d",
   "metadata": {},
   "outputs": [
    {
     "name": "stdout",
     "output_type": "stream",
     "text": [
      "array('d', [10.0, 20.0, 30.0, 40.0, 50.0, 60.0, 70.0])\n"
     ]
    }
   ],
   "source": [
    "my_array = array('d',[10,20,30,40,50,60,70] )\n",
    "print(my_array)"
   ]
  },
  {
   "cell_type": "markdown",
   "id": "bc25bbdc",
   "metadata": {},
   "source": [
    "# Basic Operations"
   ]
  },
  {
   "cell_type": "markdown",
   "id": "be8d31db",
   "metadata": {},
   "source": [
    "1. Traverse\n",
    "2. Insertion\n",
    "3. Deletion\n",
    "4. Search\n",
    "5. Update"
   ]
  },
  {
   "cell_type": "code",
   "execution_count": 34,
   "id": "e63bf46f",
   "metadata": {},
   "outputs": [
    {
     "name": "stdout",
     "output_type": "stream",
     "text": [
      "array('u', 'python data')\n"
     ]
    }
   ],
   "source": [
    "my_array = array('u',['p','y','t','h','o','n',' ','d','a','t','a'] )\n",
    "print(my_array)"
   ]
  },
  {
   "cell_type": "code",
   "execution_count": 35,
   "id": "351e664b",
   "metadata": {},
   "outputs": [
    {
     "name": "stdout",
     "output_type": "stream",
     "text": [
      "array('d', [10.0, 20.0, 30.0, 40.0, 50.0, 60.0, 70.0])\n",
      "10.0\n",
      "20.0\n",
      "30.0\n",
      "40.0\n",
      "50.0\n",
      "60.0\n",
      "70.0\n"
     ]
    }
   ],
   "source": [
    "my_array = array('d',[10,20,30,40,50,60,70] )\n",
    "print(my_array)\n",
    "\n",
    "for x in my_array:\n",
    "    print(x)"
   ]
  },
  {
   "cell_type": "code",
   "execution_count": 36,
   "id": "81f87d5f",
   "metadata": {},
   "outputs": [
    {
     "data": {
      "text/plain": [
       "30.0"
      ]
     },
     "execution_count": 36,
     "metadata": {},
     "output_type": "execute_result"
    }
   ],
   "source": [
    "my_array[2]"
   ]
  },
  {
   "cell_type": "code",
   "execution_count": 37,
   "id": "fe6840ee",
   "metadata": {},
   "outputs": [
    {
     "data": {
      "text/plain": [
       "array('d', [10.0, 20.0, 30.0, 40.0, 50.0])"
      ]
     },
     "execution_count": 37,
     "metadata": {},
     "output_type": "execute_result"
    }
   ],
   "source": [
    "my_array[0:5]"
   ]
  },
  {
   "cell_type": "markdown",
   "id": "e74e7677",
   "metadata": {},
   "source": [
    "### Insertion Operation"
   ]
  },
  {
   "cell_type": "code",
   "execution_count": 38,
   "id": "b2ded406",
   "metadata": {},
   "outputs": [
    {
     "name": "stdout",
     "output_type": "stream",
     "text": [
      "array('d', [10.0, 20.0, 30.0, 40.0, 50.0, 60.0, 70.0])\n"
     ]
    }
   ],
   "source": [
    "my_array = array('d',[10,20,30,40,50,60,70] )\n",
    "print(my_array)\n",
    "\n",
    "my_array.insert(1,90)"
   ]
  },
  {
   "cell_type": "code",
   "execution_count": 39,
   "id": "81be4eee",
   "metadata": {},
   "outputs": [
    {
     "data": {
      "text/plain": [
       "array('d', [10.0, 90.0, 20.0, 30.0, 40.0, 50.0, 60.0, 70.0])"
      ]
     },
     "execution_count": 39,
     "metadata": {},
     "output_type": "execute_result"
    }
   ],
   "source": [
    "my_array"
   ]
  },
  {
   "cell_type": "code",
   "execution_count": 40,
   "id": "da56c1b4",
   "metadata": {},
   "outputs": [
    {
     "name": "stdout",
     "output_type": "stream",
     "text": [
      "10.0\n",
      "90.0\n",
      "20.0\n",
      "30.0\n",
      "40.0\n",
      "50.0\n",
      "60.0\n",
      "70.0\n"
     ]
    }
   ],
   "source": [
    "for x in my_array:\n",
    "    print(x)"
   ]
  },
  {
   "cell_type": "markdown",
   "id": "89951704",
   "metadata": {},
   "source": [
    "## Remove Operation"
   ]
  },
  {
   "cell_type": "code",
   "execution_count": 41,
   "id": "eb0dd51d",
   "metadata": {},
   "outputs": [
    {
     "name": "stdout",
     "output_type": "stream",
     "text": [
      "array('d', [10.0, 20.0, 30.0, 40.0, 50.0, 60.0, 70.0])\n"
     ]
    },
    {
     "data": {
      "text/plain": [
       "array('d', [10.0, 20.0, 30.0, 50.0, 60.0, 70.0])"
      ]
     },
     "execution_count": 41,
     "metadata": {},
     "output_type": "execute_result"
    }
   ],
   "source": [
    "my_array = array('d',[10,20,30,40,50,60,70] )\n",
    "print(my_array)\n",
    "\n",
    "my_array.remove(40)\n",
    "my_array"
   ]
  },
  {
   "cell_type": "code",
   "execution_count": 42,
   "id": "2f269900",
   "metadata": {},
   "outputs": [
    {
     "name": "stdout",
     "output_type": "stream",
     "text": [
      "10.0\n",
      "20.0\n",
      "30.0\n",
      "50.0\n",
      "60.0\n",
      "70.0\n"
     ]
    }
   ],
   "source": [
    "for x in my_array:\n",
    "    print(x)"
   ]
  },
  {
   "cell_type": "markdown",
   "id": "485cc636",
   "metadata": {},
   "source": [
    "## Update Operations"
   ]
  },
  {
   "cell_type": "code",
   "execution_count": 43,
   "id": "46d7c2eb",
   "metadata": {},
   "outputs": [
    {
     "name": "stdout",
     "output_type": "stream",
     "text": [
      "array('d', [10.0, 20.0, 30.0, 40.0, 50.0, 60.0, 70.0])\n",
      "10.0\n",
      "20.0\n",
      "30.0\n",
      "100.0\n",
      "50.0\n",
      "60.0\n",
      "70.0\n"
     ]
    }
   ],
   "source": [
    "my_array = array('d',[10,20,30,40,50,60,70] )\n",
    "print(my_array)\n",
    "\n",
    "my_array[3] = 100\n",
    "\n",
    "for x in my_array:\n",
    "    print(x)"
   ]
  },
  {
   "cell_type": "code",
   "execution_count": null,
   "id": "289a3bca",
   "metadata": {},
   "outputs": [],
   "source": []
  }
 ],
 "metadata": {
  "kernelspec": {
   "display_name": "Python 3",
   "language": "python",
   "name": "python3"
  },
  "language_info": {
   "codemirror_mode": {
    "name": "ipython",
    "version": 3
   },
   "file_extension": ".py",
   "mimetype": "text/x-python",
   "name": "python",
   "nbconvert_exporter": "python",
   "pygments_lexer": "ipython3",
   "version": "3.8.8"
  }
 },
 "nbformat": 4,
 "nbformat_minor": 5
}
