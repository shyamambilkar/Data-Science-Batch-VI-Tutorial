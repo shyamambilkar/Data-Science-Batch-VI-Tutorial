{
 "cells": [
  {
   "cell_type": "markdown",
   "id": "5b88a01f",
   "metadata": {},
   "source": [
    "# File Handling"
   ]
  },
  {
   "cell_type": "markdown",
   "id": "afd7e0cf",
   "metadata": {},
   "source": [
    "1. File Handling is one of the most important part of any web application\n",
    "2. Python has different functions called as (CRUD):\n",
    "    1. Creating\n",
    "    2. Reading\n",
    "    3. Upadate\n",
    "    4. Deletion\n",
    "3. The key function for working with files in python [open()] function\n",
    "4. The open() function takes two parameters:\n",
    "    1. filename\n",
    "    2. mode\n",
    "5. There are four different methods(modes) for opening file:\n",
    "    1. \"r\" [Read]:\n",
    "        1. Default value, Open a file reading mode, if the file does not exist it raises error\n",
    "    2. \"a\" [append]:\n",
    "        2. Open file in appending, Creating the file if it does not exist\n",
    "    3. \"w\" [Write]:\n",
    "        3. Open a file for writting, Creating the file if does not exists\n",
    "    4. \"x\" [Create]:\n",
    "        4. Create the specified file, return error if the file exists\n",
    "6. To Handle file in two modes Binary or Text Mode:\n",
    "    1. \"t\" [Text]:\n",
    "        1. Default value , Text mode\n",
    "    2. \"b\" [Binary]:\n",
    "        1. Binary Mode Example. Images"
   ]
  },
  {
   "cell_type": "code",
   "execution_count": 1,
   "id": "1465bdc0",
   "metadata": {},
   "outputs": [],
   "source": [
    "f = open(\"my_file.txt\")"
   ]
  },
  {
   "cell_type": "code",
   "execution_count": 2,
   "id": "5e5a36dc",
   "metadata": {},
   "outputs": [
    {
     "name": "stdout",
     "output_type": "stream",
     "text": [
      "<_io.TextIOWrapper name='my_file.txt' mode='r' encoding='cp1252'>\n"
     ]
    }
   ],
   "source": [
    "print(f)"
   ]
  },
  {
   "cell_type": "code",
   "execution_count": 3,
   "id": "3f6fe104",
   "metadata": {},
   "outputs": [
    {
     "name": "stdout",
     "output_type": "stream",
     "text": [
      "<_io.TextIOWrapper name='my_file.txt' mode='rt' encoding='cp1252'>\n"
     ]
    }
   ],
   "source": [
    "f = open(\"my_file.txt\",'rt')\n",
    "print(f)"
   ]
  },
  {
   "cell_type": "code",
   "execution_count": 4,
   "id": "05e18ca3",
   "metadata": {},
   "outputs": [
    {
     "name": "stdout",
     "output_type": "stream",
     "text": [
      "Welcome All...!\n",
      "Data Science Placement Batch\n"
     ]
    }
   ],
   "source": [
    "f = open(\"my_file.txt\",'rt')\n",
    "print(f.read())"
   ]
  },
  {
   "cell_type": "code",
   "execution_count": 5,
   "id": "6cf9d79a",
   "metadata": {},
   "outputs": [
    {
     "name": "stdout",
     "output_type": "stream",
     "text": [
      "Welcome All...!\n",
      "Data Science Placement Batch\n"
     ]
    }
   ],
   "source": [
    "f = open(\"my_file.txt\",'r')\n",
    "print(f.read())"
   ]
  },
  {
   "cell_type": "code",
   "execution_count": 8,
   "id": "1958cc6c",
   "metadata": {},
   "outputs": [
    {
     "name": "stdout",
     "output_type": "stream",
     "text": [
      "click==7.1.2\n",
      "Flask==1.0.2\n",
      "gunicorn==20.0.4\n",
      "itsdangerous==1.1.0\n",
      "Jinja2==2.11.2\n",
      "jpp\n",
      "numpy==1.18.2\n",
      "scikit-learn==0.23.2\n",
      "scipy==1.5.3\n",
      "Werkzeug==1.0.1\n",
      "pandas\n"
     ]
    }
   ],
   "source": [
    "f = open(\"C:\\\\Users\\\\shyam.DESKTOP-3EM50G2\\\\Desktop\\\\HousePrice\\\\requirements.txt\",\"r\")\n",
    "print(f.read())"
   ]
  },
  {
   "cell_type": "code",
   "execution_count": 9,
   "id": "f1853cb7",
   "metadata": {},
   "outputs": [
    {
     "name": "stdout",
     "output_type": "stream",
     "text": [
      "click==7.1.2\n",
      "Flask==1.0.2\n",
      "gunicorn==20.0.4\n",
      "itsdangerous==1.1.0\n",
      "Jinja2==2.11.2\n",
      "jpp\n",
      "numpy==1.18.2\n",
      "scikit-learn==0.23.2\n",
      "scipy==1.5.3\n",
      "Werkzeug==1.0.1\n",
      "pandas\n"
     ]
    }
   ],
   "source": [
    "f = open(\"C:/Users/shyam.DESKTOP-3EM50G2/Desktop/HousePrice/requirements.txt\",\"r\")\n",
    "print(f.read())"
   ]
  },
  {
   "cell_type": "code",
   "execution_count": 13,
   "id": "e4744025",
   "metadata": {},
   "outputs": [
    {
     "name": "stdout",
     "output_type": "stream",
     "text": [
      "Welcome All...!\n"
     ]
    }
   ],
   "source": [
    "f = open(\"my_file.txt\",'r')\n",
    "print(f.read(15))"
   ]
  },
  {
   "cell_type": "markdown",
   "id": "29dd0309",
   "metadata": {},
   "source": [
    "# Read Lines"
   ]
  },
  {
   "cell_type": "code",
   "execution_count": 14,
   "id": "74765fe6",
   "metadata": {},
   "outputs": [
    {
     "name": "stdout",
     "output_type": "stream",
     "text": [
      "['Welcome All...!\\n', 'Data Science Placement Batch\\n', 'File Handling is a Fantastic concept in Python']\n"
     ]
    }
   ],
   "source": [
    "f = open(\"my_file.txt\",'r')\n",
    "print(f.readlines())"
   ]
  },
  {
   "cell_type": "code",
   "execution_count": 16,
   "id": "4ad40ad2",
   "metadata": {},
   "outputs": [
    {
     "name": "stdout",
     "output_type": "stream",
     "text": [
      "['Welcome All...!\\n', 'Data Science Placement Batch\\n', 'File Handling is a Fantastic concept in Python']\n",
      "[]\n"
     ]
    }
   ],
   "source": [
    "f = open(\"my_file.txt\",'r')\n",
    "print(f.readlines())\n",
    "print(f.readlines())"
   ]
  },
  {
   "cell_type": "code",
   "execution_count": 17,
   "id": "d22126db",
   "metadata": {},
   "outputs": [
    {
     "name": "stdout",
     "output_type": "stream",
     "text": [
      "Welcome All...!\n",
      "\n",
      "Data Science Placement Batch\n",
      "\n",
      "File Handling is a Fantastic concept in Python\n"
     ]
    }
   ],
   "source": [
    "f = open(\"my_file.txt\",'r')\n",
    "\n",
    "for i in f:\n",
    "    print(i)"
   ]
  },
  {
   "cell_type": "markdown",
   "id": "d81a200b",
   "metadata": {},
   "source": [
    "# Close File"
   ]
  },
  {
   "cell_type": "code",
   "execution_count": 18,
   "id": "ab152bcb",
   "metadata": {},
   "outputs": [
    {
     "name": "stdout",
     "output_type": "stream",
     "text": [
      "['Welcome All...!\\n', 'Data Science Placement Batch\\n', 'File Handling is a Fantastic concept in Python']\n"
     ]
    }
   ],
   "source": [
    "f = open(\"my_file.txt\",'r')\n",
    "print(f.readlines())\n",
    "f.close()"
   ]
  },
  {
   "cell_type": "markdown",
   "id": "c21fb299",
   "metadata": {},
   "source": [
    "# Write to an Existing File"
   ]
  },
  {
   "cell_type": "code",
   "execution_count": 19,
   "id": "47bd98a3",
   "metadata": {},
   "outputs": [
    {
     "name": "stdout",
     "output_type": "stream",
     "text": [
      "Welcome All...!\n",
      "Data Science Placement Batch\n",
      "File Handling is a Fantastic concept in Python Now the File has more good content...!\n"
     ]
    }
   ],
   "source": [
    "f = open(\"my_file.txt\",\"a\")\n",
    "f.write(\" Now the File has more good content...!\")\n",
    "f.close()\n",
    "\n",
    "f = open(\"my_file.txt\",\"r\")\n",
    "print(f.read())"
   ]
  },
  {
   "cell_type": "code",
   "execution_count": 21,
   "id": "ec70e3b4",
   "metadata": {},
   "outputs": [
    {
     "name": "stdout",
     "output_type": "stream",
     "text": [
      "['Welcome All...!\\n', 'Data Science Placement Batch\\n', 'File Handling is a Fantastic concept in Python Now the File has more good content...! Now the File has more good content...! Now the File has more good content...!']\n"
     ]
    }
   ],
   "source": [
    "f = open(\"my_file.txt\",\"a\")\n",
    "f.write(\" Now the File has more good content...!\")\n",
    "f.close()\n",
    "\n",
    "f = open(\"my_file.txt\",\"r\")\n",
    "print(f.readlines())"
   ]
  },
  {
   "cell_type": "markdown",
   "id": "64724746",
   "metadata": {},
   "source": [
    "# Create New File"
   ]
  },
  {
   "cell_type": "code",
   "execution_count": 22,
   "id": "63d71f00",
   "metadata": {},
   "outputs": [
    {
     "ename": "FileExistsError",
     "evalue": "[Errno 17] File exists: 'my_file.txt'",
     "output_type": "error",
     "traceback": [
      "\u001b[1;31m---------------------------------------------------------------------------\u001b[0m",
      "\u001b[1;31mFileExistsError\u001b[0m                           Traceback (most recent call last)",
      "\u001b[1;32m<ipython-input-22-348a8036a871>\u001b[0m in \u001b[0;36m<module>\u001b[1;34m\u001b[0m\n\u001b[1;32m----> 1\u001b[1;33m \u001b[0mf\u001b[0m \u001b[1;33m=\u001b[0m \u001b[0mopen\u001b[0m\u001b[1;33m(\u001b[0m\u001b[1;34m\"my_file.txt\"\u001b[0m\u001b[1;33m,\u001b[0m\u001b[1;34m\"x\"\u001b[0m\u001b[1;33m)\u001b[0m\u001b[1;33m\u001b[0m\u001b[1;33m\u001b[0m\u001b[0m\n\u001b[0m",
      "\u001b[1;31mFileExistsError\u001b[0m: [Errno 17] File exists: 'my_file.txt'"
     ]
    }
   ],
   "source": [
    "f = open(\"my_file.txt\",\"x\")"
   ]
  },
  {
   "cell_type": "code",
   "execution_count": 23,
   "id": "577f24b5",
   "metadata": {},
   "outputs": [],
   "source": [
    "f = open(\"my_file1.txt\",\"x\")"
   ]
  },
  {
   "cell_type": "code",
   "execution_count": 24,
   "id": "69ab3521",
   "metadata": {},
   "outputs": [],
   "source": [
    "f = open(\"my_file1.txt\",\"w\")"
   ]
  },
  {
   "cell_type": "code",
   "execution_count": 26,
   "id": "31e220c7",
   "metadata": {},
   "outputs": [],
   "source": [
    "f.close()"
   ]
  },
  {
   "cell_type": "markdown",
   "id": "746faec0",
   "metadata": {},
   "source": [
    "# Delete File"
   ]
  },
  {
   "cell_type": "code",
   "execution_count": 27,
   "id": "80cdc133",
   "metadata": {},
   "outputs": [],
   "source": [
    "import os\n",
    "os.remove(\"my_file1.txt\")"
   ]
  },
  {
   "cell_type": "code",
   "execution_count": 29,
   "id": "0caa7475",
   "metadata": {},
   "outputs": [
    {
     "name": "stdout",
     "output_type": "stream",
     "text": [
      "The File does not exists...!\n"
     ]
    }
   ],
   "source": [
    "import os\n",
    "if os.path.exists(\"my_file1.txt\"):\n",
    "    os.remove(\"my_file1.txt\")\n",
    "else:\n",
    "    print(\"The File does not exists...!\")"
   ]
  },
  {
   "cell_type": "code",
   "execution_count": null,
   "id": "f36e6d35",
   "metadata": {},
   "outputs": [],
   "source": [
    "# import os\n",
    "# os.rmdir(\"\")"
   ]
  }
 ],
 "metadata": {
  "kernelspec": {
   "display_name": "Python 3",
   "language": "python",
   "name": "python3"
  },
  "language_info": {
   "codemirror_mode": {
    "name": "ipython",
    "version": 3
   },
   "file_extension": ".py",
   "mimetype": "text/x-python",
   "name": "python",
   "nbconvert_exporter": "python",
   "pygments_lexer": "ipython3",
   "version": "3.8.8"
  }
 },
 "nbformat": 4,
 "nbformat_minor": 5
}
