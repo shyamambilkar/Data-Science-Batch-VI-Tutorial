{
 "cells": [
  {
   "cell_type": "markdown",
   "id": "ffa0096e",
   "metadata": {},
   "source": [
    "# Inheritance"
   ]
  },
  {
   "cell_type": "markdown",
   "id": "58042cea",
   "metadata": {},
   "source": [
    "1. Inheritance is the capability of one class to derive or inherit the properties from another class\n",
    "2. The new class called as (derived or Child) class and one from inherit the class called as (Base or Parent) class.\n",
    "3. There are different two classes in Inheritance:\n",
    "    1. Parent Class:\n",
    "        1.Parent class is the class being inherited from also called as Parent or Base\n",
    "    2. Child Class:\n",
    "        2. child clss is the class that inherited from another class, also called as child class or dervied class\n",
    "        \n",
    "4. Some Points:\n",
    "    1. It Provides reusability of code\n",
    "    2. It allow us to add more features without modifying it\n",
    "    3. Transitive in Nature which means that:\n",
    "        if class B inherits from another class A, then all subclasses as B would automatically inherits class A\n",
    "5. There are differnt types of Inheritance:\n",
    "    1. Single Inheritance\n",
    "    2. Multiple Inheritance\n",
    "    3. Multilevel Inheritance\n",
    "    4. Hirarchical Inheritance\n",
    "    5. Hybrid Inheritance"
   ]
  },
  {
   "cell_type": "markdown",
   "id": "3fe2fa80",
   "metadata": {},
   "source": [
    "**Inheritance:**![](https://miro.medium.com/max/904/1*rddNpQyOeBl_jQ3Rmet5dg.png)"
   ]
  },
  {
   "cell_type": "markdown",
   "id": "a7a1f178",
   "metadata": {},
   "source": [
    "**Different types of Inheritance:**![](https://simplesnippets.tech/wp-content/uploads/2018/04/java-types-of-inheritance.jpg)"
   ]
  },
  {
   "cell_type": "code",
   "execution_count": 1,
   "id": "a90a450f",
   "metadata": {},
   "outputs": [
    {
     "name": "stdout",
     "output_type": "stream",
     "text": [
      "Shyam Ambilkar\n"
     ]
    }
   ],
   "source": [
    "class Person:\n",
    "    def __init__(self, fname, lname):\n",
    "        self.firstname = fname\n",
    "        self.lastname = lname\n",
    "        \n",
    "        \n",
    "    def printname(self):\n",
    "        print(self.firstname, self.lastname)\n",
    "        \n",
    "        \n",
    "x = Person(\"Shyam\",\"Ambilkar\")\n",
    "x.printname()"
   ]
  },
  {
   "cell_type": "code",
   "execution_count": 3,
   "id": "d25f2021",
   "metadata": {},
   "outputs": [
    {
     "name": "stdout",
     "output_type": "stream",
     "text": [
      "Shyam Ambilkar\n",
      "Mayur Kankal\n"
     ]
    }
   ],
   "source": [
    "class Person:\n",
    "    def __init__(self, fname, lname):\n",
    "        self.firstname = fname\n",
    "        self.lastname = lname\n",
    "        \n",
    "        \n",
    "    def printname(self):\n",
    "        print(self.firstname, self.lastname)\n",
    "        \n",
    "class Student(Person):\n",
    "    pass\n",
    "        \n",
    "x = Student(\"Mayur\",\"Kankal\")\n",
    "x.printname()"
   ]
  },
  {
   "cell_type": "markdown",
   "id": "e5a65899",
   "metadata": {},
   "source": [
    "## 1. Single Inheritance"
   ]
  },
  {
   "cell_type": "markdown",
   "id": "5bf72905",
   "metadata": {},
   "source": [
    "1. When a child iherits from only one class called as parent class is called as single Inheritance\n",
    "2. Syntax"
   ]
  },
  {
   "cell_type": "raw",
   "id": "68541964",
   "metadata": {},
   "source": [
    "class Parent_class_Name:\n",
    "    # Block of code \n",
    "class Child_class_Name(Parent_class_Name):\n",
    "    # child class block of code"
   ]
  },
  {
   "cell_type": "code",
   "execution_count": 18,
   "id": "07b65434",
   "metadata": {},
   "outputs": [
    {
     "name": "stdout",
     "output_type": "stream",
     "text": [
      "Mayur Kankal\n"
     ]
    }
   ],
   "source": [
    "class Father:\n",
    "    def __init__(self, fname, lname):\n",
    "        self.firstname = fname\n",
    "        self.lastname = lname\n",
    "        \n",
    "        \n",
    "    def printname(self):\n",
    "        print(self.firstname, self.lastname)\n",
    "        \n",
    "class Child(Father):\n",
    "        \n",
    "    def child(self):\n",
    "        pass\n",
    "        \n",
    "x = Child(\"Mayur\",\"Kankal\")\n",
    "y = Child(\"xyz\",\"abc\")\n",
    "\n",
    "x.printname()\n",
    "y.child()"
   ]
  },
  {
   "cell_type": "code",
   "execution_count": 25,
   "id": "6936c07a",
   "metadata": {},
   "outputs": [
    {
     "name": "stdout",
     "output_type": "stream",
     "text": [
      "Garima Chauhan\n",
      "Garima xyz\n"
     ]
    }
   ],
   "source": [
    "class Father:\n",
    "    def __init__(self, fname, lname):\n",
    "        self.fname = fname\n",
    "        self.lname = lname\n",
    "        \n",
    "    def my_function(self):\n",
    "        return self.fname\n",
    "    \n",
    "    def check(self):\n",
    "        return self.lname\n",
    "    \n",
    "class Child(Father):\n",
    "    \n",
    "    def my_child(self):\n",
    "        return self.lname\n",
    "    \n",
    "x = Father(\"Garima\",\"Chauhan\")\n",
    "print(x.my_function(), x.check())\n",
    "\n",
    "y = Child(\"Garima\",\"xyz\")\n",
    "print(x.my_function(), y.my_child())"
   ]
  },
  {
   "cell_type": "code",
   "execution_count": null,
   "id": "5d12fa5d",
   "metadata": {},
   "outputs": [],
   "source": []
  },
  {
   "cell_type": "code",
   "execution_count": null,
   "id": "3503236b",
   "metadata": {},
   "outputs": [],
   "source": []
  }
 ],
 "metadata": {
  "kernelspec": {
   "display_name": "Python 3",
   "language": "python",
   "name": "python3"
  },
  "language_info": {
   "codemirror_mode": {
    "name": "ipython",
    "version": 3
   },
   "file_extension": ".py",
   "mimetype": "text/x-python",
   "name": "python",
   "nbconvert_exporter": "python",
   "pygments_lexer": "ipython3",
   "version": "3.8.8"
  }
 },
 "nbformat": 4,
 "nbformat_minor": 5
}
