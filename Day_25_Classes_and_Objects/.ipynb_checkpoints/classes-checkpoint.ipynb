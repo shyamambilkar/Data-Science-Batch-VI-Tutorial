{
 "cells": [
  {
   "cell_type": "markdown",
   "id": "b3afe0b9",
   "metadata": {},
   "source": [
    "# Python Class and Objects"
   ]
  },
  {
   "cell_type": "markdown",
   "id": "c7c76a2a",
   "metadata": {},
   "source": [
    "1. Python is an object oriented programming language\n",
    "2. Almost everything in Python is an object, properties, and method\n",
    "3. A like an constructor, bluprint for creating objects.\n",
    "4. classes provides a building data and Functionality together\n",
    "5. classes are created by using keyword class\n",
    "6. attribute are variables that belong to a class\n",
    "7. attributes are always public and can be access by using [.] operators\n",
    "8. A user defined blueprint, or prototype from which object are created\n",
    "9. Syntax"
   ]
  },
  {
   "cell_type": "raw",
   "id": "ee8b32c7",
   "metadata": {},
   "source": [
    "class ClassName:\n",
    "    #Statements 1\n",
    "    .\n",
    "    .\n",
    "    .\n",
    "    #statement N"
   ]
  },
  {
   "cell_type": "markdown",
   "id": "0fa38d5d",
   "metadata": {},
   "source": [
    "## 1. Overview of Terminology:\n",
    "    1. Data Members\n",
    "    2. Function Overloading\n",
    "    3. Instance variable\n",
    "    4. Inheritance:\n",
    "        1. Single Inheritance\n",
    "        2. Multiple Inheritance\n",
    "        3. Multilevel Inheritance\n",
    "    5. Polymorphism\n",
    "    6. Data Abstraction\n",
    "    7. Method\n",
    "    8. Objects\n",
    "    9. Operator Overloading\n",
    "    10. Instance\n",
    "    11. Incapsulation\n",
    "    "
   ]
  },
  {
   "cell_type": "markdown",
   "id": "9ef35c07",
   "metadata": {},
   "source": [
    "### 1. What is Class?"
   ]
  },
  {
   "cell_type": "markdown",
   "id": "3a7aa89c",
   "metadata": {},
   "source": [
    "1. class is a code template for creating objects\n",
    "2. objects have a member variable and behaviour associated with them\n",
    "3. Python class created by using class [keyword - class]"
   ]
  },
  {
   "cell_type": "code",
   "execution_count": 2,
   "id": "de73155c",
   "metadata": {},
   "outputs": [],
   "source": [
    "class MyFruits:\n",
    "    x = \"Welcome to Classes and Objects\""
   ]
  },
  {
   "cell_type": "markdown",
   "id": "52ebbc44",
   "metadata": {},
   "source": [
    "### 2. Objects"
   ]
  },
  {
   "cell_type": "markdown",
   "id": "486329ad",
   "metadata": {},
   "source": [
    "1. Objects are creating by using constructor of class\n",
    "2. The objects will then called as instance of class\n",
    "3. Objects can contain method, methods are also objects belong to the objects"
   ]
  },
  {
   "cell_type": "code",
   "execution_count": 3,
   "id": "85cbc5d7",
   "metadata": {},
   "outputs": [
    {
     "name": "stdout",
     "output_type": "stream",
     "text": [
      "Welcome to Classes and Objects\n"
     ]
    }
   ],
   "source": [
    "p1 = MyFruits()\n",
    "print(p1.x)"
   ]
  },
  {
   "cell_type": "markdown",
   "id": "991e7570",
   "metadata": {},
   "source": [
    "### 3. __init__() Function"
   ]
  },
  {
   "cell_type": "markdown",
   "id": "3271bf5c",
   "metadata": {},
   "source": [
    "1. To understand built in function (__init__())\n",
    "2. All classes have function __init__(), which is always excuted when class is being excuted\n",
    "3. Use __init__function assign value to object properties"
   ]
  },
  {
   "cell_type": "markdown",
   "id": "ba7befdd",
   "metadata": {},
   "source": [
    "**1. __init__ function is called automatically every time the class is being used a new object**"
   ]
  },
  {
   "cell_type": "code",
   "execution_count": 4,
   "id": "dd1655c8",
   "metadata": {},
   "outputs": [
    {
     "ename": "TypeError",
     "evalue": "__init__() missing 3 required positional arguments: 'name', 'email', and 'location'",
     "output_type": "error",
     "traceback": [
      "\u001b[1;31m---------------------------------------------------------------------------\u001b[0m",
      "\u001b[1;31mTypeError\u001b[0m                                 Traceback (most recent call last)",
      "\u001b[1;32m<ipython-input-4-45d7d5c22da9>\u001b[0m in \u001b[0;36m<module>\u001b[1;34m\u001b[0m\n\u001b[0;32m      5\u001b[0m         \u001b[0mself\u001b[0m\u001b[1;33m.\u001b[0m\u001b[0mlocation\u001b[0m \u001b[1;33m=\u001b[0m \u001b[0mlocation\u001b[0m\u001b[1;33m\u001b[0m\u001b[1;33m\u001b[0m\u001b[0m\n\u001b[0;32m      6\u001b[0m \u001b[1;33m\u001b[0m\u001b[0m\n\u001b[1;32m----> 7\u001b[1;33m \u001b[0mp1\u001b[0m \u001b[1;33m=\u001b[0m \u001b[0mPerson\u001b[0m\u001b[1;33m(\u001b[0m\u001b[1;33m)\u001b[0m\u001b[1;33m\u001b[0m\u001b[1;33m\u001b[0m\u001b[0m\n\u001b[0m\u001b[0;32m      8\u001b[0m \u001b[1;33m\u001b[0m\u001b[0m\n\u001b[0;32m      9\u001b[0m \u001b[0mprint\u001b[0m\u001b[1;33m(\u001b[0m\u001b[0mp1\u001b[0m\u001b[1;33m)\u001b[0m\u001b[1;33m\u001b[0m\u001b[1;33m\u001b[0m\u001b[0m\n",
      "\u001b[1;31mTypeError\u001b[0m: __init__() missing 3 required positional arguments: 'name', 'email', and 'location'"
     ]
    }
   ],
   "source": [
    "class Person:\n",
    "    def __init__(self, name, email, location):\n",
    "        self.name = name\n",
    "        self.email = email\n",
    "        self.location = location\n",
    "        \n",
    "p1 = Person()\n",
    "\n",
    "print(p1)"
   ]
  },
  {
   "cell_type": "code",
   "execution_count": 5,
   "id": "fbadaa84",
   "metadata": {},
   "outputs": [
    {
     "name": "stdout",
     "output_type": "stream",
     "text": [
      "<__main__.Person object at 0x000001CB370E02E0>\n"
     ]
    }
   ],
   "source": [
    "class Person:\n",
    "    def __init__(self, name, email, location):\n",
    "        self.name = name\n",
    "        self.email = email\n",
    "        self.location = location\n",
    "        \n",
    "p1 = Person(\"Garima Chauhan\", 'garima@gmail.com','Pune')\n",
    "\n",
    "print(p1)"
   ]
  },
  {
   "cell_type": "code",
   "execution_count": 6,
   "id": "9921ddd3",
   "metadata": {},
   "outputs": [
    {
     "name": "stdout",
     "output_type": "stream",
     "text": [
      "Garima Chauhan\n",
      "garima@gmail.com\n",
      "Pune\n"
     ]
    }
   ],
   "source": [
    "class Person:\n",
    "    def __init__(self, name, email, location):\n",
    "        self.name = name\n",
    "        self.email = email\n",
    "        self.location = location\n",
    "        \n",
    "p1 = Person(\"Garima Chauhan\", 'garima@gmail.com','Pune')\n",
    "\n",
    "print(p1.name)\n",
    "print(p1.email)\n",
    "print(p1.location)"
   ]
  },
  {
   "cell_type": "code",
   "execution_count": 10,
   "id": "56d37183",
   "metadata": {},
   "outputs": [
    {
     "name": "stdout",
     "output_type": "stream",
     "text": [
      "Welcome to Garima Chauhan in Object oriented programming language\n",
      "None\n"
     ]
    }
   ],
   "source": [
    "class Person:\n",
    "    def __init__(self, name, email, location):\n",
    "        self.name = name\n",
    "        self.email = email\n",
    "        self.location = location\n",
    "    def my_function(self):\n",
    "        print(\"Welcome to \"+ self.name + \" in Object oriented programming language\")\n",
    "        \n",
    "p1 = Person(\"Garima Chauhan\", 'garima@gmail.com','Pune')\n",
    "\n",
    "print(p1.my_function())"
   ]
  },
  {
   "cell_type": "code",
   "execution_count": 11,
   "id": "7147f9ce",
   "metadata": {},
   "outputs": [
    {
     "name": "stdout",
     "output_type": "stream",
     "text": [
      "My name is Garima Chauhan\n",
      "None\n"
     ]
    }
   ],
   "source": [
    "class Person:\n",
    "    def __init__(self, name, email, location):\n",
    "        self.name = name\n",
    "        self.email = email\n",
    "        self.location = location\n",
    "    def my_function(self):\n",
    "        print(\"My name is \"+ self.name)\n",
    "        \n",
    "p1 = Person(\"Garima Chauhan\", 'garima@gmail.com','Pune')\n",
    "\n",
    "print(p1.my_function())"
   ]
  },
  {
   "cell_type": "code",
   "execution_count": 13,
   "id": "f25aa813",
   "metadata": {},
   "outputs": [
    {
     "name": "stdout",
     "output_type": "stream",
     "text": [
      "Enter a Number to calculate Factorial: 5\n",
      "Factorial of 5 is:  120\n"
     ]
    }
   ],
   "source": [
    "fact = 1\n",
    "my_num = int(input(\"Enter a Number to calculate Factorial: \"))\n",
    "\n",
    "for i in range(1, my_num + 1):\n",
    "    fact = fact * i\n",
    "    \n",
    "print(\"Factorial of {} is: \".format(my_num), fact)"
   ]
  },
  {
   "cell_type": "raw",
   "id": "440e1398",
   "metadata": {},
   "source": [
    "# 5 * 4 * 3 * 2 * 1 * 0 = 1\n",
    "# my_num + 1 = 5 + 6\n",
    "\n",
    "1st itration:\n",
    "    1 < 6\n",
    "    1 * 1\n",
    "    1\n",
    "    \n",
    "2nd itration:\n",
    "    2 < 6\n",
    "    1 * 2\n",
    "    2\n",
    "    \n",
    "3rd Itration:\n",
    "    3 < 6\n",
    "    2 * 3\n",
    "    6\n",
    "4th Itration:\n",
    "    4 < 6\n",
    "    6 * 4\n",
    "    24\n",
    "5th Itration:\n",
    "    5 < 6\n",
    "    24 * 5\n",
    "    120\n",
    "6th Itration:\n",
    "    6 < 6\n",
    "    print()"
   ]
  },
  {
   "cell_type": "code",
   "execution_count": null,
   "id": "ca036d90",
   "metadata": {},
   "outputs": [],
   "source": []
  }
 ],
 "metadata": {
  "kernelspec": {
   "display_name": "Python 3",
   "language": "python",
   "name": "python3"
  },
  "language_info": {
   "codemirror_mode": {
    "name": "ipython",
    "version": 3
   },
   "file_extension": ".py",
   "mimetype": "text/x-python",
   "name": "python",
   "nbconvert_exporter": "python",
   "pygments_lexer": "ipython3",
   "version": "3.8.8"
  }
 },
 "nbformat": 4,
 "nbformat_minor": 5
}
