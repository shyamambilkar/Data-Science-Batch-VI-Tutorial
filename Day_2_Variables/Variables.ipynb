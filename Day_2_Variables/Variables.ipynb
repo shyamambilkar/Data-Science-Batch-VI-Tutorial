{
 "cells": [
  {
   "cell_type": "markdown",
   "id": "38d84f48",
   "metadata": {},
   "source": [
    "# Variables:\n",
    "    1. Python has no command for declaring variables\n",
    "    2. Variables contain something value"
   ]
  },
  {
   "cell_type": "code",
   "execution_count": 1,
   "id": "b6704792",
   "metadata": {},
   "outputs": [
    {
     "name": "stdout",
     "output_type": "stream",
     "text": [
      "40\n"
     ]
    }
   ],
   "source": [
    "a = 20 #integer\n",
    "b = 20 #integer\n",
    "\n",
    "c = a + b\n",
    "print(c)"
   ]
  },
  {
   "cell_type": "code",
   "execution_count": 3,
   "id": "8dc12fd9",
   "metadata": {},
   "outputs": [
    {
     "name": "stdout",
     "output_type": "stream",
     "text": [
      "Rohan Mayur\n"
     ]
    }
   ],
   "source": [
    "a = 'Rohan' #String\n",
    "b = \"Mayur\" #String\n",
    "\n",
    "c = a + b\n",
    "print(c)"
   ]
  },
  {
   "cell_type": "code",
   "execution_count": 4,
   "id": "74dc3032",
   "metadata": {},
   "outputs": [
    {
     "data": {
      "text/plain": [
       "140.45000000000002"
      ]
     },
     "execution_count": 4,
     "metadata": {},
     "output_type": "execute_result"
    }
   ],
   "source": [
    "my_var = 120.15 #float\n",
    "myvar = 20.30 # float\n",
    "\n",
    "result = my_var + myvar\n",
    "result"
   ]
  },
  {
   "cell_type": "code",
   "execution_count": 5,
   "id": "3f8fac77",
   "metadata": {},
   "outputs": [],
   "source": [
    "x = int(20)\n",
    "y = float(15.30)\n",
    "z = str(\"Python Programming\")\n",
    "a = str('Data Science')"
   ]
  },
  {
   "cell_type": "code",
   "execution_count": 6,
   "id": "a53c7794",
   "metadata": {},
   "outputs": [
    {
     "name": "stdout",
     "output_type": "stream",
     "text": [
      "20\n",
      "15.3\n",
      "Python Programming\n",
      "Data Science\n"
     ]
    }
   ],
   "source": [
    "print(x)\n",
    "print(y)\n",
    "print(z)\n",
    "print(a)"
   ]
  },
  {
   "cell_type": "code",
   "execution_count": 7,
   "id": "590a1ae4",
   "metadata": {},
   "outputs": [],
   "source": [
    "a = \"Dipak\"\n",
    "b = 56\n",
    "c = 63.20\n",
    "d = 4j"
   ]
  },
  {
   "cell_type": "code",
   "execution_count": 8,
   "id": "acca8aa5",
   "metadata": {},
   "outputs": [
    {
     "name": "stdout",
     "output_type": "stream",
     "text": [
      "Dipak\n",
      "56\n",
      "63.2\n",
      "4j\n"
     ]
    }
   ],
   "source": [
    "print(a)\n",
    "print(b)\n",
    "print(c)\n",
    "print(d)"
   ]
  },
  {
   "cell_type": "code",
   "execution_count": 9,
   "id": "43232daf",
   "metadata": {},
   "outputs": [
    {
     "name": "stdout",
     "output_type": "stream",
     "text": [
      "<class 'str'>\n",
      "<class 'int'>\n",
      "<class 'float'>\n",
      "<class 'complex'>\n"
     ]
    }
   ],
   "source": [
    "print(type(a))\n",
    "print(type(b))\n",
    "print(type(c))\n",
    "print(type(d))"
   ]
  },
  {
   "cell_type": "markdown",
   "id": "98ba6d4c",
   "metadata": {},
   "source": [
    "# Case Sensitive"
   ]
  },
  {
   "cell_type": "code",
   "execution_count": 10,
   "id": "2cc7e17a",
   "metadata": {},
   "outputs": [],
   "source": [
    "myvar = 'Shyam'\n",
    "myVar = 'Rahul'\n",
    "MYVAR = 'MaymyVarur'\n",
    "_myvar = 'Vaibhav'"
   ]
  },
  {
   "cell_type": "code",
   "execution_count": 12,
   "id": "f5f27635",
   "metadata": {},
   "outputs": [
    {
     "name": "stdout",
     "output_type": "stream",
     "text": [
      "Shyam\n",
      "Rahul\n",
      "Mayur\n",
      "Vaibhav\n"
     ]
    }
   ],
   "source": [
    "print(myvar)\n",
    "print(myVar)\n",
    "print(MYVAR)\n",
    "print(_myvar)"
   ]
  },
  {
   "cell_type": "markdown",
   "id": "e75c67e7",
   "metadata": {},
   "source": [
    "# Varibale Names"
   ]
  },
  {
   "cell_type": "code",
   "execution_count": 13,
   "id": "7206cbad",
   "metadata": {},
   "outputs": [],
   "source": [
    "rahul = 'Joshi'"
   ]
  },
  {
   "cell_type": "markdown",
   "id": "0c11625c",
   "metadata": {},
   "source": [
    "1. A variable can have short name (like x and y) or more descriptive names (age, name, total, result):\n",
    "    1. Variable names must be start with letter or underscore character\n",
    "    2. Variable name cannot start with a number\n",
    "    3. A Variable contain alpha-numeric characters and underscore [A-Z,a-z,_,0-9]\n",
    "    4. Variables names are case sensitive (Ex. Age, age, AGE, _age)"
   ]
  },
  {
   "cell_type": "code",
   "execution_count": 14,
   "id": "cc6e57ef",
   "metadata": {},
   "outputs": [],
   "source": [
    "_age = 45\n",
    "age = 40\n",
    "age1 = 20\n",
    "_age1 = 20"
   ]
  },
  {
   "cell_type": "code",
   "execution_count": 15,
   "id": "bfdec653",
   "metadata": {},
   "outputs": [
    {
     "name": "stdout",
     "output_type": "stream",
     "text": [
      "45\n"
     ]
    }
   ],
   "source": [
    "print(_age)"
   ]
  },
  {
   "cell_type": "code",
   "execution_count": 16,
   "id": "50111603",
   "metadata": {},
   "outputs": [
    {
     "name": "stdout",
     "output_type": "stream",
     "text": [
      "40\n"
     ]
    }
   ],
   "source": [
    "print(age)"
   ]
  },
  {
   "cell_type": "code",
   "execution_count": 17,
   "id": "e6431a84",
   "metadata": {},
   "outputs": [
    {
     "name": "stdout",
     "output_type": "stream",
     "text": [
      "20\n"
     ]
    }
   ],
   "source": [
    "print(age1)"
   ]
  },
  {
   "cell_type": "code",
   "execution_count": 18,
   "id": "46822458",
   "metadata": {},
   "outputs": [
    {
     "data": {
      "text/plain": [
       "20"
      ]
     },
     "execution_count": 18,
     "metadata": {},
     "output_type": "execute_result"
    }
   ],
   "source": [
    "_age1"
   ]
  },
  {
   "cell_type": "code",
   "execution_count": 19,
   "id": "fa9df70a",
   "metadata": {},
   "outputs": [],
   "source": [
    "myvar = 'Rahul'\n",
    "my_var = 'Rohan'\n",
    "_my_var = 'Shyam'\n",
    "myVar = 'Mayur'\n",
    "MYVAR = 'Pooja'\n",
    "myvar2 = 'Sakshi'"
   ]
  },
  {
   "cell_type": "code",
   "execution_count": 20,
   "id": "5ca327d6",
   "metadata": {},
   "outputs": [
    {
     "ename": "SyntaxError",
     "evalue": "invalid syntax (<ipython-input-20-86cfb4cb82d8>, line 1)",
     "output_type": "error",
     "traceback": [
      "\u001b[1;36m  File \u001b[1;32m\"<ipython-input-20-86cfb4cb82d8>\"\u001b[1;36m, line \u001b[1;32m1\u001b[0m\n\u001b[1;33m    2myvar = 'shyam'\u001b[0m\n\u001b[1;37m     ^\u001b[0m\n\u001b[1;31mSyntaxError\u001b[0m\u001b[1;31m:\u001b[0m invalid syntax\n"
     ]
    }
   ],
   "source": [
    "2myvar = 'shyam'"
   ]
  },
  {
   "cell_type": "code",
   "execution_count": 21,
   "id": "35ce96d5",
   "metadata": {},
   "outputs": [
    {
     "ename": "SyntaxError",
     "evalue": "cannot assign to operator (<ipython-input-21-e4daf3336463>, line 1)",
     "output_type": "error",
     "traceback": [
      "\u001b[1;36m  File \u001b[1;32m\"<ipython-input-21-e4daf3336463>\"\u001b[1;36m, line \u001b[1;32m1\u001b[0m\n\u001b[1;33m    my-var = 'Rahul'\u001b[0m\n\u001b[1;37m    ^\u001b[0m\n\u001b[1;31mSyntaxError\u001b[0m\u001b[1;31m:\u001b[0m cannot assign to operator\n"
     ]
    }
   ],
   "source": [
    "my-var = 'Rahul'"
   ]
  },
  {
   "cell_type": "code",
   "execution_count": 22,
   "id": "07f5cda3",
   "metadata": {},
   "outputs": [
    {
     "ename": "SyntaxError",
     "evalue": "invalid syntax (<ipython-input-22-cb9ba593c1f6>, line 1)",
     "output_type": "error",
     "traceback": [
      "\u001b[1;36m  File \u001b[1;32m\"<ipython-input-22-cb9ba593c1f6>\"\u001b[1;36m, line \u001b[1;32m1\u001b[0m\n\u001b[1;33m    my var = 'Rahul'\u001b[0m\n\u001b[1;37m       ^\u001b[0m\n\u001b[1;31mSyntaxError\u001b[0m\u001b[1;31m:\u001b[0m invalid syntax\n"
     ]
    }
   ],
   "source": [
    "my var = 'Rahul'"
   ]
  },
  {
   "cell_type": "markdown",
   "id": "310ca269",
   "metadata": {},
   "source": [
    "# Multiwords Variables Names:\n",
    "    1. Camel Case\n",
    "    2. Pascal Case\n",
    "    3. Snake Case"
   ]
  },
  {
   "cell_type": "markdown",
   "id": "dece7537",
   "metadata": {},
   "source": [
    "### 1. Camel Case:\n",
    "    1. Each words, except first start with capital letter"
   ]
  },
  {
   "cell_type": "code",
   "execution_count": 23,
   "id": "6b711f16",
   "metadata": {},
   "outputs": [],
   "source": [
    "myVariablesNames = \"Welcome to Python Programming\""
   ]
  },
  {
   "cell_type": "code",
   "execution_count": 24,
   "id": "fb407035",
   "metadata": {},
   "outputs": [
    {
     "data": {
      "text/plain": [
       "'Welcome to Python Programming'"
      ]
     },
     "execution_count": 24,
     "metadata": {},
     "output_type": "execute_result"
    }
   ],
   "source": [
    "myVariablesNames"
   ]
  },
  {
   "cell_type": "markdown",
   "id": "0cb59b99",
   "metadata": {},
   "source": [
    "### 2. Pascal Case:\n",
    "    1. Each words start capital letters"
   ]
  },
  {
   "cell_type": "code",
   "execution_count": 25,
   "id": "5859c30b",
   "metadata": {},
   "outputs": [
    {
     "name": "stdout",
     "output_type": "stream",
     "text": [
      "Welcome to Python Programming\n"
     ]
    }
   ],
   "source": [
    "MyVariableName = \"Welcome to Python Programming\"\n",
    "print(MyVariableName)"
   ]
  },
  {
   "cell_type": "markdown",
   "id": "ed658b1d",
   "metadata": {},
   "source": [
    "### 3. Snake Case:\n",
    "    1. Each words is separated by an underscore characters"
   ]
  },
  {
   "cell_type": "code",
   "execution_count": 27,
   "id": "6abc7d9e",
   "metadata": {},
   "outputs": [
    {
     "name": "stdout",
     "output_type": "stream",
     "text": [
      "Welcome to Python Programming\n"
     ]
    }
   ],
   "source": [
    "my_variable_name = \"Welcome to Python Programming\"\n",
    "print(my_variable_name)"
   ]
  },
  {
   "cell_type": "code",
   "execution_count": 30,
   "id": "8acaaf05",
   "metadata": {},
   "outputs": [
    {
     "name": "stdout",
     "output_type": "stream",
     "text": [
      "300\n"
     ]
    }
   ],
   "source": [
    "my_number1 = 100\n",
    "my_number2 = 200\n",
    "\n",
    "result = my_number1 + my_number2\n",
    "print(result)"
   ]
  },
  {
   "cell_type": "code",
   "execution_count": 34,
   "id": "8a1752cc",
   "metadata": {},
   "outputs": [],
   "source": [
    "name = 'Garima'"
   ]
  },
  {
   "cell_type": "markdown",
   "id": "ad212558",
   "metadata": {},
   "source": [
    "# Many Values to Multiple Variables"
   ]
  },
  {
   "cell_type": "code",
   "execution_count": 38,
   "id": "636340d2",
   "metadata": {},
   "outputs": [
    {
     "name": "stdout",
     "output_type": "stream",
     "text": [
      "orange\n",
      "mango\n",
      "apple\n",
      "banana\n"
     ]
    }
   ],
   "source": [
    "x, y, z, a = 'orange','mango','apple','banana'\n",
    "\n",
    "print(x)\n",
    "print(y)\n",
    "print(z)\n",
    "print(a)"
   ]
  },
  {
   "cell_type": "code",
   "execution_count": null,
   "id": "174bd47a",
   "metadata": {},
   "outputs": [],
   "source": []
  }
 ],
 "metadata": {
  "kernelspec": {
   "display_name": "Python 3",
   "language": "python",
   "name": "python3"
  },
  "language_info": {
   "codemirror_mode": {
    "name": "ipython",
    "version": 3
   },
   "file_extension": ".py",
   "mimetype": "text/x-python",
   "name": "python",
   "nbconvert_exporter": "python",
   "pygments_lexer": "ipython3",
   "version": "3.8.8"
  }
 },
 "nbformat": 4,
 "nbformat_minor": 5
}
