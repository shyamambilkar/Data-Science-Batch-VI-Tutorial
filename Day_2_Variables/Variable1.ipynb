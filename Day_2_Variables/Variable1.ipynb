{
 "cells": [
  {
   "cell_type": "code",
   "execution_count": 2,
   "id": "28bd0685",
   "metadata": {},
   "outputs": [],
   "source": [
    "a = 20\n",
    "b = 20"
   ]
  },
  {
   "cell_type": "code",
   "execution_count": 3,
   "id": "2c95c758",
   "metadata": {},
   "outputs": [
    {
     "name": "stdout",
     "output_type": "stream",
     "text": [
      "20\n",
      "20\n"
     ]
    }
   ],
   "source": [
    "print(a)\n",
    "print(b)"
   ]
  },
  {
   "cell_type": "code",
   "execution_count": 4,
   "id": "de352992",
   "metadata": {},
   "outputs": [],
   "source": [
    "A = 100\n",
    "B = 1000"
   ]
  },
  {
   "cell_type": "code",
   "execution_count": 5,
   "id": "a18d3559",
   "metadata": {},
   "outputs": [
    {
     "name": "stdout",
     "output_type": "stream",
     "text": [
      "100\n",
      "1000\n"
     ]
    }
   ],
   "source": [
    "print(A)\n",
    "print(B)"
   ]
  },
  {
   "cell_type": "code",
   "execution_count": 6,
   "id": "e9f4f718",
   "metadata": {},
   "outputs": [],
   "source": [
    "first_name = \"Python\"\n",
    "second_name = 'Data Science'"
   ]
  },
  {
   "cell_type": "code",
   "execution_count": 7,
   "id": "7a1cee72",
   "metadata": {},
   "outputs": [
    {
     "name": "stdout",
     "output_type": "stream",
     "text": [
      "Python\n",
      "Data Science\n"
     ]
    }
   ],
   "source": [
    "print(first_name)\n",
    "print(second_name)"
   ]
  },
  {
   "cell_type": "code",
   "execution_count": 11,
   "id": "59036fa2",
   "metadata": {},
   "outputs": [],
   "source": [
    "_name1 = \"Python Data Science\""
   ]
  },
  {
   "cell_type": "code",
   "execution_count": 17,
   "id": "8330dfb1",
   "metadata": {},
   "outputs": [],
   "source": [
    "fname = \"Shyam\"\n",
    "Fname = \"Pooja\""
   ]
  },
  {
   "cell_type": "code",
   "execution_count": 18,
   "id": "0b0ac668",
   "metadata": {},
   "outputs": [
    {
     "name": "stdout",
     "output_type": "stream",
     "text": [
      "Shyam\n"
     ]
    }
   ],
   "source": [
    "print(fname)"
   ]
  },
  {
   "cell_type": "code",
   "execution_count": 19,
   "id": "92c0222b",
   "metadata": {},
   "outputs": [
    {
     "name": "stdout",
     "output_type": "stream",
     "text": [
      "Pooja\n"
     ]
    }
   ],
   "source": [
    "print(Fname)"
   ]
  },
  {
   "cell_type": "code",
   "execution_count": 20,
   "id": "a9be8c35",
   "metadata": {},
   "outputs": [],
   "source": [
    "name ='Shyam'\n",
    "Name = \"shyam\"\n",
    "_name = \"Rahul\"\n",
    "_my_var = 10\n",
    "myvar = 20\n",
    "myVar = 20\n",
    "MYVAR = 'Python Data Science'\n",
    "myvar2 = 'DS'"
   ]
  },
  {
   "cell_type": "code",
   "execution_count": 22,
   "id": "33101027",
   "metadata": {},
   "outputs": [
    {
     "ename": "SyntaxError",
     "evalue": "invalid syntax (<ipython-input-22-5f704551a590>, line 1)",
     "output_type": "error",
     "traceback": [
      "\u001b[1;36m  File \u001b[1;32m\"<ipython-input-22-5f704551a590>\"\u001b[1;36m, line \u001b[1;32m1\u001b[0m\n\u001b[1;33m    2my_var = 20\u001b[0m\n\u001b[1;37m     ^\u001b[0m\n\u001b[1;31mSyntaxError\u001b[0m\u001b[1;31m:\u001b[0m invalid syntax\n"
     ]
    }
   ],
   "source": [
    "2my_var = 20"
   ]
  },
  {
   "cell_type": "code",
   "execution_count": 23,
   "id": "6b9e7bd9",
   "metadata": {},
   "outputs": [
    {
     "ename": "SyntaxError",
     "evalue": "cannot assign to operator (<ipython-input-23-cc132596dc46>, line 1)",
     "output_type": "error",
     "traceback": [
      "\u001b[1;36m  File \u001b[1;32m\"<ipython-input-23-cc132596dc46>\"\u001b[1;36m, line \u001b[1;32m1\u001b[0m\n\u001b[1;33m    my-var = 20\u001b[0m\n\u001b[1;37m    ^\u001b[0m\n\u001b[1;31mSyntaxError\u001b[0m\u001b[1;31m:\u001b[0m cannot assign to operator\n"
     ]
    }
   ],
   "source": [
    "my-var = 20"
   ]
  },
  {
   "cell_type": "code",
   "execution_count": 24,
   "id": "a719245d",
   "metadata": {},
   "outputs": [
    {
     "ename": "SyntaxError",
     "evalue": "invalid syntax (<ipython-input-24-f7b5ddbe6fd1>, line 1)",
     "output_type": "error",
     "traceback": [
      "\u001b[1;36m  File \u001b[1;32m\"<ipython-input-24-f7b5ddbe6fd1>\"\u001b[1;36m, line \u001b[1;32m1\u001b[0m\n\u001b[1;33m    my var = 20\u001b[0m\n\u001b[1;37m       ^\u001b[0m\n\u001b[1;31mSyntaxError\u001b[0m\u001b[1;31m:\u001b[0m invalid syntax\n"
     ]
    }
   ],
   "source": [
    "my var = 20"
   ]
  },
  {
   "cell_type": "code",
   "execution_count": 25,
   "id": "ead0da5b",
   "metadata": {},
   "outputs": [],
   "source": [
    "age = 20\n",
    "Age = 25\n",
    "_Age = 25"
   ]
  },
  {
   "cell_type": "code",
   "execution_count": 26,
   "id": "78a794a3",
   "metadata": {},
   "outputs": [],
   "source": [
    "# Multiwords Variable name"
   ]
  },
  {
   "cell_type": "code",
   "execution_count": 27,
   "id": "a53b4d2d",
   "metadata": {},
   "outputs": [],
   "source": [
    "myVariableName = \"Shyam Ambilkar\""
   ]
  },
  {
   "cell_type": "code",
   "execution_count": 28,
   "id": "770a0e75",
   "metadata": {},
   "outputs": [
    {
     "data": {
      "text/plain": [
       "'Shyam Ambilkar'"
      ]
     },
     "execution_count": 28,
     "metadata": {},
     "output_type": "execute_result"
    }
   ],
   "source": [
    "myVariableName"
   ]
  },
  {
   "cell_type": "code",
   "execution_count": 29,
   "id": "b6b49762",
   "metadata": {},
   "outputs": [],
   "source": [
    "MyVariableName = 'DS'"
   ]
  },
  {
   "cell_type": "code",
   "execution_count": 30,
   "id": "e62fda53",
   "metadata": {},
   "outputs": [
    {
     "data": {
      "text/plain": [
       "'DS'"
      ]
     },
     "execution_count": 30,
     "metadata": {},
     "output_type": "execute_result"
    }
   ],
   "source": [
    "MyVariableName"
   ]
  },
  {
   "cell_type": "code",
   "execution_count": 31,
   "id": "5ca3f124",
   "metadata": {},
   "outputs": [],
   "source": [
    "my_varible_name = \"Python\""
   ]
  },
  {
   "cell_type": "code",
   "execution_count": 32,
   "id": "70c7dc0a",
   "metadata": {},
   "outputs": [
    {
     "data": {
      "text/plain": [
       "'Python'"
      ]
     },
     "execution_count": 32,
     "metadata": {},
     "output_type": "execute_result"
    }
   ],
   "source": [
    "my_varible_name"
   ]
  },
  {
   "cell_type": "code",
   "execution_count": null,
   "id": "e93ff885",
   "metadata": {},
   "outputs": [],
   "source": []
  }
 ],
 "metadata": {
  "kernelspec": {
   "display_name": "Python 3",
   "language": "python",
   "name": "python3"
  },
  "language_info": {
   "codemirror_mode": {
    "name": "ipython",
    "version": 3
   },
   "file_extension": ".py",
   "mimetype": "text/x-python",
   "name": "python",
   "nbconvert_exporter": "python",
   "pygments_lexer": "ipython3",
   "version": "3.8.8"
  }
 },
 "nbformat": 4,
 "nbformat_minor": 5
}
