{
 "cells": [
  {
   "cell_type": "markdown",
   "id": "08d4b604",
   "metadata": {},
   "source": [
    "# Tuple Immutable to Mutable"
   ]
  },
  {
   "cell_type": "code",
   "execution_count": 2,
   "id": "cdc89e05",
   "metadata": {},
   "outputs": [
    {
     "name": "stdout",
     "output_type": "stream",
     "text": [
      "('apple', 'orange', 'cheryy', 'banana')\n"
     ]
    }
   ],
   "source": [
    "x = ('apple','mango','cheryy','banana')\n",
    "\n",
    "y = list(x)\n",
    "\n",
    "y[1] = 'orange'\n",
    "\n",
    "x = tuple(y)\n",
    "print(x)"
   ]
  },
  {
   "cell_type": "markdown",
   "id": "1e50dcb4",
   "metadata": {},
   "source": [
    "### Insert Elements"
   ]
  },
  {
   "cell_type": "code",
   "execution_count": 4,
   "id": "162ef685",
   "metadata": {},
   "outputs": [
    {
     "name": "stdout",
     "output_type": "stream",
     "text": [
      "('apple', 'mango', 'cheryy', 'banana', 'orange')\n"
     ]
    }
   ],
   "source": [
    "my_tuple = ('apple','mango','cheryy','banana')\n",
    "\n",
    "my_list = list(my_tuple)\n",
    "\n",
    "my_list.append(\"orange\")\n",
    "my_tuple = tuple(my_list)\n",
    "print(my_tuple)"
   ]
  },
  {
   "cell_type": "code",
   "execution_count": 5,
   "id": "ea344974",
   "metadata": {},
   "outputs": [
    {
     "name": "stdout",
     "output_type": "stream",
     "text": [
      "('apple', 'orange', 'mango', 'cheryy', 'banana')\n"
     ]
    }
   ],
   "source": [
    "my_tuple = ('apple','mango','cheryy','banana')\n",
    "\n",
    "my_list = list(my_tuple)\n",
    "\n",
    "my_list.insert(1,\"orange\")\n",
    "my_tuple = tuple(my_list)\n",
    "print(my_tuple)"
   ]
  },
  {
   "cell_type": "markdown",
   "id": "334b2fba",
   "metadata": {},
   "source": [
    "### Remove Elements"
   ]
  },
  {
   "cell_type": "code",
   "execution_count": 6,
   "id": "d010b04b",
   "metadata": {},
   "outputs": [
    {
     "name": "stdout",
     "output_type": "stream",
     "text": [
      "('apple', 'mango', 'cheryy', 'banana')\n"
     ]
    }
   ],
   "source": [
    "my_tuple = ('apple','mango','cheryy','banana','orange')\n",
    "\n",
    "my_list = list(my_tuple)\n",
    "\n",
    "my_list.remove(\"orange\")\n",
    "my_tuple = tuple(my_list)\n",
    "print(my_tuple)"
   ]
  },
  {
   "cell_type": "code",
   "execution_count": 7,
   "id": "ea3e1227",
   "metadata": {},
   "outputs": [
    {
     "ename": "NameError",
     "evalue": "name 'my_tuple' is not defined",
     "output_type": "error",
     "traceback": [
      "\u001b[1;31m---------------------------------------------------------------------------\u001b[0m",
      "\u001b[1;31mNameError\u001b[0m                                 Traceback (most recent call last)",
      "\u001b[1;32m<ipython-input-7-c052c03d5fda>\u001b[0m in \u001b[0;36m<module>\u001b[1;34m\u001b[0m\n\u001b[0;32m      2\u001b[0m \u001b[1;33m\u001b[0m\u001b[0m\n\u001b[0;32m      3\u001b[0m \u001b[1;32mdel\u001b[0m \u001b[0mmy_tuple\u001b[0m\u001b[1;33m\u001b[0m\u001b[1;33m\u001b[0m\u001b[0m\n\u001b[1;32m----> 4\u001b[1;33m \u001b[0mprint\u001b[0m\u001b[1;33m(\u001b[0m\u001b[0mmy_tuple\u001b[0m\u001b[1;33m)\u001b[0m\u001b[1;33m\u001b[0m\u001b[1;33m\u001b[0m\u001b[0m\n\u001b[0m",
      "\u001b[1;31mNameError\u001b[0m: name 'my_tuple' is not defined"
     ]
    }
   ],
   "source": [
    "my_tuple = ('apple','mango','cheryy','banana','orange')\n",
    "\n",
    "del my_tuple\n",
    "print(my_tuple)"
   ]
  },
  {
   "cell_type": "markdown",
   "id": "5d207f5c",
   "metadata": {},
   "source": [
    "### Unpacking a Tuple:\n",
    "    1. When we create normal tuple, we normally assign value to it this is called as Packing\n",
    "    2. But python we are also extract the value back in to variable this is called as unpacking\n",
    "    3. number of variable must match the number of values, if not then raise error"
   ]
  },
  {
   "cell_type": "code",
   "execution_count": 8,
   "id": "19610b52",
   "metadata": {},
   "outputs": [],
   "source": [
    "fruits = ('apple','mango','cheryy','banana',)"
   ]
  },
  {
   "cell_type": "code",
   "execution_count": 9,
   "id": "8cf9f7b4",
   "metadata": {},
   "outputs": [
    {
     "name": "stdout",
     "output_type": "stream",
     "text": [
      "apple\n",
      "mango\n",
      "cheryy\n",
      "banana\n"
     ]
    }
   ],
   "source": [
    "fruits = ('apple','mango','cheryy','banana',)\n",
    "\n",
    "(red, yellow, blue, orange) = fruits\n",
    "\n",
    "print(red)\n",
    "print(yellow)\n",
    "print(blue)\n",
    "print(orange)"
   ]
  },
  {
   "cell_type": "code",
   "execution_count": 10,
   "id": "0d0fc99f",
   "metadata": {},
   "outputs": [
    {
     "ename": "ValueError",
     "evalue": "too many values to unpack (expected 3)",
     "output_type": "error",
     "traceback": [
      "\u001b[1;31m---------------------------------------------------------------------------\u001b[0m",
      "\u001b[1;31mValueError\u001b[0m                                Traceback (most recent call last)",
      "\u001b[1;32m<ipython-input-10-decf0a1c5f5b>\u001b[0m in \u001b[0;36m<module>\u001b[1;34m\u001b[0m\n\u001b[0;32m      1\u001b[0m \u001b[0mfruits\u001b[0m \u001b[1;33m=\u001b[0m \u001b[1;33m(\u001b[0m\u001b[1;34m'apple'\u001b[0m\u001b[1;33m,\u001b[0m\u001b[1;34m'mango'\u001b[0m\u001b[1;33m,\u001b[0m\u001b[1;34m'cheryy'\u001b[0m\u001b[1;33m,\u001b[0m\u001b[1;34m'banana'\u001b[0m\u001b[1;33m,\u001b[0m\u001b[1;33m)\u001b[0m\u001b[1;33m\u001b[0m\u001b[1;33m\u001b[0m\u001b[0m\n\u001b[0;32m      2\u001b[0m \u001b[1;33m\u001b[0m\u001b[0m\n\u001b[1;32m----> 3\u001b[1;33m \u001b[1;33m(\u001b[0m\u001b[0mred\u001b[0m\u001b[1;33m,\u001b[0m \u001b[0myellow\u001b[0m\u001b[1;33m,\u001b[0m \u001b[0mblue\u001b[0m\u001b[1;33m)\u001b[0m \u001b[1;33m=\u001b[0m \u001b[0mfruits\u001b[0m\u001b[1;33m\u001b[0m\u001b[1;33m\u001b[0m\u001b[0m\n\u001b[0m\u001b[0;32m      4\u001b[0m \u001b[1;33m\u001b[0m\u001b[0m\n\u001b[0;32m      5\u001b[0m \u001b[0mprint\u001b[0m\u001b[1;33m(\u001b[0m\u001b[0mred\u001b[0m\u001b[1;33m)\u001b[0m\u001b[1;33m\u001b[0m\u001b[1;33m\u001b[0m\u001b[0m\n",
      "\u001b[1;31mValueError\u001b[0m: too many values to unpack (expected 3)"
     ]
    }
   ],
   "source": [
    "fruits = ('apple','mango','cheryy','banana',)\n",
    "\n",
    "(red, yellow, blue, orange) = fruits\n",
    "\n",
    "print(red)\n",
    "print(yellow)\n",
    "print(blue)\n",
    "print(orange)"
   ]
  },
  {
   "cell_type": "code",
   "execution_count": 16,
   "id": "c0a9d798",
   "metadata": {},
   "outputs": [
    {
     "name": "stdout",
     "output_type": "stream",
     "text": [
      "['apple', 'mango', 'cheryy', 'banana']\n",
      "cheryy\n",
      "banana\n"
     ]
    }
   ],
   "source": [
    "fruits = ('apple','mango','cheryy','banana',)\n",
    "\n",
    "(*red ,) = fruits\n",
    "\n",
    "print(red)\n",
    "print(yellow)\n",
    "print(orange)"
   ]
  },
  {
   "cell_type": "code",
   "execution_count": 17,
   "id": "753655cc",
   "metadata": {},
   "outputs": [
    {
     "name": "stdout",
     "output_type": "stream",
     "text": [
      "apple\n",
      "mango\n",
      "['cheryy', 'banana', 'blackcurrent', 'papaya', 'orange', 'pineapple']\n"
     ]
    }
   ],
   "source": [
    "fruits = ('apple','mango','cheryy','banana','blackcurrent','papaya','orange','pineapple')\n",
    "\n",
    "(red, yellow, *blue) = fruits\n",
    "\n",
    "print(red)\n",
    "print(yellow)\n",
    "print(blue)"
   ]
  },
  {
   "cell_type": "code",
   "execution_count": 20,
   "id": "f770ae0a",
   "metadata": {},
   "outputs": [
    {
     "name": "stdout",
     "output_type": "stream",
     "text": [
      "apple\n",
      "mango\n",
      "['cheryy', 'banana', 'blackcurrent', 'papaya', 'orange', 'pineapple', 'watermelon', 'Graps', 'Kiwi', 'Dragon Fruit']\n"
     ]
    }
   ],
   "source": [
    "fruits = ('apple','mango','cheryy','banana','blackcurrent','papaya','orange','pineapple','watermelon','Graps','Kiwi','Dragon Fruit')\n",
    "\n",
    "(red, yellow, *blue) = fruits\n",
    "\n",
    "print(red)\n",
    "print(yellow)\n",
    "print(blue)"
   ]
  },
  {
   "cell_type": "markdown",
   "id": "f6b50944",
   "metadata": {},
   "source": [
    "## Join Tuple"
   ]
  },
  {
   "cell_type": "code",
   "execution_count": 21,
   "id": "6783269b",
   "metadata": {},
   "outputs": [
    {
     "name": "stdout",
     "output_type": "stream",
     "text": [
      "('apple', 'mango', 'cheryy', 'banana', 'blackcurrent', 'papaya', 'orange', 'pineapple')\n"
     ]
    }
   ],
   "source": [
    "my_tuple1 = ('apple','mango','cheryy','banana')\n",
    "my_tuple2 = ('blackcurrent','papaya','orange','pineapple')\n",
    "\n",
    "new_tuple  = my_tuple1 + my_tuple2\n",
    "print(new_tuple)"
   ]
  },
  {
   "cell_type": "code",
   "execution_count": 22,
   "id": "b34735d7",
   "metadata": {},
   "outputs": [
    {
     "name": "stdout",
     "output_type": "stream",
     "text": [
      "('apple', 'mango', 'cheryy', 'banana', 'apple', 'mango', 'cheryy', 'banana', 'apple', 'mango', 'cheryy', 'banana')\n"
     ]
    }
   ],
   "source": [
    "my_tuple1 = ('apple','mango','cheryy','banana')\n",
    "\n",
    "new_tuple = my_tuple1 * 3\n",
    "print(new_tuple)"
   ]
  },
  {
   "cell_type": "code",
   "execution_count": 23,
   "id": "c49a0864",
   "metadata": {},
   "outputs": [
    {
     "name": "stdout",
     "output_type": "stream",
     "text": [
      "3\n"
     ]
    }
   ],
   "source": [
    "my_tuple1 = ('apple', 'mango', 'cheryy', 'banana', 'apple', 'mango', 'cheryy', 'banana', 'apple', 'mango', 'cheryy', 'banana')\n",
    "\n",
    "x = my_tuple1.count('apple')\n",
    "print(x)"
   ]
  },
  {
   "cell_type": "code",
   "execution_count": 25,
   "id": "7fc4e5f8",
   "metadata": {},
   "outputs": [
    {
     "name": "stdout",
     "output_type": "stream",
     "text": [
      "3\n"
     ]
    }
   ],
   "source": [
    "my_tuple1 = ('apple', 'mango', 'cheryy', 'banana', 'apple', 'mango', 'cheryy', 'banana', 'apple', 'mango', 'cheryy', 'banana')\n",
    "\n",
    "x = my_tuple1.index('banana')\n",
    "print(x)"
   ]
  },
  {
   "cell_type": "code",
   "execution_count": 26,
   "id": "bb4f8fe1",
   "metadata": {},
   "outputs": [
    {
     "ename": "ValueError",
     "evalue": "tuple.index(x): x not in tuple",
     "output_type": "error",
     "traceback": [
      "\u001b[1;31m---------------------------------------------------------------------------\u001b[0m",
      "\u001b[1;31mValueError\u001b[0m                                Traceback (most recent call last)",
      "\u001b[1;32m<ipython-input-26-79d8a1d79d51>\u001b[0m in \u001b[0;36m<module>\u001b[1;34m\u001b[0m\n\u001b[0;32m      1\u001b[0m \u001b[0mmy_tuple2\u001b[0m \u001b[1;33m=\u001b[0m \u001b[1;33m(\u001b[0m\u001b[1;34m'blackcurrent'\u001b[0m\u001b[1;33m,\u001b[0m\u001b[1;34m'papaya'\u001b[0m\u001b[1;33m,\u001b[0m\u001b[1;34m'orange'\u001b[0m\u001b[1;33m,\u001b[0m\u001b[1;34m'pineapple'\u001b[0m\u001b[1;33m)\u001b[0m\u001b[1;33m\u001b[0m\u001b[1;33m\u001b[0m\u001b[0m\n\u001b[0;32m      2\u001b[0m \u001b[1;33m\u001b[0m\u001b[0m\n\u001b[1;32m----> 3\u001b[1;33m \u001b[0mx\u001b[0m \u001b[1;33m=\u001b[0m \u001b[0mmy_tuple2\u001b[0m\u001b[1;33m.\u001b[0m\u001b[0mindex\u001b[0m\u001b[1;33m(\u001b[0m\u001b[1;34m'banana'\u001b[0m\u001b[1;33m)\u001b[0m\u001b[1;33m\u001b[0m\u001b[1;33m\u001b[0m\u001b[0m\n\u001b[0m\u001b[0;32m      4\u001b[0m \u001b[0mprint\u001b[0m\u001b[1;33m(\u001b[0m\u001b[0mx\u001b[0m\u001b[1;33m)\u001b[0m\u001b[1;33m\u001b[0m\u001b[1;33m\u001b[0m\u001b[0m\n",
      "\u001b[1;31mValueError\u001b[0m: tuple.index(x): x not in tuple"
     ]
    }
   ],
   "source": [
    "my_tuple2 = ('blackcurrent','papaya','orange','pineapple')\n",
    "\n",
    "x = my_tuple2.index('banana')\n",
    "print(x)"
   ]
  },
  {
   "cell_type": "code",
   "execution_count": 27,
   "id": "8a43e324",
   "metadata": {},
   "outputs": [
    {
     "ename": "NameError",
     "evalue": "name 'my_tuple2' is not defined",
     "output_type": "error",
     "traceback": [
      "\u001b[1;31m---------------------------------------------------------------------------\u001b[0m",
      "\u001b[1;31mNameError\u001b[0m                                 Traceback (most recent call last)",
      "\u001b[1;32m<ipython-input-27-f2478858506d>\u001b[0m in \u001b[0;36m<module>\u001b[1;34m\u001b[0m\n\u001b[0;32m      2\u001b[0m \u001b[1;33m\u001b[0m\u001b[0m\n\u001b[0;32m      3\u001b[0m \u001b[1;32mdel\u001b[0m \u001b[0mmy_tuple2\u001b[0m\u001b[1;33m\u001b[0m\u001b[1;33m\u001b[0m\u001b[0m\n\u001b[1;32m----> 4\u001b[1;33m \u001b[0mprint\u001b[0m\u001b[1;33m(\u001b[0m\u001b[0mmy_tuple2\u001b[0m\u001b[1;33m)\u001b[0m\u001b[1;33m\u001b[0m\u001b[1;33m\u001b[0m\u001b[0m\n\u001b[0m",
      "\u001b[1;31mNameError\u001b[0m: name 'my_tuple2' is not defined"
     ]
    }
   ],
   "source": [
    "my_tuple2 = ('blackcurrent','papaya','orange','pineapple')\n",
    "\n",
    "del my_tuple2\n",
    "print(my_tuple2)"
   ]
  },
  {
   "cell_type": "code",
   "execution_count": 36,
   "id": "6f9f3ea5",
   "metadata": {},
   "outputs": [],
   "source": [
    "my_list = ['blackcurrent','papaya','orange','pineapple','ornage','kiwi']\n",
    "\n",
    "my_list[1:3] = ['apple','mango']"
   ]
  },
  {
   "cell_type": "code",
   "execution_count": 37,
   "id": "db5b498d",
   "metadata": {},
   "outputs": [
    {
     "name": "stdout",
     "output_type": "stream",
     "text": [
      "['blackcurrent', 'apple', 'mango', 'pineapple', 'ornage', 'kiwi']\n",
      "['apple', 'mango']\n"
     ]
    }
   ],
   "source": [
    "print(my_list)\n",
    "print(new_list)"
   ]
  },
  {
   "cell_type": "code",
   "execution_count": 38,
   "id": "62fc7ea7",
   "metadata": {},
   "outputs": [],
   "source": [
    "my_tuple = ('apple','mango','cherry','watermelonn')"
   ]
  },
  {
   "cell_type": "code",
   "execution_count": 39,
   "id": "75961377",
   "metadata": {},
   "outputs": [],
   "source": [
    "(red, yellow, red, green) = my_tuple"
   ]
  },
  {
   "cell_type": "code",
   "execution_count": 40,
   "id": "07834a3a",
   "metadata": {},
   "outputs": [
    {
     "name": "stdout",
     "output_type": "stream",
     "text": [
      "cherry\n",
      "mango\n",
      "cherry\n",
      "watermelonn\n"
     ]
    }
   ],
   "source": [
    "print(red)\n",
    "print(yellow)\n",
    "print(red)\n",
    "print(green)"
   ]
  },
  {
   "cell_type": "code",
   "execution_count": 42,
   "id": "224e446c",
   "metadata": {},
   "outputs": [],
   "source": [
    "my_tuple = ('apple','mango','cherry','watermelonn','banana','pineapple')\n",
    "\n",
    "(red, *blue) = my_tuple\n"
   ]
  },
  {
   "cell_type": "code",
   "execution_count": 43,
   "id": "0f386783",
   "metadata": {},
   "outputs": [
    {
     "name": "stdout",
     "output_type": "stream",
     "text": [
      "apple\n",
      "['mango', 'cherry', 'watermelonn', 'banana', 'pineapple']\n"
     ]
    }
   ],
   "source": [
    "print(red)\n",
    "print(blue)"
   ]
  },
  {
   "cell_type": "code",
   "execution_count": null,
   "id": "29e58412",
   "metadata": {},
   "outputs": [],
   "source": []
  }
 ],
 "metadata": {
  "kernelspec": {
   "display_name": "Python 3",
   "language": "python",
   "name": "python3"
  },
  "language_info": {
   "codemirror_mode": {
    "name": "ipython",
    "version": 3
   },
   "file_extension": ".py",
   "mimetype": "text/x-python",
   "name": "python",
   "nbconvert_exporter": "python",
   "pygments_lexer": "ipython3",
   "version": "3.8.8"
  }
 },
 "nbformat": 4,
 "nbformat_minor": 5
}
