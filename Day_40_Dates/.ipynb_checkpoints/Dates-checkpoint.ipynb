{
 "cells": [
  {
   "cell_type": "markdown",
   "id": "591cec4e",
   "metadata": {},
   "source": [
    "# Python Dates"
   ]
  },
  {
   "cell_type": "code",
   "execution_count": 3,
   "id": "eeb272cf",
   "metadata": {},
   "outputs": [
    {
     "name": "stdout",
     "output_type": "stream",
     "text": [
      "2022-02-09 08:22:41.246655\n"
     ]
    }
   ],
   "source": [
    "import datetime\n",
    "\n",
    "x = datetime.datetime.now()\n",
    "print(x)"
   ]
  },
  {
   "cell_type": "code",
   "execution_count": 4,
   "id": "4908263d",
   "metadata": {},
   "outputs": [],
   "source": [
    "# yyyy-mm-dd  \n",
    "# Hours - Minutes - Seconds - Microseconds"
   ]
  },
  {
   "cell_type": "code",
   "execution_count": 9,
   "id": "d4a54677",
   "metadata": {},
   "outputs": [
    {
     "name": "stdout",
     "output_type": "stream",
     "text": [
      "2022\n",
      "2\n",
      "2022-02-09\n",
      "Wednesday\n"
     ]
    }
   ],
   "source": [
    "import datetime\n",
    "\n",
    "x = datetime.datetime.now()\n",
    "print(x.year)\n",
    "print(x.month)\n",
    "print(x.date())\n",
    "print(x.strftime(\"%A\"))"
   ]
  },
  {
   "cell_type": "code",
   "execution_count": 14,
   "id": "e4192702",
   "metadata": {},
   "outputs": [
    {
     "name": "stdout",
     "output_type": "stream",
     "text": [
      "2019-03-24 00:00:00\n",
      "2019\n",
      "3\n",
      "2019-03-24\n"
     ]
    }
   ],
   "source": [
    "import datetime\n",
    "\n",
    "x = datetime.datetime(2019,3,24)\n",
    "print(x)\n",
    "print(x.year)\n",
    "print(x.month)\n",
    "print(x.date())"
   ]
  },
  {
   "cell_type": "code",
   "execution_count": 16,
   "id": "42323960",
   "metadata": {},
   "outputs": [
    {
     "name": "stdout",
     "output_type": "stream",
     "text": [
      "Feb\n"
     ]
    }
   ],
   "source": [
    "import datetime\n",
    "\n",
    "x = datetime.datetime.now()\n",
    "print(x.strftime(\"%b\"))"
   ]
  },
  {
   "cell_type": "markdown",
   "id": "049ff77d",
   "metadata": {},
   "source": [
    "### 1. %a Weekday, short Version"
   ]
  },
  {
   "cell_type": "code",
   "execution_count": 17,
   "id": "adf78537",
   "metadata": {},
   "outputs": [
    {
     "name": "stdout",
     "output_type": "stream",
     "text": [
      "Wed\n"
     ]
    }
   ],
   "source": [
    "import datetime\n",
    "\n",
    "x = datetime.datetime.now()\n",
    "print(x.strftime(\"%a\"))"
   ]
  },
  {
   "cell_type": "markdown",
   "id": "fe5ccf17",
   "metadata": {},
   "source": [
    "### 2.%A Weekday, Full Version"
   ]
  },
  {
   "cell_type": "code",
   "execution_count": 18,
   "id": "9396fa72",
   "metadata": {},
   "outputs": [
    {
     "name": "stdout",
     "output_type": "stream",
     "text": [
      "Wednesday\n"
     ]
    }
   ],
   "source": [
    "import datetime\n",
    "\n",
    "x = datetime.datetime.now()\n",
    "print(x.strftime(\"%A\"))"
   ]
  },
  {
   "cell_type": "markdown",
   "id": "b6415b89",
   "metadata": {},
   "source": [
    "### 3. %w Weekday as Number 0-6 , [0 - Sunday]"
   ]
  },
  {
   "cell_type": "code",
   "execution_count": 19,
   "id": "d8832327",
   "metadata": {},
   "outputs": [
    {
     "name": "stdout",
     "output_type": "stream",
     "text": [
      "3\n"
     ]
    }
   ],
   "source": [
    "import datetime\n",
    "\n",
    "x = datetime.datetime.now()\n",
    "print(x.strftime(\"%w\"))"
   ]
  },
  {
   "cell_type": "markdown",
   "id": "7676aec5",
   "metadata": {},
   "source": [
    "### 4. %d  Day of Month 01-31"
   ]
  },
  {
   "cell_type": "code",
   "execution_count": 20,
   "id": "3cf9fbd6",
   "metadata": {},
   "outputs": [
    {
     "name": "stdout",
     "output_type": "stream",
     "text": [
      "09\n"
     ]
    }
   ],
   "source": [
    "import datetime\n",
    "\n",
    "x = datetime.datetime.now()\n",
    "print(x.strftime(\"%d\"))"
   ]
  },
  {
   "cell_type": "markdown",
   "id": "8c65d937",
   "metadata": {},
   "source": [
    "### 5. %B Month Name, Full Version"
   ]
  },
  {
   "cell_type": "code",
   "execution_count": 21,
   "id": "aff19efc",
   "metadata": {},
   "outputs": [
    {
     "name": "stdout",
     "output_type": "stream",
     "text": [
      "February\n"
     ]
    }
   ],
   "source": [
    "import datetime\n",
    "\n",
    "x = datetime.datetime.now()\n",
    "print(x.strftime(\"%B\"))"
   ]
  },
  {
   "cell_type": "markdown",
   "id": "6e743dd3",
   "metadata": {},
   "source": [
    "### 6. %b Month Name, Short Version"
   ]
  },
  {
   "cell_type": "code",
   "execution_count": 22,
   "id": "a7fed5f7",
   "metadata": {},
   "outputs": [
    {
     "name": "stdout",
     "output_type": "stream",
     "text": [
      "Feb\n"
     ]
    }
   ],
   "source": [
    "import datetime\n",
    "\n",
    "x = datetime.datetime.now()\n",
    "print(x.strftime(\"%b\"))"
   ]
  },
  {
   "cell_type": "code",
   "execution_count": 24,
   "id": "82488bad",
   "metadata": {},
   "outputs": [],
   "source": [
    "# help(datetime)"
   ]
  },
  {
   "cell_type": "markdown",
   "id": "d0f82c78",
   "metadata": {},
   "source": [
    "### 7. %m Month of Number 01-12"
   ]
  },
  {
   "cell_type": "code",
   "execution_count": 25,
   "id": "c97043e9",
   "metadata": {},
   "outputs": [
    {
     "name": "stdout",
     "output_type": "stream",
     "text": [
      "02\n"
     ]
    }
   ],
   "source": [
    "import datetime\n",
    "\n",
    "x = datetime.datetime.now()\n",
    "print(x.strftime(\"%m\"))"
   ]
  },
  {
   "cell_type": "markdown",
   "id": "9484847d",
   "metadata": {},
   "source": [
    "### 8. %y- [Short version, %Y - Full Version] year "
   ]
  },
  {
   "cell_type": "code",
   "execution_count": 26,
   "id": "432d3cf1",
   "metadata": {},
   "outputs": [
    {
     "name": "stdout",
     "output_type": "stream",
     "text": [
      "22\n"
     ]
    }
   ],
   "source": [
    "import datetime\n",
    "\n",
    "x = datetime.datetime.now()\n",
    "print(x.strftime(\"%y\"))"
   ]
  },
  {
   "cell_type": "code",
   "execution_count": 28,
   "id": "6718bb89",
   "metadata": {},
   "outputs": [
    {
     "name": "stdout",
     "output_type": "stream",
     "text": [
      "2019\n"
     ]
    }
   ],
   "source": [
    "import datetime\n",
    "\n",
    "x = datetime.datetime(2019, 2,24)\n",
    "print(x.strftime(\"%Y\"))"
   ]
  },
  {
   "cell_type": "markdown",
   "id": "cc33e078",
   "metadata": {},
   "source": [
    "### 9. Hours "
   ]
  },
  {
   "cell_type": "code",
   "execution_count": 29,
   "id": "d65df2a2",
   "metadata": {},
   "outputs": [
    {
     "name": "stdout",
     "output_type": "stream",
     "text": [
      "08\n"
     ]
    }
   ],
   "source": [
    "import datetime\n",
    "\n",
    "x = datetime.datetime.now()\n",
    "print(x.strftime(\"%H\"))"
   ]
  },
  {
   "cell_type": "markdown",
   "id": "8de49022",
   "metadata": {},
   "source": [
    "### 10. Hour 00-23"
   ]
  },
  {
   "cell_type": "code",
   "execution_count": 30,
   "id": "b18ab4d2",
   "metadata": {},
   "outputs": [
    {
     "name": "stdout",
     "output_type": "stream",
     "text": [
      "08\n"
     ]
    }
   ],
   "source": [
    "import datetime\n",
    "\n",
    "x = datetime.datetime.now()\n",
    "print(x.strftime(\"%I\"))"
   ]
  },
  {
   "cell_type": "markdown",
   "id": "8ae6456d",
   "metadata": {},
   "source": [
    "### 11. AM / PM"
   ]
  },
  {
   "cell_type": "code",
   "execution_count": 31,
   "id": "08f4c8dd",
   "metadata": {},
   "outputs": [
    {
     "name": "stdout",
     "output_type": "stream",
     "text": [
      "AM\n"
     ]
    }
   ],
   "source": [
    "import datetime\n",
    "\n",
    "x = datetime.datetime.now()\n",
    "print(x.strftime(\"%p\"))"
   ]
  },
  {
   "cell_type": "markdown",
   "id": "a0014490",
   "metadata": {},
   "source": [
    "### 12. %M Minute"
   ]
  },
  {
   "cell_type": "code",
   "execution_count": 35,
   "id": "cc0f36fc",
   "metadata": {},
   "outputs": [
    {
     "name": "stdout",
     "output_type": "stream",
     "text": [
      "52\n"
     ]
    }
   ],
   "source": [
    "import datetime\n",
    "\n",
    "x = datetime.datetime.now()\n",
    "print(x.strftime(\"%M\"))"
   ]
  },
  {
   "cell_type": "markdown",
   "id": "839423b9",
   "metadata": {},
   "source": [
    "### 13. %S Seconds"
   ]
  },
  {
   "cell_type": "code",
   "execution_count": 38,
   "id": "41c82944",
   "metadata": {},
   "outputs": [
    {
     "name": "stdout",
     "output_type": "stream",
     "text": [
      "07\n"
     ]
    }
   ],
   "source": [
    "import datetime\n",
    "\n",
    "x = datetime.datetime.now()\n",
    "print(x.strftime(\"%S\"))"
   ]
  },
  {
   "cell_type": "markdown",
   "id": "e3a560be",
   "metadata": {},
   "source": [
    "### 14. %f Microseconds"
   ]
  },
  {
   "cell_type": "code",
   "execution_count": 39,
   "id": "2bae1510",
   "metadata": {},
   "outputs": [
    {
     "name": "stdout",
     "output_type": "stream",
     "text": [
      "514337\n"
     ]
    }
   ],
   "source": [
    "import datetime\n",
    "\n",
    "x = datetime.datetime.now()\n",
    "print(x.strftime(\"%f\"))"
   ]
  },
  {
   "cell_type": "code",
   "execution_count": 42,
   "id": "28c3880d",
   "metadata": {},
   "outputs": [
    {
     "name": "stdout",
     "output_type": "stream",
     "text": [
      "Wed\n",
      "234375\n"
     ]
    }
   ],
   "source": [
    "import datetime\n",
    "\n",
    "x = datetime.datetime.now()\n",
    "print(x.strftime(\"%a\"))\n",
    "print(x.strftime(\"%f\"))"
   ]
  },
  {
   "cell_type": "markdown",
   "id": "f027bc43",
   "metadata": {},
   "source": [
    "### 15. UTF offset"
   ]
  },
  {
   "cell_type": "code",
   "execution_count": 44,
   "id": "40c070f8",
   "metadata": {},
   "outputs": [
    {
     "name": "stdout",
     "output_type": "stream",
     "text": [
      "\n"
     ]
    }
   ],
   "source": [
    "import datetime\n",
    "\n",
    "x = datetime.datetime.now()\n",
    "print(x.strftime(\"%Z\"))"
   ]
  },
  {
   "cell_type": "markdown",
   "id": "6ad2bedd",
   "metadata": {},
   "source": [
    "### 16. %j Day of yearv 001 - 366"
   ]
  },
  {
   "cell_type": "code",
   "execution_count": 45,
   "id": "db3b1426",
   "metadata": {},
   "outputs": [
    {
     "name": "stdout",
     "output_type": "stream",
     "text": [
      "040\n"
     ]
    }
   ],
   "source": [
    "import datetime\n",
    "\n",
    "x = datetime.datetime.now()\n",
    "print(x.strftime(\"%j\"))"
   ]
  },
  {
   "cell_type": "markdown",
   "id": "23cb44af",
   "metadata": {},
   "source": [
    "### 17. %U Week number of year, Monday as the First day of week 00-53"
   ]
  },
  {
   "cell_type": "code",
   "execution_count": null,
   "id": "d3984095",
   "metadata": {},
   "outputs": [],
   "source": []
  }
 ],
 "metadata": {
  "kernelspec": {
   "display_name": "Python 3",
   "language": "python",
   "name": "python3"
  },
  "language_info": {
   "codemirror_mode": {
    "name": "ipython",
    "version": 3
   },
   "file_extension": ".py",
   "mimetype": "text/x-python",
   "name": "python",
   "nbconvert_exporter": "python",
   "pygments_lexer": "ipython3",
   "version": "3.8.8"
  }
 },
 "nbformat": 4,
 "nbformat_minor": 5
}
