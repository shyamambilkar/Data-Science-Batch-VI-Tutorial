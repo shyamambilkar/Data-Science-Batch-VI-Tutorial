{
 "cells": [
  {
   "cell_type": "markdown",
   "id": "71323199",
   "metadata": {},
   "source": [
    "# 2. Binomial Distribution"
   ]
  },
  {
   "cell_type": "markdown",
   "id": "942bd131",
   "metadata": {},
   "source": [
    "1. Binomial distribution also called Discrete Distribution\n",
    "2. It describes the outcome of binary scenarios Example. Toss of coin, It will be either Head or Tails\n",
    "3. It has three parameters:\n",
    "    1. n - Number of Trails \n",
    "    2. p - Probability of occurances of each trail Example. [Toss of coin, 0.5] \n",
    "    3. size - The shaped of the returned array "
   ]
  },
  {
   "cell_type": "markdown",
   "id": "2485596f",
   "metadata": {},
   "source": [
    "1. Discrete Distribution:\n",
    "    1. Discrete Distribution is defined at separate set of events Example. coin toss result discrete as it only head or tail\n",
    "    2. whereas height of people contineous at it can be 170,170,170,171, and so on."
   ]
  },
  {
   "cell_type": "markdown",
   "id": "fce1cd31",
   "metadata": {},
   "source": [
    "**1. Formula:** \n",
    "![](https://www.gstatic.com/education/formulas2/397133473/en/binomial_distribution_formula.svg)"
   ]
  },
  {
   "cell_type": "markdown",
   "id": "091faae9",
   "metadata": {},
   "source": [
    "1. P\t=\tbinomial probability\n",
    "2. x\t=\tnumber of times for a specific outcome within n trials\n",
    "3. {n \\choose x}\t=\tnumber of combinations\n",
    "4. p\t=\tprobability of success on a single trial\n",
    "5. q\t=\tprobability of failure on a single trial\n",
    "6. n\t=\tnumber of trials"
   ]
  },
  {
   "cell_type": "markdown",
   "id": "4d9adf3a",
   "metadata": {},
   "source": [
    "![](https://d138zd1ktt9iqe.cloudfront.net/media/seo_landing_files/binomial-distribution-01-1621924404.png)"
   ]
  },
  {
   "cell_type": "markdown",
   "id": "e4a94ff8",
   "metadata": {},
   "source": [
    "**Problem Statement - 80% of people who purchase pet insurance are women.  If 9 pet insurance owners are randomly selected, find the probability that exactly 6 are women.**"
   ]
  },
  {
   "cell_type": "markdown",
   "id": "1ff23a4c",
   "metadata": {},
   "source": [
    "1. n (the number of randomly selected items) is 9\n",
    "2. X (the number you are asked to find the probability for) is 6.\n",
    "3. Using Formula:\n",
    "    1. n! / (n - x)!x! \n",
    "4. 1 - p = Filure Probability [1 - 0.8 = ] "
   ]
  },
  {
   "cell_type": "code",
   "execution_count": 2,
   "id": "a08a1af4",
   "metadata": {},
   "outputs": [
    {
     "data": {
      "text/plain": [
       "362880"
      ]
     },
     "execution_count": 2,
     "metadata": {},
     "output_type": "execute_result"
    }
   ],
   "source": [
    "9*8*7*6*5*4*3*2*1"
   ]
  },
  {
   "cell_type": "code",
   "execution_count": 5,
   "id": "da2f5391",
   "metadata": {},
   "outputs": [
    {
     "data": {
      "text/plain": [
       "720"
      ]
     },
     "execution_count": 5,
     "metadata": {},
     "output_type": "execute_result"
    }
   ],
   "source": [
    "6*5*4*3*2*1"
   ]
  },
  {
   "cell_type": "code",
   "execution_count": 7,
   "id": "696d73a8",
   "metadata": {},
   "outputs": [
    {
     "data": {
      "text/plain": [
       "0.13916500994035785"
      ]
     },
     "execution_count": 7,
     "metadata": {},
     "output_type": "execute_result"
    }
   ],
   "source": [
    "362880 / ((362880 - 720)* 720) "
   ]
  },
  {
   "cell_type": "code",
   "execution_count": 9,
   "id": "3c336634",
   "metadata": {},
   "outputs": [
    {
     "data": {
      "text/plain": [
       "0.13916500994035785"
      ]
     },
     "execution_count": 9,
     "metadata": {},
     "output_type": "execute_result"
    }
   ],
   "source": [
    "0.13916500994035785"
   ]
  },
  {
   "cell_type": "code",
   "execution_count": 12,
   "id": "27486dc0",
   "metadata": {},
   "outputs": [
    {
     "data": {
      "text/plain": [
       "0.19999999999999996"
      ]
     },
     "execution_count": 12,
     "metadata": {},
     "output_type": "execute_result"
    }
   ],
   "source": [
    "1 - 0.8 "
   ]
  },
  {
   "cell_type": "markdown",
   "id": "a575dcbd",
   "metadata": {},
   "source": [
    "P - PASS - 0.8\n",
    "F - FAILURE -0.2\n",
    "n - 9\n",
    "x - 6 "
   ]
  },
  {
   "cell_type": "code",
   "execution_count": 13,
   "id": "2a7f2c7c",
   "metadata": {},
   "outputs": [
    {
     "data": {
      "text/plain": [
       "0.0020971520000000014"
      ]
     },
     "execution_count": 13,
     "metadata": {},
     "output_type": "execute_result"
    }
   ],
   "source": [
    "(0.8 ** 6) * (0.2 ** 3)"
   ]
  },
  {
   "cell_type": "code",
   "execution_count": 14,
   "id": "fd7cd799",
   "metadata": {},
   "outputs": [
    {
     "data": {
      "text/plain": [
       "0.20971520000000016"
      ]
     },
     "execution_count": 14,
     "metadata": {},
     "output_type": "execute_result"
    }
   ],
   "source": [
    "0.0020971520000000014 * 100"
   ]
  },
  {
   "cell_type": "code",
   "execution_count": 17,
   "id": "77e4bb20",
   "metadata": {},
   "outputs": [
    {
     "name": "stdout",
     "output_type": "stream",
     "text": [
      "[4 3 5 7 3 6 6 2 4 4]\n"
     ]
    }
   ],
   "source": [
    "from numpy import random\n",
    "\n",
    "x = random.binomial(n =10, p = 0.5, size = 10)\n",
    "print(x)"
   ]
  },
  {
   "cell_type": "code",
   "execution_count": 18,
   "id": "af1e89ec",
   "metadata": {},
   "outputs": [],
   "source": [
    "from numpy import random \n",
    "import matplotlib.pyplot as plt\n",
    "import seaborn as sns"
   ]
  },
  {
   "cell_type": "code",
   "execution_count": 21,
   "id": "42cb4772",
   "metadata": {},
   "outputs": [
    {
     "data": {
      "image/png": "[encoded data removed]",
      "text/plain": [
       "<Figure size 432x288 with 1 Axes>"
      ]
     },
     "metadata": {
      "needs_background": "light"
     },
     "output_type": "display_data"
    }
   ],
   "source": [
    "sns.distplot(random.binomial(n =10, p = 0.5, size = 1000), hist = True, kde= True)\n",
    "plt.show()"
   ]
  },
  {
   "cell_type": "markdown",
   "id": "b9f5b9b0",
   "metadata": {},
   "source": [
    "# Difference Between Normal and Bionomial Distribution"
   ]
  },
  {
   "cell_type": "markdown",
   "id": "bfaeadbe",
   "metadata": {},
   "source": [
    "1. The main difference betweeen is that normal distribution is contineous where as binomial is discrete"
   ]
  },
  {
   "cell_type": "code",
   "execution_count": 25,
   "id": "54db9c0e",
   "metadata": {},
   "outputs": [
    {
     "name": "stderr",
     "output_type": "stream",
     "text": [
      "C:\\Users\\shyam.DESKTOP-3EM50G2\\anaconda3\\lib\\site-packages\\seaborn\\distributions.py:2557: FutureWarning: `distplot` is a deprecated function and will be removed in a future version. Please adapt your code to use either `displot` (a figure-level function with similar flexibility) or `kdeplot` (an axes-level function for kernel density plots).\n",
      "  warnings.warn(msg, FutureWarning)\n",
      "C:\\Users\\shyam.DESKTOP-3EM50G2\\anaconda3\\lib\\site-packages\\seaborn\\distributions.py:2557: FutureWarning: `distplot` is a deprecated function and will be removed in a future version. Please adapt your code to use either `displot` (a figure-level function with similar flexibility) or `kdeplot` (an axes-level function for kernel density plots).\n",
      "  warnings.warn(msg, FutureWarning)\n"
     ]
    },
    {
     "data": {
      "image/png": "[encoded data removed]",
      "text/plain": [
       "<Figure size 432x288 with 1 Axes>"
      ]
     },
     "metadata": {
      "needs_background": "light"
     },
     "output_type": "display_data"
    }
   ],
   "source": [
    "from numpy import random \n",
    "import matplotlib.pyplot as plt\n",
    "import seaborn as sns\n",
    "\n",
    "sns.distplot(random.normal(loc =50,  scale = 5, size =1000), hist = False, label = \"Normal Distribution\")\n",
    "sns.distplot(random.binomial(n =100, p = 0.5, size =1000), hist = False, label = \"Binomial Distribution\")\n",
    "plt.legend()\n",
    "plt.show()"
   ]
  },
  {
   "cell_type": "code",
   "execution_count": null,
   "id": "a83a6a67",
   "metadata": {},
   "outputs": [],
   "source": []
  }
 ],
 "metadata": {
  "kernelspec": {
   "display_name": "Python 3",
   "language": "python",
   "name": "python3"
  },
  "language_info": {
   "codemirror_mode": {
    "name": "ipython",
    "version": 3
   },
   "file_extension": ".py",
   "mimetype": "text/x-python",
   "name": "python",
   "nbconvert_exporter": "python",
   "pygments_lexer": "ipython3",
   "version": "3.8.8"
  }
 },
 "nbformat": 4,
 "nbformat_minor": 5
}
