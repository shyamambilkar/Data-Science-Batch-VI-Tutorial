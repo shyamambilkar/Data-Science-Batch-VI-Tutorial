{
 "cells": [
  {
   "cell_type": "markdown",
   "id": "8ac075a2",
   "metadata": {},
   "source": [
    "# Logistic Regression"
   ]
  },
  {
   "cell_type": "markdown",
   "id": "8fed655c",
   "metadata": {},
   "source": [
    "1. suppose - 0.8 "
   ]
  },
  {
   "cell_type": "markdown",
   "id": "7a438508",
   "metadata": {},
   "source": [
    "**Now how you can decides value should be o or 1?**"
   ]
  },
  {
   "cell_type": "markdown",
   "id": "4c670c67",
   "metadata": {},
   "source": [
    "1. We have concept like threshold which basically decides line\n",
    "2. Threshold value had indicating the probability of winning or loosing, winning means 1 or loosing means 0\n",
    "3. suppose we have datapoints 0.8\n",
    "4. if the datapoints value (0.8) more than threshold value its give us a winning side and\n",
    "5. If the datapoints value (0.8) is less than thershold value then its give us loosing side\n",
    "6. To calculate or Findout value of output use concept threshold\n",
    "7. Logistic Regression equation is derived from straiht line equation"
   ]
  },
  {
   "cell_type": "markdown",
   "id": "556d1bec",
   "metadata": {},
   "source": [
    "Equation of straight line - [Y =  mx + c]"
   ]
  },
  {
   "cell_type": "markdown",
   "id": "32809168",
   "metadata": {},
   "source": [
    "1. Y = C + B1X1 + B2X2 + ........+MnXn  - Range from **-infinity to infinity**\n",
    "2. Lets try to reduce lostic regression equation from straight line equation\n",
    "3. Y = C + B1X1 + B2X2 - in logistic regression equation Y can only 0 or 1\n",
    "4. Now, get a range of X between 0 and infinity, lets trnsform Y\n",
    "5. Y / 1 - Y :\n",
    "    1. Y = 0 - [0]\n",
    "    2. Y = 1 - [infinity]\n",
    "6. range between 0 and infinity\n",
    "7. Let us transform it further, To get range between -infinity to infinity\n",
    "8. Log Y / 1 - Y  [Y = C + B1X1 + B2X2.....] Final equation of regression"
   ]
  },
  {
   "cell_type": "markdown",
   "id": "fbfa9993",
   "metadata": {},
   "source": [
    "1. To understand the concept of Logistic Regression, it is important to understance the concept of:\n",
    "    1. Odd Ratio(OR)\n",
    "    2. Logit Function,\n",
    "    3. Sigmoid Function or Logistic Regression\n",
    "    4. Cross Entropy and\n",
    "    5. Log Loss Function"
   ]
  },
  {
   "cell_type": "markdown",
   "id": "5d7b4f82",
   "metadata": {},
   "source": [
    "## 1. Odd Ratio"
   ]
  },
  {
   "cell_type": "markdown",
   "id": "28c0bc2a",
   "metadata": {},
   "source": [
    "1. Odd ratio in odds in favor of a perticular events\n",
    "2. It is measuring the association between exposure and Outcomes\n",
    "3. Formula "
   ]
  },
  {
   "cell_type": "markdown",
   "id": "9d3248f1",
   "metadata": {},
   "source": [
    "**Formula - Odd Ratio = P / (1- P)**"
   ]
  },
  {
   "cell_type": "markdown",
   "id": "b8ed00b2",
   "metadata": {},
   "source": [
    "1. P - Probability of positive events"
   ]
  },
  {
   "cell_type": "markdown",
   "id": "2d99ae4d",
   "metadata": {},
   "source": [
    "1. Probabilit of Success [P] - [0.8]\n",
    "2. Probability of Failure [Q] = 1 - P = 1 - 0.8 = [0.2]"
   ]
  },
  {
   "cell_type": "markdown",
   "id": "f8b79f2a",
   "metadata": {},
   "source": [
    "Odd Ratio of Probability of Success[P / Q]  and Probability of Failure [Q /P]"
   ]
  },
  {
   "cell_type": "markdown",
   "id": "5147ec9f",
   "metadata": {},
   "source": [
    "1. odd Ratio(Success) = P / Q = 0.8 /0.2 = 4\n",
    "2. odd Ratio(Failure) = Q / P = 0.2 /0.8 = 0.25"
   ]
  },
  {
   "cell_type": "markdown",
   "id": "0827ef9a",
   "metadata": {},
   "source": [
    "## 2. Logit Function"
   ]
  },
  {
   "cell_type": "markdown",
   "id": "4841445e",
   "metadata": {},
   "source": [
    "1. Logit Function is algorithm of odd ratio (log - odd)\n",
    "2. It takes input value in the range from [0 to 1] then transform them to value over the entire real number values\n",
    "3. Lets take Probability, then P / (1 - P) is the corresponding odd"
   ]
  },
  {
   "cell_type": "markdown",
   "id": "05cdeb4d",
   "metadata": {},
   "source": [
    "![](https://www.gstatic.com/education/formulas2/397133473/en/logit.svg)"
   ]
  },
  {
   "cell_type": "markdown",
   "id": "a9ae2d51",
   "metadata": {},
   "source": [
    "1. p - Probability\n",
    "2. p / 1 -p = corresponding odds"
   ]
  },
  {
   "cell_type": "markdown",
   "id": "0d311a08",
   "metadata": {},
   "source": [
    "## 3. Logistic Function or Sigmoid Function"
   ]
  },
  {
   "cell_type": "markdown",
   "id": "bc2ff455",
   "metadata": {},
   "source": [
    "1. The inverse fo a logit Fuction is called as sigmoid Function or Logistic Function\n",
    "2. It is name as Sigmoid Function due to its Charactristic shape\n",
    "3. Equation of Sigmoid"
   ]
  },
  {
   "cell_type": "markdown",
   "id": "484f227a",
   "metadata": {},
   "source": [
    "![](https://www.gstatic.com/education/formulas2/397133473/en/sigmoid_function.svg)"
   ]
  },
  {
   "cell_type": "markdown",
   "id": "62079f7a",
   "metadata": {},
   "source": [
    "4. sigmoid Function takes real number value as input and transform them into value in the range[0, 1] with and intercept z = 0.5"
   ]
  },
  {
   "cell_type": "markdown",
   "id": "54d0dc7b",
   "metadata": {},
   "source": [
    "## 4. Cross Entropy or Log loss Function"
   ]
  },
  {
   "cell_type": "markdown",
   "id": "04405d49",
   "metadata": {},
   "source": [
    "#### Formula = [cost = (Y_actual) * Log(Y_predicted) - (1 - Y_actual) * Log(1 -Y_prdicted)]"
   ]
  },
  {
   "cell_type": "markdown",
   "id": "11ade56e",
   "metadata": {},
   "source": [
    "### OR"
   ]
  },
  {
   "cell_type": "markdown",
   "id": "b2a512b1",
   "metadata": {},
   "source": [
    "#### Log(W) = summaation [Y_i * log(theta (Z_i)) - [1 - Y_i * log(1- theta(Z_i))]"
   ]
  },
  {
   "cell_type": "markdown",
   "id": "ad4e8f39",
   "metadata": {},
   "source": [
    "It is also called as log likelihood Function"
   ]
  },
  {
   "cell_type": "markdown",
   "id": "d5dd2321",
   "metadata": {},
   "source": [
    "#### Formula - MSE = 1 / n [summation i = 1 to n (Y_actual - Y_predicted) ** 2]"
   ]
  },
  {
   "cell_type": "markdown",
   "id": "1f6fc039",
   "metadata": {},
   "source": [
    "Link - [https://deepai.org/machine-learning-glossary-and-terms/sigmoid-function]"
   ]
  },
  {
   "cell_type": "code",
   "execution_count": null,
   "id": "3884909d",
   "metadata": {},
   "outputs": [],
   "source": [
    "1. Logistic Regression\n",
    "2. Confusion Matrix\n",
    "3. Classification Report\n",
    "4. AUC - ROC curve\n",
    "5. Validation"
   ]
  }
 ],
 "metadata": {
  "kernelspec": {
   "display_name": "Python 3",
   "language": "python",
   "name": "python3"
  },
  "language_info": {
   "codemirror_mode": {
    "name": "ipython",
    "version": 3
   },
   "file_extension": ".py",
   "mimetype": "text/x-python",
   "name": "python",
   "nbconvert_exporter": "python",
   "pygments_lexer": "ipython3",
   "version": "3.8.8"
  }
 },
 "nbformat": 4,
 "nbformat_minor": 5
}
