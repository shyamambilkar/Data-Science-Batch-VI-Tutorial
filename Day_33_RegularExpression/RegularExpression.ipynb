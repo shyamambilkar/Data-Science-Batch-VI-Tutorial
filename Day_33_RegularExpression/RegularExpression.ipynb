{
 "cells": [
  {
   "cell_type": "markdown",
   "id": "5b9f9c9e",
   "metadata": {},
   "source": [
    "# Sets"
   ]
  },
  {
   "cell_type": "markdown",
   "id": "2f752268",
   "metadata": {},
   "source": [
    "### 1. [arn]:\n",
    "    1. Return a match where one of the spicified character (a, r, or n) are present\n",
    "    2. Example"
   ]
  },
  {
   "cell_type": "code",
   "execution_count": 1,
   "id": "9599af9d",
   "metadata": {},
   "outputs": [
    {
     "name": "stdout",
     "output_type": "stream",
     "text": [
      "['a', 'a', 'n', 'a', 'n', 'a', 'a', 'n']\n",
      "Yes, atleast one match are available in the string\n"
     ]
    }
   ],
   "source": [
    "import re\n",
    "\n",
    "my_text = \"Welcome to Data Science Placement Batch of Jan 2022\"\n",
    "\n",
    "x = re.findall(\"[arn]\", my_text)\n",
    "\n",
    "print(x)\n",
    "\n",
    "if x:\n",
    "    print(\"Yes, atleast one match are available in the string\")\n",
    "else:\n",
    "    print(\"No match\")"
   ]
  },
  {
   "cell_type": "code",
   "execution_count": 3,
   "id": "d7a10664",
   "metadata": {},
   "outputs": [
    {
     "name": "stdout",
     "output_type": "stream",
     "text": [
      "['P']\n",
      "Yes, atleast one match are available in the string\n"
     ]
    }
   ],
   "source": [
    "import re\n",
    "\n",
    "my_text = \"Welcome to Data Science Placement Batch of Jan 2022\"\n",
    "\n",
    "x = re.findall(\"[pqrPQR]\", my_text)\n",
    "\n",
    "print(x)\n",
    "\n",
    "if x:\n",
    "    print(\"Yes, atleast one match are available in the string\")\n",
    "else:\n",
    "    print(\"No match\")"
   ]
  },
  {
   "cell_type": "markdown",
   "id": "c3bab521",
   "metadata": {},
   "source": [
    "### 2. [a-m]:\n",
    "    1. Return a match for any lower case character alphabitacally between a and m\n",
    "    2. Example"
   ]
  },
  {
   "cell_type": "code",
   "execution_count": 5,
   "id": "0c515ee1",
   "metadata": {},
   "outputs": [
    {
     "name": "stdout",
     "output_type": "stream",
     "text": [
      "['e', 'l', 'c', 'o', 'm', 'e', 't', 'o', 'a', 't', 'a', 'c', 'i', 'e', 'n', 'c', 'e', 'l', 'a', 'c', 'e', 'm', 'e', 'n', 't', 'a', 't', 'c', 'h', 'o', 'f', 'a', 'n']\n",
      "Yes, atleast one match are available in the string\n"
     ]
    }
   ],
   "source": [
    "import re\n",
    "\n",
    "my_text = \"Welcome to Data Science Placement Batch of Jan 2022\"\n",
    "\n",
    "x = re.findall(\"[a-z]\", my_text)\n",
    "\n",
    "print(x)\n",
    "\n",
    "if x:\n",
    "    print(\"Yes, atleast one match are available in the string\")\n",
    "else:\n",
    "    print(\"No match\")"
   ]
  },
  {
   "cell_type": "code",
   "execution_count": 6,
   "id": "75beb193",
   "metadata": {},
   "outputs": [
    {
     "name": "stdout",
     "output_type": "stream",
     "text": [
      "['W', 'e', 'l', 'c', 'o', 'm', 'e', 't', 'o', 'D', 'a', 't', 'a', 'S', 'c', 'i', 'e', 'n', 'c', 'e', 'P', 'l', 'a', 'c', 'e', 'm', 'e', 'n', 't', 'B', 'a', 't', 'c', 'h', 'o', 'f', 'J', 'a', 'n']\n",
      "Yes, atleast one match are available in the string\n"
     ]
    }
   ],
   "source": [
    "import re\n",
    "\n",
    "my_text = \"Welcome to Data Science Placement Batch of Jan 2022\"\n",
    "\n",
    "x = re.findall(\"[a-zA-Z]\", my_text)\n",
    "\n",
    "print(x)\n",
    "\n",
    "if x:\n",
    "    print(\"Yes, atleast one match are available in the string\")\n",
    "else:\n",
    "    print(\"No match\")"
   ]
  },
  {
   "cell_type": "markdown",
   "id": "aa298d9e",
   "metadata": {},
   "source": [
    "### 3. [^arn]:\n",
    "    1. Return a match any character Except a, r and n\n",
    "    2. Exmple"
   ]
  },
  {
   "cell_type": "code",
   "execution_count": 7,
   "id": "59ebd9c3",
   "metadata": {},
   "outputs": [
    {
     "name": "stdout",
     "output_type": "stream",
     "text": [
      "['W', 'e', 'l', 'c', 'o', 'm', 'e', ' ', 't', 'o', ' ', 'D', 't', ' ', 'S', 'c', 'i', 'e', 'c', 'e', ' ', 'P', 'l', 'c', 'e', 'm', 'e', 't', ' ', 'B', 't', 'c', 'h', ' ', 'o', 'f', ' ', 'J', ' ', '2', '0', '2', '2']\n",
      "Yes, atleast one match are available in the string\n"
     ]
    }
   ],
   "source": [
    "import re\n",
    "\n",
    "my_text = \"Welcome to Data Science Placement Batch of Jan 2022\"\n",
    "\n",
    "x = re.findall(\"[^arn]\", my_text)\n",
    "\n",
    "print(x)\n",
    "\n",
    "if x:\n",
    "    print(\"Yes, atleast one match are available in the string\")\n",
    "else:\n",
    "    print(\"No match\")"
   ]
  },
  {
   "cell_type": "code",
   "execution_count": 8,
   "id": "2fb3096a",
   "metadata": {},
   "outputs": [
    {
     "name": "stdout",
     "output_type": "stream",
     "text": [
      "['W', 'e', 'l', 'c', 'o', 'm', 'e', ' ', 't', 'o', ' ', 'D', 'a', 't', 'a', ' ', 'S', 'c', 'i', 'e', 'n', 'c', 'e', ' ', 'P', 'l', 'a', 'c', 'e', 'm', 'e', 'n', 't', ' ', 'B', 'a', 't', 'c', 'h', ' ', 'o', 'f', ' ', 'J', 'a', 'n', ' ', '2', '0', '2', '2']\n",
      "Yes, atleast one match are available in the string\n"
     ]
    }
   ],
   "source": [
    "import re\n",
    "\n",
    "my_text = \"Welcome to Data Science Placement Batch of Jan 2022\"\n",
    "\n",
    "x = re.findall(\"[^pqr]\", my_text)\n",
    "\n",
    "print(x)\n",
    "\n",
    "if x:\n",
    "    print(\"Yes, atleast one match are available in the string\")\n",
    "else:\n",
    "    print(\"No match\")"
   ]
  },
  {
   "cell_type": "markdown",
   "id": "07d9c2be",
   "metadata": {},
   "source": [
    "### 4. [0123]:\n",
    "    1. Return a match where any of specified dights (0,1,2,3) are present\n",
    "    2. Example"
   ]
  },
  {
   "cell_type": "code",
   "execution_count": 10,
   "id": "f7e8413a",
   "metadata": {},
   "outputs": [
    {
     "name": "stdout",
     "output_type": "stream",
     "text": [
      "['2', '0', '2', '2', '2', '3', '0', '0', '3']\n",
      "Yes, atleast one match are available in the string\n"
     ]
    }
   ],
   "source": [
    "import re\n",
    "\n",
    "my_text = \"Welcome to Data Science Placement Batch of Jan 2022, my contact no are 9923090436\"\n",
    "\n",
    "x = re.findall(\"[0123]\", my_text)\n",
    "\n",
    "print(x)\n",
    "\n",
    "if x:\n",
    "    print(\"Yes, atleast one match are available in the string\")\n",
    "else:\n",
    "    print(\"No match\")"
   ]
  },
  {
   "cell_type": "code",
   "execution_count": 11,
   "id": "92c30e7c",
   "metadata": {},
   "outputs": [
    {
     "name": "stdout",
     "output_type": "stream",
     "text": [
      "['W', 'e', 'l', 'c', 'o', 'm', 'e', ' ', 't', 'o', ' ', 'D', 'a', 't', 'a', ' ', 'S', 'c', 'i', 'e', 'n', 'c', 'e', ' ', 'P', 'l', 'a', 'c', 'e', 'm', 'e', 'n', 't', ' ', 'B', 'a', 't', 'c', 'h', ' ', 'o', 'f', ' ', 'J', 'a', 'n', ' ', ',', ' ', 'm', 'y', ' ', 'c', 'o', 'n', 't', 'a', 'c', 't', ' ', 'n', 'o', ' ', 'a', 'r', 'e', ' ', '9', '9', '9', '4', '6']\n",
      "Yes, atleast one match are available in the string\n"
     ]
    }
   ],
   "source": [
    "import re\n",
    "\n",
    "my_text = \"Welcome to Data Science Placement Batch of Jan 2022, my contact no are 9923090436\"\n",
    "\n",
    "x = re.findall(\"[^0123]\", my_text)\n",
    "\n",
    "print(x)\n",
    "\n",
    "if x:\n",
    "    print(\"Yes, atleast one match are available in the string\")\n",
    "else:\n",
    "    print(\"No match\")"
   ]
  },
  {
   "cell_type": "code",
   "execution_count": 12,
   "id": "07361884",
   "metadata": {},
   "outputs": [
    {
     "name": "stdout",
     "output_type": "stream",
     "text": [
      "['9', '9', '9', '6']\n",
      "Yes, atleast one match are available in the string\n"
     ]
    }
   ],
   "source": [
    "import re\n",
    "\n",
    "my_text = \"Welcome to Data Science Placement Batch of Jan 2022, my contact no are 9923090436\"\n",
    "\n",
    "x = re.findall(\"[96]\", my_text)\n",
    "\n",
    "print(x)\n",
    "\n",
    "if x:\n",
    "    print(\"Yes, atleast one match are available in the string\")\n",
    "else:\n",
    "    print(\"No match\")"
   ]
  },
  {
   "cell_type": "markdown",
   "id": "73fa362d",
   "metadata": {},
   "source": [
    "### 5. [0-9]"
   ]
  },
  {
   "cell_type": "code",
   "execution_count": 14,
   "id": "7a96df04",
   "metadata": {},
   "outputs": [
    {
     "name": "stdout",
     "output_type": "stream",
     "text": [
      "['2', '0', '2', '2', '2', '3', '0', '0', '4', '3', '6']\n",
      "Yes, atleast one match are available in the string\n"
     ]
    }
   ],
   "source": [
    "import re\n",
    "\n",
    "my_text = \"Welcome to Data Science Placement Batch of Jan 2022, my contact no are 9923090436\"\n",
    "\n",
    "x = re.findall(\"[0-7]\", my_text)\n",
    "\n",
    "print(x)\n",
    "\n",
    "if x:\n",
    "    print(\"Yes, atleast one match are available in the string\")\n",
    "else:\n",
    "    print(\"No match\")"
   ]
  },
  {
   "cell_type": "markdown",
   "id": "5224ab80",
   "metadata": {},
   "source": [
    "### 6. [0-5][0-9]"
   ]
  },
  {
   "cell_type": "code",
   "execution_count": 21,
   "id": "18c29a73",
   "metadata": {},
   "outputs": [
    {
     "name": "stdout",
     "output_type": "stream",
     "text": [
      "['20', '22', '23', '09', '04', '36', '09', '45']\n",
      "Yes, atleast one match are available in the string\n"
     ]
    }
   ],
   "source": [
    "import re\n",
    "\n",
    "my_text = \"Welcome to Data Science Placement Batch of Jan 2022, my contact no are 9923090436, 09:45\"\n",
    "\n",
    "x = re.findall(\"[0-5][0-9]\", my_text)\n",
    "\n",
    "print(x)\n",
    "\n",
    "if x:\n",
    "    print(\"Yes, atleast one match are available in the string\")\n",
    "else:\n",
    "    print(\"No match\")"
   ]
  },
  {
   "cell_type": "code",
   "execution_count": 26,
   "id": "8a556563",
   "metadata": {},
   "outputs": [
    {
     "name": "stdout",
     "output_type": "stream",
     "text": [
      "['Welcome', 'Science', 'Placeme', 'contact']\n",
      "Yes, atleast one match are available in the string\n"
     ]
    }
   ],
   "source": [
    "import re\n",
    "\n",
    "my_text = \"Welcome to Data Science Placement Batch of Jan 2022, my contact no are 9923090436, 09:45\"\n",
    "\n",
    "x = re.findall(\"[A-Za-z]{7}\", my_text)\n",
    "\n",
    "print(x)\n",
    "\n",
    "if x:\n",
    "    print(\"Yes, atleast one match are available in the string\")\n",
    "else:\n",
    "    print(\"No match\")"
   ]
  },
  {
   "cell_type": "code",
   "execution_count": 28,
   "id": "98f82da6",
   "metadata": {},
   "outputs": [
    {
     "name": "stdout",
     "output_type": "stream",
     "text": [
      "['9923090436']\n",
      "Yes, atleast one match are available in the string\n"
     ]
    }
   ],
   "source": [
    "import re\n",
    "\n",
    "my_text = \"Welcome to Data Science Placement Batch of Jan 2022, my contact no are 9923090436, 09:45\"\n",
    "\n",
    "x = re.findall(\"[0-9]{10}\", my_text)\n",
    "\n",
    "print(x)\n",
    "\n",
    "if x:\n",
    "    print(\"Yes, atleast one match are available in the string\")\n",
    "else:\n",
    "    print(\"No match\")"
   ]
  },
  {
   "cell_type": "code",
   "execution_count": 32,
   "id": "34cb7cc5",
   "metadata": {},
   "outputs": [
    {
     "name": "stdout",
     "output_type": "stream",
     "text": [
      "['99230', '90436']\n",
      "Yes, atleast one match are available in the string\n"
     ]
    }
   ],
   "source": [
    "import re\n",
    "\n",
    "my_text = \"Welcome to Data Science Placement Batch of Jan 2022, my contact no are 9923090436, 09:45\"\n",
    "\n",
    "x = re.findall(\"\\d{5}\", my_text)\n",
    "\n",
    "print(x)\n",
    "\n",
    "if x:\n",
    "    print(\"Yes, atleast one match are available in the string\")\n",
    "else:\n",
    "    print(\"No match\")"
   ]
  },
  {
   "cell_type": "markdown",
   "id": "e397fadd",
   "metadata": {},
   "source": [
    "# Functions:\n",
    "    1. Findall\n",
    "    2. Search\n",
    "    3. Split\n",
    "    4. Sub"
   ]
  },
  {
   "cell_type": "markdown",
   "id": "7e4c89d4",
   "metadata": {},
   "source": [
    "### 1. Findall():\n",
    "    1. The finall() function returns a list of containing all matches"
   ]
  },
  {
   "cell_type": "code",
   "execution_count": 33,
   "id": "936c7d2e",
   "metadata": {},
   "outputs": [
    {
     "name": "stdout",
     "output_type": "stream",
     "text": [
      "[]\n",
      "No match\n"
     ]
    }
   ],
   "source": [
    "import re\n",
    "\n",
    "my_text = \"Welcome to Data Science Placement Batch of Jan 2022, my contact no are 9923090436, 09:45\"\n",
    "\n",
    "x = re.findall(\"data\", my_text)\n",
    "\n",
    "print(x)\n",
    "\n",
    "if x:\n",
    "    print(\"Yes, atleast one match are available in the string\")\n",
    "else:\n",
    "    print(\"No match\")"
   ]
  },
  {
   "cell_type": "code",
   "execution_count": 34,
   "id": "9bbea777",
   "metadata": {},
   "outputs": [
    {
     "name": "stdout",
     "output_type": "stream",
     "text": [
      "['Data']\n",
      "Yes, atleast one match are available in the string\n"
     ]
    }
   ],
   "source": [
    "import re\n",
    "\n",
    "my_text = \"Welcome to Data Science Placement Batch of Jan 2022, my contact no are 9923090436, 09:45\"\n",
    "\n",
    "x = re.findall(\"Data\", my_text)\n",
    "\n",
    "print(x)\n",
    "\n",
    "if x:\n",
    "    print(\"Yes, atleast one match are available in the string\")\n",
    "else:\n",
    "    print(\"No match\")"
   ]
  },
  {
   "cell_type": "markdown",
   "id": "af8c1ded",
   "metadata": {},
   "source": [
    "### 2. Search ()"
   ]
  },
  {
   "cell_type": "code",
   "execution_count": 37,
   "id": "b024dc4a",
   "metadata": {},
   "outputs": [
    {
     "name": "stdout",
     "output_type": "stream",
     "text": [
      "<re.Match object; span=(71, 81), match='9923090436'>\n"
     ]
    }
   ],
   "source": [
    "my_text = \"Welcome to Data Science Placement Batch of Jan 2022, my contact no are 9923090436, 09:45\"\n",
    "\n",
    "x = re.search(\"\\d{10}\", my_text)\n",
    "print(x)"
   ]
  },
  {
   "cell_type": "markdown",
   "id": "914dda34",
   "metadata": {},
   "source": [
    "### 3. split ()"
   ]
  },
  {
   "cell_type": "code",
   "execution_count": 41,
   "id": "6a8d9021",
   "metadata": {},
   "outputs": [
    {
     "name": "stdout",
     "output_type": "stream",
     "text": [
      "['Welcome to', ' DataScience Placement Batch of Jan 2022', ' my contact no are 9923090436', ' 09:45']\n"
     ]
    }
   ],
   "source": [
    "my_text = \"Welcome to, DataScience Placement Batch of Jan 2022, my contact no are 9923090436, 09:45\"\n",
    "\n",
    "x = re.split(\",\",my_text)\n",
    "print(x)"
   ]
  },
  {
   "cell_type": "code",
   "execution_count": 42,
   "id": "e82e004b",
   "metadata": {},
   "outputs": [
    {
     "name": "stdout",
     "output_type": "stream",
     "text": [
      "['Welcome', 'to,', 'DataScience', 'Placement', 'Batch', 'of', 'Jan', '2022,', 'my', 'contact', 'no', 'are', '9923090436,', '09:45']\n"
     ]
    }
   ],
   "source": [
    "my_text = \"Welcome to, DataScience Placement Batch of Jan 2022, my contact no are 9923090436, 09:45\"\n",
    "\n",
    "x = re.split(\"\\s\",my_text)\n",
    "print(x)"
   ]
  },
  {
   "cell_type": "code",
   "execution_count": 43,
   "id": "8c08e47e",
   "metadata": {},
   "outputs": [
    {
     "name": "stdout",
     "output_type": "stream",
     "text": [
      "['Welcome to, DataScience Placement Batch of Jan ', '', '', '', ', my contact no are ', '', '', '', '', '', '', '', '', '', ', ', '', ':', '', '']\n"
     ]
    }
   ],
   "source": [
    "my_text = \"Welcome to, DataScience Placement Batch of Jan 2022, my contact no are 9923090436, 09:45\"\n",
    "\n",
    "x = re.split(\"[0-9]\",my_text)\n",
    "print(x)"
   ]
  },
  {
   "cell_type": "code",
   "execution_count": 45,
   "id": "e5627b13",
   "metadata": {},
   "outputs": [
    {
     "name": "stdout",
     "output_type": "stream",
     "text": [
      "['Welcome to, DataScience Placement Batch of Jan 2022, my contact no are ', ', 09:45']\n"
     ]
    }
   ],
   "source": [
    "my_text = \"Welcome to, DataScience Placement Batch of Jan 2022, my contact no are 9923090436, 09:45\"\n",
    "\n",
    "x = re.split(\"[0-9]{10}\",my_text)\n",
    "print(x)"
   ]
  },
  {
   "cell_type": "markdown",
   "id": "270414cc",
   "metadata": {},
   "source": [
    "### 4. sub ()"
   ]
  },
  {
   "cell_type": "code",
   "execution_count": 47,
   "id": "db9a2ab9",
   "metadata": {},
   "outputs": [
    {
     "name": "stdout",
     "output_type": "stream",
     "text": [
      "Welcome to, D@t@Science Pl@cement B@tch of J@n 2022, my cont@ct no @re 9923090436, 09:45\n"
     ]
    }
   ],
   "source": [
    "my_text = \"Welcome to, DataScience Placement Batch of Jan 2022, my contact no are 9923090436, 09:45\"\n",
    "\n",
    "x = re.sub(\"a\", \"@\",my_text)\n",
    "print(x)"
   ]
  },
  {
   "cell_type": "code",
   "execution_count": 68,
   "id": "4b4b5cf3",
   "metadata": {},
   "outputs": [
    {
     "name": "stdout",
     "output_type": "stream",
     "text": [
      "['9923090436', '9021261221']\n",
      "['shyamambilkar@gmail.com']\n"
     ]
    }
   ],
   "source": [
    "my_text = \"My name is Shyam and my mobile no is +91 9923090436, and email 9021261221 id is shyamambilkar@gmail.com, rahul1@gmail.com\"\n",
    "\n",
    "x = re.findall(\"[a-z]{2,20}[@]{1}[a-z.]{2,15}\", my_text)\n",
    "y = re.findall(\"[0-9]{10}\",my_text)\n",
    "print(y)\n",
    "print(x)"
   ]
  },
  {
   "cell_type": "code",
   "execution_count": 60,
   "id": "0b051cab",
   "metadata": {},
   "outputs": [
    {
     "name": "stdout",
     "output_type": "stream",
     "text": [
      "['shyamambilkar@gmail.com']\n"
     ]
    }
   ],
   "source": [
    "email = \"\"\"\n",
    "1. shyam.ambilkar@gmail.com\n",
    "2. shyamambilakar2@gmail.com\n",
    "3. shyamambilkar@gmail.com\n",
    "4. shyamambilkar1234@gmai.com\n",
    "5. shyamambilakar2@rediffmail.com\n",
    "6. shyamambilkar@jspm.edu.in\n",
    "7. shyamambilkar@gmail.co.in\n",
    "8. ._shyamambilkar@gmail.org\n",
    "9. shyamambilkar124@gmail.org\n",
    "10. shyam.ambilkar.1234@gmail.co.in\n",
    "11. shyam.ambilkar.123@jspm.edu.in\"\"\"\n",
    "\n",
    "x = re.findall(\"[a-z]{2,20}[@]{1}[a-z.]{2,15}\", my_text)\n",
    "print(x)"
   ]
  },
  {
   "cell_type": "code",
   "execution_count": null,
   "id": "c41cf03f",
   "metadata": {},
   "outputs": [],
   "source": []
  }
 ],
 "metadata": {
  "kernelspec": {
   "display_name": "Python 3",
   "language": "python",
   "name": "python3"
  },
  "language_info": {
   "codemirror_mode": {
    "name": "ipython",
    "version": 3
   },
   "file_extension": ".py",
   "mimetype": "text/x-python",
   "name": "python",
   "nbconvert_exporter": "python",
   "pygments_lexer": "ipython3",
   "version": "3.8.8"
  }
 },
 "nbformat": 4,
 "nbformat_minor": 5
}
