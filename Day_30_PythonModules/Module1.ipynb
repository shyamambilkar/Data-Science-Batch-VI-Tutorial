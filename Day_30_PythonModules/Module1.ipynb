{
 "cells": [
  {
   "cell_type": "code",
   "execution_count": 5,
   "id": "52da1608",
   "metadata": {},
   "outputs": [],
   "source": [
    "import json"
   ]
  },
  {
   "cell_type": "markdown",
   "id": "94c98853",
   "metadata": {},
   "source": [
    "# convert json to Python"
   ]
  },
  {
   "cell_type": "code",
   "execution_count": 8,
   "id": "459659e1",
   "metadata": {},
   "outputs": [],
   "source": [
    "person = '{\"name\":\"Mayur Kankal\",\"post\":\"Student\",\"age\":26,\"email\":\"mayur@gmail.com\"}'\n",
    "\n",
    "y = json.loads(person)"
   ]
  },
  {
   "cell_type": "code",
   "execution_count": 10,
   "id": "e30e3834",
   "metadata": {},
   "outputs": [
    {
     "name": "stdout",
     "output_type": "stream",
     "text": [
      "Student\n"
     ]
    }
   ],
   "source": [
    "print(y['post'])"
   ]
  },
  {
   "cell_type": "markdown",
   "id": "a3cbc3e7",
   "metadata": {},
   "source": [
    "# convert Python to Json"
   ]
  },
  {
   "cell_type": "code",
   "execution_count": 11,
   "id": "d36583bf",
   "metadata": {},
   "outputs": [],
   "source": [
    "person = {\n",
    "    \"name\":\"Mayur Kankal\",\n",
    "    \"post\":\"Student\",\n",
    "    \"age\":26,\n",
    "    \"email\":\"mayur@gmail.com\"\n",
    "}\n",
    "\n",
    "y = json.dumps(person)"
   ]
  },
  {
   "cell_type": "code",
   "execution_count": 12,
   "id": "a2008f3d",
   "metadata": {},
   "outputs": [
    {
     "name": "stdout",
     "output_type": "stream",
     "text": [
      "{\"name\": \"Mayur Kankal\", \"post\": \"Student\", \"age\": 26, \"email\": \"mayur@gmail.com\"}\n"
     ]
    }
   ],
   "source": [
    "print(y)"
   ]
  },
  {
   "cell_type": "markdown",
   "id": "fde698fc",
   "metadata": {},
   "source": [
    "1. dict\n",
    "2. list\n",
    "3. tuple\n",
    "4. string\n",
    "5. integer\n",
    "6. float\n",
    "7. True\n",
    "8. False\n",
    "9. None"
   ]
  },
  {
   "cell_type": "code",
   "execution_count": 13,
   "id": "3257d4f6",
   "metadata": {},
   "outputs": [
    {
     "name": "stdout",
     "output_type": "stream",
     "text": [
      "{\"name\": \"Rahul\", \"post\": \"Data Scientist\", \"salary\": 60000}\n",
      "[\"apple\", \"mango\"]\n",
      "[\"apple\", \"mango\"]\n"
     ]
    }
   ],
   "source": [
    "import json\n",
    "\n",
    "print(json.dumps({\"name\":\"Rahul\",'post':\"Data Scientist\",'salary':60000}))\n",
    "print(json.dumps([\"apple\",\"mango\"]))\n",
    "print(json.dumps((\"apple\",\"mango\")))"
   ]
  },
  {
   "cell_type": "code",
   "execution_count": 15,
   "id": "bf77e512",
   "metadata": {},
   "outputs": [],
   "source": [
    "import json\n",
    "\n",
    "x = {\n",
    "    \"name\":\"Mayur Kankal\",\n",
    "    \"post\":\"Student\",\n",
    "    \"age\":26,\n",
    "    \"email\":\"mayur@gmail.com\",\n",
    "    \"car\":[\n",
    "        {\"model\":\"BMW\",\"year\":2021},\n",
    "        {\"model\":\"TATA\",\"year\":2021}\n",
    "    ]\n",
    "}\n",
    "\n",
    "y = json.dumps(x)"
   ]
  },
  {
   "cell_type": "code",
   "execution_count": 16,
   "id": "7ae0445b",
   "metadata": {},
   "outputs": [
    {
     "name": "stdout",
     "output_type": "stream",
     "text": [
      "{\"name\": \"Mayur Kankal\", \"post\": \"Student\", \"age\": 26, \"email\": \"mayur@gmail.com\", \"car\": [{\"model\": \"BMW\", \"year\": 2021}, {\"model\": \"TATA\", \"year\": 2021}]}\n"
     ]
    }
   ],
   "source": [
    "print(y)"
   ]
  },
  {
   "cell_type": "code",
   "execution_count": null,
   "id": "a4595212",
   "metadata": {},
   "outputs": [],
   "source": []
  }
 ],
 "metadata": {
  "kernelspec": {
   "display_name": "Python 3",
   "language": "python",
   "name": "python3"
  },
  "language_info": {
   "codemirror_mode": {
    "name": "ipython",
    "version": 3
   },
   "file_extension": ".py",
   "mimetype": "text/x-python",
   "name": "python",
   "nbconvert_exporter": "python",
   "pygments_lexer": "ipython3",
   "version": "3.8.8"
  }
 },
 "nbformat": 4,
 "nbformat_minor": 5
}
