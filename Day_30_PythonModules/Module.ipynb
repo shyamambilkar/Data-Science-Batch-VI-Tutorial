{
 "cells": [
  {
   "cell_type": "markdown",
   "id": "f3e1471d",
   "metadata": {},
   "source": [
    "# Module"
   ]
  },
  {
   "cell_type": "markdown",
   "id": "73b4a882",
   "metadata": {},
   "source": [
    "1. Modules to be the same as a code Library\n",
    "2. A File containing set of functions you want to add in your application"
   ]
  },
  {
   "cell_type": "code",
   "execution_count": 1,
   "id": "52330024",
   "metadata": {},
   "outputs": [],
   "source": [
    "def my_function(fname, lname):\n",
    "    print(\"Welcome \",fname,lname,\"to Data Science class in Python Module\")\n",
    "    print(\"Awesome Python Module are Fantastic...!\")"
   ]
  },
  {
   "cell_type": "code",
   "execution_count": null,
   "id": "d8565265",
   "metadata": {},
   "outputs": [],
   "source": []
  }
 ],
 "metadata": {
  "kernelspec": {
   "display_name": "Python 3",
   "language": "python",
   "name": "python3"
  },
  "language_info": {
   "codemirror_mode": {
    "name": "ipython",
    "version": 3
   },
   "file_extension": ".py",
   "mimetype": "text/x-python",
   "name": "python",
   "nbconvert_exporter": "python",
   "pygments_lexer": "ipython3",
   "version": "3.8.8"
  }
 },
 "nbformat": 4,
 "nbformat_minor": 5
}
