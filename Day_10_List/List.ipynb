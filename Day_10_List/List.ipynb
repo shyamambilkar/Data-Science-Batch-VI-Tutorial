{
 "cells": [
  {
   "cell_type": "markdown",
   "id": "7c025e4f",
   "metadata": {},
   "source": [
    "# Python List"
   ]
  },
  {
   "cell_type": "code",
   "execution_count": 1,
   "id": "e71ca711",
   "metadata": {},
   "outputs": [],
   "source": [
    "my_list = []"
   ]
  },
  {
   "cell_type": "code",
   "execution_count": 2,
   "id": "5cadf700",
   "metadata": {},
   "outputs": [
    {
     "name": "stdout",
     "output_type": "stream",
     "text": [
      "[]\n"
     ]
    }
   ],
   "source": [
    "print(my_list)"
   ]
  },
  {
   "cell_type": "code",
   "execution_count": 3,
   "id": "d050dd22",
   "metadata": {},
   "outputs": [
    {
     "name": "stdout",
     "output_type": "stream",
     "text": [
      "<class 'list'>\n"
     ]
    }
   ],
   "source": [
    "print(type(my_list))"
   ]
  },
  {
   "cell_type": "code",
   "execution_count": 4,
   "id": "52ace37d",
   "metadata": {},
   "outputs": [],
   "source": [
    "my_list = [10,'python',\"DataScience\",12.12,True,4j]"
   ]
  },
  {
   "cell_type": "code",
   "execution_count": 5,
   "id": "57f6a7e4",
   "metadata": {},
   "outputs": [
    {
     "data": {
      "text/plain": [
       "[10, 'python', 'DataScience', 12.12, True, 4j]"
      ]
     },
     "execution_count": 5,
     "metadata": {},
     "output_type": "execute_result"
    }
   ],
   "source": [
    "my_list"
   ]
  },
  {
   "cell_type": "code",
   "execution_count": 6,
   "id": "aa4da661",
   "metadata": {},
   "outputs": [],
   "source": [
    "my_list1 = [10,20,30,40,50]\n",
    "my_list2 = ['apple','mango','watermelon','cherry','papaya']\n",
    "my_list3 = [True, False, True, True]"
   ]
  },
  {
   "cell_type": "code",
   "execution_count": 7,
   "id": "a252aa71",
   "metadata": {},
   "outputs": [
    {
     "data": {
      "text/plain": [
       "[True, False, True, True]"
      ]
     },
     "execution_count": 7,
     "metadata": {},
     "output_type": "execute_result"
    }
   ],
   "source": [
    "my_list1\n",
    "my_list2\n",
    "my_list3"
   ]
  },
  {
   "cell_type": "code",
   "execution_count": 8,
   "id": "69e8caf1",
   "metadata": {},
   "outputs": [
    {
     "name": "stdout",
     "output_type": "stream",
     "text": [
      "[10, 20, 30, 40, 50]\n",
      "['apple', 'mango', 'watermelon', 'cherry', 'papaya']\n",
      "[True, False, True, True]\n"
     ]
    }
   ],
   "source": [
    "print(my_list1)\n",
    "print(my_list2)\n",
    "print(my_list3)"
   ]
  },
  {
   "cell_type": "code",
   "execution_count": 9,
   "id": "bdc21d23",
   "metadata": {},
   "outputs": [
    {
     "name": "stdout",
     "output_type": "stream",
     "text": [
      "<class 'list'>\n",
      "<class 'list'>\n",
      "<class 'list'>\n"
     ]
    }
   ],
   "source": [
    "print(type(my_list1))\n",
    "print(type(my_list2))\n",
    "print(type(my_list3))"
   ]
  },
  {
   "cell_type": "code",
   "execution_count": 10,
   "id": "efb40933",
   "metadata": {},
   "outputs": [
    {
     "name": "stdout",
     "output_type": "stream",
     "text": [
      "10\n",
      "<class 'int'>\n"
     ]
    }
   ],
   "source": [
    "my_list = 10\n",
    "print(my_list)\n",
    "print(type(my_list))"
   ]
  },
  {
   "cell_type": "code",
   "execution_count": 11,
   "id": "296c96b5",
   "metadata": {},
   "outputs": [
    {
     "name": "stdout",
     "output_type": "stream",
     "text": [
      "['apple', 'mango', 'watermelon', 'cherry', 'papaya']\n",
      "<class 'type'>\n"
     ]
    }
   ],
   "source": [
    "my_list = ['apple', 'mango', 'watermelon', 'cherry', 'papaya']\n",
    "print(my_list)\n",
    "print(type(list))"
   ]
  },
  {
   "cell_type": "code",
   "execution_count": 12,
   "id": "2bccf905",
   "metadata": {},
   "outputs": [
    {
     "name": "stdout",
     "output_type": "stream",
     "text": [
      "apple\n",
      "<class 'str'>\n"
     ]
    }
   ],
   "source": [
    "my_list = 'apple'\n",
    "print(my_list)\n",
    "print(type(my_list))"
   ]
  },
  {
   "cell_type": "markdown",
   "id": "75327190",
   "metadata": {},
   "source": [
    "### Access List Item in Python:\n",
    "    1. Positive Indexing\n",
    "    2. Negative Indexing\n",
    "    3. Range of Indexing:\n",
    "        1. Positive \n",
    "        2. Negative"
   ]
  },
  {
   "cell_type": "code",
   "execution_count": 15,
   "id": "c50f2bda",
   "metadata": {},
   "outputs": [],
   "source": [
    " my_list = ['apple', 'mango', 'watermelon', 'cherry', 'papaya','banana','pineapple']"
   ]
  },
  {
   "cell_type": "code",
   "execution_count": 16,
   "id": "2c769c17",
   "metadata": {},
   "outputs": [
    {
     "name": "stdout",
     "output_type": "stream",
     "text": [
      "['apple', 'mango', 'watermelon', 'cherry', 'papaya', 'banana', 'pineapple']\n"
     ]
    }
   ],
   "source": [
    "print(my_list)"
   ]
  },
  {
   "cell_type": "markdown",
   "id": "ff9b3f31",
   "metadata": {},
   "source": [
    "### 1. Positive Indexing:\n",
    "    1. Positive indexing start with [0] is being first elements"
   ]
  },
  {
   "cell_type": "code",
   "execution_count": 22,
   "id": "fea451d2",
   "metadata": {},
   "outputs": [],
   "source": [
    " my_list = ['apple', 'mango', 'watermelon', 'cherry', 'papaya','banana','pineapple','Apple']"
   ]
  },
  {
   "cell_type": "code",
   "execution_count": 18,
   "id": "ddec2171",
   "metadata": {},
   "outputs": [
    {
     "data": {
      "text/plain": [
       "'watermelon'"
      ]
     },
     "execution_count": 18,
     "metadata": {},
     "output_type": "execute_result"
    }
   ],
   "source": [
    "my_list[2]"
   ]
  },
  {
   "cell_type": "code",
   "execution_count": 19,
   "id": "51480ae4",
   "metadata": {},
   "outputs": [
    {
     "data": {
      "text/plain": [
       "'pineapple'"
      ]
     },
     "execution_count": 19,
     "metadata": {},
     "output_type": "execute_result"
    }
   ],
   "source": [
    "my_list[6]"
   ]
  },
  {
   "cell_type": "code",
   "execution_count": 20,
   "id": "e435db9c",
   "metadata": {},
   "outputs": [
    {
     "data": {
      "text/plain": [
       "'apple'"
      ]
     },
     "execution_count": 20,
     "metadata": {},
     "output_type": "execute_result"
    }
   ],
   "source": [
    "my_list[0]"
   ]
  },
  {
   "cell_type": "code",
   "execution_count": 21,
   "id": "fd3a611a",
   "metadata": {},
   "outputs": [
    {
     "ename": "IndexError",
     "evalue": "list index out of range",
     "output_type": "error",
     "traceback": [
      "\u001b[1;31m---------------------------------------------------------------------------\u001b[0m",
      "\u001b[1;31mIndexError\u001b[0m                                Traceback (most recent call last)",
      "\u001b[1;32m<ipython-input-21-352a83797fff>\u001b[0m in \u001b[0;36m<module>\u001b[1;34m\u001b[0m\n\u001b[1;32m----> 1\u001b[1;33m \u001b[0mmy_list\u001b[0m\u001b[1;33m[\u001b[0m\u001b[1;36m7\u001b[0m\u001b[1;33m]\u001b[0m\u001b[1;33m\u001b[0m\u001b[1;33m\u001b[0m\u001b[0m\n\u001b[0m",
      "\u001b[1;31mIndexError\u001b[0m: list index out of range"
     ]
    }
   ],
   "source": [
    "my_list[7]"
   ]
  },
  {
   "cell_type": "code",
   "execution_count": 23,
   "id": "6ef20b97",
   "metadata": {},
   "outputs": [
    {
     "data": {
      "text/plain": [
       "'Apple'"
      ]
     },
     "execution_count": 23,
     "metadata": {},
     "output_type": "execute_result"
    }
   ],
   "source": [
    "my_list[7]"
   ]
  },
  {
   "cell_type": "markdown",
   "id": "4b0f00b7",
   "metadata": {},
   "source": [
    "### 2. Negative Indexing:\n",
    "    1. Negative indexing starts from the End\n",
    "    2. Negative indexing start with -1"
   ]
  },
  {
   "cell_type": "code",
   "execution_count": 24,
   "id": "74b21458",
   "metadata": {},
   "outputs": [],
   "source": [
    " my_list = ['apple', 'mango', 'watermelon', 'cherry', 'papaya','banana','pineapple']"
   ]
  },
  {
   "cell_type": "code",
   "execution_count": 25,
   "id": "5d81ef46",
   "metadata": {},
   "outputs": [
    {
     "data": {
      "text/plain": [
       "['apple', 'mango', 'watermelon', 'cherry', 'papaya', 'banana', 'pineapple']"
      ]
     },
     "execution_count": 25,
     "metadata": {},
     "output_type": "execute_result"
    }
   ],
   "source": [
    "my_list"
   ]
  },
  {
   "cell_type": "code",
   "execution_count": 26,
   "id": "8b81aec3",
   "metadata": {},
   "outputs": [
    {
     "data": {
      "text/plain": [
       "'pineapple'"
      ]
     },
     "execution_count": 26,
     "metadata": {},
     "output_type": "execute_result"
    }
   ],
   "source": [
    "my_list[-1]"
   ]
  },
  {
   "cell_type": "code",
   "execution_count": 27,
   "id": "9354ea0d",
   "metadata": {},
   "outputs": [
    {
     "data": {
      "text/plain": [
       "'apple'"
      ]
     },
     "execution_count": 27,
     "metadata": {},
     "output_type": "execute_result"
    }
   ],
   "source": [
    "my_list[-7]"
   ]
  },
  {
   "cell_type": "code",
   "execution_count": 28,
   "id": "dc62c31b",
   "metadata": {},
   "outputs": [
    {
     "data": {
      "text/plain": [
       "'cherry'"
      ]
     },
     "execution_count": 28,
     "metadata": {},
     "output_type": "execute_result"
    }
   ],
   "source": [
    "my_list[-4]"
   ]
  },
  {
   "cell_type": "markdown",
   "id": "fcaeddac",
   "metadata": {},
   "source": [
    "### 3. Range of Indexing:\n",
    "    1. Positive indexing\n",
    "    2. Negative indexing"
   ]
  },
  {
   "cell_type": "markdown",
   "id": "ca08fcad",
   "metadata": {},
   "source": [
    "#### 1. Positive Indexing:\n",
    "    1. variablename[start indexing : End indexing]"
   ]
  },
  {
   "cell_type": "code",
   "execution_count": 29,
   "id": "b21ef865",
   "metadata": {},
   "outputs": [],
   "source": [
    " my_list = ['apple', 'mango', 'watermelon', 'cherry', 'papaya','banana','pineapple']"
   ]
  },
  {
   "cell_type": "code",
   "execution_count": 30,
   "id": "bd5249b8",
   "metadata": {},
   "outputs": [
    {
     "data": {
      "text/plain": [
       "['apple', 'mango', 'watermelon']"
      ]
     },
     "execution_count": 30,
     "metadata": {},
     "output_type": "execute_result"
    }
   ],
   "source": [
    "my_list[0:3]"
   ]
  },
  {
   "cell_type": "code",
   "execution_count": 31,
   "id": "929cb0af",
   "metadata": {},
   "outputs": [
    {
     "data": {
      "text/plain": [
       "['apple', 'mango']"
      ]
     },
     "execution_count": 31,
     "metadata": {},
     "output_type": "execute_result"
    }
   ],
   "source": [
    "my_list[0:2]"
   ]
  },
  {
   "cell_type": "code",
   "execution_count": 32,
   "id": "5bcb92ff",
   "metadata": {},
   "outputs": [
    {
     "data": {
      "text/plain": [
       "['watermelon', 'cherry', 'papaya', 'banana', 'pineapple']"
      ]
     },
     "execution_count": 32,
     "metadata": {},
     "output_type": "execute_result"
    }
   ],
   "source": [
    "my_list[2:]"
   ]
  },
  {
   "cell_type": "code",
   "execution_count": 33,
   "id": "b88ae713",
   "metadata": {},
   "outputs": [
    {
     "data": {
      "text/plain": [
       "['watermelon', 'cherry', 'papaya']"
      ]
     },
     "execution_count": 33,
     "metadata": {},
     "output_type": "execute_result"
    }
   ],
   "source": [
    "my_list[2:5]"
   ]
  },
  {
   "cell_type": "code",
   "execution_count": 34,
   "id": "b31788a3",
   "metadata": {},
   "outputs": [
    {
     "data": {
      "text/plain": [
       "['apple', 'mango', 'watermelon', 'cherry', 'papaya']"
      ]
     },
     "execution_count": 34,
     "metadata": {},
     "output_type": "execute_result"
    }
   ],
   "source": [
    "my_list[:5]"
   ]
  },
  {
   "cell_type": "code",
   "execution_count": 35,
   "id": "2c341566",
   "metadata": {},
   "outputs": [
    {
     "data": {
      "text/plain": [
       "['apple', 'mango', 'watermelon', 'cherry', 'papaya', 'banana', 'pineapple']"
      ]
     },
     "execution_count": 35,
     "metadata": {},
     "output_type": "execute_result"
    }
   ],
   "source": [
    "my_list"
   ]
  },
  {
   "cell_type": "code",
   "execution_count": 36,
   "id": "0832eb50",
   "metadata": {},
   "outputs": [
    {
     "data": {
      "text/plain": [
       "['apple', 'mango', 'watermelon', 'cherry', 'papaya', 'banana', 'pineapple']"
      ]
     },
     "execution_count": 36,
     "metadata": {},
     "output_type": "execute_result"
    }
   ],
   "source": [
    "my_list[:]"
   ]
  },
  {
   "cell_type": "code",
   "execution_count": 37,
   "id": "6dbc9fbd",
   "metadata": {},
   "outputs": [
    {
     "data": {
      "text/plain": [
       "['watermelon', 'cherry', 'papaya']"
      ]
     },
     "execution_count": 37,
     "metadata": {},
     "output_type": "execute_result"
    }
   ],
   "source": [
    "my_list[2:5]"
   ]
  },
  {
   "cell_type": "code",
   "execution_count": null,
   "id": "b90cfaa6",
   "metadata": {},
   "outputs": [],
   "source": [
    "(n-1) = 10 - 1 = 3 2,3,4"
   ]
  },
  {
   "cell_type": "code",
   "execution_count": 38,
   "id": "f8643996",
   "metadata": {},
   "outputs": [
    {
     "data": {
      "text/plain": [
       "['apple', 'mango', 'watermelon', 'cherry', 'papaya', 'banana', 'pineapple']"
      ]
     },
     "execution_count": 38,
     "metadata": {},
     "output_type": "execute_result"
    }
   ],
   "source": [
    "my_list[0:7]"
   ]
  },
  {
   "cell_type": "code",
   "execution_count": 39,
   "id": "c3963437",
   "metadata": {},
   "outputs": [
    {
     "data": {
      "text/plain": [
       "['apple', 'mango', 'watermelon', 'cherry', 'papaya', 'banana', 'pineapple']"
      ]
     },
     "execution_count": 39,
     "metadata": {},
     "output_type": "execute_result"
    }
   ],
   "source": [
    "my_list[0:]"
   ]
  },
  {
   "cell_type": "markdown",
   "id": "a776c171",
   "metadata": {},
   "source": [
    "#### 2. Negative Indexing"
   ]
  },
  {
   "cell_type": "code",
   "execution_count": 40,
   "id": "0da463af",
   "metadata": {},
   "outputs": [],
   "source": [
    " my_list = ['apple', 'mango', 'watermelon', 'cherry', 'papaya','banana','pineapple']"
   ]
  },
  {
   "cell_type": "code",
   "execution_count": 41,
   "id": "65562f74",
   "metadata": {},
   "outputs": [
    {
     "data": {
      "text/plain": [
       "['cherry', 'papaya', 'banana']"
      ]
     },
     "execution_count": 41,
     "metadata": {},
     "output_type": "execute_result"
    }
   ],
   "source": [
    "my_list[-4:-1]"
   ]
  },
  {
   "cell_type": "code",
   "execution_count": 42,
   "id": "71832607",
   "metadata": {},
   "outputs": [
    {
     "data": {
      "text/plain": [
       "['cherry', 'papaya', 'banana']"
      ]
     },
     "execution_count": 42,
     "metadata": {},
     "output_type": "execute_result"
    }
   ],
   "source": [
    "my_list[-4:-1]"
   ]
  },
  {
   "cell_type": "code",
   "execution_count": 45,
   "id": "2b45e3aa",
   "metadata": {},
   "outputs": [
    {
     "data": {
      "text/plain": [
       "['watermelon', 'cherry', 'papaya', 'banana']"
      ]
     },
     "execution_count": 45,
     "metadata": {},
     "output_type": "execute_result"
    }
   ],
   "source": [
    "my_list[-5:-1]"
   ]
  },
  {
   "cell_type": "code",
   "execution_count": 46,
   "id": "96d9b9c3",
   "metadata": {},
   "outputs": [
    {
     "data": {
      "text/plain": [
       "['apple', 'mango', 'watermelon', 'cherry', 'papaya', 'banana']"
      ]
     },
     "execution_count": 46,
     "metadata": {},
     "output_type": "execute_result"
    }
   ],
   "source": [
    "my_list[:-1]"
   ]
  },
  {
   "cell_type": "code",
   "execution_count": 47,
   "id": "998b175d",
   "metadata": {},
   "outputs": [
    {
     "data": {
      "text/plain": [
       "['watermelon', 'cherry', 'papaya', 'banana', 'pineapple']"
      ]
     },
     "execution_count": 47,
     "metadata": {},
     "output_type": "execute_result"
    }
   ],
   "source": [
    "my_list[-5:]"
   ]
  },
  {
   "cell_type": "code",
   "execution_count": 48,
   "id": "88527a20",
   "metadata": {},
   "outputs": [
    {
     "data": {
      "text/plain": [
       "['apple', 'mango', 'watermelon', 'cherry', 'papaya', 'banana', 'pineapple']"
      ]
     },
     "execution_count": 48,
     "metadata": {},
     "output_type": "execute_result"
    }
   ],
   "source": [
    "my_list"
   ]
  },
  {
   "cell_type": "code",
   "execution_count": 49,
   "id": "18c16bfb",
   "metadata": {},
   "outputs": [
    {
     "data": {
      "text/plain": [
       "['apple', 'mango', 'watermelon', 'cherry', 'papaya', 'banana', 'pineapple']"
      ]
     },
     "execution_count": 49,
     "metadata": {},
     "output_type": "execute_result"
    }
   ],
   "source": [
    "my_list[:]"
   ]
  },
  {
   "cell_type": "code",
   "execution_count": 50,
   "id": "1f853f30",
   "metadata": {},
   "outputs": [
    {
     "data": {
      "text/plain": [
       "'banana'"
      ]
     },
     "execution_count": 50,
     "metadata": {},
     "output_type": "execute_result"
    }
   ],
   "source": [
    "my_list[-2]"
   ]
  },
  {
   "cell_type": "code",
   "execution_count": 51,
   "id": "72ec4abc",
   "metadata": {},
   "outputs": [
    {
     "data": {
      "text/plain": [
       "'pineapple'"
      ]
     },
     "execution_count": 51,
     "metadata": {},
     "output_type": "execute_result"
    }
   ],
   "source": [
    "my_list[-1]"
   ]
  },
  {
   "cell_type": "code",
   "execution_count": 52,
   "id": "2e9ed9f6",
   "metadata": {},
   "outputs": [
    {
     "data": {
      "text/plain": [
       "['apple', 'mango', 'watermelon', 'cherry', 'papaya', 'banana', 'pineapple']"
      ]
     },
     "execution_count": 52,
     "metadata": {},
     "output_type": "execute_result"
    }
   ],
   "source": [
    "my_list[:]"
   ]
  },
  {
   "cell_type": "code",
   "execution_count": 53,
   "id": "dd307102",
   "metadata": {},
   "outputs": [
    {
     "data": {
      "text/plain": [
       "['apple', 'mango', 'watermelon', 'cherry', 'papaya', 'banana', 'pineapple']"
      ]
     },
     "execution_count": 53,
     "metadata": {},
     "output_type": "execute_result"
    }
   ],
   "source": [
    "my_list"
   ]
  },
  {
   "cell_type": "code",
   "execution_count": 54,
   "id": "18e92bc2",
   "metadata": {},
   "outputs": [
    {
     "data": {
      "text/plain": [
       "['apple', 'mango', 'watermelon', 'cherry', 'papaya', 'banana']"
      ]
     },
     "execution_count": 54,
     "metadata": {},
     "output_type": "execute_result"
    }
   ],
   "source": [
    "my_list[:-1]"
   ]
  },
  {
   "cell_type": "code",
   "execution_count": 55,
   "id": "373fee2f",
   "metadata": {},
   "outputs": [],
   "source": [
    " my_list = ['apple', 'mango', 'watermelon', 'cherry', 'papaya','banana','pineapple']"
   ]
  },
  {
   "cell_type": "code",
   "execution_count": 57,
   "id": "a7ee880a",
   "metadata": {},
   "outputs": [
    {
     "data": {
      "text/plain": [
       "['apple', 'mango', 'watermelon', 'cherry']"
      ]
     },
     "execution_count": 57,
     "metadata": {},
     "output_type": "execute_result"
    }
   ],
   "source": [
    "my_list[0:4]"
   ]
  },
  {
   "cell_type": "markdown",
   "id": "04080047",
   "metadata": {},
   "source": [
    "## Change List (Item) Value"
   ]
  },
  {
   "cell_type": "code",
   "execution_count": 58,
   "id": "2f4335b6",
   "metadata": {},
   "outputs": [],
   "source": [
    " my_list = ['apple', 'mango', 'watermelon', 'cherry']"
   ]
  },
  {
   "cell_type": "code",
   "execution_count": 59,
   "id": "39e76bd9",
   "metadata": {},
   "outputs": [
    {
     "data": {
      "text/plain": [
       "['apple', 'mango', 'watermelon', 'cherry']"
      ]
     },
     "execution_count": 59,
     "metadata": {},
     "output_type": "execute_result"
    }
   ],
   "source": [
    "my_list"
   ]
  },
  {
   "cell_type": "code",
   "execution_count": 60,
   "id": "647f0c7c",
   "metadata": {},
   "outputs": [],
   "source": [
    "my_list[1] = 'papaya'"
   ]
  },
  {
   "cell_type": "code",
   "execution_count": 61,
   "id": "b8cac300",
   "metadata": {},
   "outputs": [
    {
     "data": {
      "text/plain": [
       "['apple', 'papaya', 'watermelon', 'cherry']"
      ]
     },
     "execution_count": 61,
     "metadata": {},
     "output_type": "execute_result"
    }
   ],
   "source": [
    "my_list"
   ]
  },
  {
   "cell_type": "code",
   "execution_count": 62,
   "id": "e9d053fe",
   "metadata": {},
   "outputs": [],
   "source": [
    " my_list = ['apple', 'mango', 'watermelon', 'cherry', 'papaya','banana','pineapple']"
   ]
  },
  {
   "cell_type": "code",
   "execution_count": 63,
   "id": "f4ddc6e8",
   "metadata": {},
   "outputs": [],
   "source": [
    "my_list[1:3] = ['kiwi','papaya']"
   ]
  },
  {
   "cell_type": "code",
   "execution_count": 64,
   "id": "d868221d",
   "metadata": {},
   "outputs": [
    {
     "data": {
      "text/plain": [
       "['apple', 'kiwi', 'papaya', 'cherry', 'papaya', 'banana', 'pineapple']"
      ]
     },
     "execution_count": 64,
     "metadata": {},
     "output_type": "execute_result"
    }
   ],
   "source": [
    "my_list"
   ]
  },
  {
   "cell_type": "code",
   "execution_count": 71,
   "id": "89704a17",
   "metadata": {},
   "outputs": [],
   "source": [
    "my_list[1:4] = ['kiwi','kiwi']"
   ]
  },
  {
   "cell_type": "code",
   "execution_count": 72,
   "id": "44cb565b",
   "metadata": {},
   "outputs": [
    {
     "data": {
      "text/plain": [
       "['apple', 'kiwi', 'kiwi']"
      ]
     },
     "execution_count": 72,
     "metadata": {},
     "output_type": "execute_result"
    }
   ],
   "source": [
    "my_list"
   ]
  },
  {
   "cell_type": "markdown",
   "id": "14705ea2",
   "metadata": {},
   "source": [
    "### Insert Elements in List"
   ]
  },
  {
   "cell_type": "markdown",
   "id": "6f46114f",
   "metadata": {},
   "source": [
    "#### 1. insert method:\n",
    "    1. To add element in specific location in the list"
   ]
  },
  {
   "cell_type": "code",
   "execution_count": 73,
   "id": "2b7d4bcc",
   "metadata": {},
   "outputs": [],
   "source": [
    "my_list = ['apple', 'kiwi', 'papaya', 'cherry', 'papaya', 'banana', 'pineapple']"
   ]
  },
  {
   "cell_type": "code",
   "execution_count": 74,
   "id": "0a63b2b4",
   "metadata": {},
   "outputs": [
    {
     "data": {
      "text/plain": [
       "['apple', 'mango', 'kiwi', 'papaya', 'cherry', 'papaya', 'banana', 'pineapple']"
      ]
     },
     "execution_count": 74,
     "metadata": {},
     "output_type": "execute_result"
    }
   ],
   "source": [
    "my_list.insert(1,\"mango\")\n",
    "my_list"
   ]
  },
  {
   "cell_type": "code",
   "execution_count": 75,
   "id": "8fa29768",
   "metadata": {},
   "outputs": [
    {
     "data": {
      "text/plain": [
       "'kiwi'"
      ]
     },
     "execution_count": 75,
     "metadata": {},
     "output_type": "execute_result"
    }
   ],
   "source": [
    "my_list[2]"
   ]
  },
  {
   "cell_type": "markdown",
   "id": "b4529b5b",
   "metadata": {},
   "source": [
    "#### 2. append method:\n",
    "    1. To add item at the end of the list "
   ]
  },
  {
   "cell_type": "code",
   "execution_count": 80,
   "id": "0837035d",
   "metadata": {},
   "outputs": [],
   "source": [
    "my_list = ['apple', 'kiwi', 'papaya', 'cherry', 'papaya', 'banana', 'pineapple']"
   ]
  },
  {
   "cell_type": "code",
   "execution_count": 81,
   "id": "747fce08",
   "metadata": {},
   "outputs": [
    {
     "data": {
      "text/plain": [
       "['apple', 'kiwi', 'papaya', 'cherry', 'papaya', 'banana', 'pineapple']"
      ]
     },
     "execution_count": 81,
     "metadata": {},
     "output_type": "execute_result"
    }
   ],
   "source": [
    "my_list"
   ]
  },
  {
   "cell_type": "code",
   "execution_count": 82,
   "id": "8d1b4b4c",
   "metadata": {},
   "outputs": [],
   "source": [
    "my_list.append('mango')"
   ]
  },
  {
   "cell_type": "code",
   "execution_count": 83,
   "id": "1776762f",
   "metadata": {},
   "outputs": [
    {
     "data": {
      "text/plain": [
       "['apple', 'kiwi', 'papaya', 'cherry', 'papaya', 'banana', 'pineapple', 'mango']"
      ]
     },
     "execution_count": 83,
     "metadata": {},
     "output_type": "execute_result"
    }
   ],
   "source": [
    "my_list"
   ]
  },
  {
   "cell_type": "markdown",
   "id": "4522b302",
   "metadata": {},
   "source": [
    "#### 3. Extend Method"
   ]
  },
  {
   "cell_type": "code",
   "execution_count": 84,
   "id": "b53db87e",
   "metadata": {},
   "outputs": [],
   "source": [
    "my_list1 = ['apple', 'kiwi', 'papaya', 'cherry']\n",
    "my_list2 = ['papaya', 'banana', 'pineapple']"
   ]
  },
  {
   "cell_type": "code",
   "execution_count": 85,
   "id": "42cae565",
   "metadata": {},
   "outputs": [
    {
     "name": "stdout",
     "output_type": "stream",
     "text": [
      "['apple', 'kiwi', 'papaya', 'cherry']\n",
      "['papaya', 'banana', 'pineapple']\n"
     ]
    }
   ],
   "source": [
    "print(my_list1)\n",
    "print(my_list2)"
   ]
  },
  {
   "cell_type": "code",
   "execution_count": 86,
   "id": "412771e8",
   "metadata": {},
   "outputs": [
    {
     "name": "stdout",
     "output_type": "stream",
     "text": [
      "None\n"
     ]
    }
   ],
   "source": [
    "new_list = my_list1.extend(my_list2)\n",
    "print(new_list)"
   ]
  },
  {
   "cell_type": "code",
   "execution_count": 87,
   "id": "e027b1bd",
   "metadata": {},
   "outputs": [
    {
     "name": "stdout",
     "output_type": "stream",
     "text": [
      "['apple', 'kiwi', 'papaya', 'cherry', 'papaya', 'banana', 'pineapple', 'papaya', 'banana', 'pineapple']\n"
     ]
    }
   ],
   "source": [
    "my_list1.extend(my_list2)\n",
    "print(my_list1)"
   ]
  },
  {
   "cell_type": "code",
   "execution_count": 91,
   "id": "1d46b3aa",
   "metadata": {},
   "outputs": [],
   "source": [
    "my_list1 = ['apple', 'kiwi', 'papaya', 'cherry']\n",
    "my_list2 = ['papaya', 'banana', 'pineapple']"
   ]
  },
  {
   "cell_type": "code",
   "execution_count": 92,
   "id": "452d8983",
   "metadata": {},
   "outputs": [
    {
     "name": "stdout",
     "output_type": "stream",
     "text": [
      "['apple', 'kiwi', 'papaya', 'cherry', 'papaya', 'banana', 'pineapple']\n"
     ]
    }
   ],
   "source": [
    "my_list1.extend(my_list2)\n",
    "print(my_list1)"
   ]
  },
  {
   "cell_type": "code",
   "execution_count": 93,
   "id": "854282f7",
   "metadata": {},
   "outputs": [],
   "source": [
    "my_list1 = ['apple', 'kiwi', 'papaya', 'cherry']\n",
    "my_list2 = ['papaya', 'banana', 'pineapple']"
   ]
  },
  {
   "cell_type": "code",
   "execution_count": 94,
   "id": "e0a608c8",
   "metadata": {},
   "outputs": [
    {
     "name": "stdout",
     "output_type": "stream",
     "text": [
      "['papaya', 'banana', 'pineapple', 'apple', 'kiwi', 'papaya', 'cherry']\n"
     ]
    }
   ],
   "source": [
    "my_list2.extend(my_list1)\n",
    "print(my_list2)"
   ]
  },
  {
   "cell_type": "code",
   "execution_count": 95,
   "id": "3882d406",
   "metadata": {},
   "outputs": [
    {
     "data": {
      "text/plain": [
       "['apple', 'kiwi', 'papaya', 'cherry']"
      ]
     },
     "execution_count": 95,
     "metadata": {},
     "output_type": "execute_result"
    }
   ],
   "source": [
    "my_list1"
   ]
  },
  {
   "cell_type": "code",
   "execution_count": null,
   "id": "624b6a0b",
   "metadata": {},
   "outputs": [],
   "source": []
  }
 ],
 "metadata": {
  "kernelspec": {
   "display_name": "Python 3",
   "language": "python",
   "name": "python3"
  },
  "language_info": {
   "codemirror_mode": {
    "name": "ipython",
    "version": 3
   },
   "file_extension": ".py",
   "mimetype": "text/x-python",
   "name": "python",
   "nbconvert_exporter": "python",
   "pygments_lexer": "ipython3",
   "version": "3.8.8"
  }
 },
 "nbformat": 4,
 "nbformat_minor": 5
}
