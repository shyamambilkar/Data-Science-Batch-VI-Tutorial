{
 "cells": [
  {
   "cell_type": "code",
   "execution_count": 1,
   "id": "f15619b6",
   "metadata": {},
   "outputs": [],
   "source": [
    "import pandas as pd\n",
    "import numpy as np\n",
    "import matplotlib.pyplot as plt\n",
    "import seaborn as sns"
   ]
  },
  {
   "cell_type": "markdown",
   "id": "bbde8ac2",
   "metadata": {},
   "source": [
    "# Adjusent R Squared"
   ]
  },
  {
   "cell_type": "markdown",
   "id": "e90193a9",
   "metadata": {},
   "source": [
    "1. Adjusted R-Squared takes into account the number of independent variable used for predicting the target variable\n",
    "2. so, determine whether adding new variable to the model actually increase the model fit"
   ]
  },
  {
   "cell_type": "markdown",
   "id": "a8bc0de1",
   "metadata": {},
   "source": [
    "![](https://miro.medium.com/max/1024/1*kW2xSxbIb7laGRoEcgx8vg.jpeg)"
   ]
  },
  {
   "cell_type": "markdown",
   "id": "abd7d74d",
   "metadata": {},
   "source": [
    "where,\n",
    "1. N - Number of data point in our dataset\n",
    "2. K or P - Number of Independent Variable\n",
    "3. R2 - Sample R squared"
   ]
  },
  {
   "cell_type": "code",
   "execution_count": 4,
   "id": "def173b7",
   "metadata": {},
   "outputs": [
    {
     "data": {
      "text/plain": [
       "-5.56"
      ]
     },
     "execution_count": 4,
     "metadata": {},
     "output_type": "execute_result"
    }
   ],
   "source": [
    "1 - (1 -0.3) * (5-1) / 5-5-1"
   ]
  },
  {
   "cell_type": "code",
   "execution_count": 5,
   "id": "86c23832",
   "metadata": {},
   "outputs": [
    {
     "data": {
      "text/plain": [
       "2.8"
      ]
     },
     "execution_count": 5,
     "metadata": {},
     "output_type": "execute_result"
    }
   ],
   "source": [
    "(0.7) * (4)"
   ]
  },
  {
   "cell_type": "code",
   "execution_count": 6,
   "id": "a2badc46",
   "metadata": {},
   "outputs": [
    {
     "data": {
      "text/plain": [
       "-1"
      ]
     },
     "execution_count": 6,
     "metadata": {},
     "output_type": "execute_result"
    }
   ],
   "source": [
    "5-5-1"
   ]
  },
  {
   "cell_type": "code",
   "execution_count": 7,
   "id": "b53fc8b0",
   "metadata": {},
   "outputs": [
    {
     "data": {
      "text/plain": [
       "3.8"
      ]
     },
     "execution_count": 7,
     "metadata": {},
     "output_type": "execute_result"
    }
   ],
   "source": [
    "1 - (2.8) / -1"
   ]
  },
  {
   "cell_type": "code",
   "execution_count": 8,
   "id": "31b884ea",
   "metadata": {},
   "outputs": [
    {
     "data": {
      "text/plain": [
       "-2.8"
      ]
     },
     "execution_count": 8,
     "metadata": {},
     "output_type": "execute_result"
    }
   ],
   "source": [
    "2.8 / -1"
   ]
  },
  {
   "cell_type": "code",
   "execution_count": 9,
   "id": "4bc0a407",
   "metadata": {},
   "outputs": [
    {
     "data": {
      "text/plain": [
       "3.8"
      ]
     },
     "execution_count": 9,
     "metadata": {},
     "output_type": "execute_result"
    }
   ],
   "source": [
    "1 - (-2.8)"
   ]
  },
  {
   "cell_type": "markdown",
   "id": "1f771474",
   "metadata": {},
   "source": [
    "1. Mean\n",
    "2. Imputation Technique:\n",
    "    1. Mean\n",
    "    2. Mode\n",
    "    3. Median\n",
    "3. Standard Deviation\n",
    "4. Vairiance\n",
    "5. Linear Line\n",
    "6. R Squared\n",
    "7. Adjusted R Squared\n",
    "8. "
   ]
  },
  {
   "cell_type": "markdown",
   "id": "92c70f0e",
   "metadata": {},
   "source": [
    "## Mean, Mode, and Median - Imputation Technique"
   ]
  },
  {
   "cell_type": "markdown",
   "id": "bc02a2a4",
   "metadata": {},
   "source": [
    "1. Mean - Average Value\n",
    "2. Median - Mid point value\n",
    "3. Mode - Most common value or frequent value"
   ]
  },
  {
   "cell_type": "markdown",
   "id": "6e911c97",
   "metadata": {},
   "source": [
    "## 1. Mean"
   ]
  },
  {
   "cell_type": "code",
   "execution_count": 13,
   "id": "fd1162b5",
   "metadata": {},
   "outputs": [
    {
     "data": {
      "text/plain": [
       "68.5"
      ]
     },
     "execution_count": 13,
     "metadata": {},
     "output_type": "execute_result"
    }
   ],
   "source": [
    "(99 + 86 + 87 + 111 + 86 + 12 + 13 + 20 + 75 + 77 + 62 + 94) / 12"
   ]
  },
  {
   "cell_type": "code",
   "execution_count": 16,
   "id": "80ab853e",
   "metadata": {},
   "outputs": [
    {
     "name": "stdout",
     "output_type": "stream",
     "text": [
      "68.5\n"
     ]
    }
   ],
   "source": [
    "import numpy as np\n",
    "my_list= [99, 86, 87, 111, 86, 12, 13, 20, 75, 77, 62, 94]\n",
    "result = np.mean(my_list)\n",
    "print(result)"
   ]
  },
  {
   "cell_type": "markdown",
   "id": "71a79fa6",
   "metadata": {},
   "source": [
    "### 2. Median"
   ]
  },
  {
   "cell_type": "code",
   "execution_count": 19,
   "id": "fa071664",
   "metadata": {},
   "outputs": [
    {
     "name": "stdout",
     "output_type": "stream",
     "text": [
      "[ 12  13  20  62  75  77  86  86  87  94  99 111]\n"
     ]
    }
   ],
   "source": [
    "\n",
    "my_list= [99, 86, 87, 111, 86, 12, 13, 20, 75, 77, 62, 94]\n",
    "x = np.sort(my_list)\n",
    "print(x)"
   ]
  },
  {
   "cell_type": "code",
   "execution_count": 20,
   "id": "ec1d2dd5",
   "metadata": {},
   "outputs": [
    {
     "data": {
      "text/plain": [
       "(12, 13, 20, 62, 75, 77, 86, 86, 87, 94, 99, 111)"
      ]
     },
     "execution_count": 20,
     "metadata": {},
     "output_type": "execute_result"
    }
   ],
   "source": [
    "(12, 13, 20, 62, 75, 77, 86, 86, 87, 94, 99, 111)"
   ]
  },
  {
   "cell_type": "code",
   "execution_count": 21,
   "id": "e32058ec",
   "metadata": {},
   "outputs": [
    {
     "data": {
      "text/plain": [
       "81.5"
      ]
     },
     "execution_count": 21,
     "metadata": {},
     "output_type": "execute_result"
    }
   ],
   "source": [
    "(77 + 86) / 2"
   ]
  },
  {
   "cell_type": "code",
   "execution_count": 22,
   "id": "5c2af8c0",
   "metadata": {},
   "outputs": [
    {
     "name": "stdout",
     "output_type": "stream",
     "text": [
      "81.5\n"
     ]
    }
   ],
   "source": [
    "import numpy as np\n",
    "my_list= [99, 86, 87, 111, 86, 12, 13, 20, 75, 77, 62, 94]\n",
    "\n",
    "x = np.median(my_list)\n",
    "print(x)"
   ]
  },
  {
   "cell_type": "markdown",
   "id": "db2891b4",
   "metadata": {},
   "source": [
    "## 3. Mode"
   ]
  },
  {
   "cell_type": "code",
   "execution_count": 23,
   "id": "2b5b2c2f",
   "metadata": {},
   "outputs": [],
   "source": [
    "my_list= [99, 86, 87, 111, 86, 12, 13, 20, 75, 77, 62, 94, 86, 79, 86]"
   ]
  },
  {
   "cell_type": "code",
   "execution_count": 24,
   "id": "89d7722f",
   "metadata": {},
   "outputs": [
    {
     "name": "stdout",
     "output_type": "stream",
     "text": [
      "ModeResult(mode=array([86]), count=array([4]))\n"
     ]
    }
   ],
   "source": [
    "from scipy import stats\n",
    "\n",
    "my_list =  [99, 86, 87, 111, 86, 12, 13, 20, 75, 77, 62, 94, 86, 79, 86]\n",
    "\n",
    "x = stats.mode(my_list)\n",
    "print(x)"
   ]
  },
  {
   "cell_type": "markdown",
   "id": "448d82bd",
   "metadata": {},
   "source": [
    "## Standard Deviation"
   ]
  },
  {
   "cell_type": "markdown",
   "id": "4576e772",
   "metadata": {},
   "source": [
    "![](https://www.gstatic.com/education/formulas2/397133473/en/population_standard_deviation.svg)"
   ]
  },
  {
   "cell_type": "markdown",
   "id": "70d337da",
   "metadata": {},
   "source": [
    "where,\n",
    "1. sigma\t=\tpopulation standard deviation\n",
    "2. N\t=\tthe size of the population\n",
    "3. x_i\t=\teach value from the population\n",
    "4. mu\t=\tthe population mean"
   ]
  },
  {
   "cell_type": "markdown",
   "id": "caf9d297",
   "metadata": {},
   "source": [
    "**Example - Suppose we have registered car of speed (7)**"
   ]
  },
  {
   "cell_type": "code",
   "execution_count": 25,
   "id": "7514f614",
   "metadata": {},
   "outputs": [],
   "source": [
    "speed = [86,87,86,88,85,86, 83]"
   ]
  },
  {
   "cell_type": "code",
   "execution_count": 26,
   "id": "5e648d13",
   "metadata": {},
   "outputs": [
    {
     "data": {
      "text/plain": [
       "85.85714285714286"
      ]
     },
     "execution_count": 26,
     "metadata": {},
     "output_type": "execute_result"
    }
   ],
   "source": [
    "(86 + 87 + 86 + 88 + 85 + 86 + 83) / 7"
   ]
  },
  {
   "cell_type": "markdown",
   "id": "4ac554f6",
   "metadata": {},
   "source": [
    "1. N = 7\n",
    "2. X_i = [86,87,86,88,85,86, 83]\n",
    "3. mu = 85.85"
   ]
  },
  {
   "cell_type": "code",
   "execution_count": 27,
   "id": "4593a729",
   "metadata": {},
   "outputs": [
    {
     "data": {
      "text/plain": [
       "0.022500000000001706"
      ]
     },
     "execution_count": 27,
     "metadata": {},
     "output_type": "execute_result"
    }
   ],
   "source": [
    "(86 - 85.85) ** 2"
   ]
  },
  {
   "cell_type": "code",
   "execution_count": 33,
   "id": "f1286441",
   "metadata": {},
   "outputs": [
    {
     "data": {
      "text/plain": [
       "8.122499999999967"
      ]
     },
     "execution_count": 33,
     "metadata": {},
     "output_type": "execute_result"
    }
   ],
   "source": [
    "(83 - 85.85) ** 2"
   ]
  },
  {
   "cell_type": "code",
   "execution_count": 34,
   "id": "11040269",
   "metadata": {},
   "outputs": [
    {
     "data": {
      "text/plain": [
       "14.8575"
      ]
     },
     "execution_count": 34,
     "metadata": {},
     "output_type": "execute_result"
    }
   ],
   "source": [
    "(0.022500000000001706 + 1.322500000000013 + 0.022500000000001706 + 4.6225000000000245 + 0.7224999999999904 + 0.022500000000001706 + 8.122499999999967)"
   ]
  },
  {
   "cell_type": "code",
   "execution_count": 35,
   "id": "b5d8f6c4",
   "metadata": {},
   "outputs": [
    {
     "data": {
      "text/plain": [
       "2.1225"
      ]
     },
     "execution_count": 35,
     "metadata": {},
     "output_type": "execute_result"
    }
   ],
   "source": [
    "14.8575 / 7"
   ]
  },
  {
   "cell_type": "code",
   "execution_count": 36,
   "id": "17c62dfc",
   "metadata": {},
   "outputs": [
    {
     "name": "stdout",
     "output_type": "stream",
     "text": [
      "1.4568627181693672\n"
     ]
    }
   ],
   "source": [
    "import numpy as np\n",
    "\n",
    "speed = [86,87,86,88,85,86, 83]\n",
    "\n",
    "x = np.std(speed)\n",
    "print(x)"
   ]
  },
  {
   "cell_type": "code",
   "execution_count": null,
   "id": "a9556e08",
   "metadata": {},
   "outputs": [],
   "source": []
  }
 ],
 "metadata": {
  "kernelspec": {
   "display_name": "Python 3",
   "language": "python",
   "name": "python3"
  },
  "language_info": {
   "codemirror_mode": {
    "name": "ipython",
    "version": 3
   },
   "file_extension": ".py",
   "mimetype": "text/x-python",
   "name": "python",
   "nbconvert_exporter": "python",
   "pygments_lexer": "ipython3",
   "version": "3.8.8"
  }
 },
 "nbformat": 4,
 "nbformat_minor": 5
}
