{
 "cells": [
  {
   "cell_type": "code",
   "execution_count": 1,
   "id": "9e64ace8",
   "metadata": {},
   "outputs": [],
   "source": [
    "import pandas as pd\n",
    "import numpy as np\n",
    "import matplotlib.pyplot as plt\n",
    "import seaborn as sns"
   ]
  },
  {
   "cell_type": "markdown",
   "id": "f31df43c",
   "metadata": {},
   "source": [
    "# Adjusent R Squared"
   ]
  },
  {
   "cell_type": "markdown",
   "id": "1b10c9a9",
   "metadata": {},
   "source": [
    "1. Adjusted R-Squared takes into account the number of independent variable used for predicting the target variable\n",
    "2. so, determine whether adding new variable to the model actually increase the model fit"
   ]
  },
  {
   "cell_type": "markdown",
   "id": "e3a2746e",
   "metadata": {},
   "source": [
    "![](https://miro.medium.com/max/1024/1*kW2xSxbIb7laGRoEcgx8vg.jpeg)"
   ]
  },
  {
   "cell_type": "markdown",
   "id": "eb16e9d0",
   "metadata": {},
   "source": [
    "where,\n",
    "1. N - Number of data point in our dataset\n",
    "2. K or P - Number of Independent Variable\n",
    "3. R2 - Sample R squared"
   ]
  },
  {
   "cell_type": "code",
   "execution_count": 4,
   "id": "b1d10da3",
   "metadata": {},
   "outputs": [
    {
     "data": {
      "text/plain": [
       "-5.56"
      ]
     },
     "execution_count": 4,
     "metadata": {},
     "output_type": "execute_result"
    }
   ],
   "source": [
    "1 - (1 -0.3) * (5-1) / 5-5-1"
   ]
  },
  {
   "cell_type": "code",
   "execution_count": 5,
   "id": "8a5e6605",
   "metadata": {},
   "outputs": [
    {
     "data": {
      "text/plain": [
       "2.8"
      ]
     },
     "execution_count": 5,
     "metadata": {},
     "output_type": "execute_result"
    }
   ],
   "source": [
    "(0.7) * (4)"
   ]
  },
  {
   "cell_type": "code",
   "execution_count": 6,
   "id": "427f63fe",
   "metadata": {},
   "outputs": [
    {
     "data": {
      "text/plain": [
       "-1"
      ]
     },
     "execution_count": 6,
     "metadata": {},
     "output_type": "execute_result"
    }
   ],
   "source": [
    "5-5-1"
   ]
  },
  {
   "cell_type": "code",
   "execution_count": 7,
   "id": "59ca462f",
   "metadata": {},
   "outputs": [
    {
     "data": {
      "text/plain": [
       "3.8"
      ]
     },
     "execution_count": 7,
     "metadata": {},
     "output_type": "execute_result"
    }
   ],
   "source": [
    "1 - (2.8) / -1"
   ]
  },
  {
   "cell_type": "code",
   "execution_count": 8,
   "id": "cab02fd0",
   "metadata": {},
   "outputs": [
    {
     "data": {
      "text/plain": [
       "-2.8"
      ]
     },
     "execution_count": 8,
     "metadata": {},
     "output_type": "execute_result"
    }
   ],
   "source": [
    "2.8 / -1"
   ]
  },
  {
   "cell_type": "code",
   "execution_count": 9,
   "id": "e97f3947",
   "metadata": {},
   "outputs": [
    {
     "data": {
      "text/plain": [
       "3.8"
      ]
     },
     "execution_count": 9,
     "metadata": {},
     "output_type": "execute_result"
    }
   ],
   "source": [
    "1 - (-2.8)"
   ]
  },
  {
   "cell_type": "markdown",
   "id": "aaa6e01d",
   "metadata": {},
   "source": [
    "1. Mean\n",
    "2. Imputation Technique:\n",
    "    1. Mean\n",
    "    2. Mode\n",
    "    3. Median\n",
    "3. Standard Deviation\n",
    "4. Vairiance\n",
    "5. Linear Line\n",
    "6. R Squared\n",
    "7. Adjusted R Squared\n",
    "8. "
   ]
  },
  {
   "cell_type": "code",
   "execution_count": null,
   "id": "492de46b",
   "metadata": {},
   "outputs": [],
   "source": []
  }
 ],
 "metadata": {
  "kernelspec": {
   "display_name": "Python 3",
   "language": "python",
   "name": "python3"
  },
  "language_info": {
   "codemirror_mode": {
    "name": "ipython",
    "version": 3
   },
   "file_extension": ".py",
   "mimetype": "text/x-python",
   "name": "python",
   "nbconvert_exporter": "python",
   "pygments_lexer": "ipython3",
   "version": "3.8.8"
  }
 },
 "nbformat": 4,
 "nbformat_minor": 5
}
